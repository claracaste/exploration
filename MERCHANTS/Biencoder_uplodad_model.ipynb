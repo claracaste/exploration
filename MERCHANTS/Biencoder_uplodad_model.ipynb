{
 "cells": [
  {
   "cell_type": "code",
   "execution_count": 3,
   "metadata": {},
   "outputs": [
    {
     "name": "stdout",
     "output_type": "stream",
     "text": [
      "Successfully uploaded /home/sagemaker-user/models/model8/checkpoint-100/config_sentence_transformers.json to s3://cleo-data-science/transaction_enrichment/experimental_data/caste/pairs_model/model8/checkpoint-100/config_sentence_transformers.json\n",
      "Successfully uploaded /home/sagemaker-user/models/model8/checkpoint-100/config.json to s3://cleo-data-science/transaction_enrichment/experimental_data/caste/pairs_model/model8/checkpoint-100/config.json\n",
      "Successfully uploaded /home/sagemaker-user/models/model8/checkpoint-100/model.safetensors to s3://cleo-data-science/transaction_enrichment/experimental_data/caste/pairs_model/model8/checkpoint-100/model.safetensors\n",
      "Successfully uploaded /home/sagemaker-user/models/model8/checkpoint-100/tokenizer_config.json to s3://cleo-data-science/transaction_enrichment/experimental_data/caste/pairs_model/model8/checkpoint-100/tokenizer_config.json\n",
      "Successfully uploaded /home/sagemaker-user/models/model8/checkpoint-100/special_tokens_map.json to s3://cleo-data-science/transaction_enrichment/experimental_data/caste/pairs_model/model8/checkpoint-100/special_tokens_map.json\n",
      "Successfully uploaded /home/sagemaker-user/models/model8/checkpoint-100/vocab.txt to s3://cleo-data-science/transaction_enrichment/experimental_data/caste/pairs_model/model8/checkpoint-100/vocab.txt\n",
      "Successfully uploaded /home/sagemaker-user/models/model8/checkpoint-100/tokenizer.json to s3://cleo-data-science/transaction_enrichment/experimental_data/caste/pairs_model/model8/checkpoint-100/tokenizer.json\n",
      "Successfully uploaded /home/sagemaker-user/models/model8/checkpoint-100/sentence_bert_config.json to s3://cleo-data-science/transaction_enrichment/experimental_data/caste/pairs_model/model8/checkpoint-100/sentence_bert_config.json\n",
      "Successfully uploaded /home/sagemaker-user/models/model8/checkpoint-100/modules.json to s3://cleo-data-science/transaction_enrichment/experimental_data/caste/pairs_model/model8/checkpoint-100/modules.json\n",
      "Successfully uploaded /home/sagemaker-user/models/model8/checkpoint-100/README.md to s3://cleo-data-science/transaction_enrichment/experimental_data/caste/pairs_model/model8/checkpoint-100/README.md\n",
      "Successfully uploaded /home/sagemaker-user/models/model8/checkpoint-100/training_args.bin to s3://cleo-data-science/transaction_enrichment/experimental_data/caste/pairs_model/model8/checkpoint-100/training_args.bin\n",
      "Successfully uploaded /home/sagemaker-user/models/model8/checkpoint-100/optimizer.pt to s3://cleo-data-science/transaction_enrichment/experimental_data/caste/pairs_model/model8/checkpoint-100/optimizer.pt\n",
      "Successfully uploaded /home/sagemaker-user/models/model8/checkpoint-100/scheduler.pt to s3://cleo-data-science/transaction_enrichment/experimental_data/caste/pairs_model/model8/checkpoint-100/scheduler.pt\n",
      "Successfully uploaded /home/sagemaker-user/models/model8/checkpoint-100/rng_state.pth to s3://cleo-data-science/transaction_enrichment/experimental_data/caste/pairs_model/model8/checkpoint-100/rng_state.pth\n",
      "Successfully uploaded /home/sagemaker-user/models/model8/checkpoint-100/trainer_state.json to s3://cleo-data-science/transaction_enrichment/experimental_data/caste/pairs_model/model8/checkpoint-100/trainer_state.json\n",
      "Successfully uploaded /home/sagemaker-user/models/model8/checkpoint-100/1_Pooling/config.json to s3://cleo-data-science/transaction_enrichment/experimental_data/caste/pairs_model/model8/checkpoint-100/1_Pooling/config.json\n",
      "Successfully uploaded /home/sagemaker-user/models/model8/checkpoint-200/config_sentence_transformers.json to s3://cleo-data-science/transaction_enrichment/experimental_data/caste/pairs_model/model8/checkpoint-200/config_sentence_transformers.json\n",
      "Successfully uploaded /home/sagemaker-user/models/model8/checkpoint-200/config.json to s3://cleo-data-science/transaction_enrichment/experimental_data/caste/pairs_model/model8/checkpoint-200/config.json\n",
      "Successfully uploaded /home/sagemaker-user/models/model8/checkpoint-200/model.safetensors to s3://cleo-data-science/transaction_enrichment/experimental_data/caste/pairs_model/model8/checkpoint-200/model.safetensors\n",
      "Successfully uploaded /home/sagemaker-user/models/model8/checkpoint-200/tokenizer_config.json to s3://cleo-data-science/transaction_enrichment/experimental_data/caste/pairs_model/model8/checkpoint-200/tokenizer_config.json\n",
      "Successfully uploaded /home/sagemaker-user/models/model8/checkpoint-200/special_tokens_map.json to s3://cleo-data-science/transaction_enrichment/experimental_data/caste/pairs_model/model8/checkpoint-200/special_tokens_map.json\n",
      "Successfully uploaded /home/sagemaker-user/models/model8/checkpoint-200/vocab.txt to s3://cleo-data-science/transaction_enrichment/experimental_data/caste/pairs_model/model8/checkpoint-200/vocab.txt\n",
      "Successfully uploaded /home/sagemaker-user/models/model8/checkpoint-200/tokenizer.json to s3://cleo-data-science/transaction_enrichment/experimental_data/caste/pairs_model/model8/checkpoint-200/tokenizer.json\n",
      "Successfully uploaded /home/sagemaker-user/models/model8/checkpoint-200/sentence_bert_config.json to s3://cleo-data-science/transaction_enrichment/experimental_data/caste/pairs_model/model8/checkpoint-200/sentence_bert_config.json\n",
      "Successfully uploaded /home/sagemaker-user/models/model8/checkpoint-200/modules.json to s3://cleo-data-science/transaction_enrichment/experimental_data/caste/pairs_model/model8/checkpoint-200/modules.json\n",
      "Successfully uploaded /home/sagemaker-user/models/model8/checkpoint-200/README.md to s3://cleo-data-science/transaction_enrichment/experimental_data/caste/pairs_model/model8/checkpoint-200/README.md\n",
      "Successfully uploaded /home/sagemaker-user/models/model8/checkpoint-200/training_args.bin to s3://cleo-data-science/transaction_enrichment/experimental_data/caste/pairs_model/model8/checkpoint-200/training_args.bin\n",
      "Successfully uploaded /home/sagemaker-user/models/model8/checkpoint-200/optimizer.pt to s3://cleo-data-science/transaction_enrichment/experimental_data/caste/pairs_model/model8/checkpoint-200/optimizer.pt\n",
      "Successfully uploaded /home/sagemaker-user/models/model8/checkpoint-200/scheduler.pt to s3://cleo-data-science/transaction_enrichment/experimental_data/caste/pairs_model/model8/checkpoint-200/scheduler.pt\n",
      "Successfully uploaded /home/sagemaker-user/models/model8/checkpoint-200/rng_state.pth to s3://cleo-data-science/transaction_enrichment/experimental_data/caste/pairs_model/model8/checkpoint-200/rng_state.pth\n",
      "Successfully uploaded /home/sagemaker-user/models/model8/checkpoint-200/trainer_state.json to s3://cleo-data-science/transaction_enrichment/experimental_data/caste/pairs_model/model8/checkpoint-200/trainer_state.json\n",
      "Successfully uploaded /home/sagemaker-user/models/model8/checkpoint-200/1_Pooling/config.json to s3://cleo-data-science/transaction_enrichment/experimental_data/caste/pairs_model/model8/checkpoint-200/1_Pooling/config.json\n",
      "Successfully uploaded /home/sagemaker-user/models/model8/checkpoint-300/config_sentence_transformers.json to s3://cleo-data-science/transaction_enrichment/experimental_data/caste/pairs_model/model8/checkpoint-300/config_sentence_transformers.json\n",
      "Successfully uploaded /home/sagemaker-user/models/model8/checkpoint-300/config.json to s3://cleo-data-science/transaction_enrichment/experimental_data/caste/pairs_model/model8/checkpoint-300/config.json\n",
      "Successfully uploaded /home/sagemaker-user/models/model8/checkpoint-300/model.safetensors to s3://cleo-data-science/transaction_enrichment/experimental_data/caste/pairs_model/model8/checkpoint-300/model.safetensors\n",
      "Successfully uploaded /home/sagemaker-user/models/model8/checkpoint-300/tokenizer_config.json to s3://cleo-data-science/transaction_enrichment/experimental_data/caste/pairs_model/model8/checkpoint-300/tokenizer_config.json\n",
      "Successfully uploaded /home/sagemaker-user/models/model8/checkpoint-300/special_tokens_map.json to s3://cleo-data-science/transaction_enrichment/experimental_data/caste/pairs_model/model8/checkpoint-300/special_tokens_map.json\n",
      "Successfully uploaded /home/sagemaker-user/models/model8/checkpoint-300/vocab.txt to s3://cleo-data-science/transaction_enrichment/experimental_data/caste/pairs_model/model8/checkpoint-300/vocab.txt\n",
      "Successfully uploaded /home/sagemaker-user/models/model8/checkpoint-300/tokenizer.json to s3://cleo-data-science/transaction_enrichment/experimental_data/caste/pairs_model/model8/checkpoint-300/tokenizer.json\n",
      "Successfully uploaded /home/sagemaker-user/models/model8/checkpoint-300/sentence_bert_config.json to s3://cleo-data-science/transaction_enrichment/experimental_data/caste/pairs_model/model8/checkpoint-300/sentence_bert_config.json\n",
      "Successfully uploaded /home/sagemaker-user/models/model8/checkpoint-300/modules.json to s3://cleo-data-science/transaction_enrichment/experimental_data/caste/pairs_model/model8/checkpoint-300/modules.json\n",
      "Successfully uploaded /home/sagemaker-user/models/model8/checkpoint-300/README.md to s3://cleo-data-science/transaction_enrichment/experimental_data/caste/pairs_model/model8/checkpoint-300/README.md\n",
      "Successfully uploaded /home/sagemaker-user/models/model8/checkpoint-300/training_args.bin to s3://cleo-data-science/transaction_enrichment/experimental_data/caste/pairs_model/model8/checkpoint-300/training_args.bin\n",
      "Successfully uploaded /home/sagemaker-user/models/model8/checkpoint-300/optimizer.pt to s3://cleo-data-science/transaction_enrichment/experimental_data/caste/pairs_model/model8/checkpoint-300/optimizer.pt\n",
      "Successfully uploaded /home/sagemaker-user/models/model8/checkpoint-300/scheduler.pt to s3://cleo-data-science/transaction_enrichment/experimental_data/caste/pairs_model/model8/checkpoint-300/scheduler.pt\n",
      "Successfully uploaded /home/sagemaker-user/models/model8/checkpoint-300/rng_state.pth to s3://cleo-data-science/transaction_enrichment/experimental_data/caste/pairs_model/model8/checkpoint-300/rng_state.pth\n",
      "Successfully uploaded /home/sagemaker-user/models/model8/checkpoint-300/trainer_state.json to s3://cleo-data-science/transaction_enrichment/experimental_data/caste/pairs_model/model8/checkpoint-300/trainer_state.json\n",
      "Successfully uploaded /home/sagemaker-user/models/model8/checkpoint-300/1_Pooling/config.json to s3://cleo-data-science/transaction_enrichment/experimental_data/caste/pairs_model/model8/checkpoint-300/1_Pooling/config.json\n"
     ]
    }
   ],
   "source": [
    "#copy \n",
    "import os\n",
    "import boto3\n",
    "from botocore.exceptions import NoCredentialsError, PartialCredentialsError\n",
    "\n",
    "def upload_directory_to_s3(local_directory, bucket_name, s3_directory):\n",
    "    s3_client = boto3.client('s3')\n",
    "\n",
    "    for root, dirs, files in os.walk(local_directory):\n",
    "        for file in files:\n",
    "            local_path = os.path.join(root, file)\n",
    "            relative_path = os.path.relpath(local_path, local_directory)\n",
    "            s3_path = os.path.join(s3_directory, relative_path)\n",
    "\n",
    "            try:\n",
    "                s3_client.upload_file(local_path, bucket_name, s3_path)\n",
    "                print(f'Successfully uploaded {local_path} to s3://{bucket_name}/{s3_path}')\n",
    "            except FileNotFoundError:\n",
    "                print(f'The file {local_path} was not found')\n",
    "            except NoCredentialsError:\n",
    "                print('Credentials not available')\n",
    "            except PartialCredentialsError:\n",
    "                print('Incomplete credentials provided')\n",
    "\n",
    "# Example usage\n",
    "local_directory = \"/home/sagemaker-user/models/model8\"\n",
    "bucket_name = 'cleo-data-science'\n",
    "s3_directory = \"transaction_enrichment/experimental_data/caste/pairs_model/model8\"\n",
    "\n",
    "upload_directory_to_s3(local_directory, bucket_name, s3_directory)\n"
   ]
  },
  {
   "cell_type": "code",
   "execution_count": null,
   "metadata": {},
   "outputs": [],
   "source": []
  }
 ],
 "metadata": {
  "kernelspec": {
   "display_name": "base",
   "language": "python",
   "name": "python3"
  },
  "language_info": {
   "codemirror_mode": {
    "name": "ipython",
    "version": 3
   },
   "file_extension": ".py",
   "mimetype": "text/x-python",
   "name": "python",
   "nbconvert_exporter": "python",
   "pygments_lexer": "ipython3",
   "version": "3.10.14"
  }
 },
 "nbformat": 4,
 "nbformat_minor": 2
}
