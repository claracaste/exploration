{
 "cells": [
  {
   "cell_type": "code",
   "execution_count": 5,
   "metadata": {},
   "outputs": [],
   "source": [
    "#%pip install awswrangler\n",
    "import awswrangler as wr"
   ]
  },
  {
   "cell_type": "code",
   "execution_count": 2,
   "metadata": {},
   "outputs": [],
   "source": [
    "df_mapping_duplicates = \"s3://cleo-data-science/transaction_enrichment/experimental_data/caste/trx-merchant-pair/map_duplicates_cons_2024-05-15_2024-05-18_1.csv\"\n"
   ]
  },
  {
   "cell_type": "code",
   "execution_count": 3,
   "metadata": {},
   "outputs": [],
   "source": [
    "s3_path_merchant_embeddings = \"s3://cleo-data-science/transaction_enrichment/experimental_data/caste/embedding_predictions/model9/checkpoint-5000/merchant_embeddings_cons_2024-05-15_2024-05-18_1.parquet\""
   ]
  },
  {
   "cell_type": "code",
   "execution_count": 4,
   "metadata": {},
   "outputs": [],
   "source": [
    "s3_path_tx_embeddings = \"s3://cleo-data-science/transaction_enrichment/experimental_data/caste/embedding_predictions/model9/checkpoint-5000/with_merchant_embeddings_trans_2024-05-22_2024-05-22.parquet\"\n",
    "s3_path_tx_descriptions = \"s3://cleo-data-science/transaction_enrichment/experimental_data/caste/embedding_predictions/model9/checkpoint-5000/with_merchant_trans_2024-05-22_2024-05-22.parquet\"\n",
    "s3_path_tx_predictions = \"s3://cleo-data-science/transaction_enrichment/experimental_data/caste/embedding_predictions/model9/checkpoint-5000/predictions_with_merchant_embeddings_trans_2024-05-22_2024-05-22.parquet/\"\n",
    "# --- no merchant\n",
    "s3_path_tx_embeddings =\"s3://cleo-data-science/transaction_enrichment/experimental_data/caste/embedding_predictions/model9/checkpoint-5000/no_merchant_embeddings_trans_2024-05-22_2024-05-22.parquet\"\n",
    "s3_path_tx_descriptions = \"s3://cleo-data-science/transaction_enrichment/experimental_data/caste/embedding_predictions/model9/checkpoint-5000/no_merchant_trans_2024-05-22_2024-05-22.parquet\"\n",
    "s3_path_tx_predictions = \"s3://cleo-data-science/transaction_enrichment/experimental_data/caste/embedding_predictions/model9/checkpoint-5000/predictions_no_merchant_embeddings_trans_2024-05-22_2024-05-22.parquet/\"\n",
    "# --- with duplicates"
   ]
  },
  {
   "cell_type": "code",
   "execution_count": null,
   "metadata": {},
   "outputs": [],
   "source": []
  },
  {
   "cell_type": "code",
   "execution_count": null,
   "metadata": {},
   "outputs": [],
   "source": [
    "df_tx_embeddings = wr.s3.read_parquet(s3_path_tx_predictions)"
   ]
  },
  {
   "cell_type": "code",
   "execution_count": 6,
   "metadata": {},
   "outputs": [
    {
     "data": {
      "text/html": [
       "<div>\n",
       "<style scoped>\n",
       "    .dataframe tbody tr th:only-of-type {\n",
       "        vertical-align: middle;\n",
       "    }\n",
       "\n",
       "    .dataframe tbody tr th {\n",
       "        vertical-align: top;\n",
       "    }\n",
       "\n",
       "    .dataframe thead th {\n",
       "        text-align: right;\n",
       "    }\n",
       "</style>\n",
       "<table border=\"1\" class=\"dataframe\">\n",
       "  <thead>\n",
       "    <tr style=\"text-align: right;\">\n",
       "      <th></th>\n",
       "      <th>Unnamed: 0</th>\n",
       "      <th>merchant_name_combined</th>\n",
       "      <th>original_merchant_name_combined</th>\n",
       "    </tr>\n",
       "  </thead>\n",
       "  <tbody>\n",
       "    <tr>\n",
       "      <th>0</th>\n",
       "      <td>66140</td>\n",
       "      <td>Albert</td>\n",
       "      <td>W D</td>\n",
       "    </tr>\n",
       "    <tr>\n",
       "      <th>1</th>\n",
       "      <td>66351</td>\n",
       "      <td>Albert</td>\n",
       "      <td>Albert Cash</td>\n",
       "    </tr>\n",
       "    <tr>\n",
       "      <th>2</th>\n",
       "      <td>88797</td>\n",
       "      <td>Albert</td>\n",
       "      <td>Deferit</td>\n",
       "    </tr>\n",
       "    <tr>\n",
       "      <th>3</th>\n",
       "      <td>97317</td>\n",
       "      <td>Amazon</td>\n",
       "      <td>Point Of Sale Withdrawal</td>\n",
       "    </tr>\n",
       "    <tr>\n",
       "      <th>4</th>\n",
       "      <td>102313</td>\n",
       "      <td>Amazon</td>\n",
       "      <td>Withdrawal</td>\n",
       "    </tr>\n",
       "  </tbody>\n",
       "</table>\n",
       "</div>"
      ],
      "text/plain": [
       "   Unnamed: 0 merchant_name_combined original_merchant_name_combined\n",
       "0       66140                 Albert                             W D\n",
       "1       66351                 Albert                     Albert Cash\n",
       "2       88797                 Albert                         Deferit\n",
       "3       97317                 Amazon        Point Of Sale Withdrawal\n",
       "4      102313                 Amazon                      Withdrawal"
      ]
     },
     "execution_count": 6,
     "metadata": {},
     "output_type": "execute_result"
    }
   ],
   "source": [
    "df_dups_df = wr.s3.read_csv(df_mapping_duplicates)\n",
    "df_dups_df.head()"
   ]
  },
  {
   "cell_type": "code",
   "execution_count": 7,
   "metadata": {},
   "outputs": [],
   "source": [
    "dict_map_dups = dict(zip(df_dups_df['merchant_name_combined'].tolist(), df_dups_df['original_merchant_name_combined'].tolist()))\n"
   ]
  },
  {
   "cell_type": "code",
   "execution_count": null,
   "metadata": {},
   "outputs": [],
   "source": []
  },
  {
   "cell_type": "code",
   "execution_count": null,
   "metadata": {},
   "outputs": [],
   "source": [
    "df['category'] = df['category'].map(mapping)\n"
   ]
  },
  {
   "cell_type": "code",
   "execution_count": null,
   "metadata": {},
   "outputs": [],
   "source": [
    "th = 0.9\n",
    "\n",
    "df_filtered = df_tx_embeddings[df_tx_embeddings['pred_prob']>th]\n",
    "true_positives = df_filtered[df_filtered['pred_merchant'] == df_filtered['merchant_name']].shape[0]\n",
    "false_positives = df_filtered[df_filtered['pred_merchant'] != df_filtered['merchant_name']].shape[0]\n",
    "precision = true_positives/(true_positives+false_positives)\n",
    "#recall = true_positives/true_positives + false_negatives\n",
    "max_possible_matches = df_filtered[df_filtered['merchant_name'].isin(list_unique_merchants)].shape[0]\n",
    "recall = true_positives/n_max_possible_matches\n",
    "print(f\"Precision {precision} Recall {recall}\")"
   ]
  }
 ],
 "metadata": {
  "kernelspec": {
   "display_name": "Python 3",
   "language": "python",
   "name": "python3"
  },
  "language_info": {
   "codemirror_mode": {
    "name": "ipython",
    "version": 3
   },
   "file_extension": ".py",
   "mimetype": "text/x-python",
   "name": "python",
   "nbconvert_exporter": "python",
   "pygments_lexer": "ipython3",
   "version": "3.10.14"
  }
 },
 "nbformat": 4,
 "nbformat_minor": 2
}
