{
 "cells": [
  {
   "cell_type": "markdown",
   "metadata": {},
   "source": [
    "# Deduplication 2nd step (no amounts) pointwise\n",
    "\n",
    "sentence 1 = Take TX + merchant1, \n",
    "\n",
    "sentence 2 = Take TX + merchant2\n",
    "\n",
    "label =1 , if merchant 1 = m2\n",
    "\n",
    "\n",
    "\n",
    "The candidate duplicates for merchant 1 should be retrieved from a first candidate selection step"
   ]
  },
  {
   "cell_type": "markdown",
   "metadata": {},
   "source": []
  },
  {
   "cell_type": "code",
   "execution_count": 1,
   "metadata": {},
   "outputs": [
    {
     "data": {
      "text/plain": [
       "\"\\nDROP TABLE  IF EXISTS  tmp_counterparty_diff_23_06_24_06;\\n--DROP TABLE tmp_trans_23_06_24_06\\nCREATE TABLE tmp_counterparty_diff_23_06_24_06 AS\\nselect ftt.transaction_id,\\n       ftt.corrected_made_on,\\n       ftt.amount,\\n       ftt.currency_code,\\n       ftt.description,\\n    json_extract_path_text(ftt.login_provider_additional_attributes, 'original_description')\\n        as original_description_plaid,\\n       ftt.merchant_name,\\n       json_extract_path_text(ftt.login_provider_additional_attributes, 'merchant_name') as merchant_name_plaid,\\n    json_extract_path_text(ftt.login_provider_additional_attributes, 'transaction_type')\\n        as transaction_type_plaid,\\n      json_extract_path_text(ftt.login_provider_additional_attributes, 'counterparties', '0', 'name') AS counterparty_name,\\n    json_extract_path_text(ftt.login_provider_additional_attributes, 'counterparties', '0', 'type') AS counterparty_type,\\n    --json_extract_path_text(ftt.login_provider_additional_attributes, 'counterparties', '0', 'website') AS counterparty_website,\\n    --json_extract_path_text(ftt.login_provider_additional_attributes, 'counterparties', '0', 'logo_url') AS counterparty_logo_url,\\n    --json_extract_path_text(ftt.login_provider_additional_attributes, 'counterparties', '0', 'entity_id') AS counterparty_entity_id,\\n    --json_extract_path_text(ftt.login_provider_additional_attributes, 'counterparties', '0', 'confidence_level') AS counterparty_confidence_level,\\n       ftt.merchant_id,\\n       ftt.company,\\n        json_extract_path_text(ftt.login_provider_additional_attributes, 'personal_finance_category', 'detailed')\\n        as category_detailed_plaid,\\n        json_extract_path_text(ftt.login_provider_additional_attributes, 'personal_finance_category', 'primary')\\n        as category_primary_plaid,\\n        --json_extract_path_text(ftt.login_provider_additional_attributes, 'payment_channel')\\n        --as payment_channel,\\n        --json_extract_path_text(ftt.login_provider_additional_attributes, 'payment_method')\\n        --as payment_method,\\n        --json_extract_path_text(ftt.login_provider_additional_attributes, 'payment_processor_method')\\n        --as payment_processor_method,\\n        --json_extract_path_text(ftt.login_provider_additional_attributes, 'location','city')\\n        --as city,\\n        --json_extract_path_text(ftt.login_provider_additional_attributes, 'location','region')\\n        --as region,\\n        --json_extract_path_text(ftt.login_provider_additional_attributes, 'location','country')\\n        --as country,\\n        --ftt.status,\\n       --ftt.decline_code,\\n      --ftt.login_provider_additional_attributes,\\n     -- COALESCE(\\n     --       merchant_name,\\n     --       CASE\\n     --           WHEN counterparty_type = 'merchant' THEN counterparty_name\\n      --          ELSE NULL\\n      --      END\\n      --  ) AS merchant_name_combined,\\n\\n    COALESCE(\\n    original_description_plaid, description\\n    ) AS description_combined\\nfrom analytics.fct_transactions ftt\\nwhere corrected_made_on >= '2024-05-05' and corrected_made_on <= '2024-06-05'\\nand description_combined is not null\\nand description_combined != ''\\nAND description_combined != ' '\\nand amount != 0.0\\nand description_combined != merchant_name\\nand description_combined != merchant_name_plaid\\n\\n-- and json_extract_path_text(ftt.login_provider_additional_attributes, 'counterparties', '0', 'type') = 'merchant'\\nand merchant_name is not null\\nAND merchant_name_plaid is not null\\n  and merchant_name not in ('',' ')\\nAND merchant_name_plaid  not in  ('',' ')\\nand category_primary_plaid NOT IN ('BANK_FEES','TRANSFER_IN','TRANSFER_OUT','LOAN_PAYMENTS')\\nand lower(replace(merchant_name,' ','')) != lower(replace(merchant_name_plaid,' ',''))\\nORDER BY RAND()\\nlimit 1000000;\\n\\n\\nselect *\\nfrom tmp_counterparty_diff_23_06_24_06\\nlimit 1000;\\n\\n\\nDROP TABLE  IF EXISTS  tmp_counterparty_same_23_06_24_06;\\n--DROP TABLE tmp_trans_23_06_24_06\\nCREATE TABLE tmp_counterparty_same_23_06_24_06 AS\\nselect ftt.transaction_id,\\n       ftt.corrected_made_on,\\n       ftt.amount,\\n       ftt.currency_code,\\n       ftt.description,\\n    json_extract_path_text(ftt.login_provider_additional_attributes, 'original_description')\\n        as original_description_plaid,\\n       ftt.merchant_name,\\n       json_extract_path_text(ftt.login_provider_additional_attributes, 'merchant_name') as merchant_name_plaid,\\n    json_extract_path_text(ftt.login_provider_additional_attributes, 'transaction_type')\\n        as transaction_type_plaid,\\n      json_extract_path_text(ftt.login_provider_additional_attributes, 'counterparties', '0', 'name') AS counterparty_name,\\n    json_extract_path_text(ftt.login_provider_additional_attributes, 'counterparties', '0', 'type') AS counterparty_type,\\n    --json_extract_path_text(ftt.login_provider_additional_attributes, 'counterparties', '0', 'website') AS counterparty_website,\\n    --json_extract_path_text(ftt.login_provider_additional_attributes, 'counterparties', '0', 'logo_url') AS counterparty_logo_url,\\n    --json_extract_path_text(ftt.login_provider_additional_attributes, 'counterparties', '0', 'entity_id') AS counterparty_entity_id,\\n    --json_extract_path_text(ftt.login_provider_additional_attributes, 'counterparties', '0', 'confidence_level') AS counterparty_confidence_level,\\n       ftt.merchant_id,\\n       ftt.company,\\n        json_extract_path_text(ftt.login_provider_additional_attributes, 'personal_finance_category', 'detailed')\\n        as category_detailed_plaid,\\n        json_extract_path_text(ftt.login_provider_additional_attributes, 'personal_finance_category', 'primary')\\n        as category_primary_plaid,\\n        --json_extract_path_text(ftt.login_provider_additional_attributes, 'payment_channel')\\n        --as payment_channel,\\n        --json_extract_path_text(ftt.login_provider_additional_attributes, 'payment_method')\\n        --as payment_method,\\n        --json_extract_path_text(ftt.login_provider_additional_attributes, 'payment_processor_method')\\n        --as payment_processor_method,\\n        --json_extract_path_text(ftt.login_provider_additional_attributes, 'location','city')\\n        --as city,\\n        --json_extract_path_text(ftt.login_provider_additional_attributes, 'location','region')\\n        --as region,\\n        --json_extract_path_text(ftt.login_provider_additional_attributes, 'location','country')\\n        --as country,\\n        --ftt.status,\\n       --ftt.decline_code,\\n      --ftt.login_provider_additional_attributes,\\n      --COALESCE(\\n      --      merchant_name,\\n       --     CASE\\n        --        WHEN counterparty_type = 'merchant' THEN counterparty_name\\n         --       ELSE NULL\\n        --    END\\n       -- ) AS merchant_name_combined,\\n\\n    COALESCE(\\n    original_description_plaid, description\\n    ) AS description_combined\\nfrom analytics.fct_transactions ftt\\nwhere corrected_made_on >= '2024-05-05' and corrected_made_on <= '2024-06-05'\\nand description_combined is not null\\nand description_combined != ''\\nAND description_combined != ' '\\nand amount != 0.0\\nand description_combined != merchant_name\\nand description_combined != merchant_name_plaid\\n--and json_extract_path_text(ftt.login_provider_additional_attributes, 'counterparties', '0', 'type') = 'merchant'\\nand merchant_name is not null\\nAND merchant_name_plaid is not null\\nand merchant_name not in ('',' ')\\nAND merchant_name_plaid  not in  ('',' ')\\nand category_primary_plaid NOT IN ('BANK_FEES','TRANSFER_IN','TRANSFER_OUT')\\nand lower(replace(merchant_name,' ','')) = lower(replace(merchant_name_plaid,' ',''))\\nORDER BY RAND()\\nlimit 1000000;\\n\\nselect *\\n    from tmp_counterparty_same_23_06_24_06\\n        limit 100;\\n--------------------------------------------\\n\\ndrop table if exists tmp_distinct_merchants\\ncreate table tmp_distinct_merchants\\nselect distinct description, merchant_name, category_detailed_plaid\\n    from tmp_counterparty_same_23_06_24_06\\n\\n\\n---- create negative samples --------------\\nDROP TABLE IF EXISTS tmp_distinct_merchants\\nCREATE TABLE tmp_distinct_merchants AS\\nSELECT DISTINCT merchant_name2, category_detailed_plaid2\\nFROM tmp_counterparty_same_23_06_24_06_NEG;\\n\\nselect * from tmp_distinct_merchants\\n\\nselect category_detailed_plaid2, count(merchant_name2) as num_merchs\\nfrom tmp_distinct_merchants\\ngroup by  category_detailed_plaid2\\n\\n\\nDROP TABLE IF EXISTS tmp_distinct_merchants_small\\nCREATE TABLE tmp_distinct_merchants_small AS\\nSELECT * FROM (\\n    SELECT *,\\n           ROW_NUMBER() OVER (PARTITION BY category_detailed_plaid2 ORDER BY RANDOM()) AS rn3\\n    FROM tmp_distinct_merchants\\n) AS subquery\\nWHERE rn3 <= 100;\\n\\nselect category_detailed_plaid2, count(merchant_name2) as num_merchs\\nfrom tmp_distinct_merchants_small\\ngroup by  category_detailed_plaid2\\n\\n\\n-- alter table tmp_counterparty_diff_23_06_24_06\\n--     drop column label\\n\\nselect * from tmp_counterparty_diff_23_06_24_06 limit 10\\n\\n-- join the two table on category\\nDROP TABLE IF EXISTS tmp_counterparty_same_23_06_24_06_NEG_samples3;\\nCREATE TABLE tmp_counterparty_same_23_06_24_06_NEG_samples3 AS\\nselect tmp_counterparty_diff_23_06_24_06.*, t2.merchant_name2\\nfrom tmp_counterparty_diff_23_06_24_06\\nINNER join (select  merchant_name2,  category_detailed_plaid2\\n          from tmp_distinct_merchants_small  ) t2\\non tmp_counterparty_diff_23_06_24_06.category_detailed_plaid = t2.category_detailed_plaid2\\nwhere\\n tmp_counterparty_diff_23_06_24_06.merchant_name != t2.merchant_name2\\n\\nselect * from tmp_counterparty_same_23_06_24_06_NEG_samples3 limit 10\\n\\nselect count(*) from tmp_counterparty_same_23_06_24_06_NEG_samples3\\n\\n--- downsample as this is massive\\nDROP table if exists tmp_counterparty_same_23_06_24_06_NEG_samples\\nCREATE TABLE tmp_counterparty_same_23_06_24_06_NEG_samples AS\\nSELECT * FROM (\\n    SELECT *,\\n           ROW_NUMBER() OVER (PARTITION BY transaction_id ORDER BY RANDOM()) AS rn3\\n    FROM tmp_counterparty_same_23_06_24_06_NEG_samples3\\n) AS subquery\\nWHERE rn3 <= 4;\\n\\nselect count(*) from tmp_counterparty_same_23_06_24_06_NEG_samples\\n\\nselect * from tmp_counterparty_same_23_06_24_06_NEG_samples limit 10\\n\\n\\nALTER TABLE tmp_counterparty_same_23_06_24_06_NEG_samples\\nDROP COLUMN rn3\\n-----------------------\\n\\nselect * from tmp_counterparty_diff_23_06_24_06 limit 100\\n\\nselect * from tmp_counterparty_same_23_06_24_06 limit 100\\n\\n\\n\\n\\n----- Where Cleo merchant and plaid merchant are different , add a merchant2 =  to indicate they are duplicates\\nALTER TABLE tmp_counterparty_diff_23_06_24_06 ADD COLUMN merchant_name2 varchar(256);\\nUPDATE tmp_counterparty_diff_23_06_24_06 SET merchant_name2 = counterparty_name;\\n----- Where Cleo merchant and plaid merchant are different , add a label = 1 to indicate they are duplicates\\nALTER TABLE tmp_counterparty_diff_23_06_24_06 ADD COLUMN label INT;\\nupdate tmp_counterparty_diff_23_06_24_06 set label = 1::INT;\\n\\n\\n\\nselect count(*) from tmp_counterparty_same_23_06_24_06_NEG_samples\\nselect count(*) from tmp_counterparty_diff_23_06_24_06\\n\\n\\n\\n----- addd label 0 where they are not duplicates\\nALTER TABLE tmp_counterparty_same_23_06_24_06_NEG_samples ADD COLUMN label INT;\\nupdate tmp_counterparty_same_23_06_24_06_NEG_samples set label = 0::INT;\\n---- get a ra\\n\\n------ create table of pairs\\nDROP TABLE IF EXISTS tmp_counterparty_merchant_23_06_24_06_pairs;\\nCREATE TABLE tmp_counterparty_merchant_23_06_24_06_pairs AS\\nSELECT *\\nFROM tmp_counterparty_diff_23_06_24_06\\nWHERE 1 = 0;  -- This ensures no data is copied, just the structure\\n\\n\\n--- concatenate positive and negative samples\\nINSERT INTO tmp_counterparty_merchant_23_06_24_06_pairs\\nSELECT * FROM tmp_counterparty_diff_23_06_24_06\\nUNION ALL\\nSELECT * FROM tmp_counterparty_same_23_06_24_06_NEG_samples;\\n\\nselect count(*) from tmp_counterparty_merchant_23_06_24_06_pairs\\n\\nselect * from tmp_counterparty_merchant_23_06_24_06_pairs limit 10\\n\\nselect * from tmp_counterparty_same_23_06_24_06_NEG_samples limit 10\\nselect * from tmp_counterparty_diff_23_06_24_06 limit 10\\n\\n-- Add a new column if it doesn't exist\\n---ALTER TABLE tmp_trans_23_06_24_06_pairs DROP COLUMN description_combined_processed ;\\n\\n\\n\\nALTER TABLE tmp_counterparty_merchant_23_06_24_06_pairs ADD COLUMN description_combined_processed varchar(65535);\\n-- Update the column with chained REGEXP_REPLACE functions\\n-- Replace sequences of `\\\\+` with `\\\\`\\nUPDATE tmp_counterparty_merchant_23_06_24_06_pairs\\nSET description_combined_processed = REGEXP_REPLACE(original_description_plaid, '\\\\\\\\+', '\\\\');\\n\\n\\n\\n-- Replace sequences of any character repeated 4 or more times with a space\\nUPDATE tmp_counterparty_merchant_23_06_24_06_pairs\\nSET description_combined_processed = REGEXP_REPLACE(original_description_plaid, '\\\\d{4,}', ' ');\\n\\n-- Replace sequences of any character repeated 4 or more times with a space\\nUPDATE tmp_counterparty_merchant_23_06_24_06_pairs\\nSET description_combined_processed = REGEXP_REPLACE(original_description_plaid, '(.)\\\\\\\\1{3,}', '');\\n\\n-- Replace multiple spaces with a single space\\nUPDATE tmp_counterparty_merchant_23_06_24_06_pairs\\nSET description_combined_processed = REGEXP_REPLACE(original_description_plaid, ' +', ' ');\\n\\n\\n-- DROP TABLE IF EXISTS tmp_merchant_pairs_23_06_24_06tmp_merchant_transaction_counts\\nSELECT * FROM tmp_merchant_transaction_counts\\n\\n--- CREATE Validation dataset\\n\""
      ]
     },
     "execution_count": 1,
     "metadata": {},
     "output_type": "execute_result"
    }
   ],
   "source": [
    "\"\"\"\n",
    "DROP TABLE  IF EXISTS  tmp_counterparty_diff_23_06_24_06;\n",
    "--DROP TABLE tmp_trans_23_06_24_06\n",
    "CREATE TABLE tmp_counterparty_diff_23_06_24_06 AS\n",
    "select ftt.transaction_id,\n",
    "       ftt.corrected_made_on,\n",
    "       ftt.amount,\n",
    "       ftt.currency_code,\n",
    "       ftt.description,\n",
    "    json_extract_path_text(ftt.login_provider_additional_attributes, 'original_description')\n",
    "        as original_description_plaid,\n",
    "       ftt.merchant_name,\n",
    "       json_extract_path_text(ftt.login_provider_additional_attributes, 'merchant_name') as merchant_name_plaid,\n",
    "    json_extract_path_text(ftt.login_provider_additional_attributes, 'transaction_type')\n",
    "        as transaction_type_plaid,\n",
    "      json_extract_path_text(ftt.login_provider_additional_attributes, 'counterparties', '0', 'name') AS counterparty_name,\n",
    "    json_extract_path_text(ftt.login_provider_additional_attributes, 'counterparties', '0', 'type') AS counterparty_type,\n",
    "    --json_extract_path_text(ftt.login_provider_additional_attributes, 'counterparties', '0', 'website') AS counterparty_website,\n",
    "    --json_extract_path_text(ftt.login_provider_additional_attributes, 'counterparties', '0', 'logo_url') AS counterparty_logo_url,\n",
    "    --json_extract_path_text(ftt.login_provider_additional_attributes, 'counterparties', '0', 'entity_id') AS counterparty_entity_id,\n",
    "    --json_extract_path_text(ftt.login_provider_additional_attributes, 'counterparties', '0', 'confidence_level') AS counterparty_confidence_level,\n",
    "       ftt.merchant_id,\n",
    "       ftt.company,\n",
    "        json_extract_path_text(ftt.login_provider_additional_attributes, 'personal_finance_category', 'detailed')\n",
    "        as category_detailed_plaid,\n",
    "        json_extract_path_text(ftt.login_provider_additional_attributes, 'personal_finance_category', 'primary')\n",
    "        as category_primary_plaid,\n",
    "        --json_extract_path_text(ftt.login_provider_additional_attributes, 'payment_channel')\n",
    "        --as payment_channel,\n",
    "        --json_extract_path_text(ftt.login_provider_additional_attributes, 'payment_method')\n",
    "        --as payment_method,\n",
    "        --json_extract_path_text(ftt.login_provider_additional_attributes, 'payment_processor_method')\n",
    "        --as payment_processor_method,\n",
    "        --json_extract_path_text(ftt.login_provider_additional_attributes, 'location','city')\n",
    "        --as city,\n",
    "        --json_extract_path_text(ftt.login_provider_additional_attributes, 'location','region')\n",
    "        --as region,\n",
    "        --json_extract_path_text(ftt.login_provider_additional_attributes, 'location','country')\n",
    "        --as country,\n",
    "        --ftt.status,\n",
    "       --ftt.decline_code,\n",
    "      --ftt.login_provider_additional_attributes,\n",
    "     -- COALESCE(\n",
    "     --       merchant_name,\n",
    "     --       CASE\n",
    "     --           WHEN counterparty_type = 'merchant' THEN counterparty_name\n",
    "      --          ELSE NULL\n",
    "      --      END\n",
    "      --  ) AS merchant_name_combined,\n",
    "\n",
    "    COALESCE(\n",
    "    original_description_plaid, description\n",
    "    ) AS description_combined\n",
    "from analytics.fct_transactions ftt\n",
    "where corrected_made_on >= '2024-05-05' and corrected_made_on <= '2024-06-05'\n",
    "and description_combined is not null\n",
    "and description_combined != ''\n",
    "AND description_combined != ' '\n",
    "and amount != 0.0\n",
    "and description_combined != merchant_name\n",
    "and description_combined != merchant_name_plaid\n",
    "\n",
    "-- and json_extract_path_text(ftt.login_provider_additional_attributes, 'counterparties', '0', 'type') = 'merchant'\n",
    "and merchant_name is not null\n",
    "AND merchant_name_plaid is not null\n",
    "  and merchant_name not in ('',' ')\n",
    "AND merchant_name_plaid  not in  ('',' ')\n",
    "and category_primary_plaid NOT IN ('BANK_FEES','TRANSFER_IN','TRANSFER_OUT','LOAN_PAYMENTS')\n",
    "and lower(replace(merchant_name,' ','')) != lower(replace(merchant_name_plaid,' ',''))\n",
    "ORDER BY RAND()\n",
    "limit 1000000;\n",
    "\n",
    "\n",
    "select *\n",
    "from tmp_counterparty_diff_23_06_24_06\n",
    "limit 1000;\n",
    "\n",
    "\n",
    "DROP TABLE  IF EXISTS  tmp_counterparty_same_23_06_24_06;\n",
    "--DROP TABLE tmp_trans_23_06_24_06\n",
    "CREATE TABLE tmp_counterparty_same_23_06_24_06 AS\n",
    "select ftt.transaction_id,\n",
    "       ftt.corrected_made_on,\n",
    "       ftt.amount,\n",
    "       ftt.currency_code,\n",
    "       ftt.description,\n",
    "    json_extract_path_text(ftt.login_provider_additional_attributes, 'original_description')\n",
    "        as original_description_plaid,\n",
    "       ftt.merchant_name,\n",
    "       json_extract_path_text(ftt.login_provider_additional_attributes, 'merchant_name') as merchant_name_plaid,\n",
    "    json_extract_path_text(ftt.login_provider_additional_attributes, 'transaction_type')\n",
    "        as transaction_type_plaid,\n",
    "      json_extract_path_text(ftt.login_provider_additional_attributes, 'counterparties', '0', 'name') AS counterparty_name,\n",
    "    json_extract_path_text(ftt.login_provider_additional_attributes, 'counterparties', '0', 'type') AS counterparty_type,\n",
    "    --json_extract_path_text(ftt.login_provider_additional_attributes, 'counterparties', '0', 'website') AS counterparty_website,\n",
    "    --json_extract_path_text(ftt.login_provider_additional_attributes, 'counterparties', '0', 'logo_url') AS counterparty_logo_url,\n",
    "    --json_extract_path_text(ftt.login_provider_additional_attributes, 'counterparties', '0', 'entity_id') AS counterparty_entity_id,\n",
    "    --json_extract_path_text(ftt.login_provider_additional_attributes, 'counterparties', '0', 'confidence_level') AS counterparty_confidence_level,\n",
    "       ftt.merchant_id,\n",
    "       ftt.company,\n",
    "        json_extract_path_text(ftt.login_provider_additional_attributes, 'personal_finance_category', 'detailed')\n",
    "        as category_detailed_plaid,\n",
    "        json_extract_path_text(ftt.login_provider_additional_attributes, 'personal_finance_category', 'primary')\n",
    "        as category_primary_plaid,\n",
    "        --json_extract_path_text(ftt.login_provider_additional_attributes, 'payment_channel')\n",
    "        --as payment_channel,\n",
    "        --json_extract_path_text(ftt.login_provider_additional_attributes, 'payment_method')\n",
    "        --as payment_method,\n",
    "        --json_extract_path_text(ftt.login_provider_additional_attributes, 'payment_processor_method')\n",
    "        --as payment_processor_method,\n",
    "        --json_extract_path_text(ftt.login_provider_additional_attributes, 'location','city')\n",
    "        --as city,\n",
    "        --json_extract_path_text(ftt.login_provider_additional_attributes, 'location','region')\n",
    "        --as region,\n",
    "        --json_extract_path_text(ftt.login_provider_additional_attributes, 'location','country')\n",
    "        --as country,\n",
    "        --ftt.status,\n",
    "       --ftt.decline_code,\n",
    "      --ftt.login_provider_additional_attributes,\n",
    "      --COALESCE(\n",
    "      --      merchant_name,\n",
    "       --     CASE\n",
    "        --        WHEN counterparty_type = 'merchant' THEN counterparty_name\n",
    "         --       ELSE NULL\n",
    "        --    END\n",
    "       -- ) AS merchant_name_combined,\n",
    "\n",
    "    COALESCE(\n",
    "    original_description_plaid, description\n",
    "    ) AS description_combined\n",
    "from analytics.fct_transactions ftt\n",
    "where corrected_made_on >= '2024-05-05' and corrected_made_on <= '2024-06-05'\n",
    "and description_combined is not null\n",
    "and description_combined != ''\n",
    "AND description_combined != ' '\n",
    "and amount != 0.0\n",
    "and description_combined != merchant_name\n",
    "and description_combined != merchant_name_plaid\n",
    "--and json_extract_path_text(ftt.login_provider_additional_attributes, 'counterparties', '0', 'type') = 'merchant'\n",
    "and merchant_name is not null\n",
    "AND merchant_name_plaid is not null\n",
    "and merchant_name not in ('',' ')\n",
    "AND merchant_name_plaid  not in  ('',' ')\n",
    "and category_primary_plaid NOT IN ('BANK_FEES','TRANSFER_IN','TRANSFER_OUT')\n",
    "and lower(replace(merchant_name,' ','')) = lower(replace(merchant_name_plaid,' ',''))\n",
    "ORDER BY RAND()\n",
    "limit 1000000;\n",
    "\n",
    "select *\n",
    "    from tmp_counterparty_same_23_06_24_06\n",
    "        limit 100;\n",
    "--------------------------------------------\n",
    "\n",
    "drop table if exists tmp_distinct_merchants\n",
    "create table tmp_distinct_merchants\n",
    "select distinct description, merchant_name, category_detailed_plaid\n",
    "    from tmp_counterparty_same_23_06_24_06\n",
    "\n",
    "\n",
    "---- create negative samples --------------\n",
    "DROP TABLE IF EXISTS tmp_distinct_merchants\n",
    "CREATE TABLE tmp_distinct_merchants AS\n",
    "SELECT DISTINCT merchant_name2, category_detailed_plaid2\n",
    "FROM tmp_counterparty_same_23_06_24_06_NEG;\n",
    "\n",
    "select * from tmp_distinct_merchants\n",
    "\n",
    "select category_detailed_plaid2, count(merchant_name2) as num_merchs\n",
    "from tmp_distinct_merchants\n",
    "group by  category_detailed_plaid2\n",
    "\n",
    "\n",
    "DROP TABLE IF EXISTS tmp_distinct_merchants_small\n",
    "CREATE TABLE tmp_distinct_merchants_small AS\n",
    "SELECT * FROM (\n",
    "    SELECT *,\n",
    "           ROW_NUMBER() OVER (PARTITION BY category_detailed_plaid2 ORDER BY RANDOM()) AS rn3\n",
    "    FROM tmp_distinct_merchants\n",
    ") AS subquery\n",
    "WHERE rn3 <= 100;\n",
    "\n",
    "select category_detailed_plaid2, count(merchant_name2) as num_merchs\n",
    "from tmp_distinct_merchants_small\n",
    "group by  category_detailed_plaid2\n",
    "\n",
    "\n",
    "-- alter table tmp_counterparty_diff_23_06_24_06\n",
    "--     drop column label\n",
    "\n",
    "select * from tmp_counterparty_diff_23_06_24_06 limit 10\n",
    "\n",
    "-- join the two table on category\n",
    "DROP TABLE IF EXISTS tmp_counterparty_same_23_06_24_06_NEG_samples3;\n",
    "CREATE TABLE tmp_counterparty_same_23_06_24_06_NEG_samples3 AS\n",
    "select tmp_counterparty_diff_23_06_24_06.*, t2.merchant_name2\n",
    "from tmp_counterparty_diff_23_06_24_06\n",
    "INNER join (select  merchant_name2,  category_detailed_plaid2\n",
    "          from tmp_distinct_merchants_small  ) t2\n",
    "on tmp_counterparty_diff_23_06_24_06.category_detailed_plaid = t2.category_detailed_plaid2\n",
    "where\n",
    " tmp_counterparty_diff_23_06_24_06.merchant_name != t2.merchant_name2\n",
    "\n",
    "select * from tmp_counterparty_same_23_06_24_06_NEG_samples3 limit 10\n",
    "\n",
    "select count(*) from tmp_counterparty_same_23_06_24_06_NEG_samples3\n",
    "\n",
    "--- downsample as this is massive\n",
    "DROP table if exists tmp_counterparty_same_23_06_24_06_NEG_samples\n",
    "CREATE TABLE tmp_counterparty_same_23_06_24_06_NEG_samples AS\n",
    "SELECT * FROM (\n",
    "    SELECT *,\n",
    "           ROW_NUMBER() OVER (PARTITION BY transaction_id ORDER BY RANDOM()) AS rn3\n",
    "    FROM tmp_counterparty_same_23_06_24_06_NEG_samples3\n",
    ") AS subquery\n",
    "WHERE rn3 <= 4;\n",
    "\n",
    "select count(*) from tmp_counterparty_same_23_06_24_06_NEG_samples\n",
    "\n",
    "select * from tmp_counterparty_same_23_06_24_06_NEG_samples limit 10\n",
    "\n",
    "\n",
    "ALTER TABLE tmp_counterparty_same_23_06_24_06_NEG_samples\n",
    "DROP COLUMN rn3\n",
    "-----------------------\n",
    "\n",
    "select * from tmp_counterparty_diff_23_06_24_06 limit 100\n",
    "\n",
    "select * from tmp_counterparty_same_23_06_24_06 limit 100\n",
    "\n",
    "\n",
    "\n",
    "\n",
    "----- Where Cleo merchant and plaid merchant are different , add a merchant2 =  to indicate they are duplicates\n",
    "ALTER TABLE tmp_counterparty_diff_23_06_24_06 ADD COLUMN merchant_name2 varchar(256);\n",
    "UPDATE tmp_counterparty_diff_23_06_24_06 SET merchant_name2 = counterparty_name;\n",
    "----- Where Cleo merchant and plaid merchant are different , add a label = 1 to indicate they are duplicates\n",
    "ALTER TABLE tmp_counterparty_diff_23_06_24_06 ADD COLUMN label INT;\n",
    "update tmp_counterparty_diff_23_06_24_06 set label = 1::INT;\n",
    "\n",
    "\n",
    "\n",
    "select count(*) from tmp_counterparty_same_23_06_24_06_NEG_samples\n",
    "select count(*) from tmp_counterparty_diff_23_06_24_06\n",
    "\n",
    "\n",
    "\n",
    "----- addd label 0 where they are not duplicates\n",
    "ALTER TABLE tmp_counterparty_same_23_06_24_06_NEG_samples ADD COLUMN label INT;\n",
    "update tmp_counterparty_same_23_06_24_06_NEG_samples set label = 0::INT;\n",
    "---- get a ra\n",
    "\n",
    "------ create table of pairs\n",
    "DROP TABLE IF EXISTS tmp_counterparty_merchant_23_06_24_06_pairs;\n",
    "CREATE TABLE tmp_counterparty_merchant_23_06_24_06_pairs AS\n",
    "SELECT *\n",
    "FROM tmp_counterparty_diff_23_06_24_06\n",
    "WHERE 1 = 0;  -- This ensures no data is copied, just the structure\n",
    "\n",
    "\n",
    "--- concatenate positive and negative samples\n",
    "INSERT INTO tmp_counterparty_merchant_23_06_24_06_pairs\n",
    "SELECT * FROM tmp_counterparty_diff_23_06_24_06\n",
    "UNION ALL\n",
    "SELECT * FROM tmp_counterparty_same_23_06_24_06_NEG_samples;\n",
    "\n",
    "select count(*) from tmp_counterparty_merchant_23_06_24_06_pairs\n",
    "\n",
    "select * from tmp_counterparty_merchant_23_06_24_06_pairs limit 10\n",
    "\n",
    "select * from tmp_counterparty_same_23_06_24_06_NEG_samples limit 10\n",
    "select * from tmp_counterparty_diff_23_06_24_06 limit 10\n",
    "\n",
    "-- Add a new column if it doesn't exist\n",
    "---ALTER TABLE tmp_trans_23_06_24_06_pairs DROP COLUMN description_combined_processed ;\n",
    "\n",
    "\n",
    "\n",
    "ALTER TABLE tmp_counterparty_merchant_23_06_24_06_pairs ADD COLUMN description_combined_processed varchar(65535);\n",
    "-- Update the column with chained REGEXP_REPLACE functions\n",
    "-- Replace sequences of `\\+` with `\\`\n",
    "UPDATE tmp_counterparty_merchant_23_06_24_06_pairs\n",
    "SET description_combined_processed = REGEXP_REPLACE(original_description_plaid, '\\\\\\\\+', '\\\\');\n",
    "\n",
    "\n",
    "\n",
    "-- Replace sequences of any character repeated 4 or more times with a space\n",
    "UPDATE tmp_counterparty_merchant_23_06_24_06_pairs\n",
    "SET description_combined_processed = REGEXP_REPLACE(original_description_plaid, '\\\\d{4,}', ' ');\n",
    "\n",
    "-- Replace sequences of any character repeated 4 or more times with a space\n",
    "UPDATE tmp_counterparty_merchant_23_06_24_06_pairs\n",
    "SET description_combined_processed = REGEXP_REPLACE(original_description_plaid, '(.)\\\\\\\\1{3,}', '');\n",
    "\n",
    "-- Replace multiple spaces with a single space\n",
    "UPDATE tmp_counterparty_merchant_23_06_24_06_pairs\n",
    "SET description_combined_processed = REGEXP_REPLACE(original_description_plaid, ' +', ' ');\n",
    "\n",
    "\n",
    "-- DROP TABLE IF EXISTS tmp_merchant_pairs_23_06_24_06tmp_merchant_transaction_counts\n",
    "SELECT * FROM tmp_merchant_transaction_counts\n",
    "\n",
    "--- CREATE Validation dataset\n",
    "\"\"\""
   ]
  },
  {
   "cell_type": "markdown",
   "metadata": {},
   "source": [
    "- Train a classification model  TX <m1> merchant1 <m2> merchant2 = 1,0\n",
    "\n",
    "- Train a classification model  TX <m1> merchant1, amount m1 <m2> merchant2, amount 2 (to deduplicate existing merchant table) \n",
    "\n",
    "- train a binary classification model\n",
    "\n",
    "\n",
    "- look into architechture modification and add numerical values as concatenation"
   ]
  },
  {
   "cell_type": "markdown",
   "metadata": {},
   "source": [
    "https://sbert.net/docs/sentence_transformer/training_overview.html#dataset-format"
   ]
  },
  {
   "cell_type": "code",
   "execution_count": 2,
   "metadata": {},
   "outputs": [
    {
     "name": "stdout",
     "output_type": "stream",
     "text": [
      "Requirement already satisfied: transformers in /opt/conda/lib/python3.10/site-packages (4.31.0)\n",
      "Requirement already satisfied: filelock in /opt/conda/lib/python3.10/site-packages (from transformers) (3.14.0)\n",
      "Requirement already satisfied: huggingface-hub<1.0,>=0.14.1 in /opt/conda/lib/python3.10/site-packages (from transformers) (0.23.0)\n",
      "Requirement already satisfied: numpy>=1.17 in /opt/conda/lib/python3.10/site-packages (from transformers) (1.26.4)\n",
      "Requirement already satisfied: packaging>=20.0 in /opt/conda/lib/python3.10/site-packages (from transformers) (23.2)\n",
      "Requirement already satisfied: pyyaml>=5.1 in /opt/conda/lib/python3.10/site-packages (from transformers) (6.0.1)\n",
      "Requirement already satisfied: regex!=2019.12.17 in /opt/conda/lib/python3.10/site-packages (from transformers) (2024.5.10)\n",
      "Requirement already satisfied: requests in /opt/conda/lib/python3.10/site-packages (from transformers) (2.31.0)\n",
      "Requirement already satisfied: tokenizers!=0.11.3,<0.14,>=0.11.1 in /opt/conda/lib/python3.10/site-packages (from transformers) (0.13.3)\n",
      "Requirement already satisfied: safetensors>=0.3.1 in /opt/conda/lib/python3.10/site-packages (from transformers) (0.4.3)\n",
      "Requirement already satisfied: tqdm>=4.27 in /opt/conda/lib/python3.10/site-packages (from transformers) (4.66.4)\n",
      "Requirement already satisfied: fsspec>=2023.5.0 in /opt/conda/lib/python3.10/site-packages (from huggingface-hub<1.0,>=0.14.1->transformers) (2023.6.0)\n",
      "Requirement already satisfied: typing-extensions>=3.7.4.3 in /opt/conda/lib/python3.10/site-packages (from huggingface-hub<1.0,>=0.14.1->transformers) (4.5.0)\n",
      "Requirement already satisfied: charset-normalizer<4,>=2 in /opt/conda/lib/python3.10/site-packages (from requests->transformers) (3.3.2)\n",
      "Requirement already satisfied: idna<4,>=2.5 in /opt/conda/lib/python3.10/site-packages (from requests->transformers) (3.7)\n",
      "Requirement already satisfied: urllib3<3,>=1.21.1 in /opt/conda/lib/python3.10/site-packages (from requests->transformers) (1.26.18)\n",
      "Requirement already satisfied: certifi>=2017.4.17 in /opt/conda/lib/python3.10/site-packages (from requests->transformers) (2024.2.2)\n",
      "Note: you may need to restart the kernel to use updated packages.\n"
     ]
    }
   ],
   "source": [
    "%pip install transformers"
   ]
  },
  {
   "cell_type": "code",
   "execution_count": 3,
   "metadata": {},
   "outputs": [
    {
     "name": "stdout",
     "output_type": "stream",
     "text": [
      "Requirement already satisfied: awswrangler in /opt/conda/lib/python3.10/site-packages (3.8.0)\n",
      "Requirement already satisfied: boto3<2.0.0,>=1.20.32 in /opt/conda/lib/python3.10/site-packages (from awswrangler) (1.34.51)\n",
      "Requirement already satisfied: botocore<2.0.0,>=1.23.32 in /opt/conda/lib/python3.10/site-packages (from awswrangler) (1.34.51)\n",
      "Requirement already satisfied: numpy<2.0,>=1.18 in /opt/conda/lib/python3.10/site-packages (from awswrangler) (1.26.4)\n",
      "Requirement already satisfied: packaging<25.0,>=21.1 in /opt/conda/lib/python3.10/site-packages (from awswrangler) (23.2)\n",
      "Requirement already satisfied: pandas<3.0.0,>=1.2.0 in /opt/conda/lib/python3.10/site-packages (from awswrangler) (2.1.4)\n",
      "Requirement already satisfied: pyarrow>=8.0.0 in /opt/conda/lib/python3.10/site-packages (from awswrangler) (12.0.1)\n",
      "Requirement already satisfied: typing-extensions<5.0.0,>=4.4.0 in /opt/conda/lib/python3.10/site-packages (from awswrangler) (4.5.0)\n",
      "Requirement already satisfied: jmespath<2.0.0,>=0.7.1 in /opt/conda/lib/python3.10/site-packages (from boto3<2.0.0,>=1.20.32->awswrangler) (1.0.1)\n",
      "Requirement already satisfied: s3transfer<0.11.0,>=0.10.0 in /opt/conda/lib/python3.10/site-packages (from boto3<2.0.0,>=1.20.32->awswrangler) (0.10.1)\n",
      "Requirement already satisfied: python-dateutil<3.0.0,>=2.1 in /opt/conda/lib/python3.10/site-packages (from botocore<2.0.0,>=1.23.32->awswrangler) (2.9.0)\n",
      "Requirement already satisfied: urllib3<2.1,>=1.25.4 in /opt/conda/lib/python3.10/site-packages (from botocore<2.0.0,>=1.23.32->awswrangler) (1.26.18)\n",
      "Requirement already satisfied: pytz>=2020.1 in /opt/conda/lib/python3.10/site-packages (from pandas<3.0.0,>=1.2.0->awswrangler) (2023.3)\n",
      "Requirement already satisfied: tzdata>=2022.1 in /opt/conda/lib/python3.10/site-packages (from pandas<3.0.0,>=1.2.0->awswrangler) (2024.1)\n",
      "Requirement already satisfied: six>=1.5 in /opt/conda/lib/python3.10/site-packages (from python-dateutil<3.0.0,>=2.1->botocore<2.0.0,>=1.23.32->awswrangler) (1.16.0)\n",
      "Note: you may need to restart the kernel to use updated packages.\n"
     ]
    }
   ],
   "source": [
    "%pip install awswrangler"
   ]
  },
  {
   "cell_type": "code",
   "execution_count": 4,
   "metadata": {},
   "outputs": [],
   "source": [
    "import awswrangler as wr"
   ]
  },
  {
   "cell_type": "code",
   "execution_count": 5,
   "metadata": {},
   "outputs": [],
   "source": [
    "import pandas as pd"
   ]
  },
  {
   "cell_type": "markdown",
   "metadata": {},
   "source": [
    "# Load train and validation data set"
   ]
  },
  {
   "cell_type": "code",
   "execution_count": 6,
   "metadata": {},
   "outputs": [
    {
     "data": {
      "text/plain": [
       "(5000000, 18)"
      ]
     },
     "execution_count": 6,
     "metadata": {},
     "output_type": "execute_result"
    }
   ],
   "source": [
    "s3_path = \"s3://cleo-data-science/transaction_enrichment/experimental_data/caste/trx-merchant-pair/cons_2024-05-15_2024-05-18_1.parquet/\"\n",
    "s3_path =\"s3://cleo-data-science/transaction_enrichment/experimental_data/caste/data_tmp_trans_23_06_24_06_pairs/train/\"\n",
    "\n",
    "df_data_raw = wr.s3.read_parquet(path=s3_path)\n",
    "df_data_raw.shape"
   ]
  },
  {
   "cell_type": "code",
   "execution_count": 7,
   "metadata": {},
   "outputs": [
    {
     "data": {
      "text/html": [
       "<div>\n",
       "<style scoped>\n",
       "    .dataframe tbody tr th:only-of-type {\n",
       "        vertical-align: middle;\n",
       "    }\n",
       "\n",
       "    .dataframe tbody tr th {\n",
       "        vertical-align: top;\n",
       "    }\n",
       "\n",
       "    .dataframe thead th {\n",
       "        text-align: right;\n",
       "    }\n",
       "</style>\n",
       "<table border=\"1\" class=\"dataframe\">\n",
       "  <thead>\n",
       "    <tr style=\"text-align: right;\">\n",
       "      <th></th>\n",
       "      <th>transaction_id</th>\n",
       "      <th>corrected_made_on</th>\n",
       "      <th>amount</th>\n",
       "      <th>currency_code</th>\n",
       "      <th>description</th>\n",
       "      <th>original_description_plaid</th>\n",
       "      <th>merchant_name</th>\n",
       "      <th>merchant_name_plaid</th>\n",
       "      <th>transaction_type_plaid</th>\n",
       "      <th>counterparty_name</th>\n",
       "      <th>counterparty_type</th>\n",
       "      <th>merchant_id</th>\n",
       "      <th>company</th>\n",
       "      <th>category_detailed_plaid</th>\n",
       "      <th>category_primary_plaid</th>\n",
       "      <th>merchant_name2</th>\n",
       "      <th>label</th>\n",
       "      <th>description_combined_processed</th>\n",
       "    </tr>\n",
       "  </thead>\n",
       "  <tbody>\n",
       "    <tr>\n",
       "      <th>0</th>\n",
       "      <td>9711158815</td>\n",
       "      <td>2024-05-06</td>\n",
       "      <td>-2.25</td>\n",
       "      <td>USD</td>\n",
       "      <td>MOBILE PURCHASE 0505 HART-FLAMINGOFARES.COM TA...</td>\n",
       "      <td>MOBILE PURCHASE 0505 HART-FLAMINGOFARES.COM TA...</td>\n",
       "      <td>Hart Flamingofares</td>\n",
       "      <td>Hart-flamingofares</td>\n",
       "      <td>place</td>\n",
       "      <td>Hart-flamingofares</td>\n",
       "      <td>merchant</td>\n",
       "      <td>16280115</td>\n",
       "      <td>Hart Flamingofares</td>\n",
       "      <td>FOOD_AND_DRINK_RESTAURANT</td>\n",
       "      <td>FOOD_AND_DRINK</td>\n",
       "      <td>Hart-flamingofares</td>\n",
       "      <td>1</td>\n",
       "      <td>MOBILE PURCHASE 0505 HART-FLAMINGOFARES.COM TA...</td>\n",
       "    </tr>\n",
       "    <tr>\n",
       "      <th>1</th>\n",
       "      <td>9740980806</td>\n",
       "      <td>2024-05-08</td>\n",
       "      <td>-200.00</td>\n",
       "      <td>USD</td>\n",
       "      <td>PURCHASE AUTHORIZED ON 05/07 KIDS UNLIMITED IN...</td>\n",
       "      <td>PURCHASE AUTHORIZED ON 05/07 KIDS UNLIMITED IN...</td>\n",
       "      <td>Kids Unlimited</td>\n",
       "      <td>Kids Unlimited Inc</td>\n",
       "      <td>place</td>\n",
       "      <td>Kids Unlimited Inc</td>\n",
       "      <td>merchant</td>\n",
       "      <td>2289635</td>\n",
       "      <td>&lt;NA&gt;</td>\n",
       "      <td>GENERAL_SERVICES_CHILDCARE</td>\n",
       "      <td>GENERAL_SERVICES</td>\n",
       "      <td>Kids Unlimited Inc</td>\n",
       "      <td>1</td>\n",
       "      <td>PURCHASE AUTHORIZED ON 05/07 KIDS UNLIMITED IN...</td>\n",
       "    </tr>\n",
       "    <tr>\n",
       "      <th>2</th>\n",
       "      <td>9796548131</td>\n",
       "      <td>2024-05-13</td>\n",
       "      <td>-30.00</td>\n",
       "      <td>USD</td>\n",
       "      <td>CHECKCARD 0511 EDWARDGURKA-MATCO XXXXX96003 TX...</td>\n",
       "      <td>CHECKCARD 0511 EDWARDGURKA-MATCO XXXXX96003 TX...</td>\n",
       "      <td>Edwardgurka Matcotools Rosharon</td>\n",
       "      <td>Edwardgurka-matco</td>\n",
       "      <td>place</td>\n",
       "      <td>Edwardgurka-matco</td>\n",
       "      <td>merchant</td>\n",
       "      <td>11254807</td>\n",
       "      <td>&lt;NA&gt;</td>\n",
       "      <td>HOME_IMPROVEMENT_HARDWARE</td>\n",
       "      <td>HOME_IMPROVEMENT</td>\n",
       "      <td>Edwardgurka-matco</td>\n",
       "      <td>1</td>\n",
       "      <td>CHECKCARD 0511 EDWARDGURKA-MATCO XXXXX96003 TX...</td>\n",
       "    </tr>\n",
       "    <tr>\n",
       "      <th>3</th>\n",
       "      <td>9978142547</td>\n",
       "      <td>2024-05-18</td>\n",
       "      <td>-25.04</td>\n",
       "      <td>USD</td>\n",
       "      <td>Caseys</td>\n",
       "      <td>Caseys</td>\n",
       "      <td>Casey''s Lincoln</td>\n",
       "      <td>Casey''s</td>\n",
       "      <td>place</td>\n",
       "      <td>Casey''s</td>\n",
       "      <td>merchant</td>\n",
       "      <td>1883903</td>\n",
       "      <td>Caseys</td>\n",
       "      <td>GENERAL_MERCHANDISE_CONVENIENCE_STORES</td>\n",
       "      <td>GENERAL_MERCHANDISE</td>\n",
       "      <td>Casey''s</td>\n",
       "      <td>1</td>\n",
       "      <td>Caseys</td>\n",
       "    </tr>\n",
       "    <tr>\n",
       "      <th>4</th>\n",
       "      <td>9694955604</td>\n",
       "      <td>2024-05-05</td>\n",
       "      <td>-13.69</td>\n",
       "      <td>USD</td>\n",
       "      <td>Point Of Sale Withdrawal HUGO INSURANCE SOLNHT...</td>\n",
       "      <td>Point Of Sale Withdrawal  HUGO INSURANCE SOLNH...</td>\n",
       "      <td>With</td>\n",
       "      <td>Hugo Insurance</td>\n",
       "      <td>special</td>\n",
       "      <td>Hugo Insurance</td>\n",
       "      <td>merchant</td>\n",
       "      <td>4644190</td>\n",
       "      <td>With</td>\n",
       "      <td>GENERAL_SERVICES_INSURANCE</td>\n",
       "      <td>GENERAL_SERVICES</td>\n",
       "      <td>Hugo Insurance</td>\n",
       "      <td>1</td>\n",
       "      <td>Point Of Sale Withdrawal HUGO INSURANCE SOLNHT...</td>\n",
       "    </tr>\n",
       "  </tbody>\n",
       "</table>\n",
       "</div>"
      ],
      "text/plain": [
       "   transaction_id corrected_made_on   amount currency_code  \\\n",
       "0      9711158815        2024-05-06    -2.25           USD   \n",
       "1      9740980806        2024-05-08  -200.00           USD   \n",
       "2      9796548131        2024-05-13   -30.00           USD   \n",
       "3      9978142547        2024-05-18   -25.04           USD   \n",
       "4      9694955604        2024-05-05   -13.69           USD   \n",
       "\n",
       "                                         description  \\\n",
       "0  MOBILE PURCHASE 0505 HART-FLAMINGOFARES.COM TA...   \n",
       "1  PURCHASE AUTHORIZED ON 05/07 KIDS UNLIMITED IN...   \n",
       "2  CHECKCARD 0511 EDWARDGURKA-MATCO XXXXX96003 TX...   \n",
       "3                                             Caseys   \n",
       "4  Point Of Sale Withdrawal HUGO INSURANCE SOLNHT...   \n",
       "\n",
       "                          original_description_plaid  \\\n",
       "0  MOBILE PURCHASE 0505 HART-FLAMINGOFARES.COM TA...   \n",
       "1  PURCHASE AUTHORIZED ON 05/07 KIDS UNLIMITED IN...   \n",
       "2  CHECKCARD 0511 EDWARDGURKA-MATCO XXXXX96003 TX...   \n",
       "3                                             Caseys   \n",
       "4  Point Of Sale Withdrawal  HUGO INSURANCE SOLNH...   \n",
       "\n",
       "                     merchant_name merchant_name_plaid transaction_type_plaid  \\\n",
       "0               Hart Flamingofares  Hart-flamingofares                  place   \n",
       "1                   Kids Unlimited  Kids Unlimited Inc                  place   \n",
       "2  Edwardgurka Matcotools Rosharon   Edwardgurka-matco                  place   \n",
       "3                 Casey''s Lincoln            Casey''s                  place   \n",
       "4                             With      Hugo Insurance                special   \n",
       "\n",
       "    counterparty_name counterparty_type  merchant_id             company  \\\n",
       "0  Hart-flamingofares          merchant     16280115  Hart Flamingofares   \n",
       "1  Kids Unlimited Inc          merchant      2289635                <NA>   \n",
       "2   Edwardgurka-matco          merchant     11254807                <NA>   \n",
       "3            Casey''s          merchant      1883903              Caseys   \n",
       "4      Hugo Insurance          merchant      4644190                With   \n",
       "\n",
       "                  category_detailed_plaid category_primary_plaid  \\\n",
       "0               FOOD_AND_DRINK_RESTAURANT         FOOD_AND_DRINK   \n",
       "1              GENERAL_SERVICES_CHILDCARE       GENERAL_SERVICES   \n",
       "2               HOME_IMPROVEMENT_HARDWARE       HOME_IMPROVEMENT   \n",
       "3  GENERAL_MERCHANDISE_CONVENIENCE_STORES    GENERAL_MERCHANDISE   \n",
       "4              GENERAL_SERVICES_INSURANCE       GENERAL_SERVICES   \n",
       "\n",
       "       merchant_name2  label  \\\n",
       "0  Hart-flamingofares      1   \n",
       "1  Kids Unlimited Inc      1   \n",
       "2   Edwardgurka-matco      1   \n",
       "3            Casey''s      1   \n",
       "4      Hugo Insurance      1   \n",
       "\n",
       "                      description_combined_processed  \n",
       "0  MOBILE PURCHASE 0505 HART-FLAMINGOFARES.COM TA...  \n",
       "1  PURCHASE AUTHORIZED ON 05/07 KIDS UNLIMITED IN...  \n",
       "2  CHECKCARD 0511 EDWARDGURKA-MATCO XXXXX96003 TX...  \n",
       "3                                             Caseys  \n",
       "4  Point Of Sale Withdrawal HUGO INSURANCE SOLNHT...  "
      ]
     },
     "execution_count": 7,
     "metadata": {},
     "output_type": "execute_result"
    }
   ],
   "source": [
    "df_data_raw.head()"
   ]
  },
  {
   "cell_type": "code",
   "execution_count": 8,
   "metadata": {},
   "outputs": [
    {
     "data": {
      "text/html": [
       "<div>\n",
       "<style scoped>\n",
       "    .dataframe tbody tr th:only-of-type {\n",
       "        vertical-align: middle;\n",
       "    }\n",
       "\n",
       "    .dataframe tbody tr th {\n",
       "        vertical-align: top;\n",
       "    }\n",
       "\n",
       "    .dataframe thead th {\n",
       "        text-align: right;\n",
       "    }\n",
       "</style>\n",
       "<table border=\"1\" class=\"dataframe\">\n",
       "  <thead>\n",
       "    <tr style=\"text-align: right;\">\n",
       "      <th></th>\n",
       "      <th>merchant_name</th>\n",
       "      <th>distinct_transaction_count</th>\n",
       "      <th>avg_positive_amount</th>\n",
       "      <th>avg_negative_amount</th>\n",
       "    </tr>\n",
       "  </thead>\n",
       "  <tbody>\n",
       "    <tr>\n",
       "      <th>0</th>\n",
       "      <td>Sunshine Girls Esta</td>\n",
       "      <td>1</td>\n",
       "      <td>0.0000</td>\n",
       "      <td>-22.9100</td>\n",
       "    </tr>\n",
       "    <tr>\n",
       "      <th>1</th>\n",
       "      <td>Just Next Door</td>\n",
       "      <td>13</td>\n",
       "      <td>1.4238</td>\n",
       "      <td>-34.9938</td>\n",
       "    </tr>\n",
       "    <tr>\n",
       "      <th>2</th>\n",
       "      <td>Sheppar Air Inc</td>\n",
       "      <td>49</td>\n",
       "      <td>0.0000</td>\n",
       "      <td>-34.4897</td>\n",
       "    </tr>\n",
       "    <tr>\n",
       "      <th>3</th>\n",
       "      <td>Hammond Electri</td>\n",
       "      <td>1</td>\n",
       "      <td>889.9200</td>\n",
       "      <td>0.0000</td>\n",
       "    </tr>\n",
       "    <tr>\n",
       "      <th>4</th>\n",
       "      <td>Go Fish</td>\n",
       "      <td>71</td>\n",
       "      <td>0.0000</td>\n",
       "      <td>-33.5708</td>\n",
       "    </tr>\n",
       "  </tbody>\n",
       "</table>\n",
       "</div>"
      ],
      "text/plain": [
       "         merchant_name  distinct_transaction_count avg_positive_amount  \\\n",
       "0  Sunshine Girls Esta                           1              0.0000   \n",
       "1       Just Next Door                          13              1.4238   \n",
       "2      Sheppar Air Inc                          49              0.0000   \n",
       "3      Hammond Electri                           1            889.9200   \n",
       "4              Go Fish                          71              0.0000   \n",
       "\n",
       "  avg_negative_amount  \n",
       "0            -22.9100  \n",
       "1            -34.9938  \n",
       "2            -34.4897  \n",
       "3              0.0000  \n",
       "4            -33.5708  "
      ]
     },
     "execution_count": 8,
     "metadata": {},
     "output_type": "execute_result"
    }
   ],
   "source": [
    "s3_merchant_tx_amts1 = \"s3://cleo-data-science/transaction_enrichment/experimental_data/caste/transactions_aggregations/2024-01-01_2024-06-01\"\n",
    "df_data_amts_merchants1 = wr.s3.read_parquet(path=s3_merchant_tx_amts1 )\n",
    "\n",
    "s3_merchant_tx_amts2 = \"s3://cleo-data-science/transaction_enrichment/experimental_data/caste/transactions_aggregations/2023-07-01_2023-12-31\"\n",
    "df_data_amts_merchants2 = wr.s3.read_parquet(path=s3_merchant_tx_amts2 )\n",
    "df_data_amts_merchants2.head()"
   ]
  },
  {
   "cell_type": "code",
   "execution_count": 9,
   "metadata": {},
   "outputs": [],
   "source": [
    "df_data_amts_merchants = pd.concat([df_data_amts_merchants1, df_data_amts_merchants2], axis=0)"
   ]
  },
  {
   "cell_type": "code",
   "execution_count": 10,
   "metadata": {},
   "outputs": [],
   "source": [
    "df_data_amts_merchants = df_data_amts_merchants.groupby('merchant_name').agg('sum')"
   ]
  },
  {
   "cell_type": "code",
   "execution_count": 11,
   "metadata": {},
   "outputs": [],
   "source": [
    "df_data_amts_merchants.reset_index(drop=False, inplace=True)"
   ]
  },
  {
   "cell_type": "code",
   "execution_count": 12,
   "metadata": {},
   "outputs": [
    {
     "data": {
      "text/plain": [
       "(2795909, 6)"
      ]
     },
     "execution_count": 12,
     "metadata": {},
     "output_type": "execute_result"
    }
   ],
   "source": [
    "df_data_amts_merchants.shape"
   ]
  },
  {
   "cell_type": "code",
   "execution_count": 13,
   "metadata": {},
   "outputs": [
    {
     "data": {
      "text/html": [
       "<div>\n",
       "<style scoped>\n",
       "    .dataframe tbody tr th:only-of-type {\n",
       "        vertical-align: middle;\n",
       "    }\n",
       "\n",
       "    .dataframe tbody tr th {\n",
       "        vertical-align: top;\n",
       "    }\n",
       "\n",
       "    .dataframe thead th {\n",
       "        text-align: right;\n",
       "    }\n",
       "</style>\n",
       "<table border=\"1\" class=\"dataframe\">\n",
       "  <thead>\n",
       "    <tr style=\"text-align: right;\">\n",
       "      <th></th>\n",
       "      <th>merchant_name</th>\n",
       "      <th>distinct_transaction_count</th>\n",
       "      <th>sum_positive_amount</th>\n",
       "      <th>sum_negative_amount</th>\n",
       "      <th>avg_positive_amount</th>\n",
       "      <th>avg_negative_amount</th>\n",
       "    </tr>\n",
       "  </thead>\n",
       "  <tbody>\n",
       "    <tr>\n",
       "      <th>92108</th>\n",
       "      <td>Almanac Beer</td>\n",
       "      <td>135</td>\n",
       "      <td>0.00</td>\n",
       "      <td>-1238.85</td>\n",
       "      <td>0.0000</td>\n",
       "      <td>-15.4411</td>\n",
       "    </tr>\n",
       "  </tbody>\n",
       "</table>\n",
       "</div>"
      ],
      "text/plain": [
       "      merchant_name  distinct_transaction_count sum_positive_amount  \\\n",
       "92108  Almanac Beer                         135                0.00   \n",
       "\n",
       "      sum_negative_amount avg_positive_amount avg_negative_amount  \n",
       "92108            -1238.85              0.0000            -15.4411  "
      ]
     },
     "execution_count": 13,
     "metadata": {},
     "output_type": "execute_result"
    }
   ],
   "source": [
    "df_data_amts_merchants[df_data_amts_merchants['merchant_name']=='Almanac Beer']"
   ]
  },
  {
   "cell_type": "code",
   "execution_count": 14,
   "metadata": {},
   "outputs": [],
   "source": [
    "modeling_columns = ['transaction_id', 'amount','merchant_name','merchant_name2','description_combined_processed','label']"
   ]
  },
  {
   "cell_type": "code",
   "execution_count": 15,
   "metadata": {},
   "outputs": [],
   "source": [
    "df_data_raw = df_data_raw[modeling_columns]"
   ]
  },
  {
   "cell_type": "code",
   "execution_count": 16,
   "metadata": {},
   "outputs": [],
   "source": [
    "df_data_raw  = pd.merge(df_data_raw, df_data_amts_merchants.rename(columns={'distinct_transaction_count':'distinct_transaction_count_m1',\\\n",
    "    'sum_positive_amount':'sum_positive_amount_m1',\\\n",
    "        'sum_negative_amount':'sum_negative_amount_m1'}), left_on='merchant_name', right_on='merchant_name', how='left')"
   ]
  },
  {
   "cell_type": "code",
   "execution_count": 17,
   "metadata": {},
   "outputs": [],
   "source": [
    "df_data_raw  = pd.merge(df_data_raw, df_data_amts_merchants.rename(columns={'distinct_transaction_count':'distinct_transaction_count_m2',\\\n",
    "    'sum_positive_amount':'sum_positive_amount_m2',\\\n",
    "        'sum_negative_amount':'sum_negative_amount_m2'}), left_on='merchant_name2', right_on='merchant_name', how='left')"
   ]
  },
  {
   "cell_type": "code",
   "execution_count": 18,
   "metadata": {},
   "outputs": [
    {
     "data": {
      "text/html": [
       "<div>\n",
       "<style scoped>\n",
       "    .dataframe tbody tr th:only-of-type {\n",
       "        vertical-align: middle;\n",
       "    }\n",
       "\n",
       "    .dataframe tbody tr th {\n",
       "        vertical-align: top;\n",
       "    }\n",
       "\n",
       "    .dataframe thead th {\n",
       "        text-align: right;\n",
       "    }\n",
       "</style>\n",
       "<table border=\"1\" class=\"dataframe\">\n",
       "  <thead>\n",
       "    <tr style=\"text-align: right;\">\n",
       "      <th></th>\n",
       "      <th>transaction_id</th>\n",
       "      <th>amount</th>\n",
       "      <th>merchant_name_x</th>\n",
       "      <th>merchant_name2</th>\n",
       "      <th>description_combined_processed</th>\n",
       "      <th>label</th>\n",
       "      <th>distinct_transaction_count_m1</th>\n",
       "      <th>sum_positive_amount_m1</th>\n",
       "      <th>sum_negative_amount_m1</th>\n",
       "      <th>avg_positive_amount_x</th>\n",
       "      <th>avg_negative_amount_x</th>\n",
       "      <th>merchant_name_y</th>\n",
       "      <th>distinct_transaction_count_m2</th>\n",
       "      <th>sum_positive_amount_m2</th>\n",
       "      <th>sum_negative_amount_m2</th>\n",
       "      <th>avg_positive_amount_y</th>\n",
       "      <th>avg_negative_amount_y</th>\n",
       "    </tr>\n",
       "  </thead>\n",
       "  <tbody>\n",
       "    <tr>\n",
       "      <th>0</th>\n",
       "      <td>9711158815</td>\n",
       "      <td>-2.25</td>\n",
       "      <td>Hart Flamingofares</td>\n",
       "      <td>Hart-flamingofares</td>\n",
       "      <td>MOBILE PURCHASE 0505 HART-FLAMINGOFARES.COM TA...</td>\n",
       "      <td>1</td>\n",
       "      <td>4586</td>\n",
       "      <td>5.00</td>\n",
       "      <td>-8096.24</td>\n",
       "      <td>0.0077</td>\n",
       "      <td>-3.2477</td>\n",
       "      <td>&lt;NA&gt;</td>\n",
       "      <td>&lt;NA&gt;</td>\n",
       "      <td>NaN</td>\n",
       "      <td>NaN</td>\n",
       "      <td>NaN</td>\n",
       "      <td>NaN</td>\n",
       "    </tr>\n",
       "    <tr>\n",
       "      <th>1</th>\n",
       "      <td>9740980806</td>\n",
       "      <td>-200.00</td>\n",
       "      <td>Kids Unlimited</td>\n",
       "      <td>Kids Unlimited Inc</td>\n",
       "      <td>PURCHASE AUTHORIZED ON 05/07 KIDS UNLIMITED IN...</td>\n",
       "      <td>1</td>\n",
       "      <td>159</td>\n",
       "      <td>0.00</td>\n",
       "      <td>-12295.97</td>\n",
       "      <td>0.0000</td>\n",
       "      <td>-134.3195</td>\n",
       "      <td>&lt;NA&gt;</td>\n",
       "      <td>&lt;NA&gt;</td>\n",
       "      <td>NaN</td>\n",
       "      <td>NaN</td>\n",
       "      <td>NaN</td>\n",
       "      <td>NaN</td>\n",
       "    </tr>\n",
       "    <tr>\n",
       "      <th>2</th>\n",
       "      <td>9796548131</td>\n",
       "      <td>-30.00</td>\n",
       "      <td>Edwardgurka Matcotools Rosharon</td>\n",
       "      <td>Edwardgurka-matco</td>\n",
       "      <td>CHECKCARD 0511 EDWARDGURKA-MATCO XXXXX96003 TX...</td>\n",
       "      <td>1</td>\n",
       "      <td>55</td>\n",
       "      <td>0.00</td>\n",
       "      <td>-664.35</td>\n",
       "      <td>0.0000</td>\n",
       "      <td>-50.2307</td>\n",
       "      <td>&lt;NA&gt;</td>\n",
       "      <td>&lt;NA&gt;</td>\n",
       "      <td>NaN</td>\n",
       "      <td>NaN</td>\n",
       "      <td>NaN</td>\n",
       "      <td>NaN</td>\n",
       "    </tr>\n",
       "    <tr>\n",
       "      <th>3</th>\n",
       "      <td>9978142547</td>\n",
       "      <td>-25.04</td>\n",
       "      <td>Casey''s Lincoln</td>\n",
       "      <td>Casey''s</td>\n",
       "      <td>Caseys</td>\n",
       "      <td>1</td>\n",
       "      <td>3170405</td>\n",
       "      <td>9525.58</td>\n",
       "      <td>-20870803.11</td>\n",
       "      <td>0.0115</td>\n",
       "      <td>-17.5547</td>\n",
       "      <td>&lt;NA&gt;</td>\n",
       "      <td>&lt;NA&gt;</td>\n",
       "      <td>NaN</td>\n",
       "      <td>NaN</td>\n",
       "      <td>NaN</td>\n",
       "      <td>NaN</td>\n",
       "    </tr>\n",
       "    <tr>\n",
       "      <th>4</th>\n",
       "      <td>9694955604</td>\n",
       "      <td>-13.69</td>\n",
       "      <td>With</td>\n",
       "      <td>Hugo Insurance</td>\n",
       "      <td>Point Of Sale Withdrawal HUGO INSURANCE SOLNHT...</td>\n",
       "      <td>1</td>\n",
       "      <td>6576</td>\n",
       "      <td>2081.05</td>\n",
       "      <td>-272481.89</td>\n",
       "      <td>2.5643</td>\n",
       "      <td>-95.9977</td>\n",
       "      <td>&lt;NA&gt;</td>\n",
       "      <td>&lt;NA&gt;</td>\n",
       "      <td>NaN</td>\n",
       "      <td>NaN</td>\n",
       "      <td>NaN</td>\n",
       "      <td>NaN</td>\n",
       "    </tr>\n",
       "  </tbody>\n",
       "</table>\n",
       "</div>"
      ],
      "text/plain": [
       "   transaction_id   amount                  merchant_name_x  \\\n",
       "0      9711158815    -2.25               Hart Flamingofares   \n",
       "1      9740980806  -200.00                   Kids Unlimited   \n",
       "2      9796548131   -30.00  Edwardgurka Matcotools Rosharon   \n",
       "3      9978142547   -25.04                 Casey''s Lincoln   \n",
       "4      9694955604   -13.69                             With   \n",
       "\n",
       "       merchant_name2                     description_combined_processed  \\\n",
       "0  Hart-flamingofares  MOBILE PURCHASE 0505 HART-FLAMINGOFARES.COM TA...   \n",
       "1  Kids Unlimited Inc  PURCHASE AUTHORIZED ON 05/07 KIDS UNLIMITED IN...   \n",
       "2   Edwardgurka-matco  CHECKCARD 0511 EDWARDGURKA-MATCO XXXXX96003 TX...   \n",
       "3            Casey''s                                             Caseys   \n",
       "4      Hugo Insurance  Point Of Sale Withdrawal HUGO INSURANCE SOLNHT...   \n",
       "\n",
       "   label  distinct_transaction_count_m1 sum_positive_amount_m1  \\\n",
       "0      1                           4586                   5.00   \n",
       "1      1                            159                   0.00   \n",
       "2      1                             55                   0.00   \n",
       "3      1                        3170405                9525.58   \n",
       "4      1                           6576                2081.05   \n",
       "\n",
       "  sum_negative_amount_m1 avg_positive_amount_x avg_negative_amount_x  \\\n",
       "0               -8096.24                0.0077               -3.2477   \n",
       "1              -12295.97                0.0000             -134.3195   \n",
       "2                -664.35                0.0000              -50.2307   \n",
       "3           -20870803.11                0.0115              -17.5547   \n",
       "4             -272481.89                2.5643              -95.9977   \n",
       "\n",
       "  merchant_name_y  distinct_transaction_count_m2 sum_positive_amount_m2  \\\n",
       "0            <NA>                           <NA>                    NaN   \n",
       "1            <NA>                           <NA>                    NaN   \n",
       "2            <NA>                           <NA>                    NaN   \n",
       "3            <NA>                           <NA>                    NaN   \n",
       "4            <NA>                           <NA>                    NaN   \n",
       "\n",
       "  sum_negative_amount_m2 avg_positive_amount_y avg_negative_amount_y  \n",
       "0                    NaN                   NaN                   NaN  \n",
       "1                    NaN                   NaN                   NaN  \n",
       "2                    NaN                   NaN                   NaN  \n",
       "3                    NaN                   NaN                   NaN  \n",
       "4                    NaN                   NaN                   NaN  "
      ]
     },
     "execution_count": 18,
     "metadata": {},
     "output_type": "execute_result"
    }
   ],
   "source": [
    "df_data_raw.head()"
   ]
  },
  {
   "cell_type": "code",
   "execution_count": 19,
   "metadata": {},
   "outputs": [],
   "source": [
    "df_data_raw.drop('merchant_name_y', axis=1, inplace=True)"
   ]
  },
  {
   "cell_type": "code",
   "execution_count": 20,
   "metadata": {},
   "outputs": [],
   "source": [
    "df_data_raw[['distinct_transaction_count_m1','sum_positive_amount_m1','sum_negative_amount_m1']] = df_data_raw[['distinct_transaction_count_m1','sum_positive_amount_m1','sum_negative_amount_m1']].fillna(0)\n",
    "df_data_raw[['distinct_transaction_count_m2','sum_positive_amount_m2','sum_negative_amount_m2']] = df_data_raw[['distinct_transaction_count_m2','sum_positive_amount_m2','sum_negative_amount_m2']].fillna(0)"
   ]
  },
  {
   "cell_type": "code",
   "execution_count": 21,
   "metadata": {},
   "outputs": [],
   "source": [
    "df_trans_row_count = df_data_raw['transaction_id'].value_counts().to_frame().reset_index(drop=False)"
   ]
  },
  {
   "cell_type": "code",
   "execution_count": 22,
   "metadata": {},
   "outputs": [
    {
     "data": {
      "text/plain": [
       "label\n",
       "0    4000000\n",
       "1    1000000\n",
       "Name: count, dtype: Int64"
      ]
     },
     "execution_count": 22,
     "metadata": {},
     "output_type": "execute_result"
    }
   ],
   "source": [
    "df_data_raw['label'].value_counts()"
   ]
  },
  {
   "cell_type": "code",
   "execution_count": 23,
   "metadata": {},
   "outputs": [
    {
     "name": "stdout",
     "output_type": "stream",
     "text": [
      "5000000\n",
      "5000000\n"
     ]
    }
   ],
   "source": [
    "# remove any empty strings for descriptions \n",
    "print(df_data_raw.shape[0])\n",
    "df_data_raw = df_data_raw[df_data_raw['description_combined_processed'].apply(lambda x: len(x)>=2)]\n",
    "print(df_data_raw.shape[0])"
   ]
  },
  {
   "cell_type": "code",
   "execution_count": 24,
   "metadata": {},
   "outputs": [
    {
     "data": {
      "text/html": [
       "<div>\n",
       "<style scoped>\n",
       "    .dataframe tbody tr th:only-of-type {\n",
       "        vertical-align: middle;\n",
       "    }\n",
       "\n",
       "    .dataframe tbody tr th {\n",
       "        vertical-align: top;\n",
       "    }\n",
       "\n",
       "    .dataframe thead th {\n",
       "        text-align: right;\n",
       "    }\n",
       "</style>\n",
       "<table border=\"1\" class=\"dataframe\">\n",
       "  <thead>\n",
       "    <tr style=\"text-align: right;\">\n",
       "      <th></th>\n",
       "      <th>transaction_id</th>\n",
       "      <th>amount</th>\n",
       "      <th>merchant_name_x</th>\n",
       "      <th>merchant_name2</th>\n",
       "      <th>description_combined_processed</th>\n",
       "      <th>label</th>\n",
       "      <th>distinct_transaction_count_m1</th>\n",
       "      <th>sum_positive_amount_m1</th>\n",
       "      <th>sum_negative_amount_m1</th>\n",
       "      <th>avg_positive_amount_x</th>\n",
       "      <th>avg_negative_amount_x</th>\n",
       "      <th>distinct_transaction_count_m2</th>\n",
       "      <th>sum_positive_amount_m2</th>\n",
       "      <th>sum_negative_amount_m2</th>\n",
       "      <th>avg_positive_amount_y</th>\n",
       "      <th>avg_negative_amount_y</th>\n",
       "    </tr>\n",
       "  </thead>\n",
       "  <tbody>\n",
       "    <tr>\n",
       "      <th>0</th>\n",
       "      <td>9711158815</td>\n",
       "      <td>-2.25</td>\n",
       "      <td>Hart Flamingofares</td>\n",
       "      <td>Hart-flamingofares</td>\n",
       "      <td>MOBILE PURCHASE 0505 HART-FLAMINGOFARES.COM TA...</td>\n",
       "      <td>1</td>\n",
       "      <td>4586</td>\n",
       "      <td>5.00</td>\n",
       "      <td>-8096.24</td>\n",
       "      <td>0.0077</td>\n",
       "      <td>-3.2477</td>\n",
       "      <td>0</td>\n",
       "      <td>0</td>\n",
       "      <td>0</td>\n",
       "      <td>NaN</td>\n",
       "      <td>NaN</td>\n",
       "    </tr>\n",
       "    <tr>\n",
       "      <th>3375643</th>\n",
       "      <td>9711158815</td>\n",
       "      <td>-2.25</td>\n",
       "      <td>Hart Flamingofares</td>\n",
       "      <td>Dba Sanvi Satya</td>\n",
       "      <td>MOBILE PURCHASE 0505 HART-FLAMINGOFARES.COM TA...</td>\n",
       "      <td>0</td>\n",
       "      <td>4586</td>\n",
       "      <td>5.00</td>\n",
       "      <td>-8096.24</td>\n",
       "      <td>0.0077</td>\n",
       "      <td>-3.2477</td>\n",
       "      <td>288</td>\n",
       "      <td>0.00</td>\n",
       "      <td>-1912.93</td>\n",
       "      <td>0.0012</td>\n",
       "      <td>-21.8818</td>\n",
       "    </tr>\n",
       "    <tr>\n",
       "      <th>3375644</th>\n",
       "      <td>9711158815</td>\n",
       "      <td>-2.25</td>\n",
       "      <td>Hart Flamingofares</td>\n",
       "      <td>El Poblano Mexican Res</td>\n",
       "      <td>MOBILE PURCHASE 0505 HART-FLAMINGOFARES.COM TA...</td>\n",
       "      <td>0</td>\n",
       "      <td>4586</td>\n",
       "      <td>5.00</td>\n",
       "      <td>-8096.24</td>\n",
       "      <td>0.0077</td>\n",
       "      <td>-3.2477</td>\n",
       "      <td>195</td>\n",
       "      <td>0.00</td>\n",
       "      <td>-3975.66</td>\n",
       "      <td>0.0000</td>\n",
       "      <td>-37.4139</td>\n",
       "    </tr>\n",
       "    <tr>\n",
       "      <th>3375645</th>\n",
       "      <td>9711158815</td>\n",
       "      <td>-2.25</td>\n",
       "      <td>Hart Flamingofares</td>\n",
       "      <td>Gyros</td>\n",
       "      <td>MOBILE PURCHASE 0505 HART-FLAMINGOFARES.COM TA...</td>\n",
       "      <td>0</td>\n",
       "      <td>4586</td>\n",
       "      <td>5.00</td>\n",
       "      <td>-8096.24</td>\n",
       "      <td>0.0077</td>\n",
       "      <td>-3.2477</td>\n",
       "      <td>1111</td>\n",
       "      <td>0.00</td>\n",
       "      <td>-9125.22</td>\n",
       "      <td>0.0190</td>\n",
       "      <td>-19.9316</td>\n",
       "    </tr>\n",
       "    <tr>\n",
       "      <th>3375646</th>\n",
       "      <td>9711158815</td>\n",
       "      <td>-2.25</td>\n",
       "      <td>Hart Flamingofares</td>\n",
       "      <td>Munson Cafeteria</td>\n",
       "      <td>MOBILE PURCHASE 0505 HART-FLAMINGOFARES.COM TA...</td>\n",
       "      <td>0</td>\n",
       "      <td>4586</td>\n",
       "      <td>5.00</td>\n",
       "      <td>-8096.24</td>\n",
       "      <td>0.0077</td>\n",
       "      <td>-3.2477</td>\n",
       "      <td>359</td>\n",
       "      <td>0.00</td>\n",
       "      <td>-1765.44</td>\n",
       "      <td>0.0538</td>\n",
       "      <td>-8.9069</td>\n",
       "    </tr>\n",
       "  </tbody>\n",
       "</table>\n",
       "</div>"
      ],
      "text/plain": [
       "         transaction_id amount     merchant_name_x          merchant_name2  \\\n",
       "0            9711158815  -2.25  Hart Flamingofares      Hart-flamingofares   \n",
       "3375643      9711158815  -2.25  Hart Flamingofares         Dba Sanvi Satya   \n",
       "3375644      9711158815  -2.25  Hart Flamingofares  El Poblano Mexican Res   \n",
       "3375645      9711158815  -2.25  Hart Flamingofares                   Gyros   \n",
       "3375646      9711158815  -2.25  Hart Flamingofares        Munson Cafeteria   \n",
       "\n",
       "                            description_combined_processed  label  \\\n",
       "0        MOBILE PURCHASE 0505 HART-FLAMINGOFARES.COM TA...      1   \n",
       "3375643  MOBILE PURCHASE 0505 HART-FLAMINGOFARES.COM TA...      0   \n",
       "3375644  MOBILE PURCHASE 0505 HART-FLAMINGOFARES.COM TA...      0   \n",
       "3375645  MOBILE PURCHASE 0505 HART-FLAMINGOFARES.COM TA...      0   \n",
       "3375646  MOBILE PURCHASE 0505 HART-FLAMINGOFARES.COM TA...      0   \n",
       "\n",
       "         distinct_transaction_count_m1 sum_positive_amount_m1  \\\n",
       "0                                 4586                   5.00   \n",
       "3375643                           4586                   5.00   \n",
       "3375644                           4586                   5.00   \n",
       "3375645                           4586                   5.00   \n",
       "3375646                           4586                   5.00   \n",
       "\n",
       "        sum_negative_amount_m1 avg_positive_amount_x avg_negative_amount_x  \\\n",
       "0                     -8096.24                0.0077               -3.2477   \n",
       "3375643               -8096.24                0.0077               -3.2477   \n",
       "3375644               -8096.24                0.0077               -3.2477   \n",
       "3375645               -8096.24                0.0077               -3.2477   \n",
       "3375646               -8096.24                0.0077               -3.2477   \n",
       "\n",
       "         distinct_transaction_count_m2 sum_positive_amount_m2  \\\n",
       "0                                    0                      0   \n",
       "3375643                            288                   0.00   \n",
       "3375644                            195                   0.00   \n",
       "3375645                           1111                   0.00   \n",
       "3375646                            359                   0.00   \n",
       "\n",
       "        sum_negative_amount_m2 avg_positive_amount_y avg_negative_amount_y  \n",
       "0                            0                   NaN                   NaN  \n",
       "3375643               -1912.93                0.0012              -21.8818  \n",
       "3375644               -3975.66                0.0000              -37.4139  \n",
       "3375645               -9125.22                0.0190              -19.9316  \n",
       "3375646               -1765.44                0.0538               -8.9069  "
      ]
     },
     "execution_count": 24,
     "metadata": {},
     "output_type": "execute_result"
    }
   ],
   "source": [
    "df_data_raw[df_data_raw['transaction_id'] == 9711158815]"
   ]
  },
  {
   "cell_type": "code",
   "execution_count": 25,
   "metadata": {},
   "outputs": [
    {
     "data": {
      "text/plain": [
       "0              5.00\n",
       "1              0.00\n",
       "2              0.00\n",
       "3           9525.58\n",
       "4           2081.05\n",
       "             ...   \n",
       "4999995      721.08\n",
       "4999996    42109.01\n",
       "4999997    42109.01\n",
       "4999998    42109.01\n",
       "4999999    42109.01\n",
       "Name: sum_positive_amount_m1, Length: 5000000, dtype: object"
      ]
     },
     "execution_count": 25,
     "metadata": {},
     "output_type": "execute_result"
    }
   ],
   "source": [
    "df_data_raw['sum_positive_amount_m1']"
   ]
  },
  {
   "cell_type": "code",
   "execution_count": 26,
   "metadata": {},
   "outputs": [],
   "source": [
    "try:\n",
    "    df_data_raw.rename(columns={'merchant_name_x':'merchant_name'}, inplace=True)\n",
    "except:\n",
    "    pass"
   ]
  },
  {
   "cell_type": "code",
   "execution_count": 27,
   "metadata": {},
   "outputs": [],
   "source": [
    "mask = df_data_raw.sample(int(df_data_raw.shape[0]*0.15), random_state=1).index"
   ]
  },
  {
   "cell_type": "code",
   "execution_count": 28,
   "metadata": {},
   "outputs": [],
   "source": [
    "# put some rows to zero \n",
    "df_data_raw.loc[mask,['distinct_transaction_count_m2','sum_positive_amount_m2','sum_negative_amount_m2']] = 0"
   ]
  },
  {
   "cell_type": "code",
   "execution_count": 29,
   "metadata": {},
   "outputs": [],
   "source": [
    "df_data_raw['text'] = df_data_raw['description_combined_processed'] + ' [SEP] ' + df_data_raw['merchant_name'] + ' [SEP] ' + df_data_raw['merchant_name2']"
   ]
  },
  {
   "cell_type": "code",
   "execution_count": 30,
   "metadata": {},
   "outputs": [
    {
     "data": {
      "text/plain": [
       "Index(['transaction_id', 'amount', 'merchant_name', 'merchant_name2',\n",
       "       'description_combined_processed', 'label',\n",
       "       'distinct_transaction_count_m1', 'sum_positive_amount_m1',\n",
       "       'sum_negative_amount_m1', 'avg_positive_amount_x',\n",
       "       'avg_negative_amount_x', 'distinct_transaction_count_m2',\n",
       "       'sum_positive_amount_m2', 'sum_negative_amount_m2',\n",
       "       'avg_positive_amount_y', 'avg_negative_amount_y', 'text'],\n",
       "      dtype='object')"
      ]
     },
     "execution_count": 30,
     "metadata": {},
     "output_type": "execute_result"
    }
   ],
   "source": [
    "df_data_raw.columns"
   ]
  },
  {
   "cell_type": "code",
   "execution_count": 31,
   "metadata": {},
   "outputs": [],
   "source": [
    "cols_to_str = ['distinct_transaction_count_m1', 'sum_positive_amount_m1',\n",
    "       'sum_negative_amount_m1', 'distinct_transaction_count_m2',\n",
    "       'sum_positive_amount_m2', 'sum_negative_amount_m2']\n",
    "for col in cols_to_str:\n",
    "    df_data_raw[col] = df_data_raw[col].apply(lambda x: str(x))"
   ]
  },
  {
   "cell_type": "code",
   "execution_count": 32,
   "metadata": {},
   "outputs": [],
   "source": [
    "df_data_raw['text2'] = df_data_raw['description_combined_processed'] + ' [SEP] ' + df_data_raw['merchant_name'] + ' Feats:'+df_data_raw['distinct_transaction_count_m1'] \\\n",
    "    +' maxamt: '+df_data_raw['sum_positive_amount_m1'] +' minamt: '+df_data_raw['sum_negative_amount_m1']+' [SEP] ' + df_data_raw['merchant_name2']+ ' Feats:'+df_data_raw['distinct_transaction_count_m2'] \\\n",
    "    +' maxamt: '+df_data_raw['sum_positive_amount_m2'] +' minamt: '+df_data_raw['sum_negative_amount_m2']"
   ]
  },
  {
   "cell_type": "code",
   "execution_count": 33,
   "metadata": {},
   "outputs": [
    {
     "name": "stdout",
     "output_type": "stream",
     "text": [
      "Withdrawal POS #054006/POS CASEYS #1 669 W ELM ST 669 W ELM ST\\r\\n\\r\\nLEBANON MO\\r\\n\\r\\nCard 958502 [SEP] Casey''s Lincoln [SEP] Casey''s\n",
      "Withdrawal POS #054006/POS CASEYS #1 669 W ELM ST 669 W ELM ST\\r\\n\\r\\nLEBANON MO\\r\\n\\r\\nCard 958502 [SEP] Casey''s Lincoln Feats:3170405 maxamt: 9525.58 minamt: -20870803.11 [SEP] Casey''s Feats:0 maxamt: 0 minamt: 0\n"
     ]
    }
   ],
   "source": [
    "print(df_data_raw['text'][10])\n",
    "print(df_data_raw['text2'][10])"
   ]
  },
  {
   "cell_type": "code",
   "execution_count": 34,
   "metadata": {},
   "outputs": [],
   "source": [
    "modeling_columns = ['transaction_id', 'amount','text','text2','merchant_name','merchant_name2','description_combined_processed','label']"
   ]
  },
  {
   "cell_type": "code",
   "execution_count": 35,
   "metadata": {},
   "outputs": [],
   "source": [
    "df_data_raw = df_data_raw[modeling_columns]"
   ]
  },
  {
   "cell_type": "code",
   "execution_count": 36,
   "metadata": {},
   "outputs": [
    {
     "name": "stdout",
     "output_type": "stream",
     "text": [
      "(5000000, 8)\n"
     ]
    },
    {
     "name": "stdout",
     "output_type": "stream",
     "text": [
      "(5000000, 8)\n",
      "(5000000, 8)\n",
      "(5000000, 8)\n"
     ]
    }
   ],
   "source": [
    "print(df_data_raw.shape)\n",
    "df_data_raw = df_data_raw[~df_data_raw['merchant_name'].isnull()][:]\n",
    "print(df_data_raw.shape)\n",
    "df_data_raw = df_data_raw[~df_data_raw['merchant_name2'].isnull()][:]\n",
    "print(df_data_raw.shape)\n",
    "df_data_raw = df_data_raw[~df_data_raw['description_combined_processed'].isnull()][:]\n",
    "print(df_data_raw.shape)"
   ]
  },
  {
   "cell_type": "code",
   "execution_count": 37,
   "metadata": {},
   "outputs": [],
   "source": [
    "df_data_raw['sent_m1'] = df_data_raw['description_combined_processed'] + ' |SEP| ' +df_data_raw['merchant_name']\n",
    "df_data_raw['sent_m2'] = df_data_raw['description_combined_processed'] + ' |SEP| ' + df_data_raw['merchant_name2']"
   ]
  },
  {
   "cell_type": "code",
   "execution_count": 38,
   "metadata": {},
   "outputs": [],
   "source": [
    "# I have to clean the positive examples more, to capture more difficult examples"
   ]
  },
  {
   "cell_type": "code",
   "execution_count": 39,
   "metadata": {},
   "outputs": [
    {
     "name": "stdout",
     "output_type": "stream",
     "text": [
      "Direct Debit: Cleo Ai, Cleo Ai , Ibplmj9 K9 [SEP] Cleo [SEP] Clash Nicosia\n",
      "Direct Debit: Cleo Ai, Cleo Ai , Ibplmj9 K9 |SEP| Cleo\n",
      "Direct Debit: Cleo Ai, Cleo Ai , Ibplmj9 K9 |SEP| Clash Nicosia\n",
      "0\n"
     ]
    }
   ],
   "source": [
    "ix = 60050 \n",
    "print(df_data_raw['text'][ix])\n",
    "print(df_data_raw['sent_m1'][ix])\n",
    "print(df_data_raw['sent_m2'][ix])\n",
    "print(df_data_raw['label'][ix])"
   ]
  },
  {
   "cell_type": "code",
   "execution_count": 40,
   "metadata": {},
   "outputs": [
    {
     "data": {
      "text/html": [
       "<div>\n",
       "<style scoped>\n",
       "    .dataframe tbody tr th:only-of-type {\n",
       "        vertical-align: middle;\n",
       "    }\n",
       "\n",
       "    .dataframe tbody tr th {\n",
       "        vertical-align: top;\n",
       "    }\n",
       "\n",
       "    .dataframe thead th {\n",
       "        text-align: right;\n",
       "    }\n",
       "</style>\n",
       "<table border=\"1\" class=\"dataframe\">\n",
       "  <thead>\n",
       "    <tr style=\"text-align: right;\">\n",
       "      <th></th>\n",
       "      <th>transaction_id</th>\n",
       "      <th>amount</th>\n",
       "      <th>text</th>\n",
       "      <th>text2</th>\n",
       "      <th>merchant_name</th>\n",
       "      <th>merchant_name2</th>\n",
       "      <th>description_combined_processed</th>\n",
       "      <th>label</th>\n",
       "      <th>sent_m1</th>\n",
       "      <th>sent_m2</th>\n",
       "    </tr>\n",
       "  </thead>\n",
       "  <tbody>\n",
       "    <tr>\n",
       "      <th>0</th>\n",
       "      <td>9711158815</td>\n",
       "      <td>-2.25</td>\n",
       "      <td>MOBILE PURCHASE 0505 HART-FLAMINGOFARES.COM TA...</td>\n",
       "      <td>MOBILE PURCHASE 0505 HART-FLAMINGOFARES.COM TA...</td>\n",
       "      <td>Hart Flamingofares</td>\n",
       "      <td>Hart-flamingofares</td>\n",
       "      <td>MOBILE PURCHASE 0505 HART-FLAMINGOFARES.COM TA...</td>\n",
       "      <td>1</td>\n",
       "      <td>MOBILE PURCHASE 0505 HART-FLAMINGOFARES.COM TA...</td>\n",
       "      <td>MOBILE PURCHASE 0505 HART-FLAMINGOFARES.COM TA...</td>\n",
       "    </tr>\n",
       "    <tr>\n",
       "      <th>1</th>\n",
       "      <td>9740980806</td>\n",
       "      <td>-200.00</td>\n",
       "      <td>PURCHASE AUTHORIZED ON 05/07 KIDS UNLIMITED IN...</td>\n",
       "      <td>PURCHASE AUTHORIZED ON 05/07 KIDS UNLIMITED IN...</td>\n",
       "      <td>Kids Unlimited</td>\n",
       "      <td>Kids Unlimited Inc</td>\n",
       "      <td>PURCHASE AUTHORIZED ON 05/07 KIDS UNLIMITED IN...</td>\n",
       "      <td>1</td>\n",
       "      <td>PURCHASE AUTHORIZED ON 05/07 KIDS UNLIMITED IN...</td>\n",
       "      <td>PURCHASE AUTHORIZED ON 05/07 KIDS UNLIMITED IN...</td>\n",
       "    </tr>\n",
       "    <tr>\n",
       "      <th>2</th>\n",
       "      <td>9796548131</td>\n",
       "      <td>-30.00</td>\n",
       "      <td>CHECKCARD 0511 EDWARDGURKA-MATCO XXXXX96003 TX...</td>\n",
       "      <td>CHECKCARD 0511 EDWARDGURKA-MATCO XXXXX96003 TX...</td>\n",
       "      <td>Edwardgurka Matcotools Rosharon</td>\n",
       "      <td>Edwardgurka-matco</td>\n",
       "      <td>CHECKCARD 0511 EDWARDGURKA-MATCO XXXXX96003 TX...</td>\n",
       "      <td>1</td>\n",
       "      <td>CHECKCARD 0511 EDWARDGURKA-MATCO XXXXX96003 TX...</td>\n",
       "      <td>CHECKCARD 0511 EDWARDGURKA-MATCO XXXXX96003 TX...</td>\n",
       "    </tr>\n",
       "    <tr>\n",
       "      <th>3</th>\n",
       "      <td>9978142547</td>\n",
       "      <td>-25.04</td>\n",
       "      <td>Caseys [SEP] Casey''s Lincoln [SEP] Casey''s</td>\n",
       "      <td>Caseys [SEP] Casey''s Lincoln Feats:3170405 ma...</td>\n",
       "      <td>Casey''s Lincoln</td>\n",
       "      <td>Casey''s</td>\n",
       "      <td>Caseys</td>\n",
       "      <td>1</td>\n",
       "      <td>Caseys |SEP| Casey''s Lincoln</td>\n",
       "      <td>Caseys |SEP| Casey''s</td>\n",
       "    </tr>\n",
       "    <tr>\n",
       "      <th>4</th>\n",
       "      <td>9694955604</td>\n",
       "      <td>-13.69</td>\n",
       "      <td>Point Of Sale Withdrawal HUGO INSURANCE SOLNHT...</td>\n",
       "      <td>Point Of Sale Withdrawal HUGO INSURANCE SOLNHT...</td>\n",
       "      <td>With</td>\n",
       "      <td>Hugo Insurance</td>\n",
       "      <td>Point Of Sale Withdrawal HUGO INSURANCE SOLNHT...</td>\n",
       "      <td>1</td>\n",
       "      <td>Point Of Sale Withdrawal HUGO INSURANCE SOLNHT...</td>\n",
       "      <td>Point Of Sale Withdrawal HUGO INSURANCE SOLNHT...</td>\n",
       "    </tr>\n",
       "  </tbody>\n",
       "</table>\n",
       "</div>"
      ],
      "text/plain": [
       "   transaction_id   amount                                               text  \\\n",
       "0      9711158815    -2.25  MOBILE PURCHASE 0505 HART-FLAMINGOFARES.COM TA...   \n",
       "1      9740980806  -200.00  PURCHASE AUTHORIZED ON 05/07 KIDS UNLIMITED IN...   \n",
       "2      9796548131   -30.00  CHECKCARD 0511 EDWARDGURKA-MATCO XXXXX96003 TX...   \n",
       "3      9978142547   -25.04       Caseys [SEP] Casey''s Lincoln [SEP] Casey''s   \n",
       "4      9694955604   -13.69  Point Of Sale Withdrawal HUGO INSURANCE SOLNHT...   \n",
       "\n",
       "                                               text2  \\\n",
       "0  MOBILE PURCHASE 0505 HART-FLAMINGOFARES.COM TA...   \n",
       "1  PURCHASE AUTHORIZED ON 05/07 KIDS UNLIMITED IN...   \n",
       "2  CHECKCARD 0511 EDWARDGURKA-MATCO XXXXX96003 TX...   \n",
       "3  Caseys [SEP] Casey''s Lincoln Feats:3170405 ma...   \n",
       "4  Point Of Sale Withdrawal HUGO INSURANCE SOLNHT...   \n",
       "\n",
       "                     merchant_name      merchant_name2  \\\n",
       "0               Hart Flamingofares  Hart-flamingofares   \n",
       "1                   Kids Unlimited  Kids Unlimited Inc   \n",
       "2  Edwardgurka Matcotools Rosharon   Edwardgurka-matco   \n",
       "3                 Casey''s Lincoln            Casey''s   \n",
       "4                             With      Hugo Insurance   \n",
       "\n",
       "                      description_combined_processed  label  \\\n",
       "0  MOBILE PURCHASE 0505 HART-FLAMINGOFARES.COM TA...      1   \n",
       "1  PURCHASE AUTHORIZED ON 05/07 KIDS UNLIMITED IN...      1   \n",
       "2  CHECKCARD 0511 EDWARDGURKA-MATCO XXXXX96003 TX...      1   \n",
       "3                                             Caseys      1   \n",
       "4  Point Of Sale Withdrawal HUGO INSURANCE SOLNHT...      1   \n",
       "\n",
       "                                             sent_m1  \\\n",
       "0  MOBILE PURCHASE 0505 HART-FLAMINGOFARES.COM TA...   \n",
       "1  PURCHASE AUTHORIZED ON 05/07 KIDS UNLIMITED IN...   \n",
       "2  CHECKCARD 0511 EDWARDGURKA-MATCO XXXXX96003 TX...   \n",
       "3                      Caseys |SEP| Casey''s Lincoln   \n",
       "4  Point Of Sale Withdrawal HUGO INSURANCE SOLNHT...   \n",
       "\n",
       "                                             sent_m2  \n",
       "0  MOBILE PURCHASE 0505 HART-FLAMINGOFARES.COM TA...  \n",
       "1  PURCHASE AUTHORIZED ON 05/07 KIDS UNLIMITED IN...  \n",
       "2  CHECKCARD 0511 EDWARDGURKA-MATCO XXXXX96003 TX...  \n",
       "3                              Caseys |SEP| Casey''s  \n",
       "4  Point Of Sale Withdrawal HUGO INSURANCE SOLNHT...  "
      ]
     },
     "execution_count": 40,
     "metadata": {},
     "output_type": "execute_result"
    }
   ],
   "source": [
    "df_data_raw.head()"
   ]
  },
  {
   "cell_type": "code",
   "execution_count": 41,
   "metadata": {},
   "outputs": [
    {
     "data": {
      "text/plain": [
       "label\n",
       "0    4000000\n",
       "1    1000000\n",
       "Name: count, dtype: Int64"
      ]
     },
     "execution_count": 41,
     "metadata": {},
     "output_type": "execute_result"
    }
   ],
   "source": [
    "df_data_raw['label'].value_counts()"
   ]
  },
  {
   "cell_type": "markdown",
   "metadata": {},
   "source": [
    "### Convert to dataset"
   ]
  },
  {
   "cell_type": "code",
   "execution_count": 42,
   "metadata": {},
   "outputs": [],
   "source": [
    "label_col= 'label'\n",
    "text_col = 'text'"
   ]
  },
  {
   "cell_type": "code",
   "execution_count": 43,
   "metadata": {},
   "outputs": [],
   "source": [
    "from sklearn.model_selection import train_test_split"
   ]
  },
  {
   "cell_type": "code",
   "execution_count": 44,
   "metadata": {},
   "outputs": [],
   "source": [
    "df_data_raw[label_col] = df_data_raw[label_col].astype(float)"
   ]
  },
  {
   "cell_type": "code",
   "execution_count": 45,
   "metadata": {},
   "outputs": [],
   "source": [
    "df_ , df_test, y_, y_test = train_test_split(df_data_raw, df_data_raw[label_col], test_size = 0.05, random_state=1)\n",
    "df_train, df_val, y_train, y_test = train_test_split(df_, df_[label_col], test_size = 0.05, random_state=1)\n"
   ]
  },
  {
   "cell_type": "code",
   "execution_count": 46,
   "metadata": {},
   "outputs": [
    {
     "data": {
      "text/plain": [
       "286"
      ]
     },
     "execution_count": 46,
     "metadata": {},
     "output_type": "execute_result"
    }
   ],
   "source": [
    "df_data_raw[text_col].apply(lambda x: len(x)).max()"
   ]
  },
  {
   "cell_type": "code",
   "execution_count": 47,
   "metadata": {},
   "outputs": [],
   "source": [
    "from datasets import Dataset\n",
    "\n",
    "ds_train = Dataset.from_pandas(df_train[[label_col,text_col]][0:100000])\n",
    "ds_val = Dataset.from_pandas(df_val[[label_col,text_col]][0:10000])\n",
    "ds_test = Dataset.from_pandas(df_test[[label_col,text_col]][0:10000])\n",
    "\n",
    "# ds_train = ds_train.rename_columns({label_col: \"score\",text_col1:\"sentence1\", text_col2:\"sentence2\"})\n",
    "# ds_val = ds_val.rename_columns({label_col: \"score\",text_col1:\"sentence1\", text_col2:\"sentence2\"})\n",
    "# ds_test = ds_test.rename_columns({label_col: \"score\",text_col1:\"sentence1\", text_col2:\"sentence2\"})"
   ]
  },
  {
   "cell_type": "code",
   "execution_count": 48,
   "metadata": {},
   "outputs": [
    {
     "data": {
      "text/plain": [
       "100000"
      ]
     },
     "execution_count": 48,
     "metadata": {},
     "output_type": "execute_result"
    }
   ],
   "source": [
    "len(ds_train)"
   ]
  },
  {
   "cell_type": "markdown",
   "metadata": {},
   "source": [
    "# Load model"
   ]
  },
  {
   "cell_type": "code",
   "execution_count": 49,
   "metadata": {},
   "outputs": [],
   "source": [
    "import torch\n",
    "torch.cuda.empty_cache()\n"
   ]
  },
  {
   "cell_type": "code",
   "execution_count": 50,
   "metadata": {},
   "outputs": [
    {
     "name": "stderr",
     "output_type": "stream",
     "text": [
      "/opt/conda/lib/python3.10/site-packages/huggingface_hub/file_download.py:1132: FutureWarning: `resume_download` is deprecated and will be removed in version 1.0.0. Downloads always resume when possible. If you want to force a new download, use `force_download=True`.\n",
      "  warnings.warn(\n"
     ]
    },
    {
     "data": {
      "application/vnd.jupyter.widget-view+json": {
       "model_id": "856dae3353c94773988b49a3a344f1a6",
       "version_major": 2,
       "version_minor": 0
      },
      "text/plain": [
       "Map:   0%|          | 0/100000 [00:00<?, ? examples/s]"
      ]
     },
     "metadata": {},
     "output_type": "display_data"
    }
   ],
   "source": [
    "from transformers import AutoTokenizer\n",
    "\n",
    "model_name = \"google-bert/bert-base-cased\"\n",
    "\n",
    "tokenizer = AutoTokenizer.from_pretrained(model_name)\n",
    "\n",
    "\n",
    "def tokenize_function(examples):\n",
    "    return tokenizer(examples[\"text\"], padding=\"max_length\", truncation=True)\n",
    "\n",
    "\n",
    "tokenized_ds_train = ds_train.map(tokenize_function, batched=True)"
   ]
  },
  {
   "cell_type": "code",
   "execution_count": 51,
   "metadata": {},
   "outputs": [
    {
     "data": {
      "application/vnd.jupyter.widget-view+json": {
       "model_id": "9399e067c34847fa83d2677014ed2086",
       "version_major": 2,
       "version_minor": 0
      },
      "text/plain": [
       "Map:   0%|          | 0/10000 [00:00<?, ? examples/s]"
      ]
     },
     "metadata": {},
     "output_type": "display_data"
    },
    {
     "data": {
      "application/vnd.jupyter.widget-view+json": {
       "model_id": "0c892b982bb740c28e5dc7af9acbad8e",
       "version_major": 2,
       "version_minor": 0
      },
      "text/plain": [
       "Map:   0%|          | 0/10000 [00:00<?, ? examples/s]"
      ]
     },
     "metadata": {},
     "output_type": "display_data"
    }
   ],
   "source": [
    "tokenized_ds_val = ds_val.map(tokenize_function, batched=True)\n",
    "tokenized_ds_test = ds_test.map(tokenize_function, batched=True)"
   ]
  },
  {
   "cell_type": "code",
   "execution_count": 52,
   "metadata": {},
   "outputs": [
    {
     "name": "stderr",
     "output_type": "stream",
     "text": [
      "2024-06-20 10:24:37.854336: I tensorflow/core/platform/cpu_feature_guard.cc:182] This TensorFlow binary is optimized to use available CPU instructions in performance-critical operations.\n",
      "To enable the following instructions: SSE4.1 SSE4.2 AVX AVX2 FMA, in other operations, rebuild TensorFlow with the appropriate compiler flags.\n",
      "Some weights of BertForSequenceClassification were not initialized from the model checkpoint at google-bert/bert-base-cased and are newly initialized: ['classifier.bias', 'classifier.weight']\n",
      "You should probably TRAIN this model on a down-stream task to be able to use it for predictions and inference.\n"
     ]
    }
   ],
   "source": [
    "from transformers import AutoModelForSequenceClassification\n",
    "\n",
    "model = AutoModelForSequenceClassification.from_pretrained(model_name, num_labels=1)"
   ]
  },
  {
   "cell_type": "code",
   "execution_count": 59,
   "metadata": {},
   "outputs": [],
   "source": [
    "import numpy as np\n",
    "import evaluate\n",
    "\n",
    "#metric = evaluate.load(\"accuracy\")\n",
    "metric = evaluate.load(\"precision\")"
   ]
  },
  {
   "cell_type": "code",
   "execution_count": 60,
   "metadata": {},
   "outputs": [],
   "source": [
    "def compute_metrics(eval_pred):\n",
    "    logits, labels = eval_pred\n",
    "    predictions = np.argmax(logits, axis=-1)\n",
    "    return metric.compute(predictions=predictions, references=labels)"
   ]
  },
  {
   "cell_type": "code",
   "execution_count": 61,
   "metadata": {},
   "outputs": [],
   "source": [
    "from transformers import TrainingArguments, Trainer\n",
    "\n",
    "training_args = TrainingArguments(output_dir=\"/home/sagemaker-user/models/xenc1\", evaluation_strategy=\"steps\", \\\n",
    "    num_train_epochs=1, per_device_train_batch_size=32, per_device_eval_batch_size=32, \\\n",
    "         eval_steps=500,\n",
    "    save_strategy=\"steps\",\n",
    "    save_steps=500,\n",
    "    save_total_limit=100,\n",
    "    logging_steps=500)"
   ]
  },
  {
   "cell_type": "code",
   "execution_count": 62,
   "metadata": {},
   "outputs": [],
   "source": [
    "trainer = Trainer(\n",
    "    model=model,\n",
    "    args=training_args,\n",
    "    train_dataset=tokenized_ds_train,\n",
    "    eval_dataset=tokenized_ds_val,\n",
    "    compute_metrics=compute_metrics,\n",
    ")"
   ]
  },
  {
   "cell_type": "code",
   "execution_count": 63,
   "metadata": {},
   "outputs": [
    {
     "name": "stderr",
     "output_type": "stream",
     "text": [
      "/opt/conda/lib/python3.10/site-packages/transformers/optimization.py:411: FutureWarning: This implementation of AdamW is deprecated and will be removed in a future version. Use the PyTorch implementation torch.optim.AdamW instead, or set `no_deprecation_warning=True` to disable this warning\n",
      "  warnings.warn(\n"
     ]
    },
    {
     "data": {
      "text/html": [
       "\n",
       "    <div>\n",
       "      \n",
       "      <progress value='135' max='3125' style='width:300px; height:20px; vertical-align: middle;'></progress>\n",
       "      [ 135/3125 01:51 < 41:38, 1.20 it/s, Epoch 0.04/1]\n",
       "    </div>\n",
       "    <table border=\"1\" class=\"dataframe\">\n",
       "  <thead>\n",
       " <tr style=\"text-align: left;\">\n",
       "      <th>Step</th>\n",
       "      <th>Training Loss</th>\n",
       "      <th>Validation Loss</th>\n",
       "    </tr>\n",
       "  </thead>\n",
       "  <tbody>\n",
       "  </tbody>\n",
       "</table><p>"
      ],
      "text/plain": [
       "<IPython.core.display.HTML object>"
      ]
     },
     "metadata": {},
     "output_type": "display_data"
    }
   ],
   "source": [
    "trainer.train()"
   ]
  },
  {
   "cell_type": "code",
   "execution_count": null,
   "metadata": {},
   "outputs": [],
   "source": []
  },
  {
   "cell_type": "code",
   "execution_count": 21,
   "metadata": {},
   "outputs": [],
   "source": [
    "import torch\n",
    "from torch.utils.data import Dataset, DataLoader"
   ]
  },
  {
   "cell_type": "code",
   "execution_count": 51,
   "metadata": {},
   "outputs": [],
   "source": [
    "class PandasDataset(Dataset):\n",
    "    def __init__(self, dataframe, text_col, label_col):\n",
    "        self.dataframe = dataframe\n",
    "        self.text = dataframe[text_col].values  # Assuming 'target' is the label column\n",
    "        self.labels = dataframe[label_col].values\n",
    "\n",
    "    def __len__(self):\n",
    "        return len(self.dataframe)\n",
    "\n",
    "    def __getitem__(self, idx):\n",
    "        text = self.text[idx]\n",
    "        label = self.labels[idx]\n",
    "        return text, label"
   ]
  },
  {
   "cell_type": "code",
   "execution_count": 26,
   "metadata": {},
   "outputs": [
    {
     "ename": "TypeError",
     "evalue": "PandasDataset.__init__() missing 2 required positional arguments: 'text_col' and 'label_col'",
     "output_type": "error",
     "traceback": [
      "\u001b[0;31m---------------------------------------------------------------------------\u001b[0m",
      "\u001b[0;31mTypeError\u001b[0m                                 Traceback (most recent call last)",
      "\u001b[1;32m/home/sagemaker-user/exploration/MERCHANTS/Biencoder_v2_sbert_clean2.ipynb Cell 23\u001b[0m line \u001b[0;36m1\n\u001b[0;32m----> <a href='vscode-notebook-cell://mevoqhifxrgq2ey.studio.us-east-1.sagemaker.aws/home/sagemaker-user/exploration/MERCHANTS/Biencoder_v2_sbert_clean2.ipynb#X21sdnNjb2RlLXJlbW90ZQ%3D%3D?line=0'>1</a>\u001b[0m dataset \u001b[39m=\u001b[39m PandasDataset(df_data_raw)\n",
      "\u001b[0;31mTypeError\u001b[0m: PandasDataset.__init__() missing 2 required positional arguments: 'text_col' and 'label_col'"
     ]
    }
   ],
   "source": [
    "# dataset = PandasDataset(df_data_raw, )"
   ]
  },
  {
   "cell_type": "markdown",
   "metadata": {},
   "source": [
    "# Load model"
   ]
  },
  {
   "cell_type": "code",
   "execution_count": 15,
   "metadata": {},
   "outputs": [
    {
     "name": "stderr",
     "output_type": "stream",
     "text": [
      "/opt/conda/lib/python3.10/site-packages/huggingface_hub/file_download.py:1132: FutureWarning: `resume_download` is deprecated and will be removed in version 1.0.0. Downloads always resume when possible. If you want to force a new download, use `force_download=True`.\n",
      "  warnings.warn(\n",
      "2024-06-18 12:39:05.971559: I tensorflow/core/platform/cpu_feature_guard.cc:182] This TensorFlow binary is optimized to use available CPU instructions in performance-critical operations.\n",
      "To enable the following instructions: SSE4.1 SSE4.2 AVX AVX2 FMA, in other operations, rebuild TensorFlow with the appropriate compiler flags.\n",
      "Some weights of BertForSequenceClassification were not initialized from the model checkpoint at bert-base-cased and are newly initialized: ['classifier.bias', 'classifier.weight']\n",
      "You should probably TRAIN this model on a down-stream task to be able to use it for predictions and inference.\n"
     ]
    }
   ],
   "source": [
    "# from transformers import AutoModelForSequenceClassification\n",
    "\n",
    "# model = AutoModelForSequenceClassification.from_pretrained(\"bert-base-cased\", num_labels=1)"
   ]
  },
  {
   "cell_type": "code",
   "execution_count": 16,
   "metadata": {},
   "outputs": [
    {
     "name": "stderr",
     "output_type": "stream",
     "text": [
      "/opt/conda/lib/python3.10/site-packages/huggingface_hub/file_download.py:1132: FutureWarning: `resume_download` is deprecated and will be removed in version 1.0.0. Downloads always resume when possible. If you want to force a new download, use `force_download=True`.\n",
      "  warnings.warn(\n"
     ]
    }
   ],
   "source": [
    "# from transformers import AutoTokenizer\n",
    "\n",
    "# tokenizer = AutoTokenizer.from_pretrained(\"bert-base-cased\")\n",
    "\n",
    "\n",
    "# def tokenize_function(examples):\n",
    "#     return tokenizer(examples[\"text\"], padding=\"max_length\", truncation=True)\n",
    "\n"
   ]
  },
  {
   "cell_type": "code",
   "execution_count": 17,
   "metadata": {},
   "outputs": [],
   "source": [
    "# class TokenizedPandasDataset(Dataset):\n",
    "#     def __init__(self, dataframe, tokenizer, text_column, label_column):\n",
    "#         self.dataframe = dataframe\n",
    "#         self.text = dataframe[text_column].values  # Assuming 'target' is the label column\n",
    "#         self.labels = dataframe[label_column].values\n",
    "#         self.tokenizer = tokenizer\n",
    "#         self.encodings = self.tokenizer(list(self.text), truncation=True, padding=True, max_length=128, return_tensors=\"pt\")\n",
    "\n",
    "#     def __len__(self):\n",
    "#         return len(self.dataframe)\n",
    "\n",
    "#     def __getitem__(self, idx):\n",
    "#         item = {key: val[idx] for key, val in self.encodings.items()}\n",
    "#         item['labels'] = torch.tensor(self.labels[idx], dtype=torch.long)\n",
    "#         return item\n",
    "\n",
    "\n",
    "# # Create tokenized dataset\n",
    "# #tokenized_dataset = TokenizedPandasDataset(df_data_raw, tokenizer, text_column='text', label_column='label')\n"
   ]
  },
  {
   "cell_type": "code",
   "execution_count": 24,
   "metadata": {},
   "outputs": [
    {
     "name": "stdout",
     "output_type": "stream",
     "text": [
      "[('PURCHASE AUTHORIZED ON 05/14 DAIRY QUEEN # MESA AZ S CARD . Channel: in store. Amount: -7.6 [SEP] Dairy Queen [SEP] Dairy Queen', 'SEZZLE*DD DOORDASHMinneapol is MNSEZZLE*DD D. Channel: None. Amount: -11.7 [SEP] Sezzle [SEP] Ringling Market', 'DAVE INC LOS ANGELES CA 05/15. Channel: None. Amount: 125.0 [SEP] Dave Inc [SEP] Dave Inc', 'Online Banking transfer to CHK Confirmation# . Channel: None. Amount: -4.0 [SEP] Online Banking Transfer [SEP] Online Banking Transfer', 'Recurring Withdrawal Bill Payment - # Spotify USA 877- NY Card . Channel: online. Amount: -11.8 [SEP] Spotify [SEP] Food Stor', \"DUNKIN # , SHIPPENSBURG, PA. Channel: in store. Amount: -5.3 [SEP] Dunkin'' Donuts [SEP] Hyatt Resorts\", \" ZAXBY''S # HERNANDO MS**. Channel: in store. Amount: -18.1 [SEP] Zaxby''s [SEP] Brigit\", 'PURCHASE FLEX FINANCE NEW YORK NY . Channel: online. Amount: -813.5 [SEP] Flex Finance [SEP] Flex Finance'), tensor([1, 0, 1, 1, 0, 0, 0, 1])]\n",
      "[('NCIC INMATE PHONE SERVI 903- TX. Channel: online. Amount: -10.0 [SEP] Ncic Inmate Phone Serv [SEP] Top Ten Liquors Mp', \"POS PUR- 05/17 / 01:37 CASH APP*ALFRED SAN FRANCISCO CA. Channel: None. Amount: -7.7 [SEP] Cash App Alfred [SEP] Debbie''s Got The Tea\", 'Dbt Crd Aldi Westerville Oh. Channel: in store. Amount: -26.9 [SEP] Aldi [SEP] Aldi', 'AFFIRM * PAY P7AZI 05-15 855-423- CA DEBIT CARD RECURRING PYMT. Channel: None. Amount: -14.9 [SEP] Affirm [SEP] ExxonMobil', 'POS MAC BP# CAPL PARMA OH. Channel: in store. Amount: -22.5 [SEP] BP [SEP] Trail Drive Management', 'Transfer To Savings - . Channel: None. Amount: -400.0 [SEP] Savings [SEP] FloatMe', 'DEBIT CARD PURCHASE AT DD DOORDASH CHICK-, , CA ON FROM CARD#: . Channel: online. Amount: -19.6 [SEP] Chick-fil-A [SEP] Empower', 'SHELL OIL PEORIA AZ 05/14. Channel: in store. Amount: -86.2 [SEP] Shell [SEP] Empower'), tensor([0, 0, 1, 0, 0, 0, 0, 0])]\n",
      "[('POS Debit - Visa Check Card - MICROSOFT MICROSOFT XB REDMON SAMUEL L BREWER POS TRANSACTION. Channel: in store. Amount: -9.6 [SEP] Microsoft [SEP] Microsoft', 'PIZZA HUT DDA PIN POS PUR CD https://ipcha AR# . Channel: online. Amount: -15.5 [SEP] Pizza Hut [SEP] Pizza Hut', 'Google Hiya. Channel: online. Amount: -4.0 [SEP] Hiya [SEP] Express Cafe', \"WITHDRAWAL POS # MCDONALD''S F W JEFFERSON ST QUINCY FL. Channel: in store. Amount: -11.6 [SEP] McDonald''s [SEP] McDonald''s\", 'POS Withdrawal (FIP) SHEETZ SHEETZ MARENGO OH( ). Channel: in store. Amount: -5.5 [SEP] Sheetz [SEP] Sheetz', 'VOLA DES:VOLA ID: IGGBX58EG INDN:Dezmond Handy CO ID: WEB. Channel: in store. Amount: -100.0 [SEP] Vola [SEP] Mast Store Knoxville', 'NUGGET MARKET #10 ROSEVILLE CA 05/14. Channel: in store. Amount: -34.3 [SEP] Nugget Market [SEP] Chick-fil-A', 'Sp Bodycandy. Channel: in store. Amount: -12.5 [SEP] Bodycandy [SEP] Bodycandy'), tensor([1, 1, 0, 1, 1, 0, 0, 1])]\n",
      "[('Withdrawal # / EMPIRE PC KO OK 66 US CLAREMORE OK %% Card 16 # . Channel: in store. Amount: -3.2 [SEP] Empire Pc [SEP] Total Wine & More', 'SHELL OIL CHICAGO IL 05/14. Channel: in store. Amount: -4.7 [SEP] Shell [SEP] Boscovs', 'CHEVRON VENUS TX. Channel: in store. Amount: -19.9 [SEP] Chevron [SEP] Chevron', 'UBER *TRIP HELP.UBER.COM 800- CA. Channel: online. Amount: -24.0 [SEP] Uber [SEP] Uber', 'Cash App Transfer to Keyara Smith. Channel: None. Amount: -50.9 [SEP] Cash App Transfer [SEP] Cash App Transfer', 'COSTCO WHSE #0 05/15 # MOBILE PURCHASE COSTCO WHSE #06 AUSTIN TX. Channel: online. Amount: -9.2 [SEP] Costco [SEP] Costco', 'BKOFAMERICA ATM 05/15 # WITHDRWL S BAY PAVILLION AT CARSON CA. Channel: None. Amount: -20.0 [SEP] Bank of America ATM [SEP] Cash Withdrawal', 'Visa Checking INSTACASH REPAYMENT 888-659- NY Date 05/18/24 0 0 Card 15 # . Channel: None. Amount: -2.0 [SEP] MoneyLion [SEP] Fiber'), tensor([0, 0, 1, 1, 1, 1, 0, 0])]\n",
      "[('DBT CRD AFTERPAY 044- CA C# . Channel: None. Amount: -1.9 [SEP] Afterpay [SEP] Afterpay', 'FOODTOWN DAVIE FL 05/16. Channel: in store. Amount: -29.5 [SEP] Foodtown [SEP] Foodtown', 'BKOFAMERICA ATM 05/16 # DEPOSIT CONSTANT FRIENDSHI ABINGDON MD. Channel: None. Amount: 370.0 [SEP] Bank of America ATM [SEP] Bank of America ATM', 'PURCHASE AUTHORIZED ON 05/16 EL RANCHO #22 ODESSA TX P CARD . Channel: in store. Amount: -79.0 [SEP] El Rancho [SEP] Alta', 'RECURRING PAYMENT AUTHORIZED ON 05/15 ZIP* QUADPAY ANYWH 188- NY S CARD . Channel: None. Amount: -36.1 [SEP] Zip.co [SEP] Zip.co', 'POS PURCHASE POS TARGET T- Summerville SC. Channel: in store. Amount: -70.3 [SEP] Target [SEP] Target', ' PURCHASE-SIG SHELL OIL CYNTHIANA KY . Channel: in store. Amount: -20.0 [SEP] Shell [SEP] Loan', 'P2P BARCLAYS BANK DE . Channel: None. Amount: 35.0 [SEP] Barclays [SEP] Wells Fargo'), tensor([1, 1, 1, 0, 1, 1, 0, 0])]\n"
     ]
    }
   ],
   "source": [
    "# # Create DataLoader\n",
    "# dataloader = DataLoader(dataset, batch_size=8, shuffle=True)\n",
    "\n",
    "# i = 0\n",
    "# # Iterate through the DataLoader\n",
    "# for batch in dataloader:\n",
    "#     print(batch)\n",
    "#     tokenized_batch = tokenizer(batch[0], truncation=True, padding=True)\n",
    "#     i+=1\n",
    "#     if i>4:\n",
    "#         break\n"
   ]
  },
  {
   "cell_type": "code",
   "execution_count": 44,
   "metadata": {},
   "outputs": [
    {
     "data": {
      "text/plain": [
       "8"
      ]
     },
     "execution_count": 44,
     "metadata": {},
     "output_type": "execute_result"
    }
   ],
   "source": [
    "len(tokenized_batch['input_ids'])"
   ]
  },
  {
   "cell_type": "code",
   "execution_count": 45,
   "metadata": {},
   "outputs": [],
   "source": [
    "# i_train = 1000\n",
    "\n",
    "# small_train_dataset = PandasDataset(df_data_raw[0:i_train])\n",
    "# small_val_dataset = PandasDataset(df_data_raw[i_train:2*i_train])"
   ]
  },
  {
   "cell_type": "code",
   "execution_count": 43,
   "metadata": {},
   "outputs": [
    {
     "data": {
      "text/plain": [
       "<__main__.PandasDataset at 0x7f46914583d0>"
      ]
     },
     "execution_count": 43,
     "metadata": {},
     "output_type": "execute_result"
    }
   ],
   "source": [
    "# train_small_dataloader = DataLoader(small_train_dataset, batch_size=8, shuffle=True)\n"
   ]
  },
  {
   "cell_type": "code",
   "execution_count": null,
   "metadata": {},
   "outputs": [],
   "source": [
    "# from tqdm.auto import tqdm\n",
    "\n",
    "# progress_bar = tqdm(range(num_training_steps))\n",
    "\n",
    "# model.train()\n",
    "# for epoch in range(num_epochs):\n",
    "#     for batch in train_dataloader:\n",
    "#         batch = {k: v.to(device) for k, v in batch.items()}\n",
    "#         outputs = model(**batch)\n",
    "#         loss = outputs.loss\n",
    "#         loss.backward()\n",
    "\n",
    "#         optimizer.step()\n",
    "#         lr_scheduler.step()\n",
    "#         optimizer.zero_grad()\n",
    "#         progress_bar.update(1)"
   ]
  },
  {
   "cell_type": "code",
   "execution_count": 39,
   "metadata": {},
   "outputs": [],
   "source": [
    "# from transformers import TrainingArguments\n",
    "\n",
    "# training_args = TrainingArguments(output_dir=\"test_trainer\")"
   ]
  },
  {
   "cell_type": "code",
   "execution_count": 40,
   "metadata": {},
   "outputs": [
    {
     "data": {
      "application/vnd.jupyter.widget-view+json": {
       "model_id": "6fc2dc3a0853473b9729e2a0a801f28d",
       "version_major": 2,
       "version_minor": 0
      },
      "text/plain": [
       "Downloading builder script:   0%|          | 0.00/4.20k [00:00<?, ?B/s]"
      ]
     },
     "metadata": {},
     "output_type": "display_data"
    }
   ],
   "source": [
    "# import numpy as np\n",
    "# import evaluate\n",
    "\n",
    "# metric = evaluate.load(\"accuracy\")"
   ]
  },
  {
   "cell_type": "code",
   "execution_count": 41,
   "metadata": {},
   "outputs": [],
   "source": [
    "# def compute_metrics(eval_pred):\n",
    "#     logits, labels = eval_pred\n",
    "#     predictions = np.argmax(logits, axis=-1)\n",
    "#     return metric.compute(predictions=predictions, references=labels)"
   ]
  },
  {
   "cell_type": "code",
   "execution_count": null,
   "metadata": {},
   "outputs": [],
   "source": [
    "# train_encodings = tokenizer(train_texts, truncation=True, padding=True)\n",
    "# val_encodings = tokenizer(val_texts, truncation=True, padding=True)\n",
    "# test_encodings = tokenizer(test_texts, truncation=True, padding=True)"
   ]
  },
  {
   "cell_type": "code",
   "execution_count": 42,
   "metadata": {},
   "outputs": [],
   "source": [
    "# from transformers import TrainingArguments, Trainer\n",
    "\n",
    "# training_args = TrainingArguments(output_dir=\"test_trainer\", evaluation_strategy=\"epoch\")"
   ]
  },
  {
   "cell_type": "code",
   "execution_count": null,
   "metadata": {},
   "outputs": [],
   "source": [
    "# trainer = Trainer(\n",
    "#     model=model,\n",
    "#     args=training_args,\n",
    "#     train_dataset=small_train_dataset,\n",
    "#     eval_dataset=small_eval_dataset,\n",
    "#     compute_metrics=compute_metrics,\n",
    "# )"
   ]
  },
  {
   "cell_type": "code",
   "execution_count": null,
   "metadata": {},
   "outputs": [],
   "source": [
    "# I don't wantt o tokenize all the dataset at once, but rather tokenize"
   ]
  },
  {
   "cell_type": "code",
   "execution_count": null,
   "metadata": {},
   "outputs": [],
   "source": [
    "torch.cuda.empty_cache()"
   ]
  },
  {
   "cell_type": "code",
   "execution_count": 52,
   "metadata": {},
   "outputs": [
    {
     "name": "stdout",
     "output_type": "stream",
     "text": [
      "Collecting accelerate==0.27.2\n",
      "  Downloading accelerate-0.27.2-py3-none-any.whl.metadata (18 kB)\n",
      "Requirement already satisfied: numpy>=1.17 in /opt/conda/lib/python3.10/site-packages (from accelerate==0.27.2) (1.26.4)\n",
      "Requirement already satisfied: packaging>=20.0 in /opt/conda/lib/python3.10/site-packages (from accelerate==0.27.2) (23.2)\n",
      "Requirement already satisfied: psutil in /opt/conda/lib/python3.10/site-packages (from accelerate==0.27.2) (5.9.8)\n",
      "Requirement already satisfied: pyyaml in /opt/conda/lib/python3.10/site-packages (from accelerate==0.27.2) (6.0.1)\n",
      "Requirement already satisfied: torch>=1.10.0 in /opt/conda/lib/python3.10/site-packages (from accelerate==0.27.2) (2.0.0.post304)\n",
      "Requirement already satisfied: huggingface-hub in /opt/conda/lib/python3.10/site-packages (from accelerate==0.27.2) (0.23.0)\n",
      "Requirement already satisfied: safetensors>=0.3.1 in /opt/conda/lib/python3.10/site-packages (from accelerate==0.27.2) (0.4.3)\n",
      "Requirement already satisfied: filelock in /opt/conda/lib/python3.10/site-packages (from torch>=1.10.0->accelerate==0.27.2) (3.14.0)\n",
      "Requirement already satisfied: typing-extensions in /opt/conda/lib/python3.10/site-packages (from torch>=1.10.0->accelerate==0.27.2) (4.11.0)\n",
      "Requirement already satisfied: sympy in /opt/conda/lib/python3.10/site-packages (from torch>=1.10.0->accelerate==0.27.2) (1.12)\n",
      "Requirement already satisfied: networkx in /opt/conda/lib/python3.10/site-packages (from torch>=1.10.0->accelerate==0.27.2) (3.3)\n",
      "Requirement already satisfied: jinja2 in /opt/conda/lib/python3.10/site-packages (from torch>=1.10.0->accelerate==0.27.2) (3.1.4)\n",
      "Requirement already satisfied: fsspec>=2023.5.0 in /opt/conda/lib/python3.10/site-packages (from huggingface-hub->accelerate==0.27.2) (2023.6.0)\n",
      "Requirement already satisfied: requests in /opt/conda/lib/python3.10/site-packages (from huggingface-hub->accelerate==0.27.2) (2.31.0)\n",
      "Requirement already satisfied: tqdm>=4.42.1 in /opt/conda/lib/python3.10/site-packages (from huggingface-hub->accelerate==0.27.2) (4.66.4)\n",
      "Requirement already satisfied: MarkupSafe>=2.0 in /opt/conda/lib/python3.10/site-packages (from jinja2->torch>=1.10.0->accelerate==0.27.2) (2.1.5)\n",
      "Requirement already satisfied: charset-normalizer<4,>=2 in /opt/conda/lib/python3.10/site-packages (from requests->huggingface-hub->accelerate==0.27.2) (3.3.2)\n",
      "Requirement already satisfied: idna<4,>=2.5 in /opt/conda/lib/python3.10/site-packages (from requests->huggingface-hub->accelerate==0.27.2) (3.7)\n",
      "Requirement already satisfied: urllib3<3,>=1.21.1 in /opt/conda/lib/python3.10/site-packages (from requests->huggingface-hub->accelerate==0.27.2) (1.26.18)\n",
      "Requirement already satisfied: certifi>=2017.4.17 in /opt/conda/lib/python3.10/site-packages (from requests->huggingface-hub->accelerate==0.27.2) (2024.2.2)\n",
      "Requirement already satisfied: mpmath>=0.19 in /opt/conda/lib/python3.10/site-packages (from sympy->torch>=1.10.0->accelerate==0.27.2) (1.3.0)\n",
      "Downloading accelerate-0.27.2-py3-none-any.whl (279 kB)\n",
      "\u001b[2K   \u001b[90m━━━━━━━━━━━━━━━━━━━━━━━━━━━━━━━━━━━━━━━━\u001b[0m \u001b[32m280.0/280.0 kB\u001b[0m \u001b[31m27.0 MB/s\u001b[0m eta \u001b[36m0:00:00\u001b[0m\n",
      "\u001b[?25hInstalling collected packages: accelerate\n",
      "  Attempting uninstall: accelerate\n",
      "    Found existing installation: accelerate 0.21.0\n",
      "    Uninstalling accelerate-0.21.0:\n",
      "      Successfully uninstalled accelerate-0.21.0\n",
      "\u001b[31mERROR: pip's dependency resolver does not currently take into account all the packages that are installed. This behaviour is the source of the following dependency conflicts.\n",
      "autogluon-multimodal 0.8.3 requires accelerate<0.22.0,>=0.21.0, but you have accelerate 0.27.2 which is incompatible.\n",
      "autogluon-multimodal 0.8.3 requires pandas<1.6,>=1.4.1, but you have pandas 2.1.4 which is incompatible.\n",
      "autogluon-multimodal 0.8.3 requires pytorch-lightning<1.10.0,>=1.9.0, but you have pytorch-lightning 2.0.9 which is incompatible.\n",
      "autogluon-multimodal 0.8.3 requires scikit-learn<1.4.1,>=1.1, but you have scikit-learn 1.4.2 which is incompatible.\n",
      "autogluon-multimodal 0.8.3 requires torch<1.14,>=1.9, but you have torch 2.0.0.post304 which is incompatible.\n",
      "autogluon-multimodal 0.8.3 requires torchmetrics<0.12.0,>=0.11.0, but you have torchmetrics 1.0.3 which is incompatible.\n",
      "autogluon-multimodal 0.8.3 requires torchvision<0.15.0, but you have torchvision 0.15.2a0+ab7b3e6 which is incompatible.\u001b[0m\u001b[31m\n",
      "\u001b[0mSuccessfully installed accelerate-0.27.2\n",
      "Note: you may need to restart the kernel to use updated packages.\n",
      "Collecting sentence-transformers\n",
      "  Downloading sentence_transformers-3.0.1-py3-none-any.whl.metadata (10 kB)\n",
      "Requirement already satisfied: transformers<5.0.0,>=4.34.0 in /opt/conda/lib/python3.10/site-packages (from sentence-transformers) (4.40.2)\n",
      "Requirement already satisfied: tqdm in /opt/conda/lib/python3.10/site-packages (from sentence-transformers) (4.66.4)\n",
      "Requirement already satisfied: torch>=1.11.0 in /opt/conda/lib/python3.10/site-packages (from sentence-transformers) (2.0.0.post304)\n",
      "Requirement already satisfied: numpy in /opt/conda/lib/python3.10/site-packages (from sentence-transformers) (1.26.4)\n",
      "Requirement already satisfied: scikit-learn in /opt/conda/lib/python3.10/site-packages (from sentence-transformers) (1.4.2)\n",
      "Requirement already satisfied: scipy in /opt/conda/lib/python3.10/site-packages (from sentence-transformers) (1.11.4)\n",
      "Requirement already satisfied: huggingface-hub>=0.15.1 in /opt/conda/lib/python3.10/site-packages (from sentence-transformers) (0.23.0)\n",
      "Requirement already satisfied: Pillow in /opt/conda/lib/python3.10/site-packages (from sentence-transformers) (10.3.0)\n",
      "Requirement already satisfied: filelock in /opt/conda/lib/python3.10/site-packages (from huggingface-hub>=0.15.1->sentence-transformers) (3.14.0)\n",
      "Requirement already satisfied: fsspec>=2023.5.0 in /opt/conda/lib/python3.10/site-packages (from huggingface-hub>=0.15.1->sentence-transformers) (2023.6.0)\n",
      "Requirement already satisfied: packaging>=20.9 in /opt/conda/lib/python3.10/site-packages (from huggingface-hub>=0.15.1->sentence-transformers) (23.2)\n",
      "Requirement already satisfied: pyyaml>=5.1 in /opt/conda/lib/python3.10/site-packages (from huggingface-hub>=0.15.1->sentence-transformers) (6.0.1)\n",
      "Requirement already satisfied: requests in /opt/conda/lib/python3.10/site-packages (from huggingface-hub>=0.15.1->sentence-transformers) (2.31.0)\n",
      "Requirement already satisfied: typing-extensions>=3.7.4.3 in /opt/conda/lib/python3.10/site-packages (from huggingface-hub>=0.15.1->sentence-transformers) (4.11.0)\n",
      "Requirement already satisfied: sympy in /opt/conda/lib/python3.10/site-packages (from torch>=1.11.0->sentence-transformers) (1.12)\n",
      "Requirement already satisfied: networkx in /opt/conda/lib/python3.10/site-packages (from torch>=1.11.0->sentence-transformers) (3.3)\n",
      "Requirement already satisfied: jinja2 in /opt/conda/lib/python3.10/site-packages (from torch>=1.11.0->sentence-transformers) (3.1.4)\n",
      "Requirement already satisfied: regex!=2019.12.17 in /opt/conda/lib/python3.10/site-packages (from transformers<5.0.0,>=4.34.0->sentence-transformers) (2024.5.10)\n",
      "Requirement already satisfied: tokenizers<0.20,>=0.19 in /opt/conda/lib/python3.10/site-packages (from transformers<5.0.0,>=4.34.0->sentence-transformers) (0.19.1)\n",
      "Requirement already satisfied: safetensors>=0.4.1 in /opt/conda/lib/python3.10/site-packages (from transformers<5.0.0,>=4.34.0->sentence-transformers) (0.4.3)\n",
      "Requirement already satisfied: joblib>=1.2.0 in /opt/conda/lib/python3.10/site-packages (from scikit-learn->sentence-transformers) (1.4.2)\n",
      "Requirement already satisfied: threadpoolctl>=2.0.0 in /opt/conda/lib/python3.10/site-packages (from scikit-learn->sentence-transformers) (3.5.0)\n",
      "Requirement already satisfied: MarkupSafe>=2.0 in /opt/conda/lib/python3.10/site-packages (from jinja2->torch>=1.11.0->sentence-transformers) (2.1.5)\n",
      "Requirement already satisfied: charset-normalizer<4,>=2 in /opt/conda/lib/python3.10/site-packages (from requests->huggingface-hub>=0.15.1->sentence-transformers) (3.3.2)\n",
      "Requirement already satisfied: idna<4,>=2.5 in /opt/conda/lib/python3.10/site-packages (from requests->huggingface-hub>=0.15.1->sentence-transformers) (3.7)\n",
      "Requirement already satisfied: urllib3<3,>=1.21.1 in /opt/conda/lib/python3.10/site-packages (from requests->huggingface-hub>=0.15.1->sentence-transformers) (1.26.18)\n",
      "Requirement already satisfied: certifi>=2017.4.17 in /opt/conda/lib/python3.10/site-packages (from requests->huggingface-hub>=0.15.1->sentence-transformers) (2024.2.2)\n",
      "Requirement already satisfied: mpmath>=0.19 in /opt/conda/lib/python3.10/site-packages (from sympy->torch>=1.11.0->sentence-transformers) (1.3.0)\n",
      "Downloading sentence_transformers-3.0.1-py3-none-any.whl (227 kB)\n",
      "\u001b[2K   \u001b[90m━━━━━━━━━━━━━━━━━━━━━━━━━━━━━━━━━━━━━━━━\u001b[0m \u001b[32m227.1/227.1 kB\u001b[0m \u001b[31m19.8 MB/s\u001b[0m eta \u001b[36m0:00:00\u001b[0m\n",
      "\u001b[?25hInstalling collected packages: sentence-transformers\n",
      "Successfully installed sentence-transformers-3.0.1\n",
      "Note: you may need to restart the kernel to use updated packages.\n",
      "Collecting umap-learn\n",
      "  Downloading umap_learn-0.5.6-py3-none-any.whl.metadata (21 kB)\n",
      "Requirement already satisfied: numpy>=1.17 in /opt/conda/lib/python3.10/site-packages (from umap-learn) (1.26.4)\n",
      "Requirement already satisfied: scipy>=1.3.1 in /opt/conda/lib/python3.10/site-packages (from umap-learn) (1.11.4)\n",
      "Requirement already satisfied: scikit-learn>=0.22 in /opt/conda/lib/python3.10/site-packages (from umap-learn) (1.4.2)\n",
      "Requirement already satisfied: numba>=0.51.2 in /opt/conda/lib/python3.10/site-packages (from umap-learn) (0.59.1)\n",
      "Collecting pynndescent>=0.5 (from umap-learn)\n",
      "  Downloading pynndescent-0.5.13-py3-none-any.whl.metadata (6.8 kB)\n",
      "Requirement already satisfied: tqdm in /opt/conda/lib/python3.10/site-packages (from umap-learn) (4.66.4)\n",
      "Requirement already satisfied: llvmlite<0.43,>=0.42.0dev0 in /opt/conda/lib/python3.10/site-packages (from numba>=0.51.2->umap-learn) (0.42.0)\n",
      "Requirement already satisfied: joblib>=0.11 in /opt/conda/lib/python3.10/site-packages (from pynndescent>=0.5->umap-learn) (1.4.2)\n",
      "Requirement already satisfied: threadpoolctl>=2.0.0 in /opt/conda/lib/python3.10/site-packages (from scikit-learn>=0.22->umap-learn) (3.5.0)\n",
      "Downloading umap_learn-0.5.6-py3-none-any.whl (85 kB)\n",
      "\u001b[2K   \u001b[90m━━━━━━━━━━━━━━━━━━━━━━━━━━━━━━━━━━━━━━━━\u001b[0m \u001b[32m85.7/85.7 kB\u001b[0m \u001b[31m11.5 MB/s\u001b[0m eta \u001b[36m0:00:00\u001b[0m\n",
      "\u001b[?25hDownloading pynndescent-0.5.13-py3-none-any.whl (56 kB)\n",
      "\u001b[2K   \u001b[90m━━━━━━━━━━━━━━━━━━━━━━━━━━━━━━━━━━━━━━━━\u001b[0m \u001b[32m56.9/56.9 kB\u001b[0m \u001b[31m8.4 MB/s\u001b[0m eta \u001b[36m0:00:00\u001b[0m\n",
      "\u001b[?25hInstalling collected packages: pynndescent, umap-learn\n",
      "Successfully installed pynndescent-0.5.13 umap-learn-0.5.6\n",
      "Note: you may need to restart the kernel to use updated packages.\n"
     ]
    }
   ],
   "source": [
    "%pip install accelerate==0.27.2\n",
    "%pip install sentence-transformers\n",
    "%pip install umap-learn\n",
    "#%pip install cleodata --extra-index-url \"https://aws:$(aws codeartifact get-authorization-token --domain meetcleo --domain-owner 878877078763 --query authorizationToken --output text)@meetcleo-878877078763.d.codeartifact.us-east-1.amazonaws.com/pypi/meetcleo-releases/simple/\""
   ]
  },
  {
   "cell_type": "code",
   "execution_count": 2,
   "metadata": {},
   "outputs": [],
   "source": [
    "# %pip install awswrangler\n",
    "# %pip install --upgrade sentence_transformers"
   ]
  },
  {
   "cell_type": "code",
   "execution_count": 53,
   "metadata": {},
   "outputs": [],
   "source": [
    "import pandas as pd\n",
    "from datetime import datetime\n",
    "import awswrangler as wr\n",
    "import boto3\n",
    "from botocore.exceptions import ClientError\n",
    "from io import StringIO\n",
    "#from fastparquet import ParquetFile\n",
    "#boto3.setup_default_session(profile_name='DataScientist-878877078763')\n",
    "# from cleodata.utils.secrets import get_secret\n",
    "#from cleodata.sources.sync.sync import SyncDataSource\n",
    "#redshift_source = SyncDataSource(\"data_exploration\", use_redshift=True, redshift_cluster=\"cleo-production-redshift\", redshift_db=\"cleo\")"
   ]
  },
  {
   "cell_type": "code",
   "execution_count": 54,
   "metadata": {},
   "outputs": [
    {
     "name": "stderr",
     "output_type": "stream",
     "text": [
      "2024-06-19 14:37:50.621423: I tensorflow/core/platform/cpu_feature_guard.cc:182] This TensorFlow binary is optimized to use available CPU instructions in performance-critical operations.\n",
      "To enable the following instructions: SSE4.1 SSE4.2 AVX AVX2 FMA, in other operations, rebuild TensorFlow with the appropriate compiler flags.\n"
     ]
    }
   ],
   "source": [
    "import pandas as pd\n",
    "import torch\n",
    "from sklearn.metrics.pairwise import cosine_similarity\n",
    "import umap\n",
    "from sentence_transformers import SentenceTransformer, models\n",
    "from sentence_transformers import SentenceTransformer, InputExample\n",
    "from torch.utils.data import DataLoader\n",
    "from sentence_transformers import losses\n",
    "from sklearn.model_selection import train_test_split"
   ]
  },
  {
   "cell_type": "code",
   "execution_count": 55,
   "metadata": {},
   "outputs": [
    {
     "name": "stdout",
     "output_type": "stream",
     "text": [
      "2.0.0.post304\n"
     ]
    }
   ],
   "source": [
    "import torch\n",
    "print(torch.__version__)"
   ]
  },
  {
   "cell_type": "code",
   "execution_count": 56,
   "metadata": {},
   "outputs": [],
   "source": [
    "# s3_path = \"s3://cleo-data-science/transaction_enrichment/experimental_data/caste/trx-merchant-pair/trans_2024-05-14_2024-05-14_top_2001.parquet\"\n",
    "# s3_path = \"https://cleo-data-science.s3.amazonaws.com/transaction_enrichment/experimental_data/caste/trx-merchant-pair/trans_2024-05-18_2024-05-18_top_1_39000.parquet/\"\n",
    "# s3_path = \"s3://cleo-data-science/transaction_enrichment/experimental_data/caste/trx-merchant-pair/cons_2024-05-15_2024-05-18_1.parquet/\"\n",
    "\n",
    "# df_data_raw = wr.s3.read_parquet(path=s3_path)\n",
    "# df_data_raw.shape"
   ]
  },
  {
   "cell_type": "code",
   "execution_count": 57,
   "metadata": {},
   "outputs": [
    {
     "name": "stdout",
     "output_type": "stream",
     "text": [
      "1\n"
     ]
    }
   ],
   "source": [
    "print(torch.cuda.device_count())"
   ]
  },
  {
   "cell_type": "code",
   "execution_count": 58,
   "metadata": {},
   "outputs": [
    {
     "data": {
      "text/html": [
       "<div>\n",
       "<style scoped>\n",
       "    .dataframe tbody tr th:only-of-type {\n",
       "        vertical-align: middle;\n",
       "    }\n",
       "\n",
       "    .dataframe tbody tr th {\n",
       "        vertical-align: top;\n",
       "    }\n",
       "\n",
       "    .dataframe thead th {\n",
       "        text-align: right;\n",
       "    }\n",
       "</style>\n",
       "<table border=\"1\" class=\"dataframe\">\n",
       "  <thead>\n",
       "    <tr style=\"text-align: right;\">\n",
       "      <th></th>\n",
       "      <th>transaction_id</th>\n",
       "      <th>amount</th>\n",
       "      <th>text</th>\n",
       "      <th>merchant_name</th>\n",
       "      <th>merchant_name2</th>\n",
       "      <th>description_combined_processed</th>\n",
       "      <th>label</th>\n",
       "      <th>sent_m1</th>\n",
       "      <th>sent_m2</th>\n",
       "    </tr>\n",
       "  </thead>\n",
       "  <tbody>\n",
       "    <tr>\n",
       "      <th>0</th>\n",
       "      <td>9711158815</td>\n",
       "      <td>-2.25</td>\n",
       "      <td>MOBILE PURCHASE 0505 HART-FLAMINGOFARES.COM TA...</td>\n",
       "      <td>Hart Flamingofares</td>\n",
       "      <td>Hart-flamingofares</td>\n",
       "      <td>MOBILE PURCHASE 0505 HART-FLAMINGOFARES.COM TA...</td>\n",
       "      <td>1</td>\n",
       "      <td>MOBILE PURCHASE 0505 HART-FLAMINGOFARES.COM TA...</td>\n",
       "      <td>MOBILE PURCHASE 0505 HART-FLAMINGOFARES.COM TA...</td>\n",
       "    </tr>\n",
       "    <tr>\n",
       "      <th>1</th>\n",
       "      <td>9740980806</td>\n",
       "      <td>-200.00</td>\n",
       "      <td>PURCHASE AUTHORIZED ON 05/07 KIDS UNLIMITED IN...</td>\n",
       "      <td>Kids Unlimited</td>\n",
       "      <td>Kids Unlimited Inc</td>\n",
       "      <td>PURCHASE AUTHORIZED ON 05/07 KIDS UNLIMITED IN...</td>\n",
       "      <td>1</td>\n",
       "      <td>PURCHASE AUTHORIZED ON 05/07 KIDS UNLIMITED IN...</td>\n",
       "      <td>PURCHASE AUTHORIZED ON 05/07 KIDS UNLIMITED IN...</td>\n",
       "    </tr>\n",
       "    <tr>\n",
       "      <th>2</th>\n",
       "      <td>9796548131</td>\n",
       "      <td>-30.00</td>\n",
       "      <td>CHECKCARD 0511 EDWARDGURKA-MATCO XXXXX96003 TX...</td>\n",
       "      <td>Edwardgurka Matcotools Rosharon</td>\n",
       "      <td>Edwardgurka-matco</td>\n",
       "      <td>CHECKCARD 0511 EDWARDGURKA-MATCO XXXXX96003 TX...</td>\n",
       "      <td>1</td>\n",
       "      <td>CHECKCARD 0511 EDWARDGURKA-MATCO XXXXX96003 TX...</td>\n",
       "      <td>CHECKCARD 0511 EDWARDGURKA-MATCO XXXXX96003 TX...</td>\n",
       "    </tr>\n",
       "    <tr>\n",
       "      <th>3</th>\n",
       "      <td>9978142547</td>\n",
       "      <td>-25.04</td>\n",
       "      <td>Caseys [SEP] Casey''s Lincoln [SEP] Casey''s</td>\n",
       "      <td>Casey''s Lincoln</td>\n",
       "      <td>Casey''s</td>\n",
       "      <td>Caseys</td>\n",
       "      <td>1</td>\n",
       "      <td>Caseys |SEP| Casey''s Lincoln</td>\n",
       "      <td>Caseys |SEP| Casey''s</td>\n",
       "    </tr>\n",
       "    <tr>\n",
       "      <th>4</th>\n",
       "      <td>9694955604</td>\n",
       "      <td>-13.69</td>\n",
       "      <td>Point Of Sale Withdrawal HUGO INSURANCE SOLNHT...</td>\n",
       "      <td>With</td>\n",
       "      <td>Hugo Insurance</td>\n",
       "      <td>Point Of Sale Withdrawal HUGO INSURANCE SOLNHT...</td>\n",
       "      <td>1</td>\n",
       "      <td>Point Of Sale Withdrawal HUGO INSURANCE SOLNHT...</td>\n",
       "      <td>Point Of Sale Withdrawal HUGO INSURANCE SOLNHT...</td>\n",
       "    </tr>\n",
       "  </tbody>\n",
       "</table>\n",
       "</div>"
      ],
      "text/plain": [
       "   transaction_id   amount                                               text  \\\n",
       "0      9711158815    -2.25  MOBILE PURCHASE 0505 HART-FLAMINGOFARES.COM TA...   \n",
       "1      9740980806  -200.00  PURCHASE AUTHORIZED ON 05/07 KIDS UNLIMITED IN...   \n",
       "2      9796548131   -30.00  CHECKCARD 0511 EDWARDGURKA-MATCO XXXXX96003 TX...   \n",
       "3      9978142547   -25.04       Caseys [SEP] Casey''s Lincoln [SEP] Casey''s   \n",
       "4      9694955604   -13.69  Point Of Sale Withdrawal HUGO INSURANCE SOLNHT...   \n",
       "\n",
       "                     merchant_name      merchant_name2  \\\n",
       "0               Hart Flamingofares  Hart-flamingofares   \n",
       "1                   Kids Unlimited  Kids Unlimited Inc   \n",
       "2  Edwardgurka Matcotools Rosharon   Edwardgurka-matco   \n",
       "3                 Casey''s Lincoln            Casey''s   \n",
       "4                             With      Hugo Insurance   \n",
       "\n",
       "                      description_combined_processed  label  \\\n",
       "0  MOBILE PURCHASE 0505 HART-FLAMINGOFARES.COM TA...      1   \n",
       "1  PURCHASE AUTHORIZED ON 05/07 KIDS UNLIMITED IN...      1   \n",
       "2  CHECKCARD 0511 EDWARDGURKA-MATCO XXXXX96003 TX...      1   \n",
       "3                                             Caseys      1   \n",
       "4  Point Of Sale Withdrawal HUGO INSURANCE SOLNHT...      1   \n",
       "\n",
       "                                             sent_m1  \\\n",
       "0  MOBILE PURCHASE 0505 HART-FLAMINGOFARES.COM TA...   \n",
       "1  PURCHASE AUTHORIZED ON 05/07 KIDS UNLIMITED IN...   \n",
       "2  CHECKCARD 0511 EDWARDGURKA-MATCO XXXXX96003 TX...   \n",
       "3                      Caseys |SEP| Casey''s Lincoln   \n",
       "4  Point Of Sale Withdrawal HUGO INSURANCE SOLNHT...   \n",
       "\n",
       "                                             sent_m2  \n",
       "0  MOBILE PURCHASE 0505 HART-FLAMINGOFARES.COM TA...  \n",
       "1  PURCHASE AUTHORIZED ON 05/07 KIDS UNLIMITED IN...  \n",
       "2  CHECKCARD 0511 EDWARDGURKA-MATCO XXXXX96003 TX...  \n",
       "3                              Caseys |SEP| Casey''s  \n",
       "4  Point Of Sale Withdrawal HUGO INSURANCE SOLNHT...  "
      ]
     },
     "execution_count": 58,
     "metadata": {},
     "output_type": "execute_result"
    }
   ],
   "source": [
    "df_data_raw.head()"
   ]
  },
  {
   "cell_type": "code",
   "execution_count": 9,
   "metadata": {},
   "outputs": [],
   "source": [
    "#%pip install s3fs --upgrade\n",
    "#import s3fs"
   ]
  },
  {
   "cell_type": "code",
   "execution_count": 63,
   "metadata": {},
   "outputs": [],
   "source": [
    "label_col = 'label'\n",
    "text_col = \"description_combined_processed\""
   ]
  },
  {
   "cell_type": "code",
   "execution_count": 64,
   "metadata": {},
   "outputs": [
    {
     "name": "stdout",
     "output_type": "stream",
     "text": [
      "4275000 475000 250000\n"
     ]
    }
   ],
   "source": [
    "df_ , df_test, y_, y_test = train_test_split(df_data_raw, df_data_raw[label_col], test_size = 0.05, random_state=1)\n",
    "df_train, df_val, y_train, y_val = train_test_split(df_, df_[label_col], test_size = 0.1, random_state=1)\n",
    "df_train.reset_index(drop=True, inplace=True)\n",
    "df_val.reset_index(drop=True, inplace=True)\n",
    "df_test.reset_index(drop=True, inplace=True)\n",
    "print(df_train.shape[0], df_val.shape[0], df_test.shape[0])"
   ]
  },
  {
   "cell_type": "code",
   "execution_count": 65,
   "metadata": {},
   "outputs": [],
   "source": [
    "text_col = \"description_combined_processed\""
   ]
  },
  {
   "cell_type": "code",
   "execution_count": 66,
   "metadata": {},
   "outputs": [
    {
     "name": "stdout",
     "output_type": "stream",
     "text": [
      "45\n"
     ]
    }
   ],
   "source": [
    "df_train['len_sentence'] = df_train[text_col].apply(lambda x: len(x.split(' ')))\n",
    "print(df_train['len_sentence'].max())"
   ]
  },
  {
   "cell_type": "code",
   "execution_count": 67,
   "metadata": {},
   "outputs": [],
   "source": [
    "from sentence_transformers import SentenceTransformer, models\n",
    "from sentence_transformers import SentenceTransformer, InputExample\n",
    "from torch.utils.data import DataLoader"
   ]
  },
  {
   "cell_type": "code",
   "execution_count": 68,
   "metadata": {},
   "outputs": [
    {
     "name": "stderr",
     "output_type": "stream",
     "text": [
      "/opt/conda/lib/python3.10/site-packages/huggingface_hub/file_download.py:1132: FutureWarning: `resume_download` is deprecated and will be removed in version 1.0.0. Downloads always resume when possible. If you want to force a new download, use `force_download=True`.\n",
      "  warnings.warn(\n"
     ]
    },
    {
     "data": {
      "application/vnd.jupyter.widget-view+json": {
       "model_id": "572f7a5f52ee44a5a832da32b6366163",
       "version_major": 2,
       "version_minor": 0
      },
      "text/plain": [
       "config.json:   0%|          | 0.00/570 [00:00<?, ?B/s]"
      ]
     },
     "metadata": {},
     "output_type": "display_data"
    },
    {
     "data": {
      "application/vnd.jupyter.widget-view+json": {
       "model_id": "184e590f978b415b87ef5af174a544cf",
       "version_major": 2,
       "version_minor": 0
      },
      "text/plain": [
       "model.safetensors:   0%|          | 0.00/440M [00:00<?, ?B/s]"
      ]
     },
     "metadata": {},
     "output_type": "display_data"
    },
    {
     "data": {
      "application/vnd.jupyter.widget-view+json": {
       "model_id": "e690c85908254dd586086b82489ed718",
       "version_major": 2,
       "version_minor": 0
      },
      "text/plain": [
       "tokenizer_config.json:   0%|          | 0.00/48.0 [00:00<?, ?B/s]"
      ]
     },
     "metadata": {},
     "output_type": "display_data"
    },
    {
     "data": {
      "application/vnd.jupyter.widget-view+json": {
       "model_id": "2a55550fd1c64c1ea333173a312c1112",
       "version_major": 2,
       "version_minor": 0
      },
      "text/plain": [
       "vocab.txt:   0%|          | 0.00/232k [00:00<?, ?B/s]"
      ]
     },
     "metadata": {},
     "output_type": "display_data"
    },
    {
     "data": {
      "application/vnd.jupyter.widget-view+json": {
       "model_id": "35f35ddaed164490946851e9c681b601",
       "version_major": 2,
       "version_minor": 0
      },
      "text/plain": [
       "tokenizer.json:   0%|          | 0.00/466k [00:00<?, ?B/s]"
      ]
     },
     "metadata": {},
     "output_type": "display_data"
    }
   ],
   "source": [
    "\n",
    "word_embedding_model = models.Transformer(\"bert-base-uncased\", max_seq_length=128)\n",
    "pooling_model = models.Pooling(word_embedding_model.get_word_embedding_dimension())\n",
    "\n",
    "model = SentenceTransformer(modules=[word_embedding_model, pooling_model])"
   ]
  },
  {
   "cell_type": "code",
   "execution_count": 69,
   "metadata": {},
   "outputs": [
    {
     "data": {
      "text/plain": [
       "count    4.275000e+06\n",
       "mean     7.572865e+00\n",
       "std      4.185147e+00\n",
       "min      1.000000e+00\n",
       "25%      4.000000e+00\n",
       "50%      7.000000e+00\n",
       "75%      1.100000e+01\n",
       "max      4.500000e+01\n",
       "Name: len_sentence, dtype: float64"
      ]
     },
     "execution_count": 69,
     "metadata": {},
     "output_type": "execute_result"
    }
   ],
   "source": [
    "#pd.set_option('display.float_format', lambda x: '%.f' % x)\n",
    "#estimate maximum tokenized length\n",
    "df_train['len_sentence'].describe()"
   ]
  },
  {
   "cell_type": "code",
   "execution_count": 70,
   "metadata": {},
   "outputs": [
    {
     "name": "stdout",
     "output_type": "stream",
     "text": [
      "128\n",
      "128\n"
     ]
    }
   ],
   "source": [
    "print(model.max_seq_length)\n",
    "model.max_seq_length = 128\n",
    "print(model.max_seq_length)"
   ]
  },
  {
   "cell_type": "code",
   "execution_count": 71,
   "metadata": {},
   "outputs": [
    {
     "data": {
      "text/html": [
       "<div>\n",
       "<style scoped>\n",
       "    .dataframe tbody tr th:only-of-type {\n",
       "        vertical-align: middle;\n",
       "    }\n",
       "\n",
       "    .dataframe tbody tr th {\n",
       "        vertical-align: top;\n",
       "    }\n",
       "\n",
       "    .dataframe thead th {\n",
       "        text-align: right;\n",
       "    }\n",
       "</style>\n",
       "<table border=\"1\" class=\"dataframe\">\n",
       "  <thead>\n",
       "    <tr style=\"text-align: right;\">\n",
       "      <th></th>\n",
       "      <th>transaction_id</th>\n",
       "      <th>amount</th>\n",
       "      <th>text</th>\n",
       "      <th>merchant_name</th>\n",
       "      <th>merchant_name2</th>\n",
       "      <th>description_combined_processed</th>\n",
       "      <th>label</th>\n",
       "      <th>sent_m1</th>\n",
       "      <th>sent_m2</th>\n",
       "      <th>len_sentence</th>\n",
       "    </tr>\n",
       "  </thead>\n",
       "  <tbody>\n",
       "    <tr>\n",
       "      <th>0</th>\n",
       "      <td>10038658361</td>\n",
       "      <td>-40.00</td>\n",
       "      <td>Cleo Ai [SEP] Cleo [SEP] Financial Er</td>\n",
       "      <td>Cleo</td>\n",
       "      <td>Financial Er</td>\n",
       "      <td>Cleo Ai</td>\n",
       "      <td>0</td>\n",
       "      <td>Cleo Ai |SEP| Cleo</td>\n",
       "      <td>Cleo Ai |SEP| Financial Er</td>\n",
       "      <td>2</td>\n",
       "    </tr>\n",
       "    <tr>\n",
       "      <th>1</th>\n",
       "      <td>10018806520</td>\n",
       "      <td>-15.00</td>\n",
       "      <td>951231 PURCHASE-SIG TODD''S PLACE EXP SHELBYVI...</td>\n",
       "      <td>Todd''s Place Express C</td>\n",
       "      <td>Grs Service Stat</td>\n",
       "      <td>951231 PURCHASE-SIG TODD''S PLACE EXP SHELBYVI...</td>\n",
       "      <td>0</td>\n",
       "      <td>951231 PURCHASE-SIG TODD''S PLACE EXP SHELBYVI...</td>\n",
       "      <td>951231 PURCHASE-SIG TODD''S PLACE EXP SHELBYVI...</td>\n",
       "      <td>9</td>\n",
       "    </tr>\n",
       "    <tr>\n",
       "      <th>2</th>\n",
       "      <td>9985997014</td>\n",
       "      <td>-20.05</td>\n",
       "      <td>DD DOORDASH ONTHEBORD 855-973-1040 CA [SEP] Do...</td>\n",
       "      <td>Doordash</td>\n",
       "      <td>Teds Bulletin</td>\n",
       "      <td>DD DOORDASH ONTHEBORD 855-973-1040 CA</td>\n",
       "      <td>0</td>\n",
       "      <td>DD DOORDASH ONTHEBORD 855-973-1040 CA |SEP| Do...</td>\n",
       "      <td>DD DOORDASH ONTHEBORD 855-973-1040 CA |SEP| Te...</td>\n",
       "      <td>5</td>\n",
       "    </tr>\n",
       "    <tr>\n",
       "      <th>3</th>\n",
       "      <td>10120071730</td>\n",
       "      <td>-10.05</td>\n",
       "      <td>PURCHASE AUTHORIZED ON 05/14 7-ELEVEN Newport ...</td>\n",
       "      <td>7 Eleven</td>\n",
       "      <td>Zippy J</td>\n",
       "      <td>PURCHASE AUTHORIZED ON 05/14 7-ELEVEN Newport ...</td>\n",
       "      <td>0</td>\n",
       "      <td>PURCHASE AUTHORIZED ON 05/14 7-ELEVEN Newport ...</td>\n",
       "      <td>PURCHASE AUTHORIZED ON 05/14 7-ELEVEN Newport ...</td>\n",
       "      <td>11</td>\n",
       "    </tr>\n",
       "    <tr>\n",
       "      <th>4</th>\n",
       "      <td>9873180985</td>\n",
       "      <td>-30.00</td>\n",
       "      <td>CHECKCARD 0518 LION MART NO Memphis TN [SEP] L...</td>\n",
       "      <td>Lion Mart</td>\n",
       "      <td>Premier Cstore</td>\n",
       "      <td>CHECKCARD 0518 LION MART NO Memphis TN</td>\n",
       "      <td>0</td>\n",
       "      <td>CHECKCARD 0518 LION MART NO Memphis TN |SEP| L...</td>\n",
       "      <td>CHECKCARD 0518 LION MART NO Memphis TN |SEP| P...</td>\n",
       "      <td>7</td>\n",
       "    </tr>\n",
       "  </tbody>\n",
       "</table>\n",
       "</div>"
      ],
      "text/plain": [
       "   transaction_id  amount                                               text  \\\n",
       "0     10038658361  -40.00              Cleo Ai [SEP] Cleo [SEP] Financial Er   \n",
       "1     10018806520  -15.00  951231 PURCHASE-SIG TODD''S PLACE EXP SHELBYVI...   \n",
       "2      9985997014  -20.05  DD DOORDASH ONTHEBORD 855-973-1040 CA [SEP] Do...   \n",
       "3     10120071730  -10.05  PURCHASE AUTHORIZED ON 05/14 7-ELEVEN Newport ...   \n",
       "4      9873180985  -30.00  CHECKCARD 0518 LION MART NO Memphis TN [SEP] L...   \n",
       "\n",
       "             merchant_name    merchant_name2  \\\n",
       "0                     Cleo      Financial Er   \n",
       "1  Todd''s Place Express C  Grs Service Stat   \n",
       "2                 Doordash     Teds Bulletin   \n",
       "3                 7 Eleven           Zippy J   \n",
       "4                Lion Mart    Premier Cstore   \n",
       "\n",
       "                      description_combined_processed  label  \\\n",
       "0                                            Cleo Ai      0   \n",
       "1  951231 PURCHASE-SIG TODD''S PLACE EXP SHELBYVI...      0   \n",
       "2              DD DOORDASH ONTHEBORD 855-973-1040 CA      0   \n",
       "3  PURCHASE AUTHORIZED ON 05/14 7-ELEVEN Newport ...      0   \n",
       "4             CHECKCARD 0518 LION MART NO Memphis TN      0   \n",
       "\n",
       "                                             sent_m1  \\\n",
       "0                                 Cleo Ai |SEP| Cleo   \n",
       "1  951231 PURCHASE-SIG TODD''S PLACE EXP SHELBYVI...   \n",
       "2  DD DOORDASH ONTHEBORD 855-973-1040 CA |SEP| Do...   \n",
       "3  PURCHASE AUTHORIZED ON 05/14 7-ELEVEN Newport ...   \n",
       "4  CHECKCARD 0518 LION MART NO Memphis TN |SEP| L...   \n",
       "\n",
       "                                             sent_m2  len_sentence  \n",
       "0                         Cleo Ai |SEP| Financial Er             2  \n",
       "1  951231 PURCHASE-SIG TODD''S PLACE EXP SHELBYVI...             9  \n",
       "2  DD DOORDASH ONTHEBORD 855-973-1040 CA |SEP| Te...             5  \n",
       "3  PURCHASE AUTHORIZED ON 05/14 7-ELEVEN Newport ...            11  \n",
       "4  CHECKCARD 0518 LION MART NO Memphis TN |SEP| P...             7  "
      ]
     },
     "execution_count": 71,
     "metadata": {},
     "output_type": "execute_result"
    }
   ],
   "source": [
    "df_train.head()"
   ]
  },
  {
   "cell_type": "code",
   "execution_count": 72,
   "metadata": {},
   "outputs": [
    {
     "name": "stdout",
     "output_type": "stream",
     "text": [
      "951231 PURCHASE-SIG TODD''S PLACE EXP SHELBYVILLE KY 00408192 951231\n"
     ]
    }
   ],
   "source": [
    "one_sent = df_train[text_col][0]\n",
    "print(df_train[text_col][1])"
   ]
  },
  {
   "cell_type": "code",
   "execution_count": 73,
   "metadata": {},
   "outputs": [],
   "source": [
    "df_train['label'] = df_train['label'].astype('float32')\n",
    "#df_train['true_label'] = df_train['true_label'].astype('float32')\n",
    "#train_examples = [InputExample(texts = [df_train.loc[i,'sentence'], df_train.loc[i,'merchant_name_combined']], label=df_train.loc[i,'true_label']  ) for i in range(df_train.shape[0])]"
   ]
  },
  {
   "cell_type": "code",
   "execution_count": 74,
   "metadata": {},
   "outputs": [],
   "source": [
    "df_train.reset_index(drop=True, inplace=True)\n",
    "df_test.reset_index(drop=True, inplace=True)\n",
    "df_val.reset_index(drop=True, inplace=True)"
   ]
  },
  {
   "cell_type": "code",
   "execution_count": 75,
   "metadata": {},
   "outputs": [],
   "source": [
    "from torch.utils.data import Dataset, DataLoader\n",
    "from sentence_transformers.losses import CoSENTLoss\n"
   ]
  },
  {
   "cell_type": "code",
   "execution_count": 76,
   "metadata": {},
   "outputs": [
    {
     "data": {
      "text/html": [
       "<div>\n",
       "<style scoped>\n",
       "    .dataframe tbody tr th:only-of-type {\n",
       "        vertical-align: middle;\n",
       "    }\n",
       "\n",
       "    .dataframe tbody tr th {\n",
       "        vertical-align: top;\n",
       "    }\n",
       "\n",
       "    .dataframe thead th {\n",
       "        text-align: right;\n",
       "    }\n",
       "</style>\n",
       "<table border=\"1\" class=\"dataframe\">\n",
       "  <thead>\n",
       "    <tr style=\"text-align: right;\">\n",
       "      <th></th>\n",
       "      <th>transaction_id</th>\n",
       "      <th>amount</th>\n",
       "      <th>text</th>\n",
       "      <th>merchant_name</th>\n",
       "      <th>merchant_name2</th>\n",
       "      <th>description_combined_processed</th>\n",
       "      <th>label</th>\n",
       "      <th>sent_m1</th>\n",
       "      <th>sent_m2</th>\n",
       "    </tr>\n",
       "  </thead>\n",
       "  <tbody>\n",
       "    <tr>\n",
       "      <th>0</th>\n",
       "      <td>9711158815</td>\n",
       "      <td>-2.25</td>\n",
       "      <td>MOBILE PURCHASE 0505 HART-FLAMINGOFARES.COM TA...</td>\n",
       "      <td>Hart Flamingofares</td>\n",
       "      <td>Hart-flamingofares</td>\n",
       "      <td>MOBILE PURCHASE 0505 HART-FLAMINGOFARES.COM TA...</td>\n",
       "      <td>1</td>\n",
       "      <td>MOBILE PURCHASE 0505 HART-FLAMINGOFARES.COM TA...</td>\n",
       "      <td>MOBILE PURCHASE 0505 HART-FLAMINGOFARES.COM TA...</td>\n",
       "    </tr>\n",
       "    <tr>\n",
       "      <th>1</th>\n",
       "      <td>9740980806</td>\n",
       "      <td>-200.00</td>\n",
       "      <td>PURCHASE AUTHORIZED ON 05/07 KIDS UNLIMITED IN...</td>\n",
       "      <td>Kids Unlimited</td>\n",
       "      <td>Kids Unlimited Inc</td>\n",
       "      <td>PURCHASE AUTHORIZED ON 05/07 KIDS UNLIMITED IN...</td>\n",
       "      <td>1</td>\n",
       "      <td>PURCHASE AUTHORIZED ON 05/07 KIDS UNLIMITED IN...</td>\n",
       "      <td>PURCHASE AUTHORIZED ON 05/07 KIDS UNLIMITED IN...</td>\n",
       "    </tr>\n",
       "    <tr>\n",
       "      <th>2</th>\n",
       "      <td>9796548131</td>\n",
       "      <td>-30.00</td>\n",
       "      <td>CHECKCARD 0511 EDWARDGURKA-MATCO XXXXX96003 TX...</td>\n",
       "      <td>Edwardgurka Matcotools Rosharon</td>\n",
       "      <td>Edwardgurka-matco</td>\n",
       "      <td>CHECKCARD 0511 EDWARDGURKA-MATCO XXXXX96003 TX...</td>\n",
       "      <td>1</td>\n",
       "      <td>CHECKCARD 0511 EDWARDGURKA-MATCO XXXXX96003 TX...</td>\n",
       "      <td>CHECKCARD 0511 EDWARDGURKA-MATCO XXXXX96003 TX...</td>\n",
       "    </tr>\n",
       "    <tr>\n",
       "      <th>3</th>\n",
       "      <td>9978142547</td>\n",
       "      <td>-25.04</td>\n",
       "      <td>Caseys [SEP] Casey''s Lincoln [SEP] Casey''s</td>\n",
       "      <td>Casey''s Lincoln</td>\n",
       "      <td>Casey''s</td>\n",
       "      <td>Caseys</td>\n",
       "      <td>1</td>\n",
       "      <td>Caseys |SEP| Casey''s Lincoln</td>\n",
       "      <td>Caseys |SEP| Casey''s</td>\n",
       "    </tr>\n",
       "    <tr>\n",
       "      <th>4</th>\n",
       "      <td>9694955604</td>\n",
       "      <td>-13.69</td>\n",
       "      <td>Point Of Sale Withdrawal HUGO INSURANCE SOLNHT...</td>\n",
       "      <td>With</td>\n",
       "      <td>Hugo Insurance</td>\n",
       "      <td>Point Of Sale Withdrawal HUGO INSURANCE SOLNHT...</td>\n",
       "      <td>1</td>\n",
       "      <td>Point Of Sale Withdrawal HUGO INSURANCE SOLNHT...</td>\n",
       "      <td>Point Of Sale Withdrawal HUGO INSURANCE SOLNHT...</td>\n",
       "    </tr>\n",
       "    <tr>\n",
       "      <th>...</th>\n",
       "      <td>...</td>\n",
       "      <td>...</td>\n",
       "      <td>...</td>\n",
       "      <td>...</td>\n",
       "      <td>...</td>\n",
       "      <td>...</td>\n",
       "      <td>...</td>\n",
       "      <td>...</td>\n",
       "      <td>...</td>\n",
       "    </tr>\n",
       "    <tr>\n",
       "      <th>4999995</th>\n",
       "      <td>10145501441</td>\n",
       "      <td>-6.35</td>\n",
       "      <td>GOOGLE *Playrix Games [SEP] Playrix Games [SEP...</td>\n",
       "      <td>Playrix Games</td>\n",
       "      <td>King</td>\n",
       "      <td>GOOGLE *Playrix Games</td>\n",
       "      <td>0</td>\n",
       "      <td>GOOGLE *Playrix Games |SEP| Playrix Games</td>\n",
       "      <td>GOOGLE *Playrix Games |SEP| King</td>\n",
       "    </tr>\n",
       "    <tr>\n",
       "      <th>4999996</th>\n",
       "      <td>10145558378</td>\n",
       "      <td>-2.10</td>\n",
       "      <td>Signature POS Debit 05/03 VA RIDGEWAY CMSVEND*...</td>\n",
       "      <td>CMS Vending Machines</td>\n",
       "      <td>Camsoda</td>\n",
       "      <td>Signature POS Debit 05/03 VA RIDGEWAY CMSVEND*...</td>\n",
       "      <td>0</td>\n",
       "      <td>Signature POS Debit 05/03 VA RIDGEWAY CMSVEND*...</td>\n",
       "      <td>Signature POS Debit 05/03 VA RIDGEWAY CMSVEND*...</td>\n",
       "    </tr>\n",
       "    <tr>\n",
       "      <th>4999997</th>\n",
       "      <td>10145558378</td>\n",
       "      <td>-2.10</td>\n",
       "      <td>Signature POS Debit 05/03 VA RIDGEWAY CMSVEND*...</td>\n",
       "      <td>CMS Vending Machines</td>\n",
       "      <td>Rccl Applepay</td>\n",
       "      <td>Signature POS Debit 05/03 VA RIDGEWAY CMSVEND*...</td>\n",
       "      <td>0</td>\n",
       "      <td>Signature POS Debit 05/03 VA RIDGEWAY CMSVEND*...</td>\n",
       "      <td>Signature POS Debit 05/03 VA RIDGEWAY CMSVEND*...</td>\n",
       "    </tr>\n",
       "    <tr>\n",
       "      <th>4999998</th>\n",
       "      <td>10145558378</td>\n",
       "      <td>-2.10</td>\n",
       "      <td>Signature POS Debit 05/03 VA RIDGEWAY CMSVEND*...</td>\n",
       "      <td>CMS Vending Machines</td>\n",
       "      <td>Area</td>\n",
       "      <td>Signature POS Debit 05/03 VA RIDGEWAY CMSVEND*...</td>\n",
       "      <td>0</td>\n",
       "      <td>Signature POS Debit 05/03 VA RIDGEWAY CMSVEND*...</td>\n",
       "      <td>Signature POS Debit 05/03 VA RIDGEWAY CMSVEND*...</td>\n",
       "    </tr>\n",
       "    <tr>\n",
       "      <th>4999999</th>\n",
       "      <td>10145558378</td>\n",
       "      <td>-2.10</td>\n",
       "      <td>Signature POS Debit 05/03 VA RIDGEWAY CMSVEND*...</td>\n",
       "      <td>CMS Vending Machines</td>\n",
       "      <td>Hsm 78 Aro</td>\n",
       "      <td>Signature POS Debit 05/03 VA RIDGEWAY CMSVEND*...</td>\n",
       "      <td>0</td>\n",
       "      <td>Signature POS Debit 05/03 VA RIDGEWAY CMSVEND*...</td>\n",
       "      <td>Signature POS Debit 05/03 VA RIDGEWAY CMSVEND*...</td>\n",
       "    </tr>\n",
       "  </tbody>\n",
       "</table>\n",
       "<p>5000000 rows × 9 columns</p>\n",
       "</div>"
      ],
      "text/plain": [
       "         transaction_id   amount  \\\n",
       "0            9711158815    -2.25   \n",
       "1            9740980806  -200.00   \n",
       "2            9796548131   -30.00   \n",
       "3            9978142547   -25.04   \n",
       "4            9694955604   -13.69   \n",
       "...                 ...      ...   \n",
       "4999995     10145501441    -6.35   \n",
       "4999996     10145558378    -2.10   \n",
       "4999997     10145558378    -2.10   \n",
       "4999998     10145558378    -2.10   \n",
       "4999999     10145558378    -2.10   \n",
       "\n",
       "                                                      text  \\\n",
       "0        MOBILE PURCHASE 0505 HART-FLAMINGOFARES.COM TA...   \n",
       "1        PURCHASE AUTHORIZED ON 05/07 KIDS UNLIMITED IN...   \n",
       "2        CHECKCARD 0511 EDWARDGURKA-MATCO XXXXX96003 TX...   \n",
       "3             Caseys [SEP] Casey''s Lincoln [SEP] Casey''s   \n",
       "4        Point Of Sale Withdrawal HUGO INSURANCE SOLNHT...   \n",
       "...                                                    ...   \n",
       "4999995  GOOGLE *Playrix Games [SEP] Playrix Games [SEP...   \n",
       "4999996  Signature POS Debit 05/03 VA RIDGEWAY CMSVEND*...   \n",
       "4999997  Signature POS Debit 05/03 VA RIDGEWAY CMSVEND*...   \n",
       "4999998  Signature POS Debit 05/03 VA RIDGEWAY CMSVEND*...   \n",
       "4999999  Signature POS Debit 05/03 VA RIDGEWAY CMSVEND*...   \n",
       "\n",
       "                           merchant_name      merchant_name2  \\\n",
       "0                     Hart Flamingofares  Hart-flamingofares   \n",
       "1                         Kids Unlimited  Kids Unlimited Inc   \n",
       "2        Edwardgurka Matcotools Rosharon   Edwardgurka-matco   \n",
       "3                       Casey''s Lincoln            Casey''s   \n",
       "4                                   With      Hugo Insurance   \n",
       "...                                  ...                 ...   \n",
       "4999995                    Playrix Games                King   \n",
       "4999996             CMS Vending Machines             Camsoda   \n",
       "4999997             CMS Vending Machines       Rccl Applepay   \n",
       "4999998             CMS Vending Machines                Area   \n",
       "4999999             CMS Vending Machines          Hsm 78 Aro   \n",
       "\n",
       "                            description_combined_processed  label  \\\n",
       "0        MOBILE PURCHASE 0505 HART-FLAMINGOFARES.COM TA...      1   \n",
       "1        PURCHASE AUTHORIZED ON 05/07 KIDS UNLIMITED IN...      1   \n",
       "2        CHECKCARD 0511 EDWARDGURKA-MATCO XXXXX96003 TX...      1   \n",
       "3                                                   Caseys      1   \n",
       "4        Point Of Sale Withdrawal HUGO INSURANCE SOLNHT...      1   \n",
       "...                                                    ...    ...   \n",
       "4999995                              GOOGLE *Playrix Games      0   \n",
       "4999996  Signature POS Debit 05/03 VA RIDGEWAY CMSVEND*...      0   \n",
       "4999997  Signature POS Debit 05/03 VA RIDGEWAY CMSVEND*...      0   \n",
       "4999998  Signature POS Debit 05/03 VA RIDGEWAY CMSVEND*...      0   \n",
       "4999999  Signature POS Debit 05/03 VA RIDGEWAY CMSVEND*...      0   \n",
       "\n",
       "                                                   sent_m1  \\\n",
       "0        MOBILE PURCHASE 0505 HART-FLAMINGOFARES.COM TA...   \n",
       "1        PURCHASE AUTHORIZED ON 05/07 KIDS UNLIMITED IN...   \n",
       "2        CHECKCARD 0511 EDWARDGURKA-MATCO XXXXX96003 TX...   \n",
       "3                            Caseys |SEP| Casey''s Lincoln   \n",
       "4        Point Of Sale Withdrawal HUGO INSURANCE SOLNHT...   \n",
       "...                                                    ...   \n",
       "4999995          GOOGLE *Playrix Games |SEP| Playrix Games   \n",
       "4999996  Signature POS Debit 05/03 VA RIDGEWAY CMSVEND*...   \n",
       "4999997  Signature POS Debit 05/03 VA RIDGEWAY CMSVEND*...   \n",
       "4999998  Signature POS Debit 05/03 VA RIDGEWAY CMSVEND*...   \n",
       "4999999  Signature POS Debit 05/03 VA RIDGEWAY CMSVEND*...   \n",
       "\n",
       "                                                   sent_m2  \n",
       "0        MOBILE PURCHASE 0505 HART-FLAMINGOFARES.COM TA...  \n",
       "1        PURCHASE AUTHORIZED ON 05/07 KIDS UNLIMITED IN...  \n",
       "2        CHECKCARD 0511 EDWARDGURKA-MATCO XXXXX96003 TX...  \n",
       "3                                    Caseys |SEP| Casey''s  \n",
       "4        Point Of Sale Withdrawal HUGO INSURANCE SOLNHT...  \n",
       "...                                                    ...  \n",
       "4999995                   GOOGLE *Playrix Games |SEP| King  \n",
       "4999996  Signature POS Debit 05/03 VA RIDGEWAY CMSVEND*...  \n",
       "4999997  Signature POS Debit 05/03 VA RIDGEWAY CMSVEND*...  \n",
       "4999998  Signature POS Debit 05/03 VA RIDGEWAY CMSVEND*...  \n",
       "4999999  Signature POS Debit 05/03 VA RIDGEWAY CMSVEND*...  \n",
       "\n",
       "[5000000 rows x 9 columns]"
      ]
     },
     "execution_count": 76,
     "metadata": {},
     "output_type": "execute_result"
    }
   ],
   "source": [
    "df_data_raw"
   ]
  },
  {
   "cell_type": "code",
   "execution_count": 77,
   "metadata": {},
   "outputs": [],
   "source": [
    "text_col1 = 'sent_m1'\n",
    "text_col2 = 'sent_m2'"
   ]
  },
  {
   "cell_type": "code",
   "execution_count": 78,
   "metadata": {},
   "outputs": [],
   "source": [
    "from datasets import Dataset\n",
    "\n",
    "ds_train = Dataset.from_pandas(df_train[[label_col,text_col1,text_col2]])\n",
    "ds_val = Dataset.from_pandas(df_val[[label_col,text_col1,text_col2]])\n",
    "ds_test = Dataset.from_pandas(df_test[[label_col,text_col1,text_col2]])\n",
    "\n",
    "ds_train = ds_train.rename_columns({label_col: \"score\",text_col1:\"sentence1\", text_col2:\"sentence2\"})\n",
    "ds_val = ds_val.rename_columns({label_col: \"score\",text_col1:\"sentence1\", text_col2:\"sentence2\"})\n",
    "ds_test = ds_test.rename_columns({label_col: \"score\",text_col1:\"sentence1\", text_col2:\"sentence2\"})\n",
    "\n"
   ]
  },
  {
   "cell_type": "code",
   "execution_count": 79,
   "metadata": {},
   "outputs": [
    {
     "data": {
      "text/plain": [
       "Dataset({\n",
       "    features: ['score', 'sentence1', 'sentence2'],\n",
       "    num_rows: 250000\n",
       "})"
      ]
     },
     "execution_count": 79,
     "metadata": {},
     "output_type": "execute_result"
    }
   ],
   "source": [
    "ds_test"
   ]
  },
  {
   "cell_type": "code",
   "execution_count": 80,
   "metadata": {},
   "outputs": [
    {
     "name": "stdout",
     "output_type": "stream",
     "text": [
      "Directory created successfully!\n"
     ]
    }
   ],
   "source": [
    "import os\n",
    "directory = \"/home/sagemaker-user/logs\"\n",
    "\n",
    "# Check if the directory already exists\n",
    "if not os.path.exists(directory):\n",
    "    # Create the directory\n",
    "    os.makedirs(directory)\n",
    "    print(\"Directory created successfully!\")\n",
    "else:\n",
    "    print(\"Directory already exists!\")"
   ]
  },
  {
   "cell_type": "code",
   "execution_count": 81,
   "metadata": {},
   "outputs": [],
   "source": [
    "from sentence_transformers.training_args import SentenceTransformerTrainingArguments\n",
    "from sentence_transformers.training_args import BatchSamplers\n",
    "from sentence_transformers.evaluation import EmbeddingSimilarityEvaluator, SimilarityFunction\n",
    "from sentence_transformers import SentenceTransformerTrainer"
   ]
  },
  {
   "cell_type": "code",
   "execution_count": 83,
   "metadata": {},
   "outputs": [],
   "source": [
    "args = SentenceTransformerTrainingArguments(\n",
    "    # Required parameter:\n",
    "    output_dir=\"/home/sagemaker-user/models/model11\",\n",
    "    # Optional training parameters:\n",
    "    num_train_epochs=3,\n",
    "    per_device_train_batch_size=128,\n",
    "    per_device_eval_batch_size=128,\n",
    "    warmup_ratio=0.1,\n",
    "    fp16=True,  # Set to False if you get an error that your GPU can't run on FP16\n",
    "    bf16=False,  # Set to True if you have a GPU that supports BF16\n",
    "    batch_sampler=BatchSamplers.NO_DUPLICATES,  # losses that use \"in-batch negatives\" benefit from no duplicates\n",
    "    # Optional tracking/debugging parameters:\n",
    "    evaluation_strategy=\"steps\", #eval_strategy=\"steps\",\n",
    "    eval_steps=500,\n",
    "    save_strategy=\"steps\",\n",
    "    save_steps=500,\n",
    "    save_total_limit=100,\n",
    "    logging_steps=500,\n",
    "    run_name=\"test1\",  # Will be used in W&B if `wandb` is installed\n",
    "    load_best_model_at_end= True,\n",
    "    logging_dir=\"/home/sagemaker-user/logs\",\n",
    ")"
   ]
  },
  {
   "cell_type": "code",
   "execution_count": 84,
   "metadata": {},
   "outputs": [
    {
     "data": {
      "text/plain": [
       "{'score': 1,\n",
       " 'sentence1': 'Betmgm Online |SEP| BetMGM.com',\n",
       " 'sentence2': 'Betmgm Online |SEP| BetMGM'}"
      ]
     },
     "execution_count": 84,
     "metadata": {},
     "output_type": "execute_result"
    }
   ],
   "source": [
    "ds_val[0]"
   ]
  },
  {
   "cell_type": "code",
   "execution_count": 85,
   "metadata": {},
   "outputs": [],
   "source": [
    "dev_evaluator = EmbeddingSimilarityEvaluator(\n",
    "    sentences1=df_val[text_col1],\n",
    "    sentences2=df_val[text_col2],\n",
    "    scores=df_val[label_col],\n",
    "    main_similarity=SimilarityFunction.COSINE,\n",
    "    name=\"sts-dev\",\n",
    ")"
   ]
  },
  {
   "cell_type": "code",
   "execution_count": 37,
   "metadata": {},
   "outputs": [],
   "source": [
    "#dev_evaluator(model)\n"
   ]
  },
  {
   "cell_type": "code",
   "execution_count": 86,
   "metadata": {},
   "outputs": [],
   "source": [
    "train_loss = CoSENTLoss(model)"
   ]
  },
  {
   "cell_type": "code",
   "execution_count": 88,
   "metadata": {},
   "outputs": [
    {
     "name": "stderr",
     "output_type": "stream",
     "text": [
      "Detected kernel version 4.14.344, which is below the recommended minimum of 5.5.0; this can cause the process to hang. It is recommended to upgrade the kernel to the minimum version or higher.\n"
     ]
    },
    {
     "data": {
      "text/html": [
       "\n",
       "    <div>\n",
       "      \n",
       "      <progress value='5001' max='100197' style='width:300px; height:20px; vertical-align: middle;'></progress>\n",
       "      [  5001/100197 1:39:36 < 31:36:43, 0.84 it/s, Epoch 0.15/3]\n",
       "    </div>\n",
       "    <table border=\"1\" class=\"dataframe\">\n",
       "  <thead>\n",
       " <tr style=\"text-align: left;\">\n",
       "      <th>Step</th>\n",
       "      <th>Training Loss</th>\n",
       "      <th>Validation Loss</th>\n",
       "    </tr>\n",
       "  </thead>\n",
       "  <tbody>\n",
       "    <tr>\n",
       "      <td>500</td>\n",
       "      <td>7.150000</td>\n",
       "      <td>3.296224</td>\n",
       "    </tr>\n",
       "    <tr>\n",
       "      <td>1000</td>\n",
       "      <td>3.264200</td>\n",
       "      <td>1.996672</td>\n",
       "    </tr>\n",
       "    <tr>\n",
       "      <td>1500</td>\n",
       "      <td>2.353200</td>\n",
       "      <td>1.591059</td>\n",
       "    </tr>\n",
       "    <tr>\n",
       "      <td>2000</td>\n",
       "      <td>1.793400</td>\n",
       "      <td>1.385806</td>\n",
       "    </tr>\n",
       "    <tr>\n",
       "      <td>2500</td>\n",
       "      <td>1.354700</td>\n",
       "      <td>1.016969</td>\n",
       "    </tr>\n",
       "    <tr>\n",
       "      <td>3000</td>\n",
       "      <td>1.394100</td>\n",
       "      <td>0.773053</td>\n",
       "    </tr>\n",
       "    <tr>\n",
       "      <td>3500</td>\n",
       "      <td>1.073000</td>\n",
       "      <td>0.867277</td>\n",
       "    </tr>\n",
       "    <tr>\n",
       "      <td>4000</td>\n",
       "      <td>0.821800</td>\n",
       "      <td>0.730691</td>\n",
       "    </tr>\n",
       "    <tr>\n",
       "      <td>4500</td>\n",
       "      <td>0.955300</td>\n",
       "      <td>0.662750</td>\n",
       "    </tr>\n",
       "  </tbody>\n",
       "</table><p>\n",
       "    <div>\n",
       "      \n",
       "      <progress value='775' max='3711' style='width:300px; height:20px; vertical-align: middle;'></progress>\n",
       "      [ 775/3711 01:31 < 05:45, 8.49 it/s]\n",
       "    </div>\n",
       "    "
      ],
      "text/plain": [
       "<IPython.core.display.HTML object>"
      ]
     },
     "metadata": {},
     "output_type": "display_data"
    },
    {
     "data": {
      "application/vnd.jupyter.widget-view+json": {
       "model_id": "7acf9aefce854949a2dc11aeabe7e6e4",
       "version_major": 2,
       "version_minor": 0
      },
      "text/plain": [
       "Computing widget examples:   0%|          | 0/1 [00:00<?, ?example/s]"
      ]
     },
     "metadata": {},
     "output_type": "display_data"
    }
   ],
   "source": [
    "# 7. Create a trainer & train\n",
    "trainer = SentenceTransformerTrainer(\n",
    "    model=model,\n",
    "    args=args,\n",
    "    train_dataset=ds_train,\n",
    "    eval_dataset=ds_val,\n",
    "    loss=train_loss,\n",
    "    #evaluator=dev_evaluator,\n",
    ")\n",
    "trainer.train()\n",
    "#resume_from_checkpoint=\"/home/sagemaker-user/models/model9/checkpoint-1600\""
   ]
  },
  {
   "cell_type": "markdown",
   "metadata": {},
   "source": []
  },
  {
   "cell_type": "markdown",
   "metadata": {},
   "source": []
  },
  {
   "cell_type": "code",
   "execution_count": null,
   "metadata": {},
   "outputs": [],
   "source": []
  },
  {
   "cell_type": "code",
   "execution_count": null,
   "metadata": {},
   "outputs": [
    {
     "name": "stderr",
     "output_type": "stream",
     "text": [
      "huggingface/tokenizers: The current process just got forked, after parallelism has already been used. Disabling parallelism to avoid deadlocks...\n",
      "To disable this warning, you can either:\n",
      "\t- Avoid using `tokenizers` before the fork if possible\n",
      "\t- Explicitly set the environment variable TOKENIZERS_PARALLELISM=(true | false)\n"
     ]
    },
    {
     "name": "stdout",
     "output_type": "stream",
     "text": [
      "Requirement already satisfied: sentence_transformers in /opt/conda/lib/python3.10/site-packages (3.0.0)\n",
      "Requirement already satisfied: transformers<5.0.0,>=4.34.0 in /opt/conda/lib/python3.10/site-packages (from sentence_transformers) (4.41.2)\n",
      "Requirement already satisfied: tqdm in /opt/conda/lib/python3.10/site-packages (from sentence_transformers) (4.66.4)\n",
      "Requirement already satisfied: torch>=1.11.0 in /opt/conda/lib/python3.10/site-packages (from sentence_transformers) (2.0.0.post200)\n",
      "Requirement already satisfied: numpy in /opt/conda/lib/python3.10/site-packages (from sentence_transformers) (1.26.4)\n",
      "Requirement already satisfied: scikit-learn in /opt/conda/lib/python3.10/site-packages (from sentence_transformers) (1.4.2)\n",
      "Requirement already satisfied: scipy in /opt/conda/lib/python3.10/site-packages (from sentence_transformers) (1.11.4)\n",
      "Requirement already satisfied: huggingface-hub>=0.15.1 in /opt/conda/lib/python3.10/site-packages (from sentence_transformers) (0.23.0)\n",
      "Requirement already satisfied: Pillow in /opt/conda/lib/python3.10/site-packages (from sentence_transformers) (9.5.0)\n",
      "Requirement already satisfied: filelock in /opt/conda/lib/python3.10/site-packages (from huggingface-hub>=0.15.1->sentence_transformers) (3.14.0)\n",
      "Requirement already satisfied: fsspec>=2023.5.0 in /opt/conda/lib/python3.10/site-packages (from huggingface-hub>=0.15.1->sentence_transformers) (2023.6.0)\n",
      "Requirement already satisfied: packaging>=20.9 in /opt/conda/lib/python3.10/site-packages (from huggingface-hub>=0.15.1->sentence_transformers) (23.2)\n",
      "Requirement already satisfied: pyyaml>=5.1 in /opt/conda/lib/python3.10/site-packages (from huggingface-hub>=0.15.1->sentence_transformers) (6.0.1)\n",
      "Requirement already satisfied: requests in /opt/conda/lib/python3.10/site-packages (from huggingface-hub>=0.15.1->sentence_transformers) (2.31.0)\n",
      "Requirement already satisfied: typing-extensions>=3.7.4.3 in /opt/conda/lib/python3.10/site-packages (from huggingface-hub>=0.15.1->sentence_transformers) (4.5.0)\n",
      "Requirement already satisfied: sympy in /opt/conda/lib/python3.10/site-packages (from torch>=1.11.0->sentence_transformers) (1.12)\n",
      "Requirement already satisfied: networkx in /opt/conda/lib/python3.10/site-packages (from torch>=1.11.0->sentence_transformers) (3.3)\n",
      "Requirement already satisfied: jinja2 in /opt/conda/lib/python3.10/site-packages (from torch>=1.11.0->sentence_transformers) (3.1.4)\n",
      "Requirement already satisfied: regex!=2019.12.17 in /opt/conda/lib/python3.10/site-packages (from transformers<5.0.0,>=4.34.0->sentence_transformers) (2024.5.10)\n",
      "Requirement already satisfied: tokenizers<0.20,>=0.19 in /opt/conda/lib/python3.10/site-packages (from transformers<5.0.0,>=4.34.0->sentence_transformers) (0.19.1)\n",
      "Requirement already satisfied: safetensors>=0.4.1 in /opt/conda/lib/python3.10/site-packages (from transformers<5.0.0,>=4.34.0->sentence_transformers) (0.4.3)\n",
      "Requirement already satisfied: joblib>=1.2.0 in /opt/conda/lib/python3.10/site-packages (from scikit-learn->sentence_transformers) (1.4.2)\n",
      "Requirement already satisfied: threadpoolctl>=2.0.0 in /opt/conda/lib/python3.10/site-packages (from scikit-learn->sentence_transformers) (3.5.0)\n",
      "Requirement already satisfied: MarkupSafe>=2.0 in /opt/conda/lib/python3.10/site-packages (from jinja2->torch>=1.11.0->sentence_transformers) (2.1.5)\n",
      "Requirement already satisfied: charset-normalizer<4,>=2 in /opt/conda/lib/python3.10/site-packages (from requests->huggingface-hub>=0.15.1->sentence_transformers) (3.3.2)\n",
      "Requirement already satisfied: idna<4,>=2.5 in /opt/conda/lib/python3.10/site-packages (from requests->huggingface-hub>=0.15.1->sentence_transformers) (3.7)\n",
      "Requirement already satisfied: urllib3<3,>=1.21.1 in /opt/conda/lib/python3.10/site-packages (from requests->huggingface-hub>=0.15.1->sentence_transformers) (1.26.18)\n",
      "Requirement already satisfied: certifi>=2017.4.17 in /opt/conda/lib/python3.10/site-packages (from requests->huggingface-hub>=0.15.1->sentence_transformers) (2024.2.2)\n",
      "Requirement already satisfied: mpmath>=0.19 in /opt/conda/lib/python3.10/site-packages (from sympy->torch>=1.11.0->sentence_transformers) (1.3.0)\n",
      "Note: you may need to restart the kernel to use updated packages.\n"
     ]
    }
   ],
   "source": [
    "# # (Optional) Evaluate the trained model on the test set\n",
    "# test_evaluator = TripletEvaluator(\n",
    "#     anchors=df_test[\"sentence\"],\n",
    "#     positives=df_test[\"true_merchant_name_combined\"],\n",
    "#     negatives=test_dataset[\"true_label\"],\n",
    "#     name=\"pairs-test1\",\n",
    "# )\n",
    "# test_evaluator(model)\n",
    "\n",
    "# 8. Save the trained model\n",
    "model.save_pretrained(\"/home/sagemaker-user/models/model9final\")"
   ]
  },
  {
   "cell_type": "code",
   "execution_count": null,
   "metadata": {},
   "outputs": [
    {
     "name": "stdout",
     "output_type": "stream",
     "text": [
      "1_Pooling\t\t\t   scheduler.pt\n",
      "README.md\t\t\t   sentence_bert_config.json\n",
      "config.json\t\t\t   special_tokens_map.json\n",
      "config_sentence_transformers.json  tokenizer.json\n",
      "model.safetensors\t\t   tokenizer_config.json\n",
      "modules.json\t\t\t   trainer_state.json\n",
      "optimizer.pt\t\t\t   training_args.bin\n",
      "rng_state.pth\t\t\t   vocab.txt\n"
     ]
    },
    {
     "name": "stderr",
     "output_type": "stream",
     "text": [
      "huggingface/tokenizers: The current process just got forked, after parallelism has already been used. Disabling parallelism to avoid deadlocks...\n",
      "To disable this warning, you can either:\n",
      "\t- Avoid using `tokenizers` before the fork if possible\n",
      "\t- Explicitly set the environment variable TOKENIZERS_PARALLELISM=(true | false)\n"
     ]
    }
   ],
   "source": [
    "#!ls ./models/model1/checkpoint-600"
   ]
  },
  {
   "cell_type": "code",
   "execution_count": null,
   "metadata": {},
   "outputs": [
    {
     "name": "stdout",
     "output_type": "stream",
     "text": [
      "Successfully uploaded ./models/model1/checkpoint-600/config_sentence_transformers.json to s3://cleo-data-science/transaction_enrichment/experimental_data/caste/pairs_model/model1-checkpoint600/config_sentence_transformers.json\n",
      "Successfully uploaded ./models/model1/checkpoint-600/config.json to s3://cleo-data-science/transaction_enrichment/experimental_data/caste/pairs_model/model1-checkpoint600/config.json\n",
      "Successfully uploaded ./models/model1/checkpoint-600/model.safetensors to s3://cleo-data-science/transaction_enrichment/experimental_data/caste/pairs_model/model1-checkpoint600/model.safetensors\n",
      "Successfully uploaded ./models/model1/checkpoint-600/tokenizer_config.json to s3://cleo-data-science/transaction_enrichment/experimental_data/caste/pairs_model/model1-checkpoint600/tokenizer_config.json\n",
      "Successfully uploaded ./models/model1/checkpoint-600/special_tokens_map.json to s3://cleo-data-science/transaction_enrichment/experimental_data/caste/pairs_model/model1-checkpoint600/special_tokens_map.json\n",
      "Successfully uploaded ./models/model1/checkpoint-600/vocab.txt to s3://cleo-data-science/transaction_enrichment/experimental_data/caste/pairs_model/model1-checkpoint600/vocab.txt\n",
      "Successfully uploaded ./models/model1/checkpoint-600/tokenizer.json to s3://cleo-data-science/transaction_enrichment/experimental_data/caste/pairs_model/model1-checkpoint600/tokenizer.json\n",
      "Successfully uploaded ./models/model1/checkpoint-600/sentence_bert_config.json to s3://cleo-data-science/transaction_enrichment/experimental_data/caste/pairs_model/model1-checkpoint600/sentence_bert_config.json\n",
      "Successfully uploaded ./models/model1/checkpoint-600/modules.json to s3://cleo-data-science/transaction_enrichment/experimental_data/caste/pairs_model/model1-checkpoint600/modules.json\n",
      "Successfully uploaded ./models/model1/checkpoint-600/README.md to s3://cleo-data-science/transaction_enrichment/experimental_data/caste/pairs_model/model1-checkpoint600/README.md\n",
      "Successfully uploaded ./models/model1/checkpoint-600/training_args.bin to s3://cleo-data-science/transaction_enrichment/experimental_data/caste/pairs_model/model1-checkpoint600/training_args.bin\n",
      "Successfully uploaded ./models/model1/checkpoint-600/optimizer.pt to s3://cleo-data-science/transaction_enrichment/experimental_data/caste/pairs_model/model1-checkpoint600/optimizer.pt\n",
      "Successfully uploaded ./models/model1/checkpoint-600/scheduler.pt to s3://cleo-data-science/transaction_enrichment/experimental_data/caste/pairs_model/model1-checkpoint600/scheduler.pt\n",
      "Successfully uploaded ./models/model1/checkpoint-600/rng_state.pth to s3://cleo-data-science/transaction_enrichment/experimental_data/caste/pairs_model/model1-checkpoint600/rng_state.pth\n",
      "Successfully uploaded ./models/model1/checkpoint-600/trainer_state.json to s3://cleo-data-science/transaction_enrichment/experimental_data/caste/pairs_model/model1-checkpoint600/trainer_state.json\n",
      "Successfully uploaded ./models/model1/checkpoint-600/1_Pooling/config.json to s3://cleo-data-science/transaction_enrichment/experimental_data/caste/pairs_model/model1-checkpoint600/1_Pooling/config.json\n"
     ]
    }
   ],
   "source": [
    "#copy \n",
    "import os\n",
    "import boto3\n",
    "from botocore.exceptions import NoCredentialsError, PartialCredentialsError\n",
    "\n",
    "def upload_directory_to_s3(local_directory, bucket_name, s3_directory):\n",
    "    s3_client = boto3.client('s3')\n",
    "\n",
    "    for root, dirs, files in os.walk(local_directory):\n",
    "        for file in files:\n",
    "            local_path = os.path.join(root, file)\n",
    "            relative_path = os.path.relpath(local_path, local_directory)\n",
    "            s3_path = os.path.join(s3_directory, relative_path)\n",
    "\n",
    "            try:\n",
    "                s3_client.upload_file(local_path, bucket_name, s3_path)\n",
    "                print(f'Successfully uploaded {local_path} to s3://{bucket_name}/{s3_path}')\n",
    "            except FileNotFoundError:\n",
    "                print(f'The file {local_path} was not found')\n",
    "            except NoCredentialsError:\n",
    "                print('Credentials not available')\n",
    "            except PartialCredentialsError:\n",
    "                print('Incomplete credentials provided')\n",
    "\n",
    "# Example usage\n",
    "local_directory = \"/home/sagemaker-user/models/model4\"\"\n",
    "bucket_name = 'cleo-data-science'\n",
    "s3_directory = \"transaction_enrichment/experimental_data/caste/pairs_model/model4\"\n",
    "\n",
    "upload_directory_to_s3(local_directory, bucket_name, s3_directory)\n"
   ]
  },
  {
   "cell_type": "code",
   "execution_count": null,
   "metadata": {},
   "outputs": [],
   "source": [
    "## \n",
    "#model = SentenceTransformer(\"./models/model1/checkpoint-600\")\n"
   ]
  },
  {
   "cell_type": "code",
   "execution_count": null,
   "metadata": {},
   "outputs": [],
   "source": [
    "list_unique_merchants = df_train['merchant_name_combined'].tolist()\n",
    "embeddings_merchants = model.encode(list_unique_merchants)\n",
    "embeddings_merchants.shape"
   ]
  },
  {
   "cell_type": "code",
   "execution_count": null,
   "metadata": {},
   "outputs": [],
   "source": [
    "df_test['pred_merchant'] = None\n",
    "df_test['pred_prob'] = 0.0\n",
    "batch_size = 1000"
   ]
  },
  {
   "cell_type": "code",
   "execution_count": null,
   "metadata": {},
   "outputs": [
    {
     "data": {
      "text/plain": [
       "(5000, 10)"
      ]
     },
     "execution_count": 92,
     "metadata": {},
     "output_type": "execute_result"
    }
   ],
   "source": [
    "df_test.shape"
   ]
  },
  {
   "cell_type": "code",
   "execution_count": null,
   "metadata": {},
   "outputs": [
    {
     "name": "stdout",
     "output_type": "stream",
     "text": [
      "0 1000\n",
      "torch.Size([1000, 85500])\n",
      "1000 2000\n",
      "torch.Size([1000, 85500])\n",
      "2000 3000\n",
      "torch.Size([1000, 85500])\n",
      "3000 4000\n",
      "torch.Size([1000, 85500])\n",
      "4000 5000\n",
      "torch.Size([1000, 85500])\n"
     ]
    }
   ],
   "source": [
    "for istart in np.arange(0, df_test.shape[0]+1, batch_size):\n",
    "    iend = min(df_test.shape[0],istart + batch_size)\n",
    "    if iend> istart:\n",
    "        print(istart, iend)\n",
    "        tx_embeddings = model.encode(df_test['sentence'][istart:iend].tolist())\n",
    "        similarities = model.similarity(tx_embeddings, embeddings_merchants)\n",
    "        print(similarities.shape)\n",
    "        max_vals = torch.max(similarities, axis=1)\n",
    "        max_probs = max_vals[0]\n",
    "        ix_max_merchants = max_vals[1]\n",
    "        predicted_merchant = [list_unique_merchants[i] for i in ix_max_merchants]\n",
    "        df_test.loc[istart:iend-1,'pred_merchant'] =  predicted_merchant\n",
    "        df_test.loc[istart:iend-1,'pred_prob'] =  np.array(max_probs)"
   ]
  },
  {
   "cell_type": "code",
   "execution_count": null,
   "metadata": {},
   "outputs": [
    {
     "name": "stdout",
     "output_type": "stream",
     "text": [
      "0.9052\n"
     ]
    }
   ],
   "source": [
    "ntrue = df_test[df_test['pred_merchant'] == df_test['true_merchant_name_combined']].shape[0]\n",
    "\n",
    "precision = ntrue/df_test.shape[0]\n",
    "print(precision)"
   ]
  },
  {
   "cell_type": "code",
   "execution_count": null,
   "metadata": {},
   "outputs": [],
   "source": [
    "ntrue = df_test[(df_test['pred_merchant'] == df_test['true_merchant_name_combined']) & (df_test['pred_prob']>0.8)].shape[0]\n",
    "\n",
    "accuracy = ntrue/df_test.shape[0]\n",
    "print(accuracy)"
   ]
  },
  {
   "cell_type": "code",
   "execution_count": null,
   "metadata": {},
   "outputs": [],
   "source": [
    "#tp/tp + fp\n",
    "\n"
   ]
  },
  {
   "cell_type": "code",
   "execution_count": null,
   "metadata": {},
   "outputs": [
    {
     "data": {
      "text/html": [
       "<div>\n",
       "<style scoped>\n",
       "    .dataframe tbody tr th:only-of-type {\n",
       "        vertical-align: middle;\n",
       "    }\n",
       "\n",
       "    .dataframe tbody tr th {\n",
       "        vertical-align: top;\n",
       "    }\n",
       "\n",
       "    .dataframe thead th {\n",
       "        text-align: right;\n",
       "    }\n",
       "</style>\n",
       "<table border=\"1\" class=\"dataframe\">\n",
       "  <thead>\n",
       "    <tr style=\"text-align: right;\">\n",
       "      <th></th>\n",
       "      <th>transaction_id</th>\n",
       "      <th>sentence</th>\n",
       "      <th>sentence2</th>\n",
       "      <th>description_combined_processed</th>\n",
       "      <th>true_merchant_name_combined</th>\n",
       "      <th>merchant_name_combined</th>\n",
       "      <th>true_label</th>\n",
       "      <th>label</th>\n",
       "      <th>pred_merchant</th>\n",
       "      <th>pred_prob</th>\n",
       "    </tr>\n",
       "  </thead>\n",
       "  <tbody>\n",
       "    <tr>\n",
       "      <th>0</th>\n",
       "      <td>9796686754</td>\n",
       "      <td>Wal-Mart Super WAL-SAMS SPRINGFIELD MO. Channe...</td>\n",
       "      <td>Wal-Mart Super WAL-SAMS SPRINGFIELD MO. Type: ...</td>\n",
       "      <td>Wal-Mart Super WAL-SAMS SPRINGFIELD MO</td>\n",
       "      <td>Walmart</td>\n",
       "      <td>Smith''s</td>\n",
       "      <td>0</td>\n",
       "      <td>0.310292</td>\n",
       "      <td>Wal Wal-martsuper</td>\n",
       "      <td>0.799137</td>\n",
       "    </tr>\n",
       "    <tr>\n",
       "      <th>1</th>\n",
       "      <td>9799290885</td>\n",
       "      <td>PURCHASE AUTHORIZED ON 05/14 WM SUPERC Wal-Mar...</td>\n",
       "      <td>PURCHASE AUTHORIZED ON 05/14 WM SUPERC Wal-Mar...</td>\n",
       "      <td>PURCHASE AUTHORIZED ON 05/14 WM SUPERC Wal-Mar...</td>\n",
       "      <td>Walmart</td>\n",
       "      <td>Synchrony</td>\n",
       "      <td>0</td>\n",
       "      <td>0.232759</td>\n",
       "      <td>Wal Wal-martsuper</td>\n",
       "      <td>0.775473</td>\n",
       "    </tr>\n",
       "    <tr>\n",
       "      <th>2</th>\n",
       "      <td>9798904474</td>\n",
       "      <td>Walmart.com Bentonville AR XX SIG PURCH 05/13 ...</td>\n",
       "      <td>Walmart.com Bentonville AR XX SIG PURCH 05/13 ...</td>\n",
       "      <td>Walmart.com Bentonville AR XX SIG PURCH 05/13 ...</td>\n",
       "      <td>Walmart</td>\n",
       "      <td>QuikTrip</td>\n",
       "      <td>0</td>\n",
       "      <td>0.075148</td>\n",
       "      <td>Wal Wal-martsuper</td>\n",
       "      <td>0.751793</td>\n",
       "    </tr>\n",
       "    <tr>\n",
       "      <th>3</th>\n",
       "      <td>9801927063</td>\n",
       "      <td>PURCHASE AUTHORIZED ON 05/11 WALMART.COM 800-9...</td>\n",
       "      <td>PURCHASE AUTHORIZED ON 05/11 WALMART.COM 800-9...</td>\n",
       "      <td>PURCHASE AUTHORIZED ON 05/11 WALMART.COM 800-9...</td>\n",
       "      <td>Walmart</td>\n",
       "      <td>Cash App</td>\n",
       "      <td>0</td>\n",
       "      <td>0.078535</td>\n",
       "      <td>Wal Wal-martsuper</td>\n",
       "      <td>0.735269</td>\n",
       "    </tr>\n",
       "    <tr>\n",
       "      <th>4</th>\n",
       "      <td>9799263021</td>\n",
       "      <td>05/13 22:02 WAL-MART # JONESBORO AR CKCD DEBIT...</td>\n",
       "      <td>05/13 22:02 WAL-MART # JONESBORO AR CKCD DEBIT...</td>\n",
       "      <td>05/13 22:02 WAL-MART # JONESBORO AR CKCD DEBIT</td>\n",
       "      <td>Walmart</td>\n",
       "      <td>Marathon Petroleum</td>\n",
       "      <td>0</td>\n",
       "      <td>0.257865</td>\n",
       "      <td>Wal Wal-martsuper</td>\n",
       "      <td>0.751371</td>\n",
       "    </tr>\n",
       "    <tr>\n",
       "      <th>...</th>\n",
       "      <td>...</td>\n",
       "      <td>...</td>\n",
       "      <td>...</td>\n",
       "      <td>...</td>\n",
       "      <td>...</td>\n",
       "      <td>...</td>\n",
       "      <td>...</td>\n",
       "      <td>...</td>\n",
       "      <td>...</td>\n",
       "      <td>...</td>\n",
       "    </tr>\n",
       "    <tr>\n",
       "      <th>469</th>\n",
       "      <td>9807244423</td>\n",
       "      <td>PURCHASE AUTHORIZED ON 05/14 WM SUPERC Wal-Mar...</td>\n",
       "      <td>PURCHASE AUTHORIZED ON 05/14 WM SUPERC Wal-Mar...</td>\n",
       "      <td>PURCHASE AUTHORIZED ON 05/14 WM SUPERC Wal-Mar...</td>\n",
       "      <td>Walmart</td>\n",
       "      <td>Spinstersis</td>\n",
       "      <td>0</td>\n",
       "      <td>0.051089</td>\n",
       "      <td>Wal Wal-martsuper</td>\n",
       "      <td>0.772779</td>\n",
       "    </tr>\n",
       "    <tr>\n",
       "      <th>470</th>\n",
       "      <td>9808452776</td>\n",
       "      <td>Walmart.com 05/14 #XXXXX REFUND Walmart.com Be...</td>\n",
       "      <td>Walmart.com 05/14 #XXXXX REFUND Walmart.com Be...</td>\n",
       "      <td>Walmart.com 05/14 #XXXXX REFUND Walmart.com Be...</td>\n",
       "      <td>Walmart</td>\n",
       "      <td>K Stop Convenience</td>\n",
       "      <td>0</td>\n",
       "      <td>0.018743</td>\n",
       "      <td>Wal Wal-martsuper</td>\n",
       "      <td>0.713919</td>\n",
       "    </tr>\n",
       "    <tr>\n",
       "      <th>471</th>\n",
       "      <td>9798778036</td>\n",
       "      <td>Point of Sale Debit L341 TIME 04:30 PM DATE 05...</td>\n",
       "      <td>Point of Sale Debit L341 TIME 04:30 PM DATE 05...</td>\n",
       "      <td>Point of Sale Debit L341 TIME 04:30 PM DATE 05...</td>\n",
       "      <td>Walmart</td>\n",
       "      <td>Ross Stores</td>\n",
       "      <td>0</td>\n",
       "      <td>0.114881</td>\n",
       "      <td>Wal Wal-martsuper</td>\n",
       "      <td>0.766499</td>\n",
       "    </tr>\n",
       "    <tr>\n",
       "      <th>472</th>\n",
       "      <td>9807593604</td>\n",
       "      <td>CHECKCARD WALMART STA ELENA LA LIBERTAD XXXXX ...</td>\n",
       "      <td>CHECKCARD WALMART STA ELENA LA LIBERTAD XXXXX ...</td>\n",
       "      <td>CHECKCARD WALMART STA ELENA LA LIBERTAD XXXXX ...</td>\n",
       "      <td>Walmart</td>\n",
       "      <td>Lyft</td>\n",
       "      <td>0</td>\n",
       "      <td>0.116438</td>\n",
       "      <td>Wal Wal-martsuper</td>\n",
       "      <td>0.751746</td>\n",
       "    </tr>\n",
       "    <tr>\n",
       "      <th>473</th>\n",
       "      <td>9799287551</td>\n",
       "      <td>WM SUPERCENTER # GLENVILLE NY. Channel: in sto...</td>\n",
       "      <td>WM SUPERCENTER # GLENVILLE NY. Type: merchant....</td>\n",
       "      <td>WM SUPERCENTER # GLENVILLE NY</td>\n",
       "      <td>Walmart</td>\n",
       "      <td>Crenco</td>\n",
       "      <td>0</td>\n",
       "      <td>0.015229</td>\n",
       "      <td>Wal Wal-martsuper</td>\n",
       "      <td>0.674671</td>\n",
       "    </tr>\n",
       "  </tbody>\n",
       "</table>\n",
       "<p>474 rows × 10 columns</p>\n",
       "</div>"
      ],
      "text/plain": [
       "     transaction_id                                           sentence  \\\n",
       "0        9796686754  Wal-Mart Super WAL-SAMS SPRINGFIELD MO. Channe...   \n",
       "1        9799290885  PURCHASE AUTHORIZED ON 05/14 WM SUPERC Wal-Mar...   \n",
       "2        9798904474  Walmart.com Bentonville AR XX SIG PURCH 05/13 ...   \n",
       "3        9801927063  PURCHASE AUTHORIZED ON 05/11 WALMART.COM 800-9...   \n",
       "4        9799263021  05/13 22:02 WAL-MART # JONESBORO AR CKCD DEBIT...   \n",
       "..              ...                                                ...   \n",
       "469      9807244423  PURCHASE AUTHORIZED ON 05/14 WM SUPERC Wal-Mar...   \n",
       "470      9808452776  Walmart.com 05/14 #XXXXX REFUND Walmart.com Be...   \n",
       "471      9798778036  Point of Sale Debit L341 TIME 04:30 PM DATE 05...   \n",
       "472      9807593604  CHECKCARD WALMART STA ELENA LA LIBERTAD XXXXX ...   \n",
       "473      9799287551  WM SUPERCENTER # GLENVILLE NY. Channel: in sto...   \n",
       "\n",
       "                                             sentence2  \\\n",
       "0    Wal-Mart Super WAL-SAMS SPRINGFIELD MO. Type: ...   \n",
       "1    PURCHASE AUTHORIZED ON 05/14 WM SUPERC Wal-Mar...   \n",
       "2    Walmart.com Bentonville AR XX SIG PURCH 05/13 ...   \n",
       "3    PURCHASE AUTHORIZED ON 05/11 WALMART.COM 800-9...   \n",
       "4    05/13 22:02 WAL-MART # JONESBORO AR CKCD DEBIT...   \n",
       "..                                                 ...   \n",
       "469  PURCHASE AUTHORIZED ON 05/14 WM SUPERC Wal-Mar...   \n",
       "470  Walmart.com 05/14 #XXXXX REFUND Walmart.com Be...   \n",
       "471  Point of Sale Debit L341 TIME 04:30 PM DATE 05...   \n",
       "472  CHECKCARD WALMART STA ELENA LA LIBERTAD XXXXX ...   \n",
       "473  WM SUPERCENTER # GLENVILLE NY. Type: merchant....   \n",
       "\n",
       "                        description_combined_processed  \\\n",
       "0               Wal-Mart Super WAL-SAMS SPRINGFIELD MO   \n",
       "1    PURCHASE AUTHORIZED ON 05/14 WM SUPERC Wal-Mar...   \n",
       "2    Walmart.com Bentonville AR XX SIG PURCH 05/13 ...   \n",
       "3    PURCHASE AUTHORIZED ON 05/11 WALMART.COM 800-9...   \n",
       "4      05/13 22:02 WAL-MART # JONESBORO AR CKCD DEBIT    \n",
       "..                                                 ...   \n",
       "469  PURCHASE AUTHORIZED ON 05/14 WM SUPERC Wal-Mar...   \n",
       "470  Walmart.com 05/14 #XXXXX REFUND Walmart.com Be...   \n",
       "471  Point of Sale Debit L341 TIME 04:30 PM DATE 05...   \n",
       "472  CHECKCARD WALMART STA ELENA LA LIBERTAD XXXXX ...   \n",
       "473                      WM SUPERCENTER # GLENVILLE NY   \n",
       "\n",
       "    true_merchant_name_combined merchant_name_combined  true_label     label  \\\n",
       "0                       Walmart               Smith''s           0  0.310292   \n",
       "1                       Walmart              Synchrony           0  0.232759   \n",
       "2                       Walmart               QuikTrip           0  0.075148   \n",
       "3                       Walmart               Cash App           0  0.078535   \n",
       "4                       Walmart     Marathon Petroleum           0  0.257865   \n",
       "..                          ...                    ...         ...       ...   \n",
       "469                     Walmart            Spinstersis           0  0.051089   \n",
       "470                     Walmart     K Stop Convenience           0  0.018743   \n",
       "471                     Walmart            Ross Stores           0  0.114881   \n",
       "472                     Walmart                   Lyft           0  0.116438   \n",
       "473                     Walmart                 Crenco           0  0.015229   \n",
       "\n",
       "         pred_merchant  pred_prob  \n",
       "0    Wal Wal-martsuper   0.799137  \n",
       "1    Wal Wal-martsuper   0.775473  \n",
       "2    Wal Wal-martsuper   0.751793  \n",
       "3    Wal Wal-martsuper   0.735269  \n",
       "4    Wal Wal-martsuper   0.751371  \n",
       "..                 ...        ...  \n",
       "469  Wal Wal-martsuper   0.772779  \n",
       "470  Wal Wal-martsuper   0.713919  \n",
       "471  Wal Wal-martsuper   0.766499  \n",
       "472  Wal Wal-martsuper   0.751746  \n",
       "473  Wal Wal-martsuper   0.674671  \n",
       "\n",
       "[474 rows x 10 columns]"
      ]
     },
     "execution_count": 116,
     "metadata": {},
     "output_type": "execute_result"
    }
   ],
   "source": [
    "df_no_match = df_test[df_test['pred_merchant'] != df_test['true_merchant_name_combined']]\n",
    "df_no_match.reset_index(drop=True, inplace=True)\n",
    "df_no_match"
   ]
  },
  {
   "cell_type": "code",
   "execution_count": null,
   "metadata": {},
   "outputs": [
    {
     "data": {
      "text/html": [
       "<div>\n",
       "<style scoped>\n",
       "    .dataframe tbody tr th:only-of-type {\n",
       "        vertical-align: middle;\n",
       "    }\n",
       "\n",
       "    .dataframe tbody tr th {\n",
       "        vertical-align: top;\n",
       "    }\n",
       "\n",
       "    .dataframe thead th {\n",
       "        text-align: right;\n",
       "    }\n",
       "</style>\n",
       "<table border=\"1\" class=\"dataframe\">\n",
       "  <thead>\n",
       "    <tr style=\"text-align: right;\">\n",
       "      <th></th>\n",
       "      <th>transaction_id</th>\n",
       "      <th>sentence</th>\n",
       "      <th>sentence2</th>\n",
       "      <th>description_combined_processed</th>\n",
       "      <th>true_merchant_name_combined</th>\n",
       "      <th>merchant_name_combined</th>\n",
       "      <th>true_label</th>\n",
       "      <th>label</th>\n",
       "      <th>pred_merchant</th>\n",
       "      <th>pred_prob</th>\n",
       "    </tr>\n",
       "  </thead>\n",
       "  <tbody>\n",
       "    <tr>\n",
       "      <th>0</th>\n",
       "      <td>9796686754</td>\n",
       "      <td>Wal-Mart Super WAL-SAMS SPRINGFIELD MO. Channe...</td>\n",
       "      <td>Wal-Mart Super WAL-SAMS SPRINGFIELD MO. Type: ...</td>\n",
       "      <td>Wal-Mart Super WAL-SAMS SPRINGFIELD MO</td>\n",
       "      <td>Walmart</td>\n",
       "      <td>Smith''s</td>\n",
       "      <td>0</td>\n",
       "      <td>0.310292</td>\n",
       "      <td>Wal Wal-martsuper</td>\n",
       "      <td>0.799137</td>\n",
       "    </tr>\n",
       "    <tr>\n",
       "      <th>13</th>\n",
       "      <td>9799066977</td>\n",
       "      <td>ONLINE TRANSFER FROM MCDONALD J WELLS FARGO CL...</td>\n",
       "      <td>ONLINE TRANSFER FROM MCDONALD J WELLS FARGO CL...</td>\n",
       "      <td>ONLINE TRANSFER FROM MCDONALD J WELLS FARGO CL...</td>\n",
       "      <td>Wells Fargo</td>\n",
       "      <td>Empower</td>\n",
       "      <td>0</td>\n",
       "      <td>0.416453</td>\n",
       "      <td>McDonald''s</td>\n",
       "      <td>0.939226</td>\n",
       "    </tr>\n",
       "    <tr>\n",
       "      <th>18</th>\n",
       "      <td>9813217231</td>\n",
       "      <td>POS PURCHASE POS WM SUPERCENTER GREENVILLE PA....</td>\n",
       "      <td>POS PURCHASE POS WM SUPERCENTER GREENVILLE PA....</td>\n",
       "      <td>POS PURCHASE POS WM SUPERCENTER GREENVILLE PA</td>\n",
       "      <td>Walmart</td>\n",
       "      <td>RaceTrac</td>\n",
       "      <td>0</td>\n",
       "      <td>0.288263</td>\n",
       "      <td>McDonald''s</td>\n",
       "      <td>0.630497</td>\n",
       "    </tr>\n",
       "    <tr>\n",
       "      <th>36</th>\n",
       "      <td>9795670664</td>\n",
       "      <td>POS PURCH : WM SUPERCENTER # GA BAXLEY WM SUPE...</td>\n",
       "      <td>POS PURCH : WM SUPERCENTER # GA BAXLEY WM SUPE...</td>\n",
       "      <td>POS PURCH : WM SUPERCENTER # GA BAXLEY WM SUPE...</td>\n",
       "      <td>Walmart</td>\n",
       "      <td>Synchrony</td>\n",
       "      <td>0</td>\n",
       "      <td>0.000095</td>\n",
       "      <td>U.s. Retailers</td>\n",
       "      <td>0.642287</td>\n",
       "    </tr>\n",
       "    <tr>\n",
       "      <th>269</th>\n",
       "      <td>9800470341</td>\n",
       "      <td>ZELLE TO FEDRA ON 05/14 REF #RP0S842CWR WALMAR...</td>\n",
       "      <td>ZELLE TO FEDRA ON 05/14 REF #RP0S842CWR WALMAR...</td>\n",
       "      <td>ZELLE TO FEDRA ON 05/14 REF #RP0S842CWR WALMART</td>\n",
       "      <td>Walmart</td>\n",
       "      <td>Bank of America</td>\n",
       "      <td>0</td>\n",
       "      <td>0.030782</td>\n",
       "      <td>Zelle</td>\n",
       "      <td>0.705138</td>\n",
       "    </tr>\n",
       "  </tbody>\n",
       "</table>\n",
       "</div>"
      ],
      "text/plain": [
       "     transaction_id                                           sentence  \\\n",
       "0        9796686754  Wal-Mart Super WAL-SAMS SPRINGFIELD MO. Channe...   \n",
       "13       9799066977  ONLINE TRANSFER FROM MCDONALD J WELLS FARGO CL...   \n",
       "18       9813217231  POS PURCHASE POS WM SUPERCENTER GREENVILLE PA....   \n",
       "36       9795670664  POS PURCH : WM SUPERCENTER # GA BAXLEY WM SUPE...   \n",
       "269      9800470341  ZELLE TO FEDRA ON 05/14 REF #RP0S842CWR WALMAR...   \n",
       "\n",
       "                                             sentence2  \\\n",
       "0    Wal-Mart Super WAL-SAMS SPRINGFIELD MO. Type: ...   \n",
       "13   ONLINE TRANSFER FROM MCDONALD J WELLS FARGO CL...   \n",
       "18   POS PURCHASE POS WM SUPERCENTER GREENVILLE PA....   \n",
       "36   POS PURCH : WM SUPERCENTER # GA BAXLEY WM SUPE...   \n",
       "269  ZELLE TO FEDRA ON 05/14 REF #RP0S842CWR WALMAR...   \n",
       "\n",
       "                        description_combined_processed  \\\n",
       "0               Wal-Mart Super WAL-SAMS SPRINGFIELD MO   \n",
       "13   ONLINE TRANSFER FROM MCDONALD J WELLS FARGO CL...   \n",
       "18       POS PURCHASE POS WM SUPERCENTER GREENVILLE PA   \n",
       "36   POS PURCH : WM SUPERCENTER # GA BAXLEY WM SUPE...   \n",
       "269    ZELLE TO FEDRA ON 05/14 REF #RP0S842CWR WALMART   \n",
       "\n",
       "    true_merchant_name_combined merchant_name_combined  true_label     label  \\\n",
       "0                       Walmart               Smith''s           0  0.310292   \n",
       "13                  Wells Fargo                Empower           0  0.416453   \n",
       "18                      Walmart               RaceTrac           0  0.288263   \n",
       "36                      Walmart              Synchrony           0  0.000095   \n",
       "269                     Walmart        Bank of America           0  0.030782   \n",
       "\n",
       "         pred_merchant  pred_prob  \n",
       "0    Wal Wal-martsuper   0.799137  \n",
       "13         McDonald''s   0.939226  \n",
       "18         McDonald''s   0.630497  \n",
       "36      U.s. Retailers   0.642287  \n",
       "269              Zelle   0.705138  "
      ]
     },
     "execution_count": 118,
     "metadata": {},
     "output_type": "execute_result"
    }
   ],
   "source": [
    "df_no_match.drop_duplicates(subset = ['true_merchant_name_combined','pred_merchant'])"
   ]
  },
  {
   "cell_type": "code",
   "execution_count": null,
   "metadata": {},
   "outputs": [
    {
     "data": {
      "text/plain": [
       "'ONLINE TRANSFER FROM MCDONALD J WELLS FARGO CLEAR ACCESS BANKING XXXXXX REF #IB0N78QNRB ON 05/14/24. Channel: None. Amount: 90.0'"
      ]
     },
     "execution_count": 122,
     "metadata": {},
     "output_type": "execute_result"
    }
   ],
   "source": [
    "df_no_match.loc[13,'sentence']"
   ]
  },
  {
   "cell_type": "code",
   "execution_count": null,
   "metadata": {},
   "outputs": [
    {
     "data": {
      "text/plain": [
       "'ZELLE TO FEDRA ON 05/14 REF #RP0S842CWR WALMART. Channel: None. Amount: -98.77'"
      ]
     },
     "execution_count": 120,
     "metadata": {},
     "output_type": "execute_result"
    }
   ],
   "source": [
    "df_no_match.loc[269,'sentence']"
   ]
  },
  {
   "cell_type": "code",
   "execution_count": null,
   "metadata": {},
   "outputs": [],
   "source": [
    "# do a precision-recall curve"
   ]
  },
  {
   "cell_type": "code",
   "execution_count": null,
   "metadata": {},
   "outputs": [
    {
     "data": {
      "text/plain": [
       "(4526, 10)"
      ]
     },
     "execution_count": 108,
     "metadata": {},
     "output_type": "execute_result"
    }
   ],
   "source": []
  },
  {
   "cell_type": "code",
   "execution_count": null,
   "metadata": {},
   "outputs": [],
   "source": []
  },
  {
   "cell_type": "code",
   "execution_count": null,
   "metadata": {},
   "outputs": [
    {
     "data": {
      "text/plain": [
       "true_merchant_name_combined\n",
       "Amazon         12848\n",
       "Cash App       12840\n",
       "Earnin         12825\n",
       "Wells Fargo    12812\n",
       "McDonald''s    12811\n",
       "Zelle          12781\n",
       "Walmart         8583\n",
       "Name: count, dtype: Int64"
      ]
     },
     "execution_count": 80,
     "metadata": {},
     "output_type": "execute_result"
    }
   ],
   "source": [
    "df_train['true_merchant_name_combined'].value_counts()"
   ]
  },
  {
   "cell_type": "code",
   "execution_count": null,
   "metadata": {},
   "outputs": [
    {
     "data": {
      "text/plain": [
       "7"
      ]
     },
     "execution_count": 81,
     "metadata": {},
     "output_type": "execute_result"
    }
   ],
   "source": [
    "df_train['true_merchant_name_combined'].nunique()"
   ]
  },
  {
   "cell_type": "code",
   "execution_count": null,
   "metadata": {},
   "outputs": [
    {
     "data": {
      "text/plain": [
       "true_merchant_name_combined\n",
       "Zelle          796\n",
       "Wells Fargo    757\n",
       "Amazon         756\n",
       "Cash App       746\n",
       "McDonald''s    745\n",
       "Earnin         729\n",
       "Walmart        471\n",
       "Name: count, dtype: Int64"
      ]
     },
     "execution_count": 78,
     "metadata": {},
     "output_type": "execute_result"
    }
   ],
   "source": [
    "df_test['true_merchant_name_combined'].value_counts()"
   ]
  },
  {
   "cell_type": "code",
   "execution_count": null,
   "metadata": {},
   "outputs": [
    {
     "data": {
      "text/plain": [
       "true_merchant_name_combined\n",
       "Earnin         1446\n",
       "McDonald''s    1444\n",
       "Wells Fargo    1431\n",
       "Zelle          1423\n",
       "Cash App       1414\n",
       "Amazon         1396\n",
       "Walmart         946\n",
       "Name: count, dtype: Int64"
      ]
     },
     "execution_count": 79,
     "metadata": {},
     "output_type": "execute_result"
    }
   ],
   "source": [
    "df_val['true_merchant_name_combined'].value_counts()"
   ]
  },
  {
   "cell_type": "code",
   "execution_count": null,
   "metadata": {},
   "outputs": [
    {
     "data": {
      "text/html": [
       "<div>\n",
       "<style scoped>\n",
       "    .dataframe tbody tr th:only-of-type {\n",
       "        vertical-align: middle;\n",
       "    }\n",
       "\n",
       "    .dataframe tbody tr th {\n",
       "        vertical-align: top;\n",
       "    }\n",
       "\n",
       "    .dataframe thead th {\n",
       "        text-align: right;\n",
       "    }\n",
       "</style>\n",
       "<table border=\"1\" class=\"dataframe\">\n",
       "  <thead>\n",
       "    <tr style=\"text-align: right;\">\n",
       "      <th></th>\n",
       "      <th>true_merchant_name_combined</th>\n",
       "      <th>pred_merchant</th>\n",
       "      <th>pred_prob</th>\n",
       "    </tr>\n",
       "  </thead>\n",
       "  <tbody>\n",
       "    <tr>\n",
       "      <th>0</th>\n",
       "      <td>Wells Fargo</td>\n",
       "      <td>Wells Fargo</td>\n",
       "      <td>0.961568</td>\n",
       "    </tr>\n",
       "    <tr>\n",
       "      <th>1</th>\n",
       "      <td>McDonald''s</td>\n",
       "      <td>McDonald''s</td>\n",
       "      <td>0.974988</td>\n",
       "    </tr>\n",
       "    <tr>\n",
       "      <th>2</th>\n",
       "      <td>Cash App</td>\n",
       "      <td>Cash App</td>\n",
       "      <td>0.975234</td>\n",
       "    </tr>\n",
       "    <tr>\n",
       "      <th>3</th>\n",
       "      <td>McDonald''s</td>\n",
       "      <td>McDonald''s</td>\n",
       "      <td>0.980123</td>\n",
       "    </tr>\n",
       "    <tr>\n",
       "      <th>4</th>\n",
       "      <td>Walmart</td>\n",
       "      <td>Wal Wal-martsuper</td>\n",
       "      <td>0.799137</td>\n",
       "    </tr>\n",
       "    <tr>\n",
       "      <th>...</th>\n",
       "      <td>...</td>\n",
       "      <td>...</td>\n",
       "      <td>...</td>\n",
       "    </tr>\n",
       "    <tr>\n",
       "      <th>4995</th>\n",
       "      <td>Wells Fargo</td>\n",
       "      <td>Wells Fargo</td>\n",
       "      <td>0.940395</td>\n",
       "    </tr>\n",
       "    <tr>\n",
       "      <th>4996</th>\n",
       "      <td>Zelle</td>\n",
       "      <td>Zelle</td>\n",
       "      <td>0.979735</td>\n",
       "    </tr>\n",
       "    <tr>\n",
       "      <th>4997</th>\n",
       "      <td>Walmart</td>\n",
       "      <td>Wal Wal-martsuper</td>\n",
       "      <td>0.674671</td>\n",
       "    </tr>\n",
       "    <tr>\n",
       "      <th>4998</th>\n",
       "      <td>Zelle</td>\n",
       "      <td>Zelle</td>\n",
       "      <td>0.980085</td>\n",
       "    </tr>\n",
       "    <tr>\n",
       "      <th>4999</th>\n",
       "      <td>Zelle</td>\n",
       "      <td>Zelle</td>\n",
       "      <td>0.980246</td>\n",
       "    </tr>\n",
       "  </tbody>\n",
       "</table>\n",
       "<p>5000 rows × 3 columns</p>\n",
       "</div>"
      ],
      "text/plain": [
       "     true_merchant_name_combined      pred_merchant  pred_prob\n",
       "0                    Wells Fargo        Wells Fargo   0.961568\n",
       "1                    McDonald''s        McDonald''s   0.974988\n",
       "2                       Cash App           Cash App   0.975234\n",
       "3                    McDonald''s        McDonald''s   0.980123\n",
       "4                        Walmart  Wal Wal-martsuper   0.799137\n",
       "...                          ...                ...        ...\n",
       "4995                 Wells Fargo        Wells Fargo   0.940395\n",
       "4996                       Zelle              Zelle   0.979735\n",
       "4997                     Walmart  Wal Wal-martsuper   0.674671\n",
       "4998                       Zelle              Zelle   0.980085\n",
       "4999                       Zelle              Zelle   0.980246\n",
       "\n",
       "[5000 rows x 3 columns]"
      ]
     },
     "execution_count": 76,
     "metadata": {},
     "output_type": "execute_result"
    }
   ],
   "source": [
    "df_test[['true_merchant_name_combined','pred_merchant','pred_prob']]"
   ]
  },
  {
   "cell_type": "code",
   "execution_count": null,
   "metadata": {},
   "outputs": [
    {
     "data": {
      "image/png": "[encoded data removed]",
      "text/plain": [
       "<Figure size 640x480 with 1 Axes>"
      ]
     },
     "metadata": {},
     "output_type": "display_data"
    }
   ],
   "source": [
    "df_test['pred_prob'].hist();"
   ]
  },
  {
   "cell_type": "code",
   "execution_count": null,
   "metadata": {},
   "outputs": [
    {
     "data": {
      "text/html": [
       "<div>\n",
       "<style scoped>\n",
       "    .dataframe tbody tr th:only-of-type {\n",
       "        vertical-align: middle;\n",
       "    }\n",
       "\n",
       "    .dataframe tbody tr th {\n",
       "        vertical-align: top;\n",
       "    }\n",
       "\n",
       "    .dataframe thead th {\n",
       "        text-align: right;\n",
       "    }\n",
       "</style>\n",
       "<table border=\"1\" class=\"dataframe\">\n",
       "  <thead>\n",
       "    <tr style=\"text-align: right;\">\n",
       "      <th></th>\n",
       "      <th>transaction_id</th>\n",
       "      <th>sentence</th>\n",
       "      <th>sentence2</th>\n",
       "      <th>description_combined_processed</th>\n",
       "      <th>true_merchant_name_combined</th>\n",
       "      <th>merchant_name_combined</th>\n",
       "      <th>true_label</th>\n",
       "      <th>label</th>\n",
       "      <th>pred_merchant</th>\n",
       "      <th>pred_prob</th>\n",
       "    </tr>\n",
       "  </thead>\n",
       "  <tbody>\n",
       "    <tr>\n",
       "      <th>4</th>\n",
       "      <td>9796686754</td>\n",
       "      <td>Wal-Mart Super WAL-SAMS SPRINGFIELD MO. Channe...</td>\n",
       "      <td>Wal-Mart Super WAL-SAMS SPRINGFIELD MO. Type: ...</td>\n",
       "      <td>Wal-Mart Super WAL-SAMS SPRINGFIELD MO</td>\n",
       "      <td>Walmart</td>\n",
       "      <td>Smith''s</td>\n",
       "      <td>0</td>\n",
       "      <td>0.310292</td>\n",
       "      <td>Wal Wal-martsuper</td>\n",
       "      <td>0.799137</td>\n",
       "    </tr>\n",
       "    <tr>\n",
       "      <th>11</th>\n",
       "      <td>9799290885</td>\n",
       "      <td>PURCHASE AUTHORIZED ON 05/14 WM SUPERC Wal-Mar...</td>\n",
       "      <td>PURCHASE AUTHORIZED ON 05/14 WM SUPERC Wal-Mar...</td>\n",
       "      <td>PURCHASE AUTHORIZED ON 05/14 WM SUPERC Wal-Mar...</td>\n",
       "      <td>Walmart</td>\n",
       "      <td>Synchrony</td>\n",
       "      <td>0</td>\n",
       "      <td>0.232759</td>\n",
       "      <td>Wal Wal-martsuper</td>\n",
       "      <td>0.775473</td>\n",
       "    </tr>\n",
       "    <tr>\n",
       "      <th>12</th>\n",
       "      <td>9798904474</td>\n",
       "      <td>Walmart.com Bentonville AR XX SIG PURCH 05/13 ...</td>\n",
       "      <td>Walmart.com Bentonville AR XX SIG PURCH 05/13 ...</td>\n",
       "      <td>Walmart.com Bentonville AR XX SIG PURCH 05/13 ...</td>\n",
       "      <td>Walmart</td>\n",
       "      <td>QuikTrip</td>\n",
       "      <td>0</td>\n",
       "      <td>0.075148</td>\n",
       "      <td>Wal Wal-martsuper</td>\n",
       "      <td>0.751793</td>\n",
       "    </tr>\n",
       "    <tr>\n",
       "      <th>17</th>\n",
       "      <td>9801927063</td>\n",
       "      <td>PURCHASE AUTHORIZED ON 05/11 WALMART.COM 800-9...</td>\n",
       "      <td>PURCHASE AUTHORIZED ON 05/11 WALMART.COM 800-9...</td>\n",
       "      <td>PURCHASE AUTHORIZED ON 05/11 WALMART.COM 800-9...</td>\n",
       "      <td>Walmart</td>\n",
       "      <td>Cash App</td>\n",
       "      <td>0</td>\n",
       "      <td>0.078535</td>\n",
       "      <td>Wal Wal-martsuper</td>\n",
       "      <td>0.735269</td>\n",
       "    </tr>\n",
       "    <tr>\n",
       "      <th>28</th>\n",
       "      <td>9799263021</td>\n",
       "      <td>05/13 22:02 WAL-MART # JONESBORO AR CKCD DEBIT...</td>\n",
       "      <td>05/13 22:02 WAL-MART # JONESBORO AR CKCD DEBIT...</td>\n",
       "      <td>05/13 22:02 WAL-MART # JONESBORO AR CKCD DEBIT</td>\n",
       "      <td>Walmart</td>\n",
       "      <td>Marathon Petroleum</td>\n",
       "      <td>0</td>\n",
       "      <td>0.257865</td>\n",
       "      <td>Wal Wal-martsuper</td>\n",
       "      <td>0.751371</td>\n",
       "    </tr>\n",
       "    <tr>\n",
       "      <th>...</th>\n",
       "      <td>...</td>\n",
       "      <td>...</td>\n",
       "      <td>...</td>\n",
       "      <td>...</td>\n",
       "      <td>...</td>\n",
       "      <td>...</td>\n",
       "      <td>...</td>\n",
       "      <td>...</td>\n",
       "      <td>...</td>\n",
       "      <td>...</td>\n",
       "    </tr>\n",
       "    <tr>\n",
       "      <th>4960</th>\n",
       "      <td>9807244423</td>\n",
       "      <td>PURCHASE AUTHORIZED ON 05/14 WM SUPERC Wal-Mar...</td>\n",
       "      <td>PURCHASE AUTHORIZED ON 05/14 WM SUPERC Wal-Mar...</td>\n",
       "      <td>PURCHASE AUTHORIZED ON 05/14 WM SUPERC Wal-Mar...</td>\n",
       "      <td>Walmart</td>\n",
       "      <td>Spinstersis</td>\n",
       "      <td>0</td>\n",
       "      <td>0.051089</td>\n",
       "      <td>Wal Wal-martsuper</td>\n",
       "      <td>0.772779</td>\n",
       "    </tr>\n",
       "    <tr>\n",
       "      <th>4965</th>\n",
       "      <td>9808452776</td>\n",
       "      <td>Walmart.com 05/14 #XXXXX REFUND Walmart.com Be...</td>\n",
       "      <td>Walmart.com 05/14 #XXXXX REFUND Walmart.com Be...</td>\n",
       "      <td>Walmart.com 05/14 #XXXXX REFUND Walmart.com Be...</td>\n",
       "      <td>Walmart</td>\n",
       "      <td>K Stop Convenience</td>\n",
       "      <td>0</td>\n",
       "      <td>0.018743</td>\n",
       "      <td>Wal Wal-martsuper</td>\n",
       "      <td>0.713919</td>\n",
       "    </tr>\n",
       "    <tr>\n",
       "      <th>4971</th>\n",
       "      <td>9798778036</td>\n",
       "      <td>Point of Sale Debit L341 TIME 04:30 PM DATE 05...</td>\n",
       "      <td>Point of Sale Debit L341 TIME 04:30 PM DATE 05...</td>\n",
       "      <td>Point of Sale Debit L341 TIME 04:30 PM DATE 05...</td>\n",
       "      <td>Walmart</td>\n",
       "      <td>Ross Stores</td>\n",
       "      <td>0</td>\n",
       "      <td>0.114881</td>\n",
       "      <td>Wal Wal-martsuper</td>\n",
       "      <td>0.766499</td>\n",
       "    </tr>\n",
       "    <tr>\n",
       "      <th>4981</th>\n",
       "      <td>9807593604</td>\n",
       "      <td>CHECKCARD WALMART STA ELENA LA LIBERTAD XXXXX ...</td>\n",
       "      <td>CHECKCARD WALMART STA ELENA LA LIBERTAD XXXXX ...</td>\n",
       "      <td>CHECKCARD WALMART STA ELENA LA LIBERTAD XXXXX ...</td>\n",
       "      <td>Walmart</td>\n",
       "      <td>Lyft</td>\n",
       "      <td>0</td>\n",
       "      <td>0.116438</td>\n",
       "      <td>Wal Wal-martsuper</td>\n",
       "      <td>0.751746</td>\n",
       "    </tr>\n",
       "    <tr>\n",
       "      <th>4997</th>\n",
       "      <td>9799287551</td>\n",
       "      <td>WM SUPERCENTER # GLENVILLE NY. Channel: in sto...</td>\n",
       "      <td>WM SUPERCENTER # GLENVILLE NY. Type: merchant....</td>\n",
       "      <td>WM SUPERCENTER # GLENVILLE NY</td>\n",
       "      <td>Walmart</td>\n",
       "      <td>Crenco</td>\n",
       "      <td>0</td>\n",
       "      <td>0.015229</td>\n",
       "      <td>Wal Wal-martsuper</td>\n",
       "      <td>0.674671</td>\n",
       "    </tr>\n",
       "  </tbody>\n",
       "</table>\n",
       "<p>483 rows × 10 columns</p>\n",
       "</div>"
      ],
      "text/plain": [
       "      transaction_id                                           sentence  \\\n",
       "4         9796686754  Wal-Mart Super WAL-SAMS SPRINGFIELD MO. Channe...   \n",
       "11        9799290885  PURCHASE AUTHORIZED ON 05/14 WM SUPERC Wal-Mar...   \n",
       "12        9798904474  Walmart.com Bentonville AR XX SIG PURCH 05/13 ...   \n",
       "17        9801927063  PURCHASE AUTHORIZED ON 05/11 WALMART.COM 800-9...   \n",
       "28        9799263021  05/13 22:02 WAL-MART # JONESBORO AR CKCD DEBIT...   \n",
       "...              ...                                                ...   \n",
       "4960      9807244423  PURCHASE AUTHORIZED ON 05/14 WM SUPERC Wal-Mar...   \n",
       "4965      9808452776  Walmart.com 05/14 #XXXXX REFUND Walmart.com Be...   \n",
       "4971      9798778036  Point of Sale Debit L341 TIME 04:30 PM DATE 05...   \n",
       "4981      9807593604  CHECKCARD WALMART STA ELENA LA LIBERTAD XXXXX ...   \n",
       "4997      9799287551  WM SUPERCENTER # GLENVILLE NY. Channel: in sto...   \n",
       "\n",
       "                                              sentence2  \\\n",
       "4     Wal-Mart Super WAL-SAMS SPRINGFIELD MO. Type: ...   \n",
       "11    PURCHASE AUTHORIZED ON 05/14 WM SUPERC Wal-Mar...   \n",
       "12    Walmart.com Bentonville AR XX SIG PURCH 05/13 ...   \n",
       "17    PURCHASE AUTHORIZED ON 05/11 WALMART.COM 800-9...   \n",
       "28    05/13 22:02 WAL-MART # JONESBORO AR CKCD DEBIT...   \n",
       "...                                                 ...   \n",
       "4960  PURCHASE AUTHORIZED ON 05/14 WM SUPERC Wal-Mar...   \n",
       "4965  Walmart.com 05/14 #XXXXX REFUND Walmart.com Be...   \n",
       "4971  Point of Sale Debit L341 TIME 04:30 PM DATE 05...   \n",
       "4981  CHECKCARD WALMART STA ELENA LA LIBERTAD XXXXX ...   \n",
       "4997  WM SUPERCENTER # GLENVILLE NY. Type: merchant....   \n",
       "\n",
       "                         description_combined_processed  \\\n",
       "4                Wal-Mart Super WAL-SAMS SPRINGFIELD MO   \n",
       "11    PURCHASE AUTHORIZED ON 05/14 WM SUPERC Wal-Mar...   \n",
       "12    Walmart.com Bentonville AR XX SIG PURCH 05/13 ...   \n",
       "17    PURCHASE AUTHORIZED ON 05/11 WALMART.COM 800-9...   \n",
       "28      05/13 22:02 WAL-MART # JONESBORO AR CKCD DEBIT    \n",
       "...                                                 ...   \n",
       "4960  PURCHASE AUTHORIZED ON 05/14 WM SUPERC Wal-Mar...   \n",
       "4965  Walmart.com 05/14 #XXXXX REFUND Walmart.com Be...   \n",
       "4971  Point of Sale Debit L341 TIME 04:30 PM DATE 05...   \n",
       "4981  CHECKCARD WALMART STA ELENA LA LIBERTAD XXXXX ...   \n",
       "4997                      WM SUPERCENTER # GLENVILLE NY   \n",
       "\n",
       "     true_merchant_name_combined merchant_name_combined  true_label     label  \\\n",
       "4                        Walmart               Smith''s           0  0.310292   \n",
       "11                       Walmart              Synchrony           0  0.232759   \n",
       "12                       Walmart               QuikTrip           0  0.075148   \n",
       "17                       Walmart               Cash App           0  0.078535   \n",
       "28                       Walmart     Marathon Petroleum           0  0.257865   \n",
       "...                          ...                    ...         ...       ...   \n",
       "4960                     Walmart            Spinstersis           0  0.051089   \n",
       "4965                     Walmart     K Stop Convenience           0  0.018743   \n",
       "4971                     Walmart            Ross Stores           0  0.114881   \n",
       "4981                     Walmart                   Lyft           0  0.116438   \n",
       "4997                     Walmart                 Crenco           0  0.015229   \n",
       "\n",
       "          pred_merchant  pred_prob  \n",
       "4     Wal Wal-martsuper   0.799137  \n",
       "11    Wal Wal-martsuper   0.775473  \n",
       "12    Wal Wal-martsuper   0.751793  \n",
       "17    Wal Wal-martsuper   0.735269  \n",
       "28    Wal Wal-martsuper   0.751371  \n",
       "...                 ...        ...  \n",
       "4960  Wal Wal-martsuper   0.772779  \n",
       "4965  Wal Wal-martsuper   0.713919  \n",
       "4971  Wal Wal-martsuper   0.766499  \n",
       "4981  Wal Wal-martsuper   0.751746  \n",
       "4997  Wal Wal-martsuper   0.674671  \n",
       "\n",
       "[483 rows x 10 columns]"
      ]
     },
     "execution_count": 89,
     "metadata": {},
     "output_type": "execute_result"
    }
   ],
   "source": [
    "df_test[df_test['pred_prob']<0.85][:500]"
   ]
  },
  {
   "cell_type": "code",
   "execution_count": null,
   "metadata": {},
   "outputs": [
    {
     "data": {
      "text/plain": [
       "(5000, 10)"
      ]
     },
     "execution_count": 51,
     "metadata": {},
     "output_type": "execute_result"
    }
   ],
   "source": [
    "df_test.shape"
   ]
  },
  {
   "cell_type": "code",
   "execution_count": null,
   "metadata": {},
   "outputs": [
    {
     "data": {
      "text/plain": [
       "100    Deposit Debit Ca Earnin CEEEE_B Palo Alto CA D...\n",
       "101    Zelle payment from AMY HAYES for \\\"vanishing b...\n",
       "102    EARNIN CHGFC_B PALO ALTO CA 05/14. Channel: No...\n",
       "103    PURCHASE AUTHORIZED ON 05/13 MCDONALD''S F IRV...\n",
       "104    Debit Card Credit EARNIN CCHGA_B PALO ALTO CA....\n",
       "105    Zelle payment from SUSAN BRODBECK BACsggj269q0...\n",
       "106    POS Payment McDonalds 154-XXX VA # . Channel: ...\n",
       "107    ONLINE TRANSFER FROM HUDSON A WAY2SAVE SAVINGS...\n",
       "108    EARNIN CDHJA_B PALO ALTO CA 05/14. Channel: No...\n",
       "109    Earnin CEGJA_B Palo Alto CA. Channel: None. Am...\n",
       "110    ONLINE TRANSFER FROM BENNETT T WAY2SAVE SAVING...\n",
       "111    Zelle payment from ALEXIS GAUDET BACxe32r3prx....\n",
       "112    PURCHASE AMZN Mktp US*SY1BN Amzn.com/billWA XX...\n",
       "113    CASH APP*ERIC LOLA BAR. Channel: None. Amount:...\n",
       "114    Zelle payment from SHAVONNE MORENO BACpwpbspl0...\n",
       "115    McDonalds 05-12 BROOKSVILLE FL DEBIT CARD PURC...\n",
       "116    CHECKCARD CASH APP*WE DESIG XXXXX CA XXXXX XXX...\n",
       "117    AMZN Mktp US*WN8Q06S Amzn.com/bill WA 05/14. C...\n",
       "118    ONLINE TRANSFER FROM CANNATA-FILERA T WAY2SAVE...\n",
       "119    Point Of Sale Withdrawal MCDONALD''S F597 DAWS...\n",
       "120    ATM/POS Share Deposit Earnin CCEGE_B - Earnin ...\n",
       "121    Debit Purchase -visa Mcdonald''s F212 Hamilton...\n",
       "122    XX DDA CREDIT ADJ Earnin CJAIB_B Palo Alto CA ...\n",
       "123    Debit Card Withdrawal: VISA Debit Sig. WM SUPE...\n",
       "124    CHECKCARD MCDONALD''S M CULVER CITY CA XXXXX X...\n",
       "125    Zelle payment from ELIJAH MUHAMMAD ST PHAR WFC...\n",
       "126    Debit Card Purchase 05/11 10:22a # AMAZON.COM*...\n",
       "127    PURCHASE AUTHORIZED ON 05/13 Amazon Prime*NY07...\n",
       "128    AMAZON.COM SERVI DES:INTERNET ID:XXXXXXXXXX IN...\n",
       "129    ZELLE FROM GEIER TONNIE ON 05/14 REF # PP0S83X...\n",
       "130    POS PURCHASE WAL-MART # WEST MONROE ***** 05/1...\n",
       "131    ONLINE TRANSFER FROM VILLAFUERTE J WAY2SAVE SA...\n",
       "132    Zelle payment from JOSEFINA ESPINAL for \\\"pago...\n",
       "133    Cash App Transfer to Alan Hernande. Channel: N...\n",
       "134    MCDONALD''S F CLERMONT FL 05/13. Channel: in s...\n",
       "135    Withdrawal Debit Card DEBIT CARD/WAL-MART # SO...\n",
       "136    ZELLE TO RODRIGUEZ ROBERT ON 05/13 REF #PP0S82...\n",
       "137    Point Of Sale Deposit Earnin / CGEDJ_B Palo Al...\n",
       "138    POS PURCHASE POS WM SUPERCENTER GREENVILLE PA....\n",
       "139    PURCHASE AMAZON MAR* XXX-XX HTTPSAMAZON.CWA XX...\n",
       "140    POS DEBIT 05/14 7:28 WAL WAL MART SUPER LUBBOC...\n",
       "141    ONLINE TRANSFER TO HOLLEY V WELLS FARGO CLEAR ...\n",
       "142    Payment to CASH APP*APRIL B ROBER. Channel: No...\n",
       "143    PURCHASE AUTHORIZED ON 05/13 Amazon Prime*A87L...\n",
       "144    AMAZON.COM*8L3G SEATTLE /WA US CARD PURCHASE. ...\n",
       "145    Earnin CCDFE_B Palo Alto CA. Channel: None. Am...\n",
       "146    SAVE AS YOU GO TRANSFER DEBIT TO XXXXXXXXXXX ....\n",
       "147    Zelle Transaction H . Channel: None. Amount: 3...\n",
       "148    EARNIN CIJJC_B PALO ALTO CA 05/14. Channel: No...\n",
       "149    SAVE AS YOU GO TRANSFER DEBIT TO XXXXXXXXXXX ....\n",
       "Name: sentence, dtype: string"
      ]
     },
     "execution_count": 53,
     "metadata": {},
     "output_type": "execute_result"
    }
   ],
   "source": [
    "df_test['sentence'][100:150]"
   ]
  },
  {
   "cell_type": "code",
   "execution_count": null,
   "metadata": {},
   "outputs": [
    {
     "data": {
      "text/plain": [
       "array([[-0.00816036,  0.27537555,  0.14324246, ...,  0.0999889 ,\n",
       "        -0.0035936 ,  0.07809736],\n",
       "       [ 0.02443847, -0.07863627,  0.01445072, ...,  0.02271993,\n",
       "         0.03442278,  0.02410999],\n",
       "       [-0.01848849,  0.26305526,  0.12530893, ...,  0.09496655,\n",
       "         0.00565742,  0.07274164],\n",
       "       ...,\n",
       "       [ 0.02032459, -0.06118753,  0.01493401, ..., -0.00625443,\n",
       "         0.10024939,  0.12695931],\n",
       "       [-0.01988285, -0.1525213 ,  0.0045229 , ..., -0.01461221,\n",
       "         0.02463034,  0.0660398 ],\n",
       "       [-0.01051987, -0.06855395,  0.00723861, ..., -0.00558885,\n",
       "         0.0144608 ,  0.05602989]], dtype=float32)"
      ]
     },
     "execution_count": 54,
     "metadata": {},
     "output_type": "execute_result"
    }
   ],
   "source": [
    "model.encode(df_test['sentence'][istart:istart+batch_size].tolist())"
   ]
  },
  {
   "cell_type": "code",
   "execution_count": null,
   "metadata": {},
   "outputs": [
    {
     "data": {
      "text/plain": [
       "(100,)"
      ]
     },
     "execution_count": 47,
     "metadata": {},
     "output_type": "execute_result"
    }
   ],
   "source": [
    "df_test.loc[istart:istart+batch_size-1,'pred_merchant'].shape"
   ]
  },
  {
   "cell_type": "code",
   "execution_count": null,
   "metadata": {},
   "outputs": [
    {
     "data": {
      "text/plain": [
       "(101,)"
      ]
     },
     "execution_count": 46,
     "metadata": {},
     "output_type": "execute_result"
    }
   ],
   "source": [
    "df_test.loc[0:100,'label'].shape"
   ]
  },
  {
   "cell_type": "code",
   "execution_count": null,
   "metadata": {},
   "outputs": [
    {
     "data": {
      "text/plain": [
       "(100, 10)"
      ]
     },
     "execution_count": 44,
     "metadata": {},
     "output_type": "execute_result"
    }
   ],
   "source": [
    "df_test[0:100].shape"
   ]
  },
  {
   "cell_type": "code",
   "execution_count": null,
   "metadata": {},
   "outputs": [
    {
     "data": {
      "text/plain": [
       "100"
      ]
     },
     "execution_count": 42,
     "metadata": {},
     "output_type": "execute_result"
    }
   ],
   "source": [
    "istart+batch_size"
   ]
  },
  {
   "cell_type": "code",
   "execution_count": null,
   "metadata": {},
   "outputs": [
    {
     "data": {
      "text/plain": [
       "100"
      ]
     },
     "execution_count": 38,
     "metadata": {},
     "output_type": "execute_result"
    }
   ],
   "source": [
    "\n",
    "len(predicted_merchant)"
   ]
  },
  {
   "cell_type": "code",
   "execution_count": null,
   "metadata": {},
   "outputs": [],
   "source": [
    "tx_embedding = model.encode(df_test['sentence'][0:2])"
   ]
  },
  {
   "cell_type": "code",
   "execution_count": null,
   "metadata": {},
   "outputs": [
    {
     "data": {
      "text/plain": [
       "(2, 768)"
      ]
     },
     "execution_count": 20,
     "metadata": {},
     "output_type": "execute_result"
    }
   ],
   "source": [
    "tx_embedding.shape"
   ]
  },
  {
   "cell_type": "code",
   "execution_count": null,
   "metadata": {},
   "outputs": [],
   "source": []
  },
  {
   "cell_type": "code",
   "execution_count": null,
   "metadata": {},
   "outputs": [
    {
     "data": {
      "text/plain": [
       "torch.Size([2, 85500])"
      ]
     },
     "execution_count": 22,
     "metadata": {},
     "output_type": "execute_result"
    }
   ],
   "source": []
  },
  {
   "cell_type": "code",
   "execution_count": null,
   "metadata": {},
   "outputs": [
    {
     "data": {
      "text/plain": [
       "torch.return_types.max(\n",
       "values=tensor([0.9616, 0.9750]),\n",
       "indices=tensor([117,  17]))"
      ]
     },
     "execution_count": 23,
     "metadata": {},
     "output_type": "execute_result"
    }
   ],
   "source": []
  },
  {
   "cell_type": "code",
   "execution_count": null,
   "metadata": {},
   "outputs": [],
   "source": []
  },
  {
   "cell_type": "code",
   "execution_count": null,
   "metadata": {},
   "outputs": [
    {
     "data": {
      "text/plain": [
       "tensor([117,  17])"
      ]
     },
     "execution_count": 24,
     "metadata": {},
     "output_type": "execute_result"
    }
   ],
   "source": []
  },
  {
   "cell_type": "code",
   "execution_count": null,
   "metadata": {},
   "outputs": [],
   "source": []
  },
  {
   "cell_type": "code",
   "execution_count": null,
   "metadata": {},
   "outputs": [
    {
     "data": {
      "text/plain": [
       "0         Wells Fargo\n",
       "1         McDonald''s\n",
       "2            Cash App\n",
       "3             Verizon\n",
       "4            Smith''s\n",
       "            ...      \n",
       "4995    Chumba Casino\n",
       "4996            Zelle\n",
       "4997           Crenco\n",
       "4998          Empower\n",
       "4999            Zelle\n",
       "Name: merchant_name_combined, Length: 5000, dtype: string"
      ]
     },
     "execution_count": 59,
     "metadata": {},
     "output_type": "execute_result"
    }
   ],
   "source": [
    "df_test['merchant_name_combined']"
   ]
  },
  {
   "cell_type": "code",
   "execution_count": null,
   "metadata": {},
   "outputs": [
    {
     "ename": "NameError",
     "evalue": "name 'similarities' is not defined",
     "output_type": "error",
     "traceback": [
      "\u001b[0;31m---------------------------------------------------------------------------\u001b[0m",
      "\u001b[0;31mNameError\u001b[0m                                 Traceback (most recent call last)",
      "\u001b[1;32m/home/sagemaker-user/exploration/MERCHANTS/Biencoder_v2_sbert.ipynb Cell 48\u001b[0m line \u001b[0;36m1\n\u001b[0;32m----> <a href='vscode-notebook-cell://yd6plnil3hw8unc.studio.us-east-1.sagemaker.aws/home/sagemaker-user/exploration/MERCHANTS/Biencoder_v2_sbert.ipynb#X65sdnNjb2RlLXJlbW90ZQ%3D%3D?line=0'>1</a>\u001b[0m matched_merchants \u001b[39m=\u001b[39m similarities\u001b[39m.\u001b[39mmax(axis\u001b[39m=\u001b[39m\u001b[39m1\u001b[39m)\n\u001b[1;32m      <a href='vscode-notebook-cell://yd6plnil3hw8unc.studio.us-east-1.sagemaker.aws/home/sagemaker-user/exploration/MERCHANTS/Biencoder_v2_sbert.ipynb#X65sdnNjb2RlLXJlbW90ZQ%3D%3D?line=1'>2</a>\u001b[0m matched_merchants\n",
      "\u001b[0;31mNameError\u001b[0m: name 'similarities' is not defined"
     ]
    }
   ],
   "source": [
    "matched_merchants = similarities.max(axis=1)\n",
    "matched_merchants"
   ]
  },
  {
   "cell_type": "code",
   "execution_count": null,
   "metadata": {},
   "outputs": [
    {
     "data": {
      "text/plain": [
       "tensor([0.9629, 0.9737])"
      ]
     },
     "execution_count": 240,
     "metadata": {},
     "output_type": "execute_result"
    }
   ],
   "source": [
    "similarity_score = matched_merchants[0]\n",
    "similarity_score"
   ]
  },
  {
   "cell_type": "code",
   "execution_count": null,
   "metadata": {},
   "outputs": [
    {
     "ename": "NameError",
     "evalue": "name 'matched_merchants' is not defined",
     "output_type": "error",
     "traceback": [
      "\u001b[0;31m---------------------------------------------------------------------------\u001b[0m",
      "\u001b[0;31mNameError\u001b[0m                                 Traceback (most recent call last)",
      "\u001b[1;32m/home/sagemaker-user/exploration/MERCHANTS/Biencoder_v2_sbert.ipynb Cell 50\u001b[0m line \u001b[0;36m1\n\u001b[0;32m----> <a href='vscode-notebook-cell://yd6plnil3hw8unc.studio.us-east-1.sagemaker.aws/home/sagemaker-user/exploration/MERCHANTS/Biencoder_v2_sbert.ipynb#Y100sdnNjb2RlLXJlbW90ZQ%3D%3D?line=0'>1</a>\u001b[0m matched_merchants\n",
      "\u001b[0;31mNameError\u001b[0m: name 'matched_merchants' is not defined"
     ]
    }
   ],
   "source": [
    "matched_merchants"
   ]
  },
  {
   "cell_type": "markdown",
   "metadata": {},
   "source": [
    "Load model"
   ]
  },
  {
   "cell_type": "code",
   "execution_count": null,
   "metadata": {},
   "outputs": [
    {
     "name": "stdout",
     "output_type": "stream",
     "text": [
      "3.0.0\n"
     ]
    }
   ],
   "source": [
    "print(sentence_transformers.__version__)"
   ]
  },
  {
   "cell_type": "code",
   "execution_count": null,
   "metadata": {},
   "outputs": [],
   "source": [
    "from sentence_transformers import SentenceTransformerModelCardData\n",
    "from datasets import load_dataset\n"
   ]
  },
  {
   "cell_type": "code",
   "execution_count": null,
   "metadata": {},
   "outputs": [
    {
     "name": "stderr",
     "output_type": "stream",
     "text": [
      "No sentence-transformers model found with name microsoft/mpnet-base. Creating a new one with mean pooling.\n",
      "Some weights of MPNetModel were not initialized from the model checkpoint at microsoft/mpnet-base and are newly initialized: ['mpnet.pooler.dense.bias', 'mpnet.pooler.dense.weight']\n",
      "You should probably TRAIN this model on a down-stream task to be able to use it for predictions and inference.\n"
     ]
    },
    {
     "data": {
      "application/vnd.jupyter.widget-view+json": {
       "model_id": "44fc4151b2bb4649a3f733f06a1ca31b",
       "version_major": 2,
       "version_minor": 0
      },
      "text/plain": [
       "Downloading data:   0%|          | 0.00/69.5M [00:00<?, ?B/s]"
      ]
     },
     "metadata": {},
     "output_type": "display_data"
    },
    {
     "data": {
      "application/vnd.jupyter.widget-view+json": {
       "model_id": "d6b1ff8f2b0e400191f659296292ab16",
       "version_major": 2,
       "version_minor": 0
      },
      "text/plain": [
       "Downloading data:   0%|          | 0.00/1.57M [00:00<?, ?B/s]"
      ]
     },
     "metadata": {},
     "output_type": "display_data"
    },
    {
     "data": {
      "application/vnd.jupyter.widget-view+json": {
       "model_id": "adaf006de9cd4f0c9365293f64593dae",
       "version_major": 2,
       "version_minor": 0
      },
      "text/plain": [
       "Downloading data:   0%|          | 0.00/1.61M [00:00<?, ?B/s]"
      ]
     },
     "metadata": {},
     "output_type": "display_data"
    },
    {
     "data": {
      "application/vnd.jupyter.widget-view+json": {
       "model_id": "8a4548ca60d147e2bf4180cc9717277c",
       "version_major": 2,
       "version_minor": 0
      },
      "text/plain": [
       "Generating train split:   0%|          | 0/942069 [00:00<?, ? examples/s]"
      ]
     },
     "metadata": {},
     "output_type": "display_data"
    },
    {
     "data": {
      "application/vnd.jupyter.widget-view+json": {
       "model_id": "6481230ea1e844bca7c04d944de42a2b",
       "version_major": 2,
       "version_minor": 0
      },
      "text/plain": [
       "Generating dev split:   0%|          | 0/19657 [00:00<?, ? examples/s]"
      ]
     },
     "metadata": {},
     "output_type": "display_data"
    },
    {
     "data": {
      "application/vnd.jupyter.widget-view+json": {
       "model_id": "99381b567f484ed58f1bb044b75ece6e",
       "version_major": 2,
       "version_minor": 0
      },
      "text/plain": [
       "Generating test split:   0%|          | 0/19656 [00:00<?, ? examples/s]"
      ]
     },
     "metadata": {},
     "output_type": "display_data"
    }
   ],
   "source": [
    "# 1. Load a model to finetune with 2. (Optional) model card data\n",
    "model = SentenceTransformer(\n",
    "    \"microsoft/mpnet-base\",\n",
    "    model_card_data=SentenceTransformerModelCardData(\n",
    "        language=\"en\",\n",
    "        license=\"apache-2.0\",\n",
    "        model_name=\"MPNet base trained on AllNLI triplets\",\n",
    "    )\n",
    ")\n",
    "\n",
    "# 3. Load a dataset to finetune on\n",
    "dataset = load_dataset(\"sentence-transformers/all-nli\",'pair-score')"
   ]
  },
  {
   "cell_type": "code",
   "execution_count": null,
   "metadata": {},
   "outputs": [
    {
     "data": {
      "text/plain": [
       "DatasetDict({\n",
       "    train: Dataset({\n",
       "        features: ['sentence1', 'sentence2', 'score'],\n",
       "        num_rows: 942069\n",
       "    })\n",
       "    dev: Dataset({\n",
       "        features: ['sentence1', 'sentence2', 'score'],\n",
       "        num_rows: 19657\n",
       "    })\n",
       "    test: Dataset({\n",
       "        features: ['sentence1', 'sentence2', 'score'],\n",
       "        num_rows: 19656\n",
       "    })\n",
       "})"
      ]
     },
     "execution_count": 126,
     "metadata": {},
     "output_type": "execute_result"
    }
   ],
   "source": [
    "dataset"
   ]
  },
  {
   "cell_type": "code",
   "execution_count": null,
   "metadata": {},
   "outputs": [],
   "source": [
    "train_dataset = dataset['train']"
   ]
  },
  {
   "cell_type": "code",
   "execution_count": null,
   "metadata": {},
   "outputs": [
    {
     "data": {
      "text/plain": [
       "{'sentence1': 'A person on a horse jumps over a broken down airplane.',\n",
       " 'sentence2': 'A person is training his horse for a competition.',\n",
       " 'score': 0.5}"
      ]
     },
     "execution_count": 128,
     "metadata": {},
     "output_type": "execute_result"
    }
   ],
   "source": [
    "train_dataset[0]"
   ]
  },
  {
   "cell_type": "code",
   "execution_count": null,
   "metadata": {},
   "outputs": [],
   "source": [
    "#train_dataloader = DataLoader(train_examples, shuffle=True, batch_size = 128)"
   ]
  },
  {
   "cell_type": "code",
   "execution_count": null,
   "metadata": {},
   "outputs": [
    {
     "data": {
      "text/plain": [
       "668"
      ]
     },
     "execution_count": 38,
     "metadata": {},
     "output_type": "execute_result"
    }
   ],
   "source": [
    "len(train_dataloader)"
   ]
  },
  {
   "cell_type": "code",
   "execution_count": null,
   "metadata": {},
   "outputs": [],
   "source": [
    "#train_loss = losses.CosineSimilarityLoss(model)"
   ]
  },
  {
   "cell_type": "code",
   "execution_count": null,
   "metadata": {},
   "outputs": [
    {
     "ename": "NameError",
     "evalue": "name 'train_loss' is not defined",
     "output_type": "error",
     "traceback": [
      "\u001b[0;31m---------------------------------------------------------------------------\u001b[0m",
      "\u001b[0;31mNameError\u001b[0m                                 Traceback (most recent call last)",
      "\u001b[1;32m/home/sagemaker-user/exploration/MERCHANTS/Biencoder_v2_sbert.ipynb Cell 39\u001b[0m line \u001b[0;36m1\n\u001b[0;32m----> <a href='vscode-notebook-cell://yd6plnil3hw8unc.studio.us-east-1.sagemaker.aws/home/sagemaker-user/exploration/MERCHANTS/Biencoder_v2_sbert.ipynb#X34sdnNjb2RlLXJlbW90ZQ%3D%3D?line=0'>1</a>\u001b[0m train_loss\n",
      "\u001b[0;31mNameError\u001b[0m: name 'train_loss' is not defined"
     ]
    }
   ],
   "source": [
    "train_loss"
   ]
  },
  {
   "cell_type": "markdown",
   "metadata": {},
   "source": [
    "## Tune the model"
   ]
  },
  {
   "cell_type": "code",
   "execution_count": null,
   "metadata": {},
   "outputs": [
    {
     "name": "stderr",
     "output_type": "stream",
     "text": [
      "Detected kernel version 4.14.343, which is below the recommended minimum of 5.5.0; this can cause the process to hang. It is recommended to upgrade the kernel to the minimum version or higher.\n"
     ]
    },
    {
     "data": {
      "text/html": [
       "\n",
       "    <div>\n",
       "      \n",
       "      <progress value='668' max='668' style='width:300px; height:20px; vertical-align: middle;'></progress>\n",
       "      [668/668 04:27, Epoch 1/1]\n",
       "    </div>\n",
       "    <table border=\"1\" class=\"dataframe\">\n",
       "  <thead>\n",
       " <tr style=\"text-align: left;\">\n",
       "      <th>Step</th>\n",
       "      <th>Training Loss</th>\n",
       "    </tr>\n",
       "  </thead>\n",
       "  <tbody>\n",
       "    <tr>\n",
       "      <td>500</td>\n",
       "      <td>0.020500</td>\n",
       "    </tr>\n",
       "  </tbody>\n",
       "</table><p>"
      ],
      "text/plain": [
       "<IPython.core.display.HTML object>"
      ]
     },
     "metadata": {},
     "output_type": "display_data"
    }
   ],
   "source": [
    "model.fit(train_objectives = [(train_dataloader, train_loss)], epochs = 1 , warmup_steps = 100)"
   ]
  },
  {
   "cell_type": "code",
   "execution_count": null,
   "metadata": {},
   "outputs": [],
   "source": [
    "# save model"
   ]
  },
  {
   "cell_type": "markdown",
   "metadata": {},
   "source": [
    "## Evaluation"
   ]
  },
  {
   "cell_type": "code",
   "execution_count": null,
   "metadata": {},
   "outputs": [],
   "source": [
    "trx_descriptions = df_val['sentence'].tolist()\n",
    "merchants = df_val['merchant_name_combined'].tolist()\n",
    "trx_embeddings = model.encode(trx_descriptions)\n",
    "merchants_embeddings = model.encode(merchants)"
   ]
  },
  {
   "cell_type": "code",
   "execution_count": null,
   "metadata": {},
   "outputs": [
    {
     "name": "stdout",
     "output_type": "stream",
     "text": [
      "(9500, 768)\n",
      "(9500, 768)\n"
     ]
    }
   ],
   "source": [
    "print(trx_embeddings.shape)\n",
    "print(merchants_embeddings.shape)"
   ]
  },
  {
   "cell_type": "code",
   "execution_count": null,
   "metadata": {},
   "outputs": [],
   "source": [
    "import numpy as np"
   ]
  },
  {
   "cell_type": "code",
   "execution_count": null,
   "metadata": {},
   "outputs": [],
   "source": [
    "## look into numba\n",
    "cosine_similarity(trx_embeddings, merchants_embeddings).shape\n",
    "df_val['cos_similarity']=np.diag(cosine_similarity(trx_embeddings, merchants_embeddings))"
   ]
  },
  {
   "cell_type": "code",
   "execution_count": null,
   "metadata": {},
   "outputs": [
    {
     "data": {
      "text/html": [
       "<div>\n",
       "<style scoped>\n",
       "    .dataframe tbody tr th:only-of-type {\n",
       "        vertical-align: middle;\n",
       "    }\n",
       "\n",
       "    .dataframe tbody tr th {\n",
       "        vertical-align: top;\n",
       "    }\n",
       "\n",
       "    .dataframe thead th {\n",
       "        text-align: right;\n",
       "    }\n",
       "</style>\n",
       "<table border=\"1\" class=\"dataframe\">\n",
       "  <thead>\n",
       "    <tr style=\"text-align: right;\">\n",
       "      <th></th>\n",
       "      <th>transaction_id</th>\n",
       "      <th>sentence</th>\n",
       "      <th>sentence2</th>\n",
       "      <th>description_combined_processed</th>\n",
       "      <th>true_merchant_name_combined</th>\n",
       "      <th>merchant_name_combined</th>\n",
       "      <th>true_label</th>\n",
       "      <th>label</th>\n",
       "      <th>cos_similarity</th>\n",
       "    </tr>\n",
       "  </thead>\n",
       "  <tbody>\n",
       "    <tr>\n",
       "      <th>0</th>\n",
       "      <td>9798760350</td>\n",
       "      <td>Debit Purchase Wal-mart Super Cbrookings Sd 05...</td>\n",
       "      <td>Debit Purchase Wal-mart Super Cbrookings Sd 05...</td>\n",
       "      <td>Debit Purchase Wal-mart Super Cbrookings Sd 05...</td>\n",
       "      <td>Walmart</td>\n",
       "      <td>Exotic S Shop</td>\n",
       "      <td>0</td>\n",
       "      <td>0.328529</td>\n",
       "      <td>0.000262</td>\n",
       "    </tr>\n",
       "    <tr>\n",
       "      <th>1</th>\n",
       "      <td>9806775557</td>\n",
       "      <td>MONEY TRANSFER AUTHORIZED ON 05/13 CASH APP*JE...</td>\n",
       "      <td>MONEY TRANSFER AUTHORIZED ON 05/13 CASH APP*JE...</td>\n",
       "      <td>MONEY TRANSFER AUTHORIZED ON 05/13 CASH APP*JE...</td>\n",
       "      <td>Cash App</td>\n",
       "      <td>Acorns</td>\n",
       "      <td>0</td>\n",
       "      <td>0.265679</td>\n",
       "      <td>-0.010028</td>\n",
       "    </tr>\n",
       "    <tr>\n",
       "      <th>2</th>\n",
       "      <td>9798728894</td>\n",
       "      <td>MONEY TRANSFER AUTHORIZED ON 05/13 FROM Earnin...</td>\n",
       "      <td>MONEY TRANSFER AUTHORIZED ON 05/13 FROM Earnin...</td>\n",
       "      <td>MONEY TRANSFER AUTHORIZED ON 05/13 FROM Earnin...</td>\n",
       "      <td>Earnin</td>\n",
       "      <td>PayPal</td>\n",
       "      <td>0</td>\n",
       "      <td>0.207873</td>\n",
       "      <td>-0.003231</td>\n",
       "    </tr>\n",
       "    <tr>\n",
       "      <th>3</th>\n",
       "      <td>9799291124</td>\n",
       "      <td>MONEY TRANSFER AUTHORIZED ON 05/13 CASH APP*JE...</td>\n",
       "      <td>MONEY TRANSFER AUTHORIZED ON 05/13 CASH APP*JE...</td>\n",
       "      <td>MONEY TRANSFER AUTHORIZED ON 05/13 CASH APP*JE...</td>\n",
       "      <td>Cash App</td>\n",
       "      <td>Wells Fargo</td>\n",
       "      <td>0</td>\n",
       "      <td>0.008904</td>\n",
       "      <td>0.001403</td>\n",
       "    </tr>\n",
       "    <tr>\n",
       "      <th>4</th>\n",
       "      <td>9799976650</td>\n",
       "      <td>Instant Pmt from Earnin RDBFA_B on 05/14 Ref# ...</td>\n",
       "      <td>Instant Pmt from Earnin RDBFA_B on 05/14 Ref# ...</td>\n",
       "      <td>Instant Pmt from Earnin RDBFA_B on 05/14 Ref# ...</td>\n",
       "      <td>Earnin</td>\n",
       "      <td>Venmo</td>\n",
       "      <td>0</td>\n",
       "      <td>0.054398</td>\n",
       "      <td>-0.010100</td>\n",
       "    </tr>\n",
       "    <tr>\n",
       "      <th>...</th>\n",
       "      <td>...</td>\n",
       "      <td>...</td>\n",
       "      <td>...</td>\n",
       "      <td>...</td>\n",
       "      <td>...</td>\n",
       "      <td>...</td>\n",
       "      <td>...</td>\n",
       "      <td>...</td>\n",
       "      <td>...</td>\n",
       "    </tr>\n",
       "    <tr>\n",
       "      <th>9495</th>\n",
       "      <td>9799636891</td>\n",
       "      <td>PURCHASE RETURN AUTHORIZED ON 05/13 AMZN Mktp ...</td>\n",
       "      <td>PURCHASE RETURN AUTHORIZED ON 05/13 AMZN Mktp ...</td>\n",
       "      <td>PURCHASE RETURN AUTHORIZED ON 05/13 AMZN Mktp ...</td>\n",
       "      <td>Amazon</td>\n",
       "      <td>TGI Friday''s</td>\n",
       "      <td>0</td>\n",
       "      <td>0.102636</td>\n",
       "      <td>0.001885</td>\n",
       "    </tr>\n",
       "    <tr>\n",
       "      <th>9496</th>\n",
       "      <td>9799365097</td>\n",
       "      <td>AMZN Mktp US GE69A,2YL3 Amzn com WA,05-13-24,C...</td>\n",
       "      <td>AMZN Mktp US GE69A,2YL3 Amzn com WA,05-13-24,C...</td>\n",
       "      <td>AMZN Mktp US GE69A,2YL3 Amzn com WA,05-13-24,C...</td>\n",
       "      <td>Amazon</td>\n",
       "      <td>Amazon</td>\n",
       "      <td>1</td>\n",
       "      <td>0.840733</td>\n",
       "      <td>0.995985</td>\n",
       "    </tr>\n",
       "    <tr>\n",
       "      <th>9497</th>\n",
       "      <td>9814848095</td>\n",
       "      <td>ONLINE TRANSFER FROM NAME N WELLS FARGO CLEAR ...</td>\n",
       "      <td>ONLINE TRANSFER FROM NAME N WELLS FARGO CLEAR ...</td>\n",
       "      <td>ONLINE TRANSFER FROM NAME N WELLS FARGO CLEAR ...</td>\n",
       "      <td>Wells Fargo</td>\n",
       "      <td>Wells Fargo</td>\n",
       "      <td>1</td>\n",
       "      <td>0.888943</td>\n",
       "      <td>0.988127</td>\n",
       "    </tr>\n",
       "    <tr>\n",
       "      <th>9498</th>\n",
       "      <td>9799827250</td>\n",
       "      <td>MCDONALD''S F ROCKY RIVER OH 05/13. Channel: i...</td>\n",
       "      <td>MCDONALD''S F ROCKY RIVER OH 05/13. Type: merc...</td>\n",
       "      <td>MCDONALD''S F ROCKY RIVER OH 05/13</td>\n",
       "      <td>McDonald''s</td>\n",
       "      <td>Coca-Cola</td>\n",
       "      <td>0</td>\n",
       "      <td>0.085374</td>\n",
       "      <td>-0.001350</td>\n",
       "    </tr>\n",
       "    <tr>\n",
       "      <th>9499</th>\n",
       "      <td>9809070494</td>\n",
       "      <td>ONLINE TRANSFER FROM BELMAN A WELLS FARGO CLEA...</td>\n",
       "      <td>ONLINE TRANSFER FROM BELMAN A WELLS FARGO CLEA...</td>\n",
       "      <td>ONLINE TRANSFER FROM BELMAN A WELLS FARGO CLEA...</td>\n",
       "      <td>Wells Fargo</td>\n",
       "      <td>Albertsons</td>\n",
       "      <td>0</td>\n",
       "      <td>0.344464</td>\n",
       "      <td>-0.001449</td>\n",
       "    </tr>\n",
       "  </tbody>\n",
       "</table>\n",
       "<p>9500 rows × 9 columns</p>\n",
       "</div>"
      ],
      "text/plain": [
       "      transaction_id                                           sentence  \\\n",
       "0         9798760350  Debit Purchase Wal-mart Super Cbrookings Sd 05...   \n",
       "1         9806775557  MONEY TRANSFER AUTHORIZED ON 05/13 CASH APP*JE...   \n",
       "2         9798728894  MONEY TRANSFER AUTHORIZED ON 05/13 FROM Earnin...   \n",
       "3         9799291124  MONEY TRANSFER AUTHORIZED ON 05/13 CASH APP*JE...   \n",
       "4         9799976650  Instant Pmt from Earnin RDBFA_B on 05/14 Ref# ...   \n",
       "...              ...                                                ...   \n",
       "9495      9799636891  PURCHASE RETURN AUTHORIZED ON 05/13 AMZN Mktp ...   \n",
       "9496      9799365097  AMZN Mktp US GE69A,2YL3 Amzn com WA,05-13-24,C...   \n",
       "9497      9814848095  ONLINE TRANSFER FROM NAME N WELLS FARGO CLEAR ...   \n",
       "9498      9799827250  MCDONALD''S F ROCKY RIVER OH 05/13. Channel: i...   \n",
       "9499      9809070494  ONLINE TRANSFER FROM BELMAN A WELLS FARGO CLEA...   \n",
       "\n",
       "                                              sentence2  \\\n",
       "0     Debit Purchase Wal-mart Super Cbrookings Sd 05...   \n",
       "1     MONEY TRANSFER AUTHORIZED ON 05/13 CASH APP*JE...   \n",
       "2     MONEY TRANSFER AUTHORIZED ON 05/13 FROM Earnin...   \n",
       "3     MONEY TRANSFER AUTHORIZED ON 05/13 CASH APP*JE...   \n",
       "4     Instant Pmt from Earnin RDBFA_B on 05/14 Ref# ...   \n",
       "...                                                 ...   \n",
       "9495  PURCHASE RETURN AUTHORIZED ON 05/13 AMZN Mktp ...   \n",
       "9496  AMZN Mktp US GE69A,2YL3 Amzn com WA,05-13-24,C...   \n",
       "9497  ONLINE TRANSFER FROM NAME N WELLS FARGO CLEAR ...   \n",
       "9498  MCDONALD''S F ROCKY RIVER OH 05/13. Type: merc...   \n",
       "9499  ONLINE TRANSFER FROM BELMAN A WELLS FARGO CLEA...   \n",
       "\n",
       "                         description_combined_processed  \\\n",
       "0     Debit Purchase Wal-mart Super Cbrookings Sd 05...   \n",
       "1     MONEY TRANSFER AUTHORIZED ON 05/13 CASH APP*JE...   \n",
       "2     MONEY TRANSFER AUTHORIZED ON 05/13 FROM Earnin...   \n",
       "3     MONEY TRANSFER AUTHORIZED ON 05/13 CASH APP*JE...   \n",
       "4     Instant Pmt from Earnin RDBFA_B on 05/14 Ref# ...   \n",
       "...                                                 ...   \n",
       "9495  PURCHASE RETURN AUTHORIZED ON 05/13 AMZN Mktp ...   \n",
       "9496  AMZN Mktp US GE69A,2YL3 Amzn com WA,05-13-24,C...   \n",
       "9497  ONLINE TRANSFER FROM NAME N WELLS FARGO CLEAR ...   \n",
       "9498                 MCDONALD''S F ROCKY RIVER OH 05/13   \n",
       "9499  ONLINE TRANSFER FROM BELMAN A WELLS FARGO CLEA...   \n",
       "\n",
       "     true_merchant_name_combined merchant_name_combined  true_label     label  \\\n",
       "0                        Walmart          Exotic S Shop           0  0.328529   \n",
       "1                       Cash App                 Acorns           0  0.265679   \n",
       "2                         Earnin                 PayPal           0  0.207873   \n",
       "3                       Cash App            Wells Fargo           0  0.008904   \n",
       "4                         Earnin                  Venmo           0  0.054398   \n",
       "...                          ...                    ...         ...       ...   \n",
       "9495                      Amazon          TGI Friday''s           0  0.102636   \n",
       "9496                      Amazon                 Amazon           1  0.840733   \n",
       "9497                 Wells Fargo            Wells Fargo           1  0.888943   \n",
       "9498                 McDonald''s              Coca-Cola           0  0.085374   \n",
       "9499                 Wells Fargo             Albertsons           0  0.344464   \n",
       "\n",
       "      cos_similarity  \n",
       "0           0.000262  \n",
       "1          -0.010028  \n",
       "2          -0.003231  \n",
       "3           0.001403  \n",
       "4          -0.010100  \n",
       "...              ...  \n",
       "9495        0.001885  \n",
       "9496        0.995985  \n",
       "9497        0.988127  \n",
       "9498       -0.001350  \n",
       "9499       -0.001449  \n",
       "\n",
       "[9500 rows x 9 columns]"
      ]
     },
     "execution_count": 34,
     "metadata": {},
     "output_type": "execute_result"
    }
   ],
   "source": [
    "df_val"
   ]
  },
  {
   "cell_type": "code",
   "execution_count": null,
   "metadata": {},
   "outputs": [
    {
     "ename": "KeyboardInterrupt",
     "evalue": "",
     "output_type": "error",
     "traceback": [
      "\u001b[0;31m---------------------------------------------------------------------------\u001b[0m",
      "\u001b[0;31mKeyboardInterrupt\u001b[0m                         Traceback (most recent call last)",
      "\u001b[1;32m/home/sagemaker-user/exploration/MERCHANTS/Biencoder_v1_sbert.ipynb Cell 36\u001b[0m line \u001b[0;36m1\n\u001b[0;32m----> <a href='vscode-notebook-cell://yd6plnil3hw8unc.studio.us-east-1.sagemaker.aws/home/sagemaker-user/exploration/MERCHANTS/Biencoder_v1_sbert.ipynb#Y100sdnNjb2RlLXJlbW90ZQ%3D%3D?line=0'>1</a>\u001b[0m \u001b[39mwhile\u001b[39;00m \u001b[39mTrue\u001b[39;00m:\n\u001b[1;32m      <a href='vscode-notebook-cell://yd6plnil3hw8unc.studio.us-east-1.sagemaker.aws/home/sagemaker-user/exploration/MERCHANTS/Biencoder_v1_sbert.ipynb#Y100sdnNjb2RlLXJlbW90ZQ%3D%3D?line=1'>2</a>\u001b[0m     \u001b[39mpass\u001b[39;00m\n",
      "\u001b[0;31mKeyboardInterrupt\u001b[0m: "
     ]
    }
   ],
   "source": [
    "while True:\n",
    "    pass"
   ]
  },
  {
   "cell_type": "code",
   "execution_count": null,
   "metadata": {},
   "outputs": [],
   "source": [
    "validate_data[['label', 'true_label','cos_similarity']]"
   ]
  },
  {
   "cell_type": "code",
   "execution_count": null,
   "metadata": {},
   "outputs": [],
   "source": []
  },
  {
   "cell_type": "code",
   "execution_count": null,
   "metadata": {},
   "outputs": [],
   "source": [
    "# reducer = umap.UMAP(n_epochs=400,  n_neighbors=150, min_dist=0.1)\n",
    "# reducer.fit(merchants_embeddings\n",
    "# )\n",
    "# embedding_2d = reducer.transform(merchants_embeddings)\n",
    "# fig = px.scatter(embedding_2d, x=0, y=1,opacity=0.05, height=500, hover_name=names)\n",
    "# fig.show()"
   ]
  }
 ],
 "metadata": {
  "kernelspec": {
   "display_name": "base",
   "language": "python",
   "name": "python3"
  },
  "language_info": {
   "codemirror_mode": {
    "name": "ipython",
    "version": 3
   },
   "file_extension": ".py",
   "mimetype": "text/x-python",
   "name": "python",
   "nbconvert_exporter": "python",
   "pygments_lexer": "ipython3",
   "version": "3.10.14"
  }
 },
 "nbformat": 4,
 "nbformat_minor": 2
}
