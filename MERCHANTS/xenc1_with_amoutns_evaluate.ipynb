{
 "cells": [
  {
   "cell_type": "markdown",
   "metadata": {},
   "source": [
    "# Deduplication 2nd step  pointwise (with amounts)\n",
    "\n",
    "sentence 1 = Take TX + merchant1, \n",
    "\n",
    "sentence 2 = Take TX + merchant2\n",
    "\n",
    "label =1 , if merchant 1 = m2\n",
    "\n",
    "\n",
    "\n",
    "The candidate duplicates for merchant 1 should be retrieved from a first candidate selection step"
   ]
  },
  {
   "cell_type": "markdown",
   "metadata": {},
   "source": []
  },
  {
   "cell_type": "markdown",
   "metadata": {},
   "source": [
    "- Train a classification model  TX <m1> merchant1 <m2> merchant2 = 1,0\n",
    "\n",
    "- Train a classification model  TX <m1> merchant1, amount m1 <m2> merchant2, amount 2 (to deduplicate existing merchant table) \n",
    "\n",
    "- train a binary classification model\n",
    "\n",
    "\n",
    "- look into architechture modification and add numerical values as concatenation"
   ]
  },
  {
   "cell_type": "markdown",
   "metadata": {},
   "source": [
    "https://sbert.net/docs/sentence_transformer/training_overview.html#dataset-format"
   ]
  },
  {
   "cell_type": "markdown",
   "metadata": {},
   "source": [
    "/home/sagemaker-user/exploration/MERCHANTS/predictions_checkpiont_match_merchant_withdups_merchants.ipynb"
   ]
  },
  {
   "cell_type": "markdown",
   "metadata": {},
   "source": [
    "# DATA loading"
   ]
  },
  {
   "cell_type": "code",
   "execution_count": 1,
   "metadata": {},
   "outputs": [
    {
     "name": "stdout",
     "output_type": "stream",
     "text": [
      "Requirement already satisfied: transformers in /opt/conda/lib/python3.10/site-packages (4.31.0)\n",
      "Requirement already satisfied: filelock in /opt/conda/lib/python3.10/site-packages (from transformers) (3.14.0)\n",
      "Requirement already satisfied: huggingface-hub<1.0,>=0.14.1 in /opt/conda/lib/python3.10/site-packages (from transformers) (0.23.0)\n",
      "Requirement already satisfied: numpy>=1.17 in /opt/conda/lib/python3.10/site-packages (from transformers) (1.26.4)\n",
      "Requirement already satisfied: packaging>=20.0 in /opt/conda/lib/python3.10/site-packages (from transformers) (23.2)\n",
      "Requirement already satisfied: pyyaml>=5.1 in /opt/conda/lib/python3.10/site-packages (from transformers) (6.0.1)\n",
      "Requirement already satisfied: regex!=2019.12.17 in /opt/conda/lib/python3.10/site-packages (from transformers) (2024.5.10)\n",
      "Requirement already satisfied: requests in /opt/conda/lib/python3.10/site-packages (from transformers) (2.31.0)\n",
      "Requirement already satisfied: tokenizers!=0.11.3,<0.14,>=0.11.1 in /opt/conda/lib/python3.10/site-packages (from transformers) (0.13.3)\n",
      "Requirement already satisfied: safetensors>=0.3.1 in /opt/conda/lib/python3.10/site-packages (from transformers) (0.4.3)\n",
      "Requirement already satisfied: tqdm>=4.27 in /opt/conda/lib/python3.10/site-packages (from transformers) (4.66.4)\n",
      "Requirement already satisfied: fsspec>=2023.5.0 in /opt/conda/lib/python3.10/site-packages (from huggingface-hub<1.0,>=0.14.1->transformers) (2023.6.0)\n",
      "Requirement already satisfied: typing-extensions>=3.7.4.3 in /opt/conda/lib/python3.10/site-packages (from huggingface-hub<1.0,>=0.14.1->transformers) (4.5.0)\n",
      "Requirement already satisfied: charset-normalizer<4,>=2 in /opt/conda/lib/python3.10/site-packages (from requests->transformers) (3.3.2)\n",
      "Requirement already satisfied: idna<4,>=2.5 in /opt/conda/lib/python3.10/site-packages (from requests->transformers) (3.7)\n",
      "Requirement already satisfied: urllib3<3,>=1.21.1 in /opt/conda/lib/python3.10/site-packages (from requests->transformers) (1.26.18)\n",
      "Requirement already satisfied: certifi>=2017.4.17 in /opt/conda/lib/python3.10/site-packages (from requests->transformers) (2024.2.2)\n",
      "Note: you may need to restart the kernel to use updated packages.\n"
     ]
    }
   ],
   "source": [
    "%pip install transformers"
   ]
  },
  {
   "cell_type": "code",
   "execution_count": 2,
   "metadata": {},
   "outputs": [
    {
     "name": "stdout",
     "output_type": "stream",
     "text": [
      "Requirement already satisfied: awswrangler in /opt/conda/lib/python3.10/site-packages (3.8.0)\n",
      "Requirement already satisfied: boto3<2.0.0,>=1.20.32 in /opt/conda/lib/python3.10/site-packages (from awswrangler) (1.34.51)\n",
      "Requirement already satisfied: botocore<2.0.0,>=1.23.32 in /opt/conda/lib/python3.10/site-packages (from awswrangler) (1.34.51)\n",
      "Requirement already satisfied: numpy<2.0,>=1.18 in /opt/conda/lib/python3.10/site-packages (from awswrangler) (1.26.4)\n",
      "Requirement already satisfied: packaging<25.0,>=21.1 in /opt/conda/lib/python3.10/site-packages (from awswrangler) (23.2)\n",
      "Requirement already satisfied: pandas<3.0.0,>=1.2.0 in /opt/conda/lib/python3.10/site-packages (from awswrangler) (2.1.4)\n",
      "Requirement already satisfied: pyarrow>=8.0.0 in /opt/conda/lib/python3.10/site-packages (from awswrangler) (12.0.1)\n",
      "Requirement already satisfied: typing-extensions<5.0.0,>=4.4.0 in /opt/conda/lib/python3.10/site-packages (from awswrangler) (4.5.0)\n",
      "Requirement already satisfied: jmespath<2.0.0,>=0.7.1 in /opt/conda/lib/python3.10/site-packages (from boto3<2.0.0,>=1.20.32->awswrangler) (1.0.1)\n",
      "Requirement already satisfied: s3transfer<0.11.0,>=0.10.0 in /opt/conda/lib/python3.10/site-packages (from boto3<2.0.0,>=1.20.32->awswrangler) (0.10.1)\n",
      "Requirement already satisfied: python-dateutil<3.0.0,>=2.1 in /opt/conda/lib/python3.10/site-packages (from botocore<2.0.0,>=1.23.32->awswrangler) (2.9.0)\n",
      "Requirement already satisfied: urllib3<2.1,>=1.25.4 in /opt/conda/lib/python3.10/site-packages (from botocore<2.0.0,>=1.23.32->awswrangler) (1.26.18)\n",
      "Requirement already satisfied: pytz>=2020.1 in /opt/conda/lib/python3.10/site-packages (from pandas<3.0.0,>=1.2.0->awswrangler) (2023.3)\n",
      "Requirement already satisfied: tzdata>=2022.1 in /opt/conda/lib/python3.10/site-packages (from pandas<3.0.0,>=1.2.0->awswrangler) (2024.1)\n",
      "Requirement already satisfied: six>=1.5 in /opt/conda/lib/python3.10/site-packages (from python-dateutil<3.0.0,>=2.1->botocore<2.0.0,>=1.23.32->awswrangler) (1.16.0)\n",
      "Note: you may need to restart the kernel to use updated packages.\n"
     ]
    }
   ],
   "source": [
    "%pip install awswrangler"
   ]
  },
  {
   "cell_type": "code",
   "execution_count": 3,
   "metadata": {},
   "outputs": [],
   "source": [
    "import awswrangler as wr"
   ]
  },
  {
   "cell_type": "code",
   "execution_count": 4,
   "metadata": {},
   "outputs": [],
   "source": [
    "import pandas as pd"
   ]
  },
  {
   "cell_type": "code",
   "execution_count": 5,
   "metadata": {},
   "outputs": [
    {
     "name": "stdout",
     "output_type": "stream",
     "text": [
      "s3://cleo-data-science/transaction_enrichment/experimental_data/caste/embedding_predictions/model9/checkpoint-7800/duplicate_merchant_matching_candidates_N_10_cons_2024-05-15_2024-05-18_1.csv\n"
     ]
    }
   ],
   "source": [
    "N=10\n",
    "s3_path_matches_found_N =  f\"s3://cleo-data-science/transaction_enrichment/experimental_data/caste/embedding_predictions/model9/checkpoint-7800/duplicate_merchant_matching_candidates_N_{N}_cons_2024-05-15_2024-05-18_1.csv\"\n",
    "print(s3_path_matches_found_N)\n",
    "df_duplicates_and_candidates = wr.s3.read_csv(s3_path_matches_found_N)"
   ]
  },
  {
   "cell_type": "code",
   "execution_count": 6,
   "metadata": {},
   "outputs": [],
   "source": [
    "# s3_path_training_data = \"s3://cleo-data-science/transaction_enrichment/experimental_data/caste/cross_encoder/xenc1/train_cons_2024-05-15_2024-05-18_1.parquet\"\n",
    "# df_train = wr.s3.read_parquet(s3_path_training_data)\n",
    "# print(df_train.shape[0])\n",
    "# #-------------\n",
    "# s3_path_test_data = \"s3://cleo-data-science/transaction_enrichment/experimental_data/caste/cross_encoder/xenc1/test_cons_2024-05-15_2024-05-18_1.parquet\"\n",
    "# df_test = wr.s3.read_parquet(s3_path_test_data)\n",
    "# print(df_test.shape[0])\n",
    "\n",
    "\n",
    "from datasets import Dataset, load_dataset, load_from_disk\n",
    "# ds_train = Dataset.from_pandas(df_train[[label_col,text_col]])\n",
    "# ds_test = Dataset.from_pandas(df_test[[label_col,text_col]])\n",
    "ds_train = load_from_disk('/home/sagemaker-user/data/xencdups/train_dataset')\n",
    "ds_test = load_from_disk('/home/sagemaker-user/data/xencdups/test_dataset')"
   ]
  },
  {
   "cell_type": "code",
   "execution_count": 7,
   "metadata": {},
   "outputs": [
    {
     "data": {
      "text/plain": [
       "(11199380, 11)"
      ]
     },
     "execution_count": 7,
     "metadata": {},
     "output_type": "execute_result"
    }
   ],
   "source": [
    "s3_path = \"s3://cleo-data-science/transaction_enrichment/experimental_data/caste/trx-merchant-pair/cons_2024-05-15_2024-05-18_1.parquet/\"\n",
    "\n",
    "\n",
    "df_data_raw = wr.s3.read_parquet(path=s3_path)\n",
    "df_data_raw.shape"
   ]
  },
  {
   "cell_type": "code",
   "execution_count": 8,
   "metadata": {},
   "outputs": [
    {
     "data": {
      "text/html": [
       "<div>\n",
       "<style scoped>\n",
       "    .dataframe tbody tr th:only-of-type {\n",
       "        vertical-align: middle;\n",
       "    }\n",
       "\n",
       "    .dataframe tbody tr th {\n",
       "        vertical-align: top;\n",
       "    }\n",
       "\n",
       "    .dataframe thead th {\n",
       "        text-align: right;\n",
       "    }\n",
       "</style>\n",
       "<table border=\"1\" class=\"dataframe\">\n",
       "  <thead>\n",
       "    <tr style=\"text-align: right;\">\n",
       "      <th></th>\n",
       "      <th>anchor_name_merchant</th>\n",
       "      <th>matched_merchant_names</th>\n",
       "    </tr>\n",
       "  </thead>\n",
       "  <tbody>\n",
       "    <tr>\n",
       "      <th>0</th>\n",
       "      <td>76 Gas Stations</td>\n",
       "      <td>['76 Bockman 76 San Lorenzo', '76 Airway Deli'...</td>\n",
       "    </tr>\n",
       "    <tr>\n",
       "      <th>1</th>\n",
       "      <td>Bank of America</td>\n",
       "      <td>['America Financial', 'The Bancorp Bank', 'Ban...</td>\n",
       "    </tr>\n",
       "    <tr>\n",
       "      <th>2</th>\n",
       "      <td>California DMV</td>\n",
       "      <td>['Ca Dmv 543', 'Ca Dmv 576', 'California DMV',...</td>\n",
       "    </tr>\n",
       "    <tr>\n",
       "      <th>3</th>\n",
       "      <td>Citizens Bank</td>\n",
       "      <td>['Citizens Electric', 'Citizens One', 'Spdpy C...</td>\n",
       "    </tr>\n",
       "    <tr>\n",
       "      <th>4</th>\n",
       "      <td>WESCO International</td>\n",
       "      <td>['Wesco 7', 'Wesco Gas', 'Wesco 45', 'Wesco 2'...</td>\n",
       "    </tr>\n",
       "    <tr>\n",
       "      <th>...</th>\n",
       "      <td>...</td>\n",
       "      <td>...</td>\n",
       "    </tr>\n",
       "    <tr>\n",
       "      <th>7326</th>\n",
       "      <td>Fry''s Food and Drug</td>\n",
       "      <td>['Frys Del Via Instacart', \"Fryer's Chicken\", ...</td>\n",
       "    </tr>\n",
       "    <tr>\n",
       "      <th>7327</th>\n",
       "      <td>Frwy Usag</td>\n",
       "      <td>['Rev', 'Fnr Mo', 'Revc', 'Revvi', 'Froth', 'F...</td>\n",
       "    </tr>\n",
       "    <tr>\n",
       "      <th>7328</th>\n",
       "      <td>Frwy Baja</td>\n",
       "      <td>['Froz Shaved Ice', 'Freggy Hernandez', 'Frwy ...</td>\n",
       "    </tr>\n",
       "    <tr>\n",
       "      <th>7329</th>\n",
       "      <td>Frutas Y Antojitos Ros</td>\n",
       "      <td>['Fridas Mexican Gr', 'La Antojeria Jalisco', ...</td>\n",
       "    </tr>\n",
       "    <tr>\n",
       "      <th>7330</th>\n",
       "      <td>zZounds</td>\n",
       "      <td>['Zzaam', 'Zox', 'Zizzo Nicholas', 'Zsob Co Lo...</td>\n",
       "    </tr>\n",
       "  </tbody>\n",
       "</table>\n",
       "<p>7331 rows × 2 columns</p>\n",
       "</div>"
      ],
      "text/plain": [
       "        anchor_name_merchant  \\\n",
       "0            76 Gas Stations   \n",
       "1            Bank of America   \n",
       "2             California DMV   \n",
       "3              Citizens Bank   \n",
       "4        WESCO International   \n",
       "...                      ...   \n",
       "7326    Fry''s Food and Drug   \n",
       "7327               Frwy Usag   \n",
       "7328               Frwy Baja   \n",
       "7329  Frutas Y Antojitos Ros   \n",
       "7330                 zZounds   \n",
       "\n",
       "                                 matched_merchant_names  \n",
       "0     ['76 Bockman 76 San Lorenzo', '76 Airway Deli'...  \n",
       "1     ['America Financial', 'The Bancorp Bank', 'Ban...  \n",
       "2     ['Ca Dmv 543', 'Ca Dmv 576', 'California DMV',...  \n",
       "3     ['Citizens Electric', 'Citizens One', 'Spdpy C...  \n",
       "4     ['Wesco 7', 'Wesco Gas', 'Wesco 45', 'Wesco 2'...  \n",
       "...                                                 ...  \n",
       "7326  ['Frys Del Via Instacart', \"Fryer's Chicken\", ...  \n",
       "7327  ['Rev', 'Fnr Mo', 'Revc', 'Revvi', 'Froth', 'F...  \n",
       "7328  ['Froz Shaved Ice', 'Freggy Hernandez', 'Frwy ...  \n",
       "7329  ['Fridas Mexican Gr', 'La Antojeria Jalisco', ...  \n",
       "7330  ['Zzaam', 'Zox', 'Zizzo Nicholas', 'Zsob Co Lo...  \n",
       "\n",
       "[7331 rows x 2 columns]"
      ]
     },
     "execution_count": 8,
     "metadata": {},
     "output_type": "execute_result"
    }
   ],
   "source": [
    "df_duplicates_and_candidates[['anchor_name_merchant','matched_merchant_names']]"
   ]
  },
  {
   "cell_type": "code",
   "execution_count": 9,
   "metadata": {},
   "outputs": [
    {
     "ename": "NameError",
     "evalue": "name 'XXX' is not defined",
     "output_type": "error",
     "traceback": [
      "\u001b[0;31m---------------------------------------------------------------------------\u001b[0m",
      "\u001b[0;31mNameError\u001b[0m                                 Traceback (most recent call last)",
      "\u001b[1;32m/home/sagemaker-user/exploration/MERCHANTS/xenc1_with_amoutns_evaluate.ipynb Cell 15\u001b[0m line \u001b[0;36m1\n\u001b[0;32m----> <a href='vscode-notebook-cell://ugu5gr0a4s03q5o.studio.us-east-1.sagemaker.aws/home/sagemaker-user/exploration/MERCHANTS/xenc1_with_amoutns_evaluate.ipynb#X20sdnNjb2RlLXJlbW90ZQ%3D%3D?line=0'>1</a>\u001b[0m df_left \u001b[39m=\u001b[39m df_data_raw[df_data_raw[\u001b[39m'\u001b[39m\u001b[39moriginal_merchant_name_combined\u001b[39m\u001b[39m'\u001b[39m] \u001b[39m==\u001b[39m XXX][[\u001b[39m'\u001b[39m\u001b[39mdescription_combined_processed\u001b[39m\u001b[39m'\u001b[39m,\u001b[39m'\u001b[39m\u001b[39mtrue_merchant_name_combined\u001b[39m\u001b[39m'\u001b[39m,\u001b[39m'\u001b[39m\u001b[39mamount\u001b[39m\u001b[39m'\u001b[39m,\u001b[39m'\u001b[39m\u001b[39mis_duplicate\u001b[39m\u001b[39m'\u001b[39m]]\n\u001b[1;32m      <a href='vscode-notebook-cell://ugu5gr0a4s03q5o.studio.us-east-1.sagemaker.aws/home/sagemaker-user/exploration/MERCHANTS/xenc1_with_amoutns_evaluate.ipynb#X20sdnNjb2RlLXJlbW90ZQ%3D%3D?line=1'>2</a>\u001b[0m df_left\n\u001b[1;32m      <a href='vscode-notebook-cell://ugu5gr0a4s03q5o.studio.us-east-1.sagemaker.aws/home/sagemaker-user/exploration/MERCHANTS/xenc1_with_amoutns_evaluate.ipynb#X20sdnNjb2RlLXJlbW90ZQ%3D%3D?line=3'>4</a>\u001b[0m list_cands \u001b[39m=\u001b[39m df_duplicates_and_candidates[df_duplicates_and_candidates[anchor_name_merchant]\u001b[39m==\u001b[39m XXX][matched_merchant_names]\n",
      "\u001b[0;31mNameError\u001b[0m: name 'XXX' is not defined"
     ]
    }
   ],
   "source": [
    "df_left = df_data_raw[df_data_raw['original_merchant_name_combined'] == XXX][['description_combined_processed','true_merchant_name_combined','amount','is_duplicate']]\n",
    "df_left\n",
    "\n",
    "list_cands = df_duplicates_and_candidates[df_duplicates_and_candidates[anchor_name_merchant]== XXX][matched_merchant_names]\n",
    "\n",
    "df_right = df_data_raw[df_data_raw['original_merchant_name_combined'].isin( list_cands  )][['description_combined_processed','true_merchant_name_combined','amount','is_duplicate']]\n",
    "df_right"
   ]
  },
  {
   "cell_type": "code",
   "execution_count": null,
   "metadata": {},
   "outputs": [],
   "source": []
  },
  {
   "cell_type": "code",
   "execution_count": null,
   "metadata": {},
   "outputs": [],
   "source": [
    "df_duplicates_and_candidates "
   ]
  },
  {
   "cell_type": "code",
   "execution_count": null,
   "metadata": {},
   "outputs": [],
   "source": [
    "label_col = 'label'\n",
    "text_col = 'text'\n",
    "\n",
    "# ds_train.save_to_disk('/home/sagemaker-user/data/xencdups/train_dataset')\n",
    "# ds_test.save_to_disk('/home/sagemaker-user/data/xencdups/test_dataset')"
   ]
  },
  {
   "cell_type": "markdown",
   "metadata": {},
   "source": [
    "# Load duplicates_names "
   ]
  },
  {
   "cell_type": "code",
   "execution_count": null,
   "metadata": {},
   "outputs": [],
   "source": [
    "\n",
    "df_duplicates_candidates = wr.s3.read_csv(\"s3://cleo-data-science/transaction_enrichment/experimental_data/caste/embedding_predictions/model9/checkpoint-7800/duplicate_merchant_matching_candidates_N_10_cons_2024-05-15_2024-05-18_1.csv\", index_col=None)\n"
   ]
  },
  {
   "cell_type": "code",
   "execution_count": null,
   "metadata": {},
   "outputs": [
    {
     "data": {
      "text/html": [
       "<div>\n",
       "<style scoped>\n",
       "    .dataframe tbody tr th:only-of-type {\n",
       "        vertical-align: middle;\n",
       "    }\n",
       "\n",
       "    .dataframe tbody tr th {\n",
       "        vertical-align: top;\n",
       "    }\n",
       "\n",
       "    .dataframe thead th {\n",
       "        text-align: right;\n",
       "    }\n",
       "</style>\n",
       "<table border=\"1\" class=\"dataframe\">\n",
       "  <thead>\n",
       "    <tr style=\"text-align: right;\">\n",
       "      <th></th>\n",
       "      <th>Unnamed: 0</th>\n",
       "      <th>anchor_name_merchant</th>\n",
       "      <th>ix_merchant</th>\n",
       "      <th>similarity_value</th>\n",
       "      <th>matched_merchant_names</th>\n",
       "      <th>original_merchant_name_combined_list_cln</th>\n",
       "      <th>cnt_orignial_merchants_cln</th>\n",
       "    </tr>\n",
       "  </thead>\n",
       "  <tbody>\n",
       "    <tr>\n",
       "      <th>0</th>\n",
       "      <td>0</td>\n",
       "      <td>76 Gas Stations</td>\n",
       "      <td>[37201 15689 13498 39593 71458 25420 67836   3...</td>\n",
       "      <td>[0.78410904 0.79199011 0.7971377  0.79357513 0...</td>\n",
       "      <td>['76 Bockman 76 San Lorenzo', '76 Airway Deli'...</td>\n",
       "      <td>['76 Lake Streetmount Shastaca' '76 Nw Ntb So ...</td>\n",
       "      <td>80</td>\n",
       "    </tr>\n",
       "    <tr>\n",
       "      <th>1</th>\n",
       "      <td>1</td>\n",
       "      <td>Bank of America</td>\n",
       "      <td>[67673  3735 69375 42221 36419    51  1107 371...</td>\n",
       "      <td>[0.57010363 0.5872117  0.60728532 0.61543479 0...</td>\n",
       "      <td>['America Financial', 'The Bancorp Bank', 'Ban...</td>\n",
       "      <td>['Bank of America ATM' 'Four Points' 'Bank Of ...</td>\n",
       "      <td>18</td>\n",
       "    </tr>\n",
       "    <tr>\n",
       "      <th>2</th>\n",
       "      <td>2</td>\n",
       "      <td>California DMV</td>\n",
       "      <td>[61029 36944   712 36917 31195 49405 36946 120...</td>\n",
       "      <td>[0.8032489  0.80381156 1.         0.81822711 0...</td>\n",
       "      <td>['Ca Dmv 543', 'Ca Dmv 576', 'California DMV',...</td>\n",
       "      <td>['Ca Dmv 516' 'State Of Calif Dmv Int' 'Ca Dmv...</td>\n",
       "      <td>22</td>\n",
       "    </tr>\n",
       "    <tr>\n",
       "      <th>3</th>\n",
       "      <td>3</td>\n",
       "      <td>Citizens Bank</td>\n",
       "      <td>[73108 36782 36890 36780 16448  4202 16553 370...</td>\n",
       "      <td>[0.75805718 0.75906784 0.78742945 0.76047318 0...</td>\n",
       "      <td>['Citizens Electric', 'Citizens One', 'Spdpy C...</td>\n",
       "      <td>['Citizens Bank Payroll' 'First Citizens' 'Cit...</td>\n",
       "      <td>15</td>\n",
       "    </tr>\n",
       "    <tr>\n",
       "      <th>4</th>\n",
       "      <td>4</td>\n",
       "      <td>WESCO International</td>\n",
       "      <td>[15607 14238 17151 14735  1061 65947  3693 369...</td>\n",
       "      <td>[0.92480491 0.92965681 0.94549303 0.94852194 1...</td>\n",
       "      <td>['Wesco 7', 'Wesco Gas', 'Wesco 45', 'Wesco 2'...</td>\n",
       "      <td>['Wesco 7 Grand Haven' 'Wesco 2' 'Wesco 45' 'W...</td>\n",
       "      <td>17</td>\n",
       "    </tr>\n",
       "  </tbody>\n",
       "</table>\n",
       "</div>"
      ],
      "text/plain": [
       "   Unnamed: 0 anchor_name_merchant  \\\n",
       "0           0      76 Gas Stations   \n",
       "1           1      Bank of America   \n",
       "2           2       California DMV   \n",
       "3           3        Citizens Bank   \n",
       "4           4  WESCO International   \n",
       "\n",
       "                                         ix_merchant  \\\n",
       "0  [37201 15689 13498 39593 71458 25420 67836   3...   \n",
       "1  [67673  3735 69375 42221 36419    51  1107 371...   \n",
       "2  [61029 36944   712 36917 31195 49405 36946 120...   \n",
       "3  [73108 36782 36890 36780 16448  4202 16553 370...   \n",
       "4  [15607 14238 17151 14735  1061 65947  3693 369...   \n",
       "\n",
       "                                    similarity_value  \\\n",
       "0  [0.78410904 0.79199011 0.7971377  0.79357513 0...   \n",
       "1  [0.57010363 0.5872117  0.60728532 0.61543479 0...   \n",
       "2  [0.8032489  0.80381156 1.         0.81822711 0...   \n",
       "3  [0.75805718 0.75906784 0.78742945 0.76047318 0...   \n",
       "4  [0.92480491 0.92965681 0.94549303 0.94852194 1...   \n",
       "\n",
       "                              matched_merchant_names  \\\n",
       "0  ['76 Bockman 76 San Lorenzo', '76 Airway Deli'...   \n",
       "1  ['America Financial', 'The Bancorp Bank', 'Ban...   \n",
       "2  ['Ca Dmv 543', 'Ca Dmv 576', 'California DMV',...   \n",
       "3  ['Citizens Electric', 'Citizens One', 'Spdpy C...   \n",
       "4  ['Wesco 7', 'Wesco Gas', 'Wesco 45', 'Wesco 2'...   \n",
       "\n",
       "            original_merchant_name_combined_list_cln  \\\n",
       "0  ['76 Lake Streetmount Shastaca' '76 Nw Ntb So ...   \n",
       "1  ['Bank of America ATM' 'Four Points' 'Bank Of ...   \n",
       "2  ['Ca Dmv 516' 'State Of Calif Dmv Int' 'Ca Dmv...   \n",
       "3  ['Citizens Bank Payroll' 'First Citizens' 'Cit...   \n",
       "4  ['Wesco 7 Grand Haven' 'Wesco 2' 'Wesco 45' 'W...   \n",
       "\n",
       "   cnt_orignial_merchants_cln  \n",
       "0                          80  \n",
       "1                          18  \n",
       "2                          22  \n",
       "3                          15  \n",
       "4                          17  "
      ]
     },
     "execution_count": 8,
     "metadata": {},
     "output_type": "execute_result"
    }
   ],
   "source": [
    "df_duplicates_candidates.head()"
   ]
  },
  {
   "cell_type": "code",
   "execution_count": null,
   "metadata": {},
   "outputs": [],
   "source": [
    "try:\n",
    "    df_duplicates_candidates.drop('Unnamed: 0', axis=1, inplace=True)\n",
    "except:\n",
    "    pass"
   ]
  },
  {
   "cell_type": "code",
   "execution_count": null,
   "metadata": {},
   "outputs": [],
   "source": [
    "from sklearn.model_selection import train_test_split"
   ]
  },
  {
   "cell_type": "markdown",
   "metadata": {},
   "source": [
    "### Load raw data "
   ]
  },
  {
   "cell_type": "code",
   "execution_count": null,
   "metadata": {},
   "outputs": [],
   "source": [
    "# s3_path = \"s3://cleo-data-science/transaction_enrichment/experimental_data/caste/trx-merchant-pair/cons_2024-05-15_2024-05-18_1.parquet/\"\n",
    "\n",
    "\n",
    "# df_data_raw = wr.s3.read_parquet(path=s3_path)\n",
    "# df_data_raw.shape"
   ]
  },
  {
   "cell_type": "code",
   "execution_count": null,
   "metadata": {},
   "outputs": [],
   "source": [
    "exclude_list = ['DoorDash','Savings','Overdraft Charge','Withdrawal','PayPal','Point Of Sale Withdrawal', 'Adjustment','Cash Withdrawal','Chime','Doordash','Signature','Sezzle'\n",
    " 'Zelle',\n",
    " 'Chase Bank',\n",
    " 'Cash App',\n",
    " 'Wells Fargo',\n",
    " 'Capital One',\n",
    " 'Google Play Store',\n",
    " 'Square',\n",
    " 'DoorDash',\n",
    " 'Citibank',\n",
    " 'Toast',\n",
    " 'Instacart',\n",
    " 'Apple Cash',\n",
    " 'Credit',\n",
    " 'Earnin',\n",
    " 'Klover App','Klarna','Savings','Insufficient Funds / Failed Transaction Fee','Point Of Sale Deposit']"
   ]
  },
  {
   "cell_type": "code",
   "execution_count": null,
   "metadata": {},
   "outputs": [
    {
     "name": "stdout",
     "output_type": "stream",
     "text": [
      "RAM used: 334.25 MB\n"
     ]
    }
   ],
   "source": [
    "import psutil\n",
    "\n",
    "# Process.memory_info is expressed in bytes, so convert to megabytes\n",
    "print(f\"RAM used: {psutil.Process().memory_info().rss / (1024 * 1024):.2f} MB\")"
   ]
  },
  {
   "cell_type": "code",
   "execution_count": null,
   "metadata": {},
   "outputs": [],
   "source": []
  },
  {
   "cell_type": "code",
   "execution_count": null,
   "metadata": {},
   "outputs": [],
   "source": []
  },
  {
   "cell_type": "code",
   "execution_count": null,
   "metadata": {},
   "outputs": [
    {
     "data": {
      "text/plain": [
       "{'label': 1.0,\n",
       " 'text': 'Merchant: The Office Holdings Ll TX: OLLIES BARGAIN OUTLET-OLLIES BARGAIN OUTLET PLYMOUTH US AMT: -31.0 |SEP| Merchant: The Office Holdings TX: The Office Holdings, Ll AMT: -9.1'}"
      ]
     },
     "execution_count": 14,
     "metadata": {},
     "output_type": "execute_result"
    }
   ],
   "source": [
    "ds_train[0]"
   ]
  },
  {
   "cell_type": "code",
   "execution_count": null,
   "metadata": {},
   "outputs": [
    {
     "name": "stdout",
     "output_type": "stream",
     "text": [
      "RAM used: 334.25 MB\n"
     ]
    }
   ],
   "source": [
    "import psutil\n",
    "\n",
    "# Process.memory_info is expressed in bytes, so convert to megabytes\n",
    "print(f\"RAM used: {psutil.Process().memory_info().rss / (1024 * 1024):.2f} MB\")"
   ]
  },
  {
   "cell_type": "code",
   "execution_count": null,
   "metadata": {},
   "outputs": [
    {
     "data": {
      "text/plain": [
       "1182209"
      ]
     },
     "execution_count": 16,
     "metadata": {},
     "output_type": "execute_result"
    }
   ],
   "source": [
    "len(ds_train['text'])"
   ]
  },
  {
   "cell_type": "code",
   "execution_count": null,
   "metadata": {},
   "outputs": [],
   "source": [
    "#df_train.loc[915829]"
   ]
  },
  {
   "cell_type": "code",
   "execution_count": null,
   "metadata": {},
   "outputs": [
    {
     "data": {
      "text/plain": [
       "{'label': 1.0,\n",
       " 'text': 'Merchant: The Office Holdings Ll TX: OLLIES BARGAIN OUTLET-OLLIES BARGAIN OUTLET PLYMOUTH US AMT: -31.0 |SEP| Merchant: The Office Holdings TX: The Office Holdings, Ll AMT: -9.1'}"
      ]
     },
     "execution_count": 18,
     "metadata": {},
     "output_type": "execute_result"
    }
   ],
   "source": [
    "ds_train[0]"
   ]
  },
  {
   "cell_type": "code",
   "execution_count": null,
   "metadata": {},
   "outputs": [],
   "source": [
    "import numpy as np"
   ]
  },
  {
   "cell_type": "code",
   "execution_count": null,
   "metadata": {},
   "outputs": [
    {
     "data": {
      "text/plain": [
       "0.08602878171287819"
      ]
     },
     "execution_count": 20,
     "metadata": {},
     "output_type": "execute_result"
    }
   ],
   "source": [
    "np.array(ds_train[label_col]).sum()/len(ds_train)"
   ]
  },
  {
   "cell_type": "code",
   "execution_count": null,
   "metadata": {},
   "outputs": [
    {
     "data": {
      "text/plain": [
       "0.012687623668109979"
      ]
     },
     "execution_count": 21,
     "metadata": {},
     "output_type": "execute_result"
    }
   ],
   "source": [
    "np.array(ds_test[label_col]).sum()/len(ds_test)"
   ]
  },
  {
   "cell_type": "markdown",
   "metadata": {},
   "source": [
    "# Load data"
   ]
  },
  {
   "cell_type": "code",
   "execution_count": 5,
   "metadata": {},
   "outputs": [],
   "source": [
    "# s3_path_training_data = \"s3://cleo-data-science/transaction_enrichment/experimental_data/caste/cross_encoder/xenc1/train_cons_2024-05-15_2024-05-18_1.parquet\"\n",
    "# df_train = wr.s3.read_parquet(s3_path_training_data)\n",
    "# print(df_train.shape[0])\n",
    "# #-------------\n",
    "# s3_path_test_data = \"s3://cleo-data-science/transaction_enrichment/experimental_data/caste/cross_encoder/xenc1/test_cons_2024-05-15_2024-05-18_1.parquet\"\n",
    "# df_test = wr.s3.read_parquet(s3_path_test_data)\n",
    "# print(df_test.shape[0])\n",
    "\n",
    "\n",
    "from datasets import Dataset, load_dataset, load_from_disk\n",
    "\n",
    "#ds_train = load_from_disk('/home/sagemaker-user/data/xencdups2/train_dataset')\n",
    "ds_test = load_from_disk('/home/sagemaker-user/data/xencdups2/test_dataset')\n",
    "#ds_val = load_from_disk('/home/sagemaker-user/data/xencdups2/val_dataset')\n"
   ]
  },
  {
   "cell_type": "code",
   "execution_count": 6,
   "metadata": {},
   "outputs": [
    {
     "name": "stdout",
     "output_type": "stream",
     "text": [
      "590839\n"
     ]
    }
   ],
   "source": [
    "print(len(ds_test))"
   ]
  },
  {
   "cell_type": "code",
   "execution_count": 7,
   "metadata": {},
   "outputs": [],
   "source": [
    "ds_test_small = ds_test.select(range(1000))"
   ]
  },
  {
   "cell_type": "markdown",
   "metadata": {},
   "source": [
    "# Load model"
   ]
  },
  {
   "cell_type": "code",
   "execution_count": 8,
   "metadata": {},
   "outputs": [],
   "source": [
    "import torch\n",
    "torch.cuda.empty_cache()\n"
   ]
  },
  {
   "cell_type": "code",
   "execution_count": 9,
   "metadata": {},
   "outputs": [
    {
     "name": "stderr",
     "output_type": "stream",
     "text": [
      "/opt/conda/lib/python3.10/site-packages/huggingface_hub/file_download.py:1132: FutureWarning: `resume_download` is deprecated and will be removed in version 1.0.0. Downloads always resume when possible. If you want to force a new download, use `force_download=True`.\n",
      "  warnings.warn(\n"
     ]
    }
   ],
   "source": [
    "from transformers import AutoTokenizer\n",
    "\n",
    "model_name = \"google-bert/bert-base-cased\"\n",
    "model_name = \"distilbert/distilbert-base-uncased\"\n",
    "\n",
    "tokenizer = AutoTokenizer.from_pretrained(model_name)\n",
    "\n",
    "\n",
    "def tokenize_function(examples):\n",
    "    return tokenizer(examples['text'], padding=\"max_length\", truncation=True)\n",
    "\n",
    "\n"
   ]
  },
  {
   "cell_type": "code",
   "execution_count": 69,
   "metadata": {},
   "outputs": [
    {
     "data": {
      "application/vnd.jupyter.widget-view+json": {
       "model_id": "775f4bbbc8ae4958a70e9b0800154b3e",
       "version_major": 2,
       "version_minor": 0
      },
      "text/plain": [
       "Map:   0%|          | 0/590839 [00:00<?, ? examples/s]"
      ]
     },
     "metadata": {},
     "output_type": "display_data"
    }
   ],
   "source": [
    "tokenized_ds = ds_test.map(tokenize_function, batched=True)"
   ]
  },
  {
   "cell_type": "code",
   "execution_count": 70,
   "metadata": {},
   "outputs": [],
   "source": [
    "import psutil"
   ]
  },
  {
   "cell_type": "code",
   "execution_count": 71,
   "metadata": {},
   "outputs": [
    {
     "name": "stdout",
     "output_type": "stream",
     "text": [
      "RAM used: 1607.66 MB\n"
     ]
    }
   ],
   "source": [
    "print(f\"RAM used: {psutil.Process().memory_info().rss / (1024 * 1024):.2f} MB\")"
   ]
  },
  {
   "cell_type": "code",
   "execution_count": 72,
   "metadata": {},
   "outputs": [],
   "source": [
    "from transformers import AutoModelForSequenceClassification\n",
    "\n",
    "#model = AutoModelForSequenceClassification.from_pretrained(model_name, num_labels=1)\n",
    "model = AutoModelForSequenceClassification.from_pretrained(\"/home/sagemaker-user/models/xenc3/checkpoint-2500\", num_labels=1)"
   ]
  },
  {
   "cell_type": "code",
   "execution_count": 73,
   "metadata": {},
   "outputs": [
    {
     "name": "stdout",
     "output_type": "stream",
     "text": [
      "RAM used: 2020.09 MB\n"
     ]
    }
   ],
   "source": [
    "print(f\"RAM used: {psutil.Process().memory_info().rss / (1024 * 1024):.2f} MB\")"
   ]
  },
  {
   "cell_type": "code",
   "execution_count": 74,
   "metadata": {},
   "outputs": [],
   "source": [
    "import numpy as np\n",
    "import evaluate\n",
    "\n",
    "metric = evaluate.load(\"accuracy\")\n",
    "#metric = evaluate.load(\"precision\")"
   ]
  },
  {
   "cell_type": "code",
   "execution_count": 75,
   "metadata": {},
   "outputs": [],
   "source": [
    "def compute_metrics(eval_pred):\n",
    "    logits, labels = eval_pred\n",
    "    predictions = np.argmax(logits, axis=-1)\n",
    "    return metric.compute(predictions=predictions, references=labels)"
   ]
  },
  {
   "cell_type": "code",
   "execution_count": 76,
   "metadata": {},
   "outputs": [],
   "source": [
    "from transformers import TrainingArguments, Trainer\n",
    "\n",
    "training_args = TrainingArguments(output_dir=\"/home/sagemaker-user/models/xenc3\", evaluation_strategy=\"steps\", \\\n",
    "    num_train_epochs=1, per_device_train_batch_size=16, per_device_eval_batch_size=16, \\\n",
    "         eval_steps=500,\n",
    "    save_strategy=\"steps\",\n",
    "    save_steps=500,\n",
    "    save_total_limit=100,\n",
    "    logging_steps=500)"
   ]
  },
  {
   "cell_type": "code",
   "execution_count": 77,
   "metadata": {},
   "outputs": [],
   "source": [
    "trainer = Trainer(\n",
    "    model=model,\n",
    "    args=training_args,\n",
    "    #train_dataset=tokenized_ds_train,\n",
    "    eval_dataset=tokenized_ds\n",
    "    #compute_metrics=compute_metrics,\n",
    ")"
   ]
  },
  {
   "cell_type": "code",
   "execution_count": 78,
   "metadata": {},
   "outputs": [
    {
     "data": {
      "text/html": [],
      "text/plain": [
       "<IPython.core.display.HTML object>"
      ]
     },
     "metadata": {},
     "output_type": "display_data"
    }
   ],
   "source": [
    "predictions = trainer.predict(tokenized_ds)"
   ]
  },
  {
   "cell_type": "code",
   "execution_count": 79,
   "metadata": {},
   "outputs": [],
   "source": [
    "import pandas as pd"
   ]
  },
  {
   "cell_type": "code",
   "execution_count": 80,
   "metadata": {},
   "outputs": [
    {
     "data": {
      "text/plain": [
       "Dataset({\n",
       "    features: ['label', 'text', 'pair'],\n",
       "    num_rows: 1000\n",
       "})"
      ]
     },
     "execution_count": 80,
     "metadata": {},
     "output_type": "execute_result"
    }
   ],
   "source": [
    "ds_test_small"
   ]
  },
  {
   "cell_type": "code",
   "execution_count": 81,
   "metadata": {},
   "outputs": [
    {
     "data": {
      "text/plain": [
       "Dataset({\n",
       "    features: ['label', 'text', 'pair'],\n",
       "    num_rows: 590839\n",
       "})"
      ]
     },
     "execution_count": 81,
     "metadata": {},
     "output_type": "execute_result"
    }
   ],
   "source": [
    "ds_test"
   ]
  },
  {
   "cell_type": "code",
   "execution_count": 83,
   "metadata": {},
   "outputs": [
    {
     "data": {
      "text/html": [
       "<div>\n",
       "<style scoped>\n",
       "    .dataframe tbody tr th:only-of-type {\n",
       "        vertical-align: middle;\n",
       "    }\n",
       "\n",
       "    .dataframe tbody tr th {\n",
       "        vertical-align: top;\n",
       "    }\n",
       "\n",
       "    .dataframe thead th {\n",
       "        text-align: right;\n",
       "    }\n",
       "</style>\n",
       "<table border=\"1\" class=\"dataframe\">\n",
       "  <thead>\n",
       "    <tr style=\"text-align: right;\">\n",
       "      <th></th>\n",
       "      <th>predictions</th>\n",
       "      <th>label</th>\n",
       "      <th>pair</th>\n",
       "    </tr>\n",
       "  </thead>\n",
       "  <tbody>\n",
       "    <tr>\n",
       "      <th>0</th>\n",
       "      <td>0.985950</td>\n",
       "      <td>1.0</td>\n",
       "      <td>*Cava___Cava</td>\n",
       "    </tr>\n",
       "    <tr>\n",
       "      <th>1</th>\n",
       "      <td>0.982399</td>\n",
       "      <td>1.0</td>\n",
       "      <td>*Cava___Cava</td>\n",
       "    </tr>\n",
       "    <tr>\n",
       "      <th>2</th>\n",
       "      <td>0.981521</td>\n",
       "      <td>1.0</td>\n",
       "      <td>*Cava___Cava</td>\n",
       "    </tr>\n",
       "    <tr>\n",
       "      <th>3</th>\n",
       "      <td>0.979344</td>\n",
       "      <td>1.0</td>\n",
       "      <td>*Cava___Cava</td>\n",
       "    </tr>\n",
       "    <tr>\n",
       "      <th>4</th>\n",
       "      <td>0.984709</td>\n",
       "      <td>1.0</td>\n",
       "      <td>*Cava___Cava</td>\n",
       "    </tr>\n",
       "    <tr>\n",
       "      <th>...</th>\n",
       "      <td>...</td>\n",
       "      <td>...</td>\n",
       "      <td>...</td>\n",
       "    </tr>\n",
       "    <tr>\n",
       "      <th>590834</th>\n",
       "      <td>0.976649</td>\n",
       "      <td>1.0</td>\n",
       "      <td>dd''s Discounts___dd''s DISCOUNTS</td>\n",
       "    </tr>\n",
       "    <tr>\n",
       "      <th>590835</th>\n",
       "      <td>0.932992</td>\n",
       "      <td>1.0</td>\n",
       "      <td>dd''s Discounts___dd''s DISCOUNTS</td>\n",
       "    </tr>\n",
       "    <tr>\n",
       "      <th>590836</th>\n",
       "      <td>0.956048</td>\n",
       "      <td>1.0</td>\n",
       "      <td>dd''s Discounts___dd''s DISCOUNTS</td>\n",
       "    </tr>\n",
       "    <tr>\n",
       "      <th>590837</th>\n",
       "      <td>0.961719</td>\n",
       "      <td>1.0</td>\n",
       "      <td>dd''s Discounts___dd''s DISCOUNTS</td>\n",
       "    </tr>\n",
       "    <tr>\n",
       "      <th>590838</th>\n",
       "      <td>0.936068</td>\n",
       "      <td>1.0</td>\n",
       "      <td>dd''s Discounts___dd''s DISCOUNTS</td>\n",
       "    </tr>\n",
       "  </tbody>\n",
       "</table>\n",
       "<p>590839 rows × 3 columns</p>\n",
       "</div>"
      ],
      "text/plain": [
       "        predictions  label                               pair\n",
       "0          0.985950    1.0                       *Cava___Cava\n",
       "1          0.982399    1.0                       *Cava___Cava\n",
       "2          0.981521    1.0                       *Cava___Cava\n",
       "3          0.979344    1.0                       *Cava___Cava\n",
       "4          0.984709    1.0                       *Cava___Cava\n",
       "...             ...    ...                                ...\n",
       "590834     0.976649    1.0  dd''s Discounts___dd''s DISCOUNTS\n",
       "590835     0.932992    1.0  dd''s Discounts___dd''s DISCOUNTS\n",
       "590836     0.956048    1.0  dd''s Discounts___dd''s DISCOUNTS\n",
       "590837     0.961719    1.0  dd''s Discounts___dd''s DISCOUNTS\n",
       "590838     0.936068    1.0  dd''s Discounts___dd''s DISCOUNTS\n",
       "\n",
       "[590839 rows x 3 columns]"
      ]
     },
     "execution_count": 83,
     "metadata": {},
     "output_type": "execute_result"
    }
   ],
   "source": [
    "df_predictions = pd.DataFrame(predictions[0], columns=['predictions'])\n",
    "df_predictions['label'] = ds_test['label']\n",
    "df_predictions['pair'] = ds_test['pair']\n",
    "#df_predictions.set_index('transaction_id', inplace=True)\n",
    "df_predictions"
   ]
  },
  {
   "cell_type": "markdown",
   "metadata": {},
   "source": [
    "Precision and recall at transaction-pair level"
   ]
  },
  {
   "cell_type": "code",
   "execution_count": 84,
   "metadata": {},
   "outputs": [
    {
     "name": "stdout",
     "output_type": "stream",
     "text": [
      "0.7105248218898129\n",
      "Precision 0.7105248218898129 Recall 0.7657072066560626\n"
     ]
    }
   ],
   "source": [
    "th = 0.5\n",
    "pred_acc = (1*(df_predictions['predictions']>0.5) == df_predictions['label']).sum()/df_predictions.shape[0]\n",
    "true_positives = df_predictions[(df_predictions['label']==1) & (df_predictions['predictions']>=th)].shape[0]\n",
    "false_positives  = df_predictions[(df_predictions['label']==0) & (df_predictions['predictions']>=th)].shape[0]\n",
    "pred_precision = true_positives/(true_positives+false_positives)\n",
    "false_negatives = df_predictions[(df_predictions['label']==1) & (df_predictions['predictions']<th)].shape[0]\n",
    "print(pred_precision)\n",
    "pred_recall = true_positives/(true_positives + false_negatives)\n",
    "print(f\"Precision {pred_precision} Recall {pred_recall}\")\n"
   ]
  },
  {
   "cell_type": "code",
   "execution_count": 101,
   "metadata": {},
   "outputs": [
    {
     "data": {
      "text/html": [
       "<div>\n",
       "<style scoped>\n",
       "    .dataframe tbody tr th:only-of-type {\n",
       "        vertical-align: middle;\n",
       "    }\n",
       "\n",
       "    .dataframe tbody tr th {\n",
       "        vertical-align: top;\n",
       "    }\n",
       "\n",
       "    .dataframe thead th {\n",
       "        text-align: right;\n",
       "    }\n",
       "</style>\n",
       "<table border=\"1\" class=\"dataframe\">\n",
       "  <thead>\n",
       "    <tr style=\"text-align: right;\">\n",
       "      <th></th>\n",
       "      <th>avg_label</th>\n",
       "      <th>avg_pred_score</th>\n",
       "      <th>num_pairs</th>\n",
       "    </tr>\n",
       "    <tr>\n",
       "      <th>pair</th>\n",
       "      <th></th>\n",
       "      <th></th>\n",
       "      <th></th>\n",
       "    </tr>\n",
       "  </thead>\n",
       "  <tbody>\n",
       "    <tr>\n",
       "      <th>*Cava___Cava</th>\n",
       "      <td>1.0</td>\n",
       "      <td>0.980018</td>\n",
       "      <td>624</td>\n",
       "    </tr>\n",
       "    <tr>\n",
       "      <th>05___LLC</th>\n",
       "      <td>0.0</td>\n",
       "      <td>0.039818</td>\n",
       "      <td>18</td>\n",
       "    </tr>\n",
       "    <tr>\n",
       "      <th>1 Crh Catering___C R H Catering</th>\n",
       "      <td>1.0</td>\n",
       "      <td>0.883263</td>\n",
       "      <td>1000</td>\n",
       "    </tr>\n",
       "    <tr>\n",
       "      <th>1 Stop___One Stop</th>\n",
       "      <td>0.0</td>\n",
       "      <td>0.920969</td>\n",
       "      <td>54</td>\n",
       "    </tr>\n",
       "    <tr>\n",
       "      <th>105-save___Save Mart</th>\n",
       "      <td>0.0</td>\n",
       "      <td>0.053757</td>\n",
       "      <td>2</td>\n",
       "    </tr>\n",
       "    <tr>\n",
       "      <th>...</th>\n",
       "      <td>...</td>\n",
       "      <td>...</td>\n",
       "      <td>...</td>\n",
       "    </tr>\n",
       "    <tr>\n",
       "      <th>Zazz___Zaxby''s</th>\n",
       "      <td>0.0</td>\n",
       "      <td>-0.011050</td>\n",
       "      <td>1000</td>\n",
       "    </tr>\n",
       "    <tr>\n",
       "      <th>Zenni Optical___Tilia Second Life</th>\n",
       "      <td>0.0</td>\n",
       "      <td>-0.011575</td>\n",
       "      <td>44</td>\n",
       "    </tr>\n",
       "    <tr>\n",
       "      <th>Zone___Area</th>\n",
       "      <td>0.0</td>\n",
       "      <td>-0.009200</td>\n",
       "      <td>90</td>\n",
       "    </tr>\n",
       "    <tr>\n",
       "      <th>ampm___Seller Amp LTD</th>\n",
       "      <td>0.0</td>\n",
       "      <td>-0.002499</td>\n",
       "      <td>6</td>\n",
       "    </tr>\n",
       "    <tr>\n",
       "      <th>dd''s Discounts___dd''s DISCOUNTS</th>\n",
       "      <td>1.0</td>\n",
       "      <td>0.936394</td>\n",
       "      <td>396</td>\n",
       "    </tr>\n",
       "  </tbody>\n",
       "</table>\n",
       "<p>2988 rows × 3 columns</p>\n",
       "</div>"
      ],
      "text/plain": [
       "                                   avg_label  avg_pred_score  num_pairs\n",
       "pair                                                                   \n",
       "*Cava___Cava                             1.0        0.980018        624\n",
       "05___LLC                                 0.0        0.039818         18\n",
       "1 Crh Catering___C R H Catering          1.0        0.883263       1000\n",
       "1 Stop___One Stop                        0.0        0.920969         54\n",
       "105-save___Save Mart                     0.0        0.053757          2\n",
       "...                                      ...             ...        ...\n",
       "Zazz___Zaxby''s                          0.0       -0.011050       1000\n",
       "Zenni Optical___Tilia Second Life        0.0       -0.011575         44\n",
       "Zone___Area                              0.0       -0.009200         90\n",
       "ampm___Seller Amp LTD                    0.0       -0.002499          6\n",
       "dd''s Discounts___dd''s DISCOUNTS        1.0        0.936394        396\n",
       "\n",
       "[2988 rows x 3 columns]"
      ]
     },
     "execution_count": 101,
     "metadata": {},
     "output_type": "execute_result"
    }
   ],
   "source": [
    "df_predictions_by_pairs = df_predictions.groupby('pair').agg(avg_label=('label','mean'), avg_pred_score=('predictions','mean'), num_pairs = ('predictions','count'))\n",
    "df_predictions_by_pairs"
   ]
  },
  {
   "cell_type": "code",
   "execution_count": 102,
   "metadata": {},
   "outputs": [
    {
     "data": {
      "text/html": [
       "<div>\n",
       "<style scoped>\n",
       "    .dataframe tbody tr th:only-of-type {\n",
       "        vertical-align: middle;\n",
       "    }\n",
       "\n",
       "    .dataframe tbody tr th {\n",
       "        vertical-align: top;\n",
       "    }\n",
       "\n",
       "    .dataframe thead th {\n",
       "        text-align: right;\n",
       "    }\n",
       "</style>\n",
       "<table border=\"1\" class=\"dataframe\">\n",
       "  <thead>\n",
       "    <tr style=\"text-align: right;\">\n",
       "      <th></th>\n",
       "      <th>pair</th>\n",
       "      <th>avg_label</th>\n",
       "      <th>avg_pred_score</th>\n",
       "      <th>num_pairs</th>\n",
       "    </tr>\n",
       "  </thead>\n",
       "  <tbody>\n",
       "    <tr>\n",
       "      <th>0</th>\n",
       "      <td>*Cava___Cava</td>\n",
       "      <td>1.0</td>\n",
       "      <td>0.980018</td>\n",
       "      <td>624</td>\n",
       "    </tr>\n",
       "    <tr>\n",
       "      <th>1</th>\n",
       "      <td>05___LLC</td>\n",
       "      <td>0.0</td>\n",
       "      <td>0.039818</td>\n",
       "      <td>18</td>\n",
       "    </tr>\n",
       "    <tr>\n",
       "      <th>2</th>\n",
       "      <td>1 Crh Catering___C R H Catering</td>\n",
       "      <td>1.0</td>\n",
       "      <td>0.883263</td>\n",
       "      <td>1000</td>\n",
       "    </tr>\n",
       "    <tr>\n",
       "      <th>3</th>\n",
       "      <td>1 Stop___One Stop</td>\n",
       "      <td>0.0</td>\n",
       "      <td>0.920969</td>\n",
       "      <td>54</td>\n",
       "    </tr>\n",
       "    <tr>\n",
       "      <th>4</th>\n",
       "      <td>105-save___Save Mart</td>\n",
       "      <td>0.0</td>\n",
       "      <td>0.053757</td>\n",
       "      <td>2</td>\n",
       "    </tr>\n",
       "    <tr>\n",
       "      <th>...</th>\n",
       "      <td>...</td>\n",
       "      <td>...</td>\n",
       "      <td>...</td>\n",
       "      <td>...</td>\n",
       "    </tr>\n",
       "    <tr>\n",
       "      <th>2983</th>\n",
       "      <td>Zazz___Zaxby''s</td>\n",
       "      <td>0.0</td>\n",
       "      <td>-0.011050</td>\n",
       "      <td>1000</td>\n",
       "    </tr>\n",
       "    <tr>\n",
       "      <th>2984</th>\n",
       "      <td>Zenni Optical___Tilia Second Life</td>\n",
       "      <td>0.0</td>\n",
       "      <td>-0.011575</td>\n",
       "      <td>44</td>\n",
       "    </tr>\n",
       "    <tr>\n",
       "      <th>2985</th>\n",
       "      <td>Zone___Area</td>\n",
       "      <td>0.0</td>\n",
       "      <td>-0.009200</td>\n",
       "      <td>90</td>\n",
       "    </tr>\n",
       "    <tr>\n",
       "      <th>2986</th>\n",
       "      <td>ampm___Seller Amp LTD</td>\n",
       "      <td>0.0</td>\n",
       "      <td>-0.002499</td>\n",
       "      <td>6</td>\n",
       "    </tr>\n",
       "    <tr>\n",
       "      <th>2987</th>\n",
       "      <td>dd''s Discounts___dd''s DISCOUNTS</td>\n",
       "      <td>1.0</td>\n",
       "      <td>0.936394</td>\n",
       "      <td>396</td>\n",
       "    </tr>\n",
       "  </tbody>\n",
       "</table>\n",
       "<p>2988 rows × 4 columns</p>\n",
       "</div>"
      ],
      "text/plain": [
       "                                   pair  avg_label  avg_pred_score  num_pairs\n",
       "0                          *Cava___Cava        1.0        0.980018        624\n",
       "1                              05___LLC        0.0        0.039818         18\n",
       "2       1 Crh Catering___C R H Catering        1.0        0.883263       1000\n",
       "3                     1 Stop___One Stop        0.0        0.920969         54\n",
       "4                  105-save___Save Mart        0.0        0.053757          2\n",
       "...                                 ...        ...             ...        ...\n",
       "2983                    Zazz___Zaxby''s        0.0       -0.011050       1000\n",
       "2984  Zenni Optical___Tilia Second Life        0.0       -0.011575         44\n",
       "2985                        Zone___Area        0.0       -0.009200         90\n",
       "2986              ampm___Seller Amp LTD        0.0       -0.002499          6\n",
       "2987  dd''s Discounts___dd''s DISCOUNTS        1.0        0.936394        396\n",
       "\n",
       "[2988 rows x 4 columns]"
      ]
     },
     "execution_count": 102,
     "metadata": {},
     "output_type": "execute_result"
    }
   ],
   "source": [
    "df_predictions_by_pairs.reset_index(drop=False, inplace=True)\n",
    "df_predictions_by_pairs\n"
   ]
  },
  {
   "cell_type": "code",
   "execution_count": 103,
   "metadata": {},
   "outputs": [
    {
     "data": {
      "text/html": [
       "<div>\n",
       "<style scoped>\n",
       "    .dataframe tbody tr th:only-of-type {\n",
       "        vertical-align: middle;\n",
       "    }\n",
       "\n",
       "    .dataframe tbody tr th {\n",
       "        vertical-align: top;\n",
       "    }\n",
       "\n",
       "    .dataframe thead th {\n",
       "        text-align: right;\n",
       "    }\n",
       "</style>\n",
       "<table border=\"1\" class=\"dataframe\">\n",
       "  <thead>\n",
       "    <tr style=\"text-align: right;\">\n",
       "      <th></th>\n",
       "      <th>pair</th>\n",
       "      <th>avg_label</th>\n",
       "      <th>avg_pred_score</th>\n",
       "      <th>num_pairs</th>\n",
       "      <th>pair_split</th>\n",
       "    </tr>\n",
       "  </thead>\n",
       "  <tbody>\n",
       "    <tr>\n",
       "      <th>0</th>\n",
       "      <td>*Cava___Cava</td>\n",
       "      <td>1.0</td>\n",
       "      <td>0.980018</td>\n",
       "      <td>624</td>\n",
       "      <td>[*Cava, Cava]</td>\n",
       "    </tr>\n",
       "    <tr>\n",
       "      <th>1</th>\n",
       "      <td>05___LLC</td>\n",
       "      <td>0.0</td>\n",
       "      <td>0.039818</td>\n",
       "      <td>18</td>\n",
       "      <td>[05, LLC]</td>\n",
       "    </tr>\n",
       "    <tr>\n",
       "      <th>2</th>\n",
       "      <td>1 Crh Catering___C R H Catering</td>\n",
       "      <td>1.0</td>\n",
       "      <td>0.883263</td>\n",
       "      <td>1000</td>\n",
       "      <td>[1 Crh Catering, C R H Catering]</td>\n",
       "    </tr>\n",
       "    <tr>\n",
       "      <th>3</th>\n",
       "      <td>1 Stop___One Stop</td>\n",
       "      <td>0.0</td>\n",
       "      <td>0.920969</td>\n",
       "      <td>54</td>\n",
       "      <td>[1 Stop, One Stop]</td>\n",
       "    </tr>\n",
       "    <tr>\n",
       "      <th>4</th>\n",
       "      <td>105-save___Save Mart</td>\n",
       "      <td>0.0</td>\n",
       "      <td>0.053757</td>\n",
       "      <td>2</td>\n",
       "      <td>[105-save, Save Mart]</td>\n",
       "    </tr>\n",
       "    <tr>\n",
       "      <th>...</th>\n",
       "      <td>...</td>\n",
       "      <td>...</td>\n",
       "      <td>...</td>\n",
       "      <td>...</td>\n",
       "      <td>...</td>\n",
       "    </tr>\n",
       "    <tr>\n",
       "      <th>2983</th>\n",
       "      <td>Zazz___Zaxby''s</td>\n",
       "      <td>0.0</td>\n",
       "      <td>-0.011050</td>\n",
       "      <td>1000</td>\n",
       "      <td>[Zazz, Zaxby''s]</td>\n",
       "    </tr>\n",
       "    <tr>\n",
       "      <th>2984</th>\n",
       "      <td>Zenni Optical___Tilia Second Life</td>\n",
       "      <td>0.0</td>\n",
       "      <td>-0.011575</td>\n",
       "      <td>44</td>\n",
       "      <td>[Zenni Optical, Tilia Second Life]</td>\n",
       "    </tr>\n",
       "    <tr>\n",
       "      <th>2985</th>\n",
       "      <td>Zone___Area</td>\n",
       "      <td>0.0</td>\n",
       "      <td>-0.009200</td>\n",
       "      <td>90</td>\n",
       "      <td>[Zone, Area]</td>\n",
       "    </tr>\n",
       "    <tr>\n",
       "      <th>2986</th>\n",
       "      <td>ampm___Seller Amp LTD</td>\n",
       "      <td>0.0</td>\n",
       "      <td>-0.002499</td>\n",
       "      <td>6</td>\n",
       "      <td>[ampm, Seller Amp LTD]</td>\n",
       "    </tr>\n",
       "    <tr>\n",
       "      <th>2987</th>\n",
       "      <td>dd''s Discounts___dd''s DISCOUNTS</td>\n",
       "      <td>1.0</td>\n",
       "      <td>0.936394</td>\n",
       "      <td>396</td>\n",
       "      <td>[dd''s Discounts, dd''s DISCOUNTS]</td>\n",
       "    </tr>\n",
       "  </tbody>\n",
       "</table>\n",
       "<p>2988 rows × 5 columns</p>\n",
       "</div>"
      ],
      "text/plain": [
       "                                   pair  avg_label  avg_pred_score  num_pairs  \\\n",
       "0                          *Cava___Cava        1.0        0.980018        624   \n",
       "1                              05___LLC        0.0        0.039818         18   \n",
       "2       1 Crh Catering___C R H Catering        1.0        0.883263       1000   \n",
       "3                     1 Stop___One Stop        0.0        0.920969         54   \n",
       "4                  105-save___Save Mart        0.0        0.053757          2   \n",
       "...                                 ...        ...             ...        ...   \n",
       "2983                    Zazz___Zaxby''s        0.0       -0.011050       1000   \n",
       "2984  Zenni Optical___Tilia Second Life        0.0       -0.011575         44   \n",
       "2985                        Zone___Area        0.0       -0.009200         90   \n",
       "2986              ampm___Seller Amp LTD        0.0       -0.002499          6   \n",
       "2987  dd''s Discounts___dd''s DISCOUNTS        1.0        0.936394        396   \n",
       "\n",
       "                              pair_split  \n",
       "0                          [*Cava, Cava]  \n",
       "1                              [05, LLC]  \n",
       "2       [1 Crh Catering, C R H Catering]  \n",
       "3                     [1 Stop, One Stop]  \n",
       "4                  [105-save, Save Mart]  \n",
       "...                                  ...  \n",
       "2983                    [Zazz, Zaxby''s]  \n",
       "2984  [Zenni Optical, Tilia Second Life]  \n",
       "2985                        [Zone, Area]  \n",
       "2986              [ampm, Seller Amp LTD]  \n",
       "2987  [dd''s Discounts, dd''s DISCOUNTS]  \n",
       "\n",
       "[2988 rows x 5 columns]"
      ]
     },
     "execution_count": 103,
     "metadata": {},
     "output_type": "execute_result"
    }
   ],
   "source": [
    "df_predictions_by_pairs['pair_split'] = df_predictions_by_pairs['pair'].apply(lambda x: x.split('___'))\n",
    "df_predictions_by_pairs"
   ]
  },
  {
   "cell_type": "code",
   "execution_count": 104,
   "metadata": {},
   "outputs": [],
   "source": [
    "df_predictions_by_pairs['merchant_cleo'] = df_predictions_by_pairs['pair_split'].apply(lambda x: x[0])\n",
    "df_predictions_by_pairs['merchant_counterparty'] = df_predictions_by_pairs['pair_split'].apply(lambda x: x[1])"
   ]
  },
  {
   "cell_type": "code",
   "execution_count": 105,
   "metadata": {},
   "outputs": [],
   "source": [
    "df_predictions_by_pairs.drop(['pair','pair_split'], axis=1, inplace=True)"
   ]
  },
  {
   "cell_type": "code",
   "execution_count": 106,
   "metadata": {},
   "outputs": [
    {
     "data": {
      "text/html": [
       "<div>\n",
       "<style scoped>\n",
       "    .dataframe tbody tr th:only-of-type {\n",
       "        vertical-align: middle;\n",
       "    }\n",
       "\n",
       "    .dataframe tbody tr th {\n",
       "        vertical-align: top;\n",
       "    }\n",
       "\n",
       "    .dataframe thead th {\n",
       "        text-align: right;\n",
       "    }\n",
       "</style>\n",
       "<table border=\"1\" class=\"dataframe\">\n",
       "  <thead>\n",
       "    <tr style=\"text-align: right;\">\n",
       "      <th></th>\n",
       "      <th>avg_label</th>\n",
       "      <th>avg_pred_score</th>\n",
       "      <th>num_pairs</th>\n",
       "      <th>merchant_cleo</th>\n",
       "      <th>merchant_counterparty</th>\n",
       "    </tr>\n",
       "  </thead>\n",
       "  <tbody>\n",
       "    <tr>\n",
       "      <th>0</th>\n",
       "      <td>1.0</td>\n",
       "      <td>0.980018</td>\n",
       "      <td>624</td>\n",
       "      <td>*Cava</td>\n",
       "      <td>Cava</td>\n",
       "    </tr>\n",
       "    <tr>\n",
       "      <th>1</th>\n",
       "      <td>0.0</td>\n",
       "      <td>0.039818</td>\n",
       "      <td>18</td>\n",
       "      <td>05</td>\n",
       "      <td>LLC</td>\n",
       "    </tr>\n",
       "    <tr>\n",
       "      <th>2</th>\n",
       "      <td>1.0</td>\n",
       "      <td>0.883263</td>\n",
       "      <td>1000</td>\n",
       "      <td>1 Crh Catering</td>\n",
       "      <td>C R H Catering</td>\n",
       "    </tr>\n",
       "    <tr>\n",
       "      <th>3</th>\n",
       "      <td>0.0</td>\n",
       "      <td>0.920969</td>\n",
       "      <td>54</td>\n",
       "      <td>1 Stop</td>\n",
       "      <td>One Stop</td>\n",
       "    </tr>\n",
       "    <tr>\n",
       "      <th>4</th>\n",
       "      <td>0.0</td>\n",
       "      <td>0.053757</td>\n",
       "      <td>2</td>\n",
       "      <td>105-save</td>\n",
       "      <td>Save Mart</td>\n",
       "    </tr>\n",
       "    <tr>\n",
       "      <th>...</th>\n",
       "      <td>...</td>\n",
       "      <td>...</td>\n",
       "      <td>...</td>\n",
       "      <td>...</td>\n",
       "      <td>...</td>\n",
       "    </tr>\n",
       "    <tr>\n",
       "      <th>2983</th>\n",
       "      <td>0.0</td>\n",
       "      <td>-0.011050</td>\n",
       "      <td>1000</td>\n",
       "      <td>Zazz</td>\n",
       "      <td>Zaxby''s</td>\n",
       "    </tr>\n",
       "    <tr>\n",
       "      <th>2984</th>\n",
       "      <td>0.0</td>\n",
       "      <td>-0.011575</td>\n",
       "      <td>44</td>\n",
       "      <td>Zenni Optical</td>\n",
       "      <td>Tilia Second Life</td>\n",
       "    </tr>\n",
       "    <tr>\n",
       "      <th>2985</th>\n",
       "      <td>0.0</td>\n",
       "      <td>-0.009200</td>\n",
       "      <td>90</td>\n",
       "      <td>Zone</td>\n",
       "      <td>Area</td>\n",
       "    </tr>\n",
       "    <tr>\n",
       "      <th>2986</th>\n",
       "      <td>0.0</td>\n",
       "      <td>-0.002499</td>\n",
       "      <td>6</td>\n",
       "      <td>ampm</td>\n",
       "      <td>Seller Amp LTD</td>\n",
       "    </tr>\n",
       "    <tr>\n",
       "      <th>2987</th>\n",
       "      <td>1.0</td>\n",
       "      <td>0.936394</td>\n",
       "      <td>396</td>\n",
       "      <td>dd''s Discounts</td>\n",
       "      <td>dd''s DISCOUNTS</td>\n",
       "    </tr>\n",
       "  </tbody>\n",
       "</table>\n",
       "<p>2988 rows × 5 columns</p>\n",
       "</div>"
      ],
      "text/plain": [
       "      avg_label  avg_pred_score  num_pairs    merchant_cleo  \\\n",
       "0           1.0        0.980018        624            *Cava   \n",
       "1           0.0        0.039818         18               05   \n",
       "2           1.0        0.883263       1000   1 Crh Catering   \n",
       "3           0.0        0.920969         54           1 Stop   \n",
       "4           0.0        0.053757          2         105-save   \n",
       "...         ...             ...        ...              ...   \n",
       "2983        0.0       -0.011050       1000             Zazz   \n",
       "2984        0.0       -0.011575         44    Zenni Optical   \n",
       "2985        0.0       -0.009200         90             Zone   \n",
       "2986        0.0       -0.002499          6             ampm   \n",
       "2987        1.0        0.936394        396  dd''s Discounts   \n",
       "\n",
       "     merchant_counterparty  \n",
       "0                     Cava  \n",
       "1                      LLC  \n",
       "2           C R H Catering  \n",
       "3                 One Stop  \n",
       "4                Save Mart  \n",
       "...                    ...  \n",
       "2983              Zaxby''s  \n",
       "2984     Tilia Second Life  \n",
       "2985                  Area  \n",
       "2986        Seller Amp LTD  \n",
       "2987       dd''s DISCOUNTS  \n",
       "\n",
       "[2988 rows x 5 columns]"
      ]
     },
     "execution_count": 106,
     "metadata": {},
     "output_type": "execute_result"
    }
   ],
   "source": [
    "df_predictions_by_pairs"
   ]
  },
  {
   "cell_type": "code",
   "execution_count": 107,
   "metadata": {},
   "outputs": [
    {
     "data": {
      "text/html": [
       "<div>\n",
       "<style scoped>\n",
       "    .dataframe tbody tr th:only-of-type {\n",
       "        vertical-align: middle;\n",
       "    }\n",
       "\n",
       "    .dataframe tbody tr th {\n",
       "        vertical-align: top;\n",
       "    }\n",
       "\n",
       "    .dataframe thead th {\n",
       "        text-align: right;\n",
       "    }\n",
       "</style>\n",
       "<table border=\"1\" class=\"dataframe\">\n",
       "  <thead>\n",
       "    <tr style=\"text-align: right;\">\n",
       "      <th></th>\n",
       "      <th>avg_label</th>\n",
       "      <th>avg_pred_score</th>\n",
       "      <th>num_pairs</th>\n",
       "      <th>merchant_cleo</th>\n",
       "      <th>merchant_counterparty</th>\n",
       "    </tr>\n",
       "  </thead>\n",
       "  <tbody>\n",
       "    <tr>\n",
       "      <th>8</th>\n",
       "      <td>0.0</td>\n",
       "      <td>-0.010330</td>\n",
       "      <td>1</td>\n",
       "      <td>1536 Jcs</td>\n",
       "      <td>Jcpenny</td>\n",
       "    </tr>\n",
       "    <tr>\n",
       "      <th>15</th>\n",
       "      <td>0.0</td>\n",
       "      <td>-0.011853</td>\n",
       "      <td>1</td>\n",
       "      <td>360 Chicago</td>\n",
       "      <td>Tilia Second Life</td>\n",
       "    </tr>\n",
       "    <tr>\n",
       "      <th>88</th>\n",
       "      <td>0.0</td>\n",
       "      <td>-0.010537</td>\n",
       "      <td>1</td>\n",
       "      <td>American American Mar</td>\n",
       "      <td>American Family Insurance</td>\n",
       "    </tr>\n",
       "    <tr>\n",
       "      <th>89</th>\n",
       "      <td>0.0</td>\n",
       "      <td>-0.011536</td>\n",
       "      <td>1</td>\n",
       "      <td>American American Mar</td>\n",
       "      <td>The American Bottli</td>\n",
       "    </tr>\n",
       "    <tr>\n",
       "      <th>90</th>\n",
       "      <td>0.0</td>\n",
       "      <td>0.004050</td>\n",
       "      <td>1</td>\n",
       "      <td>American Amicable Life</td>\n",
       "      <td>American Family Insurance</td>\n",
       "    </tr>\n",
       "    <tr>\n",
       "      <th>...</th>\n",
       "      <td>...</td>\n",
       "      <td>...</td>\n",
       "      <td>...</td>\n",
       "      <td>...</td>\n",
       "      <td>...</td>\n",
       "    </tr>\n",
       "    <tr>\n",
       "      <th>2836</th>\n",
       "      <td>1.0</td>\n",
       "      <td>0.888359</td>\n",
       "      <td>1000</td>\n",
       "      <td>Walmart</td>\n",
       "      <td>Walmart+</td>\n",
       "    </tr>\n",
       "    <tr>\n",
       "      <th>2858</th>\n",
       "      <td>1.0</td>\n",
       "      <td>0.983649</td>\n",
       "      <td>1000</td>\n",
       "      <td>Wesco</td>\n",
       "      <td>WESCO International</td>\n",
       "    </tr>\n",
       "    <tr>\n",
       "      <th>2878</th>\n",
       "      <td>1.0</td>\n",
       "      <td>0.981084</td>\n",
       "      <td>1000</td>\n",
       "      <td>Whop</td>\n",
       "      <td>Whop Com Pay</td>\n",
       "    </tr>\n",
       "    <tr>\n",
       "      <th>2943</th>\n",
       "      <td>1.0</td>\n",
       "      <td>0.969275</td>\n",
       "      <td>1000</td>\n",
       "      <td>Xact Ccbank</td>\n",
       "      <td>Xact Ccbankpayme</td>\n",
       "    </tr>\n",
       "    <tr>\n",
       "      <th>2962</th>\n",
       "      <td>1.0</td>\n",
       "      <td>0.161364</td>\n",
       "      <td>1000</td>\n",
       "      <td>YouTube</td>\n",
       "      <td>Youtube G.co</td>\n",
       "    </tr>\n",
       "  </tbody>\n",
       "</table>\n",
       "<p>2988 rows × 5 columns</p>\n",
       "</div>"
      ],
      "text/plain": [
       "      avg_label  avg_pred_score  num_pairs           merchant_cleo  \\\n",
       "8           0.0       -0.010330          1                1536 Jcs   \n",
       "15          0.0       -0.011853          1             360 Chicago   \n",
       "88          0.0       -0.010537          1   American American Mar   \n",
       "89          0.0       -0.011536          1   American American Mar   \n",
       "90          0.0        0.004050          1  American Amicable Life   \n",
       "...         ...             ...        ...                     ...   \n",
       "2836        1.0        0.888359       1000                 Walmart   \n",
       "2858        1.0        0.983649       1000                   Wesco   \n",
       "2878        1.0        0.981084       1000                    Whop   \n",
       "2943        1.0        0.969275       1000             Xact Ccbank   \n",
       "2962        1.0        0.161364       1000                 YouTube   \n",
       "\n",
       "          merchant_counterparty  \n",
       "8                       Jcpenny  \n",
       "15            Tilia Second Life  \n",
       "88    American Family Insurance  \n",
       "89          The American Bottli  \n",
       "90    American Family Insurance  \n",
       "...                         ...  \n",
       "2836                   Walmart+  \n",
       "2858        WESCO International  \n",
       "2878               Whop Com Pay  \n",
       "2943           Xact Ccbankpayme  \n",
       "2962               Youtube G.co  \n",
       "\n",
       "[2988 rows x 5 columns]"
      ]
     },
     "execution_count": 107,
     "metadata": {},
     "output_type": "execute_result"
    }
   ],
   "source": [
    "df_predictions_by_pairs.sort_values(by=['avg_label','num_pairs'])"
   ]
  },
  {
   "cell_type": "code",
   "execution_count": 108,
   "metadata": {},
   "outputs": [
    {
     "name": "stdout",
     "output_type": "stream",
     "text": [
      " precision 0.5826972010178118 recall 0.7557755775577558\n"
     ]
    }
   ],
   "source": [
    "th_pred = 0.5\n",
    "true_positives = df_predictions_by_pairs[(df_predictions_by_pairs['avg_label']==1) & (df_predictions_by_pairs['avg_pred_score']>= th_pred)].shape[0]\n",
    "false_positives = df_predictions_by_pairs[(df_predictions_by_pairs['avg_label']==0) & (df_predictions_by_pairs['avg_pred_score']>= th_pred)].shape[0]\n",
    "false_negatives = df_predictions_by_pairs[(df_predictions_by_pairs['avg_label']==1) & (df_predictions_by_pairs['avg_pred_score']< th_pred)].shape[0]\n",
    "\n",
    "precision = true_positives/(true_positives+false_positives)\n",
    "recall = true_positives/(true_positives+false_negatives)\n",
    "\n",
    "print(f\" precision {precision} recall {recall}\")"
   ]
  },
  {
   "cell_type": "markdown",
   "metadata": {},
   "source": [
    "# Add precision and recall curves"
   ]
  },
  {
   "cell_type": "markdown",
   "metadata": {},
   "source": [
    "Counterparty merchants were split into train test validation"
   ]
  },
  {
   "cell_type": "code",
   "execution_count": 109,
   "metadata": {},
   "outputs": [
    {
     "data": {
      "text/html": [
       "<div>\n",
       "<style scoped>\n",
       "    .dataframe tbody tr th:only-of-type {\n",
       "        vertical-align: middle;\n",
       "    }\n",
       "\n",
       "    .dataframe tbody tr th {\n",
       "        vertical-align: top;\n",
       "    }\n",
       "\n",
       "    .dataframe thead th {\n",
       "        text-align: right;\n",
       "    }\n",
       "</style>\n",
       "<table border=\"1\" class=\"dataframe\">\n",
       "  <thead>\n",
       "    <tr style=\"text-align: right;\">\n",
       "      <th></th>\n",
       "      <th>avg_label</th>\n",
       "      <th>avg_pred_score</th>\n",
       "      <th>num_pairs</th>\n",
       "      <th>merchant_cleo</th>\n",
       "      <th>merchant_counterparty</th>\n",
       "    </tr>\n",
       "  </thead>\n",
       "  <tbody>\n",
       "    <tr>\n",
       "      <th>2</th>\n",
       "      <td>1.0</td>\n",
       "      <td>0.883263</td>\n",
       "      <td>1000</td>\n",
       "      <td>1 Crh Catering</td>\n",
       "      <td>C R H Catering</td>\n",
       "    </tr>\n",
       "    <tr>\n",
       "      <th>18</th>\n",
       "      <td>1.0</td>\n",
       "      <td>0.992547</td>\n",
       "      <td>1000</td>\n",
       "      <td>365 Markets</td>\n",
       "      <td>365 Retail Markets</td>\n",
       "    </tr>\n",
       "    <tr>\n",
       "      <th>23</th>\n",
       "      <td>1.0</td>\n",
       "      <td>0.804675</td>\n",
       "      <td>1000</td>\n",
       "      <td>9250 Fpl</td>\n",
       "      <td>Fpl Northwest</td>\n",
       "    </tr>\n",
       "    <tr>\n",
       "      <th>30</th>\n",
       "      <td>1.0</td>\n",
       "      <td>0.995152</td>\n",
       "      <td>1000</td>\n",
       "      <td>AMOCO</td>\n",
       "      <td>Amoco</td>\n",
       "    </tr>\n",
       "    <tr>\n",
       "      <th>40</th>\n",
       "      <td>1.0</td>\n",
       "      <td>0.995580</td>\n",
       "      <td>1000</td>\n",
       "      <td>Aarons</td>\n",
       "      <td>Aarons Ezpay Aarons</td>\n",
       "    </tr>\n",
       "    <tr>\n",
       "      <th>...</th>\n",
       "      <td>...</td>\n",
       "      <td>...</td>\n",
       "      <td>...</td>\n",
       "      <td>...</td>\n",
       "      <td>...</td>\n",
       "    </tr>\n",
       "    <tr>\n",
       "      <th>2880</th>\n",
       "      <td>0.0</td>\n",
       "      <td>-0.004451</td>\n",
       "      <td>1</td>\n",
       "      <td>Wilkinson Eddie</td>\n",
       "      <td>Wilkinson Xpress Toba</td>\n",
       "    </tr>\n",
       "    <tr>\n",
       "      <th>2881</th>\n",
       "      <td>0.0</td>\n",
       "      <td>-0.009334</td>\n",
       "      <td>1</td>\n",
       "      <td>Wilkinson Liquor Store</td>\n",
       "      <td>Wilkinson Xpress Toba</td>\n",
       "    </tr>\n",
       "    <tr>\n",
       "      <th>2883</th>\n",
       "      <td>0.0</td>\n",
       "      <td>0.021308</td>\n",
       "      <td>1</td>\n",
       "      <td>Wilkinson</td>\n",
       "      <td>Wilkinson Xpress Toba</td>\n",
       "    </tr>\n",
       "    <tr>\n",
       "      <th>2907</th>\n",
       "      <td>0.0</td>\n",
       "      <td>-0.000968</td>\n",
       "      <td>1</td>\n",
       "      <td>Womens Fashion &amp; Co Austin</td>\n",
       "      <td>Mens Wearhouse</td>\n",
       "    </tr>\n",
       "    <tr>\n",
       "      <th>2951</th>\n",
       "      <td>0.0</td>\n",
       "      <td>0.479632</td>\n",
       "      <td>1</td>\n",
       "      <td>Xpresspa</td>\n",
       "      <td>Wilkinson Xpress Toba</td>\n",
       "    </tr>\n",
       "  </tbody>\n",
       "</table>\n",
       "<p>2988 rows × 5 columns</p>\n",
       "</div>"
      ],
      "text/plain": [
       "      avg_label  avg_pred_score  num_pairs               merchant_cleo  \\\n",
       "2           1.0        0.883263       1000              1 Crh Catering   \n",
       "18          1.0        0.992547       1000                 365 Markets   \n",
       "23          1.0        0.804675       1000                    9250 Fpl   \n",
       "30          1.0        0.995152       1000                       AMOCO   \n",
       "40          1.0        0.995580       1000                      Aarons   \n",
       "...         ...             ...        ...                         ...   \n",
       "2880        0.0       -0.004451          1             Wilkinson Eddie   \n",
       "2881        0.0       -0.009334          1      Wilkinson Liquor Store   \n",
       "2883        0.0        0.021308          1                   Wilkinson   \n",
       "2907        0.0       -0.000968          1  Womens Fashion & Co Austin   \n",
       "2951        0.0        0.479632          1                    Xpresspa   \n",
       "\n",
       "      merchant_counterparty  \n",
       "2            C R H Catering  \n",
       "18       365 Retail Markets  \n",
       "23            Fpl Northwest  \n",
       "30                    Amoco  \n",
       "40      Aarons Ezpay Aarons  \n",
       "...                     ...  \n",
       "2880  Wilkinson Xpress Toba  \n",
       "2881  Wilkinson Xpress Toba  \n",
       "2883  Wilkinson Xpress Toba  \n",
       "2907         Mens Wearhouse  \n",
       "2951  Wilkinson Xpress Toba  \n",
       "\n",
       "[2988 rows x 5 columns]"
      ]
     },
     "execution_count": 109,
     "metadata": {},
     "output_type": "execute_result"
    }
   ],
   "source": [
    "df_predictions_by_pairs.sort_values(by=['avg_label','num_pairs'], ascending=False, inplace=True)\n",
    "df_predictions_by_pairs"
   ]
  },
  {
   "cell_type": "code",
   "execution_count": 111,
   "metadata": {},
   "outputs": [
    {
     "data": {
      "text/html": [
       "<div>\n",
       "<style scoped>\n",
       "    .dataframe tbody tr th:only-of-type {\n",
       "        vertical-align: middle;\n",
       "    }\n",
       "\n",
       "    .dataframe tbody tr th {\n",
       "        vertical-align: top;\n",
       "    }\n",
       "\n",
       "    .dataframe thead th {\n",
       "        text-align: right;\n",
       "    }\n",
       "</style>\n",
       "<table border=\"1\" class=\"dataframe\">\n",
       "  <thead>\n",
       "    <tr style=\"text-align: right;\">\n",
       "      <th></th>\n",
       "      <th>avg_label</th>\n",
       "      <th>avg_pred_score</th>\n",
       "      <th>num_pairs</th>\n",
       "      <th>merchant_cleo</th>\n",
       "      <th>merchant_counterparty</th>\n",
       "    </tr>\n",
       "  </thead>\n",
       "  <tbody>\n",
       "    <tr>\n",
       "      <th>1269</th>\n",
       "      <td>1.0</td>\n",
       "      <td>0.478323</td>\n",
       "      <td>1000</td>\n",
       "      <td>Hilton</td>\n",
       "      <td>Hilton Hotels &amp; Resorts</td>\n",
       "    </tr>\n",
       "    <tr>\n",
       "      <th>1389</th>\n",
       "      <td>1.0</td>\n",
       "      <td>0.755879</td>\n",
       "      <td>1000</td>\n",
       "      <td>Key Food</td>\n",
       "      <td>Key Food Stores</td>\n",
       "    </tr>\n",
       "    <tr>\n",
       "      <th>1420</th>\n",
       "      <td>1.0</td>\n",
       "      <td>0.033268</td>\n",
       "      <td>1000</td>\n",
       "      <td>Kwik Trip / Star</td>\n",
       "      <td>Kwik Trip</td>\n",
       "    </tr>\n",
       "    <tr>\n",
       "      <th>1511</th>\n",
       "      <td>1.0</td>\n",
       "      <td>0.933250</td>\n",
       "      <td>1000</td>\n",
       "      <td>Long Horn Steakhouse</td>\n",
       "      <td>LongHorn Steakhouse</td>\n",
       "    </tr>\n",
       "    <tr>\n",
       "      <th>1567</th>\n",
       "      <td>1.0</td>\n",
       "      <td>0.996084</td>\n",
       "      <td>1000</td>\n",
       "      <td>Marshalls #</td>\n",
       "      <td>Marshalls</td>\n",
       "    </tr>\n",
       "    <tr>\n",
       "      <th>1578</th>\n",
       "      <td>1.0</td>\n",
       "      <td>0.573740</td>\n",
       "      <td>1000</td>\n",
       "      <td>Mc Alister''s Deli</td>\n",
       "      <td>McAlister''s Deli</td>\n",
       "    </tr>\n",
       "    <tr>\n",
       "      <th>1640</th>\n",
       "      <td>1.0</td>\n",
       "      <td>1.007809</td>\n",
       "      <td>1000</td>\n",
       "      <td>Microsoft</td>\n",
       "      <td>Microsoft Apps</td>\n",
       "    </tr>\n",
       "    <tr>\n",
       "      <th>1724</th>\n",
       "      <td>1.0</td>\n",
       "      <td>0.929980</td>\n",
       "      <td>1000</td>\n",
       "      <td>Msi Insurance</td>\n",
       "      <td>Millennial Specialty Insurance</td>\n",
       "    </tr>\n",
       "    <tr>\n",
       "      <th>1839</th>\n",
       "      <td>1.0</td>\n",
       "      <td>0.927634</td>\n",
       "      <td>1000</td>\n",
       "      <td>One Stop Stores</td>\n",
       "      <td>One Stop</td>\n",
       "    </tr>\n",
       "    <tr>\n",
       "      <th>1853</th>\n",
       "      <td>1.0</td>\n",
       "      <td>0.985645</td>\n",
       "      <td>1000</td>\n",
       "      <td>Openai</td>\n",
       "      <td>OpenAI</td>\n",
       "    </tr>\n",
       "    <tr>\n",
       "      <th>1896</th>\n",
       "      <td>1.0</td>\n",
       "      <td>0.457031</td>\n",
       "      <td>1000</td>\n",
       "      <td>Paramount+</td>\n",
       "      <td>Paramount</td>\n",
       "    </tr>\n",
       "    <tr>\n",
       "      <th>1908</th>\n",
       "      <td>1.0</td>\n",
       "      <td>0.910517</td>\n",
       "      <td>1000</td>\n",
       "      <td>Parlevel</td>\n",
       "      <td>Parlevel Systems</td>\n",
       "    </tr>\n",
       "    <tr>\n",
       "      <th>1939</th>\n",
       "      <td>1.0</td>\n",
       "      <td>0.577388</td>\n",
       "      <td>1000</td>\n",
       "      <td>Paypal</td>\n",
       "      <td>Paypal Pay in 4</td>\n",
       "    </tr>\n",
       "    <tr>\n",
       "      <th>1962</th>\n",
       "      <td>1.0</td>\n",
       "      <td>0.844276</td>\n",
       "      <td>1000</td>\n",
       "      <td>Pet Smart</td>\n",
       "      <td>PetSmart</td>\n",
       "    </tr>\n",
       "    <tr>\n",
       "      <th>2011</th>\n",
       "      <td>1.0</td>\n",
       "      <td>0.791961</td>\n",
       "      <td>1000</td>\n",
       "      <td>PlayStation</td>\n",
       "      <td>Sony Playstation</td>\n",
       "    </tr>\n",
       "    <tr>\n",
       "      <th>2032</th>\n",
       "      <td>1.0</td>\n",
       "      <td>0.987337</td>\n",
       "      <td>1000</td>\n",
       "      <td>Popshelf</td>\n",
       "      <td>pOpshelf</td>\n",
       "    </tr>\n",
       "    <tr>\n",
       "      <th>2038</th>\n",
       "      <td>1.0</td>\n",
       "      <td>0.969326</td>\n",
       "      <td>1000</td>\n",
       "      <td>Portfolio Recovery</td>\n",
       "      <td>Portfolio Recovery Associates</td>\n",
       "    </tr>\n",
       "    <tr>\n",
       "      <th>2040</th>\n",
       "      <td>1.0</td>\n",
       "      <td>0.348654</td>\n",
       "      <td>1000</td>\n",
       "      <td>Potbelly</td>\n",
       "      <td>Potbelly Sandwich Shop</td>\n",
       "    </tr>\n",
       "    <tr>\n",
       "      <th>2086</th>\n",
       "      <td>1.0</td>\n",
       "      <td>0.290459</td>\n",
       "      <td>1000</td>\n",
       "      <td>Quick Chek</td>\n",
       "      <td>QuickChek</td>\n",
       "    </tr>\n",
       "    <tr>\n",
       "      <th>2188</th>\n",
       "      <td>1.0</td>\n",
       "      <td>1.002454</td>\n",
       "      <td>1000</td>\n",
       "      <td>Robinhood Funds</td>\n",
       "      <td>Robinhood</td>\n",
       "    </tr>\n",
       "    <tr>\n",
       "      <th>2208</th>\n",
       "      <td>1.0</td>\n",
       "      <td>0.693136</td>\n",
       "      <td>1000</td>\n",
       "      <td>Ross Dress for Less</td>\n",
       "      <td>Ross Stores</td>\n",
       "    </tr>\n",
       "    <tr>\n",
       "      <th>2233</th>\n",
       "      <td>1.0</td>\n",
       "      <td>0.982271</td>\n",
       "      <td>1000</td>\n",
       "      <td>SHEIN</td>\n",
       "      <td>Shein</td>\n",
       "    </tr>\n",
       "    <tr>\n",
       "      <th>2257</th>\n",
       "      <td>1.0</td>\n",
       "      <td>0.673420</td>\n",
       "      <td>1000</td>\n",
       "      <td>Scopely Inc</td>\n",
       "      <td>Scopely</td>\n",
       "    </tr>\n",
       "    <tr>\n",
       "      <th>2288</th>\n",
       "      <td>1.0</td>\n",
       "      <td>0.996890</td>\n",
       "      <td>1000</td>\n",
       "      <td>Shaws</td>\n",
       "      <td>Shaw''s</td>\n",
       "    </tr>\n",
       "    <tr>\n",
       "      <th>2345</th>\n",
       "      <td>1.0</td>\n",
       "      <td>0.918631</td>\n",
       "      <td>1000</td>\n",
       "      <td>Smart And Final</td>\n",
       "      <td>Smart &amp; Final</td>\n",
       "    </tr>\n",
       "    <tr>\n",
       "      <th>2353</th>\n",
       "      <td>1.0</td>\n",
       "      <td>0.999933</td>\n",
       "      <td>1000</td>\n",
       "      <td>Snap Finance Payment</td>\n",
       "      <td>Snap Finance</td>\n",
       "    </tr>\n",
       "    <tr>\n",
       "      <th>2436</th>\n",
       "      <td>1.0</td>\n",
       "      <td>0.956843</td>\n",
       "      <td>1000</td>\n",
       "      <td>Spotloan Debit</td>\n",
       "      <td>Spotloan</td>\n",
       "    </tr>\n",
       "    <tr>\n",
       "      <th>2438</th>\n",
       "      <td>1.0</td>\n",
       "      <td>0.290972</td>\n",
       "      <td>1000</td>\n",
       "      <td>Steam</td>\n",
       "      <td>Steamgames Com</td>\n",
       "    </tr>\n",
       "    <tr>\n",
       "      <th>2511</th>\n",
       "      <td>1.0</td>\n",
       "      <td>0.669955</td>\n",
       "      <td>1000</td>\n",
       "      <td>Super Pay Super</td>\n",
       "      <td>Super Pay</td>\n",
       "    </tr>\n",
       "    <tr>\n",
       "      <th>2614</th>\n",
       "      <td>1.0</td>\n",
       "      <td>0.034526</td>\n",
       "      <td>1000</td>\n",
       "      <td>The Granary Whole Food</td>\n",
       "      <td>Whole Foods</td>\n",
       "    </tr>\n",
       "    <tr>\n",
       "      <th>2652</th>\n",
       "      <td>1.0</td>\n",
       "      <td>0.892199</td>\n",
       "      <td>1000</td>\n",
       "      <td>TikTok</td>\n",
       "      <td>Tiktok</td>\n",
       "    </tr>\n",
       "    <tr>\n",
       "      <th>2659</th>\n",
       "      <td>1.0</td>\n",
       "      <td>0.756581</td>\n",
       "      <td>1000</td>\n",
       "      <td>Tiktok Shop</td>\n",
       "      <td>Tiktok</td>\n",
       "    </tr>\n",
       "    <tr>\n",
       "      <th>2705</th>\n",
       "      <td>1.0</td>\n",
       "      <td>0.484772</td>\n",
       "      <td>1000</td>\n",
       "      <td>Toyota Financial</td>\n",
       "      <td>Toyota</td>\n",
       "    </tr>\n",
       "    <tr>\n",
       "      <th>2730</th>\n",
       "      <td>1.0</td>\n",
       "      <td>0.170244</td>\n",
       "      <td>1000</td>\n",
       "      <td>Trybeem</td>\n",
       "      <td>Beem App Trybeem</td>\n",
       "    </tr>\n",
       "    <tr>\n",
       "      <th>2739</th>\n",
       "      <td>1.0</td>\n",
       "      <td>0.969689</td>\n",
       "      <td>1000</td>\n",
       "      <td>Turo Inc.</td>\n",
       "      <td>Turo Inc Trip Ma</td>\n",
       "    </tr>\n",
       "    <tr>\n",
       "      <th>2746</th>\n",
       "      <td>1.0</td>\n",
       "      <td>0.923565</td>\n",
       "      <td>1000</td>\n",
       "      <td>Unes</td>\n",
       "      <td>Unest Holdings</td>\n",
       "    </tr>\n",
       "    <tr>\n",
       "      <th>2776</th>\n",
       "      <td>1.0</td>\n",
       "      <td>0.961081</td>\n",
       "      <td>1000</td>\n",
       "      <td>Valvoline</td>\n",
       "      <td>Valvoline Instant Oil Change</td>\n",
       "    </tr>\n",
       "    <tr>\n",
       "      <th>2836</th>\n",
       "      <td>1.0</td>\n",
       "      <td>0.888359</td>\n",
       "      <td>1000</td>\n",
       "      <td>Walmart</td>\n",
       "      <td>Walmart+</td>\n",
       "    </tr>\n",
       "    <tr>\n",
       "      <th>2858</th>\n",
       "      <td>1.0</td>\n",
       "      <td>0.983649</td>\n",
       "      <td>1000</td>\n",
       "      <td>Wesco</td>\n",
       "      <td>WESCO International</td>\n",
       "    </tr>\n",
       "    <tr>\n",
       "      <th>2878</th>\n",
       "      <td>1.0</td>\n",
       "      <td>0.981084</td>\n",
       "      <td>1000</td>\n",
       "      <td>Whop</td>\n",
       "      <td>Whop Com Pay</td>\n",
       "    </tr>\n",
       "    <tr>\n",
       "      <th>2943</th>\n",
       "      <td>1.0</td>\n",
       "      <td>0.969275</td>\n",
       "      <td>1000</td>\n",
       "      <td>Xact Ccbank</td>\n",
       "      <td>Xact Ccbankpayme</td>\n",
       "    </tr>\n",
       "    <tr>\n",
       "      <th>2962</th>\n",
       "      <td>1.0</td>\n",
       "      <td>0.161364</td>\n",
       "      <td>1000</td>\n",
       "      <td>YouTube</td>\n",
       "      <td>Youtube G.co</td>\n",
       "    </tr>\n",
       "    <tr>\n",
       "      <th>2074</th>\n",
       "      <td>1.0</td>\n",
       "      <td>0.074314</td>\n",
       "      <td>990</td>\n",
       "      <td>Pypl Paymthly</td>\n",
       "      <td>Pypl</td>\n",
       "    </tr>\n",
       "    <tr>\n",
       "      <th>1148</th>\n",
       "      <td>1.0</td>\n",
       "      <td>0.350874</td>\n",
       "      <td>906</td>\n",
       "      <td>Georgia Lottery</td>\n",
       "      <td>GA Lottery iHope</td>\n",
       "    </tr>\n",
       "    <tr>\n",
       "      <th>2901</th>\n",
       "      <td>1.0</td>\n",
       "      <td>0.964720</td>\n",
       "      <td>897</td>\n",
       "      <td>Wmt Plus</td>\n",
       "      <td>Walmart+</td>\n",
       "    </tr>\n",
       "    <tr>\n",
       "      <th>790</th>\n",
       "      <td>1.0</td>\n",
       "      <td>0.242262</td>\n",
       "      <td>896</td>\n",
       "      <td>Curve Card Upgrade</td>\n",
       "      <td>Upgrade</td>\n",
       "    </tr>\n",
       "    <tr>\n",
       "      <th>2597</th>\n",
       "      <td>1.0</td>\n",
       "      <td>0.920852</td>\n",
       "      <td>882</td>\n",
       "      <td>Tgi Fridays</td>\n",
       "      <td>TGI Friday''s</td>\n",
       "    </tr>\n",
       "    <tr>\n",
       "      <th>268</th>\n",
       "      <td>1.0</td>\n",
       "      <td>0.991862</td>\n",
       "      <td>854</td>\n",
       "      <td>Betrivers</td>\n",
       "      <td>Betrivers Har</td>\n",
       "    </tr>\n",
       "    <tr>\n",
       "      <th>1402</th>\n",
       "      <td>1.0</td>\n",
       "      <td>1.000488</td>\n",
       "      <td>854</td>\n",
       "      <td>Ktm</td>\n",
       "      <td>KTM</td>\n",
       "    </tr>\n",
       "    <tr>\n",
       "      <th>1995</th>\n",
       "      <td>1.0</td>\n",
       "      <td>0.993427</td>\n",
       "      <td>847</td>\n",
       "      <td>Philo Inc.</td>\n",
       "      <td>Philo</td>\n",
       "    </tr>\n",
       "  </tbody>\n",
       "</table>\n",
       "</div>"
      ],
      "text/plain": [
       "      avg_label  avg_pred_score  num_pairs           merchant_cleo  \\\n",
       "1269        1.0        0.478323       1000                  Hilton   \n",
       "1389        1.0        0.755879       1000                Key Food   \n",
       "1420        1.0        0.033268       1000        Kwik Trip / Star   \n",
       "1511        1.0        0.933250       1000    Long Horn Steakhouse   \n",
       "1567        1.0        0.996084       1000             Marshalls #   \n",
       "1578        1.0        0.573740       1000      Mc Alister''s Deli   \n",
       "1640        1.0        1.007809       1000               Microsoft   \n",
       "1724        1.0        0.929980       1000           Msi Insurance   \n",
       "1839        1.0        0.927634       1000         One Stop Stores   \n",
       "1853        1.0        0.985645       1000                  Openai   \n",
       "1896        1.0        0.457031       1000              Paramount+   \n",
       "1908        1.0        0.910517       1000                Parlevel   \n",
       "1939        1.0        0.577388       1000                  Paypal   \n",
       "1962        1.0        0.844276       1000               Pet Smart   \n",
       "2011        1.0        0.791961       1000             PlayStation   \n",
       "2032        1.0        0.987337       1000                Popshelf   \n",
       "2038        1.0        0.969326       1000      Portfolio Recovery   \n",
       "2040        1.0        0.348654       1000                Potbelly   \n",
       "2086        1.0        0.290459       1000              Quick Chek   \n",
       "2188        1.0        1.002454       1000         Robinhood Funds   \n",
       "2208        1.0        0.693136       1000     Ross Dress for Less   \n",
       "2233        1.0        0.982271       1000                   SHEIN   \n",
       "2257        1.0        0.673420       1000             Scopely Inc   \n",
       "2288        1.0        0.996890       1000                   Shaws   \n",
       "2345        1.0        0.918631       1000         Smart And Final   \n",
       "2353        1.0        0.999933       1000    Snap Finance Payment   \n",
       "2436        1.0        0.956843       1000          Spotloan Debit   \n",
       "2438        1.0        0.290972       1000                   Steam   \n",
       "2511        1.0        0.669955       1000         Super Pay Super   \n",
       "2614        1.0        0.034526       1000  The Granary Whole Food   \n",
       "2652        1.0        0.892199       1000                  TikTok   \n",
       "2659        1.0        0.756581       1000             Tiktok Shop   \n",
       "2705        1.0        0.484772       1000        Toyota Financial   \n",
       "2730        1.0        0.170244       1000                 Trybeem   \n",
       "2739        1.0        0.969689       1000               Turo Inc.   \n",
       "2746        1.0        0.923565       1000                    Unes   \n",
       "2776        1.0        0.961081       1000               Valvoline   \n",
       "2836        1.0        0.888359       1000                 Walmart   \n",
       "2858        1.0        0.983649       1000                   Wesco   \n",
       "2878        1.0        0.981084       1000                    Whop   \n",
       "2943        1.0        0.969275       1000             Xact Ccbank   \n",
       "2962        1.0        0.161364       1000                 YouTube   \n",
       "2074        1.0        0.074314        990           Pypl Paymthly   \n",
       "1148        1.0        0.350874        906         Georgia Lottery   \n",
       "2901        1.0        0.964720        897                Wmt Plus   \n",
       "790         1.0        0.242262        896      Curve Card Upgrade   \n",
       "2597        1.0        0.920852        882             Tgi Fridays   \n",
       "268         1.0        0.991862        854               Betrivers   \n",
       "1402        1.0        1.000488        854                     Ktm   \n",
       "1995        1.0        0.993427        847              Philo Inc.   \n",
       "\n",
       "               merchant_counterparty  \n",
       "1269         Hilton Hotels & Resorts  \n",
       "1389                 Key Food Stores  \n",
       "1420                       Kwik Trip  \n",
       "1511             LongHorn Steakhouse  \n",
       "1567                       Marshalls  \n",
       "1578               McAlister''s Deli  \n",
       "1640                  Microsoft Apps  \n",
       "1724  Millennial Specialty Insurance  \n",
       "1839                        One Stop  \n",
       "1853                          OpenAI  \n",
       "1896                       Paramount  \n",
       "1908                Parlevel Systems  \n",
       "1939                 Paypal Pay in 4  \n",
       "1962                        PetSmart  \n",
       "2011                Sony Playstation  \n",
       "2032                        pOpshelf  \n",
       "2038   Portfolio Recovery Associates  \n",
       "2040          Potbelly Sandwich Shop  \n",
       "2086                       QuickChek  \n",
       "2188                       Robinhood  \n",
       "2208                     Ross Stores  \n",
       "2233                           Shein  \n",
       "2257                         Scopely  \n",
       "2288                         Shaw''s  \n",
       "2345                   Smart & Final  \n",
       "2353                    Snap Finance  \n",
       "2436                        Spotloan  \n",
       "2438                  Steamgames Com  \n",
       "2511                       Super Pay  \n",
       "2614                     Whole Foods  \n",
       "2652                          Tiktok  \n",
       "2659                          Tiktok  \n",
       "2705                          Toyota  \n",
       "2730                Beem App Trybeem  \n",
       "2739                Turo Inc Trip Ma  \n",
       "2746                  Unest Holdings  \n",
       "2776    Valvoline Instant Oil Change  \n",
       "2836                        Walmart+  \n",
       "2858             WESCO International  \n",
       "2878                    Whop Com Pay  \n",
       "2943                Xact Ccbankpayme  \n",
       "2962                    Youtube G.co  \n",
       "2074                            Pypl  \n",
       "1148                GA Lottery iHope  \n",
       "2901                        Walmart+  \n",
       "790                          Upgrade  \n",
       "2597                   TGI Friday''s  \n",
       "268                    Betrivers Har  \n",
       "1402                             KTM  \n",
       "1995                           Philo  "
      ]
     },
     "execution_count": 111,
     "metadata": {},
     "output_type": "execute_result"
    }
   ],
   "source": [
    "df_predictions_by_pairs[50:100]"
   ]
  },
  {
   "cell_type": "code",
   "execution_count": null,
   "metadata": {},
   "outputs": [],
   "source": [
    "df_predictions_by_pairs['']"
   ]
  },
  {
   "cell_type": "code",
   "execution_count": null,
   "metadata": {},
   "outputs": [],
   "source": []
  },
  {
   "cell_type": "code",
   "execution_count": 64,
   "metadata": {},
   "outputs": [
    {
     "data": {
      "text/plain": [
       "['_Cava', '_LLC', '_C R H Catering']"
      ]
     },
     "execution_count": 64,
     "metadata": {},
     "output_type": "execute_result"
    }
   ],
   "source": [
    "list_counterparty_merchants_in_test = df_predictions_by_pairs['merchant_counterparty'].tolist()\n",
    "list_counterparty_merchants_in_test"
   ]
  },
  {
   "cell_type": "code",
   "execution_count": null,
   "metadata": {},
   "outputs": [],
   "source": [
    "list_cleo_merchants_in_test = df_predictions_by_pairs['merchant_cleo'].tolist()\n",
    "list_cleo_merchants_in_test"
   ]
  },
  {
   "cell_type": "markdown",
   "metadata": {},
   "source": [
    "# Look at all the original mapping of duplicates to Cleo merchants. If the merchant was not present in the initial data, it will not be there"
   ]
  },
  {
   "cell_type": "code",
   "execution_count": null,
   "metadata": {},
   "outputs": [],
   "source": []
  },
  {
   "cell_type": "markdown",
   "metadata": {},
   "source": [
    "# Load the "
   ]
  },
  {
   "cell_type": "code",
   "execution_count": null,
   "metadata": {},
   "outputs": [
    {
     "data": {
      "text/html": [
       "<div>\n",
       "<style scoped>\n",
       "    .dataframe tbody tr th:only-of-type {\n",
       "        vertical-align: middle;\n",
       "    }\n",
       "\n",
       "    .dataframe tbody tr th {\n",
       "        vertical-align: top;\n",
       "    }\n",
       "\n",
       "    .dataframe thead th {\n",
       "        text-align: right;\n",
       "    }\n",
       "</style>\n",
       "<table border=\"1\" class=\"dataframe\">\n",
       "  <thead>\n",
       "    <tr style=\"text-align: right;\">\n",
       "      <th></th>\n",
       "      <th>true_merchant_name_combined</th>\n",
       "      <th>cnt_original_merchants</th>\n",
       "      <th>original_merchant_name_combined_list</th>\n",
       "      <th>original_merchant_name_combined_list_cln</th>\n",
       "      <th>true_merchant_name_combined_embedding</th>\n",
       "    </tr>\n",
       "  </thead>\n",
       "  <tbody>\n",
       "    <tr>\n",
       "      <th>0</th>\n",
       "      <td>76 Gas Stations</td>\n",
       "      <td>80</td>\n",
       "      <td>[76 Lake Streetmount Shastaca, 76 Nw Ntb So Rc...</td>\n",
       "      <td>76 Lake Streetmount Shastaca</td>\n",
       "      <td>[1.3889267444610596, 0.32924503087997437, 0.42...</td>\n",
       "    </tr>\n",
       "    <tr>\n",
       "      <th>0</th>\n",
       "      <td>76 Gas Stations</td>\n",
       "      <td>80</td>\n",
       "      <td>[76 Lake Streetmount Shastaca, 76 Nw Ntb So Rc...</td>\n",
       "      <td>76 Nw Ntb So Rch Cucamonga</td>\n",
       "      <td>[1.3889267444610596, 0.32924503087997437, 0.42...</td>\n",
       "    </tr>\n",
       "    <tr>\n",
       "      <th>0</th>\n",
       "      <td>76 Gas Stations</td>\n",
       "      <td>80</td>\n",
       "      <td>[76 Lake Streetmount Shastaca, 76 Nw Ntb So Rc...</td>\n",
       "      <td>76 Trestle Station</td>\n",
       "      <td>[1.3889267444610596, 0.32924503087997437, 0.42...</td>\n",
       "    </tr>\n",
       "    <tr>\n",
       "      <th>0</th>\n",
       "      <td>76 Gas Stations</td>\n",
       "      <td>80</td>\n",
       "      <td>[76 Lake Streetmount Shastaca, 76 Nw Ntb So Rc...</td>\n",
       "      <td>One Stop Stores</td>\n",
       "      <td>[1.3889267444610596, 0.32924503087997437, 0.42...</td>\n",
       "    </tr>\n",
       "    <tr>\n",
       "      <th>0</th>\n",
       "      <td>76 Gas Stations</td>\n",
       "      <td>80</td>\n",
       "      <td>[76 Lake Streetmount Shastaca, 76 Nw Ntb So Rc...</td>\n",
       "      <td>76 Rons Oil Co 5 Myrtle Point</td>\n",
       "      <td>[1.3889267444610596, 0.32924503087997437, 0.42...</td>\n",
       "    </tr>\n",
       "  </tbody>\n",
       "</table>\n",
       "</div>"
      ],
      "text/plain": [
       "  true_merchant_name_combined  cnt_original_merchants  \\\n",
       "0             76 Gas Stations                      80   \n",
       "0             76 Gas Stations                      80   \n",
       "0             76 Gas Stations                      80   \n",
       "0             76 Gas Stations                      80   \n",
       "0             76 Gas Stations                      80   \n",
       "\n",
       "                original_merchant_name_combined_list  \\\n",
       "0  [76 Lake Streetmount Shastaca, 76 Nw Ntb So Rc...   \n",
       "0  [76 Lake Streetmount Shastaca, 76 Nw Ntb So Rc...   \n",
       "0  [76 Lake Streetmount Shastaca, 76 Nw Ntb So Rc...   \n",
       "0  [76 Lake Streetmount Shastaca, 76 Nw Ntb So Rc...   \n",
       "0  [76 Lake Streetmount Shastaca, 76 Nw Ntb So Rc...   \n",
       "\n",
       "  original_merchant_name_combined_list_cln  \\\n",
       "0             76 Lake Streetmount Shastaca   \n",
       "0               76 Nw Ntb So Rch Cucamonga   \n",
       "0                       76 Trestle Station   \n",
       "0                          One Stop Stores   \n",
       "0            76 Rons Oil Co 5 Myrtle Point   \n",
       "\n",
       "               true_merchant_name_combined_embedding  \n",
       "0  [1.3889267444610596, 0.32924503087997437, 0.42...  \n",
       "0  [1.3889267444610596, 0.32924503087997437, 0.42...  \n",
       "0  [1.3889267444610596, 0.32924503087997437, 0.42...  \n",
       "0  [1.3889267444610596, 0.32924503087997437, 0.42...  \n",
       "0  [1.3889267444610596, 0.32924503087997437, 0.42...  "
      ]
     },
     "execution_count": 66,
     "metadata": {},
     "output_type": "execute_result"
    }
   ],
   "source": [
    "df_merchants_dups_embeddings = wr.s3.read_parquet(\"s3://cleo-data-science/transaction_enrichment/experimental_data/caste/embedding_predictions/model9/checkpoint-7800/duplicate_merchant_embeddings_cons_2024-05-15_2024-05-18_1.parquet\")\n",
    "df_merchants_dups_embeddings_exploded = df_merchants_dups_embeddings.explode('original_merchant_name_combined_list_cln')\n",
    "df_merchants_dups_embeddings_exploded.head()"
   ]
  },
  {
   "cell_type": "code",
   "execution_count": null,
   "metadata": {},
   "outputs": [
    {
     "data": {
      "text/html": [
       "<div>\n",
       "<style scoped>\n",
       "    .dataframe tbody tr th:only-of-type {\n",
       "        vertical-align: middle;\n",
       "    }\n",
       "\n",
       "    .dataframe tbody tr th {\n",
       "        vertical-align: top;\n",
       "    }\n",
       "\n",
       "    .dataframe thead th {\n",
       "        text-align: right;\n",
       "    }\n",
       "</style>\n",
       "<table border=\"1\" class=\"dataframe\">\n",
       "  <thead>\n",
       "    <tr style=\"text-align: right;\">\n",
       "      <th></th>\n",
       "      <th>true_merchant_name_combined</th>\n",
       "      <th>cnt_original_merchants</th>\n",
       "      <th>original_merchant_name_combined_list</th>\n",
       "      <th>original_merchant_name_combined_list_cln</th>\n",
       "      <th>true_merchant_name_combined_embedding</th>\n",
       "    </tr>\n",
       "  </thead>\n",
       "  <tbody>\n",
       "  </tbody>\n",
       "</table>\n",
       "</div>"
      ],
      "text/plain": [
       "Empty DataFrame\n",
       "Columns: [true_merchant_name_combined, cnt_original_merchants, original_merchant_name_combined_list, original_merchant_name_combined_list_cln, true_merchant_name_combined_embedding]\n",
       "Index: []"
      ]
     },
     "execution_count": 68,
     "metadata": {},
     "output_type": "execute_result"
    }
   ],
   "source": [
    "df_merchants_dups_embeddings_exploded[df_merchants_dups_embeddings_exploded['true_merchant_name_combined'].isin(list_counterparty_merchants_in_test)]"
   ]
  },
  {
   "cell_type": "code",
   "execution_count": null,
   "metadata": {},
   "outputs": [],
   "source": [
    "df_merchants_dups_embeddings_exploded[df_merchants_dups_embeddings_exploded['original_merchant_name_combined_list_cln'].isin(list_cleo_merchants_in_test)]"
   ]
  },
  {
   "cell_type": "code",
   "execution_count": null,
   "metadata": {},
   "outputs": [],
   "source": []
  },
  {
   "cell_type": "code",
   "execution_count": 43,
   "metadata": {},
   "outputs": [
    {
     "data": {
      "text/html": [
       "<div>\n",
       "<style scoped>\n",
       "    .dataframe tbody tr th:only-of-type {\n",
       "        vertical-align: middle;\n",
       "    }\n",
       "\n",
       "    .dataframe tbody tr th {\n",
       "        vertical-align: top;\n",
       "    }\n",
       "\n",
       "    .dataframe thead th {\n",
       "        text-align: right;\n",
       "    }\n",
       "</style>\n",
       "<table border=\"1\" class=\"dataframe\">\n",
       "  <thead>\n",
       "    <tr style=\"text-align: right;\">\n",
       "      <th></th>\n",
       "      <th>predictions</th>\n",
       "      <th>label</th>\n",
       "    </tr>\n",
       "  </thead>\n",
       "  <tbody>\n",
       "    <tr>\n",
       "      <th>624</th>\n",
       "      <td>0.003870</td>\n",
       "      <td>0.0</td>\n",
       "    </tr>\n",
       "    <tr>\n",
       "      <th>625</th>\n",
       "      <td>0.024145</td>\n",
       "      <td>0.0</td>\n",
       "    </tr>\n",
       "    <tr>\n",
       "      <th>626</th>\n",
       "      <td>0.022983</td>\n",
       "      <td>0.0</td>\n",
       "    </tr>\n",
       "    <tr>\n",
       "      <th>627</th>\n",
       "      <td>0.020101</td>\n",
       "      <td>0.0</td>\n",
       "    </tr>\n",
       "    <tr>\n",
       "      <th>628</th>\n",
       "      <td>0.045976</td>\n",
       "      <td>0.0</td>\n",
       "    </tr>\n",
       "    <tr>\n",
       "      <th>629</th>\n",
       "      <td>0.025374</td>\n",
       "      <td>0.0</td>\n",
       "    </tr>\n",
       "    <tr>\n",
       "      <th>630</th>\n",
       "      <td>0.025328</td>\n",
       "      <td>0.0</td>\n",
       "    </tr>\n",
       "    <tr>\n",
       "      <th>631</th>\n",
       "      <td>0.034483</td>\n",
       "      <td>0.0</td>\n",
       "    </tr>\n",
       "    <tr>\n",
       "      <th>632</th>\n",
       "      <td>0.021733</td>\n",
       "      <td>0.0</td>\n",
       "    </tr>\n",
       "    <tr>\n",
       "      <th>633</th>\n",
       "      <td>0.025588</td>\n",
       "      <td>0.0</td>\n",
       "    </tr>\n",
       "    <tr>\n",
       "      <th>634</th>\n",
       "      <td>0.110999</td>\n",
       "      <td>0.0</td>\n",
       "    </tr>\n",
       "    <tr>\n",
       "      <th>635</th>\n",
       "      <td>0.032883</td>\n",
       "      <td>0.0</td>\n",
       "    </tr>\n",
       "    <tr>\n",
       "      <th>636</th>\n",
       "      <td>0.013572</td>\n",
       "      <td>0.0</td>\n",
       "    </tr>\n",
       "    <tr>\n",
       "      <th>637</th>\n",
       "      <td>0.080013</td>\n",
       "      <td>0.0</td>\n",
       "    </tr>\n",
       "    <tr>\n",
       "      <th>638</th>\n",
       "      <td>0.051753</td>\n",
       "      <td>0.0</td>\n",
       "    </tr>\n",
       "    <tr>\n",
       "      <th>639</th>\n",
       "      <td>0.019349</td>\n",
       "      <td>0.0</td>\n",
       "    </tr>\n",
       "    <tr>\n",
       "      <th>640</th>\n",
       "      <td>0.103064</td>\n",
       "      <td>0.0</td>\n",
       "    </tr>\n",
       "    <tr>\n",
       "      <th>641</th>\n",
       "      <td>0.055520</td>\n",
       "      <td>0.0</td>\n",
       "    </tr>\n",
       "  </tbody>\n",
       "</table>\n",
       "</div>"
      ],
      "text/plain": [
       "     predictions  label\n",
       "624     0.003870    0.0\n",
       "625     0.024145    0.0\n",
       "626     0.022983    0.0\n",
       "627     0.020101    0.0\n",
       "628     0.045976    0.0\n",
       "629     0.025374    0.0\n",
       "630     0.025328    0.0\n",
       "631     0.034483    0.0\n",
       "632     0.021733    0.0\n",
       "633     0.025588    0.0\n",
       "634     0.110999    0.0\n",
       "635     0.032883    0.0\n",
       "636     0.013572    0.0\n",
       "637     0.080013    0.0\n",
       "638     0.051753    0.0\n",
       "639     0.019349    0.0\n",
       "640     0.103064    0.0\n",
       "641     0.055520    0.0"
      ]
     },
     "execution_count": 43,
     "metadata": {},
     "output_type": "execute_result"
    }
   ],
   "source": [
    "df_predictions[df_predictions['label']==0]"
   ]
  },
  {
   "cell_type": "code",
   "execution_count": null,
   "metadata": {},
   "outputs": [],
   "source": []
  },
  {
   "cell_type": "code",
   "execution_count": null,
   "metadata": {},
   "outputs": [],
   "source": []
  },
  {
   "cell_type": "code",
   "execution_count": null,
   "metadata": {},
   "outputs": [],
   "source": []
  },
  {
   "cell_type": "code",
   "execution_count": 41,
   "metadata": {},
   "outputs": [
    {
     "data": {
      "text/plain": [
       "1000"
      ]
     },
     "execution_count": 41,
     "metadata": {},
     "output_type": "execute_result"
    }
   ],
   "source": [
    "len(ds_test_small)"
   ]
  },
  {
   "cell_type": "code",
   "execution_count": 40,
   "metadata": {},
   "outputs": [
    {
     "data": {
      "text/plain": [
       "982.0"
      ]
     },
     "execution_count": 40,
     "metadata": {},
     "output_type": "execute_result"
    }
   ],
   "source": [
    "df_predictions['label'].sum()"
   ]
  },
  {
   "cell_type": "code",
   "execution_count": 35,
   "metadata": {},
   "outputs": [
    {
     "data": {
      "text/html": [
       "\n",
       "    <div>\n",
       "      \n",
       "      <progress value='105' max='15099' style='width:300px; height:20px; vertical-align: middle;'></progress>\n",
       "      [  105/15099 00:44 < 1:49:05, 2.29 it/s, Epoch 0.01/1]\n",
       "    </div>\n",
       "    <table border=\"1\" class=\"dataframe\">\n",
       "  <thead>\n",
       " <tr style=\"text-align: left;\">\n",
       "      <th>Step</th>\n",
       "      <th>Training Loss</th>\n",
       "      <th>Validation Loss</th>\n",
       "    </tr>\n",
       "  </thead>\n",
       "  <tbody>\n",
       "  </tbody>\n",
       "</table><p>"
      ],
      "text/plain": [
       "<IPython.core.display.HTML object>"
      ]
     },
     "metadata": {},
     "output_type": "display_data"
    }
   ],
   "source": [
    "trainer.train()"
   ]
  },
  {
   "cell_type": "code",
   "execution_count": null,
   "metadata": {},
   "outputs": [],
   "source": []
  },
  {
   "cell_type": "code",
   "execution_count": null,
   "metadata": {},
   "outputs": [],
   "source": [
    "def compute_metrics(eval_pred):\n",
    "    logits, labels = eval_pred\n",
    "    predictions = np.argmax(logits, axis=-1)\n",
    "    return metric.compute(predictions=predictions, references=labels)"
   ]
  },
  {
   "cell_type": "code",
   "execution_count": null,
   "metadata": {},
   "outputs": [],
   "source": [
    "trainer = Trainer(\n",
    "    model=model,\n",
    "    args=training_args,\n",
    "    #train_dataset=tokenized_ds_train,\n",
    "    eval_dataset=tokenized_ds_val,\n",
    "    compute_metrics=compute_metrics,\n",
    ")"
   ]
  },
  {
   "cell_type": "code",
   "execution_count": null,
   "metadata": {},
   "outputs": [
    {
     "data": {
      "text/plain": [
       "237500"
      ]
     },
     "execution_count": 57,
     "metadata": {},
     "output_type": "execute_result"
    }
   ],
   "source": [
    "len(tokenized_ds_val)"
   ]
  },
  {
   "cell_type": "code",
   "execution_count": null,
   "metadata": {},
   "outputs": [
    {
     "data": {
      "text/plain": [
       "237500"
      ]
     },
     "execution_count": 58,
     "metadata": {},
     "output_type": "execute_result"
    }
   ],
   "source": [
    "len(tokenized_ds_val['label'])"
   ]
  },
  {
   "cell_type": "code",
   "execution_count": null,
   "metadata": {},
   "outputs": [
    {
     "data": {
      "application/vnd.jupyter.widget-view+json": {
       "model_id": "d63b21fc407b4ac9887b3799df678a83",
       "version_major": 2,
       "version_minor": 0
      },
      "text/plain": [
       "Map:   0%|          | 0/10 [00:00<?, ? examples/s]"
      ]
     },
     "metadata": {},
     "output_type": "display_data"
    }
   ],
   "source": [
    "n_samples_small = 10\n",
    "ds_val_small = Dataset.from_pandas(df_val[[label_col,text_col]][0:n_samples_small])\n",
    "tokenized_ds_val_small = ds_val_small.map(tokenize_function, batched=True)"
   ]
  },
  {
   "cell_type": "code",
   "execution_count": null,
   "metadata": {},
   "outputs": [
    {
     "name": "stderr",
     "output_type": "stream",
     "text": [
      "/opt/conda/lib/python3.10/site-packages/huggingface_hub/file_download.py:1132: FutureWarning: `resume_download` is deprecated and will be removed in version 1.0.0. Downloads always resume when possible. If you want to force a new download, use `force_download=True`.\n",
      "  warnings.warn(\n",
      "Some weights of BertForSequenceClassification were not initialized from the model checkpoint at google-bert/bert-base-cased and are newly initialized: ['classifier.bias', 'classifier.weight']\n",
      "You should probably TRAIN this model on a down-stream task to be able to use it for predictions and inference.\n"
     ]
    }
   ],
   "source": [
    "base_model = AutoModelForSequenceClassification.from_pretrained(model_name, num_labels=1)\n",
    "trainer_base = Trainer(\n",
    "    model=base_model,\n",
    "    args=training_args,\n",
    "    #train_dataset=tokenized_ds_train,\n",
    "    eval_dataset=tokenized_ds_val,\n",
    "    compute_metrics=compute_metrics,\n",
    ")"
   ]
  },
  {
   "cell_type": "code",
   "execution_count": null,
   "metadata": {},
   "outputs": [
    {
     "data": {
      "text/html": [],
      "text/plain": [
       "<IPython.core.display.HTML object>"
      ]
     },
     "metadata": {},
     "output_type": "display_data"
    }
   ],
   "source": [
    "predictions_original = trainer_base.predict(tokenized_ds_val_small)"
   ]
  },
  {
   "cell_type": "code",
   "execution_count": null,
   "metadata": {},
   "outputs": [
    {
     "data": {
      "text/plain": [
       "PredictionOutput(predictions=array([[-0.09304377],\n",
       "       [-0.06542447],\n",
       "       [-0.1722931 ],\n",
       "       [-0.11078063],\n",
       "       [-0.1245597 ],\n",
       "       [-0.16795816],\n",
       "       [-0.11878139],\n",
       "       [-0.12492839],\n",
       "       [-0.20494896],\n",
       "       [-0.19127694]], dtype=float32), label_ids=array([1., 1., 1., 0., 0., 0., 0., 0., 0., 1.], dtype=float32), metrics={'test_loss': 0.5251002907752991, 'test_accuracy': 0.6, 'test_runtime': 0.107, 'test_samples_per_second': 93.5, 'test_steps_per_second': 9.35})"
      ]
     },
     "execution_count": 80,
     "metadata": {},
     "output_type": "execute_result"
    }
   ],
   "source": [
    "predictions_original"
   ]
  },
  {
   "cell_type": "code",
   "execution_count": null,
   "metadata": {},
   "outputs": [
    {
     "data": {
      "text/html": [
       "\n",
       "    <div>\n",
       "      \n",
       "      <progress value='1' max='1' style='width:300px; height:20px; vertical-align: middle;'></progress>\n",
       "      [1/1 : < :]\n",
       "    </div>\n",
       "    "
      ],
      "text/plain": [
       "<IPython.core.display.HTML object>"
      ]
     },
     "metadata": {},
     "output_type": "display_data"
    }
   ],
   "source": [
    "predictions = trainer.predict(tokenized_ds_val_small)"
   ]
  },
  {
   "cell_type": "code",
   "execution_count": null,
   "metadata": {},
   "outputs": [
    {
     "data": {
      "text/plain": [
       "[1.0, 1.0, 1.0, 0.0, 0.0, 0.0, 0.0, 0.0, 0.0, 1.0]"
      ]
     },
     "execution_count": 98,
     "metadata": {},
     "output_type": "execute_result"
    }
   ],
   "source": [
    "tokenized_ds_val_small['label']"
   ]
  },
  {
   "cell_type": "code",
   "execution_count": null,
   "metadata": {},
   "outputs": [
    {
     "data": {
      "text/plain": [
       "[1.0, 1.0, 1.0, 0.0, 0.0, 0.0, 0.0, 0.0, 0.0, 1.0]"
      ]
     },
     "execution_count": 101,
     "metadata": {},
     "output_type": "execute_result"
    }
   ],
   "source": []
  },
  {
   "cell_type": "code",
   "execution_count": null,
   "metadata": {},
   "outputs": [
    {
     "data": {
      "text/plain": [
       "array([[ 0.9968817 ],\n",
       "       [ 0.9926137 ],\n",
       "       [ 0.99886316],\n",
       "       [-0.04816552],\n",
       "       [-0.03600875],\n",
       "       [-0.02542846],\n",
       "       [-0.03979023],\n",
       "       [-0.05198553],\n",
       "       [-0.03755949],\n",
       "       [ 0.9915965 ]], dtype=float32)"
      ]
     },
     "execution_count": 96,
     "metadata": {},
     "output_type": "execute_result"
    }
   ],
   "source": [
    "predictions[0]"
   ]
  },
  {
   "cell_type": "code",
   "execution_count": null,
   "metadata": {},
   "outputs": [],
   "source": [
    "metric = evaluate.load(\"accuracy\")\n"
   ]
  },
  {
   "cell_type": "code",
   "execution_count": null,
   "metadata": {},
   "outputs": [
    {
     "data": {
      "text/plain": [
       "Dataset({\n",
       "    features: ['label', 'text', 'transaction_id'],\n",
       "    num_rows: 10\n",
       "})"
      ]
     },
     "execution_count": 124,
     "metadata": {},
     "output_type": "execute_result"
    }
   ],
   "source": [
    "ds_val_small"
   ]
  },
  {
   "cell_type": "code",
   "execution_count": null,
   "metadata": {},
   "outputs": [
    {
     "data": {
      "text/html": [
       "<div>\n",
       "<style scoped>\n",
       "    .dataframe tbody tr th:only-of-type {\n",
       "        vertical-align: middle;\n",
       "    }\n",
       "\n",
       "    .dataframe tbody tr th {\n",
       "        vertical-align: top;\n",
       "    }\n",
       "\n",
       "    .dataframe thead th {\n",
       "        text-align: right;\n",
       "    }\n",
       "</style>\n",
       "<table border=\"1\" class=\"dataframe\">\n",
       "  <thead>\n",
       "    <tr style=\"text-align: right;\">\n",
       "      <th></th>\n",
       "      <th>predictions</th>\n",
       "      <th>label</th>\n",
       "      <th>transaction_id</th>\n",
       "    </tr>\n",
       "  </thead>\n",
       "  <tbody>\n",
       "    <tr>\n",
       "      <th>0</th>\n",
       "      <td>0.996882</td>\n",
       "      <td>1.0</td>\n",
       "      <td>9803401833</td>\n",
       "    </tr>\n",
       "    <tr>\n",
       "      <th>1</th>\n",
       "      <td>0.992614</td>\n",
       "      <td>1.0</td>\n",
       "      <td>9897551358</td>\n",
       "    </tr>\n",
       "    <tr>\n",
       "      <th>2</th>\n",
       "      <td>0.998863</td>\n",
       "      <td>1.0</td>\n",
       "      <td>9785988152</td>\n",
       "    </tr>\n",
       "    <tr>\n",
       "      <th>3</th>\n",
       "      <td>-0.048166</td>\n",
       "      <td>0.0</td>\n",
       "      <td>9700042820</td>\n",
       "    </tr>\n",
       "    <tr>\n",
       "      <th>4</th>\n",
       "      <td>-0.036009</td>\n",
       "      <td>0.0</td>\n",
       "      <td>9987316761</td>\n",
       "    </tr>\n",
       "    <tr>\n",
       "      <th>5</th>\n",
       "      <td>-0.025428</td>\n",
       "      <td>0.0</td>\n",
       "      <td>9959855172</td>\n",
       "    </tr>\n",
       "    <tr>\n",
       "      <th>6</th>\n",
       "      <td>-0.039790</td>\n",
       "      <td>0.0</td>\n",
       "      <td>9713836600</td>\n",
       "    </tr>\n",
       "    <tr>\n",
       "      <th>7</th>\n",
       "      <td>-0.051986</td>\n",
       "      <td>0.0</td>\n",
       "      <td>9805702198</td>\n",
       "    </tr>\n",
       "    <tr>\n",
       "      <th>8</th>\n",
       "      <td>-0.037559</td>\n",
       "      <td>0.0</td>\n",
       "      <td>9915227855</td>\n",
       "    </tr>\n",
       "    <tr>\n",
       "      <th>9</th>\n",
       "      <td>0.991597</td>\n",
       "      <td>1.0</td>\n",
       "      <td>9859792831</td>\n",
       "    </tr>\n",
       "  </tbody>\n",
       "</table>\n",
       "</div>"
      ],
      "text/plain": [
       "   predictions  label  transaction_id\n",
       "0     0.996882    1.0      9803401833\n",
       "1     0.992614    1.0      9897551358\n",
       "2     0.998863    1.0      9785988152\n",
       "3    -0.048166    0.0      9700042820\n",
       "4    -0.036009    0.0      9987316761\n",
       "5    -0.025428    0.0      9959855172\n",
       "6    -0.039790    0.0      9713836600\n",
       "7    -0.051986    0.0      9805702198\n",
       "8    -0.037559    0.0      9915227855\n",
       "9     0.991597    1.0      9859792831"
      ]
     },
     "execution_count": 129,
     "metadata": {},
     "output_type": "execute_result"
    }
   ],
   "source": [
    "df_predictions = pd.DataFrame(predictions[0], columns=['predictions'])\n",
    "df_predictions['label'] = ds_val_small['label']\n",
    "df_predictions['transaction_id'] = ds_val_small['transaction_id']\n",
    "#df_predictions.set_index('transaction_id', inplace=True)\n",
    "df_predictions\n"
   ]
  },
  {
   "cell_type": "code",
   "execution_count": null,
   "metadata": {},
   "outputs": [
    {
     "name": "stdout",
     "output_type": "stream",
     "text": [
      "1.0\n",
      "Precision 1.0 Recall 1.0\n"
     ]
    }
   ],
   "source": [
    "th = 0.5\n",
    "pred_acc = (1*(df_predictions['predictions']>0.5) == df_predictions['label']).sum()/df_predictions.shape[0]\n",
    "true_positives = df_predictions[(df_predictions['label']==1) & (df_predictions['predictions']>=th)].shape[0]\n",
    "false_positives  = df_predictions[(df_predictions['label']==0) & (df_predictions['predictions']>=th)].shape[0]\n",
    "pred_precision = true_positives/(true_positives+false_positives)\n",
    "false_negatives = df_predictions[(df_predictions['label']==1) & (df_predictions['predictions']<th)].shape[0]\n",
    "print(pred_precision)\n",
    "pred_recall = true_positives/(true_positives + false_negatives)\n",
    "print(f\"Precision {pred_precision} Recall {pred_recall}\")\n"
   ]
  },
  {
   "cell_type": "code",
   "execution_count": null,
   "metadata": {},
   "outputs": [
    {
     "data": {
      "text/plain": [
       "'s3://cleo-data-science/transaction_enrichment/experimental_data/caste/predictions_dedup/small_dataset'"
      ]
     },
     "execution_count": 127,
     "metadata": {},
     "output_type": "execute_result"
    }
   ],
   "source": [
    "path_s3_output = \"s3://cleo-data-science/transaction_enrichment/experimental_data/caste/predictions_dedup/\"\n",
    "fname_s3_out = path_s3_output+\"small_dataset\"\n",
    "wr.s3.to_parquet(df_predictions, fname_s3_out)\n",
    "print(fname_s3_out)"
   ]
  },
  {
   "cell_type": "code",
   "execution_count": null,
   "metadata": {},
   "outputs": [],
   "source": [
    "# write predictions to s3 bucket\n"
   ]
  },
  {
   "cell_type": "code",
   "execution_count": null,
   "metadata": {},
   "outputs": [
    {
     "data": {
      "text/plain": [
       "10"
      ]
     },
     "execution_count": 118,
     "metadata": {},
     "output_type": "execute_result"
    }
   ],
   "source": [
    "len(ds_val_small['label'])"
   ]
  },
  {
   "cell_type": "code",
   "execution_count": null,
   "metadata": {},
   "outputs": [
    {
     "data": {
      "text/plain": [
       "array([[1],\n",
       "       [1],\n",
       "       [1],\n",
       "       [0],\n",
       "       [0],\n",
       "       [0],\n",
       "       [0],\n",
       "       [0],\n",
       "       [0],\n",
       "       [1]])"
      ]
     },
     "execution_count": 119,
     "metadata": {},
     "output_type": "execute_result"
    }
   ],
   "source": [
    "1*(predictions[0]>0.5)"
   ]
  },
  {
   "cell_type": "code",
   "execution_count": null,
   "metadata": {},
   "outputs": [
    {
     "data": {
      "text/plain": [
       "{'accuracy': 1.0}"
      ]
     },
     "execution_count": 120,
     "metadata": {},
     "output_type": "execute_result"
    }
   ],
   "source": [
    "metric.compute(predictions=1*(predictions[0]>0.5), references=ds_val_small['label'])"
   ]
  },
  {
   "cell_type": "code",
   "execution_count": null,
   "metadata": {},
   "outputs": [
    {
     "data": {
      "text/plain": [
       "PredictionOutput(predictions=array([[ 0.9968817 ],\n",
       "       [ 0.9926137 ],\n",
       "       [ 0.99886316],\n",
       "       [-0.04816552],\n",
       "       [-0.03600875],\n",
       "       [-0.02542846],\n",
       "       [-0.03979023],\n",
       "       [-0.05198553],\n",
       "       [-0.03755949],\n",
       "       [ 0.9915965 ]], dtype=float32), label_ids=array([1., 1., 1., 0., 0., 0., 0., 0., 0., 1.], dtype=float32), metrics={'test_loss': 0.0010095818433910608, 'test_accuracy': 0.6, 'test_runtime': 0.1039, 'test_samples_per_second': 96.289, 'test_steps_per_second': 9.629})"
      ]
     },
     "execution_count": 90,
     "metadata": {},
     "output_type": "execute_result"
    }
   ],
   "source": [
    "predictions"
   ]
  },
  {
   "cell_type": "code",
   "execution_count": null,
   "metadata": {},
   "outputs": [
    {
     "data": {
      "text/plain": [
       "{'label': 0.0,\n",
       " 'text': 'RDS VENDING, LLC PHILADELPHIA [SEP] Rds Vending [SEP] Calmal Vending',\n",
       " 'transaction_id': 9915227855}"
      ]
     },
     "execution_count": 94,
     "metadata": {},
     "output_type": "execute_result"
    }
   ],
   "source": [
    "ds_val_small[8]"
   ]
  },
  {
   "cell_type": "code",
   "execution_count": null,
   "metadata": {},
   "outputs": [],
   "source": []
  },
  {
   "cell_type": "code",
   "execution_count": null,
   "metadata": {},
   "outputs": [
    {
     "data": {
      "text/plain": [
       "array([[ 0.9968817 ],\n",
       "       [ 0.9926137 ],\n",
       "       [ 0.99886316],\n",
       "       [-0.04816552],\n",
       "       [-0.03600875],\n",
       "       [-0.02542846],\n",
       "       [-0.03979023],\n",
       "       [-0.05198553],\n",
       "       [-0.03755949],\n",
       "       [ 0.9915965 ]], dtype=float32)"
      ]
     },
     "execution_count": 82,
     "metadata": {},
     "output_type": "execute_result"
    }
   ],
   "source": [
    "predictions[0]"
   ]
  },
  {
   "cell_type": "code",
   "execution_count": null,
   "metadata": {},
   "outputs": [
    {
     "data": {
      "text/plain": [
       "{'label': 1.0,\n",
       " 'text': 'Betmgm Online [SEP] BetMGM.com [SEP] BetMGM',\n",
       " 'transaction_id': 9803401833}"
      ]
     },
     "execution_count": 69,
     "metadata": {},
     "output_type": "execute_result"
    }
   ],
   "source": [
    "ds_val_small[0]"
   ]
  },
  {
   "cell_type": "code",
   "execution_count": null,
   "metadata": {},
   "outputs": [
    {
     "data": {
      "text/plain": [
       "3"
      ]
     },
     "execution_count": 62,
     "metadata": {},
     "output_type": "execute_result"
    }
   ],
   "source": [
    "len(predictions)"
   ]
  },
  {
   "cell_type": "code",
   "execution_count": null,
   "metadata": {},
   "outputs": [
    {
     "data": {
      "text/plain": [
       "array([[ 0.9968817 ],\n",
       "       [ 0.9926137 ],\n",
       "       [ 0.99886316],\n",
       "       [-0.04816552],\n",
       "       [-0.03600875],\n",
       "       [-0.02542846],\n",
       "       [-0.03979023],\n",
       "       [-0.05198553],\n",
       "       [-0.03755949],\n",
       "       [ 0.9915965 ]], dtype=float32)"
      ]
     },
     "execution_count": 63,
     "metadata": {},
     "output_type": "execute_result"
    }
   ],
   "source": [
    "predictions[0]"
   ]
  },
  {
   "cell_type": "code",
   "execution_count": null,
   "metadata": {},
   "outputs": [
    {
     "data": {
      "text/plain": [
       "[1.0, 1.0, 1.0, 0.0, 0.0, 0.0, 0.0, 0.0, 0.0, 1.0]"
      ]
     },
     "execution_count": 67,
     "metadata": {},
     "output_type": "execute_result"
    }
   ],
   "source": [
    "ds_val_small['label']"
   ]
  },
  {
   "cell_type": "code",
   "execution_count": null,
   "metadata": {},
   "outputs": [],
   "source": []
  },
  {
   "cell_type": "code",
   "execution_count": null,
   "metadata": {},
   "outputs": [
    {
     "data": {
      "text/plain": [
       "array([1., 1., 1., 0., 0., 0., 0., 0., 0., 1.], dtype=float32)"
      ]
     },
     "execution_count": 64,
     "metadata": {},
     "output_type": "execute_result"
    }
   ],
   "source": [
    "predictions[1]"
   ]
  },
  {
   "cell_type": "code",
   "execution_count": null,
   "metadata": {},
   "outputs": [
    {
     "data": {
      "text/plain": [
       "{'test_loss': 0.0010095818433910608,\n",
       " 'test_accuracy': 0.6,\n",
       " 'test_runtime': 0.1768,\n",
       " 'test_samples_per_second': 56.57,\n",
       " 'test_steps_per_second': 5.657}"
      ]
     },
     "execution_count": 65,
     "metadata": {},
     "output_type": "execute_result"
    }
   ],
   "source": [
    "predictions[2]"
   ]
  },
  {
   "cell_type": "code",
   "execution_count": null,
   "metadata": {},
   "outputs": [
    {
     "data": {
      "text/plain": [
       "PredictionOutput(predictions=array([[ 0.9964445 ],\n",
       "       [ 0.99798816],\n",
       "       [ 1.0009276 ],\n",
       "       ...,\n",
       "       [-0.01006407],\n",
       "       [-0.00524025],\n",
       "       [-0.00686787]], dtype=float32), label_ids=array([1., 1., 1., ..., 0., 0., 0.], dtype=float32), metrics={'test_loss': 0.006608151830732822, 'test_accuracy': 0.8007747368421053, 'test_runtime': 2329.7816, 'test_samples_per_second': 101.941, 'test_steps_per_second': 3.186})"
      ]
     },
     "execution_count": 61,
     "metadata": {},
     "output_type": "execute_result"
    }
   ],
   "source": [
    "predictions"
   ]
  },
  {
   "cell_type": "code",
   "execution_count": null,
   "metadata": {},
   "outputs": [
    {
     "ename": "NameError",
     "evalue": "name 'tokenized_datasets' is not defined",
     "output_type": "error",
     "traceback": [
      "\u001b[0;31m---------------------------------------------------------------------------\u001b[0m",
      "\u001b[0;31mNameError\u001b[0m                                 Traceback (most recent call last)",
      "\u001b[1;32m/home/sagemaker-user/exploration/MERCHANTS/Biencoder_v2_sbert_xenc_no_amoutns.ipynb Cell 42\u001b[0m line \u001b[0;36m1\n\u001b[0;32m----> <a href='vscode-notebook-cell://y7wv7jht4rw3qcj.studio.us-east-1.sagemaker.aws/home/sagemaker-user/exploration/MERCHANTS/Biencoder_v2_sbert_xenc_no_amoutns.ipynb#Y433sdnNjb2RlLXJlbW90ZQ%3D%3D?line=0'>1</a>\u001b[0m predictions \u001b[39m=\u001b[39m trainer\u001b[39m.\u001b[39mpredict(tokenized_datasets[\u001b[39m\"\u001b[39m\u001b[39mvalidation\u001b[39m\u001b[39m\"\u001b[39m])\n\u001b[1;32m      <a href='vscode-notebook-cell://y7wv7jht4rw3qcj.studio.us-east-1.sagemaker.aws/home/sagemaker-user/exploration/MERCHANTS/Biencoder_v2_sbert_xenc_no_amoutns.ipynb#Y433sdnNjb2RlLXJlbW90ZQ%3D%3D?line=1'>2</a>\u001b[0m \u001b[39mprint\u001b[39m(predictions\u001b[39m.\u001b[39mpredictions\u001b[39m.\u001b[39mshape, predictions\u001b[39m.\u001b[39mlabel_ids\u001b[39m.\u001b[39mshape)\n",
      "\u001b[0;31mNameError\u001b[0m: name 'tokenized_datasets' is not defined"
     ]
    }
   ],
   "source": [
    "\n",
    "print(predictions.predictions.shape, predictions.label_ids.shape)"
   ]
  },
  {
   "cell_type": "code",
   "execution_count": null,
   "metadata": {},
   "outputs": [],
   "source": [
    "print(\"Finish here\")"
   ]
  },
  {
   "cell_type": "code",
   "execution_count": null,
   "metadata": {},
   "outputs": [],
   "source": [
    "import torch\n",
    "from torch.utils.data import Dataset, DataLoader"
   ]
  },
  {
   "cell_type": "code",
   "execution_count": null,
   "metadata": {},
   "outputs": [],
   "source": [
    "class PandasDataset(Dataset):\n",
    "    def __init__(self, dataframe, text_col, label_col):\n",
    "        self.dataframe = dataframe\n",
    "        self.text = dataframe[text_col].values  # Assuming 'target' is the label column\n",
    "        self.labels = dataframe[label_col].values\n",
    "\n",
    "    def __len__(self):\n",
    "        return len(self.dataframe)\n",
    "\n",
    "    def __getitem__(self, idx):\n",
    "        text = self.text[idx]\n",
    "        label = self.labels[idx]\n",
    "        return text, label"
   ]
  },
  {
   "cell_type": "code",
   "execution_count": null,
   "metadata": {},
   "outputs": [
    {
     "ename": "TypeError",
     "evalue": "PandasDataset.__init__() missing 2 required positional arguments: 'text_col' and 'label_col'",
     "output_type": "error",
     "traceback": [
      "\u001b[0;31m---------------------------------------------------------------------------\u001b[0m",
      "\u001b[0;31mTypeError\u001b[0m                                 Traceback (most recent call last)",
      "\u001b[1;32m/home/sagemaker-user/exploration/MERCHANTS/Biencoder_v2_sbert_clean2.ipynb Cell 23\u001b[0m line \u001b[0;36m1\n\u001b[0;32m----> <a href='vscode-notebook-cell://mevoqhifxrgq2ey.studio.us-east-1.sagemaker.aws/home/sagemaker-user/exploration/MERCHANTS/Biencoder_v2_sbert_clean2.ipynb#X21sdnNjb2RlLXJlbW90ZQ%3D%3D?line=0'>1</a>\u001b[0m dataset \u001b[39m=\u001b[39m PandasDataset(df_data_raw)\n",
      "\u001b[0;31mTypeError\u001b[0m: PandasDataset.__init__() missing 2 required positional arguments: 'text_col' and 'label_col'"
     ]
    }
   ],
   "source": [
    "# dataset = PandasDataset(df_data_raw, )"
   ]
  },
  {
   "cell_type": "markdown",
   "metadata": {},
   "source": [
    "# Load model"
   ]
  },
  {
   "cell_type": "code",
   "execution_count": null,
   "metadata": {},
   "outputs": [
    {
     "name": "stderr",
     "output_type": "stream",
     "text": [
      "/opt/conda/lib/python3.10/site-packages/huggingface_hub/file_download.py:1132: FutureWarning: `resume_download` is deprecated and will be removed in version 1.0.0. Downloads always resume when possible. If you want to force a new download, use `force_download=True`.\n",
      "  warnings.warn(\n",
      "2024-06-18 12:39:05.971559: I tensorflow/core/platform/cpu_feature_guard.cc:182] This TensorFlow binary is optimized to use available CPU instructions in performance-critical operations.\n",
      "To enable the following instructions: SSE4.1 SSE4.2 AVX AVX2 FMA, in other operations, rebuild TensorFlow with the appropriate compiler flags.\n",
      "Some weights of BertForSequenceClassification were not initialized from the model checkpoint at bert-base-cased and are newly initialized: ['classifier.bias', 'classifier.weight']\n",
      "You should probably TRAIN this model on a down-stream task to be able to use it for predictions and inference.\n"
     ]
    }
   ],
   "source": [
    "# from transformers import AutoModelForSequenceClassification\n",
    "\n",
    "# model = AutoModelForSequenceClassification.from_pretrained(\"bert-base-cased\", num_labels=1)"
   ]
  },
  {
   "cell_type": "code",
   "execution_count": null,
   "metadata": {},
   "outputs": [
    {
     "name": "stderr",
     "output_type": "stream",
     "text": [
      "/opt/conda/lib/python3.10/site-packages/huggingface_hub/file_download.py:1132: FutureWarning: `resume_download` is deprecated and will be removed in version 1.0.0. Downloads always resume when possible. If you want to force a new download, use `force_download=True`.\n",
      "  warnings.warn(\n"
     ]
    }
   ],
   "source": [
    "# from transformers import AutoTokenizer\n",
    "\n",
    "# tokenizer = AutoTokenizer.from_pretrained(\"bert-base-cased\")\n",
    "\n",
    "\n",
    "# def tokenize_function(examples):\n",
    "#     return tokenizer(examples[\"text\"], padding=\"max_length\", truncation=True)\n",
    "\n"
   ]
  },
  {
   "cell_type": "code",
   "execution_count": null,
   "metadata": {},
   "outputs": [],
   "source": [
    "# class TokenizedPandasDataset(Dataset):\n",
    "#     def __init__(self, dataframe, tokenizer, text_column, label_column):\n",
    "#         self.dataframe = dataframe\n",
    "#         self.text = dataframe[text_column].values  # Assuming 'target' is the label column\n",
    "#         self.labels = dataframe[label_column].values\n",
    "#         self.tokenizer = tokenizer\n",
    "#         self.encodings = self.tokenizer(list(self.text), truncation=True, padding=True, max_length=128, return_tensors=\"pt\")\n",
    "\n",
    "#     def __len__(self):\n",
    "#         return len(self.dataframe)\n",
    "\n",
    "#     def __getitem__(self, idx):\n",
    "#         item = {key: val[idx] for key, val in self.encodings.items()}\n",
    "#         item['labels'] = torch.tensor(self.labels[idx], dtype=torch.long)\n",
    "#         return item\n",
    "\n",
    "\n",
    "# # Create tokenized dataset\n",
    "# #tokenized_dataset = TokenizedPandasDataset(df_data_raw, tokenizer, text_column='text', label_column='label')\n"
   ]
  },
  {
   "cell_type": "code",
   "execution_count": null,
   "metadata": {},
   "outputs": [
    {
     "name": "stdout",
     "output_type": "stream",
     "text": [
      "[('PURCHASE AUTHORIZED ON 05/14 DAIRY QUEEN # MESA AZ S CARD . Channel: in store. Amount: -7.6 [SEP] Dairy Queen [SEP] Dairy Queen', 'SEZZLE*DD DOORDASHMinneapol is MNSEZZLE*DD D. Channel: None. Amount: -11.7 [SEP] Sezzle [SEP] Ringling Market', 'DAVE INC LOS ANGELES CA 05/15. Channel: None. Amount: 125.0 [SEP] Dave Inc [SEP] Dave Inc', 'Online Banking transfer to CHK Confirmation# . Channel: None. Amount: -4.0 [SEP] Online Banking Transfer [SEP] Online Banking Transfer', 'Recurring Withdrawal Bill Payment - # Spotify USA 877- NY Card . Channel: online. Amount: -11.8 [SEP] Spotify [SEP] Food Stor', \"DUNKIN # , SHIPPENSBURG, PA. Channel: in store. Amount: -5.3 [SEP] Dunkin'' Donuts [SEP] Hyatt Resorts\", \" ZAXBY''S # HERNANDO MS**. Channel: in store. Amount: -18.1 [SEP] Zaxby''s [SEP] Brigit\", 'PURCHASE FLEX FINANCE NEW YORK NY . Channel: online. Amount: -813.5 [SEP] Flex Finance [SEP] Flex Finance'), tensor([1, 0, 1, 1, 0, 0, 0, 1])]\n",
      "[('NCIC INMATE PHONE SERVI 903- TX. Channel: online. Amount: -10.0 [SEP] Ncic Inmate Phone Serv [SEP] Top Ten Liquors Mp', \"POS PUR- 05/17 / 01:37 CASH APP*ALFRED SAN FRANCISCO CA. Channel: None. Amount: -7.7 [SEP] Cash App Alfred [SEP] Debbie''s Got The Tea\", 'Dbt Crd Aldi Westerville Oh. Channel: in store. Amount: -26.9 [SEP] Aldi [SEP] Aldi', 'AFFIRM * PAY P7AZI 05-15 855-423- CA DEBIT CARD RECURRING PYMT. Channel: None. Amount: -14.9 [SEP] Affirm [SEP] ExxonMobil', 'POS MAC BP# CAPL PARMA OH. Channel: in store. Amount: -22.5 [SEP] BP [SEP] Trail Drive Management', 'Transfer To Savings - . Channel: None. Amount: -400.0 [SEP] Savings [SEP] FloatMe', 'DEBIT CARD PURCHASE AT DD DOORDASH CHICK-, , CA ON FROM CARD#: . Channel: online. Amount: -19.6 [SEP] Chick-fil-A [SEP] Empower', 'SHELL OIL PEORIA AZ 05/14. Channel: in store. Amount: -86.2 [SEP] Shell [SEP] Empower'), tensor([0, 0, 1, 0, 0, 0, 0, 0])]\n",
      "[('POS Debit - Visa Check Card - MICROSOFT MICROSOFT XB REDMON SAMUEL L BREWER POS TRANSACTION. Channel: in store. Amount: -9.6 [SEP] Microsoft [SEP] Microsoft', 'PIZZA HUT DDA PIN POS PUR CD https://ipcha AR# . Channel: online. Amount: -15.5 [SEP] Pizza Hut [SEP] Pizza Hut', 'Google Hiya. Channel: online. Amount: -4.0 [SEP] Hiya [SEP] Express Cafe', \"WITHDRAWAL POS # MCDONALD''S F W JEFFERSON ST QUINCY FL. Channel: in store. Amount: -11.6 [SEP] McDonald''s [SEP] McDonald''s\", 'POS Withdrawal (FIP) SHEETZ SHEETZ MARENGO OH( ). Channel: in store. Amount: -5.5 [SEP] Sheetz [SEP] Sheetz', 'VOLA DES:VOLA ID: IGGBX58EG INDN:Dezmond Handy CO ID: WEB. Channel: in store. Amount: -100.0 [SEP] Vola [SEP] Mast Store Knoxville', 'NUGGET MARKET #10 ROSEVILLE CA 05/14. Channel: in store. Amount: -34.3 [SEP] Nugget Market [SEP] Chick-fil-A', 'Sp Bodycandy. Channel: in store. Amount: -12.5 [SEP] Bodycandy [SEP] Bodycandy'), tensor([1, 1, 0, 1, 1, 0, 0, 1])]\n",
      "[('Withdrawal # / EMPIRE PC KO OK 66 US CLAREMORE OK %% Card 16 # . Channel: in store. Amount: -3.2 [SEP] Empire Pc [SEP] Total Wine & More', 'SHELL OIL CHICAGO IL 05/14. Channel: in store. Amount: -4.7 [SEP] Shell [SEP] Boscovs', 'CHEVRON VENUS TX. Channel: in store. Amount: -19.9 [SEP] Chevron [SEP] Chevron', 'UBER *TRIP HELP.UBER.COM 800- CA. Channel: online. Amount: -24.0 [SEP] Uber [SEP] Uber', 'Cash App Transfer to Keyara Smith. Channel: None. Amount: -50.9 [SEP] Cash App Transfer [SEP] Cash App Transfer', 'COSTCO WHSE #0 05/15 # MOBILE PURCHASE COSTCO WHSE #06 AUSTIN TX. Channel: online. Amount: -9.2 [SEP] Costco [SEP] Costco', 'BKOFAMERICA ATM 05/15 # WITHDRWL S BAY PAVILLION AT CARSON CA. Channel: None. Amount: -20.0 [SEP] Bank of America ATM [SEP] Cash Withdrawal', 'Visa Checking INSTACASH REPAYMENT 888-659- NY Date 05/18/24 0 0 Card 15 # . Channel: None. Amount: -2.0 [SEP] MoneyLion [SEP] Fiber'), tensor([0, 0, 1, 1, 1, 1, 0, 0])]\n",
      "[('DBT CRD AFTERPAY 044- CA C# . Channel: None. Amount: -1.9 [SEP] Afterpay [SEP] Afterpay', 'FOODTOWN DAVIE FL 05/16. Channel: in store. Amount: -29.5 [SEP] Foodtown [SEP] Foodtown', 'BKOFAMERICA ATM 05/16 # DEPOSIT CONSTANT FRIENDSHI ABINGDON MD. Channel: None. Amount: 370.0 [SEP] Bank of America ATM [SEP] Bank of America ATM', 'PURCHASE AUTHORIZED ON 05/16 EL RANCHO #22 ODESSA TX P CARD . Channel: in store. Amount: -79.0 [SEP] El Rancho [SEP] Alta', 'RECURRING PAYMENT AUTHORIZED ON 05/15 ZIP* QUADPAY ANYWH 188- NY S CARD . Channel: None. Amount: -36.1 [SEP] Zip.co [SEP] Zip.co', 'POS PURCHASE POS TARGET T- Summerville SC. Channel: in store. Amount: -70.3 [SEP] Target [SEP] Target', ' PURCHASE-SIG SHELL OIL CYNTHIANA KY . Channel: in store. Amount: -20.0 [SEP] Shell [SEP] Loan', 'P2P BARCLAYS BANK DE . Channel: None. Amount: 35.0 [SEP] Barclays [SEP] Wells Fargo'), tensor([1, 1, 1, 0, 1, 1, 0, 0])]\n"
     ]
    }
   ],
   "source": [
    "# # Create DataLoader\n",
    "# dataloader = DataLoader(dataset, batch_size=8, shuffle=True)\n",
    "\n",
    "# i = 0\n",
    "# # Iterate through the DataLoader\n",
    "# for batch in dataloader:\n",
    "#     print(batch)\n",
    "#     tokenized_batch = tokenizer(batch[0], truncation=True, padding=True)\n",
    "#     i+=1\n",
    "#     if i>4:\n",
    "#         break\n"
   ]
  },
  {
   "cell_type": "code",
   "execution_count": null,
   "metadata": {},
   "outputs": [
    {
     "data": {
      "text/plain": [
       "8"
      ]
     },
     "execution_count": 44,
     "metadata": {},
     "output_type": "execute_result"
    }
   ],
   "source": [
    "len(tokenized_batch['input_ids'])"
   ]
  },
  {
   "cell_type": "code",
   "execution_count": null,
   "metadata": {},
   "outputs": [],
   "source": [
    "# i_train = 1000\n",
    "\n",
    "# small_train_dataset = PandasDataset(df_data_raw[0:i_train])\n",
    "# small_val_dataset = PandasDataset(df_data_raw[i_train:2*i_train])"
   ]
  },
  {
   "cell_type": "code",
   "execution_count": null,
   "metadata": {},
   "outputs": [
    {
     "data": {
      "text/plain": [
       "<__main__.PandasDataset at 0x7f46914583d0>"
      ]
     },
     "execution_count": 43,
     "metadata": {},
     "output_type": "execute_result"
    }
   ],
   "source": [
    "# train_small_dataloader = DataLoader(small_train_dataset, batch_size=8, shuffle=True)\n"
   ]
  },
  {
   "cell_type": "code",
   "execution_count": null,
   "metadata": {},
   "outputs": [],
   "source": [
    "# from tqdm.auto import tqdm\n",
    "\n",
    "# progress_bar = tqdm(range(num_training_steps))\n",
    "\n",
    "# model.train()\n",
    "# for epoch in range(num_epochs):\n",
    "#     for batch in train_dataloader:\n",
    "#         batch = {k: v.to(device) for k, v in batch.items()}\n",
    "#         outputs = model(**batch)\n",
    "#         loss = outputs.loss\n",
    "#         loss.backward()\n",
    "\n",
    "#         optimizer.step()\n",
    "#         lr_scheduler.step()\n",
    "#         optimizer.zero_grad()\n",
    "#         progress_bar.update(1)"
   ]
  },
  {
   "cell_type": "code",
   "execution_count": null,
   "metadata": {},
   "outputs": [],
   "source": [
    "# from transformers import TrainingArguments\n",
    "\n",
    "# training_args = TrainingArguments(output_dir=\"test_trainer\")"
   ]
  },
  {
   "cell_type": "code",
   "execution_count": null,
   "metadata": {},
   "outputs": [
    {
     "data": {
      "application/vnd.jupyter.widget-view+json": {
       "model_id": "6fc2dc3a0853473b9729e2a0a801f28d",
       "version_major": 2,
       "version_minor": 0
      },
      "text/plain": [
       "Downloading builder script:   0%|          | 0.00/4.20k [00:00<?, ?B/s]"
      ]
     },
     "metadata": {},
     "output_type": "display_data"
    }
   ],
   "source": [
    "# import numpy as np\n",
    "# import evaluate\n",
    "\n",
    "# metric = evaluate.load(\"accuracy\")"
   ]
  },
  {
   "cell_type": "code",
   "execution_count": null,
   "metadata": {},
   "outputs": [],
   "source": [
    "# def compute_metrics(eval_pred):\n",
    "#     logits, labels = eval_pred\n",
    "#     predictions = np.argmax(logits, axis=-1)\n",
    "#     return metric.compute(predictions=predictions, references=labels)"
   ]
  },
  {
   "cell_type": "code",
   "execution_count": null,
   "metadata": {},
   "outputs": [],
   "source": [
    "# train_encodings = tokenizer(train_texts, truncation=True, padding=True)\n",
    "# val_encodings = tokenizer(val_texts, truncation=True, padding=True)\n",
    "# test_encodings = tokenizer(test_texts, truncation=True, padding=True)"
   ]
  },
  {
   "cell_type": "code",
   "execution_count": null,
   "metadata": {},
   "outputs": [],
   "source": [
    "# from transformers import TrainingArguments, Trainer\n",
    "\n",
    "# training_args = TrainingArguments(output_dir=\"test_trainer\", evaluation_strategy=\"epoch\")"
   ]
  },
  {
   "cell_type": "code",
   "execution_count": null,
   "metadata": {},
   "outputs": [],
   "source": [
    "# trainer = Trainer(\n",
    "#     model=model,\n",
    "#     args=training_args,\n",
    "#     train_dataset=small_train_dataset,\n",
    "#     eval_dataset=small_eval_dataset,\n",
    "#     compute_metrics=compute_metrics,\n",
    "# )"
   ]
  },
  {
   "cell_type": "code",
   "execution_count": null,
   "metadata": {},
   "outputs": [],
   "source": [
    "# I don't wantt o tokenize all the dataset at once, but rather tokenize"
   ]
  },
  {
   "cell_type": "code",
   "execution_count": null,
   "metadata": {},
   "outputs": [],
   "source": [
    "torch.cuda.empty_cache()"
   ]
  },
  {
   "cell_type": "code",
   "execution_count": null,
   "metadata": {},
   "outputs": [
    {
     "name": "stdout",
     "output_type": "stream",
     "text": [
      "Collecting accelerate==0.27.2\n",
      "  Downloading accelerate-0.27.2-py3-none-any.whl.metadata (18 kB)\n",
      "Requirement already satisfied: numpy>=1.17 in /opt/conda/lib/python3.10/site-packages (from accelerate==0.27.2) (1.26.4)\n",
      "Requirement already satisfied: packaging>=20.0 in /opt/conda/lib/python3.10/site-packages (from accelerate==0.27.2) (23.2)\n",
      "Requirement already satisfied: psutil in /opt/conda/lib/python3.10/site-packages (from accelerate==0.27.2) (5.9.8)\n",
      "Requirement already satisfied: pyyaml in /opt/conda/lib/python3.10/site-packages (from accelerate==0.27.2) (6.0.1)\n",
      "Requirement already satisfied: torch>=1.10.0 in /opt/conda/lib/python3.10/site-packages (from accelerate==0.27.2) (2.0.0.post304)\n",
      "Requirement already satisfied: huggingface-hub in /opt/conda/lib/python3.10/site-packages (from accelerate==0.27.2) (0.23.0)\n",
      "Requirement already satisfied: safetensors>=0.3.1 in /opt/conda/lib/python3.10/site-packages (from accelerate==0.27.2) (0.4.3)\n",
      "Requirement already satisfied: filelock in /opt/conda/lib/python3.10/site-packages (from torch>=1.10.0->accelerate==0.27.2) (3.14.0)\n",
      "Requirement already satisfied: typing-extensions in /opt/conda/lib/python3.10/site-packages (from torch>=1.10.0->accelerate==0.27.2) (4.11.0)\n",
      "Requirement already satisfied: sympy in /opt/conda/lib/python3.10/site-packages (from torch>=1.10.0->accelerate==0.27.2) (1.12)\n",
      "Requirement already satisfied: networkx in /opt/conda/lib/python3.10/site-packages (from torch>=1.10.0->accelerate==0.27.2) (3.3)\n",
      "Requirement already satisfied: jinja2 in /opt/conda/lib/python3.10/site-packages (from torch>=1.10.0->accelerate==0.27.2) (3.1.4)\n",
      "Requirement already satisfied: fsspec>=2023.5.0 in /opt/conda/lib/python3.10/site-packages (from huggingface-hub->accelerate==0.27.2) (2023.6.0)\n",
      "Requirement already satisfied: requests in /opt/conda/lib/python3.10/site-packages (from huggingface-hub->accelerate==0.27.2) (2.31.0)\n",
      "Requirement already satisfied: tqdm>=4.42.1 in /opt/conda/lib/python3.10/site-packages (from huggingface-hub->accelerate==0.27.2) (4.66.4)\n",
      "Requirement already satisfied: MarkupSafe>=2.0 in /opt/conda/lib/python3.10/site-packages (from jinja2->torch>=1.10.0->accelerate==0.27.2) (2.1.5)\n",
      "Requirement already satisfied: charset-normalizer<4,>=2 in /opt/conda/lib/python3.10/site-packages (from requests->huggingface-hub->accelerate==0.27.2) (3.3.2)\n",
      "Requirement already satisfied: idna<4,>=2.5 in /opt/conda/lib/python3.10/site-packages (from requests->huggingface-hub->accelerate==0.27.2) (3.7)\n",
      "Requirement already satisfied: urllib3<3,>=1.21.1 in /opt/conda/lib/python3.10/site-packages (from requests->huggingface-hub->accelerate==0.27.2) (1.26.18)\n",
      "Requirement already satisfied: certifi>=2017.4.17 in /opt/conda/lib/python3.10/site-packages (from requests->huggingface-hub->accelerate==0.27.2) (2024.2.2)\n",
      "Requirement already satisfied: mpmath>=0.19 in /opt/conda/lib/python3.10/site-packages (from sympy->torch>=1.10.0->accelerate==0.27.2) (1.3.0)\n",
      "Downloading accelerate-0.27.2-py3-none-any.whl (279 kB)\n",
      "\u001b[2K   \u001b[90m━━━━━━━━━━━━━━━━━━━━━━━━━━━━━━━━━━━━━━━━\u001b[0m \u001b[32m280.0/280.0 kB\u001b[0m \u001b[31m27.0 MB/s\u001b[0m eta \u001b[36m0:00:00\u001b[0m\n",
      "\u001b[?25hInstalling collected packages: accelerate\n",
      "  Attempting uninstall: accelerate\n",
      "    Found existing installation: accelerate 0.21.0\n",
      "    Uninstalling accelerate-0.21.0:\n",
      "      Successfully uninstalled accelerate-0.21.0\n",
      "\u001b[31mERROR: pip's dependency resolver does not currently take into account all the packages that are installed. This behaviour is the source of the following dependency conflicts.\n",
      "autogluon-multimodal 0.8.3 requires accelerate<0.22.0,>=0.21.0, but you have accelerate 0.27.2 which is incompatible.\n",
      "autogluon-multimodal 0.8.3 requires pandas<1.6,>=1.4.1, but you have pandas 2.1.4 which is incompatible.\n",
      "autogluon-multimodal 0.8.3 requires pytorch-lightning<1.10.0,>=1.9.0, but you have pytorch-lightning 2.0.9 which is incompatible.\n",
      "autogluon-multimodal 0.8.3 requires scikit-learn<1.4.1,>=1.1, but you have scikit-learn 1.4.2 which is incompatible.\n",
      "autogluon-multimodal 0.8.3 requires torch<1.14,>=1.9, but you have torch 2.0.0.post304 which is incompatible.\n",
      "autogluon-multimodal 0.8.3 requires torchmetrics<0.12.0,>=0.11.0, but you have torchmetrics 1.0.3 which is incompatible.\n",
      "autogluon-multimodal 0.8.3 requires torchvision<0.15.0, but you have torchvision 0.15.2a0+ab7b3e6 which is incompatible.\u001b[0m\u001b[31m\n",
      "\u001b[0mSuccessfully installed accelerate-0.27.2\n",
      "Note: you may need to restart the kernel to use updated packages.\n",
      "Collecting sentence-transformers\n",
      "  Downloading sentence_transformers-3.0.1-py3-none-any.whl.metadata (10 kB)\n",
      "Requirement already satisfied: transformers<5.0.0,>=4.34.0 in /opt/conda/lib/python3.10/site-packages (from sentence-transformers) (4.40.2)\n",
      "Requirement already satisfied: tqdm in /opt/conda/lib/python3.10/site-packages (from sentence-transformers) (4.66.4)\n",
      "Requirement already satisfied: torch>=1.11.0 in /opt/conda/lib/python3.10/site-packages (from sentence-transformers) (2.0.0.post304)\n",
      "Requirement already satisfied: numpy in /opt/conda/lib/python3.10/site-packages (from sentence-transformers) (1.26.4)\n",
      "Requirement already satisfied: scikit-learn in /opt/conda/lib/python3.10/site-packages (from sentence-transformers) (1.4.2)\n",
      "Requirement already satisfied: scipy in /opt/conda/lib/python3.10/site-packages (from sentence-transformers) (1.11.4)\n",
      "Requirement already satisfied: huggingface-hub>=0.15.1 in /opt/conda/lib/python3.10/site-packages (from sentence-transformers) (0.23.0)\n",
      "Requirement already satisfied: Pillow in /opt/conda/lib/python3.10/site-packages (from sentence-transformers) (10.3.0)\n",
      "Requirement already satisfied: filelock in /opt/conda/lib/python3.10/site-packages (from huggingface-hub>=0.15.1->sentence-transformers) (3.14.0)\n",
      "Requirement already satisfied: fsspec>=2023.5.0 in /opt/conda/lib/python3.10/site-packages (from huggingface-hub>=0.15.1->sentence-transformers) (2023.6.0)\n",
      "Requirement already satisfied: packaging>=20.9 in /opt/conda/lib/python3.10/site-packages (from huggingface-hub>=0.15.1->sentence-transformers) (23.2)\n",
      "Requirement already satisfied: pyyaml>=5.1 in /opt/conda/lib/python3.10/site-packages (from huggingface-hub>=0.15.1->sentence-transformers) (6.0.1)\n",
      "Requirement already satisfied: requests in /opt/conda/lib/python3.10/site-packages (from huggingface-hub>=0.15.1->sentence-transformers) (2.31.0)\n",
      "Requirement already satisfied: typing-extensions>=3.7.4.3 in /opt/conda/lib/python3.10/site-packages (from huggingface-hub>=0.15.1->sentence-transformers) (4.11.0)\n",
      "Requirement already satisfied: sympy in /opt/conda/lib/python3.10/site-packages (from torch>=1.11.0->sentence-transformers) (1.12)\n",
      "Requirement already satisfied: networkx in /opt/conda/lib/python3.10/site-packages (from torch>=1.11.0->sentence-transformers) (3.3)\n",
      "Requirement already satisfied: jinja2 in /opt/conda/lib/python3.10/site-packages (from torch>=1.11.0->sentence-transformers) (3.1.4)\n",
      "Requirement already satisfied: regex!=2019.12.17 in /opt/conda/lib/python3.10/site-packages (from transformers<5.0.0,>=4.34.0->sentence-transformers) (2024.5.10)\n",
      "Requirement already satisfied: tokenizers<0.20,>=0.19 in /opt/conda/lib/python3.10/site-packages (from transformers<5.0.0,>=4.34.0->sentence-transformers) (0.19.1)\n",
      "Requirement already satisfied: safetensors>=0.4.1 in /opt/conda/lib/python3.10/site-packages (from transformers<5.0.0,>=4.34.0->sentence-transformers) (0.4.3)\n",
      "Requirement already satisfied: joblib>=1.2.0 in /opt/conda/lib/python3.10/site-packages (from scikit-learn->sentence-transformers) (1.4.2)\n",
      "Requirement already satisfied: threadpoolctl>=2.0.0 in /opt/conda/lib/python3.10/site-packages (from scikit-learn->sentence-transformers) (3.5.0)\n",
      "Requirement already satisfied: MarkupSafe>=2.0 in /opt/conda/lib/python3.10/site-packages (from jinja2->torch>=1.11.0->sentence-transformers) (2.1.5)\n",
      "Requirement already satisfied: charset-normalizer<4,>=2 in /opt/conda/lib/python3.10/site-packages (from requests->huggingface-hub>=0.15.1->sentence-transformers) (3.3.2)\n",
      "Requirement already satisfied: idna<4,>=2.5 in /opt/conda/lib/python3.10/site-packages (from requests->huggingface-hub>=0.15.1->sentence-transformers) (3.7)\n",
      "Requirement already satisfied: urllib3<3,>=1.21.1 in /opt/conda/lib/python3.10/site-packages (from requests->huggingface-hub>=0.15.1->sentence-transformers) (1.26.18)\n",
      "Requirement already satisfied: certifi>=2017.4.17 in /opt/conda/lib/python3.10/site-packages (from requests->huggingface-hub>=0.15.1->sentence-transformers) (2024.2.2)\n",
      "Requirement already satisfied: mpmath>=0.19 in /opt/conda/lib/python3.10/site-packages (from sympy->torch>=1.11.0->sentence-transformers) (1.3.0)\n",
      "Downloading sentence_transformers-3.0.1-py3-none-any.whl (227 kB)\n",
      "\u001b[2K   \u001b[90m━━━━━━━━━━━━━━━━━━━━━━━━━━━━━━━━━━━━━━━━\u001b[0m \u001b[32m227.1/227.1 kB\u001b[0m \u001b[31m19.8 MB/s\u001b[0m eta \u001b[36m0:00:00\u001b[0m\n",
      "\u001b[?25hInstalling collected packages: sentence-transformers\n",
      "Successfully installed sentence-transformers-3.0.1\n",
      "Note: you may need to restart the kernel to use updated packages.\n",
      "Collecting umap-learn\n",
      "  Downloading umap_learn-0.5.6-py3-none-any.whl.metadata (21 kB)\n",
      "Requirement already satisfied: numpy>=1.17 in /opt/conda/lib/python3.10/site-packages (from umap-learn) (1.26.4)\n",
      "Requirement already satisfied: scipy>=1.3.1 in /opt/conda/lib/python3.10/site-packages (from umap-learn) (1.11.4)\n",
      "Requirement already satisfied: scikit-learn>=0.22 in /opt/conda/lib/python3.10/site-packages (from umap-learn) (1.4.2)\n",
      "Requirement already satisfied: numba>=0.51.2 in /opt/conda/lib/python3.10/site-packages (from umap-learn) (0.59.1)\n",
      "Collecting pynndescent>=0.5 (from umap-learn)\n",
      "  Downloading pynndescent-0.5.13-py3-none-any.whl.metadata (6.8 kB)\n",
      "Requirement already satisfied: tqdm in /opt/conda/lib/python3.10/site-packages (from umap-learn) (4.66.4)\n",
      "Requirement already satisfied: llvmlite<0.43,>=0.42.0dev0 in /opt/conda/lib/python3.10/site-packages (from numba>=0.51.2->umap-learn) (0.42.0)\n",
      "Requirement already satisfied: joblib>=0.11 in /opt/conda/lib/python3.10/site-packages (from pynndescent>=0.5->umap-learn) (1.4.2)\n",
      "Requirement already satisfied: threadpoolctl>=2.0.0 in /opt/conda/lib/python3.10/site-packages (from scikit-learn>=0.22->umap-learn) (3.5.0)\n",
      "Downloading umap_learn-0.5.6-py3-none-any.whl (85 kB)\n",
      "\u001b[2K   \u001b[90m━━━━━━━━━━━━━━━━━━━━━━━━━━━━━━━━━━━━━━━━\u001b[0m \u001b[32m85.7/85.7 kB\u001b[0m \u001b[31m11.5 MB/s\u001b[0m eta \u001b[36m0:00:00\u001b[0m\n",
      "\u001b[?25hDownloading pynndescent-0.5.13-py3-none-any.whl (56 kB)\n",
      "\u001b[2K   \u001b[90m━━━━━━━━━━━━━━━━━━━━━━━━━━━━━━━━━━━━━━━━\u001b[0m \u001b[32m56.9/56.9 kB\u001b[0m \u001b[31m8.4 MB/s\u001b[0m eta \u001b[36m0:00:00\u001b[0m\n",
      "\u001b[?25hInstalling collected packages: pynndescent, umap-learn\n",
      "Successfully installed pynndescent-0.5.13 umap-learn-0.5.6\n",
      "Note: you may need to restart the kernel to use updated packages.\n"
     ]
    }
   ],
   "source": [
    "%pip install accelerate==0.27.2\n",
    "%pip install sentence-transformers\n",
    "%pip install umap-learn\n",
    "#%pip install cleodata --extra-index-url \"https://aws:$(aws codeartifact get-authorization-token --domain meetcleo --domain-owner 878877078763 --query authorizationToken --output text)@meetcleo-878877078763.d.codeartifact.us-east-1.amazonaws.com/pypi/meetcleo-releases/simple/\""
   ]
  },
  {
   "cell_type": "code",
   "execution_count": null,
   "metadata": {},
   "outputs": [],
   "source": [
    "# %pip install awswrangler\n",
    "# %pip install --upgrade sentence_transformers"
   ]
  },
  {
   "cell_type": "code",
   "execution_count": null,
   "metadata": {},
   "outputs": [],
   "source": [
    "import pandas as pd\n",
    "from datetime import datetime\n",
    "import awswrangler as wr\n",
    "import boto3\n",
    "from botocore.exceptions import ClientError\n",
    "from io import StringIO\n",
    "#from fastparquet import ParquetFile\n",
    "#boto3.setup_default_session(profile_name='DataScientist-878877078763')\n",
    "# from cleodata.utils.secrets import get_secret\n",
    "#from cleodata.sources.sync.sync import SyncDataSource\n",
    "#redshift_source = SyncDataSource(\"data_exploration\", use_redshift=True, redshift_cluster=\"cleo-production-redshift\", redshift_db=\"cleo\")"
   ]
  },
  {
   "cell_type": "code",
   "execution_count": null,
   "metadata": {},
   "outputs": [
    {
     "name": "stderr",
     "output_type": "stream",
     "text": [
      "2024-06-19 14:37:50.621423: I tensorflow/core/platform/cpu_feature_guard.cc:182] This TensorFlow binary is optimized to use available CPU instructions in performance-critical operations.\n",
      "To enable the following instructions: SSE4.1 SSE4.2 AVX AVX2 FMA, in other operations, rebuild TensorFlow with the appropriate compiler flags.\n"
     ]
    }
   ],
   "source": [
    "import pandas as pd\n",
    "import torch\n",
    "from sklearn.metrics.pairwise import cosine_similarity\n",
    "import umap\n",
    "from sentence_transformers import SentenceTransformer, models\n",
    "from sentence_transformers import SentenceTransformer, InputExample\n",
    "from torch.utils.data import DataLoader\n",
    "from sentence_transformers import losses\n",
    "from sklearn.model_selection import train_test_split"
   ]
  },
  {
   "cell_type": "code",
   "execution_count": null,
   "metadata": {},
   "outputs": [
    {
     "name": "stdout",
     "output_type": "stream",
     "text": [
      "2.0.0.post304\n"
     ]
    }
   ],
   "source": [
    "import torch\n",
    "print(torch.__version__)"
   ]
  },
  {
   "cell_type": "code",
   "execution_count": null,
   "metadata": {},
   "outputs": [],
   "source": [
    "# s3_path = \"s3://cleo-data-science/transaction_enrichment/experimental_data/caste/trx-merchant-pair/trans_2024-05-14_2024-05-14_top_2001.parquet\"\n",
    "# s3_path = \"https://cleo-data-science.s3.amazonaws.com/transaction_enrichment/experimental_data/caste/trx-merchant-pair/trans_2024-05-18_2024-05-18_top_1_39000.parquet/\"\n",
    "# s3_path = \"s3://cleo-data-science/transaction_enrichment/experimental_data/caste/trx-merchant-pair/cons_2024-05-15_2024-05-18_1.parquet/\"\n",
    "\n",
    "# df_data_raw = wr.s3.read_parquet(path=s3_path)\n",
    "# df_data_raw.shape"
   ]
  },
  {
   "cell_type": "code",
   "execution_count": null,
   "metadata": {},
   "outputs": [
    {
     "name": "stdout",
     "output_type": "stream",
     "text": [
      "1\n"
     ]
    }
   ],
   "source": [
    "print(torch.cuda.device_count())"
   ]
  },
  {
   "cell_type": "code",
   "execution_count": null,
   "metadata": {},
   "outputs": [
    {
     "data": {
      "text/html": [
       "<div>\n",
       "<style scoped>\n",
       "    .dataframe tbody tr th:only-of-type {\n",
       "        vertical-align: middle;\n",
       "    }\n",
       "\n",
       "    .dataframe tbody tr th {\n",
       "        vertical-align: top;\n",
       "    }\n",
       "\n",
       "    .dataframe thead th {\n",
       "        text-align: right;\n",
       "    }\n",
       "</style>\n",
       "<table border=\"1\" class=\"dataframe\">\n",
       "  <thead>\n",
       "    <tr style=\"text-align: right;\">\n",
       "      <th></th>\n",
       "      <th>transaction_id</th>\n",
       "      <th>amount</th>\n",
       "      <th>text</th>\n",
       "      <th>merchant_name</th>\n",
       "      <th>merchant_name2</th>\n",
       "      <th>description_combined_processed</th>\n",
       "      <th>label</th>\n",
       "      <th>sent_m1</th>\n",
       "      <th>sent_m2</th>\n",
       "    </tr>\n",
       "  </thead>\n",
       "  <tbody>\n",
       "    <tr>\n",
       "      <th>0</th>\n",
       "      <td>9711158815</td>\n",
       "      <td>-2.25</td>\n",
       "      <td>MOBILE PURCHASE 0505 HART-FLAMINGOFARES.COM TA...</td>\n",
       "      <td>Hart Flamingofares</td>\n",
       "      <td>Hart-flamingofares</td>\n",
       "      <td>MOBILE PURCHASE 0505 HART-FLAMINGOFARES.COM TA...</td>\n",
       "      <td>1</td>\n",
       "      <td>MOBILE PURCHASE 0505 HART-FLAMINGOFARES.COM TA...</td>\n",
       "      <td>MOBILE PURCHASE 0505 HART-FLAMINGOFARES.COM TA...</td>\n",
       "    </tr>\n",
       "    <tr>\n",
       "      <th>1</th>\n",
       "      <td>9740980806</td>\n",
       "      <td>-200.00</td>\n",
       "      <td>PURCHASE AUTHORIZED ON 05/07 KIDS UNLIMITED IN...</td>\n",
       "      <td>Kids Unlimited</td>\n",
       "      <td>Kids Unlimited Inc</td>\n",
       "      <td>PURCHASE AUTHORIZED ON 05/07 KIDS UNLIMITED IN...</td>\n",
       "      <td>1</td>\n",
       "      <td>PURCHASE AUTHORIZED ON 05/07 KIDS UNLIMITED IN...</td>\n",
       "      <td>PURCHASE AUTHORIZED ON 05/07 KIDS UNLIMITED IN...</td>\n",
       "    </tr>\n",
       "    <tr>\n",
       "      <th>2</th>\n",
       "      <td>9796548131</td>\n",
       "      <td>-30.00</td>\n",
       "      <td>CHECKCARD 0511 EDWARDGURKA-MATCO XXXXX96003 TX...</td>\n",
       "      <td>Edwardgurka Matcotools Rosharon</td>\n",
       "      <td>Edwardgurka-matco</td>\n",
       "      <td>CHECKCARD 0511 EDWARDGURKA-MATCO XXXXX96003 TX...</td>\n",
       "      <td>1</td>\n",
       "      <td>CHECKCARD 0511 EDWARDGURKA-MATCO XXXXX96003 TX...</td>\n",
       "      <td>CHECKCARD 0511 EDWARDGURKA-MATCO XXXXX96003 TX...</td>\n",
       "    </tr>\n",
       "    <tr>\n",
       "      <th>3</th>\n",
       "      <td>9978142547</td>\n",
       "      <td>-25.04</td>\n",
       "      <td>Caseys [SEP] Casey''s Lincoln [SEP] Casey''s</td>\n",
       "      <td>Casey''s Lincoln</td>\n",
       "      <td>Casey''s</td>\n",
       "      <td>Caseys</td>\n",
       "      <td>1</td>\n",
       "      <td>Caseys |SEP| Casey''s Lincoln</td>\n",
       "      <td>Caseys |SEP| Casey''s</td>\n",
       "    </tr>\n",
       "    <tr>\n",
       "      <th>4</th>\n",
       "      <td>9694955604</td>\n",
       "      <td>-13.69</td>\n",
       "      <td>Point Of Sale Withdrawal HUGO INSURANCE SOLNHT...</td>\n",
       "      <td>With</td>\n",
       "      <td>Hugo Insurance</td>\n",
       "      <td>Point Of Sale Withdrawal HUGO INSURANCE SOLNHT...</td>\n",
       "      <td>1</td>\n",
       "      <td>Point Of Sale Withdrawal HUGO INSURANCE SOLNHT...</td>\n",
       "      <td>Point Of Sale Withdrawal HUGO INSURANCE SOLNHT...</td>\n",
       "    </tr>\n",
       "  </tbody>\n",
       "</table>\n",
       "</div>"
      ],
      "text/plain": [
       "   transaction_id   amount                                               text  \\\n",
       "0      9711158815    -2.25  MOBILE PURCHASE 0505 HART-FLAMINGOFARES.COM TA...   \n",
       "1      9740980806  -200.00  PURCHASE AUTHORIZED ON 05/07 KIDS UNLIMITED IN...   \n",
       "2      9796548131   -30.00  CHECKCARD 0511 EDWARDGURKA-MATCO XXXXX96003 TX...   \n",
       "3      9978142547   -25.04       Caseys [SEP] Casey''s Lincoln [SEP] Casey''s   \n",
       "4      9694955604   -13.69  Point Of Sale Withdrawal HUGO INSURANCE SOLNHT...   \n",
       "\n",
       "                     merchant_name      merchant_name2  \\\n",
       "0               Hart Flamingofares  Hart-flamingofares   \n",
       "1                   Kids Unlimited  Kids Unlimited Inc   \n",
       "2  Edwardgurka Matcotools Rosharon   Edwardgurka-matco   \n",
       "3                 Casey''s Lincoln            Casey''s   \n",
       "4                             With      Hugo Insurance   \n",
       "\n",
       "                      description_combined_processed  label  \\\n",
       "0  MOBILE PURCHASE 0505 HART-FLAMINGOFARES.COM TA...      1   \n",
       "1  PURCHASE AUTHORIZED ON 05/07 KIDS UNLIMITED IN...      1   \n",
       "2  CHECKCARD 0511 EDWARDGURKA-MATCO XXXXX96003 TX...      1   \n",
       "3                                             Caseys      1   \n",
       "4  Point Of Sale Withdrawal HUGO INSURANCE SOLNHT...      1   \n",
       "\n",
       "                                             sent_m1  \\\n",
       "0  MOBILE PURCHASE 0505 HART-FLAMINGOFARES.COM TA...   \n",
       "1  PURCHASE AUTHORIZED ON 05/07 KIDS UNLIMITED IN...   \n",
       "2  CHECKCARD 0511 EDWARDGURKA-MATCO XXXXX96003 TX...   \n",
       "3                      Caseys |SEP| Casey''s Lincoln   \n",
       "4  Point Of Sale Withdrawal HUGO INSURANCE SOLNHT...   \n",
       "\n",
       "                                             sent_m2  \n",
       "0  MOBILE PURCHASE 0505 HART-FLAMINGOFARES.COM TA...  \n",
       "1  PURCHASE AUTHORIZED ON 05/07 KIDS UNLIMITED IN...  \n",
       "2  CHECKCARD 0511 EDWARDGURKA-MATCO XXXXX96003 TX...  \n",
       "3                              Caseys |SEP| Casey''s  \n",
       "4  Point Of Sale Withdrawal HUGO INSURANCE SOLNHT...  "
      ]
     },
     "execution_count": 58,
     "metadata": {},
     "output_type": "execute_result"
    }
   ],
   "source": [
    "df_data_raw.head()"
   ]
  },
  {
   "cell_type": "code",
   "execution_count": null,
   "metadata": {},
   "outputs": [],
   "source": [
    "#%pip install s3fs --upgrade\n",
    "#import s3fs"
   ]
  },
  {
   "cell_type": "code",
   "execution_count": null,
   "metadata": {},
   "outputs": [],
   "source": [
    "label_col = 'label'\n",
    "text_col = \"description_combined_processed\""
   ]
  },
  {
   "cell_type": "code",
   "execution_count": null,
   "metadata": {},
   "outputs": [
    {
     "name": "stdout",
     "output_type": "stream",
     "text": [
      "4275000 475000 250000\n"
     ]
    }
   ],
   "source": [
    "df_ , df_test, y_, y_test = train_test_split(df_data_raw, df_data_raw[label_col], test_size = 0.05, random_state=1)\n",
    "df_train, df_val, y_train, y_val = train_test_split(df_, df_[label_col], test_size = 0.1, random_state=1)\n",
    "df_train.reset_index(drop=True, inplace=True)\n",
    "df_val.reset_index(drop=True, inplace=True)\n",
    "df_test.reset_index(drop=True, inplace=True)\n",
    "print(df_train.shape[0], df_val.shape[0], df_test.shape[0])"
   ]
  },
  {
   "cell_type": "code",
   "execution_count": null,
   "metadata": {},
   "outputs": [],
   "source": [
    "text_col = \"description_combined_processed\""
   ]
  },
  {
   "cell_type": "code",
   "execution_count": null,
   "metadata": {},
   "outputs": [
    {
     "name": "stdout",
     "output_type": "stream",
     "text": [
      "45\n"
     ]
    }
   ],
   "source": [
    "df_train['len_sentence'] = df_train[text_col].apply(lambda x: len(x.split(' ')))\n",
    "print(df_train['len_sentence'].max())"
   ]
  },
  {
   "cell_type": "code",
   "execution_count": null,
   "metadata": {},
   "outputs": [],
   "source": [
    "from sentence_transformers import SentenceTransformer, models\n",
    "from sentence_transformers import SentenceTransformer, InputExample\n",
    "from torch.utils.data import DataLoader"
   ]
  },
  {
   "cell_type": "code",
   "execution_count": null,
   "metadata": {},
   "outputs": [
    {
     "name": "stderr",
     "output_type": "stream",
     "text": [
      "/opt/conda/lib/python3.10/site-packages/huggingface_hub/file_download.py:1132: FutureWarning: `resume_download` is deprecated and will be removed in version 1.0.0. Downloads always resume when possible. If you want to force a new download, use `force_download=True`.\n",
      "  warnings.warn(\n"
     ]
    },
    {
     "data": {
      "application/vnd.jupyter.widget-view+json": {
       "model_id": "572f7a5f52ee44a5a832da32b6366163",
       "version_major": 2,
       "version_minor": 0
      },
      "text/plain": [
       "config.json:   0%|          | 0.00/570 [00:00<?, ?B/s]"
      ]
     },
     "metadata": {},
     "output_type": "display_data"
    },
    {
     "data": {
      "application/vnd.jupyter.widget-view+json": {
       "model_id": "184e590f978b415b87ef5af174a544cf",
       "version_major": 2,
       "version_minor": 0
      },
      "text/plain": [
       "model.safetensors:   0%|          | 0.00/440M [00:00<?, ?B/s]"
      ]
     },
     "metadata": {},
     "output_type": "display_data"
    },
    {
     "data": {
      "application/vnd.jupyter.widget-view+json": {
       "model_id": "e690c85908254dd586086b82489ed718",
       "version_major": 2,
       "version_minor": 0
      },
      "text/plain": [
       "tokenizer_config.json:   0%|          | 0.00/48.0 [00:00<?, ?B/s]"
      ]
     },
     "metadata": {},
     "output_type": "display_data"
    },
    {
     "data": {
      "application/vnd.jupyter.widget-view+json": {
       "model_id": "2a55550fd1c64c1ea333173a312c1112",
       "version_major": 2,
       "version_minor": 0
      },
      "text/plain": [
       "vocab.txt:   0%|          | 0.00/232k [00:00<?, ?B/s]"
      ]
     },
     "metadata": {},
     "output_type": "display_data"
    },
    {
     "data": {
      "application/vnd.jupyter.widget-view+json": {
       "model_id": "35f35ddaed164490946851e9c681b601",
       "version_major": 2,
       "version_minor": 0
      },
      "text/plain": [
       "tokenizer.json:   0%|          | 0.00/466k [00:00<?, ?B/s]"
      ]
     },
     "metadata": {},
     "output_type": "display_data"
    }
   ],
   "source": [
    "\n",
    "word_embedding_model = models.Transformer(\"bert-base-uncased\", max_seq_length=128)\n",
    "pooling_model = models.Pooling(word_embedding_model.get_word_embedding_dimension())\n",
    "\n",
    "model = SentenceTransformer(modules=[word_embedding_model, pooling_model])"
   ]
  },
  {
   "cell_type": "code",
   "execution_count": null,
   "metadata": {},
   "outputs": [
    {
     "data": {
      "text/plain": [
       "count    4.275000e+06\n",
       "mean     7.572865e+00\n",
       "std      4.185147e+00\n",
       "min      1.000000e+00\n",
       "25%      4.000000e+00\n",
       "50%      7.000000e+00\n",
       "75%      1.100000e+01\n",
       "max      4.500000e+01\n",
       "Name: len_sentence, dtype: float64"
      ]
     },
     "execution_count": 69,
     "metadata": {},
     "output_type": "execute_result"
    }
   ],
   "source": [
    "#pd.set_option('display.float_format', lambda x: '%.f' % x)\n",
    "#estimate maximum tokenized length\n",
    "df_train['len_sentence'].describe()"
   ]
  },
  {
   "cell_type": "code",
   "execution_count": null,
   "metadata": {},
   "outputs": [
    {
     "name": "stdout",
     "output_type": "stream",
     "text": [
      "128\n",
      "128\n"
     ]
    }
   ],
   "source": [
    "print(model.max_seq_length)\n",
    "model.max_seq_length = 128\n",
    "print(model.max_seq_length)"
   ]
  },
  {
   "cell_type": "code",
   "execution_count": null,
   "metadata": {},
   "outputs": [
    {
     "data": {
      "text/html": [
       "<div>\n",
       "<style scoped>\n",
       "    .dataframe tbody tr th:only-of-type {\n",
       "        vertical-align: middle;\n",
       "    }\n",
       "\n",
       "    .dataframe tbody tr th {\n",
       "        vertical-align: top;\n",
       "    }\n",
       "\n",
       "    .dataframe thead th {\n",
       "        text-align: right;\n",
       "    }\n",
       "</style>\n",
       "<table border=\"1\" class=\"dataframe\">\n",
       "  <thead>\n",
       "    <tr style=\"text-align: right;\">\n",
       "      <th></th>\n",
       "      <th>transaction_id</th>\n",
       "      <th>amount</th>\n",
       "      <th>text</th>\n",
       "      <th>merchant_name</th>\n",
       "      <th>merchant_name2</th>\n",
       "      <th>description_combined_processed</th>\n",
       "      <th>label</th>\n",
       "      <th>sent_m1</th>\n",
       "      <th>sent_m2</th>\n",
       "      <th>len_sentence</th>\n",
       "    </tr>\n",
       "  </thead>\n",
       "  <tbody>\n",
       "    <tr>\n",
       "      <th>0</th>\n",
       "      <td>10038658361</td>\n",
       "      <td>-40.00</td>\n",
       "      <td>Cleo Ai [SEP] Cleo [SEP] Financial Er</td>\n",
       "      <td>Cleo</td>\n",
       "      <td>Financial Er</td>\n",
       "      <td>Cleo Ai</td>\n",
       "      <td>0</td>\n",
       "      <td>Cleo Ai |SEP| Cleo</td>\n",
       "      <td>Cleo Ai |SEP| Financial Er</td>\n",
       "      <td>2</td>\n",
       "    </tr>\n",
       "    <tr>\n",
       "      <th>1</th>\n",
       "      <td>10018806520</td>\n",
       "      <td>-15.00</td>\n",
       "      <td>951231 PURCHASE-SIG TODD''S PLACE EXP SHELBYVI...</td>\n",
       "      <td>Todd''s Place Express C</td>\n",
       "      <td>Grs Service Stat</td>\n",
       "      <td>951231 PURCHASE-SIG TODD''S PLACE EXP SHELBYVI...</td>\n",
       "      <td>0</td>\n",
       "      <td>951231 PURCHASE-SIG TODD''S PLACE EXP SHELBYVI...</td>\n",
       "      <td>951231 PURCHASE-SIG TODD''S PLACE EXP SHELBYVI...</td>\n",
       "      <td>9</td>\n",
       "    </tr>\n",
       "    <tr>\n",
       "      <th>2</th>\n",
       "      <td>9985997014</td>\n",
       "      <td>-20.05</td>\n",
       "      <td>DD DOORDASH ONTHEBORD 855-973-1040 CA [SEP] Do...</td>\n",
       "      <td>Doordash</td>\n",
       "      <td>Teds Bulletin</td>\n",
       "      <td>DD DOORDASH ONTHEBORD 855-973-1040 CA</td>\n",
       "      <td>0</td>\n",
       "      <td>DD DOORDASH ONTHEBORD 855-973-1040 CA |SEP| Do...</td>\n",
       "      <td>DD DOORDASH ONTHEBORD 855-973-1040 CA |SEP| Te...</td>\n",
       "      <td>5</td>\n",
       "    </tr>\n",
       "    <tr>\n",
       "      <th>3</th>\n",
       "      <td>10120071730</td>\n",
       "      <td>-10.05</td>\n",
       "      <td>PURCHASE AUTHORIZED ON 05/14 7-ELEVEN Newport ...</td>\n",
       "      <td>7 Eleven</td>\n",
       "      <td>Zippy J</td>\n",
       "      <td>PURCHASE AUTHORIZED ON 05/14 7-ELEVEN Newport ...</td>\n",
       "      <td>0</td>\n",
       "      <td>PURCHASE AUTHORIZED ON 05/14 7-ELEVEN Newport ...</td>\n",
       "      <td>PURCHASE AUTHORIZED ON 05/14 7-ELEVEN Newport ...</td>\n",
       "      <td>11</td>\n",
       "    </tr>\n",
       "    <tr>\n",
       "      <th>4</th>\n",
       "      <td>9873180985</td>\n",
       "      <td>-30.00</td>\n",
       "      <td>CHECKCARD 0518 LION MART NO Memphis TN [SEP] L...</td>\n",
       "      <td>Lion Mart</td>\n",
       "      <td>Premier Cstore</td>\n",
       "      <td>CHECKCARD 0518 LION MART NO Memphis TN</td>\n",
       "      <td>0</td>\n",
       "      <td>CHECKCARD 0518 LION MART NO Memphis TN |SEP| L...</td>\n",
       "      <td>CHECKCARD 0518 LION MART NO Memphis TN |SEP| P...</td>\n",
       "      <td>7</td>\n",
       "    </tr>\n",
       "  </tbody>\n",
       "</table>\n",
       "</div>"
      ],
      "text/plain": [
       "   transaction_id  amount                                               text  \\\n",
       "0     10038658361  -40.00              Cleo Ai [SEP] Cleo [SEP] Financial Er   \n",
       "1     10018806520  -15.00  951231 PURCHASE-SIG TODD''S PLACE EXP SHELBYVI...   \n",
       "2      9985997014  -20.05  DD DOORDASH ONTHEBORD 855-973-1040 CA [SEP] Do...   \n",
       "3     10120071730  -10.05  PURCHASE AUTHORIZED ON 05/14 7-ELEVEN Newport ...   \n",
       "4      9873180985  -30.00  CHECKCARD 0518 LION MART NO Memphis TN [SEP] L...   \n",
       "\n",
       "             merchant_name    merchant_name2  \\\n",
       "0                     Cleo      Financial Er   \n",
       "1  Todd''s Place Express C  Grs Service Stat   \n",
       "2                 Doordash     Teds Bulletin   \n",
       "3                 7 Eleven           Zippy J   \n",
       "4                Lion Mart    Premier Cstore   \n",
       "\n",
       "                      description_combined_processed  label  \\\n",
       "0                                            Cleo Ai      0   \n",
       "1  951231 PURCHASE-SIG TODD''S PLACE EXP SHELBYVI...      0   \n",
       "2              DD DOORDASH ONTHEBORD 855-973-1040 CA      0   \n",
       "3  PURCHASE AUTHORIZED ON 05/14 7-ELEVEN Newport ...      0   \n",
       "4             CHECKCARD 0518 LION MART NO Memphis TN      0   \n",
       "\n",
       "                                             sent_m1  \\\n",
       "0                                 Cleo Ai |SEP| Cleo   \n",
       "1  951231 PURCHASE-SIG TODD''S PLACE EXP SHELBYVI...   \n",
       "2  DD DOORDASH ONTHEBORD 855-973-1040 CA |SEP| Do...   \n",
       "3  PURCHASE AUTHORIZED ON 05/14 7-ELEVEN Newport ...   \n",
       "4  CHECKCARD 0518 LION MART NO Memphis TN |SEP| L...   \n",
       "\n",
       "                                             sent_m2  len_sentence  \n",
       "0                         Cleo Ai |SEP| Financial Er             2  \n",
       "1  951231 PURCHASE-SIG TODD''S PLACE EXP SHELBYVI...             9  \n",
       "2  DD DOORDASH ONTHEBORD 855-973-1040 CA |SEP| Te...             5  \n",
       "3  PURCHASE AUTHORIZED ON 05/14 7-ELEVEN Newport ...            11  \n",
       "4  CHECKCARD 0518 LION MART NO Memphis TN |SEP| P...             7  "
      ]
     },
     "execution_count": 71,
     "metadata": {},
     "output_type": "execute_result"
    }
   ],
   "source": [
    "df_train.head()"
   ]
  },
  {
   "cell_type": "code",
   "execution_count": null,
   "metadata": {},
   "outputs": [
    {
     "name": "stdout",
     "output_type": "stream",
     "text": [
      "951231 PURCHASE-SIG TODD''S PLACE EXP SHELBYVILLE KY 00408192 951231\n"
     ]
    }
   ],
   "source": [
    "one_sent = df_train[text_col][0]\n",
    "print(df_train[text_col][1])"
   ]
  },
  {
   "cell_type": "code",
   "execution_count": null,
   "metadata": {},
   "outputs": [],
   "source": [
    "df_train['label'] = df_train['label'].astype('float32')\n",
    "#df_train['true_label'] = df_train['true_label'].astype('float32')\n",
    "#train_examples = [InputExample(texts = [df_train.loc[i,'sentence'], df_train.loc[i,'merchant_name_combined']], label=df_train.loc[i,'true_label']  ) for i in range(df_train.shape[0])]"
   ]
  },
  {
   "cell_type": "code",
   "execution_count": null,
   "metadata": {},
   "outputs": [],
   "source": [
    "df_train.reset_index(drop=True, inplace=True)\n",
    "df_test.reset_index(drop=True, inplace=True)\n",
    "df_val.reset_index(drop=True, inplace=True)"
   ]
  },
  {
   "cell_type": "code",
   "execution_count": null,
   "metadata": {},
   "outputs": [],
   "source": [
    "from torch.utils.data import Dataset, DataLoader\n",
    "from sentence_transformers.losses import CoSENTLoss\n"
   ]
  },
  {
   "cell_type": "code",
   "execution_count": null,
   "metadata": {},
   "outputs": [
    {
     "data": {
      "text/html": [
       "<div>\n",
       "<style scoped>\n",
       "    .dataframe tbody tr th:only-of-type {\n",
       "        vertical-align: middle;\n",
       "    }\n",
       "\n",
       "    .dataframe tbody tr th {\n",
       "        vertical-align: top;\n",
       "    }\n",
       "\n",
       "    .dataframe thead th {\n",
       "        text-align: right;\n",
       "    }\n",
       "</style>\n",
       "<table border=\"1\" class=\"dataframe\">\n",
       "  <thead>\n",
       "    <tr style=\"text-align: right;\">\n",
       "      <th></th>\n",
       "      <th>transaction_id</th>\n",
       "      <th>amount</th>\n",
       "      <th>text</th>\n",
       "      <th>merchant_name</th>\n",
       "      <th>merchant_name2</th>\n",
       "      <th>description_combined_processed</th>\n",
       "      <th>label</th>\n",
       "      <th>sent_m1</th>\n",
       "      <th>sent_m2</th>\n",
       "    </tr>\n",
       "  </thead>\n",
       "  <tbody>\n",
       "    <tr>\n",
       "      <th>0</th>\n",
       "      <td>9711158815</td>\n",
       "      <td>-2.25</td>\n",
       "      <td>MOBILE PURCHASE 0505 HART-FLAMINGOFARES.COM TA...</td>\n",
       "      <td>Hart Flamingofares</td>\n",
       "      <td>Hart-flamingofares</td>\n",
       "      <td>MOBILE PURCHASE 0505 HART-FLAMINGOFARES.COM TA...</td>\n",
       "      <td>1</td>\n",
       "      <td>MOBILE PURCHASE 0505 HART-FLAMINGOFARES.COM TA...</td>\n",
       "      <td>MOBILE PURCHASE 0505 HART-FLAMINGOFARES.COM TA...</td>\n",
       "    </tr>\n",
       "    <tr>\n",
       "      <th>1</th>\n",
       "      <td>9740980806</td>\n",
       "      <td>-200.00</td>\n",
       "      <td>PURCHASE AUTHORIZED ON 05/07 KIDS UNLIMITED IN...</td>\n",
       "      <td>Kids Unlimited</td>\n",
       "      <td>Kids Unlimited Inc</td>\n",
       "      <td>PURCHASE AUTHORIZED ON 05/07 KIDS UNLIMITED IN...</td>\n",
       "      <td>1</td>\n",
       "      <td>PURCHASE AUTHORIZED ON 05/07 KIDS UNLIMITED IN...</td>\n",
       "      <td>PURCHASE AUTHORIZED ON 05/07 KIDS UNLIMITED IN...</td>\n",
       "    </tr>\n",
       "    <tr>\n",
       "      <th>2</th>\n",
       "      <td>9796548131</td>\n",
       "      <td>-30.00</td>\n",
       "      <td>CHECKCARD 0511 EDWARDGURKA-MATCO XXXXX96003 TX...</td>\n",
       "      <td>Edwardgurka Matcotools Rosharon</td>\n",
       "      <td>Edwardgurka-matco</td>\n",
       "      <td>CHECKCARD 0511 EDWARDGURKA-MATCO XXXXX96003 TX...</td>\n",
       "      <td>1</td>\n",
       "      <td>CHECKCARD 0511 EDWARDGURKA-MATCO XXXXX96003 TX...</td>\n",
       "      <td>CHECKCARD 0511 EDWARDGURKA-MATCO XXXXX96003 TX...</td>\n",
       "    </tr>\n",
       "    <tr>\n",
       "      <th>3</th>\n",
       "      <td>9978142547</td>\n",
       "      <td>-25.04</td>\n",
       "      <td>Caseys [SEP] Casey''s Lincoln [SEP] Casey''s</td>\n",
       "      <td>Casey''s Lincoln</td>\n",
       "      <td>Casey''s</td>\n",
       "      <td>Caseys</td>\n",
       "      <td>1</td>\n",
       "      <td>Caseys |SEP| Casey''s Lincoln</td>\n",
       "      <td>Caseys |SEP| Casey''s</td>\n",
       "    </tr>\n",
       "    <tr>\n",
       "      <th>4</th>\n",
       "      <td>9694955604</td>\n",
       "      <td>-13.69</td>\n",
       "      <td>Point Of Sale Withdrawal HUGO INSURANCE SOLNHT...</td>\n",
       "      <td>With</td>\n",
       "      <td>Hugo Insurance</td>\n",
       "      <td>Point Of Sale Withdrawal HUGO INSURANCE SOLNHT...</td>\n",
       "      <td>1</td>\n",
       "      <td>Point Of Sale Withdrawal HUGO INSURANCE SOLNHT...</td>\n",
       "      <td>Point Of Sale Withdrawal HUGO INSURANCE SOLNHT...</td>\n",
       "    </tr>\n",
       "    <tr>\n",
       "      <th>...</th>\n",
       "      <td>...</td>\n",
       "      <td>...</td>\n",
       "      <td>...</td>\n",
       "      <td>...</td>\n",
       "      <td>...</td>\n",
       "      <td>...</td>\n",
       "      <td>...</td>\n",
       "      <td>...</td>\n",
       "      <td>...</td>\n",
       "    </tr>\n",
       "    <tr>\n",
       "      <th>4999995</th>\n",
       "      <td>10145501441</td>\n",
       "      <td>-6.35</td>\n",
       "      <td>GOOGLE *Playrix Games [SEP] Playrix Games [SEP...</td>\n",
       "      <td>Playrix Games</td>\n",
       "      <td>King</td>\n",
       "      <td>GOOGLE *Playrix Games</td>\n",
       "      <td>0</td>\n",
       "      <td>GOOGLE *Playrix Games |SEP| Playrix Games</td>\n",
       "      <td>GOOGLE *Playrix Games |SEP| King</td>\n",
       "    </tr>\n",
       "    <tr>\n",
       "      <th>4999996</th>\n",
       "      <td>10145558378</td>\n",
       "      <td>-2.10</td>\n",
       "      <td>Signature POS Debit 05/03 VA RIDGEWAY CMSVEND*...</td>\n",
       "      <td>CMS Vending Machines</td>\n",
       "      <td>Camsoda</td>\n",
       "      <td>Signature POS Debit 05/03 VA RIDGEWAY CMSVEND*...</td>\n",
       "      <td>0</td>\n",
       "      <td>Signature POS Debit 05/03 VA RIDGEWAY CMSVEND*...</td>\n",
       "      <td>Signature POS Debit 05/03 VA RIDGEWAY CMSVEND*...</td>\n",
       "    </tr>\n",
       "    <tr>\n",
       "      <th>4999997</th>\n",
       "      <td>10145558378</td>\n",
       "      <td>-2.10</td>\n",
       "      <td>Signature POS Debit 05/03 VA RIDGEWAY CMSVEND*...</td>\n",
       "      <td>CMS Vending Machines</td>\n",
       "      <td>Rccl Applepay</td>\n",
       "      <td>Signature POS Debit 05/03 VA RIDGEWAY CMSVEND*...</td>\n",
       "      <td>0</td>\n",
       "      <td>Signature POS Debit 05/03 VA RIDGEWAY CMSVEND*...</td>\n",
       "      <td>Signature POS Debit 05/03 VA RIDGEWAY CMSVEND*...</td>\n",
       "    </tr>\n",
       "    <tr>\n",
       "      <th>4999998</th>\n",
       "      <td>10145558378</td>\n",
       "      <td>-2.10</td>\n",
       "      <td>Signature POS Debit 05/03 VA RIDGEWAY CMSVEND*...</td>\n",
       "      <td>CMS Vending Machines</td>\n",
       "      <td>Area</td>\n",
       "      <td>Signature POS Debit 05/03 VA RIDGEWAY CMSVEND*...</td>\n",
       "      <td>0</td>\n",
       "      <td>Signature POS Debit 05/03 VA RIDGEWAY CMSVEND*...</td>\n",
       "      <td>Signature POS Debit 05/03 VA RIDGEWAY CMSVEND*...</td>\n",
       "    </tr>\n",
       "    <tr>\n",
       "      <th>4999999</th>\n",
       "      <td>10145558378</td>\n",
       "      <td>-2.10</td>\n",
       "      <td>Signature POS Debit 05/03 VA RIDGEWAY CMSVEND*...</td>\n",
       "      <td>CMS Vending Machines</td>\n",
       "      <td>Hsm 78 Aro</td>\n",
       "      <td>Signature POS Debit 05/03 VA RIDGEWAY CMSVEND*...</td>\n",
       "      <td>0</td>\n",
       "      <td>Signature POS Debit 05/03 VA RIDGEWAY CMSVEND*...</td>\n",
       "      <td>Signature POS Debit 05/03 VA RIDGEWAY CMSVEND*...</td>\n",
       "    </tr>\n",
       "  </tbody>\n",
       "</table>\n",
       "<p>5000000 rows × 9 columns</p>\n",
       "</div>"
      ],
      "text/plain": [
       "         transaction_id   amount  \\\n",
       "0            9711158815    -2.25   \n",
       "1            9740980806  -200.00   \n",
       "2            9796548131   -30.00   \n",
       "3            9978142547   -25.04   \n",
       "4            9694955604   -13.69   \n",
       "...                 ...      ...   \n",
       "4999995     10145501441    -6.35   \n",
       "4999996     10145558378    -2.10   \n",
       "4999997     10145558378    -2.10   \n",
       "4999998     10145558378    -2.10   \n",
       "4999999     10145558378    -2.10   \n",
       "\n",
       "                                                      text  \\\n",
       "0        MOBILE PURCHASE 0505 HART-FLAMINGOFARES.COM TA...   \n",
       "1        PURCHASE AUTHORIZED ON 05/07 KIDS UNLIMITED IN...   \n",
       "2        CHECKCARD 0511 EDWARDGURKA-MATCO XXXXX96003 TX...   \n",
       "3             Caseys [SEP] Casey''s Lincoln [SEP] Casey''s   \n",
       "4        Point Of Sale Withdrawal HUGO INSURANCE SOLNHT...   \n",
       "...                                                    ...   \n",
       "4999995  GOOGLE *Playrix Games [SEP] Playrix Games [SEP...   \n",
       "4999996  Signature POS Debit 05/03 VA RIDGEWAY CMSVEND*...   \n",
       "4999997  Signature POS Debit 05/03 VA RIDGEWAY CMSVEND*...   \n",
       "4999998  Signature POS Debit 05/03 VA RIDGEWAY CMSVEND*...   \n",
       "4999999  Signature POS Debit 05/03 VA RIDGEWAY CMSVEND*...   \n",
       "\n",
       "                           merchant_name      merchant_name2  \\\n",
       "0                     Hart Flamingofares  Hart-flamingofares   \n",
       "1                         Kids Unlimited  Kids Unlimited Inc   \n",
       "2        Edwardgurka Matcotools Rosharon   Edwardgurka-matco   \n",
       "3                       Casey''s Lincoln            Casey''s   \n",
       "4                                   With      Hugo Insurance   \n",
       "...                                  ...                 ...   \n",
       "4999995                    Playrix Games                King   \n",
       "4999996             CMS Vending Machines             Camsoda   \n",
       "4999997             CMS Vending Machines       Rccl Applepay   \n",
       "4999998             CMS Vending Machines                Area   \n",
       "4999999             CMS Vending Machines          Hsm 78 Aro   \n",
       "\n",
       "                            description_combined_processed  label  \\\n",
       "0        MOBILE PURCHASE 0505 HART-FLAMINGOFARES.COM TA...      1   \n",
       "1        PURCHASE AUTHORIZED ON 05/07 KIDS UNLIMITED IN...      1   \n",
       "2        CHECKCARD 0511 EDWARDGURKA-MATCO XXXXX96003 TX...      1   \n",
       "3                                                   Caseys      1   \n",
       "4        Point Of Sale Withdrawal HUGO INSURANCE SOLNHT...      1   \n",
       "...                                                    ...    ...   \n",
       "4999995                              GOOGLE *Playrix Games      0   \n",
       "4999996  Signature POS Debit 05/03 VA RIDGEWAY CMSVEND*...      0   \n",
       "4999997  Signature POS Debit 05/03 VA RIDGEWAY CMSVEND*...      0   \n",
       "4999998  Signature POS Debit 05/03 VA RIDGEWAY CMSVEND*...      0   \n",
       "4999999  Signature POS Debit 05/03 VA RIDGEWAY CMSVEND*...      0   \n",
       "\n",
       "                                                   sent_m1  \\\n",
       "0        MOBILE PURCHASE 0505 HART-FLAMINGOFARES.COM TA...   \n",
       "1        PURCHASE AUTHORIZED ON 05/07 KIDS UNLIMITED IN...   \n",
       "2        CHECKCARD 0511 EDWARDGURKA-MATCO XXXXX96003 TX...   \n",
       "3                            Caseys |SEP| Casey''s Lincoln   \n",
       "4        Point Of Sale Withdrawal HUGO INSURANCE SOLNHT...   \n",
       "...                                                    ...   \n",
       "4999995          GOOGLE *Playrix Games |SEP| Playrix Games   \n",
       "4999996  Signature POS Debit 05/03 VA RIDGEWAY CMSVEND*...   \n",
       "4999997  Signature POS Debit 05/03 VA RIDGEWAY CMSVEND*...   \n",
       "4999998  Signature POS Debit 05/03 VA RIDGEWAY CMSVEND*...   \n",
       "4999999  Signature POS Debit 05/03 VA RIDGEWAY CMSVEND*...   \n",
       "\n",
       "                                                   sent_m2  \n",
       "0        MOBILE PURCHASE 0505 HART-FLAMINGOFARES.COM TA...  \n",
       "1        PURCHASE AUTHORIZED ON 05/07 KIDS UNLIMITED IN...  \n",
       "2        CHECKCARD 0511 EDWARDGURKA-MATCO XXXXX96003 TX...  \n",
       "3                                    Caseys |SEP| Casey''s  \n",
       "4        Point Of Sale Withdrawal HUGO INSURANCE SOLNHT...  \n",
       "...                                                    ...  \n",
       "4999995                   GOOGLE *Playrix Games |SEP| King  \n",
       "4999996  Signature POS Debit 05/03 VA RIDGEWAY CMSVEND*...  \n",
       "4999997  Signature POS Debit 05/03 VA RIDGEWAY CMSVEND*...  \n",
       "4999998  Signature POS Debit 05/03 VA RIDGEWAY CMSVEND*...  \n",
       "4999999  Signature POS Debit 05/03 VA RIDGEWAY CMSVEND*...  \n",
       "\n",
       "[5000000 rows x 9 columns]"
      ]
     },
     "execution_count": 76,
     "metadata": {},
     "output_type": "execute_result"
    }
   ],
   "source": [
    "df_data_raw"
   ]
  },
  {
   "cell_type": "code",
   "execution_count": null,
   "metadata": {},
   "outputs": [],
   "source": [
    "text_col1 = 'sent_m1'\n",
    "text_col2 = 'sent_m2'"
   ]
  },
  {
   "cell_type": "code",
   "execution_count": null,
   "metadata": {},
   "outputs": [],
   "source": [
    "from datasets import Dataset\n",
    "\n",
    "ds_train = Dataset.from_pandas(df_train[[label_col,text_col1,text_col2]])\n",
    "ds_val = Dataset.from_pandas(df_val[[label_col,text_col1,text_col2]])\n",
    "ds_test = Dataset.from_pandas(df_test[[label_col,text_col1,text_col2]])\n",
    "\n",
    "ds_train = ds_train.rename_columns({label_col: \"score\",text_col1:\"sentence1\", text_col2:\"sentence2\"})\n",
    "ds_val = ds_val.rename_columns({label_col: \"score\",text_col1:\"sentence1\", text_col2:\"sentence2\"})\n",
    "ds_test = ds_test.rename_columns({label_col: \"score\",text_col1:\"sentence1\", text_col2:\"sentence2\"})\n",
    "\n"
   ]
  },
  {
   "cell_type": "code",
   "execution_count": null,
   "metadata": {},
   "outputs": [
    {
     "data": {
      "text/plain": [
       "Dataset({\n",
       "    features: ['score', 'sentence1', 'sentence2'],\n",
       "    num_rows: 250000\n",
       "})"
      ]
     },
     "execution_count": 79,
     "metadata": {},
     "output_type": "execute_result"
    }
   ],
   "source": [
    "ds_test"
   ]
  },
  {
   "cell_type": "code",
   "execution_count": null,
   "metadata": {},
   "outputs": [
    {
     "name": "stdout",
     "output_type": "stream",
     "text": [
      "Directory created successfully!\n"
     ]
    }
   ],
   "source": [
    "import os\n",
    "directory = \"/home/sagemaker-user/logs\"\n",
    "\n",
    "# Check if the directory already exists\n",
    "if not os.path.exists(directory):\n",
    "    # Create the directory\n",
    "    os.makedirs(directory)\n",
    "    print(\"Directory created successfully!\")\n",
    "else:\n",
    "    print(\"Directory already exists!\")"
   ]
  },
  {
   "cell_type": "code",
   "execution_count": null,
   "metadata": {},
   "outputs": [],
   "source": [
    "from sentence_transformers.training_args import SentenceTransformerTrainingArguments\n",
    "from sentence_transformers.training_args import BatchSamplers\n",
    "from sentence_transformers.evaluation import EmbeddingSimilarityEvaluator, SimilarityFunction\n",
    "from sentence_transformers import SentenceTransformerTrainer"
   ]
  },
  {
   "cell_type": "code",
   "execution_count": null,
   "metadata": {},
   "outputs": [],
   "source": [
    "args = SentenceTransformerTrainingArguments(\n",
    "    # Required parameter:\n",
    "    output_dir=\"/home/sagemaker-user/models/model11\",\n",
    "    # Optional training parameters:\n",
    "    num_train_epochs=3,\n",
    "    per_device_train_batch_size=128,\n",
    "    per_device_eval_batch_size=128,\n",
    "    warmup_ratio=0.1,\n",
    "    fp16=True,  # Set to False if you get an error that your GPU can't run on FP16\n",
    "    bf16=False,  # Set to True if you have a GPU that supports BF16\n",
    "    batch_sampler=BatchSamplers.NO_DUPLICATES,  # losses that use \"in-batch negatives\" benefit from no duplicates\n",
    "    # Optional tracking/debugging parameters:\n",
    "    evaluation_strategy=\"steps\", #eval_strategy=\"steps\",\n",
    "    eval_steps=500,\n",
    "    save_strategy=\"steps\",\n",
    "    save_steps=500,\n",
    "    save_total_limit=100,\n",
    "    logging_steps=500,\n",
    "    run_name=\"test1\",  # Will be used in W&B if `wandb` is installed\n",
    "    load_best_model_at_end= True,\n",
    "    logging_dir=\"/home/sagemaker-user/logs\",\n",
    ")"
   ]
  },
  {
   "cell_type": "code",
   "execution_count": null,
   "metadata": {},
   "outputs": [
    {
     "data": {
      "text/plain": [
       "{'score': 1,\n",
       " 'sentence1': 'Betmgm Online |SEP| BetMGM.com',\n",
       " 'sentence2': 'Betmgm Online |SEP| BetMGM'}"
      ]
     },
     "execution_count": 84,
     "metadata": {},
     "output_type": "execute_result"
    }
   ],
   "source": [
    "ds_val[0]"
   ]
  },
  {
   "cell_type": "code",
   "execution_count": null,
   "metadata": {},
   "outputs": [],
   "source": [
    "dev_evaluator = EmbeddingSimilarityEvaluator(\n",
    "    sentences1=df_val[text_col1],\n",
    "    sentences2=df_val[text_col2],\n",
    "    scores=df_val[label_col],\n",
    "    main_similarity=SimilarityFunction.COSINE,\n",
    "    name=\"sts-dev\",\n",
    ")"
   ]
  },
  {
   "cell_type": "code",
   "execution_count": null,
   "metadata": {},
   "outputs": [],
   "source": [
    "#dev_evaluator(model)\n"
   ]
  },
  {
   "cell_type": "code",
   "execution_count": null,
   "metadata": {},
   "outputs": [],
   "source": [
    "train_loss = CoSENTLoss(model)"
   ]
  },
  {
   "cell_type": "code",
   "execution_count": null,
   "metadata": {},
   "outputs": [
    {
     "name": "stderr",
     "output_type": "stream",
     "text": [
      "Detected kernel version 4.14.344, which is below the recommended minimum of 5.5.0; this can cause the process to hang. It is recommended to upgrade the kernel to the minimum version or higher.\n"
     ]
    },
    {
     "data": {
      "text/html": [
       "\n",
       "    <div>\n",
       "      \n",
       "      <progress value='5001' max='100197' style='width:300px; height:20px; vertical-align: middle;'></progress>\n",
       "      [  5001/100197 1:39:36 < 31:36:43, 0.84 it/s, Epoch 0.15/3]\n",
       "    </div>\n",
       "    <table border=\"1\" class=\"dataframe\">\n",
       "  <thead>\n",
       " <tr style=\"text-align: left;\">\n",
       "      <th>Step</th>\n",
       "      <th>Training Loss</th>\n",
       "      <th>Validation Loss</th>\n",
       "    </tr>\n",
       "  </thead>\n",
       "  <tbody>\n",
       "    <tr>\n",
       "      <td>500</td>\n",
       "      <td>7.150000</td>\n",
       "      <td>3.296224</td>\n",
       "    </tr>\n",
       "    <tr>\n",
       "      <td>1000</td>\n",
       "      <td>3.264200</td>\n",
       "      <td>1.996672</td>\n",
       "    </tr>\n",
       "    <tr>\n",
       "      <td>1500</td>\n",
       "      <td>2.353200</td>\n",
       "      <td>1.591059</td>\n",
       "    </tr>\n",
       "    <tr>\n",
       "      <td>2000</td>\n",
       "      <td>1.793400</td>\n",
       "      <td>1.385806</td>\n",
       "    </tr>\n",
       "    <tr>\n",
       "      <td>2500</td>\n",
       "      <td>1.354700</td>\n",
       "      <td>1.016969</td>\n",
       "    </tr>\n",
       "    <tr>\n",
       "      <td>3000</td>\n",
       "      <td>1.394100</td>\n",
       "      <td>0.773053</td>\n",
       "    </tr>\n",
       "    <tr>\n",
       "      <td>3500</td>\n",
       "      <td>1.073000</td>\n",
       "      <td>0.867277</td>\n",
       "    </tr>\n",
       "    <tr>\n",
       "      <td>4000</td>\n",
       "      <td>0.821800</td>\n",
       "      <td>0.730691</td>\n",
       "    </tr>\n",
       "    <tr>\n",
       "      <td>4500</td>\n",
       "      <td>0.955300</td>\n",
       "      <td>0.662750</td>\n",
       "    </tr>\n",
       "  </tbody>\n",
       "</table><p>\n",
       "    <div>\n",
       "      \n",
       "      <progress value='775' max='3711' style='width:300px; height:20px; vertical-align: middle;'></progress>\n",
       "      [ 775/3711 01:31 < 05:45, 8.49 it/s]\n",
       "    </div>\n",
       "    "
      ],
      "text/plain": [
       "<IPython.core.display.HTML object>"
      ]
     },
     "metadata": {},
     "output_type": "display_data"
    },
    {
     "data": {
      "application/vnd.jupyter.widget-view+json": {
       "model_id": "7acf9aefce854949a2dc11aeabe7e6e4",
       "version_major": 2,
       "version_minor": 0
      },
      "text/plain": [
       "Computing widget examples:   0%|          | 0/1 [00:00<?, ?example/s]"
      ]
     },
     "metadata": {},
     "output_type": "display_data"
    }
   ],
   "source": [
    "# 7. Create a trainer & train\n",
    "trainer = SentenceTransformerTrainer(\n",
    "    model=model,\n",
    "    args=args,\n",
    "    train_dataset=ds_train,\n",
    "    eval_dataset=ds_val,\n",
    "    loss=train_loss,\n",
    "    #evaluator=dev_evaluator,\n",
    ")\n",
    "trainer.train()\n",
    "#resume_from_checkpoint=\"/home/sagemaker-user/models/model9/checkpoint-1600\""
   ]
  },
  {
   "cell_type": "markdown",
   "metadata": {},
   "source": []
  },
  {
   "cell_type": "markdown",
   "metadata": {},
   "source": []
  },
  {
   "cell_type": "code",
   "execution_count": null,
   "metadata": {},
   "outputs": [],
   "source": []
  },
  {
   "cell_type": "code",
   "execution_count": null,
   "metadata": {},
   "outputs": [
    {
     "name": "stderr",
     "output_type": "stream",
     "text": [
      "huggingface/tokenizers: The current process just got forked, after parallelism has already been used. Disabling parallelism to avoid deadlocks...\n",
      "To disable this warning, you can either:\n",
      "\t- Avoid using `tokenizers` before the fork if possible\n",
      "\t- Explicitly set the environment variable TOKENIZERS_PARALLELISM=(true | false)\n"
     ]
    },
    {
     "name": "stdout",
     "output_type": "stream",
     "text": [
      "Requirement already satisfied: sentence_transformers in /opt/conda/lib/python3.10/site-packages (3.0.0)\n",
      "Requirement already satisfied: transformers<5.0.0,>=4.34.0 in /opt/conda/lib/python3.10/site-packages (from sentence_transformers) (4.41.2)\n",
      "Requirement already satisfied: tqdm in /opt/conda/lib/python3.10/site-packages (from sentence_transformers) (4.66.4)\n",
      "Requirement already satisfied: torch>=1.11.0 in /opt/conda/lib/python3.10/site-packages (from sentence_transformers) (2.0.0.post200)\n",
      "Requirement already satisfied: numpy in /opt/conda/lib/python3.10/site-packages (from sentence_transformers) (1.26.4)\n",
      "Requirement already satisfied: scikit-learn in /opt/conda/lib/python3.10/site-packages (from sentence_transformers) (1.4.2)\n",
      "Requirement already satisfied: scipy in /opt/conda/lib/python3.10/site-packages (from sentence_transformers) (1.11.4)\n",
      "Requirement already satisfied: huggingface-hub>=0.15.1 in /opt/conda/lib/python3.10/site-packages (from sentence_transformers) (0.23.0)\n",
      "Requirement already satisfied: Pillow in /opt/conda/lib/python3.10/site-packages (from sentence_transformers) (9.5.0)\n",
      "Requirement already satisfied: filelock in /opt/conda/lib/python3.10/site-packages (from huggingface-hub>=0.15.1->sentence_transformers) (3.14.0)\n",
      "Requirement already satisfied: fsspec>=2023.5.0 in /opt/conda/lib/python3.10/site-packages (from huggingface-hub>=0.15.1->sentence_transformers) (2023.6.0)\n",
      "Requirement already satisfied: packaging>=20.9 in /opt/conda/lib/python3.10/site-packages (from huggingface-hub>=0.15.1->sentence_transformers) (23.2)\n",
      "Requirement already satisfied: pyyaml>=5.1 in /opt/conda/lib/python3.10/site-packages (from huggingface-hub>=0.15.1->sentence_transformers) (6.0.1)\n",
      "Requirement already satisfied: requests in /opt/conda/lib/python3.10/site-packages (from huggingface-hub>=0.15.1->sentence_transformers) (2.31.0)\n",
      "Requirement already satisfied: typing-extensions>=3.7.4.3 in /opt/conda/lib/python3.10/site-packages (from huggingface-hub>=0.15.1->sentence_transformers) (4.5.0)\n",
      "Requirement already satisfied: sympy in /opt/conda/lib/python3.10/site-packages (from torch>=1.11.0->sentence_transformers) (1.12)\n",
      "Requirement already satisfied: networkx in /opt/conda/lib/python3.10/site-packages (from torch>=1.11.0->sentence_transformers) (3.3)\n",
      "Requirement already satisfied: jinja2 in /opt/conda/lib/python3.10/site-packages (from torch>=1.11.0->sentence_transformers) (3.1.4)\n",
      "Requirement already satisfied: regex!=2019.12.17 in /opt/conda/lib/python3.10/site-packages (from transformers<5.0.0,>=4.34.0->sentence_transformers) (2024.5.10)\n",
      "Requirement already satisfied: tokenizers<0.20,>=0.19 in /opt/conda/lib/python3.10/site-packages (from transformers<5.0.0,>=4.34.0->sentence_transformers) (0.19.1)\n",
      "Requirement already satisfied: safetensors>=0.4.1 in /opt/conda/lib/python3.10/site-packages (from transformers<5.0.0,>=4.34.0->sentence_transformers) (0.4.3)\n",
      "Requirement already satisfied: joblib>=1.2.0 in /opt/conda/lib/python3.10/site-packages (from scikit-learn->sentence_transformers) (1.4.2)\n",
      "Requirement already satisfied: threadpoolctl>=2.0.0 in /opt/conda/lib/python3.10/site-packages (from scikit-learn->sentence_transformers) (3.5.0)\n",
      "Requirement already satisfied: MarkupSafe>=2.0 in /opt/conda/lib/python3.10/site-packages (from jinja2->torch>=1.11.0->sentence_transformers) (2.1.5)\n",
      "Requirement already satisfied: charset-normalizer<4,>=2 in /opt/conda/lib/python3.10/site-packages (from requests->huggingface-hub>=0.15.1->sentence_transformers) (3.3.2)\n",
      "Requirement already satisfied: idna<4,>=2.5 in /opt/conda/lib/python3.10/site-packages (from requests->huggingface-hub>=0.15.1->sentence_transformers) (3.7)\n",
      "Requirement already satisfied: urllib3<3,>=1.21.1 in /opt/conda/lib/python3.10/site-packages (from requests->huggingface-hub>=0.15.1->sentence_transformers) (1.26.18)\n",
      "Requirement already satisfied: certifi>=2017.4.17 in /opt/conda/lib/python3.10/site-packages (from requests->huggingface-hub>=0.15.1->sentence_transformers) (2024.2.2)\n",
      "Requirement already satisfied: mpmath>=0.19 in /opt/conda/lib/python3.10/site-packages (from sympy->torch>=1.11.0->sentence_transformers) (1.3.0)\n",
      "Note: you may need to restart the kernel to use updated packages.\n"
     ]
    }
   ],
   "source": [
    "# # (Optional) Evaluate the trained model on the test set\n",
    "# test_evaluator = TripletEvaluator(\n",
    "#     anchors=df_test[\"sentence\"],\n",
    "#     positives=df_test[\"true_merchant_name_combined\"],\n",
    "#     negatives=test_dataset[\"true_label\"],\n",
    "#     name=\"pairs-test1\",\n",
    "# )\n",
    "# test_evaluator(model)\n",
    "\n",
    "# 8. Save the trained model\n",
    "model.save_pretrained(\"/home/sagemaker-user/models/model9final\")"
   ]
  },
  {
   "cell_type": "code",
   "execution_count": null,
   "metadata": {},
   "outputs": [
    {
     "name": "stdout",
     "output_type": "stream",
     "text": [
      "1_Pooling\t\t\t   scheduler.pt\n",
      "README.md\t\t\t   sentence_bert_config.json\n",
      "config.json\t\t\t   special_tokens_map.json\n",
      "config_sentence_transformers.json  tokenizer.json\n",
      "model.safetensors\t\t   tokenizer_config.json\n",
      "modules.json\t\t\t   trainer_state.json\n",
      "optimizer.pt\t\t\t   training_args.bin\n",
      "rng_state.pth\t\t\t   vocab.txt\n"
     ]
    },
    {
     "name": "stderr",
     "output_type": "stream",
     "text": [
      "huggingface/tokenizers: The current process just got forked, after parallelism has already been used. Disabling parallelism to avoid deadlocks...\n",
      "To disable this warning, you can either:\n",
      "\t- Avoid using `tokenizers` before the fork if possible\n",
      "\t- Explicitly set the environment variable TOKENIZERS_PARALLELISM=(true | false)\n"
     ]
    }
   ],
   "source": [
    "#!ls ./models/model1/checkpoint-600"
   ]
  },
  {
   "cell_type": "code",
   "execution_count": null,
   "metadata": {},
   "outputs": [
    {
     "name": "stdout",
     "output_type": "stream",
     "text": [
      "Successfully uploaded ./models/model1/checkpoint-600/config_sentence_transformers.json to s3://cleo-data-science/transaction_enrichment/experimental_data/caste/pairs_model/model1-checkpoint600/config_sentence_transformers.json\n",
      "Successfully uploaded ./models/model1/checkpoint-600/config.json to s3://cleo-data-science/transaction_enrichment/experimental_data/caste/pairs_model/model1-checkpoint600/config.json\n",
      "Successfully uploaded ./models/model1/checkpoint-600/model.safetensors to s3://cleo-data-science/transaction_enrichment/experimental_data/caste/pairs_model/model1-checkpoint600/model.safetensors\n",
      "Successfully uploaded ./models/model1/checkpoint-600/tokenizer_config.json to s3://cleo-data-science/transaction_enrichment/experimental_data/caste/pairs_model/model1-checkpoint600/tokenizer_config.json\n",
      "Successfully uploaded ./models/model1/checkpoint-600/special_tokens_map.json to s3://cleo-data-science/transaction_enrichment/experimental_data/caste/pairs_model/model1-checkpoint600/special_tokens_map.json\n",
      "Successfully uploaded ./models/model1/checkpoint-600/vocab.txt to s3://cleo-data-science/transaction_enrichment/experimental_data/caste/pairs_model/model1-checkpoint600/vocab.txt\n",
      "Successfully uploaded ./models/model1/checkpoint-600/tokenizer.json to s3://cleo-data-science/transaction_enrichment/experimental_data/caste/pairs_model/model1-checkpoint600/tokenizer.json\n",
      "Successfully uploaded ./models/model1/checkpoint-600/sentence_bert_config.json to s3://cleo-data-science/transaction_enrichment/experimental_data/caste/pairs_model/model1-checkpoint600/sentence_bert_config.json\n",
      "Successfully uploaded ./models/model1/checkpoint-600/modules.json to s3://cleo-data-science/transaction_enrichment/experimental_data/caste/pairs_model/model1-checkpoint600/modules.json\n",
      "Successfully uploaded ./models/model1/checkpoint-600/README.md to s3://cleo-data-science/transaction_enrichment/experimental_data/caste/pairs_model/model1-checkpoint600/README.md\n",
      "Successfully uploaded ./models/model1/checkpoint-600/training_args.bin to s3://cleo-data-science/transaction_enrichment/experimental_data/caste/pairs_model/model1-checkpoint600/training_args.bin\n",
      "Successfully uploaded ./models/model1/checkpoint-600/optimizer.pt to s3://cleo-data-science/transaction_enrichment/experimental_data/caste/pairs_model/model1-checkpoint600/optimizer.pt\n",
      "Successfully uploaded ./models/model1/checkpoint-600/scheduler.pt to s3://cleo-data-science/transaction_enrichment/experimental_data/caste/pairs_model/model1-checkpoint600/scheduler.pt\n",
      "Successfully uploaded ./models/model1/checkpoint-600/rng_state.pth to s3://cleo-data-science/transaction_enrichment/experimental_data/caste/pairs_model/model1-checkpoint600/rng_state.pth\n",
      "Successfully uploaded ./models/model1/checkpoint-600/trainer_state.json to s3://cleo-data-science/transaction_enrichment/experimental_data/caste/pairs_model/model1-checkpoint600/trainer_state.json\n",
      "Successfully uploaded ./models/model1/checkpoint-600/1_Pooling/config.json to s3://cleo-data-science/transaction_enrichment/experimental_data/caste/pairs_model/model1-checkpoint600/1_Pooling/config.json\n"
     ]
    }
   ],
   "source": [
    "#copy \n",
    "import os\n",
    "import boto3\n",
    "from botocore.exceptions import NoCredentialsError, PartialCredentialsError\n",
    "\n",
    "def upload_directory_to_s3(local_directory, bucket_name, s3_directory):\n",
    "    s3_client = boto3.client('s3')\n",
    "\n",
    "    for root, dirs, files in os.walk(local_directory):\n",
    "        for file in files:\n",
    "            local_path = os.path.join(root, file)\n",
    "            relative_path = os.path.relpath(local_path, local_directory)\n",
    "            s3_path = os.path.join(s3_directory, relative_path)\n",
    "\n",
    "            try:\n",
    "                s3_client.upload_file(local_path, bucket_name, s3_path)\n",
    "                print(f'Successfully uploaded {local_path} to s3://{bucket_name}/{s3_path}')\n",
    "            except FileNotFoundError:\n",
    "                print(f'The file {local_path} was not found')\n",
    "            except NoCredentialsError:\n",
    "                print('Credentials not available')\n",
    "            except PartialCredentialsError:\n",
    "                print('Incomplete credentials provided')\n",
    "\n",
    "# Example usage\n",
    "local_directory = \"/home/sagemaker-user/models/model4\"\"\n",
    "bucket_name = 'cleo-data-science'\n",
    "s3_directory = \"transaction_enrichment/experimental_data/caste/pairs_model/model4\"\n",
    "\n",
    "upload_directory_to_s3(local_directory, bucket_name, s3_directory)\n"
   ]
  },
  {
   "cell_type": "code",
   "execution_count": null,
   "metadata": {},
   "outputs": [],
   "source": [
    "## \n",
    "#model = SentenceTransformer(\"./models/model1/checkpoint-600\")\n"
   ]
  },
  {
   "cell_type": "code",
   "execution_count": null,
   "metadata": {},
   "outputs": [],
   "source": [
    "list_unique_merchants = df_train['merchant_name_combined'].tolist()\n",
    "embeddings_merchants = model.encode(list_unique_merchants)\n",
    "embeddings_merchants.shape"
   ]
  },
  {
   "cell_type": "code",
   "execution_count": null,
   "metadata": {},
   "outputs": [],
   "source": [
    "df_test['pred_merchant'] = None\n",
    "df_test['pred_prob'] = 0.0\n",
    "batch_size = 1000"
   ]
  },
  {
   "cell_type": "code",
   "execution_count": null,
   "metadata": {},
   "outputs": [
    {
     "data": {
      "text/plain": [
       "(5000, 10)"
      ]
     },
     "execution_count": 92,
     "metadata": {},
     "output_type": "execute_result"
    }
   ],
   "source": [
    "df_test.shape"
   ]
  },
  {
   "cell_type": "code",
   "execution_count": null,
   "metadata": {},
   "outputs": [
    {
     "name": "stdout",
     "output_type": "stream",
     "text": [
      "0 1000\n",
      "torch.Size([1000, 85500])\n",
      "1000 2000\n",
      "torch.Size([1000, 85500])\n",
      "2000 3000\n",
      "torch.Size([1000, 85500])\n",
      "3000 4000\n",
      "torch.Size([1000, 85500])\n",
      "4000 5000\n",
      "torch.Size([1000, 85500])\n"
     ]
    }
   ],
   "source": [
    "for istart in np.arange(0, df_test.shape[0]+1, batch_size):\n",
    "    iend = min(df_test.shape[0],istart + batch_size)\n",
    "    if iend> istart:\n",
    "        print(istart, iend)\n",
    "        tx_embeddings = model.encode(df_test['sentence'][istart:iend].tolist())\n",
    "        similarities = model.similarity(tx_embeddings, embeddings_merchants)\n",
    "        print(similarities.shape)\n",
    "        max_vals = torch.max(similarities, axis=1)\n",
    "        max_probs = max_vals[0]\n",
    "        ix_max_merchants = max_vals[1]\n",
    "        predicted_merchant = [list_unique_merchants[i] for i in ix_max_merchants]\n",
    "        df_test.loc[istart:iend-1,'pred_merchant'] =  predicted_merchant\n",
    "        df_test.loc[istart:iend-1,'pred_prob'] =  np.array(max_probs)"
   ]
  },
  {
   "cell_type": "code",
   "execution_count": null,
   "metadata": {},
   "outputs": [
    {
     "name": "stdout",
     "output_type": "stream",
     "text": [
      "0.9052\n"
     ]
    }
   ],
   "source": [
    "ntrue = df_test[df_test['pred_merchant'] == df_test['true_merchant_name_combined']].shape[0]\n",
    "\n",
    "precision = ntrue/df_test.shape[0]\n",
    "print(precision)"
   ]
  },
  {
   "cell_type": "code",
   "execution_count": null,
   "metadata": {},
   "outputs": [],
   "source": [
    "ntrue = df_test[(df_test['pred_merchant'] == df_test['true_merchant_name_combined']) & (df_test['pred_prob']>0.8)].shape[0]\n",
    "\n",
    "accuracy = ntrue/df_test.shape[0]\n",
    "print(accuracy)"
   ]
  },
  {
   "cell_type": "code",
   "execution_count": null,
   "metadata": {},
   "outputs": [],
   "source": [
    "#tp/tp + fp\n",
    "\n"
   ]
  },
  {
   "cell_type": "code",
   "execution_count": null,
   "metadata": {},
   "outputs": [
    {
     "data": {
      "text/html": [
       "<div>\n",
       "<style scoped>\n",
       "    .dataframe tbody tr th:only-of-type {\n",
       "        vertical-align: middle;\n",
       "    }\n",
       "\n",
       "    .dataframe tbody tr th {\n",
       "        vertical-align: top;\n",
       "    }\n",
       "\n",
       "    .dataframe thead th {\n",
       "        text-align: right;\n",
       "    }\n",
       "</style>\n",
       "<table border=\"1\" class=\"dataframe\">\n",
       "  <thead>\n",
       "    <tr style=\"text-align: right;\">\n",
       "      <th></th>\n",
       "      <th>transaction_id</th>\n",
       "      <th>sentence</th>\n",
       "      <th>sentence2</th>\n",
       "      <th>description_combined_processed</th>\n",
       "      <th>true_merchant_name_combined</th>\n",
       "      <th>merchant_name_combined</th>\n",
       "      <th>true_label</th>\n",
       "      <th>label</th>\n",
       "      <th>pred_merchant</th>\n",
       "      <th>pred_prob</th>\n",
       "    </tr>\n",
       "  </thead>\n",
       "  <tbody>\n",
       "    <tr>\n",
       "      <th>0</th>\n",
       "      <td>9796686754</td>\n",
       "      <td>Wal-Mart Super WAL-SAMS SPRINGFIELD MO. Channe...</td>\n",
       "      <td>Wal-Mart Super WAL-SAMS SPRINGFIELD MO. Type: ...</td>\n",
       "      <td>Wal-Mart Super WAL-SAMS SPRINGFIELD MO</td>\n",
       "      <td>Walmart</td>\n",
       "      <td>Smith''s</td>\n",
       "      <td>0</td>\n",
       "      <td>0.310292</td>\n",
       "      <td>Wal Wal-martsuper</td>\n",
       "      <td>0.799137</td>\n",
       "    </tr>\n",
       "    <tr>\n",
       "      <th>1</th>\n",
       "      <td>9799290885</td>\n",
       "      <td>PURCHASE AUTHORIZED ON 05/14 WM SUPERC Wal-Mar...</td>\n",
       "      <td>PURCHASE AUTHORIZED ON 05/14 WM SUPERC Wal-Mar...</td>\n",
       "      <td>PURCHASE AUTHORIZED ON 05/14 WM SUPERC Wal-Mar...</td>\n",
       "      <td>Walmart</td>\n",
       "      <td>Synchrony</td>\n",
       "      <td>0</td>\n",
       "      <td>0.232759</td>\n",
       "      <td>Wal Wal-martsuper</td>\n",
       "      <td>0.775473</td>\n",
       "    </tr>\n",
       "    <tr>\n",
       "      <th>2</th>\n",
       "      <td>9798904474</td>\n",
       "      <td>Walmart.com Bentonville AR XX SIG PURCH 05/13 ...</td>\n",
       "      <td>Walmart.com Bentonville AR XX SIG PURCH 05/13 ...</td>\n",
       "      <td>Walmart.com Bentonville AR XX SIG PURCH 05/13 ...</td>\n",
       "      <td>Walmart</td>\n",
       "      <td>QuikTrip</td>\n",
       "      <td>0</td>\n",
       "      <td>0.075148</td>\n",
       "      <td>Wal Wal-martsuper</td>\n",
       "      <td>0.751793</td>\n",
       "    </tr>\n",
       "    <tr>\n",
       "      <th>3</th>\n",
       "      <td>9801927063</td>\n",
       "      <td>PURCHASE AUTHORIZED ON 05/11 WALMART.COM 800-9...</td>\n",
       "      <td>PURCHASE AUTHORIZED ON 05/11 WALMART.COM 800-9...</td>\n",
       "      <td>PURCHASE AUTHORIZED ON 05/11 WALMART.COM 800-9...</td>\n",
       "      <td>Walmart</td>\n",
       "      <td>Cash App</td>\n",
       "      <td>0</td>\n",
       "      <td>0.078535</td>\n",
       "      <td>Wal Wal-martsuper</td>\n",
       "      <td>0.735269</td>\n",
       "    </tr>\n",
       "    <tr>\n",
       "      <th>4</th>\n",
       "      <td>9799263021</td>\n",
       "      <td>05/13 22:02 WAL-MART # JONESBORO AR CKCD DEBIT...</td>\n",
       "      <td>05/13 22:02 WAL-MART # JONESBORO AR CKCD DEBIT...</td>\n",
       "      <td>05/13 22:02 WAL-MART # JONESBORO AR CKCD DEBIT</td>\n",
       "      <td>Walmart</td>\n",
       "      <td>Marathon Petroleum</td>\n",
       "      <td>0</td>\n",
       "      <td>0.257865</td>\n",
       "      <td>Wal Wal-martsuper</td>\n",
       "      <td>0.751371</td>\n",
       "    </tr>\n",
       "    <tr>\n",
       "      <th>...</th>\n",
       "      <td>...</td>\n",
       "      <td>...</td>\n",
       "      <td>...</td>\n",
       "      <td>...</td>\n",
       "      <td>...</td>\n",
       "      <td>...</td>\n",
       "      <td>...</td>\n",
       "      <td>...</td>\n",
       "      <td>...</td>\n",
       "      <td>...</td>\n",
       "    </tr>\n",
       "    <tr>\n",
       "      <th>469</th>\n",
       "      <td>9807244423</td>\n",
       "      <td>PURCHASE AUTHORIZED ON 05/14 WM SUPERC Wal-Mar...</td>\n",
       "      <td>PURCHASE AUTHORIZED ON 05/14 WM SUPERC Wal-Mar...</td>\n",
       "      <td>PURCHASE AUTHORIZED ON 05/14 WM SUPERC Wal-Mar...</td>\n",
       "      <td>Walmart</td>\n",
       "      <td>Spinstersis</td>\n",
       "      <td>0</td>\n",
       "      <td>0.051089</td>\n",
       "      <td>Wal Wal-martsuper</td>\n",
       "      <td>0.772779</td>\n",
       "    </tr>\n",
       "    <tr>\n",
       "      <th>470</th>\n",
       "      <td>9808452776</td>\n",
       "      <td>Walmart.com 05/14 #XXXXX REFUND Walmart.com Be...</td>\n",
       "      <td>Walmart.com 05/14 #XXXXX REFUND Walmart.com Be...</td>\n",
       "      <td>Walmart.com 05/14 #XXXXX REFUND Walmart.com Be...</td>\n",
       "      <td>Walmart</td>\n",
       "      <td>K Stop Convenience</td>\n",
       "      <td>0</td>\n",
       "      <td>0.018743</td>\n",
       "      <td>Wal Wal-martsuper</td>\n",
       "      <td>0.713919</td>\n",
       "    </tr>\n",
       "    <tr>\n",
       "      <th>471</th>\n",
       "      <td>9798778036</td>\n",
       "      <td>Point of Sale Debit L341 TIME 04:30 PM DATE 05...</td>\n",
       "      <td>Point of Sale Debit L341 TIME 04:30 PM DATE 05...</td>\n",
       "      <td>Point of Sale Debit L341 TIME 04:30 PM DATE 05...</td>\n",
       "      <td>Walmart</td>\n",
       "      <td>Ross Stores</td>\n",
       "      <td>0</td>\n",
       "      <td>0.114881</td>\n",
       "      <td>Wal Wal-martsuper</td>\n",
       "      <td>0.766499</td>\n",
       "    </tr>\n",
       "    <tr>\n",
       "      <th>472</th>\n",
       "      <td>9807593604</td>\n",
       "      <td>CHECKCARD WALMART STA ELENA LA LIBERTAD XXXXX ...</td>\n",
       "      <td>CHECKCARD WALMART STA ELENA LA LIBERTAD XXXXX ...</td>\n",
       "      <td>CHECKCARD WALMART STA ELENA LA LIBERTAD XXXXX ...</td>\n",
       "      <td>Walmart</td>\n",
       "      <td>Lyft</td>\n",
       "      <td>0</td>\n",
       "      <td>0.116438</td>\n",
       "      <td>Wal Wal-martsuper</td>\n",
       "      <td>0.751746</td>\n",
       "    </tr>\n",
       "    <tr>\n",
       "      <th>473</th>\n",
       "      <td>9799287551</td>\n",
       "      <td>WM SUPERCENTER # GLENVILLE NY. Channel: in sto...</td>\n",
       "      <td>WM SUPERCENTER # GLENVILLE NY. Type: merchant....</td>\n",
       "      <td>WM SUPERCENTER # GLENVILLE NY</td>\n",
       "      <td>Walmart</td>\n",
       "      <td>Crenco</td>\n",
       "      <td>0</td>\n",
       "      <td>0.015229</td>\n",
       "      <td>Wal Wal-martsuper</td>\n",
       "      <td>0.674671</td>\n",
       "    </tr>\n",
       "  </tbody>\n",
       "</table>\n",
       "<p>474 rows × 10 columns</p>\n",
       "</div>"
      ],
      "text/plain": [
       "     transaction_id                                           sentence  \\\n",
       "0        9796686754  Wal-Mart Super WAL-SAMS SPRINGFIELD MO. Channe...   \n",
       "1        9799290885  PURCHASE AUTHORIZED ON 05/14 WM SUPERC Wal-Mar...   \n",
       "2        9798904474  Walmart.com Bentonville AR XX SIG PURCH 05/13 ...   \n",
       "3        9801927063  PURCHASE AUTHORIZED ON 05/11 WALMART.COM 800-9...   \n",
       "4        9799263021  05/13 22:02 WAL-MART # JONESBORO AR CKCD DEBIT...   \n",
       "..              ...                                                ...   \n",
       "469      9807244423  PURCHASE AUTHORIZED ON 05/14 WM SUPERC Wal-Mar...   \n",
       "470      9808452776  Walmart.com 05/14 #XXXXX REFUND Walmart.com Be...   \n",
       "471      9798778036  Point of Sale Debit L341 TIME 04:30 PM DATE 05...   \n",
       "472      9807593604  CHECKCARD WALMART STA ELENA LA LIBERTAD XXXXX ...   \n",
       "473      9799287551  WM SUPERCENTER # GLENVILLE NY. Channel: in sto...   \n",
       "\n",
       "                                             sentence2  \\\n",
       "0    Wal-Mart Super WAL-SAMS SPRINGFIELD MO. Type: ...   \n",
       "1    PURCHASE AUTHORIZED ON 05/14 WM SUPERC Wal-Mar...   \n",
       "2    Walmart.com Bentonville AR XX SIG PURCH 05/13 ...   \n",
       "3    PURCHASE AUTHORIZED ON 05/11 WALMART.COM 800-9...   \n",
       "4    05/13 22:02 WAL-MART # JONESBORO AR CKCD DEBIT...   \n",
       "..                                                 ...   \n",
       "469  PURCHASE AUTHORIZED ON 05/14 WM SUPERC Wal-Mar...   \n",
       "470  Walmart.com 05/14 #XXXXX REFUND Walmart.com Be...   \n",
       "471  Point of Sale Debit L341 TIME 04:30 PM DATE 05...   \n",
       "472  CHECKCARD WALMART STA ELENA LA LIBERTAD XXXXX ...   \n",
       "473  WM SUPERCENTER # GLENVILLE NY. Type: merchant....   \n",
       "\n",
       "                        description_combined_processed  \\\n",
       "0               Wal-Mart Super WAL-SAMS SPRINGFIELD MO   \n",
       "1    PURCHASE AUTHORIZED ON 05/14 WM SUPERC Wal-Mar...   \n",
       "2    Walmart.com Bentonville AR XX SIG PURCH 05/13 ...   \n",
       "3    PURCHASE AUTHORIZED ON 05/11 WALMART.COM 800-9...   \n",
       "4      05/13 22:02 WAL-MART # JONESBORO AR CKCD DEBIT    \n",
       "..                                                 ...   \n",
       "469  PURCHASE AUTHORIZED ON 05/14 WM SUPERC Wal-Mar...   \n",
       "470  Walmart.com 05/14 #XXXXX REFUND Walmart.com Be...   \n",
       "471  Point of Sale Debit L341 TIME 04:30 PM DATE 05...   \n",
       "472  CHECKCARD WALMART STA ELENA LA LIBERTAD XXXXX ...   \n",
       "473                      WM SUPERCENTER # GLENVILLE NY   \n",
       "\n",
       "    true_merchant_name_combined merchant_name_combined  true_label     label  \\\n",
       "0                       Walmart               Smith''s           0  0.310292   \n",
       "1                       Walmart              Synchrony           0  0.232759   \n",
       "2                       Walmart               QuikTrip           0  0.075148   \n",
       "3                       Walmart               Cash App           0  0.078535   \n",
       "4                       Walmart     Marathon Petroleum           0  0.257865   \n",
       "..                          ...                    ...         ...       ...   \n",
       "469                     Walmart            Spinstersis           0  0.051089   \n",
       "470                     Walmart     K Stop Convenience           0  0.018743   \n",
       "471                     Walmart            Ross Stores           0  0.114881   \n",
       "472                     Walmart                   Lyft           0  0.116438   \n",
       "473                     Walmart                 Crenco           0  0.015229   \n",
       "\n",
       "         pred_merchant  pred_prob  \n",
       "0    Wal Wal-martsuper   0.799137  \n",
       "1    Wal Wal-martsuper   0.775473  \n",
       "2    Wal Wal-martsuper   0.751793  \n",
       "3    Wal Wal-martsuper   0.735269  \n",
       "4    Wal Wal-martsuper   0.751371  \n",
       "..                 ...        ...  \n",
       "469  Wal Wal-martsuper   0.772779  \n",
       "470  Wal Wal-martsuper   0.713919  \n",
       "471  Wal Wal-martsuper   0.766499  \n",
       "472  Wal Wal-martsuper   0.751746  \n",
       "473  Wal Wal-martsuper   0.674671  \n",
       "\n",
       "[474 rows x 10 columns]"
      ]
     },
     "execution_count": 116,
     "metadata": {},
     "output_type": "execute_result"
    }
   ],
   "source": [
    "df_no_match = df_test[df_test['pred_merchant'] != df_test['true_merchant_name_combined']]\n",
    "df_no_match.reset_index(drop=True, inplace=True)\n",
    "df_no_match"
   ]
  },
  {
   "cell_type": "code",
   "execution_count": null,
   "metadata": {},
   "outputs": [
    {
     "data": {
      "text/html": [
       "<div>\n",
       "<style scoped>\n",
       "    .dataframe tbody tr th:only-of-type {\n",
       "        vertical-align: middle;\n",
       "    }\n",
       "\n",
       "    .dataframe tbody tr th {\n",
       "        vertical-align: top;\n",
       "    }\n",
       "\n",
       "    .dataframe thead th {\n",
       "        text-align: right;\n",
       "    }\n",
       "</style>\n",
       "<table border=\"1\" class=\"dataframe\">\n",
       "  <thead>\n",
       "    <tr style=\"text-align: right;\">\n",
       "      <th></th>\n",
       "      <th>transaction_id</th>\n",
       "      <th>sentence</th>\n",
       "      <th>sentence2</th>\n",
       "      <th>description_combined_processed</th>\n",
       "      <th>true_merchant_name_combined</th>\n",
       "      <th>merchant_name_combined</th>\n",
       "      <th>true_label</th>\n",
       "      <th>label</th>\n",
       "      <th>pred_merchant</th>\n",
       "      <th>pred_prob</th>\n",
       "    </tr>\n",
       "  </thead>\n",
       "  <tbody>\n",
       "    <tr>\n",
       "      <th>0</th>\n",
       "      <td>9796686754</td>\n",
       "      <td>Wal-Mart Super WAL-SAMS SPRINGFIELD MO. Channe...</td>\n",
       "      <td>Wal-Mart Super WAL-SAMS SPRINGFIELD MO. Type: ...</td>\n",
       "      <td>Wal-Mart Super WAL-SAMS SPRINGFIELD MO</td>\n",
       "      <td>Walmart</td>\n",
       "      <td>Smith''s</td>\n",
       "      <td>0</td>\n",
       "      <td>0.310292</td>\n",
       "      <td>Wal Wal-martsuper</td>\n",
       "      <td>0.799137</td>\n",
       "    </tr>\n",
       "    <tr>\n",
       "      <th>13</th>\n",
       "      <td>9799066977</td>\n",
       "      <td>ONLINE TRANSFER FROM MCDONALD J WELLS FARGO CL...</td>\n",
       "      <td>ONLINE TRANSFER FROM MCDONALD J WELLS FARGO CL...</td>\n",
       "      <td>ONLINE TRANSFER FROM MCDONALD J WELLS FARGO CL...</td>\n",
       "      <td>Wells Fargo</td>\n",
       "      <td>Empower</td>\n",
       "      <td>0</td>\n",
       "      <td>0.416453</td>\n",
       "      <td>McDonald''s</td>\n",
       "      <td>0.939226</td>\n",
       "    </tr>\n",
       "    <tr>\n",
       "      <th>18</th>\n",
       "      <td>9813217231</td>\n",
       "      <td>POS PURCHASE POS WM SUPERCENTER GREENVILLE PA....</td>\n",
       "      <td>POS PURCHASE POS WM SUPERCENTER GREENVILLE PA....</td>\n",
       "      <td>POS PURCHASE POS WM SUPERCENTER GREENVILLE PA</td>\n",
       "      <td>Walmart</td>\n",
       "      <td>RaceTrac</td>\n",
       "      <td>0</td>\n",
       "      <td>0.288263</td>\n",
       "      <td>McDonald''s</td>\n",
       "      <td>0.630497</td>\n",
       "    </tr>\n",
       "    <tr>\n",
       "      <th>36</th>\n",
       "      <td>9795670664</td>\n",
       "      <td>POS PURCH : WM SUPERCENTER # GA BAXLEY WM SUPE...</td>\n",
       "      <td>POS PURCH : WM SUPERCENTER # GA BAXLEY WM SUPE...</td>\n",
       "      <td>POS PURCH : WM SUPERCENTER # GA BAXLEY WM SUPE...</td>\n",
       "      <td>Walmart</td>\n",
       "      <td>Synchrony</td>\n",
       "      <td>0</td>\n",
       "      <td>0.000095</td>\n",
       "      <td>U.s. Retailers</td>\n",
       "      <td>0.642287</td>\n",
       "    </tr>\n",
       "    <tr>\n",
       "      <th>269</th>\n",
       "      <td>9800470341</td>\n",
       "      <td>ZELLE TO FEDRA ON 05/14 REF #RP0S842CWR WALMAR...</td>\n",
       "      <td>ZELLE TO FEDRA ON 05/14 REF #RP0S842CWR WALMAR...</td>\n",
       "      <td>ZELLE TO FEDRA ON 05/14 REF #RP0S842CWR WALMART</td>\n",
       "      <td>Walmart</td>\n",
       "      <td>Bank of America</td>\n",
       "      <td>0</td>\n",
       "      <td>0.030782</td>\n",
       "      <td>Zelle</td>\n",
       "      <td>0.705138</td>\n",
       "    </tr>\n",
       "  </tbody>\n",
       "</table>\n",
       "</div>"
      ],
      "text/plain": [
       "     transaction_id                                           sentence  \\\n",
       "0        9796686754  Wal-Mart Super WAL-SAMS SPRINGFIELD MO. Channe...   \n",
       "13       9799066977  ONLINE TRANSFER FROM MCDONALD J WELLS FARGO CL...   \n",
       "18       9813217231  POS PURCHASE POS WM SUPERCENTER GREENVILLE PA....   \n",
       "36       9795670664  POS PURCH : WM SUPERCENTER # GA BAXLEY WM SUPE...   \n",
       "269      9800470341  ZELLE TO FEDRA ON 05/14 REF #RP0S842CWR WALMAR...   \n",
       "\n",
       "                                             sentence2  \\\n",
       "0    Wal-Mart Super WAL-SAMS SPRINGFIELD MO. Type: ...   \n",
       "13   ONLINE TRANSFER FROM MCDONALD J WELLS FARGO CL...   \n",
       "18   POS PURCHASE POS WM SUPERCENTER GREENVILLE PA....   \n",
       "36   POS PURCH : WM SUPERCENTER # GA BAXLEY WM SUPE...   \n",
       "269  ZELLE TO FEDRA ON 05/14 REF #RP0S842CWR WALMAR...   \n",
       "\n",
       "                        description_combined_processed  \\\n",
       "0               Wal-Mart Super WAL-SAMS SPRINGFIELD MO   \n",
       "13   ONLINE TRANSFER FROM MCDONALD J WELLS FARGO CL...   \n",
       "18       POS PURCHASE POS WM SUPERCENTER GREENVILLE PA   \n",
       "36   POS PURCH : WM SUPERCENTER # GA BAXLEY WM SUPE...   \n",
       "269    ZELLE TO FEDRA ON 05/14 REF #RP0S842CWR WALMART   \n",
       "\n",
       "    true_merchant_name_combined merchant_name_combined  true_label     label  \\\n",
       "0                       Walmart               Smith''s           0  0.310292   \n",
       "13                  Wells Fargo                Empower           0  0.416453   \n",
       "18                      Walmart               RaceTrac           0  0.288263   \n",
       "36                      Walmart              Synchrony           0  0.000095   \n",
       "269                     Walmart        Bank of America           0  0.030782   \n",
       "\n",
       "         pred_merchant  pred_prob  \n",
       "0    Wal Wal-martsuper   0.799137  \n",
       "13         McDonald''s   0.939226  \n",
       "18         McDonald''s   0.630497  \n",
       "36      U.s. Retailers   0.642287  \n",
       "269              Zelle   0.705138  "
      ]
     },
     "execution_count": 118,
     "metadata": {},
     "output_type": "execute_result"
    }
   ],
   "source": [
    "df_no_match.drop_duplicates(subset = ['true_merchant_name_combined','pred_merchant'])"
   ]
  },
  {
   "cell_type": "code",
   "execution_count": null,
   "metadata": {},
   "outputs": [
    {
     "data": {
      "text/plain": [
       "'ONLINE TRANSFER FROM MCDONALD J WELLS FARGO CLEAR ACCESS BANKING XXXXXX REF #IB0N78QNRB ON 05/14/24. Channel: None. Amount: 90.0'"
      ]
     },
     "execution_count": 122,
     "metadata": {},
     "output_type": "execute_result"
    }
   ],
   "source": [
    "df_no_match.loc[13,'sentence']"
   ]
  },
  {
   "cell_type": "code",
   "execution_count": null,
   "metadata": {},
   "outputs": [
    {
     "data": {
      "text/plain": [
       "'ZELLE TO FEDRA ON 05/14 REF #RP0S842CWR WALMART. Channel: None. Amount: -98.77'"
      ]
     },
     "execution_count": 120,
     "metadata": {},
     "output_type": "execute_result"
    }
   ],
   "source": [
    "df_no_match.loc[269,'sentence']"
   ]
  },
  {
   "cell_type": "code",
   "execution_count": null,
   "metadata": {},
   "outputs": [],
   "source": [
    "# do a precision-recall curve"
   ]
  },
  {
   "cell_type": "code",
   "execution_count": null,
   "metadata": {},
   "outputs": [
    {
     "data": {
      "text/plain": [
       "(4526, 10)"
      ]
     },
     "execution_count": 108,
     "metadata": {},
     "output_type": "execute_result"
    }
   ],
   "source": []
  },
  {
   "cell_type": "code",
   "execution_count": null,
   "metadata": {},
   "outputs": [],
   "source": []
  },
  {
   "cell_type": "code",
   "execution_count": null,
   "metadata": {},
   "outputs": [
    {
     "data": {
      "text/plain": [
       "true_merchant_name_combined\n",
       "Amazon         12848\n",
       "Cash App       12840\n",
       "Earnin         12825\n",
       "Wells Fargo    12812\n",
       "McDonald''s    12811\n",
       "Zelle          12781\n",
       "Walmart         8583\n",
       "Name: count, dtype: Int64"
      ]
     },
     "execution_count": 80,
     "metadata": {},
     "output_type": "execute_result"
    }
   ],
   "source": [
    "df_train['true_merchant_name_combined'].value_counts()"
   ]
  },
  {
   "cell_type": "code",
   "execution_count": null,
   "metadata": {},
   "outputs": [
    {
     "data": {
      "text/plain": [
       "7"
      ]
     },
     "execution_count": 81,
     "metadata": {},
     "output_type": "execute_result"
    }
   ],
   "source": [
    "df_train['true_merchant_name_combined'].nunique()"
   ]
  },
  {
   "cell_type": "code",
   "execution_count": null,
   "metadata": {},
   "outputs": [
    {
     "data": {
      "text/plain": [
       "true_merchant_name_combined\n",
       "Zelle          796\n",
       "Wells Fargo    757\n",
       "Amazon         756\n",
       "Cash App       746\n",
       "McDonald''s    745\n",
       "Earnin         729\n",
       "Walmart        471\n",
       "Name: count, dtype: Int64"
      ]
     },
     "execution_count": 78,
     "metadata": {},
     "output_type": "execute_result"
    }
   ],
   "source": [
    "df_test['true_merchant_name_combined'].value_counts()"
   ]
  },
  {
   "cell_type": "code",
   "execution_count": null,
   "metadata": {},
   "outputs": [
    {
     "data": {
      "text/plain": [
       "true_merchant_name_combined\n",
       "Earnin         1446\n",
       "McDonald''s    1444\n",
       "Wells Fargo    1431\n",
       "Zelle          1423\n",
       "Cash App       1414\n",
       "Amazon         1396\n",
       "Walmart         946\n",
       "Name: count, dtype: Int64"
      ]
     },
     "execution_count": 79,
     "metadata": {},
     "output_type": "execute_result"
    }
   ],
   "source": [
    "df_val['true_merchant_name_combined'].value_counts()"
   ]
  },
  {
   "cell_type": "code",
   "execution_count": null,
   "metadata": {},
   "outputs": [
    {
     "data": {
      "text/html": [
       "<div>\n",
       "<style scoped>\n",
       "    .dataframe tbody tr th:only-of-type {\n",
       "        vertical-align: middle;\n",
       "    }\n",
       "\n",
       "    .dataframe tbody tr th {\n",
       "        vertical-align: top;\n",
       "    }\n",
       "\n",
       "    .dataframe thead th {\n",
       "        text-align: right;\n",
       "    }\n",
       "</style>\n",
       "<table border=\"1\" class=\"dataframe\">\n",
       "  <thead>\n",
       "    <tr style=\"text-align: right;\">\n",
       "      <th></th>\n",
       "      <th>true_merchant_name_combined</th>\n",
       "      <th>pred_merchant</th>\n",
       "      <th>pred_prob</th>\n",
       "    </tr>\n",
       "  </thead>\n",
       "  <tbody>\n",
       "    <tr>\n",
       "      <th>0</th>\n",
       "      <td>Wells Fargo</td>\n",
       "      <td>Wells Fargo</td>\n",
       "      <td>0.961568</td>\n",
       "    </tr>\n",
       "    <tr>\n",
       "      <th>1</th>\n",
       "      <td>McDonald''s</td>\n",
       "      <td>McDonald''s</td>\n",
       "      <td>0.974988</td>\n",
       "    </tr>\n",
       "    <tr>\n",
       "      <th>2</th>\n",
       "      <td>Cash App</td>\n",
       "      <td>Cash App</td>\n",
       "      <td>0.975234</td>\n",
       "    </tr>\n",
       "    <tr>\n",
       "      <th>3</th>\n",
       "      <td>McDonald''s</td>\n",
       "      <td>McDonald''s</td>\n",
       "      <td>0.980123</td>\n",
       "    </tr>\n",
       "    <tr>\n",
       "      <th>4</th>\n",
       "      <td>Walmart</td>\n",
       "      <td>Wal Wal-martsuper</td>\n",
       "      <td>0.799137</td>\n",
       "    </tr>\n",
       "    <tr>\n",
       "      <th>...</th>\n",
       "      <td>...</td>\n",
       "      <td>...</td>\n",
       "      <td>...</td>\n",
       "    </tr>\n",
       "    <tr>\n",
       "      <th>4995</th>\n",
       "      <td>Wells Fargo</td>\n",
       "      <td>Wells Fargo</td>\n",
       "      <td>0.940395</td>\n",
       "    </tr>\n",
       "    <tr>\n",
       "      <th>4996</th>\n",
       "      <td>Zelle</td>\n",
       "      <td>Zelle</td>\n",
       "      <td>0.979735</td>\n",
       "    </tr>\n",
       "    <tr>\n",
       "      <th>4997</th>\n",
       "      <td>Walmart</td>\n",
       "      <td>Wal Wal-martsuper</td>\n",
       "      <td>0.674671</td>\n",
       "    </tr>\n",
       "    <tr>\n",
       "      <th>4998</th>\n",
       "      <td>Zelle</td>\n",
       "      <td>Zelle</td>\n",
       "      <td>0.980085</td>\n",
       "    </tr>\n",
       "    <tr>\n",
       "      <th>4999</th>\n",
       "      <td>Zelle</td>\n",
       "      <td>Zelle</td>\n",
       "      <td>0.980246</td>\n",
       "    </tr>\n",
       "  </tbody>\n",
       "</table>\n",
       "<p>5000 rows × 3 columns</p>\n",
       "</div>"
      ],
      "text/plain": [
       "     true_merchant_name_combined      pred_merchant  pred_prob\n",
       "0                    Wells Fargo        Wells Fargo   0.961568\n",
       "1                    McDonald''s        McDonald''s   0.974988\n",
       "2                       Cash App           Cash App   0.975234\n",
       "3                    McDonald''s        McDonald''s   0.980123\n",
       "4                        Walmart  Wal Wal-martsuper   0.799137\n",
       "...                          ...                ...        ...\n",
       "4995                 Wells Fargo        Wells Fargo   0.940395\n",
       "4996                       Zelle              Zelle   0.979735\n",
       "4997                     Walmart  Wal Wal-martsuper   0.674671\n",
       "4998                       Zelle              Zelle   0.980085\n",
       "4999                       Zelle              Zelle   0.980246\n",
       "\n",
       "[5000 rows x 3 columns]"
      ]
     },
     "execution_count": 76,
     "metadata": {},
     "output_type": "execute_result"
    }
   ],
   "source": [
    "df_test[['true_merchant_name_combined','pred_merchant','pred_prob']]"
   ]
  },
  {
   "cell_type": "code",
   "execution_count": null,
   "metadata": {},
   "outputs": [
    {
     "data": {
      "image/png": "[encoded data removed]",
      "text/plain": [
       "<Figure size 640x480 with 1 Axes>"
      ]
     },
     "metadata": {},
     "output_type": "display_data"
    }
   ],
   "source": [
    "df_test['pred_prob'].hist();"
   ]
  },
  {
   "cell_type": "code",
   "execution_count": null,
   "metadata": {},
   "outputs": [
    {
     "data": {
      "text/html": [
       "<div>\n",
       "<style scoped>\n",
       "    .dataframe tbody tr th:only-of-type {\n",
       "        vertical-align: middle;\n",
       "    }\n",
       "\n",
       "    .dataframe tbody tr th {\n",
       "        vertical-align: top;\n",
       "    }\n",
       "\n",
       "    .dataframe thead th {\n",
       "        text-align: right;\n",
       "    }\n",
       "</style>\n",
       "<table border=\"1\" class=\"dataframe\">\n",
       "  <thead>\n",
       "    <tr style=\"text-align: right;\">\n",
       "      <th></th>\n",
       "      <th>transaction_id</th>\n",
       "      <th>sentence</th>\n",
       "      <th>sentence2</th>\n",
       "      <th>description_combined_processed</th>\n",
       "      <th>true_merchant_name_combined</th>\n",
       "      <th>merchant_name_combined</th>\n",
       "      <th>true_label</th>\n",
       "      <th>label</th>\n",
       "      <th>pred_merchant</th>\n",
       "      <th>pred_prob</th>\n",
       "    </tr>\n",
       "  </thead>\n",
       "  <tbody>\n",
       "    <tr>\n",
       "      <th>4</th>\n",
       "      <td>9796686754</td>\n",
       "      <td>Wal-Mart Super WAL-SAMS SPRINGFIELD MO. Channe...</td>\n",
       "      <td>Wal-Mart Super WAL-SAMS SPRINGFIELD MO. Type: ...</td>\n",
       "      <td>Wal-Mart Super WAL-SAMS SPRINGFIELD MO</td>\n",
       "      <td>Walmart</td>\n",
       "      <td>Smith''s</td>\n",
       "      <td>0</td>\n",
       "      <td>0.310292</td>\n",
       "      <td>Wal Wal-martsuper</td>\n",
       "      <td>0.799137</td>\n",
       "    </tr>\n",
       "    <tr>\n",
       "      <th>11</th>\n",
       "      <td>9799290885</td>\n",
       "      <td>PURCHASE AUTHORIZED ON 05/14 WM SUPERC Wal-Mar...</td>\n",
       "      <td>PURCHASE AUTHORIZED ON 05/14 WM SUPERC Wal-Mar...</td>\n",
       "      <td>PURCHASE AUTHORIZED ON 05/14 WM SUPERC Wal-Mar...</td>\n",
       "      <td>Walmart</td>\n",
       "      <td>Synchrony</td>\n",
       "      <td>0</td>\n",
       "      <td>0.232759</td>\n",
       "      <td>Wal Wal-martsuper</td>\n",
       "      <td>0.775473</td>\n",
       "    </tr>\n",
       "    <tr>\n",
       "      <th>12</th>\n",
       "      <td>9798904474</td>\n",
       "      <td>Walmart.com Bentonville AR XX SIG PURCH 05/13 ...</td>\n",
       "      <td>Walmart.com Bentonville AR XX SIG PURCH 05/13 ...</td>\n",
       "      <td>Walmart.com Bentonville AR XX SIG PURCH 05/13 ...</td>\n",
       "      <td>Walmart</td>\n",
       "      <td>QuikTrip</td>\n",
       "      <td>0</td>\n",
       "      <td>0.075148</td>\n",
       "      <td>Wal Wal-martsuper</td>\n",
       "      <td>0.751793</td>\n",
       "    </tr>\n",
       "    <tr>\n",
       "      <th>17</th>\n",
       "      <td>9801927063</td>\n",
       "      <td>PURCHASE AUTHORIZED ON 05/11 WALMART.COM 800-9...</td>\n",
       "      <td>PURCHASE AUTHORIZED ON 05/11 WALMART.COM 800-9...</td>\n",
       "      <td>PURCHASE AUTHORIZED ON 05/11 WALMART.COM 800-9...</td>\n",
       "      <td>Walmart</td>\n",
       "      <td>Cash App</td>\n",
       "      <td>0</td>\n",
       "      <td>0.078535</td>\n",
       "      <td>Wal Wal-martsuper</td>\n",
       "      <td>0.735269</td>\n",
       "    </tr>\n",
       "    <tr>\n",
       "      <th>28</th>\n",
       "      <td>9799263021</td>\n",
       "      <td>05/13 22:02 WAL-MART # JONESBORO AR CKCD DEBIT...</td>\n",
       "      <td>05/13 22:02 WAL-MART # JONESBORO AR CKCD DEBIT...</td>\n",
       "      <td>05/13 22:02 WAL-MART # JONESBORO AR CKCD DEBIT</td>\n",
       "      <td>Walmart</td>\n",
       "      <td>Marathon Petroleum</td>\n",
       "      <td>0</td>\n",
       "      <td>0.257865</td>\n",
       "      <td>Wal Wal-martsuper</td>\n",
       "      <td>0.751371</td>\n",
       "    </tr>\n",
       "    <tr>\n",
       "      <th>...</th>\n",
       "      <td>...</td>\n",
       "      <td>...</td>\n",
       "      <td>...</td>\n",
       "      <td>...</td>\n",
       "      <td>...</td>\n",
       "      <td>...</td>\n",
       "      <td>...</td>\n",
       "      <td>...</td>\n",
       "      <td>...</td>\n",
       "      <td>...</td>\n",
       "    </tr>\n",
       "    <tr>\n",
       "      <th>4960</th>\n",
       "      <td>9807244423</td>\n",
       "      <td>PURCHASE AUTHORIZED ON 05/14 WM SUPERC Wal-Mar...</td>\n",
       "      <td>PURCHASE AUTHORIZED ON 05/14 WM SUPERC Wal-Mar...</td>\n",
       "      <td>PURCHASE AUTHORIZED ON 05/14 WM SUPERC Wal-Mar...</td>\n",
       "      <td>Walmart</td>\n",
       "      <td>Spinstersis</td>\n",
       "      <td>0</td>\n",
       "      <td>0.051089</td>\n",
       "      <td>Wal Wal-martsuper</td>\n",
       "      <td>0.772779</td>\n",
       "    </tr>\n",
       "    <tr>\n",
       "      <th>4965</th>\n",
       "      <td>9808452776</td>\n",
       "      <td>Walmart.com 05/14 #XXXXX REFUND Walmart.com Be...</td>\n",
       "      <td>Walmart.com 05/14 #XXXXX REFUND Walmart.com Be...</td>\n",
       "      <td>Walmart.com 05/14 #XXXXX REFUND Walmart.com Be...</td>\n",
       "      <td>Walmart</td>\n",
       "      <td>K Stop Convenience</td>\n",
       "      <td>0</td>\n",
       "      <td>0.018743</td>\n",
       "      <td>Wal Wal-martsuper</td>\n",
       "      <td>0.713919</td>\n",
       "    </tr>\n",
       "    <tr>\n",
       "      <th>4971</th>\n",
       "      <td>9798778036</td>\n",
       "      <td>Point of Sale Debit L341 TIME 04:30 PM DATE 05...</td>\n",
       "      <td>Point of Sale Debit L341 TIME 04:30 PM DATE 05...</td>\n",
       "      <td>Point of Sale Debit L341 TIME 04:30 PM DATE 05...</td>\n",
       "      <td>Walmart</td>\n",
       "      <td>Ross Stores</td>\n",
       "      <td>0</td>\n",
       "      <td>0.114881</td>\n",
       "      <td>Wal Wal-martsuper</td>\n",
       "      <td>0.766499</td>\n",
       "    </tr>\n",
       "    <tr>\n",
       "      <th>4981</th>\n",
       "      <td>9807593604</td>\n",
       "      <td>CHECKCARD WALMART STA ELENA LA LIBERTAD XXXXX ...</td>\n",
       "      <td>CHECKCARD WALMART STA ELENA LA LIBERTAD XXXXX ...</td>\n",
       "      <td>CHECKCARD WALMART STA ELENA LA LIBERTAD XXXXX ...</td>\n",
       "      <td>Walmart</td>\n",
       "      <td>Lyft</td>\n",
       "      <td>0</td>\n",
       "      <td>0.116438</td>\n",
       "      <td>Wal Wal-martsuper</td>\n",
       "      <td>0.751746</td>\n",
       "    </tr>\n",
       "    <tr>\n",
       "      <th>4997</th>\n",
       "      <td>9799287551</td>\n",
       "      <td>WM SUPERCENTER # GLENVILLE NY. Channel: in sto...</td>\n",
       "      <td>WM SUPERCENTER # GLENVILLE NY. Type: merchant....</td>\n",
       "      <td>WM SUPERCENTER # GLENVILLE NY</td>\n",
       "      <td>Walmart</td>\n",
       "      <td>Crenco</td>\n",
       "      <td>0</td>\n",
       "      <td>0.015229</td>\n",
       "      <td>Wal Wal-martsuper</td>\n",
       "      <td>0.674671</td>\n",
       "    </tr>\n",
       "  </tbody>\n",
       "</table>\n",
       "<p>483 rows × 10 columns</p>\n",
       "</div>"
      ],
      "text/plain": [
       "      transaction_id                                           sentence  \\\n",
       "4         9796686754  Wal-Mart Super WAL-SAMS SPRINGFIELD MO. Channe...   \n",
       "11        9799290885  PURCHASE AUTHORIZED ON 05/14 WM SUPERC Wal-Mar...   \n",
       "12        9798904474  Walmart.com Bentonville AR XX SIG PURCH 05/13 ...   \n",
       "17        9801927063  PURCHASE AUTHORIZED ON 05/11 WALMART.COM 800-9...   \n",
       "28        9799263021  05/13 22:02 WAL-MART # JONESBORO AR CKCD DEBIT...   \n",
       "...              ...                                                ...   \n",
       "4960      9807244423  PURCHASE AUTHORIZED ON 05/14 WM SUPERC Wal-Mar...   \n",
       "4965      9808452776  Walmart.com 05/14 #XXXXX REFUND Walmart.com Be...   \n",
       "4971      9798778036  Point of Sale Debit L341 TIME 04:30 PM DATE 05...   \n",
       "4981      9807593604  CHECKCARD WALMART STA ELENA LA LIBERTAD XXXXX ...   \n",
       "4997      9799287551  WM SUPERCENTER # GLENVILLE NY. Channel: in sto...   \n",
       "\n",
       "                                              sentence2  \\\n",
       "4     Wal-Mart Super WAL-SAMS SPRINGFIELD MO. Type: ...   \n",
       "11    PURCHASE AUTHORIZED ON 05/14 WM SUPERC Wal-Mar...   \n",
       "12    Walmart.com Bentonville AR XX SIG PURCH 05/13 ...   \n",
       "17    PURCHASE AUTHORIZED ON 05/11 WALMART.COM 800-9...   \n",
       "28    05/13 22:02 WAL-MART # JONESBORO AR CKCD DEBIT...   \n",
       "...                                                 ...   \n",
       "4960  PURCHASE AUTHORIZED ON 05/14 WM SUPERC Wal-Mar...   \n",
       "4965  Walmart.com 05/14 #XXXXX REFUND Walmart.com Be...   \n",
       "4971  Point of Sale Debit L341 TIME 04:30 PM DATE 05...   \n",
       "4981  CHECKCARD WALMART STA ELENA LA LIBERTAD XXXXX ...   \n",
       "4997  WM SUPERCENTER # GLENVILLE NY. Type: merchant....   \n",
       "\n",
       "                         description_combined_processed  \\\n",
       "4                Wal-Mart Super WAL-SAMS SPRINGFIELD MO   \n",
       "11    PURCHASE AUTHORIZED ON 05/14 WM SUPERC Wal-Mar...   \n",
       "12    Walmart.com Bentonville AR XX SIG PURCH 05/13 ...   \n",
       "17    PURCHASE AUTHORIZED ON 05/11 WALMART.COM 800-9...   \n",
       "28      05/13 22:02 WAL-MART # JONESBORO AR CKCD DEBIT    \n",
       "...                                                 ...   \n",
       "4960  PURCHASE AUTHORIZED ON 05/14 WM SUPERC Wal-Mar...   \n",
       "4965  Walmart.com 05/14 #XXXXX REFUND Walmart.com Be...   \n",
       "4971  Point of Sale Debit L341 TIME 04:30 PM DATE 05...   \n",
       "4981  CHECKCARD WALMART STA ELENA LA LIBERTAD XXXXX ...   \n",
       "4997                      WM SUPERCENTER # GLENVILLE NY   \n",
       "\n",
       "     true_merchant_name_combined merchant_name_combined  true_label     label  \\\n",
       "4                        Walmart               Smith''s           0  0.310292   \n",
       "11                       Walmart              Synchrony           0  0.232759   \n",
       "12                       Walmart               QuikTrip           0  0.075148   \n",
       "17                       Walmart               Cash App           0  0.078535   \n",
       "28                       Walmart     Marathon Petroleum           0  0.257865   \n",
       "...                          ...                    ...         ...       ...   \n",
       "4960                     Walmart            Spinstersis           0  0.051089   \n",
       "4965                     Walmart     K Stop Convenience           0  0.018743   \n",
       "4971                     Walmart            Ross Stores           0  0.114881   \n",
       "4981                     Walmart                   Lyft           0  0.116438   \n",
       "4997                     Walmart                 Crenco           0  0.015229   \n",
       "\n",
       "          pred_merchant  pred_prob  \n",
       "4     Wal Wal-martsuper   0.799137  \n",
       "11    Wal Wal-martsuper   0.775473  \n",
       "12    Wal Wal-martsuper   0.751793  \n",
       "17    Wal Wal-martsuper   0.735269  \n",
       "28    Wal Wal-martsuper   0.751371  \n",
       "...                 ...        ...  \n",
       "4960  Wal Wal-martsuper   0.772779  \n",
       "4965  Wal Wal-martsuper   0.713919  \n",
       "4971  Wal Wal-martsuper   0.766499  \n",
       "4981  Wal Wal-martsuper   0.751746  \n",
       "4997  Wal Wal-martsuper   0.674671  \n",
       "\n",
       "[483 rows x 10 columns]"
      ]
     },
     "execution_count": 89,
     "metadata": {},
     "output_type": "execute_result"
    }
   ],
   "source": [
    "df_test[df_test['pred_prob']<0.85][:500]"
   ]
  },
  {
   "cell_type": "code",
   "execution_count": null,
   "metadata": {},
   "outputs": [
    {
     "data": {
      "text/plain": [
       "(5000, 10)"
      ]
     },
     "execution_count": 51,
     "metadata": {},
     "output_type": "execute_result"
    }
   ],
   "source": [
    "df_test.shape"
   ]
  },
  {
   "cell_type": "code",
   "execution_count": null,
   "metadata": {},
   "outputs": [
    {
     "data": {
      "text/plain": [
       "100    Deposit Debit Ca Earnin CEEEE_B Palo Alto CA D...\n",
       "101    Zelle payment from AMY HAYES for \\\"vanishing b...\n",
       "102    EARNIN CHGFC_B PALO ALTO CA 05/14. Channel: No...\n",
       "103    PURCHASE AUTHORIZED ON 05/13 MCDONALD''S F IRV...\n",
       "104    Debit Card Credit EARNIN CCHGA_B PALO ALTO CA....\n",
       "105    Zelle payment from SUSAN BRODBECK BACsggj269q0...\n",
       "106    POS Payment McDonalds 154-XXX VA # . Channel: ...\n",
       "107    ONLINE TRANSFER FROM HUDSON A WAY2SAVE SAVINGS...\n",
       "108    EARNIN CDHJA_B PALO ALTO CA 05/14. Channel: No...\n",
       "109    Earnin CEGJA_B Palo Alto CA. Channel: None. Am...\n",
       "110    ONLINE TRANSFER FROM BENNETT T WAY2SAVE SAVING...\n",
       "111    Zelle payment from ALEXIS GAUDET BACxe32r3prx....\n",
       "112    PURCHASE AMZN Mktp US*SY1BN Amzn.com/billWA XX...\n",
       "113    CASH APP*ERIC LOLA BAR. Channel: None. Amount:...\n",
       "114    Zelle payment from SHAVONNE MORENO BACpwpbspl0...\n",
       "115    McDonalds 05-12 BROOKSVILLE FL DEBIT CARD PURC...\n",
       "116    CHECKCARD CASH APP*WE DESIG XXXXX CA XXXXX XXX...\n",
       "117    AMZN Mktp US*WN8Q06S Amzn.com/bill WA 05/14. C...\n",
       "118    ONLINE TRANSFER FROM CANNATA-FILERA T WAY2SAVE...\n",
       "119    Point Of Sale Withdrawal MCDONALD''S F597 DAWS...\n",
       "120    ATM/POS Share Deposit Earnin CCEGE_B - Earnin ...\n",
       "121    Debit Purchase -visa Mcdonald''s F212 Hamilton...\n",
       "122    XX DDA CREDIT ADJ Earnin CJAIB_B Palo Alto CA ...\n",
       "123    Debit Card Withdrawal: VISA Debit Sig. WM SUPE...\n",
       "124    CHECKCARD MCDONALD''S M CULVER CITY CA XXXXX X...\n",
       "125    Zelle payment from ELIJAH MUHAMMAD ST PHAR WFC...\n",
       "126    Debit Card Purchase 05/11 10:22a # AMAZON.COM*...\n",
       "127    PURCHASE AUTHORIZED ON 05/13 Amazon Prime*NY07...\n",
       "128    AMAZON.COM SERVI DES:INTERNET ID:XXXXXXXXXX IN...\n",
       "129    ZELLE FROM GEIER TONNIE ON 05/14 REF # PP0S83X...\n",
       "130    POS PURCHASE WAL-MART # WEST MONROE ***** 05/1...\n",
       "131    ONLINE TRANSFER FROM VILLAFUERTE J WAY2SAVE SA...\n",
       "132    Zelle payment from JOSEFINA ESPINAL for \\\"pago...\n",
       "133    Cash App Transfer to Alan Hernande. Channel: N...\n",
       "134    MCDONALD''S F CLERMONT FL 05/13. Channel: in s...\n",
       "135    Withdrawal Debit Card DEBIT CARD/WAL-MART # SO...\n",
       "136    ZELLE TO RODRIGUEZ ROBERT ON 05/13 REF #PP0S82...\n",
       "137    Point Of Sale Deposit Earnin / CGEDJ_B Palo Al...\n",
       "138    POS PURCHASE POS WM SUPERCENTER GREENVILLE PA....\n",
       "139    PURCHASE AMAZON MAR* XXX-XX HTTPSAMAZON.CWA XX...\n",
       "140    POS DEBIT 05/14 7:28 WAL WAL MART SUPER LUBBOC...\n",
       "141    ONLINE TRANSFER TO HOLLEY V WELLS FARGO CLEAR ...\n",
       "142    Payment to CASH APP*APRIL B ROBER. Channel: No...\n",
       "143    PURCHASE AUTHORIZED ON 05/13 Amazon Prime*A87L...\n",
       "144    AMAZON.COM*8L3G SEATTLE /WA US CARD PURCHASE. ...\n",
       "145    Earnin CCDFE_B Palo Alto CA. Channel: None. Am...\n",
       "146    SAVE AS YOU GO TRANSFER DEBIT TO XXXXXXXXXXX ....\n",
       "147    Zelle Transaction H . Channel: None. Amount: 3...\n",
       "148    EARNIN CIJJC_B PALO ALTO CA 05/14. Channel: No...\n",
       "149    SAVE AS YOU GO TRANSFER DEBIT TO XXXXXXXXXXX ....\n",
       "Name: sentence, dtype: string"
      ]
     },
     "execution_count": 53,
     "metadata": {},
     "output_type": "execute_result"
    }
   ],
   "source": [
    "df_test['sentence'][100:150]"
   ]
  },
  {
   "cell_type": "code",
   "execution_count": null,
   "metadata": {},
   "outputs": [
    {
     "data": {
      "text/plain": [
       "array([[-0.00816036,  0.27537555,  0.14324246, ...,  0.0999889 ,\n",
       "        -0.0035936 ,  0.07809736],\n",
       "       [ 0.02443847, -0.07863627,  0.01445072, ...,  0.02271993,\n",
       "         0.03442278,  0.02410999],\n",
       "       [-0.01848849,  0.26305526,  0.12530893, ...,  0.09496655,\n",
       "         0.00565742,  0.07274164],\n",
       "       ...,\n",
       "       [ 0.02032459, -0.06118753,  0.01493401, ..., -0.00625443,\n",
       "         0.10024939,  0.12695931],\n",
       "       [-0.01988285, -0.1525213 ,  0.0045229 , ..., -0.01461221,\n",
       "         0.02463034,  0.0660398 ],\n",
       "       [-0.01051987, -0.06855395,  0.00723861, ..., -0.00558885,\n",
       "         0.0144608 ,  0.05602989]], dtype=float32)"
      ]
     },
     "execution_count": 54,
     "metadata": {},
     "output_type": "execute_result"
    }
   ],
   "source": [
    "model.encode(df_test['sentence'][istart:istart+batch_size].tolist())"
   ]
  },
  {
   "cell_type": "code",
   "execution_count": null,
   "metadata": {},
   "outputs": [
    {
     "data": {
      "text/plain": [
       "(100,)"
      ]
     },
     "execution_count": 47,
     "metadata": {},
     "output_type": "execute_result"
    }
   ],
   "source": [
    "df_test.loc[istart:istart+batch_size-1,'pred_merchant'].shape"
   ]
  },
  {
   "cell_type": "code",
   "execution_count": null,
   "metadata": {},
   "outputs": [
    {
     "data": {
      "text/plain": [
       "(101,)"
      ]
     },
     "execution_count": 46,
     "metadata": {},
     "output_type": "execute_result"
    }
   ],
   "source": [
    "df_test.loc[0:100,'label'].shape"
   ]
  },
  {
   "cell_type": "code",
   "execution_count": null,
   "metadata": {},
   "outputs": [
    {
     "data": {
      "text/plain": [
       "(100, 10)"
      ]
     },
     "execution_count": 44,
     "metadata": {},
     "output_type": "execute_result"
    }
   ],
   "source": [
    "df_test[0:100].shape"
   ]
  },
  {
   "cell_type": "code",
   "execution_count": null,
   "metadata": {},
   "outputs": [
    {
     "data": {
      "text/plain": [
       "100"
      ]
     },
     "execution_count": 42,
     "metadata": {},
     "output_type": "execute_result"
    }
   ],
   "source": [
    "istart+batch_size"
   ]
  },
  {
   "cell_type": "code",
   "execution_count": null,
   "metadata": {},
   "outputs": [
    {
     "data": {
      "text/plain": [
       "100"
      ]
     },
     "execution_count": 38,
     "metadata": {},
     "output_type": "execute_result"
    }
   ],
   "source": [
    "\n",
    "len(predicted_merchant)"
   ]
  },
  {
   "cell_type": "code",
   "execution_count": null,
   "metadata": {},
   "outputs": [],
   "source": [
    "tx_embedding = model.encode(df_test['sentence'][0:2])"
   ]
  },
  {
   "cell_type": "code",
   "execution_count": null,
   "metadata": {},
   "outputs": [
    {
     "data": {
      "text/plain": [
       "(2, 768)"
      ]
     },
     "execution_count": 20,
     "metadata": {},
     "output_type": "execute_result"
    }
   ],
   "source": [
    "tx_embedding.shape"
   ]
  },
  {
   "cell_type": "code",
   "execution_count": null,
   "metadata": {},
   "outputs": [],
   "source": []
  },
  {
   "cell_type": "code",
   "execution_count": null,
   "metadata": {},
   "outputs": [
    {
     "data": {
      "text/plain": [
       "torch.Size([2, 85500])"
      ]
     },
     "execution_count": 22,
     "metadata": {},
     "output_type": "execute_result"
    }
   ],
   "source": []
  },
  {
   "cell_type": "code",
   "execution_count": null,
   "metadata": {},
   "outputs": [
    {
     "data": {
      "text/plain": [
       "torch.return_types.max(\n",
       "values=tensor([0.9616, 0.9750]),\n",
       "indices=tensor([117,  17]))"
      ]
     },
     "execution_count": 23,
     "metadata": {},
     "output_type": "execute_result"
    }
   ],
   "source": []
  },
  {
   "cell_type": "code",
   "execution_count": null,
   "metadata": {},
   "outputs": [],
   "source": []
  },
  {
   "cell_type": "code",
   "execution_count": null,
   "metadata": {},
   "outputs": [
    {
     "data": {
      "text/plain": [
       "tensor([117,  17])"
      ]
     },
     "execution_count": 24,
     "metadata": {},
     "output_type": "execute_result"
    }
   ],
   "source": []
  },
  {
   "cell_type": "code",
   "execution_count": null,
   "metadata": {},
   "outputs": [],
   "source": []
  },
  {
   "cell_type": "code",
   "execution_count": null,
   "metadata": {},
   "outputs": [
    {
     "data": {
      "text/plain": [
       "0         Wells Fargo\n",
       "1         McDonald''s\n",
       "2            Cash App\n",
       "3             Verizon\n",
       "4            Smith''s\n",
       "            ...      \n",
       "4995    Chumba Casino\n",
       "4996            Zelle\n",
       "4997           Crenco\n",
       "4998          Empower\n",
       "4999            Zelle\n",
       "Name: merchant_name_combined, Length: 5000, dtype: string"
      ]
     },
     "execution_count": 59,
     "metadata": {},
     "output_type": "execute_result"
    }
   ],
   "source": [
    "df_test['merchant_name_combined']"
   ]
  },
  {
   "cell_type": "code",
   "execution_count": null,
   "metadata": {},
   "outputs": [
    {
     "ename": "NameError",
     "evalue": "name 'similarities' is not defined",
     "output_type": "error",
     "traceback": [
      "\u001b[0;31m---------------------------------------------------------------------------\u001b[0m",
      "\u001b[0;31mNameError\u001b[0m                                 Traceback (most recent call last)",
      "\u001b[1;32m/home/sagemaker-user/exploration/MERCHANTS/Biencoder_v2_sbert.ipynb Cell 48\u001b[0m line \u001b[0;36m1\n\u001b[0;32m----> <a href='vscode-notebook-cell://yd6plnil3hw8unc.studio.us-east-1.sagemaker.aws/home/sagemaker-user/exploration/MERCHANTS/Biencoder_v2_sbert.ipynb#X65sdnNjb2RlLXJlbW90ZQ%3D%3D?line=0'>1</a>\u001b[0m matched_merchants \u001b[39m=\u001b[39m similarities\u001b[39m.\u001b[39mmax(axis\u001b[39m=\u001b[39m\u001b[39m1\u001b[39m)\n\u001b[1;32m      <a href='vscode-notebook-cell://yd6plnil3hw8unc.studio.us-east-1.sagemaker.aws/home/sagemaker-user/exploration/MERCHANTS/Biencoder_v2_sbert.ipynb#X65sdnNjb2RlLXJlbW90ZQ%3D%3D?line=1'>2</a>\u001b[0m matched_merchants\n",
      "\u001b[0;31mNameError\u001b[0m: name 'similarities' is not defined"
     ]
    }
   ],
   "source": [
    "matched_merchants = similarities.max(axis=1)\n",
    "matched_merchants"
   ]
  },
  {
   "cell_type": "code",
   "execution_count": null,
   "metadata": {},
   "outputs": [
    {
     "data": {
      "text/plain": [
       "tensor([0.9629, 0.9737])"
      ]
     },
     "execution_count": 240,
     "metadata": {},
     "output_type": "execute_result"
    }
   ],
   "source": [
    "similarity_score = matched_merchants[0]\n",
    "similarity_score"
   ]
  },
  {
   "cell_type": "code",
   "execution_count": null,
   "metadata": {},
   "outputs": [
    {
     "ename": "NameError",
     "evalue": "name 'matched_merchants' is not defined",
     "output_type": "error",
     "traceback": [
      "\u001b[0;31m---------------------------------------------------------------------------\u001b[0m",
      "\u001b[0;31mNameError\u001b[0m                                 Traceback (most recent call last)",
      "\u001b[1;32m/home/sagemaker-user/exploration/MERCHANTS/Biencoder_v2_sbert.ipynb Cell 50\u001b[0m line \u001b[0;36m1\n\u001b[0;32m----> <a href='vscode-notebook-cell://yd6plnil3hw8unc.studio.us-east-1.sagemaker.aws/home/sagemaker-user/exploration/MERCHANTS/Biencoder_v2_sbert.ipynb#Y100sdnNjb2RlLXJlbW90ZQ%3D%3D?line=0'>1</a>\u001b[0m matched_merchants\n",
      "\u001b[0;31mNameError\u001b[0m: name 'matched_merchants' is not defined"
     ]
    }
   ],
   "source": [
    "matched_merchants"
   ]
  },
  {
   "cell_type": "markdown",
   "metadata": {},
   "source": [
    "Load model"
   ]
  },
  {
   "cell_type": "code",
   "execution_count": null,
   "metadata": {},
   "outputs": [
    {
     "name": "stdout",
     "output_type": "stream",
     "text": [
      "3.0.0\n"
     ]
    }
   ],
   "source": [
    "print(sentence_transformers.__version__)"
   ]
  },
  {
   "cell_type": "code",
   "execution_count": null,
   "metadata": {},
   "outputs": [],
   "source": [
    "from sentence_transformers import SentenceTransformerModelCardData\n",
    "from datasets import load_dataset\n"
   ]
  },
  {
   "cell_type": "code",
   "execution_count": null,
   "metadata": {},
   "outputs": [
    {
     "name": "stderr",
     "output_type": "stream",
     "text": [
      "No sentence-transformers model found with name microsoft/mpnet-base. Creating a new one with mean pooling.\n",
      "Some weights of MPNetModel were not initialized from the model checkpoint at microsoft/mpnet-base and are newly initialized: ['mpnet.pooler.dense.bias', 'mpnet.pooler.dense.weight']\n",
      "You should probably TRAIN this model on a down-stream task to be able to use it for predictions and inference.\n"
     ]
    },
    {
     "data": {
      "application/vnd.jupyter.widget-view+json": {
       "model_id": "44fc4151b2bb4649a3f733f06a1ca31b",
       "version_major": 2,
       "version_minor": 0
      },
      "text/plain": [
       "Downloading data:   0%|          | 0.00/69.5M [00:00<?, ?B/s]"
      ]
     },
     "metadata": {},
     "output_type": "display_data"
    },
    {
     "data": {
      "application/vnd.jupyter.widget-view+json": {
       "model_id": "d6b1ff8f2b0e400191f659296292ab16",
       "version_major": 2,
       "version_minor": 0
      },
      "text/plain": [
       "Downloading data:   0%|          | 0.00/1.57M [00:00<?, ?B/s]"
      ]
     },
     "metadata": {},
     "output_type": "display_data"
    },
    {
     "data": {
      "application/vnd.jupyter.widget-view+json": {
       "model_id": "adaf006de9cd4f0c9365293f64593dae",
       "version_major": 2,
       "version_minor": 0
      },
      "text/plain": [
       "Downloading data:   0%|          | 0.00/1.61M [00:00<?, ?B/s]"
      ]
     },
     "metadata": {},
     "output_type": "display_data"
    },
    {
     "data": {
      "application/vnd.jupyter.widget-view+json": {
       "model_id": "8a4548ca60d147e2bf4180cc9717277c",
       "version_major": 2,
       "version_minor": 0
      },
      "text/plain": [
       "Generating train split:   0%|          | 0/942069 [00:00<?, ? examples/s]"
      ]
     },
     "metadata": {},
     "output_type": "display_data"
    },
    {
     "data": {
      "application/vnd.jupyter.widget-view+json": {
       "model_id": "6481230ea1e844bca7c04d944de42a2b",
       "version_major": 2,
       "version_minor": 0
      },
      "text/plain": [
       "Generating dev split:   0%|          | 0/19657 [00:00<?, ? examples/s]"
      ]
     },
     "metadata": {},
     "output_type": "display_data"
    },
    {
     "data": {
      "application/vnd.jupyter.widget-view+json": {
       "model_id": "99381b567f484ed58f1bb044b75ece6e",
       "version_major": 2,
       "version_minor": 0
      },
      "text/plain": [
       "Generating test split:   0%|          | 0/19656 [00:00<?, ? examples/s]"
      ]
     },
     "metadata": {},
     "output_type": "display_data"
    }
   ],
   "source": [
    "# 1. Load a model to finetune with 2. (Optional) model card data\n",
    "model = SentenceTransformer(\n",
    "    \"microsoft/mpnet-base\",\n",
    "    model_card_data=SentenceTransformerModelCardData(\n",
    "        language=\"en\",\n",
    "        license=\"apache-2.0\",\n",
    "        model_name=\"MPNet base trained on AllNLI triplets\",\n",
    "    )\n",
    ")\n",
    "\n",
    "# 3. Load a dataset to finetune on\n",
    "dataset = load_dataset(\"sentence-transformers/all-nli\",'pair-score')"
   ]
  },
  {
   "cell_type": "code",
   "execution_count": null,
   "metadata": {},
   "outputs": [
    {
     "data": {
      "text/plain": [
       "DatasetDict({\n",
       "    train: Dataset({\n",
       "        features: ['sentence1', 'sentence2', 'score'],\n",
       "        num_rows: 942069\n",
       "    })\n",
       "    dev: Dataset({\n",
       "        features: ['sentence1', 'sentence2', 'score'],\n",
       "        num_rows: 19657\n",
       "    })\n",
       "    test: Dataset({\n",
       "        features: ['sentence1', 'sentence2', 'score'],\n",
       "        num_rows: 19656\n",
       "    })\n",
       "})"
      ]
     },
     "execution_count": 126,
     "metadata": {},
     "output_type": "execute_result"
    }
   ],
   "source": [
    "dataset"
   ]
  },
  {
   "cell_type": "code",
   "execution_count": null,
   "metadata": {},
   "outputs": [],
   "source": [
    "train_dataset = dataset['train']"
   ]
  },
  {
   "cell_type": "code",
   "execution_count": null,
   "metadata": {},
   "outputs": [
    {
     "data": {
      "text/plain": [
       "{'sentence1': 'A person on a horse jumps over a broken down airplane.',\n",
       " 'sentence2': 'A person is training his horse for a competition.',\n",
       " 'score': 0.5}"
      ]
     },
     "execution_count": 128,
     "metadata": {},
     "output_type": "execute_result"
    }
   ],
   "source": [
    "train_dataset[0]"
   ]
  },
  {
   "cell_type": "code",
   "execution_count": null,
   "metadata": {},
   "outputs": [],
   "source": [
    "#train_dataloader = DataLoader(train_examples, shuffle=True, batch_size = 128)"
   ]
  },
  {
   "cell_type": "code",
   "execution_count": null,
   "metadata": {},
   "outputs": [
    {
     "data": {
      "text/plain": [
       "668"
      ]
     },
     "execution_count": 38,
     "metadata": {},
     "output_type": "execute_result"
    }
   ],
   "source": [
    "len(train_dataloader)"
   ]
  },
  {
   "cell_type": "code",
   "execution_count": null,
   "metadata": {},
   "outputs": [],
   "source": [
    "#train_loss = losses.CosineSimilarityLoss(model)"
   ]
  },
  {
   "cell_type": "code",
   "execution_count": null,
   "metadata": {},
   "outputs": [
    {
     "ename": "NameError",
     "evalue": "name 'train_loss' is not defined",
     "output_type": "error",
     "traceback": [
      "\u001b[0;31m---------------------------------------------------------------------------\u001b[0m",
      "\u001b[0;31mNameError\u001b[0m                                 Traceback (most recent call last)",
      "\u001b[1;32m/home/sagemaker-user/exploration/MERCHANTS/Biencoder_v2_sbert.ipynb Cell 39\u001b[0m line \u001b[0;36m1\n\u001b[0;32m----> <a href='vscode-notebook-cell://yd6plnil3hw8unc.studio.us-east-1.sagemaker.aws/home/sagemaker-user/exploration/MERCHANTS/Biencoder_v2_sbert.ipynb#X34sdnNjb2RlLXJlbW90ZQ%3D%3D?line=0'>1</a>\u001b[0m train_loss\n",
      "\u001b[0;31mNameError\u001b[0m: name 'train_loss' is not defined"
     ]
    }
   ],
   "source": [
    "train_loss"
   ]
  },
  {
   "cell_type": "markdown",
   "metadata": {},
   "source": [
    "## Tune the model"
   ]
  },
  {
   "cell_type": "code",
   "execution_count": null,
   "metadata": {},
   "outputs": [
    {
     "name": "stderr",
     "output_type": "stream",
     "text": [
      "Detected kernel version 4.14.343, which is below the recommended minimum of 5.5.0; this can cause the process to hang. It is recommended to upgrade the kernel to the minimum version or higher.\n"
     ]
    },
    {
     "data": {
      "text/html": [
       "\n",
       "    <div>\n",
       "      \n",
       "      <progress value='668' max='668' style='width:300px; height:20px; vertical-align: middle;'></progress>\n",
       "      [668/668 04:27, Epoch 1/1]\n",
       "    </div>\n",
       "    <table border=\"1\" class=\"dataframe\">\n",
       "  <thead>\n",
       " <tr style=\"text-align: left;\">\n",
       "      <th>Step</th>\n",
       "      <th>Training Loss</th>\n",
       "    </tr>\n",
       "  </thead>\n",
       "  <tbody>\n",
       "    <tr>\n",
       "      <td>500</td>\n",
       "      <td>0.020500</td>\n",
       "    </tr>\n",
       "  </tbody>\n",
       "</table><p>"
      ],
      "text/plain": [
       "<IPython.core.display.HTML object>"
      ]
     },
     "metadata": {},
     "output_type": "display_data"
    }
   ],
   "source": [
    "model.fit(train_objectives = [(train_dataloader, train_loss)], epochs = 1 , warmup_steps = 100)"
   ]
  },
  {
   "cell_type": "code",
   "execution_count": null,
   "metadata": {},
   "outputs": [],
   "source": [
    "# save model"
   ]
  },
  {
   "cell_type": "markdown",
   "metadata": {},
   "source": [
    "## Evaluation"
   ]
  },
  {
   "cell_type": "code",
   "execution_count": null,
   "metadata": {},
   "outputs": [],
   "source": [
    "trx_descriptions = df_val['sentence'].tolist()\n",
    "merchants = df_val['merchant_name_combined'].tolist()\n",
    "trx_embeddings = model.encode(trx_descriptions)\n",
    "merchants_embeddings = model.encode(merchants)"
   ]
  },
  {
   "cell_type": "code",
   "execution_count": null,
   "metadata": {},
   "outputs": [
    {
     "name": "stdout",
     "output_type": "stream",
     "text": [
      "(9500, 768)\n",
      "(9500, 768)\n"
     ]
    }
   ],
   "source": [
    "print(trx_embeddings.shape)\n",
    "print(merchants_embeddings.shape)"
   ]
  },
  {
   "cell_type": "code",
   "execution_count": null,
   "metadata": {},
   "outputs": [],
   "source": [
    "import numpy as np"
   ]
  },
  {
   "cell_type": "code",
   "execution_count": null,
   "metadata": {},
   "outputs": [],
   "source": [
    "## look into numba\n",
    "cosine_similarity(trx_embeddings, merchants_embeddings).shape\n",
    "df_val['cos_similarity']=np.diag(cosine_similarity(trx_embeddings, merchants_embeddings))"
   ]
  },
  {
   "cell_type": "code",
   "execution_count": null,
   "metadata": {},
   "outputs": [
    {
     "data": {
      "text/html": [
       "<div>\n",
       "<style scoped>\n",
       "    .dataframe tbody tr th:only-of-type {\n",
       "        vertical-align: middle;\n",
       "    }\n",
       "\n",
       "    .dataframe tbody tr th {\n",
       "        vertical-align: top;\n",
       "    }\n",
       "\n",
       "    .dataframe thead th {\n",
       "        text-align: right;\n",
       "    }\n",
       "</style>\n",
       "<table border=\"1\" class=\"dataframe\">\n",
       "  <thead>\n",
       "    <tr style=\"text-align: right;\">\n",
       "      <th></th>\n",
       "      <th>transaction_id</th>\n",
       "      <th>sentence</th>\n",
       "      <th>sentence2</th>\n",
       "      <th>description_combined_processed</th>\n",
       "      <th>true_merchant_name_combined</th>\n",
       "      <th>merchant_name_combined</th>\n",
       "      <th>true_label</th>\n",
       "      <th>label</th>\n",
       "      <th>cos_similarity</th>\n",
       "    </tr>\n",
       "  </thead>\n",
       "  <tbody>\n",
       "    <tr>\n",
       "      <th>0</th>\n",
       "      <td>9798760350</td>\n",
       "      <td>Debit Purchase Wal-mart Super Cbrookings Sd 05...</td>\n",
       "      <td>Debit Purchase Wal-mart Super Cbrookings Sd 05...</td>\n",
       "      <td>Debit Purchase Wal-mart Super Cbrookings Sd 05...</td>\n",
       "      <td>Walmart</td>\n",
       "      <td>Exotic S Shop</td>\n",
       "      <td>0</td>\n",
       "      <td>0.328529</td>\n",
       "      <td>0.000262</td>\n",
       "    </tr>\n",
       "    <tr>\n",
       "      <th>1</th>\n",
       "      <td>9806775557</td>\n",
       "      <td>MONEY TRANSFER AUTHORIZED ON 05/13 CASH APP*JE...</td>\n",
       "      <td>MONEY TRANSFER AUTHORIZED ON 05/13 CASH APP*JE...</td>\n",
       "      <td>MONEY TRANSFER AUTHORIZED ON 05/13 CASH APP*JE...</td>\n",
       "      <td>Cash App</td>\n",
       "      <td>Acorns</td>\n",
       "      <td>0</td>\n",
       "      <td>0.265679</td>\n",
       "      <td>-0.010028</td>\n",
       "    </tr>\n",
       "    <tr>\n",
       "      <th>2</th>\n",
       "      <td>9798728894</td>\n",
       "      <td>MONEY TRANSFER AUTHORIZED ON 05/13 FROM Earnin...</td>\n",
       "      <td>MONEY TRANSFER AUTHORIZED ON 05/13 FROM Earnin...</td>\n",
       "      <td>MONEY TRANSFER AUTHORIZED ON 05/13 FROM Earnin...</td>\n",
       "      <td>Earnin</td>\n",
       "      <td>PayPal</td>\n",
       "      <td>0</td>\n",
       "      <td>0.207873</td>\n",
       "      <td>-0.003231</td>\n",
       "    </tr>\n",
       "    <tr>\n",
       "      <th>3</th>\n",
       "      <td>9799291124</td>\n",
       "      <td>MONEY TRANSFER AUTHORIZED ON 05/13 CASH APP*JE...</td>\n",
       "      <td>MONEY TRANSFER AUTHORIZED ON 05/13 CASH APP*JE...</td>\n",
       "      <td>MONEY TRANSFER AUTHORIZED ON 05/13 CASH APP*JE...</td>\n",
       "      <td>Cash App</td>\n",
       "      <td>Wells Fargo</td>\n",
       "      <td>0</td>\n",
       "      <td>0.008904</td>\n",
       "      <td>0.001403</td>\n",
       "    </tr>\n",
       "    <tr>\n",
       "      <th>4</th>\n",
       "      <td>9799976650</td>\n",
       "      <td>Instant Pmt from Earnin RDBFA_B on 05/14 Ref# ...</td>\n",
       "      <td>Instant Pmt from Earnin RDBFA_B on 05/14 Ref# ...</td>\n",
       "      <td>Instant Pmt from Earnin RDBFA_B on 05/14 Ref# ...</td>\n",
       "      <td>Earnin</td>\n",
       "      <td>Venmo</td>\n",
       "      <td>0</td>\n",
       "      <td>0.054398</td>\n",
       "      <td>-0.010100</td>\n",
       "    </tr>\n",
       "    <tr>\n",
       "      <th>...</th>\n",
       "      <td>...</td>\n",
       "      <td>...</td>\n",
       "      <td>...</td>\n",
       "      <td>...</td>\n",
       "      <td>...</td>\n",
       "      <td>...</td>\n",
       "      <td>...</td>\n",
       "      <td>...</td>\n",
       "      <td>...</td>\n",
       "    </tr>\n",
       "    <tr>\n",
       "      <th>9495</th>\n",
       "      <td>9799636891</td>\n",
       "      <td>PURCHASE RETURN AUTHORIZED ON 05/13 AMZN Mktp ...</td>\n",
       "      <td>PURCHASE RETURN AUTHORIZED ON 05/13 AMZN Mktp ...</td>\n",
       "      <td>PURCHASE RETURN AUTHORIZED ON 05/13 AMZN Mktp ...</td>\n",
       "      <td>Amazon</td>\n",
       "      <td>TGI Friday''s</td>\n",
       "      <td>0</td>\n",
       "      <td>0.102636</td>\n",
       "      <td>0.001885</td>\n",
       "    </tr>\n",
       "    <tr>\n",
       "      <th>9496</th>\n",
       "      <td>9799365097</td>\n",
       "      <td>AMZN Mktp US GE69A,2YL3 Amzn com WA,05-13-24,C...</td>\n",
       "      <td>AMZN Mktp US GE69A,2YL3 Amzn com WA,05-13-24,C...</td>\n",
       "      <td>AMZN Mktp US GE69A,2YL3 Amzn com WA,05-13-24,C...</td>\n",
       "      <td>Amazon</td>\n",
       "      <td>Amazon</td>\n",
       "      <td>1</td>\n",
       "      <td>0.840733</td>\n",
       "      <td>0.995985</td>\n",
       "    </tr>\n",
       "    <tr>\n",
       "      <th>9497</th>\n",
       "      <td>9814848095</td>\n",
       "      <td>ONLINE TRANSFER FROM NAME N WELLS FARGO CLEAR ...</td>\n",
       "      <td>ONLINE TRANSFER FROM NAME N WELLS FARGO CLEAR ...</td>\n",
       "      <td>ONLINE TRANSFER FROM NAME N WELLS FARGO CLEAR ...</td>\n",
       "      <td>Wells Fargo</td>\n",
       "      <td>Wells Fargo</td>\n",
       "      <td>1</td>\n",
       "      <td>0.888943</td>\n",
       "      <td>0.988127</td>\n",
       "    </tr>\n",
       "    <tr>\n",
       "      <th>9498</th>\n",
       "      <td>9799827250</td>\n",
       "      <td>MCDONALD''S F ROCKY RIVER OH 05/13. Channel: i...</td>\n",
       "      <td>MCDONALD''S F ROCKY RIVER OH 05/13. Type: merc...</td>\n",
       "      <td>MCDONALD''S F ROCKY RIVER OH 05/13</td>\n",
       "      <td>McDonald''s</td>\n",
       "      <td>Coca-Cola</td>\n",
       "      <td>0</td>\n",
       "      <td>0.085374</td>\n",
       "      <td>-0.001350</td>\n",
       "    </tr>\n",
       "    <tr>\n",
       "      <th>9499</th>\n",
       "      <td>9809070494</td>\n",
       "      <td>ONLINE TRANSFER FROM BELMAN A WELLS FARGO CLEA...</td>\n",
       "      <td>ONLINE TRANSFER FROM BELMAN A WELLS FARGO CLEA...</td>\n",
       "      <td>ONLINE TRANSFER FROM BELMAN A WELLS FARGO CLEA...</td>\n",
       "      <td>Wells Fargo</td>\n",
       "      <td>Albertsons</td>\n",
       "      <td>0</td>\n",
       "      <td>0.344464</td>\n",
       "      <td>-0.001449</td>\n",
       "    </tr>\n",
       "  </tbody>\n",
       "</table>\n",
       "<p>9500 rows × 9 columns</p>\n",
       "</div>"
      ],
      "text/plain": [
       "      transaction_id                                           sentence  \\\n",
       "0         9798760350  Debit Purchase Wal-mart Super Cbrookings Sd 05...   \n",
       "1         9806775557  MONEY TRANSFER AUTHORIZED ON 05/13 CASH APP*JE...   \n",
       "2         9798728894  MONEY TRANSFER AUTHORIZED ON 05/13 FROM Earnin...   \n",
       "3         9799291124  MONEY TRANSFER AUTHORIZED ON 05/13 CASH APP*JE...   \n",
       "4         9799976650  Instant Pmt from Earnin RDBFA_B on 05/14 Ref# ...   \n",
       "...              ...                                                ...   \n",
       "9495      9799636891  PURCHASE RETURN AUTHORIZED ON 05/13 AMZN Mktp ...   \n",
       "9496      9799365097  AMZN Mktp US GE69A,2YL3 Amzn com WA,05-13-24,C...   \n",
       "9497      9814848095  ONLINE TRANSFER FROM NAME N WELLS FARGO CLEAR ...   \n",
       "9498      9799827250  MCDONALD''S F ROCKY RIVER OH 05/13. Channel: i...   \n",
       "9499      9809070494  ONLINE TRANSFER FROM BELMAN A WELLS FARGO CLEA...   \n",
       "\n",
       "                                              sentence2  \\\n",
       "0     Debit Purchase Wal-mart Super Cbrookings Sd 05...   \n",
       "1     MONEY TRANSFER AUTHORIZED ON 05/13 CASH APP*JE...   \n",
       "2     MONEY TRANSFER AUTHORIZED ON 05/13 FROM Earnin...   \n",
       "3     MONEY TRANSFER AUTHORIZED ON 05/13 CASH APP*JE...   \n",
       "4     Instant Pmt from Earnin RDBFA_B on 05/14 Ref# ...   \n",
       "...                                                 ...   \n",
       "9495  PURCHASE RETURN AUTHORIZED ON 05/13 AMZN Mktp ...   \n",
       "9496  AMZN Mktp US GE69A,2YL3 Amzn com WA,05-13-24,C...   \n",
       "9497  ONLINE TRANSFER FROM NAME N WELLS FARGO CLEAR ...   \n",
       "9498  MCDONALD''S F ROCKY RIVER OH 05/13. Type: merc...   \n",
       "9499  ONLINE TRANSFER FROM BELMAN A WELLS FARGO CLEA...   \n",
       "\n",
       "                         description_combined_processed  \\\n",
       "0     Debit Purchase Wal-mart Super Cbrookings Sd 05...   \n",
       "1     MONEY TRANSFER AUTHORIZED ON 05/13 CASH APP*JE...   \n",
       "2     MONEY TRANSFER AUTHORIZED ON 05/13 FROM Earnin...   \n",
       "3     MONEY TRANSFER AUTHORIZED ON 05/13 CASH APP*JE...   \n",
       "4     Instant Pmt from Earnin RDBFA_B on 05/14 Ref# ...   \n",
       "...                                                 ...   \n",
       "9495  PURCHASE RETURN AUTHORIZED ON 05/13 AMZN Mktp ...   \n",
       "9496  AMZN Mktp US GE69A,2YL3 Amzn com WA,05-13-24,C...   \n",
       "9497  ONLINE TRANSFER FROM NAME N WELLS FARGO CLEAR ...   \n",
       "9498                 MCDONALD''S F ROCKY RIVER OH 05/13   \n",
       "9499  ONLINE TRANSFER FROM BELMAN A WELLS FARGO CLEA...   \n",
       "\n",
       "     true_merchant_name_combined merchant_name_combined  true_label     label  \\\n",
       "0                        Walmart          Exotic S Shop           0  0.328529   \n",
       "1                       Cash App                 Acorns           0  0.265679   \n",
       "2                         Earnin                 PayPal           0  0.207873   \n",
       "3                       Cash App            Wells Fargo           0  0.008904   \n",
       "4                         Earnin                  Venmo           0  0.054398   \n",
       "...                          ...                    ...         ...       ...   \n",
       "9495                      Amazon          TGI Friday''s           0  0.102636   \n",
       "9496                      Amazon                 Amazon           1  0.840733   \n",
       "9497                 Wells Fargo            Wells Fargo           1  0.888943   \n",
       "9498                 McDonald''s              Coca-Cola           0  0.085374   \n",
       "9499                 Wells Fargo             Albertsons           0  0.344464   \n",
       "\n",
       "      cos_similarity  \n",
       "0           0.000262  \n",
       "1          -0.010028  \n",
       "2          -0.003231  \n",
       "3           0.001403  \n",
       "4          -0.010100  \n",
       "...              ...  \n",
       "9495        0.001885  \n",
       "9496        0.995985  \n",
       "9497        0.988127  \n",
       "9498       -0.001350  \n",
       "9499       -0.001449  \n",
       "\n",
       "[9500 rows x 9 columns]"
      ]
     },
     "execution_count": 34,
     "metadata": {},
     "output_type": "execute_result"
    }
   ],
   "source": [
    "df_val"
   ]
  },
  {
   "cell_type": "code",
   "execution_count": null,
   "metadata": {},
   "outputs": [
    {
     "ename": "KeyboardInterrupt",
     "evalue": "",
     "output_type": "error",
     "traceback": [
      "\u001b[0;31m---------------------------------------------------------------------------\u001b[0m",
      "\u001b[0;31mKeyboardInterrupt\u001b[0m                         Traceback (most recent call last)",
      "\u001b[1;32m/home/sagemaker-user/exploration/MERCHANTS/Biencoder_v1_sbert.ipynb Cell 36\u001b[0m line \u001b[0;36m1\n\u001b[0;32m----> <a href='vscode-notebook-cell://yd6plnil3hw8unc.studio.us-east-1.sagemaker.aws/home/sagemaker-user/exploration/MERCHANTS/Biencoder_v1_sbert.ipynb#Y100sdnNjb2RlLXJlbW90ZQ%3D%3D?line=0'>1</a>\u001b[0m \u001b[39mwhile\u001b[39;00m \u001b[39mTrue\u001b[39;00m:\n\u001b[1;32m      <a href='vscode-notebook-cell://yd6plnil3hw8unc.studio.us-east-1.sagemaker.aws/home/sagemaker-user/exploration/MERCHANTS/Biencoder_v1_sbert.ipynb#Y100sdnNjb2RlLXJlbW90ZQ%3D%3D?line=1'>2</a>\u001b[0m     \u001b[39mpass\u001b[39;00m\n",
      "\u001b[0;31mKeyboardInterrupt\u001b[0m: "
     ]
    }
   ],
   "source": [
    "while True:\n",
    "    pass"
   ]
  },
  {
   "cell_type": "code",
   "execution_count": null,
   "metadata": {},
   "outputs": [],
   "source": [
    "validate_data[['label', 'true_label','cos_similarity']]"
   ]
  },
  {
   "cell_type": "code",
   "execution_count": null,
   "metadata": {},
   "outputs": [],
   "source": []
  },
  {
   "cell_type": "code",
   "execution_count": null,
   "metadata": {},
   "outputs": [],
   "source": [
    "# reducer = umap.UMAP(n_epochs=400,  n_neighbors=150, min_dist=0.1)\n",
    "# reducer.fit(merchants_embeddings\n",
    "# )\n",
    "# embedding_2d = reducer.transform(merchants_embeddings)\n",
    "# fig = px.scatter(embedding_2d, x=0, y=1,opacity=0.05, height=500, hover_name=names)\n",
    "# fig.show()"
   ]
  }
 ],
 "metadata": {
  "kernelspec": {
   "display_name": "base",
   "language": "python",
   "name": "python3"
  },
  "language_info": {
   "codemirror_mode": {
    "name": "ipython",
    "version": 3
   },
   "file_extension": ".py",
   "mimetype": "text/x-python",
   "name": "python",
   "nbconvert_exporter": "python",
   "pygments_lexer": "ipython3",
   "version": "3.10.14"
  }
 },
 "nbformat": 4,
 "nbformat_minor": 2
}
