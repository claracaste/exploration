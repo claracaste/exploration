{
 "cells": [
  {
   "cell_type": "code",
   "execution_count": 2,
   "metadata": {},
   "outputs": [
    {
     "name": "stdout",
     "output_type": "stream",
     "text": [
      "Collecting awswrangler\n",
      "  Downloading awswrangler-3.7.3-py3-none-any.whl.metadata (17 kB)\n",
      "Requirement already satisfied: boto3<2.0.0,>=1.20.32 in /opt/conda/lib/python3.10/site-packages (from awswrangler) (1.34.51)\n",
      "Requirement already satisfied: botocore<2.0.0,>=1.23.32 in /opt/conda/lib/python3.10/site-packages (from awswrangler) (1.34.51)\n",
      "Requirement already satisfied: numpy<2.0,>=1.18 in /opt/conda/lib/python3.10/site-packages (from awswrangler) (1.26.4)\n",
      "Requirement already satisfied: packaging<25.0,>=21.1 in /opt/conda/lib/python3.10/site-packages (from awswrangler) (23.2)\n",
      "Requirement already satisfied: pandas<3.0.0,>=1.2.0 in /opt/conda/lib/python3.10/site-packages (from awswrangler) (2.1.4)\n",
      "Requirement already satisfied: pyarrow>=8.0.0 in /opt/conda/lib/python3.10/site-packages (from awswrangler) (12.0.1)\n",
      "Requirement already satisfied: typing-extensions<5.0.0,>=4.4.0 in /opt/conda/lib/python3.10/site-packages (from awswrangler) (4.5.0)\n",
      "Requirement already satisfied: jmespath<2.0.0,>=0.7.1 in /opt/conda/lib/python3.10/site-packages (from boto3<2.0.0,>=1.20.32->awswrangler) (1.0.1)\n",
      "Requirement already satisfied: s3transfer<0.11.0,>=0.10.0 in /opt/conda/lib/python3.10/site-packages (from boto3<2.0.0,>=1.20.32->awswrangler) (0.10.1)\n",
      "Requirement already satisfied: python-dateutil<3.0.0,>=2.1 in /opt/conda/lib/python3.10/site-packages (from botocore<2.0.0,>=1.23.32->awswrangler) (2.9.0)\n",
      "Requirement already satisfied: urllib3<2.1,>=1.25.4 in /opt/conda/lib/python3.10/site-packages (from botocore<2.0.0,>=1.23.32->awswrangler) (1.26.18)\n",
      "Requirement already satisfied: pytz>=2020.1 in /opt/conda/lib/python3.10/site-packages (from pandas<3.0.0,>=1.2.0->awswrangler) (2023.3)\n",
      "Requirement already satisfied: tzdata>=2022.1 in /opt/conda/lib/python3.10/site-packages (from pandas<3.0.0,>=1.2.0->awswrangler) (2024.1)\n",
      "Requirement already satisfied: six>=1.5 in /opt/conda/lib/python3.10/site-packages (from python-dateutil<3.0.0,>=2.1->botocore<2.0.0,>=1.23.32->awswrangler) (1.16.0)\n",
      "Downloading awswrangler-3.7.3-py3-none-any.whl (378 kB)\n",
      "\u001b[2K   \u001b[90m━━━━━━━━━━━━━━━━━━━━━━━━━━━━━━━━━━━━━━━━\u001b[0m \u001b[32m378.2/378.2 kB\u001b[0m \u001b[31m27.2 MB/s\u001b[0m eta \u001b[36m0:00:00\u001b[0m\n",
      "\u001b[?25hInstalling collected packages: awswrangler\n",
      "Successfully installed awswrangler-3.7.3\n",
      "Note: you may need to restart the kernel to use updated packages.\n"
     ]
    }
   ],
   "source": [
    "%pip install awswrangler"
   ]
  },
  {
   "cell_type": "code",
   "execution_count": 4,
   "metadata": {},
   "outputs": [],
   "source": [
    "import pandas as pd\n",
    "import awswrangler as wr"
   ]
  },
  {
   "cell_type": "code",
   "execution_count": 5,
   "metadata": {},
   "outputs": [
    {
     "data": {
      "text/plain": [
       "(3156735, 8)"
      ]
     },
     "execution_count": 5,
     "metadata": {},
     "output_type": "execute_result"
    }
   ],
   "source": [
    "s3_path = \"s3://cleo-data-science/transaction_enrichment/experimental_data/caste/trx-merchant-pair/sample.parquet\"\n",
    "s3_path = \"s3://cleo-data-science/transaction_enrichment/experimental_data/caste/trx-merchant-pair/trans_2024-05-13_2024-05-13_top_10_10.parquet\"\n",
    "s3_path = \"s3://cleo-data-science/transaction_enrichment/experimental_data/caste/trx-merchant-pair/trans_2024-05-13_2024-05-13_top_101.parquet\"\n",
    "s3_path = \"s3://cleo-data-science/transaction_enrichment/experimental_data/caste/trx-merchant-pair/trans_2024-05-13_2024-05-13_top_2001.parquet\"\n",
    "\n",
    "df_data_raw = wr.s3.read_parquet(path=s3_path)\n",
    "df_data_raw.shape"
   ]
  },
  {
   "cell_type": "code",
   "execution_count": 6,
   "metadata": {},
   "outputs": [
    {
     "data": {
      "text/html": [
       "<div>\n",
       "<style scoped>\n",
       "    .dataframe tbody tr th:only-of-type {\n",
       "        vertical-align: middle;\n",
       "    }\n",
       "\n",
       "    .dataframe tbody tr th {\n",
       "        vertical-align: top;\n",
       "    }\n",
       "\n",
       "    .dataframe thead th {\n",
       "        text-align: right;\n",
       "    }\n",
       "</style>\n",
       "<table border=\"1\" class=\"dataframe\">\n",
       "  <thead>\n",
       "    <tr style=\"text-align: right;\">\n",
       "      <th></th>\n",
       "      <th>transaction_id</th>\n",
       "      <th>sentence</th>\n",
       "      <th>sentence2</th>\n",
       "      <th>original_description_plaid_processed</th>\n",
       "      <th>true_merchant_name_combined</th>\n",
       "      <th>merchant_name_combined</th>\n",
       "      <th>true_label</th>\n",
       "      <th>label</th>\n",
       "    </tr>\n",
       "  </thead>\n",
       "  <tbody>\n",
       "    <tr>\n",
       "      <th>0</th>\n",
       "      <td>9823228670</td>\n",
       "      <td>CASH APP*DAWN MILLS 800- CA 05/11. Channel: No...</td>\n",
       "      <td>CASH APP*DAWN MILLS 800- CA 05/11. Type: payme...</td>\n",
       "      <td>CASH APP*DAWN MILLS 800- CA 05/11</td>\n",
       "      <td>Cash App</td>\n",
       "      <td>Dollar Tree</td>\n",
       "      <td>0</td>\n",
       "      <td>0.149608</td>\n",
       "    </tr>\n",
       "    <tr>\n",
       "      <th>1</th>\n",
       "      <td>9782646513</td>\n",
       "      <td>Cash App*Jaycee Hall. Channel: None. Amount: -...</td>\n",
       "      <td>Cash App*Jaycee Hall. Type: payment_app. Chann...</td>\n",
       "      <td>Cash App*Jaycee Hall</td>\n",
       "      <td>Cash App</td>\n",
       "      <td>Earnin</td>\n",
       "      <td>0</td>\n",
       "      <td>0.058471</td>\n",
       "    </tr>\n",
       "    <tr>\n",
       "      <th>2</th>\n",
       "      <td>9889714757</td>\n",
       "      <td>CASH APP*TINA VANCE San Francisc. Channel: Non...</td>\n",
       "      <td>CASH APP*TINA VANCE San Francisc. Type: paymen...</td>\n",
       "      <td>CASH APP*TINA VANCE San Francisc</td>\n",
       "      <td>Cash App</td>\n",
       "      <td>Jordan''s Kwik Stop</td>\n",
       "      <td>0</td>\n",
       "      <td>0.367670</td>\n",
       "    </tr>\n",
       "    <tr>\n",
       "      <th>3</th>\n",
       "      <td>9781579970</td>\n",
       "      <td>Cash App*Jefe*Add Cash. Channel: None. Amount:...</td>\n",
       "      <td>Cash App*Jefe*Add Cash. Type: payment_app. Cha...</td>\n",
       "      <td>Cash App*Jefe*Add Cash</td>\n",
       "      <td>Cash App</td>\n",
       "      <td>Apple</td>\n",
       "      <td>0</td>\n",
       "      <td>0.129702</td>\n",
       "    </tr>\n",
       "    <tr>\n",
       "      <th>4</th>\n",
       "      <td>9791996406</td>\n",
       "      <td>CASH APP*SATIVAA WATTS 800- CA 05/12. Channel:...</td>\n",
       "      <td>CASH APP*SATIVAA WATTS 800- CA 05/12. Type: pa...</td>\n",
       "      <td>CASH APP*SATIVAA WATTS 800- CA 05/12</td>\n",
       "      <td>Cash App</td>\n",
       "      <td>Zip.co</td>\n",
       "      <td>0</td>\n",
       "      <td>0.252589</td>\n",
       "    </tr>\n",
       "  </tbody>\n",
       "</table>\n",
       "</div>"
      ],
      "text/plain": [
       "   transaction_id                                           sentence  \\\n",
       "0      9823228670  CASH APP*DAWN MILLS 800- CA 05/11. Channel: No...   \n",
       "1      9782646513  Cash App*Jaycee Hall. Channel: None. Amount: -...   \n",
       "2      9889714757  CASH APP*TINA VANCE San Francisc. Channel: Non...   \n",
       "3      9781579970  Cash App*Jefe*Add Cash. Channel: None. Amount:...   \n",
       "4      9791996406  CASH APP*SATIVAA WATTS 800- CA 05/12. Channel:...   \n",
       "\n",
       "                                           sentence2  \\\n",
       "0  CASH APP*DAWN MILLS 800- CA 05/11. Type: payme...   \n",
       "1  Cash App*Jaycee Hall. Type: payment_app. Chann...   \n",
       "2  CASH APP*TINA VANCE San Francisc. Type: paymen...   \n",
       "3  Cash App*Jefe*Add Cash. Type: payment_app. Cha...   \n",
       "4  CASH APP*SATIVAA WATTS 800- CA 05/12. Type: pa...   \n",
       "\n",
       "   original_description_plaid_processed true_merchant_name_combined  \\\n",
       "0     CASH APP*DAWN MILLS 800- CA 05/11                    Cash App   \n",
       "1                  Cash App*Jaycee Hall                    Cash App   \n",
       "2      CASH APP*TINA VANCE San Francisc                    Cash App   \n",
       "3                Cash App*Jefe*Add Cash                    Cash App   \n",
       "4  CASH APP*SATIVAA WATTS 800- CA 05/12                    Cash App   \n",
       "\n",
       "  merchant_name_combined  true_label     label  \n",
       "0            Dollar Tree           0  0.149608  \n",
       "1                 Earnin           0  0.058471  \n",
       "2    Jordan''s Kwik Stop           0  0.367670  \n",
       "3                  Apple           0  0.129702  \n",
       "4                 Zip.co           0  0.252589  "
      ]
     },
     "execution_count": 6,
     "metadata": {},
     "output_type": "execute_result"
    }
   ],
   "source": [
    "df_data_raw.head()"
   ]
  },
  {
   "cell_type": "code",
   "execution_count": 7,
   "metadata": {},
   "outputs": [
    {
     "data": {
      "text/plain": [
       "true_merchant_name_combined\n",
       "Cash App                15000\n",
       "Dollar Tree             15000\n",
       "Earnin                  15000\n",
       "Amazon                  15000\n",
       "Walmart                 15000\n",
       "                        ...  \n",
       "American Income Life      130\n",
       "Super C                   130\n",
       "Republic Bk Loc           130\n",
       "Bnei                      128\n",
       "Myfico                    128\n",
       "Name: count, Length: 2001, dtype: Int64"
      ]
     },
     "execution_count": 7,
     "metadata": {},
     "output_type": "execute_result"
    }
   ],
   "source": [
    "df_data_raw['true_merchant_name_combined'].value_counts()"
   ]
  },
  {
   "cell_type": "code",
   "execution_count": 8,
   "metadata": {},
   "outputs": [
    {
     "data": {
      "text/plain": [
       "2001"
      ]
     },
     "execution_count": 8,
     "metadata": {},
     "output_type": "execute_result"
    }
   ],
   "source": [
    "df_data_raw['true_merchant_name_combined'].nunique()"
   ]
  },
  {
   "cell_type": "code",
   "execution_count": 11,
   "metadata": {},
   "outputs": [
    {
     "data": {
      "text/plain": [
       "true_label\n",
       "0    64\n",
       "1    64\n",
       "Name: count, dtype: Int64"
      ]
     },
     "execution_count": 11,
     "metadata": {},
     "output_type": "execute_result"
    }
   ],
   "source": [
    "df_data_raw[df_data_raw['true_merchant_name_combined'] == 'Myfico']['true_label'].value_counts()"
   ]
  },
  {
   "cell_type": "code",
   "execution_count": null,
   "metadata": {},
   "outputs": [],
   "source": []
  }
 ],
 "metadata": {
  "kernelspec": {
   "display_name": "base",
   "language": "python",
   "name": "python3"
  },
  "language_info": {
   "codemirror_mode": {
    "name": "ipython",
    "version": 3
   },
   "file_extension": ".py",
   "mimetype": "text/x-python",
   "name": "python",
   "nbconvert_exporter": "python",
   "pygments_lexer": "ipython3",
   "version": "3.10.14"
  }
 },
 "nbformat": 4,
 "nbformat_minor": 2
}
