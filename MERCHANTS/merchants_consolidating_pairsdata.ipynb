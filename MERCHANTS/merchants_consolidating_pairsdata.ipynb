{
 "cells": [
  {
   "cell_type": "code",
   "execution_count": 1,
   "metadata": {},
   "outputs": [
    {
     "name": "stdout",
     "output_type": "stream",
     "text": [
      "Requirement already satisfied: pyarrow in /opt/conda/lib/python3.10/site-packages (12.0.1)\n",
      "Requirement already satisfied: numpy>=1.16.6 in /opt/conda/lib/python3.10/site-packages (from pyarrow) (1.26.4)\n",
      "Note: you may need to restart the kernel to use updated packages.\n",
      "Requirement already satisfied: fastparquet in /opt/conda/lib/python3.10/site-packages (2024.5.0)\n",
      "Requirement already satisfied: pandas>=1.5.0 in /opt/conda/lib/python3.10/site-packages (from fastparquet) (2.1.4)\n",
      "Requirement already satisfied: numpy in /opt/conda/lib/python3.10/site-packages (from fastparquet) (1.26.4)\n",
      "Requirement already satisfied: cramjam>=2.3 in /opt/conda/lib/python3.10/site-packages (from fastparquet) (2.8.3)\n",
      "Requirement already satisfied: fsspec in /opt/conda/lib/python3.10/site-packages (from fastparquet) (2023.6.0)\n",
      "Requirement already satisfied: packaging in /opt/conda/lib/python3.10/site-packages (from fastparquet) (23.2)\n",
      "Requirement already satisfied: python-dateutil>=2.8.2 in /opt/conda/lib/python3.10/site-packages (from pandas>=1.5.0->fastparquet) (2.9.0)\n",
      "Requirement already satisfied: pytz>=2020.1 in /opt/conda/lib/python3.10/site-packages (from pandas>=1.5.0->fastparquet) (2023.3)\n",
      "Requirement already satisfied: tzdata>=2022.1 in /opt/conda/lib/python3.10/site-packages (from pandas>=1.5.0->fastparquet) (2024.1)\n",
      "Requirement already satisfied: six>=1.5 in /opt/conda/lib/python3.10/site-packages (from python-dateutil>=2.8.2->pandas>=1.5.0->fastparquet) (1.16.0)\n",
      "Note: you may need to restart the kernel to use updated packages.\n",
      "Requirement already satisfied: awswrangler in /opt/conda/lib/python3.10/site-packages (3.8.0)\n",
      "Requirement already satisfied: boto3<2.0.0,>=1.20.32 in /opt/conda/lib/python3.10/site-packages (from awswrangler) (1.34.51)\n",
      "Requirement already satisfied: botocore<2.0.0,>=1.23.32 in /opt/conda/lib/python3.10/site-packages (from awswrangler) (1.34.51)\n",
      "Requirement already satisfied: numpy<2.0,>=1.18 in /opt/conda/lib/python3.10/site-packages (from awswrangler) (1.26.4)\n",
      "Requirement already satisfied: packaging<25.0,>=21.1 in /opt/conda/lib/python3.10/site-packages (from awswrangler) (23.2)\n",
      "Requirement already satisfied: pandas<3.0.0,>=1.2.0 in /opt/conda/lib/python3.10/site-packages (from awswrangler) (2.1.4)\n",
      "Requirement already satisfied: pyarrow>=8.0.0 in /opt/conda/lib/python3.10/site-packages (from awswrangler) (12.0.1)\n",
      "Requirement already satisfied: typing-extensions<5.0.0,>=4.4.0 in /opt/conda/lib/python3.10/site-packages (from awswrangler) (4.5.0)\n",
      "Requirement already satisfied: jmespath<2.0.0,>=0.7.1 in /opt/conda/lib/python3.10/site-packages (from boto3<2.0.0,>=1.20.32->awswrangler) (1.0.1)\n",
      "Requirement already satisfied: s3transfer<0.11.0,>=0.10.0 in /opt/conda/lib/python3.10/site-packages (from boto3<2.0.0,>=1.20.32->awswrangler) (0.10.1)\n",
      "Requirement already satisfied: python-dateutil<3.0.0,>=2.1 in /opt/conda/lib/python3.10/site-packages (from botocore<2.0.0,>=1.23.32->awswrangler) (2.9.0)\n",
      "Requirement already satisfied: urllib3<2.1,>=1.25.4 in /opt/conda/lib/python3.10/site-packages (from botocore<2.0.0,>=1.23.32->awswrangler) (1.26.18)\n",
      "Requirement already satisfied: pytz>=2020.1 in /opt/conda/lib/python3.10/site-packages (from pandas<3.0.0,>=1.2.0->awswrangler) (2023.3)\n",
      "Requirement already satisfied: tzdata>=2022.1 in /opt/conda/lib/python3.10/site-packages (from pandas<3.0.0,>=1.2.0->awswrangler) (2024.1)\n",
      "Requirement already satisfied: six>=1.5 in /opt/conda/lib/python3.10/site-packages (from python-dateutil<3.0.0,>=2.1->botocore<2.0.0,>=1.23.32->awswrangler) (1.16.0)\n",
      "Note: you may need to restart the kernel to use updated packages.\n",
      "Requirement already satisfied: s3fs in /opt/conda/lib/python3.10/site-packages (2024.6.0)\n",
      "Requirement already satisfied: aiobotocore<3.0.0,>=2.5.4 in /opt/conda/lib/python3.10/site-packages (from s3fs) (2.12.2)\n",
      "Collecting fsspec==2024.6.0.* (from s3fs)\n",
      "  Using cached fsspec-2024.6.0-py3-none-any.whl.metadata (11 kB)\n",
      "Requirement already satisfied: aiohttp!=4.0.0a0,!=4.0.0a1 in /opt/conda/lib/python3.10/site-packages (from s3fs) (3.9.5)\n",
      "Requirement already satisfied: botocore<1.34.52,>=1.34.41 in /opt/conda/lib/python3.10/site-packages (from aiobotocore<3.0.0,>=2.5.4->s3fs) (1.34.51)\n",
      "Requirement already satisfied: wrapt<2.0.0,>=1.10.10 in /opt/conda/lib/python3.10/site-packages (from aiobotocore<3.0.0,>=2.5.4->s3fs) (1.16.0)\n",
      "Requirement already satisfied: aioitertools<1.0.0,>=0.5.1 in /opt/conda/lib/python3.10/site-packages (from aiobotocore<3.0.0,>=2.5.4->s3fs) (0.11.0)\n",
      "Requirement already satisfied: aiosignal>=1.1.2 in /opt/conda/lib/python3.10/site-packages (from aiohttp!=4.0.0a0,!=4.0.0a1->s3fs) (1.3.1)\n",
      "Requirement already satisfied: attrs>=17.3.0 in /opt/conda/lib/python3.10/site-packages (from aiohttp!=4.0.0a0,!=4.0.0a1->s3fs) (23.2.0)\n",
      "Requirement already satisfied: frozenlist>=1.1.1 in /opt/conda/lib/python3.10/site-packages (from aiohttp!=4.0.0a0,!=4.0.0a1->s3fs) (1.4.1)\n",
      "Requirement already satisfied: multidict<7.0,>=4.5 in /opt/conda/lib/python3.10/site-packages (from aiohttp!=4.0.0a0,!=4.0.0a1->s3fs) (6.0.5)\n",
      "Requirement already satisfied: yarl<2.0,>=1.0 in /opt/conda/lib/python3.10/site-packages (from aiohttp!=4.0.0a0,!=4.0.0a1->s3fs) (1.9.4)\n",
      "Requirement already satisfied: async-timeout<5.0,>=4.0 in /opt/conda/lib/python3.10/site-packages (from aiohttp!=4.0.0a0,!=4.0.0a1->s3fs) (4.0.3)\n",
      "Requirement already satisfied: jmespath<2.0.0,>=0.7.1 in /opt/conda/lib/python3.10/site-packages (from botocore<1.34.52,>=1.34.41->aiobotocore<3.0.0,>=2.5.4->s3fs) (1.0.1)\n",
      "Requirement already satisfied: python-dateutil<3.0.0,>=2.1 in /opt/conda/lib/python3.10/site-packages (from botocore<1.34.52,>=1.34.41->aiobotocore<3.0.0,>=2.5.4->s3fs) (2.9.0)\n",
      "Requirement already satisfied: urllib3<2.1,>=1.25.4 in /opt/conda/lib/python3.10/site-packages (from botocore<1.34.52,>=1.34.41->aiobotocore<3.0.0,>=2.5.4->s3fs) (1.26.18)\n",
      "Requirement already satisfied: idna>=2.0 in /opt/conda/lib/python3.10/site-packages (from yarl<2.0,>=1.0->aiohttp!=4.0.0a0,!=4.0.0a1->s3fs) (3.7)\n",
      "Requirement already satisfied: six>=1.5 in /opt/conda/lib/python3.10/site-packages (from python-dateutil<3.0.0,>=2.1->botocore<1.34.52,>=1.34.41->aiobotocore<3.0.0,>=2.5.4->s3fs) (1.16.0)\n",
      "Using cached fsspec-2024.6.0-py3-none-any.whl (176 kB)\n",
      "Installing collected packages: fsspec\n",
      "  Attempting uninstall: fsspec\n",
      "    Found existing installation: fsspec 2023.6.0\n",
      "\u001b[31mERROR: Cannot uninstall fsspec 2023.6.0, RECORD file not found. You might be able to recover from this via: 'pip install --force-reinstall --no-deps fsspec==2023.6.0'.\u001b[0m\u001b[31m\n",
      "\u001b[0mNote: you may need to restart the kernel to use updated packages.\n"
     ]
    }
   ],
   "source": [
    "%pip install pyarrow\n",
    "%pip install fastparquet\n",
    "%pip install awswrangler\n",
    "%pip install s3fs"
   ]
  },
  {
   "cell_type": "code",
   "execution_count": 2,
   "metadata": {},
   "outputs": [],
   "source": [
    "import s3fs\n",
    "import pandas as pd\n",
    "import awswrangler as wr\n"
   ]
  },
  {
   "cell_type": "code",
   "execution_count": 3,
   "metadata": {},
   "outputs": [],
   "source": [
    "def read_from_s3(path):\n",
    "    \"\"\"Read parquet files and combine them into a single dataframe\"\"\"\n",
    "    fs = s3fs.core.S3FileSystem()\n",
    "    all_paths_from_s3 = fs.glob(path=f\"{path}*.parquet\")\n",
    "\n",
    "    if len(all_paths_from_s3) > 0:\n",
    "        s3 = s3fs.S3FileSystem()\n",
    "        fp_obj = ParquetFile(\n",
    "            all_paths_from_s3, open_with=s3.open\n",
    "        )  # use s3fs as the filesystem\n",
    "        data = fp_obj.to_pandas()\n",
    "        return data\n",
    "    elif len(all_paths_from_s3)==1:\n",
    "        return pd.read_parquet(all_paths_from_s3[0])\n",
    "    else:\n",
    "        print(f\"Nothing found\")\n",
    "        print(f\"paths from a{all_paths_from_s3}\")\n",
    "    \n",
    "def read_csv_s3(bucket, key):\n",
    "    try:\n",
    "        s3 = boto3.client('s3')\n",
    "        obj = s3.get_object(Bucket=bucket, Key=key)\n",
    "        df = pd.read_csv(obj['Body'])\n",
    "        return df\n",
    "    except ClientError as ex:\n",
    "        if ex.response['Error']['Code'] == 'NoSuchKey':\n",
    "            print(\"Key doesn't match. Please check the key value entered.\")\n",
    "\n",
    "def list_s3_flies(base_path):\n",
    "    fs = s3fs.core.S3FileSystem()\n",
    "    all_paths_from_s3 = fs.glob(path=f\"{base_path}*.parquet\")\n",
    "    return all_paths_from_s3\n"
   ]
  },
  {
   "cell_type": "code",
   "execution_count": 4,
   "metadata": {},
   "outputs": [],
   "source": [
    "# start_date_s = '2024-05-14'\n",
    "# end_date_s = '2024-05-16'\n",
    "# date_range = pd.date_range(start=start_date_s, end=end_date_s)\n",
    "# # Convert the date range to a list of strings\n",
    "# date_list = date_range.strftime('%Y-%m-%d').tolist()\n",
    "# date_list"
   ]
  },
  {
   "cell_type": "code",
   "execution_count": 25,
   "metadata": {},
   "outputs": [],
   "source": [
    "list_files = [\"s3://cleo-data-science/transaction_enrichment/experimental_data/caste/trx-merchant-pair/trans_2024-05-15_2024-05-15_top_10000.parquet/\",\\\n",
    "    \"s3://cleo-data-science/transaction_enrichment/experimental_data/caste/trx-merchant-pair/trans_2024-05-16_2024-05-16_top_1_9000.parquet/\",\\\n",
    "    \"s3://cleo-data-science/transaction_enrichment/experimental_data/caste/trx-merchant-pair/trans_2024-05-18_2024-05-18_top_1_91000.parquet/\",\\\n",
    "]\n"
   ]
  },
  {
   "cell_type": "code",
   "execution_count": 26,
   "metadata": {},
   "outputs": [],
   "source": [
    "path_file = \"s3://cleo-data-science/transaction_enrichment/experimental_data/caste/trx-merchant-pair/trans_2024-05-15_2024-05-15_top_10000_9000.parquet/\"\n",
    "df_trans = pd.read_parquet(path_file, engine='pyarrow')"
   ]
  },
  {
   "cell_type": "code",
   "execution_count": 27,
   "metadata": {},
   "outputs": [
    {
     "data": {
      "text/plain": [
       "2465438"
      ]
     },
     "execution_count": 27,
     "metadata": {},
     "output_type": "execute_result"
    }
   ],
   "source": [
    "df_trans.shape[0]"
   ]
  },
  {
   "cell_type": "code",
   "execution_count": 28,
   "metadata": {},
   "outputs": [
    {
     "data": {
      "text/plain": [
       "9001"
      ]
     },
     "execution_count": 28,
     "metadata": {},
     "output_type": "execute_result"
    }
   ],
   "source": [
    "df_trans['true_merchant_name_combined'].nunique()"
   ]
  },
  {
   "cell_type": "code",
   "execution_count": 32,
   "metadata": {},
   "outputs": [
    {
     "name": "stdout",
     "output_type": "stream",
     "text": [
      "Load s3://cleo-data-science/transaction_enrichment/experimental_data/caste/trx-merchant-pair/trans_2024-05-15_2024-05-15_top_10000.parquet/\n",
      "(2478930, 11)\n",
      "Load s3://cleo-data-science/transaction_enrichment/experimental_data/caste/trx-merchant-pair/trans_2024-05-16_2024-05-16_top_1_9000.parquet/\n",
      "(2634326, 11)\n",
      "Load s3://cleo-data-science/transaction_enrichment/experimental_data/caste/trx-merchant-pair/trans_2024-05-18_2024-05-18_top_1_91000.parquet/\n",
      "(935823, 11)\n"
     ]
    }
   ],
   "source": [
    "# max_rows_per_type = 10000\n",
    "# df_total = pd.DataFrame()\n",
    "# for one_date in date_list:\n",
    "#     one_date_s = str(one_date)\n",
    "#     path_file =  f\"s3://cleo-data-science/transaction_enrichment/experimental_data/caste/processed/trans_{one_date_s}_{one_date_s}\"\n",
    "#     print(f\"Load {path_file}\")\n",
    "#     df_trans = pd.read_parquet(path_file, engine='pyarrow')\n",
    "#     print(f\" Loaded shape {df_trans.shape}\")\n",
    "#     sampled_df = df_trans.groupby('merchant_name_combined').apply(lambda x: x.sample(min(len(x), max_rows_per_type))).reset_index(drop=True)\n",
    "#     print(f\" sampled shape {sampled_df.shape}\")\n",
    "#     df_total = pd.concat([df_total,sampled_df ], axis=0)\n",
    "\n",
    "df_total = pd.DataFrame()\n",
    "for path_file in list_files:\n",
    "    # one_date_s = str(one_date)\n",
    "    # path_file =  f\"s3://cleo-data-science/transaction_enrichment/experimental_data/caste/processed/trans_{one_date_s}_{one_date_s}\"\n",
    "    print(f\"Load {path_file}\")\n",
    "    df_trans = pd.read_parquet(path_file, engine='pyarrow')\n",
    "    print(df_trans.shape)\n",
    "    # print(f\" Loaded shape {df_trans.shape}\")\n",
    "    # sampled_df = df_trans.groupby('merchant_name_combined').apply(lambda x: x.sample(min(len(x), max_rows_per_type))).reset_index(drop=True)\n",
    "    # print(f\" sampled shape {sampled_df.shape}\")\n",
    "    df_total = pd.concat([df_total,df_trans ], axis=0)\n",
    "    del df_trans\n"
   ]
  },
  {
   "cell_type": "code",
   "execution_count": 33,
   "metadata": {},
   "outputs": [
    {
     "data": {
      "text/plain": [
       "(6049079, 11)"
      ]
     },
     "execution_count": 33,
     "metadata": {},
     "output_type": "execute_result"
    }
   ],
   "source": [
    "df_total.shape"
   ]
  },
  {
   "cell_type": "code",
   "execution_count": 34,
   "metadata": {},
   "outputs": [
    {
     "data": {
      "text/html": [
       "<div>\n",
       "<style scoped>\n",
       "    .dataframe tbody tr th:only-of-type {\n",
       "        vertical-align: middle;\n",
       "    }\n",
       "\n",
       "    .dataframe tbody tr th {\n",
       "        vertical-align: top;\n",
       "    }\n",
       "\n",
       "    .dataframe thead th {\n",
       "        text-align: right;\n",
       "    }\n",
       "</style>\n",
       "<table border=\"1\" class=\"dataframe\">\n",
       "  <thead>\n",
       "    <tr style=\"text-align: right;\">\n",
       "      <th></th>\n",
       "      <th>transaction_id</th>\n",
       "      <th>sentence</th>\n",
       "      <th>sentence2</th>\n",
       "      <th>description_combined_processed</th>\n",
       "      <th>true_merchant_name_combined</th>\n",
       "      <th>is_duplicate</th>\n",
       "      <th>original_merchant_name_combined</th>\n",
       "      <th>amount</th>\n",
       "      <th>merchant_name_combined</th>\n",
       "      <th>true_label</th>\n",
       "      <th>label</th>\n",
       "    </tr>\n",
       "  </thead>\n",
       "  <tbody>\n",
       "    <tr>\n",
       "      <th>0</th>\n",
       "      <td>9808946907</td>\n",
       "      <td>Earnin REPAYMENT Yolanda Triplett. Channel: No...</td>\n",
       "      <td>Earnin REPAYMENT Yolanda Triplett. Type: finan...</td>\n",
       "      <td>Earnin REPAYMENT Yolanda Triplett</td>\n",
       "      <td>Earnin</td>\n",
       "      <td>0</td>\n",
       "      <td>Earnin</td>\n",
       "      <td>-105.0</td>\n",
       "      <td>Clr</td>\n",
       "      <td>0</td>\n",
       "      <td>0.072491</td>\n",
       "    </tr>\n",
       "    <tr>\n",
       "      <th>1</th>\n",
       "      <td>9815434413</td>\n",
       "      <td>Earnin DES:REPAYMENT ID: INDN:Salise Marin CO ...</td>\n",
       "      <td>Earnin DES:REPAYMENT ID: INDN:Salise Marin CO ...</td>\n",
       "      <td>Earnin DES:REPAYMENT ID: INDN:Salise Marin CO ...</td>\n",
       "      <td>Earnin</td>\n",
       "      <td>0</td>\n",
       "      <td>Earnin</td>\n",
       "      <td>-54.0</td>\n",
       "      <td>Family Dollar</td>\n",
       "      <td>0</td>\n",
       "      <td>0.130614</td>\n",
       "    </tr>\n",
       "    <tr>\n",
       "      <th>2</th>\n",
       "      <td>9816255697</td>\n",
       "      <td>Earnin REPAYMENT WEB ID: . Channel: None. Amou...</td>\n",
       "      <td>Earnin REPAYMENT WEB ID: . Type: financial_ins...</td>\n",
       "      <td>Earnin REPAYMENT WEB ID:</td>\n",
       "      <td>Earnin</td>\n",
       "      <td>0</td>\n",
       "      <td>Earnin</td>\n",
       "      <td>-100.0</td>\n",
       "      <td>Dions Quick Mart</td>\n",
       "      <td>0</td>\n",
       "      <td>0.062103</td>\n",
       "    </tr>\n",
       "    <tr>\n",
       "      <th>3</th>\n",
       "      <td>9802511831</td>\n",
       "      <td>Earnin Djaah. Channel: None. Amount: -104.5</td>\n",
       "      <td>Earnin Djaah. Type: financial_institution. Cha...</td>\n",
       "      <td>Earnin Djaah</td>\n",
       "      <td>Earnin</td>\n",
       "      <td>0</td>\n",
       "      <td>Earnin</td>\n",
       "      <td>-104.5</td>\n",
       "      <td>Cash App Keevin</td>\n",
       "      <td>0</td>\n",
       "      <td>0.105194</td>\n",
       "    </tr>\n",
       "    <tr>\n",
       "      <th>4</th>\n",
       "      <td>9810372468</td>\n",
       "      <td>MONEY TRANSFER AUTHORIZED ON 05/14 FROM Earnin...</td>\n",
       "      <td>MONEY TRANSFER AUTHORIZED ON 05/14 FROM Earnin...</td>\n",
       "      <td>MONEY TRANSFER AUTHORIZED ON 05/14 FROM Earnin...</td>\n",
       "      <td>Earnin</td>\n",
       "      <td>0</td>\n",
       "      <td>Earnin</td>\n",
       "      <td>50.0</td>\n",
       "      <td>Resident Insure</td>\n",
       "      <td>0</td>\n",
       "      <td>0.155062</td>\n",
       "    </tr>\n",
       "    <tr>\n",
       "      <th>5</th>\n",
       "      <td>9811887561</td>\n",
       "      <td>RECEIVED RTP ID P1BCLED FROM EARNIN RFIFI_B. C...</td>\n",
       "      <td>RECEIVED RTP ID P1BCLED FROM EARNIN RFIFI_B. T...</td>\n",
       "      <td>RECEIVED RTP ID P1BCLED FROM EARNIN RFIFI_B</td>\n",
       "      <td>Earnin</td>\n",
       "      <td>0</td>\n",
       "      <td>Earnin</td>\n",
       "      <td>10.0</td>\n",
       "      <td>Walgreens</td>\n",
       "      <td>0</td>\n",
       "      <td>0.046423</td>\n",
       "    </tr>\n",
       "    <tr>\n",
       "      <th>6</th>\n",
       "      <td>9807255658</td>\n",
       "      <td>Earnin REPAYMENT . Channel: None. Amount: -55.0</td>\n",
       "      <td>Earnin REPAYMENT . Type: financial_institution...</td>\n",
       "      <td>Earnin REPAYMENT</td>\n",
       "      <td>Earnin</td>\n",
       "      <td>0</td>\n",
       "      <td>Earnin</td>\n",
       "      <td>-55.0</td>\n",
       "      <td>A&amp;W</td>\n",
       "      <td>0</td>\n",
       "      <td>0.084778</td>\n",
       "    </tr>\n",
       "    <tr>\n",
       "      <th>7</th>\n",
       "      <td>9808648124</td>\n",
       "      <td>RTP REC EARNIN RGFIJ_B US . Channel: None. Amo...</td>\n",
       "      <td>RTP REC EARNIN RGFIJ_B US . Type: financial_in...</td>\n",
       "      <td>RTP REC EARNIN RGFIJ_B US</td>\n",
       "      <td>Earnin</td>\n",
       "      <td>0</td>\n",
       "      <td>Earnin</td>\n",
       "      <td>100.0</td>\n",
       "      <td>Brigit</td>\n",
       "      <td>0</td>\n",
       "      <td>0.050908</td>\n",
       "    </tr>\n",
       "    <tr>\n",
       "      <th>8</th>\n",
       "      <td>9810758713</td>\n",
       "      <td>Earnin REPAYMENT WEB ID: . Channel: None. Amou...</td>\n",
       "      <td>Earnin REPAYMENT WEB ID: . Type: financial_ins...</td>\n",
       "      <td>Earnin REPAYMENT WEB ID:</td>\n",
       "      <td>Earnin</td>\n",
       "      <td>0</td>\n",
       "      <td>Earnin</td>\n",
       "      <td>-115.0</td>\n",
       "      <td>Netflix</td>\n",
       "      <td>0</td>\n",
       "      <td>0.046781</td>\n",
       "    </tr>\n",
       "    <tr>\n",
       "      <th>9</th>\n",
       "      <td>9820474392</td>\n",
       "      <td>Earnin REPAYMENT WEB ID: . Channel: None. Amou...</td>\n",
       "      <td>Earnin REPAYMENT WEB ID: . Type: financial_ins...</td>\n",
       "      <td>Earnin REPAYMENT WEB ID:</td>\n",
       "      <td>Earnin</td>\n",
       "      <td>0</td>\n",
       "      <td>Earnin</td>\n",
       "      <td>-109.0</td>\n",
       "      <td>McDonald''s</td>\n",
       "      <td>0</td>\n",
       "      <td>0.463215</td>\n",
       "    </tr>\n",
       "  </tbody>\n",
       "</table>\n",
       "</div>"
      ],
      "text/plain": [
       "   transaction_id                                           sentence  \\\n",
       "0      9808946907  Earnin REPAYMENT Yolanda Triplett. Channel: No...   \n",
       "1      9815434413  Earnin DES:REPAYMENT ID: INDN:Salise Marin CO ...   \n",
       "2      9816255697  Earnin REPAYMENT WEB ID: . Channel: None. Amou...   \n",
       "3      9802511831        Earnin Djaah. Channel: None. Amount: -104.5   \n",
       "4      9810372468  MONEY TRANSFER AUTHORIZED ON 05/14 FROM Earnin...   \n",
       "5      9811887561  RECEIVED RTP ID P1BCLED FROM EARNIN RFIFI_B. C...   \n",
       "6      9807255658    Earnin REPAYMENT . Channel: None. Amount: -55.0   \n",
       "7      9808648124  RTP REC EARNIN RGFIJ_B US . Channel: None. Amo...   \n",
       "8      9810758713  Earnin REPAYMENT WEB ID: . Channel: None. Amou...   \n",
       "9      9820474392  Earnin REPAYMENT WEB ID: . Channel: None. Amou...   \n",
       "\n",
       "                                           sentence2  \\\n",
       "0  Earnin REPAYMENT Yolanda Triplett. Type: finan...   \n",
       "1  Earnin DES:REPAYMENT ID: INDN:Salise Marin CO ...   \n",
       "2  Earnin REPAYMENT WEB ID: . Type: financial_ins...   \n",
       "3  Earnin Djaah. Type: financial_institution. Cha...   \n",
       "4  MONEY TRANSFER AUTHORIZED ON 05/14 FROM Earnin...   \n",
       "5  RECEIVED RTP ID P1BCLED FROM EARNIN RFIFI_B. T...   \n",
       "6  Earnin REPAYMENT . Type: financial_institution...   \n",
       "7  RTP REC EARNIN RGFIJ_B US . Type: financial_in...   \n",
       "8  Earnin REPAYMENT WEB ID: . Type: financial_ins...   \n",
       "9  Earnin REPAYMENT WEB ID: . Type: financial_ins...   \n",
       "\n",
       "                      description_combined_processed  \\\n",
       "0                  Earnin REPAYMENT Yolanda Triplett   \n",
       "1  Earnin DES:REPAYMENT ID: INDN:Salise Marin CO ...   \n",
       "2                          Earnin REPAYMENT WEB ID:    \n",
       "3                                       Earnin Djaah   \n",
       "4  MONEY TRANSFER AUTHORIZED ON 05/14 FROM Earnin...   \n",
       "5        RECEIVED RTP ID P1BCLED FROM EARNIN RFIFI_B   \n",
       "6                                  Earnin REPAYMENT    \n",
       "7                         RTP REC EARNIN RGFIJ_B US    \n",
       "8                          Earnin REPAYMENT WEB ID:    \n",
       "9                          Earnin REPAYMENT WEB ID:    \n",
       "\n",
       "  true_merchant_name_combined  is_duplicate original_merchant_name_combined  \\\n",
       "0                      Earnin             0                          Earnin   \n",
       "1                      Earnin             0                          Earnin   \n",
       "2                      Earnin             0                          Earnin   \n",
       "3                      Earnin             0                          Earnin   \n",
       "4                      Earnin             0                          Earnin   \n",
       "5                      Earnin             0                          Earnin   \n",
       "6                      Earnin             0                          Earnin   \n",
       "7                      Earnin             0                          Earnin   \n",
       "8                      Earnin             0                          Earnin   \n",
       "9                      Earnin             0                          Earnin   \n",
       "\n",
       "   amount merchant_name_combined  true_label     label  \n",
       "0  -105.0                    Clr           0  0.072491  \n",
       "1   -54.0          Family Dollar           0  0.130614  \n",
       "2  -100.0       Dions Quick Mart           0  0.062103  \n",
       "3  -104.5        Cash App Keevin           0  0.105194  \n",
       "4    50.0        Resident Insure           0  0.155062  \n",
       "5    10.0              Walgreens           0  0.046423  \n",
       "6   -55.0                    A&W           0  0.084778  \n",
       "7   100.0                 Brigit           0  0.050908  \n",
       "8  -115.0                Netflix           0  0.046781  \n",
       "9  -109.0            McDonald''s           0  0.463215  "
      ]
     },
     "execution_count": 34,
     "metadata": {},
     "output_type": "execute_result"
    }
   ],
   "source": [
    "df_total.head(10)"
   ]
  },
  {
   "cell_type": "code",
   "execution_count": 35,
   "metadata": {},
   "outputs": [
    {
     "data": {
      "text/plain": [
       "(6049079, 11)"
      ]
     },
     "execution_count": 35,
     "metadata": {},
     "output_type": "execute_result"
    }
   ],
   "source": [
    "df_total.shape"
   ]
  },
  {
   "cell_type": "code",
   "execution_count": 36,
   "metadata": {},
   "outputs": [
    {
     "data": {
      "text/plain": [
       "93458"
      ]
     },
     "execution_count": 36,
     "metadata": {},
     "output_type": "execute_result"
    }
   ],
   "source": [
    "df_total['true_merchant_name_combined'].nunique()"
   ]
  },
  {
   "cell_type": "code",
   "execution_count": 37,
   "metadata": {},
   "outputs": [],
   "source": [
    "import re\n",
    "pattern = r\"Cash\\sApp\\s(?!Transfer)[\\w\\s]+\"\n",
    "result = re.sub(pattern, \"Cash App\", 'Cash App Transfer')\n",
    "result\n",
    "df_total['original_merchant_name_combined'] = df_total['original_merchant_name_combined'].apply(lambda x: re.sub(pattern, \"Cash App\", x) )\n",
    "df_total['true_merchant_name_combined'] = df_total['true_merchant_name_combined'].apply(lambda x: re.sub(pattern, \"Cash App\", x))\n",
    "df_total['merchant_name_combined'] = df_total['merchant_name_combined'].apply(lambda x: re.sub(pattern, \"Cash App\", x) )"
   ]
  },
  {
   "cell_type": "code",
   "execution_count": 38,
   "metadata": {},
   "outputs": [
    {
     "data": {
      "text/plain": [
       "89559"
      ]
     },
     "execution_count": 38,
     "metadata": {},
     "output_type": "execute_result"
    }
   ],
   "source": [
    "df_total['true_merchant_name_combined'].nunique()"
   ]
  },
  {
   "cell_type": "code",
   "execution_count": 39,
   "metadata": {},
   "outputs": [
    {
     "data": {
      "text/html": [
       "<div>\n",
       "<style scoped>\n",
       "    .dataframe tbody tr th:only-of-type {\n",
       "        vertical-align: middle;\n",
       "    }\n",
       "\n",
       "    .dataframe tbody tr th {\n",
       "        vertical-align: top;\n",
       "    }\n",
       "\n",
       "    .dataframe thead th {\n",
       "        text-align: right;\n",
       "    }\n",
       "</style>\n",
       "<table border=\"1\" class=\"dataframe\">\n",
       "  <thead>\n",
       "    <tr style=\"text-align: right;\">\n",
       "      <th></th>\n",
       "      <th>true_merchant_name_combined</th>\n",
       "      <th>count</th>\n",
       "    </tr>\n",
       "  </thead>\n",
       "  <tbody>\n",
       "    <tr>\n",
       "      <th>0</th>\n",
       "      <td>Cash App</td>\n",
       "      <td>122887</td>\n",
       "    </tr>\n",
       "    <tr>\n",
       "      <th>1</th>\n",
       "      <td>Savings</td>\n",
       "      <td>90000</td>\n",
       "    </tr>\n",
       "    <tr>\n",
       "      <th>2</th>\n",
       "      <td>Walmart</td>\n",
       "      <td>82542</td>\n",
       "    </tr>\n",
       "    <tr>\n",
       "      <th>3</th>\n",
       "      <td>Earnin</td>\n",
       "      <td>81197</td>\n",
       "    </tr>\n",
       "    <tr>\n",
       "      <th>4</th>\n",
       "      <td>McDonald''s</td>\n",
       "      <td>80796</td>\n",
       "    </tr>\n",
       "    <tr>\n",
       "      <th>...</th>\n",
       "      <td>...</td>\n",
       "      <td>...</td>\n",
       "    </tr>\n",
       "    <tr>\n",
       "      <th>89554</th>\n",
       "      <td>Hes Energynet</td>\n",
       "      <td>2</td>\n",
       "    </tr>\n",
       "    <tr>\n",
       "      <th>89555</th>\n",
       "      <td>Herzing Universi</td>\n",
       "      <td>2</td>\n",
       "    </tr>\n",
       "    <tr>\n",
       "      <th>89556</th>\n",
       "      <td>Hertler.annvisa</td>\n",
       "      <td>2</td>\n",
       "    </tr>\n",
       "    <tr>\n",
       "      <th>89557</th>\n",
       "      <td>Hertford County Abc Bo</td>\n",
       "      <td>2</td>\n",
       "    </tr>\n",
       "    <tr>\n",
       "      <th>89558</th>\n",
       "      <td>🤑 Vault</td>\n",
       "      <td>2</td>\n",
       "    </tr>\n",
       "  </tbody>\n",
       "</table>\n",
       "<p>89559 rows × 2 columns</p>\n",
       "</div>"
      ],
      "text/plain": [
       "      true_merchant_name_combined   count\n",
       "0                        Cash App  122887\n",
       "1                         Savings   90000\n",
       "2                         Walmart   82542\n",
       "3                          Earnin   81197\n",
       "4                     McDonald''s   80796\n",
       "...                           ...     ...\n",
       "89554               Hes Energynet       2\n",
       "89555            Herzing Universi       2\n",
       "89556             Hertler.annvisa       2\n",
       "89557      Hertford County Abc Bo       2\n",
       "89558                     🤑 Vault       2\n",
       "\n",
       "[89559 rows x 2 columns]"
      ]
     },
     "execution_count": 39,
     "metadata": {},
     "output_type": "execute_result"
    }
   ],
   "source": [
    "df_merchant_counts = df_total[['true_merchant_name_combined']].value_counts().to_frame()\n",
    "df_merchant_counts.reset_index(drop=False, inplace=True)\n",
    "df_merchant_counts"
   ]
  },
  {
   "cell_type": "code",
   "execution_count": 42,
   "metadata": {},
   "outputs": [
    {
     "data": {
      "text/html": [
       "<div>\n",
       "<style scoped>\n",
       "    .dataframe tbody tr th:only-of-type {\n",
       "        vertical-align: middle;\n",
       "    }\n",
       "\n",
       "    .dataframe tbody tr th {\n",
       "        vertical-align: top;\n",
       "    }\n",
       "\n",
       "    .dataframe thead th {\n",
       "        text-align: right;\n",
       "    }\n",
       "</style>\n",
       "<table border=\"1\" class=\"dataframe\">\n",
       "  <thead>\n",
       "    <tr style=\"text-align: right;\">\n",
       "      <th></th>\n",
       "      <th>true_merchant_name_combined</th>\n",
       "      <th>count</th>\n",
       "    </tr>\n",
       "  </thead>\n",
       "  <tbody>\n",
       "    <tr>\n",
       "      <th>3184</th>\n",
       "      <td>Cajun Vending</td>\n",
       "      <td>98</td>\n",
       "    </tr>\n",
       "    <tr>\n",
       "      <th>3185</th>\n",
       "      <td>Fast Track</td>\n",
       "      <td>98</td>\n",
       "    </tr>\n",
       "    <tr>\n",
       "      <th>3186</th>\n",
       "      <td>Noodles &amp; Company</td>\n",
       "      <td>98</td>\n",
       "    </tr>\n",
       "    <tr>\n",
       "      <th>3187</th>\n",
       "      <td>Treasury Tax</td>\n",
       "      <td>98</td>\n",
       "    </tr>\n",
       "    <tr>\n",
       "      <th>3188</th>\n",
       "      <td>SchoolCafe</td>\n",
       "      <td>98</td>\n",
       "    </tr>\n",
       "    <tr>\n",
       "      <th>...</th>\n",
       "      <td>...</td>\n",
       "      <td>...</td>\n",
       "    </tr>\n",
       "    <tr>\n",
       "      <th>89554</th>\n",
       "      <td>Hes Energynet</td>\n",
       "      <td>2</td>\n",
       "    </tr>\n",
       "    <tr>\n",
       "      <th>89555</th>\n",
       "      <td>Herzing Universi</td>\n",
       "      <td>2</td>\n",
       "    </tr>\n",
       "    <tr>\n",
       "      <th>89556</th>\n",
       "      <td>Hertler.annvisa</td>\n",
       "      <td>2</td>\n",
       "    </tr>\n",
       "    <tr>\n",
       "      <th>89557</th>\n",
       "      <td>Hertford County Abc Bo</td>\n",
       "      <td>2</td>\n",
       "    </tr>\n",
       "    <tr>\n",
       "      <th>89558</th>\n",
       "      <td>🤑 Vault</td>\n",
       "      <td>2</td>\n",
       "    </tr>\n",
       "  </tbody>\n",
       "</table>\n",
       "<p>86375 rows × 2 columns</p>\n",
       "</div>"
      ],
      "text/plain": [
       "      true_merchant_name_combined  count\n",
       "3184                Cajun Vending     98\n",
       "3185                   Fast Track     98\n",
       "3186            Noodles & Company     98\n",
       "3187                 Treasury Tax     98\n",
       "3188                   SchoolCafe     98\n",
       "...                           ...    ...\n",
       "89554               Hes Energynet      2\n",
       "89555            Herzing Universi      2\n",
       "89556             Hertler.annvisa      2\n",
       "89557      Hertford County Abc Bo      2\n",
       "89558                     🤑 Vault      2\n",
       "\n",
       "[86375 rows x 2 columns]"
      ]
     },
     "execution_count": 42,
     "metadata": {},
     "output_type": "execute_result"
    }
   ],
   "source": [
    "df_merchant_counts[df_merchant_counts['count']<100]"
   ]
  },
  {
   "cell_type": "code",
   "execution_count": 43,
   "metadata": {},
   "outputs": [],
   "source": [
    "# Define the maximum number of rows per type\n",
    "max_rows_per_type = 50000\n",
    "top_tx_merchants = df_merchant_counts[df_merchant_counts['count'] > max_rows_per_type]['true_merchant_name_combined'].tolist()"
   ]
  },
  {
   "cell_type": "code",
   "execution_count": 44,
   "metadata": {},
   "outputs": [],
   "source": [
    "\n",
    "\n",
    "df_top = df_total[df_total['merchant_name_combined'].isin(top_tx_merchants)]\n",
    "df_not_top = df_total[~df_total['merchant_name_combined'].isin(top_tx_merchants)]\n",
    "sampled_df = df_top.groupby('merchant_name_combined').apply(lambda x: x.sample(min(len(x), max_rows_per_type))).reset_index(drop=True)\n",
    "df_all_sampled = pd.concat([sampled_df,df_not_top], axis=0)\n"
   ]
  },
  {
   "cell_type": "code",
   "execution_count": 45,
   "metadata": {},
   "outputs": [
    {
     "data": {
      "text/plain": [
       "(6049079, 11)"
      ]
     },
     "execution_count": 45,
     "metadata": {},
     "output_type": "execute_result"
    }
   ],
   "source": [
    "df_total.shape"
   ]
  },
  {
   "cell_type": "code",
   "execution_count": 46,
   "metadata": {},
   "outputs": [
    {
     "data": {
      "text/plain": [
       "(5615665, 11)"
      ]
     },
     "execution_count": 46,
     "metadata": {},
     "output_type": "execute_result"
    }
   ],
   "source": [
    "df_all_sampled.shape"
   ]
  },
  {
   "cell_type": "code",
   "execution_count": 48,
   "metadata": {},
   "outputs": [],
   "source": [
    "s3_path_out = \"s3://cleo-data-science/transaction_enrichment/experimental_data/caste/trx-merchant-pair/cons_2024-05-15_2024-05-18_1.parquet/\""
   ]
  },
  {
   "cell_type": "code",
   "execution_count": 49,
   "metadata": {},
   "outputs": [
    {
     "data": {
      "text/plain": [
       "{'paths': ['s3://cleo-data-science/transaction_enrichment/experimental_data/caste/trx-merchant-pair/cons_2024-05-15_2024-05-18_1.parquet/ac45bd41a9274be39fe18728158c8beb.snappy.parquet'],\n",
       " 'partitions_values': {}}"
      ]
     },
     "execution_count": 49,
     "metadata": {},
     "output_type": "execute_result"
    }
   ],
   "source": [
    "wr.s3.to_parquet(df = df_all_sampled, path =s3_path_out, dataset=True )"
   ]
  },
  {
   "cell_type": "code",
   "execution_count": null,
   "metadata": {},
   "outputs": [],
   "source": []
  }
 ],
 "metadata": {
  "kernelspec": {
   "display_name": "base",
   "language": "python",
   "name": "python3"
  },
  "language_info": {
   "codemirror_mode": {
    "name": "ipython",
    "version": 3
   },
   "file_extension": ".py",
   "mimetype": "text/x-python",
   "name": "python",
   "nbconvert_exporter": "python",
   "pygments_lexer": "ipython3",
   "version": "3.10.14"
  }
 },
 "nbformat": 4,
 "nbformat_minor": 2
}
