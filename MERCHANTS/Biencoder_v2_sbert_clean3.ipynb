{
 "cells": [
  {
   "cell_type": "markdown",
   "metadata": {},
   "source": [
    "- look into architechture modification and add numerical values as concatenation"
   ]
  },
  {
   "cell_type": "markdown",
   "metadata": {},
   "source": [
    "https://sbert.net/docs/sentence_transformer/training_overview.html#dataset-format"
   ]
  },
  {
   "cell_type": "code",
   "execution_count": 1,
   "metadata": {},
   "outputs": [
    {
     "name": "stdout",
     "output_type": "stream",
     "text": [
      "Requirement already satisfied: accelerate in /opt/conda/lib/python3.10/site-packages (0.21.0)\n",
      "Requirement already satisfied: numpy>=1.17 in /opt/conda/lib/python3.10/site-packages (from accelerate) (1.26.4)\n",
      "Requirement already satisfied: packaging>=20.0 in /opt/conda/lib/python3.10/site-packages (from accelerate) (23.2)\n",
      "Requirement already satisfied: psutil in /opt/conda/lib/python3.10/site-packages (from accelerate) (5.9.8)\n",
      "Requirement already satisfied: pyyaml in /opt/conda/lib/python3.10/site-packages (from accelerate) (6.0.1)\n",
      "Requirement already satisfied: torch>=1.10.0 in /opt/conda/lib/python3.10/site-packages (from accelerate) (2.0.0.post200)\n",
      "Requirement already satisfied: filelock in /opt/conda/lib/python3.10/site-packages (from torch>=1.10.0->accelerate) (3.14.0)\n",
      "Requirement already satisfied: typing-extensions in /opt/conda/lib/python3.10/site-packages (from torch>=1.10.0->accelerate) (4.5.0)\n",
      "Requirement already satisfied: sympy in /opt/conda/lib/python3.10/site-packages (from torch>=1.10.0->accelerate) (1.12)\n",
      "Requirement already satisfied: networkx in /opt/conda/lib/python3.10/site-packages (from torch>=1.10.0->accelerate) (3.3)\n",
      "Requirement already satisfied: jinja2 in /opt/conda/lib/python3.10/site-packages (from torch>=1.10.0->accelerate) (3.1.4)\n",
      "Requirement already satisfied: MarkupSafe>=2.0 in /opt/conda/lib/python3.10/site-packages (from jinja2->torch>=1.10.0->accelerate) (2.1.5)\n",
      "Requirement already satisfied: mpmath>=0.19 in /opt/conda/lib/python3.10/site-packages (from sympy->torch>=1.10.0->accelerate) (1.3.0)\n",
      "Note: you may need to restart the kernel to use updated packages.\n",
      "Collecting sentence-transformers\n",
      "  Using cached sentence_transformers-3.0.1-py3-none-any.whl.metadata (10 kB)\n",
      "Collecting transformers<5.0.0,>=4.34.0 (from sentence-transformers)\n",
      "  Using cached transformers-4.41.2-py3-none-any.whl.metadata (43 kB)\n",
      "Requirement already satisfied: tqdm in /opt/conda/lib/python3.10/site-packages (from sentence-transformers) (4.66.4)\n",
      "Requirement already satisfied: torch>=1.11.0 in /opt/conda/lib/python3.10/site-packages (from sentence-transformers) (2.0.0.post200)\n",
      "Requirement already satisfied: numpy in /opt/conda/lib/python3.10/site-packages (from sentence-transformers) (1.26.4)\n",
      "Requirement already satisfied: scikit-learn in /opt/conda/lib/python3.10/site-packages (from sentence-transformers) (1.4.2)\n",
      "Requirement already satisfied: scipy in /opt/conda/lib/python3.10/site-packages (from sentence-transformers) (1.11.4)\n",
      "Requirement already satisfied: huggingface-hub>=0.15.1 in /opt/conda/lib/python3.10/site-packages (from sentence-transformers) (0.23.0)\n",
      "Requirement already satisfied: Pillow in /opt/conda/lib/python3.10/site-packages (from sentence-transformers) (9.5.0)\n",
      "Requirement already satisfied: filelock in /opt/conda/lib/python3.10/site-packages (from huggingface-hub>=0.15.1->sentence-transformers) (3.14.0)\n",
      "Requirement already satisfied: fsspec>=2023.5.0 in /opt/conda/lib/python3.10/site-packages (from huggingface-hub>=0.15.1->sentence-transformers) (2023.6.0)\n",
      "Requirement already satisfied: packaging>=20.9 in /opt/conda/lib/python3.10/site-packages (from huggingface-hub>=0.15.1->sentence-transformers) (23.2)\n",
      "Requirement already satisfied: pyyaml>=5.1 in /opt/conda/lib/python3.10/site-packages (from huggingface-hub>=0.15.1->sentence-transformers) (6.0.1)\n",
      "Requirement already satisfied: requests in /opt/conda/lib/python3.10/site-packages (from huggingface-hub>=0.15.1->sentence-transformers) (2.31.0)\n",
      "Requirement already satisfied: typing-extensions>=3.7.4.3 in /opt/conda/lib/python3.10/site-packages (from huggingface-hub>=0.15.1->sentence-transformers) (4.5.0)\n",
      "Requirement already satisfied: sympy in /opt/conda/lib/python3.10/site-packages (from torch>=1.11.0->sentence-transformers) (1.12)\n",
      "Requirement already satisfied: networkx in /opt/conda/lib/python3.10/site-packages (from torch>=1.11.0->sentence-transformers) (3.3)\n",
      "Requirement already satisfied: jinja2 in /opt/conda/lib/python3.10/site-packages (from torch>=1.11.0->sentence-transformers) (3.1.4)\n",
      "Requirement already satisfied: regex!=2019.12.17 in /opt/conda/lib/python3.10/site-packages (from transformers<5.0.0,>=4.34.0->sentence-transformers) (2024.5.10)\n",
      "Collecting tokenizers<0.20,>=0.19 (from transformers<5.0.0,>=4.34.0->sentence-transformers)\n",
      "  Using cached tokenizers-0.19.1-cp310-cp310-manylinux_2_17_x86_64.manylinux2014_x86_64.whl.metadata (6.7 kB)\n",
      "Requirement already satisfied: safetensors>=0.4.1 in /opt/conda/lib/python3.10/site-packages (from transformers<5.0.0,>=4.34.0->sentence-transformers) (0.4.3)\n",
      "Requirement already satisfied: joblib>=1.2.0 in /opt/conda/lib/python3.10/site-packages (from scikit-learn->sentence-transformers) (1.4.2)\n",
      "Requirement already satisfied: threadpoolctl>=2.0.0 in /opt/conda/lib/python3.10/site-packages (from scikit-learn->sentence-transformers) (3.5.0)\n",
      "Requirement already satisfied: MarkupSafe>=2.0 in /opt/conda/lib/python3.10/site-packages (from jinja2->torch>=1.11.0->sentence-transformers) (2.1.5)\n",
      "Requirement already satisfied: charset-normalizer<4,>=2 in /opt/conda/lib/python3.10/site-packages (from requests->huggingface-hub>=0.15.1->sentence-transformers) (3.3.2)\n",
      "Requirement already satisfied: idna<4,>=2.5 in /opt/conda/lib/python3.10/site-packages (from requests->huggingface-hub>=0.15.1->sentence-transformers) (3.7)\n",
      "Requirement already satisfied: urllib3<3,>=1.21.1 in /opt/conda/lib/python3.10/site-packages (from requests->huggingface-hub>=0.15.1->sentence-transformers) (1.26.18)\n",
      "Requirement already satisfied: certifi>=2017.4.17 in /opt/conda/lib/python3.10/site-packages (from requests->huggingface-hub>=0.15.1->sentence-transformers) (2024.2.2)\n",
      "Requirement already satisfied: mpmath>=0.19 in /opt/conda/lib/python3.10/site-packages (from sympy->torch>=1.11.0->sentence-transformers) (1.3.0)\n",
      "Using cached sentence_transformers-3.0.1-py3-none-any.whl (227 kB)\n",
      "Using cached transformers-4.41.2-py3-none-any.whl (9.1 MB)\n",
      "Using cached tokenizers-0.19.1-cp310-cp310-manylinux_2_17_x86_64.manylinux2014_x86_64.whl (3.6 MB)\n",
      "Installing collected packages: tokenizers, transformers, sentence-transformers\n",
      "  Attempting uninstall: tokenizers\n",
      "    Found existing installation: tokenizers 0.13.3\n",
      "    Uninstalling tokenizers-0.13.3:\n",
      "      Successfully uninstalled tokenizers-0.13.3\n",
      "  Attempting uninstall: transformers\n",
      "    Found existing installation: transformers 4.31.0\n",
      "    Uninstalling transformers-4.31.0:\n",
      "      Successfully uninstalled transformers-4.31.0\n",
      "\u001b[31mERROR: pip's dependency resolver does not currently take into account all the packages that are installed. This behaviour is the source of the following dependency conflicts.\n",
      "autogluon-multimodal 0.8.2 requires transformers[sentencepiece]<4.32.0,>=4.31.0, but you have transformers 4.41.2 which is incompatible.\u001b[0m\u001b[31m\n",
      "\u001b[0mSuccessfully installed sentence-transformers-3.0.1 tokenizers-0.19.1 transformers-4.41.2\n",
      "Note: you may need to restart the kernel to use updated packages.\n",
      "Collecting umap-learn\n",
      "  Using cached umap_learn-0.5.6-py3-none-any.whl.metadata (21 kB)\n",
      "Requirement already satisfied: numpy>=1.17 in /opt/conda/lib/python3.10/site-packages (from umap-learn) (1.26.4)\n",
      "Requirement already satisfied: scipy>=1.3.1 in /opt/conda/lib/python3.10/site-packages (from umap-learn) (1.11.4)\n",
      "Requirement already satisfied: scikit-learn>=0.22 in /opt/conda/lib/python3.10/site-packages (from umap-learn) (1.4.2)\n",
      "Requirement already satisfied: numba>=0.51.2 in /opt/conda/lib/python3.10/site-packages (from umap-learn) (0.59.1)\n",
      "Collecting pynndescent>=0.5 (from umap-learn)\n",
      "  Downloading pynndescent-0.5.13-py3-none-any.whl.metadata (6.8 kB)\n",
      "Requirement already satisfied: tqdm in /opt/conda/lib/python3.10/site-packages (from umap-learn) (4.66.4)\n",
      "Requirement already satisfied: llvmlite<0.43,>=0.42.0dev0 in /opt/conda/lib/python3.10/site-packages (from numba>=0.51.2->umap-learn) (0.42.0)\n",
      "Requirement already satisfied: joblib>=0.11 in /opt/conda/lib/python3.10/site-packages (from pynndescent>=0.5->umap-learn) (1.4.2)\n",
      "Requirement already satisfied: threadpoolctl>=2.0.0 in /opt/conda/lib/python3.10/site-packages (from scikit-learn>=0.22->umap-learn) (3.5.0)\n",
      "Using cached umap_learn-0.5.6-py3-none-any.whl (85 kB)\n",
      "Downloading pynndescent-0.5.13-py3-none-any.whl (56 kB)\n",
      "\u001b[2K   \u001b[90m━━━━━━━━━━━━━━━━━━━━━━━━━━━━━━━━━━━━━━━━\u001b[0m \u001b[32m56.9/56.9 kB\u001b[0m \u001b[31m7.2 MB/s\u001b[0m eta \u001b[36m0:00:00\u001b[0m\n",
      "\u001b[?25hInstalling collected packages: pynndescent, umap-learn\n",
      "Successfully installed pynndescent-0.5.13 umap-learn-0.5.6\n",
      "Note: you may need to restart the kernel to use updated packages.\n"
     ]
    }
   ],
   "source": [
    "%pip install accelerate\n",
    "\n",
    "#%pip install accelerate==0.27.2\n",
    "%pip install sentence-transformers\n",
    "%pip install umap-learn\n",
    "#%pip install cleodata --extra-index-url \"https://aws:$(aws codeartifact get-authorization-token --domain meetcleo --domain-owner 878877078763 --query authorizationToken --output text)@meetcleo-878877078763.d.codeartifact.us-east-1.amazonaws.com/pypi/meetcleo-releases/simple/\""
   ]
  },
  {
   "cell_type": "code",
   "execution_count": 4,
   "metadata": {},
   "outputs": [
    {
     "name": "stdout",
     "output_type": "stream",
     "text": [
      "Collecting awswrangler\n",
      "  Using cached awswrangler-3.8.0-py3-none-any.whl.metadata (17 kB)\n",
      "Requirement already satisfied: boto3<2.0.0,>=1.20.32 in /opt/conda/lib/python3.10/site-packages (from awswrangler) (1.34.51)\n",
      "Requirement already satisfied: botocore<2.0.0,>=1.23.32 in /opt/conda/lib/python3.10/site-packages (from awswrangler) (1.34.51)\n",
      "Requirement already satisfied: numpy<2.0,>=1.18 in /opt/conda/lib/python3.10/site-packages (from awswrangler) (1.26.4)\n",
      "Requirement already satisfied: packaging<25.0,>=21.1 in /opt/conda/lib/python3.10/site-packages (from awswrangler) (23.2)\n",
      "Requirement already satisfied: pandas<3.0.0,>=1.2.0 in /opt/conda/lib/python3.10/site-packages (from awswrangler) (2.1.4)\n",
      "Requirement already satisfied: pyarrow>=8.0.0 in /opt/conda/lib/python3.10/site-packages (from awswrangler) (12.0.1)\n",
      "Requirement already satisfied: typing-extensions<5.0.0,>=4.4.0 in /opt/conda/lib/python3.10/site-packages (from awswrangler) (4.5.0)\n",
      "Requirement already satisfied: jmespath<2.0.0,>=0.7.1 in /opt/conda/lib/python3.10/site-packages (from boto3<2.0.0,>=1.20.32->awswrangler) (1.0.1)\n",
      "Requirement already satisfied: s3transfer<0.11.0,>=0.10.0 in /opt/conda/lib/python3.10/site-packages (from boto3<2.0.0,>=1.20.32->awswrangler) (0.10.1)\n",
      "Requirement already satisfied: python-dateutil<3.0.0,>=2.1 in /opt/conda/lib/python3.10/site-packages (from botocore<2.0.0,>=1.23.32->awswrangler) (2.9.0)\n",
      "Requirement already satisfied: urllib3<2.1,>=1.25.4 in /opt/conda/lib/python3.10/site-packages (from botocore<2.0.0,>=1.23.32->awswrangler) (1.26.18)\n",
      "Requirement already satisfied: pytz>=2020.1 in /opt/conda/lib/python3.10/site-packages (from pandas<3.0.0,>=1.2.0->awswrangler) (2023.3)\n",
      "Requirement already satisfied: tzdata>=2022.1 in /opt/conda/lib/python3.10/site-packages (from pandas<3.0.0,>=1.2.0->awswrangler) (2024.1)\n",
      "Requirement already satisfied: six>=1.5 in /opt/conda/lib/python3.10/site-packages (from python-dateutil<3.0.0,>=2.1->botocore<2.0.0,>=1.23.32->awswrangler) (1.16.0)\n",
      "Using cached awswrangler-3.8.0-py3-none-any.whl (380 kB)\n",
      "Installing collected packages: awswrangler\n",
      "Successfully installed awswrangler-3.8.0\n",
      "Note: you may need to restart the kernel to use updated packages.\n"
     ]
    }
   ],
   "source": [
    "%pip install awswrangler\n",
    "# %pip install --upgrade sentence_transformers"
   ]
  },
  {
   "cell_type": "code",
   "execution_count": 5,
   "metadata": {},
   "outputs": [],
   "source": [
    "import pandas as pd\n",
    "from datetime import datetime\n",
    "import awswrangler as wr\n",
    "import boto3\n",
    "from botocore.exceptions import ClientError\n",
    "from io import StringIO\n",
    "#from fastparquet import ParquetFile\n",
    "#boto3.setup_default_session(profile_name='DataScientist-878877078763')\n",
    "# from cleodata.utils.secrets import get_secret\n",
    "#from cleodata.sources.sync.sync import SyncDataSource\n",
    "#redshift_source = SyncDataSource(\"data_exploration\", use_redshift=True, redshift_cluster=\"cleo-production-redshift\", redshift_db=\"cleo\")"
   ]
  },
  {
   "cell_type": "code",
   "execution_count": 6,
   "metadata": {},
   "outputs": [
    {
     "name": "stderr",
     "output_type": "stream",
     "text": [
      "2024-06-17 16:31:22.809543: I tensorflow/core/platform/cpu_feature_guard.cc:182] This TensorFlow binary is optimized to use available CPU instructions in performance-critical operations.\n",
      "To enable the following instructions: SSE4.1 SSE4.2 AVX AVX2 FMA, in other operations, rebuild TensorFlow with the appropriate compiler flags.\n"
     ]
    }
   ],
   "source": [
    "import pandas as pd\n",
    "import torch\n",
    "from sklearn.metrics.pairwise import cosine_similarity\n",
    "import umap\n",
    "from sentence_transformers import SentenceTransformer, models\n",
    "from sentence_transformers import SentenceTransformer, InputExample\n",
    "from torch.utils.data import DataLoader\n",
    "from sentence_transformers import losses\n",
    "from sklearn.model_selection import train_test_split"
   ]
  },
  {
   "cell_type": "code",
   "execution_count": 7,
   "metadata": {},
   "outputs": [
    {
     "name": "stdout",
     "output_type": "stream",
     "text": [
      "2.0.0.post200\n"
     ]
    }
   ],
   "source": [
    "import torch\n",
    "print(torch.__version__)"
   ]
  },
  {
   "cell_type": "code",
   "execution_count": 8,
   "metadata": {},
   "outputs": [
    {
     "name": "stdout",
     "output_type": "stream",
     "text": [
      "Requirement already satisfied: sentence_transformers==3.0.1 in /opt/conda/lib/python3.10/site-packages (3.0.1)\n",
      "Requirement already satisfied: transformers<5.0.0,>=4.34.0 in /opt/conda/lib/python3.10/site-packages (from sentence_transformers==3.0.1) (4.41.2)\n",
      "Requirement already satisfied: tqdm in /opt/conda/lib/python3.10/site-packages (from sentence_transformers==3.0.1) (4.66.4)\n",
      "Requirement already satisfied: torch>=1.11.0 in /opt/conda/lib/python3.10/site-packages (from sentence_transformers==3.0.1) (2.0.0.post200)\n",
      "Requirement already satisfied: numpy in /opt/conda/lib/python3.10/site-packages (from sentence_transformers==3.0.1) (1.26.4)\n",
      "Requirement already satisfied: scikit-learn in /opt/conda/lib/python3.10/site-packages (from sentence_transformers==3.0.1) (1.4.2)\n",
      "Requirement already satisfied: scipy in /opt/conda/lib/python3.10/site-packages (from sentence_transformers==3.0.1) (1.11.4)\n",
      "Requirement already satisfied: huggingface-hub>=0.15.1 in /opt/conda/lib/python3.10/site-packages (from sentence_transformers==3.0.1) (0.23.0)\n",
      "Requirement already satisfied: Pillow in /opt/conda/lib/python3.10/site-packages (from sentence_transformers==3.0.1) (9.5.0)\n",
      "Requirement already satisfied: filelock in /opt/conda/lib/python3.10/site-packages (from huggingface-hub>=0.15.1->sentence_transformers==3.0.1) (3.14.0)\n",
      "Requirement already satisfied: fsspec>=2023.5.0 in /opt/conda/lib/python3.10/site-packages (from huggingface-hub>=0.15.1->sentence_transformers==3.0.1) (2023.6.0)\n",
      "Requirement already satisfied: packaging>=20.9 in /opt/conda/lib/python3.10/site-packages (from huggingface-hub>=0.15.1->sentence_transformers==3.0.1) (23.2)\n",
      "Requirement already satisfied: pyyaml>=5.1 in /opt/conda/lib/python3.10/site-packages (from huggingface-hub>=0.15.1->sentence_transformers==3.0.1) (6.0.1)\n",
      "Requirement already satisfied: requests in /opt/conda/lib/python3.10/site-packages (from huggingface-hub>=0.15.1->sentence_transformers==3.0.1) (2.31.0)\n",
      "Requirement already satisfied: typing-extensions>=3.7.4.3 in /opt/conda/lib/python3.10/site-packages (from huggingface-hub>=0.15.1->sentence_transformers==3.0.1) (4.5.0)\n",
      "Requirement already satisfied: sympy in /opt/conda/lib/python3.10/site-packages (from torch>=1.11.0->sentence_transformers==3.0.1) (1.12)\n",
      "Requirement already satisfied: networkx in /opt/conda/lib/python3.10/site-packages (from torch>=1.11.0->sentence_transformers==3.0.1) (3.3)\n",
      "Requirement already satisfied: jinja2 in /opt/conda/lib/python3.10/site-packages (from torch>=1.11.0->sentence_transformers==3.0.1) (3.1.4)\n",
      "Requirement already satisfied: regex!=2019.12.17 in /opt/conda/lib/python3.10/site-packages (from transformers<5.0.0,>=4.34.0->sentence_transformers==3.0.1) (2024.5.10)\n",
      "Requirement already satisfied: tokenizers<0.20,>=0.19 in /opt/conda/lib/python3.10/site-packages (from transformers<5.0.0,>=4.34.0->sentence_transformers==3.0.1) (0.19.1)\n",
      "Requirement already satisfied: safetensors>=0.4.1 in /opt/conda/lib/python3.10/site-packages (from transformers<5.0.0,>=4.34.0->sentence_transformers==3.0.1) (0.4.3)\n",
      "Requirement already satisfied: joblib>=1.2.0 in /opt/conda/lib/python3.10/site-packages (from scikit-learn->sentence_transformers==3.0.1) (1.4.2)\n",
      "Requirement already satisfied: threadpoolctl>=2.0.0 in /opt/conda/lib/python3.10/site-packages (from scikit-learn->sentence_transformers==3.0.1) (3.5.0)\n",
      "Requirement already satisfied: MarkupSafe>=2.0 in /opt/conda/lib/python3.10/site-packages (from jinja2->torch>=1.11.0->sentence_transformers==3.0.1) (2.1.5)\n",
      "Requirement already satisfied: charset-normalizer<4,>=2 in /opt/conda/lib/python3.10/site-packages (from requests->huggingface-hub>=0.15.1->sentence_transformers==3.0.1) (3.3.2)\n",
      "Requirement already satisfied: idna<4,>=2.5 in /opt/conda/lib/python3.10/site-packages (from requests->huggingface-hub>=0.15.1->sentence_transformers==3.0.1) (3.7)\n",
      "Requirement already satisfied: urllib3<3,>=1.21.1 in /opt/conda/lib/python3.10/site-packages (from requests->huggingface-hub>=0.15.1->sentence_transformers==3.0.1) (1.26.18)\n",
      "Requirement already satisfied: certifi>=2017.4.17 in /opt/conda/lib/python3.10/site-packages (from requests->huggingface-hub>=0.15.1->sentence_transformers==3.0.1) (2024.2.2)\n",
      "Requirement already satisfied: mpmath>=0.19 in /opt/conda/lib/python3.10/site-packages (from sympy->torch>=1.11.0->sentence_transformers==3.0.1) (1.3.0)\n",
      "Note: you may need to restart the kernel to use updated packages.\n"
     ]
    }
   ],
   "source": [
    "%pip install sentence_transformers==3.0.1"
   ]
  },
  {
   "cell_type": "code",
   "execution_count": 9,
   "metadata": {},
   "outputs": [],
   "source": [
    "import sentence_transformers"
   ]
  },
  {
   "cell_type": "code",
   "execution_count": 10,
   "metadata": {},
   "outputs": [
    {
     "data": {
      "text/plain": [
       "'3.0.1'"
      ]
     },
     "execution_count": 10,
     "metadata": {},
     "output_type": "execute_result"
    }
   ],
   "source": [
    "sentence_transformers.__version__"
   ]
  },
  {
   "cell_type": "code",
   "execution_count": 11,
   "metadata": {},
   "outputs": [
    {
     "name": "stdout",
     "output_type": "stream",
     "text": [
      "2.0.0.post200\n"
     ]
    }
   ],
   "source": [
    "print(torch.__version__)"
   ]
  },
  {
   "cell_type": "code",
   "execution_count": 12,
   "metadata": {},
   "outputs": [
    {
     "name": "stderr",
     "output_type": "stream",
     "text": [
      "/opt/conda/lib/python3.10/site-packages/transformers/training_args.py:1474: FutureWarning: `evaluation_strategy` is deprecated and will be removed in version 4.46 of 🤗 Transformers. Use `eval_strategy` instead\n",
      "  warnings.warn(\n"
     ]
    }
   ],
   "source": [
    "from sentence_transformers.training_args import SentenceTransformerTrainingArguments\n",
    "from sentence_transformers.training_args import BatchSamplers\n",
    "from sentence_transformers.evaluation import EmbeddingSimilarityEvaluator, SimilarityFunction\n",
    "from sentence_transformers import SentenceTransformerTrainer\n",
    "\n",
    "args = SentenceTransformerTrainingArguments(\n",
    "    # Required parameter:\n",
    "    output_dir=\"/home/sagemaker-user/models/model11\",\n",
    "    # Optional training parameters:\n",
    "    num_train_epochs=3,\n",
    "    per_device_train_batch_size=128,\n",
    "    per_device_eval_batch_size=128,\n",
    "    warmup_ratio=0.1,\n",
    "    fp16=True,  # Set to False if you get an error that your GPU can't run on FP16\n",
    "    bf16=False,  # Set to True if you have a GPU that supports BF16\n",
    "    batch_sampler=BatchSamplers.NO_DUPLICATES,  # losses that use \"in-batch negatives\" benefit from no duplicates\n",
    "    # Optional tracking/debugging parameters:\n",
    "    evaluation_strategy=\"steps\", #eval_strategy\n",
    "    eval_steps=200,\n",
    "    save_strategy=\"steps\",\n",
    "    save_steps=200,\n",
    "    save_total_limit=200,\n",
    "    logging_steps=100,\n",
    "    run_name=\"test1\",  # Will be used in W&B if `wandb` is installed\n",
    "    load_best_model_at_end= True,\n",
    "    logging_dir=\"/home/sagemaker-user/logs\",\n",
    ")"
   ]
  },
  {
   "cell_type": "code",
   "execution_count": 13,
   "metadata": {},
   "outputs": [
    {
     "ename": "",
     "evalue": "",
     "output_type": "error",
     "traceback": [
      "\u001b[1;31mCannot execute code, session has been disposed. Please try restarting the Kernel."
     ]
    },
    {
     "ename": "",
     "evalue": "",
     "output_type": "error",
     "traceback": [
      "\u001b[1;31mThe Kernel crashed while executing code in the the current cell or a previous cell. Please review the code in the cell(s) to identify a possible cause of the failure. Click <a href='https://aka.ms/vscodeJupyterKernelCrash'>here</a> for more info. View Jupyter <a href='command:jupyter.viewOutput'>log</a> for further details."
     ]
    }
   ],
   "source": [
    "s3_path = \"s3://cleo-data-science/transaction_enrichment/experimental_data/caste/trx-merchant-pair/trans_2024-05-14_2024-05-14_top_2001.parquet\"\n",
    "s3_path = \"https://cleo-data-science.s3.amazonaws.com/transaction_enrichment/experimental_data/caste/trx-merchant-pair/trans_2024-05-18_2024-05-18_top_1_39000.parquet/\"\n",
    "s3_path = \"s3://cleo-data-science/transaction_enrichment/experimental_data/caste/trx-merchant-pair/cons_2024-05-15_2024-05-18_1.parquet/\"\n",
    "s3_path = \"s3://cleo-data-science/transaction_enrichment/experimental_data/caste/data_tmp_trans_23_06_24_06_pairs/tmp_trans_23_06_24_06_pairs\"\n",
    "\n",
    "df_data_raw = wr.s3.read_parquet(path=s3_path)\n",
    "df_data_raw.shape"
   ]
  },
  {
   "cell_type": "code",
   "execution_count": 12,
   "metadata": {},
   "outputs": [
    {
     "name": "stdout",
     "output_type": "stream",
     "text": [
      "1\n"
     ]
    }
   ],
   "source": [
    "print(torch.cuda.device_count())"
   ]
  },
  {
   "cell_type": "code",
   "execution_count": 13,
   "metadata": {},
   "outputs": [
    {
     "data": {
      "text/html": [
       "<div>\n",
       "<style scoped>\n",
       "    .dataframe tbody tr th:only-of-type {\n",
       "        vertical-align: middle;\n",
       "    }\n",
       "\n",
       "    .dataframe tbody tr th {\n",
       "        vertical-align: top;\n",
       "    }\n",
       "\n",
       "    .dataframe thead th {\n",
       "        text-align: right;\n",
       "    }\n",
       "</style>\n",
       "<table border=\"1\" class=\"dataframe\">\n",
       "  <thead>\n",
       "    <tr style=\"text-align: right;\">\n",
       "      <th></th>\n",
       "      <th>transaction_id</th>\n",
       "      <th>sentence</th>\n",
       "      <th>sentence2</th>\n",
       "      <th>description_combined_processed</th>\n",
       "      <th>true_merchant_name_combined</th>\n",
       "      <th>is_duplicate</th>\n",
       "      <th>original_merchant_name_combined</th>\n",
       "      <th>amount</th>\n",
       "      <th>merchant_name_combined</th>\n",
       "      <th>true_label</th>\n",
       "      <th>label</th>\n",
       "    </tr>\n",
       "  </thead>\n",
       "  <tbody>\n",
       "    <tr>\n",
       "      <th>0</th>\n",
       "      <td>9814634960</td>\n",
       "      <td>Purchase 7-ELEVEN SOLON OHUS. Channel: in stor...</td>\n",
       "      <td>Purchase 7-ELEVEN SOLON OHUS. Type: merchant. ...</td>\n",
       "      <td>Purchase 7-ELEVEN SOLON OHUS</td>\n",
       "      <td>7 Eleven</td>\n",
       "      <td>0</td>\n",
       "      <td>7 Eleven</td>\n",
       "      <td>-2.2</td>\n",
       "      <td>7 Eleven</td>\n",
       "      <td>1</td>\n",
       "      <td>0.920786</td>\n",
       "    </tr>\n",
       "    <tr>\n",
       "      <th>1</th>\n",
       "      <td>9821859383</td>\n",
       "      <td>7-ELEVEN EAST NORTHPOR NY 05/16. Channel: in s...</td>\n",
       "      <td>7-ELEVEN EAST NORTHPOR NY 05/16. Type: merchan...</td>\n",
       "      <td>7-ELEVEN EAST NORTHPOR NY 05/16</td>\n",
       "      <td>7 Eleven</td>\n",
       "      <td>0</td>\n",
       "      <td>7 Eleven</td>\n",
       "      <td>-29.2</td>\n",
       "      <td>7 Eleven</td>\n",
       "      <td>1</td>\n",
       "      <td>0.824660</td>\n",
       "    </tr>\n",
       "    <tr>\n",
       "      <th>2</th>\n",
       "      <td>9819736435</td>\n",
       "      <td>AVIAGAMES INC CA 05/16. Channel: online. Amoun...</td>\n",
       "      <td>AVIAGAMES INC CA 05/16. Type: merchant. Channe...</td>\n",
       "      <td>AVIAGAMES INC CA 05/16</td>\n",
       "      <td>Avia Games</td>\n",
       "      <td>0</td>\n",
       "      <td>Avia Games</td>\n",
       "      <td>-8.0</td>\n",
       "      <td>7 Eleven</td>\n",
       "      <td>0</td>\n",
       "      <td>0.043178</td>\n",
       "    </tr>\n",
       "    <tr>\n",
       "      <th>3</th>\n",
       "      <td>9819730103</td>\n",
       "      <td>ACIMA DIGITAL LLC DDA POS PURCHASE CD . Channe...</td>\n",
       "      <td>ACIMA DIGITAL LLC DDA POS PURCHASE CD . Type: ...</td>\n",
       "      <td>ACIMA DIGITAL LLC DDA POS PURCHASE CD</td>\n",
       "      <td>Acima</td>\n",
       "      <td>0</td>\n",
       "      <td>Acima</td>\n",
       "      <td>-120.3</td>\n",
       "      <td>7 Eleven</td>\n",
       "      <td>0</td>\n",
       "      <td>0.236403</td>\n",
       "    </tr>\n",
       "    <tr>\n",
       "      <th>4</th>\n",
       "      <td>9832980897</td>\n",
       "      <td>POS Debit - Visa Check Card - FLEX FINANCE HTT...</td>\n",
       "      <td>POS Debit - Visa Check Card - FLEX FINANCE HTT...</td>\n",
       "      <td>POS Debit - Visa Check Card - FLEX FINANCE HTT...</td>\n",
       "      <td>Flex Finance</td>\n",
       "      <td>0</td>\n",
       "      <td>Flex Finance</td>\n",
       "      <td>-505.0</td>\n",
       "      <td>7 Eleven</td>\n",
       "      <td>0</td>\n",
       "      <td>0.047083</td>\n",
       "    </tr>\n",
       "  </tbody>\n",
       "</table>\n",
       "</div>"
      ],
      "text/plain": [
       "   transaction_id                                           sentence  \\\n",
       "0      9814634960  Purchase 7-ELEVEN SOLON OHUS. Channel: in stor...   \n",
       "1      9821859383  7-ELEVEN EAST NORTHPOR NY 05/16. Channel: in s...   \n",
       "2      9819736435  AVIAGAMES INC CA 05/16. Channel: online. Amoun...   \n",
       "3      9819730103  ACIMA DIGITAL LLC DDA POS PURCHASE CD . Channe...   \n",
       "4      9832980897  POS Debit - Visa Check Card - FLEX FINANCE HTT...   \n",
       "\n",
       "                                           sentence2  \\\n",
       "0  Purchase 7-ELEVEN SOLON OHUS. Type: merchant. ...   \n",
       "1  7-ELEVEN EAST NORTHPOR NY 05/16. Type: merchan...   \n",
       "2  AVIAGAMES INC CA 05/16. Type: merchant. Channe...   \n",
       "3  ACIMA DIGITAL LLC DDA POS PURCHASE CD . Type: ...   \n",
       "4  POS Debit - Visa Check Card - FLEX FINANCE HTT...   \n",
       "\n",
       "                      description_combined_processed  \\\n",
       "0                       Purchase 7-ELEVEN SOLON OHUS   \n",
       "1                    7-ELEVEN EAST NORTHPOR NY 05/16   \n",
       "2                             AVIAGAMES INC CA 05/16   \n",
       "3             ACIMA DIGITAL LLC DDA POS PURCHASE CD    \n",
       "4  POS Debit - Visa Check Card - FLEX FINANCE HTT...   \n",
       "\n",
       "  true_merchant_name_combined  is_duplicate original_merchant_name_combined  \\\n",
       "0                    7 Eleven             0                        7 Eleven   \n",
       "1                    7 Eleven             0                        7 Eleven   \n",
       "2                  Avia Games             0                      Avia Games   \n",
       "3                       Acima             0                           Acima   \n",
       "4                Flex Finance             0                    Flex Finance   \n",
       "\n",
       "   amount merchant_name_combined  true_label     label  \n",
       "0    -2.2               7 Eleven           1  0.920786  \n",
       "1   -29.2               7 Eleven           1  0.824660  \n",
       "2    -8.0               7 Eleven           0  0.043178  \n",
       "3  -120.3               7 Eleven           0  0.236403  \n",
       "4  -505.0               7 Eleven           0  0.047083  "
      ]
     },
     "execution_count": 13,
     "metadata": {},
     "output_type": "execute_result"
    }
   ],
   "source": [
    "df_data_raw.head()"
   ]
  },
  {
   "cell_type": "code",
   "execution_count": 14,
   "metadata": {},
   "outputs": [],
   "source": [
    "#%pip install s3fs --upgrade\n",
    "#import s3fs"
   ]
  },
  {
   "cell_type": "code",
   "execution_count": 15,
   "metadata": {},
   "outputs": [
    {
     "ename": "KeyboardInterrupt",
     "evalue": "",
     "output_type": "error",
     "traceback": [
      "\u001b[0;31m---------------------------------------------------------------------------\u001b[0m",
      "\u001b[0;31mKeyboardInterrupt\u001b[0m                         Traceback (most recent call last)",
      "\u001b[1;32m/home/sagemaker-user/clean_git/exploration/MERCHANTS/Biencoder_v2_sbert_clean2.ipynb Cell 17\u001b[0m line \u001b[0;36m2\n\u001b[1;32m      <a href='vscode-notebook-cell://yd6plnil3hw8unc.studio.us-east-1.sagemaker.aws/home/sagemaker-user/clean_git/exploration/MERCHANTS/Biencoder_v2_sbert_clean2.ipynb#Y221sdnNjb2RlLXJlbW90ZQ%3D%3D?line=0'>1</a>\u001b[0m df_ , df_test, y_, y_test \u001b[39m=\u001b[39m train_test_split(df_data_raw, df_data_raw[\u001b[39m'\u001b[39m\u001b[39mtrue_label\u001b[39m\u001b[39m'\u001b[39m], test_size \u001b[39m=\u001b[39m \u001b[39m0.05\u001b[39m, random_state\u001b[39m=\u001b[39m\u001b[39m1\u001b[39m)\n\u001b[0;32m----> <a href='vscode-notebook-cell://yd6plnil3hw8unc.studio.us-east-1.sagemaker.aws/home/sagemaker-user/clean_git/exploration/MERCHANTS/Biencoder_v2_sbert_clean2.ipynb#Y221sdnNjb2RlLXJlbW90ZQ%3D%3D?line=1'>2</a>\u001b[0m df_train, df_val, y_train, y_val \u001b[39m=\u001b[39m train_test_split(df_, df_[\u001b[39m'\u001b[39;49m\u001b[39mtrue_label\u001b[39;49m\u001b[39m'\u001b[39;49m], test_size \u001b[39m=\u001b[39;49m \u001b[39m0.1\u001b[39;49m, random_state\u001b[39m=\u001b[39;49m\u001b[39m1\u001b[39;49m)\n\u001b[1;32m      <a href='vscode-notebook-cell://yd6plnil3hw8unc.studio.us-east-1.sagemaker.aws/home/sagemaker-user/clean_git/exploration/MERCHANTS/Biencoder_v2_sbert_clean2.ipynb#Y221sdnNjb2RlLXJlbW90ZQ%3D%3D?line=2'>3</a>\u001b[0m df_train\u001b[39m.\u001b[39mreset_index(drop\u001b[39m=\u001b[39m\u001b[39mTrue\u001b[39;00m, inplace\u001b[39m=\u001b[39m\u001b[39mTrue\u001b[39;00m)\n\u001b[1;32m      <a href='vscode-notebook-cell://yd6plnil3hw8unc.studio.us-east-1.sagemaker.aws/home/sagemaker-user/clean_git/exploration/MERCHANTS/Biencoder_v2_sbert_clean2.ipynb#Y221sdnNjb2RlLXJlbW90ZQ%3D%3D?line=3'>4</a>\u001b[0m df_val\u001b[39m.\u001b[39mreset_index(drop\u001b[39m=\u001b[39m\u001b[39mTrue\u001b[39;00m, inplace\u001b[39m=\u001b[39m\u001b[39mTrue\u001b[39;00m)\n",
      "File \u001b[0;32m/opt/conda/lib/python3.10/site-packages/sklearn/utils/_param_validation.py:213\u001b[0m, in \u001b[0;36mvalidate_params.<locals>.decorator.<locals>.wrapper\u001b[0;34m(*args, **kwargs)\u001b[0m\n\u001b[1;32m    207\u001b[0m \u001b[39mtry\u001b[39;00m:\n\u001b[1;32m    208\u001b[0m     \u001b[39mwith\u001b[39;00m config_context(\n\u001b[1;32m    209\u001b[0m         skip_parameter_validation\u001b[39m=\u001b[39m(\n\u001b[1;32m    210\u001b[0m             prefer_skip_nested_validation \u001b[39mor\u001b[39;00m global_skip_validation\n\u001b[1;32m    211\u001b[0m         )\n\u001b[1;32m    212\u001b[0m     ):\n\u001b[0;32m--> 213\u001b[0m         \u001b[39mreturn\u001b[39;00m func(\u001b[39m*\u001b[39;49margs, \u001b[39m*\u001b[39;49m\u001b[39m*\u001b[39;49mkwargs)\n\u001b[1;32m    214\u001b[0m \u001b[39mexcept\u001b[39;00m InvalidParameterError \u001b[39mas\u001b[39;00m e:\n\u001b[1;32m    215\u001b[0m     \u001b[39m# When the function is just a wrapper around an estimator, we allow\u001b[39;00m\n\u001b[1;32m    216\u001b[0m     \u001b[39m# the function to delegate validation to the estimator, but we replace\u001b[39;00m\n\u001b[1;32m    217\u001b[0m     \u001b[39m# the name of the estimator by the name of the function in the error\u001b[39;00m\n\u001b[1;32m    218\u001b[0m     \u001b[39m# message to avoid confusion.\u001b[39;00m\n\u001b[1;32m    219\u001b[0m     msg \u001b[39m=\u001b[39m re\u001b[39m.\u001b[39msub(\n\u001b[1;32m    220\u001b[0m         \u001b[39mr\u001b[39m\u001b[39m\"\u001b[39m\u001b[39mparameter of \u001b[39m\u001b[39m\\\u001b[39m\u001b[39mw+ must be\u001b[39m\u001b[39m\"\u001b[39m,\n\u001b[1;32m    221\u001b[0m         \u001b[39mf\u001b[39m\u001b[39m\"\u001b[39m\u001b[39mparameter of \u001b[39m\u001b[39m{\u001b[39;00mfunc\u001b[39m.\u001b[39m\u001b[39m__qualname__\u001b[39m\u001b[39m}\u001b[39;00m\u001b[39m must be\u001b[39m\u001b[39m\"\u001b[39m,\n\u001b[1;32m    222\u001b[0m         \u001b[39mstr\u001b[39m(e),\n\u001b[1;32m    223\u001b[0m     )\n",
      "File \u001b[0;32m/opt/conda/lib/python3.10/site-packages/sklearn/model_selection/_split.py:2683\u001b[0m, in \u001b[0;36mtrain_test_split\u001b[0;34m(test_size, train_size, random_state, shuffle, stratify, *arrays)\u001b[0m\n\u001b[1;32m   2679\u001b[0m     cv \u001b[39m=\u001b[39m CVClass(test_size\u001b[39m=\u001b[39mn_test, train_size\u001b[39m=\u001b[39mn_train, random_state\u001b[39m=\u001b[39mrandom_state)\n\u001b[1;32m   2681\u001b[0m     train, test \u001b[39m=\u001b[39m \u001b[39mnext\u001b[39m(cv\u001b[39m.\u001b[39msplit(X\u001b[39m=\u001b[39marrays[\u001b[39m0\u001b[39m], y\u001b[39m=\u001b[39mstratify))\n\u001b[0;32m-> 2683\u001b[0m \u001b[39mreturn\u001b[39;00m \u001b[39mlist\u001b[39;49m(\n\u001b[1;32m   2684\u001b[0m     chain\u001b[39m.\u001b[39;49mfrom_iterable(\n\u001b[1;32m   2685\u001b[0m         (_safe_indexing(a, train), _safe_indexing(a, test)) \u001b[39mfor\u001b[39;49;00m a \u001b[39min\u001b[39;49;00m arrays\n\u001b[1;32m   2686\u001b[0m     )\n\u001b[1;32m   2687\u001b[0m )\n",
      "File \u001b[0;32m/opt/conda/lib/python3.10/site-packages/sklearn/model_selection/_split.py:2685\u001b[0m, in \u001b[0;36m<genexpr>\u001b[0;34m(.0)\u001b[0m\n\u001b[1;32m   2679\u001b[0m     cv \u001b[39m=\u001b[39m CVClass(test_size\u001b[39m=\u001b[39mn_test, train_size\u001b[39m=\u001b[39mn_train, random_state\u001b[39m=\u001b[39mrandom_state)\n\u001b[1;32m   2681\u001b[0m     train, test \u001b[39m=\u001b[39m \u001b[39mnext\u001b[39m(cv\u001b[39m.\u001b[39msplit(X\u001b[39m=\u001b[39marrays[\u001b[39m0\u001b[39m], y\u001b[39m=\u001b[39mstratify))\n\u001b[1;32m   2683\u001b[0m \u001b[39mreturn\u001b[39;00m \u001b[39mlist\u001b[39m(\n\u001b[1;32m   2684\u001b[0m     chain\u001b[39m.\u001b[39mfrom_iterable(\n\u001b[0;32m-> 2685\u001b[0m         (_safe_indexing(a, train), _safe_indexing(a, test)) \u001b[39mfor\u001b[39;00m a \u001b[39min\u001b[39;00m arrays\n\u001b[1;32m   2686\u001b[0m     )\n\u001b[1;32m   2687\u001b[0m )\n",
      "File \u001b[0;32m/opt/conda/lib/python3.10/site-packages/sklearn/utils/__init__.py:407\u001b[0m, in \u001b[0;36m_safe_indexing\u001b[0;34m(X, indices, axis)\u001b[0m\n\u001b[1;32m    400\u001b[0m     \u001b[39mraise\u001b[39;00m \u001b[39mValueError\u001b[39;00m(\n\u001b[1;32m    401\u001b[0m         \u001b[39m\"\u001b[39m\u001b[39mSpecifying the columns using strings is only supported for dataframes.\u001b[39m\u001b[39m\"\u001b[39m\n\u001b[1;32m    402\u001b[0m     )\n\u001b[1;32m    404\u001b[0m \u001b[39mif\u001b[39;00m \u001b[39mhasattr\u001b[39m(X, \u001b[39m\"\u001b[39m\u001b[39miloc\u001b[39m\u001b[39m\"\u001b[39m):\n\u001b[1;32m    405\u001b[0m     \u001b[39m# TODO: we should probably use _is_pandas_df(X) instead but this would\u001b[39;00m\n\u001b[1;32m    406\u001b[0m     \u001b[39m# require updating some tests such as test_train_test_split_mock_pandas.\u001b[39;00m\n\u001b[0;32m--> 407\u001b[0m     \u001b[39mreturn\u001b[39;00m _pandas_indexing(X, indices, indices_dtype, axis\u001b[39m=\u001b[39;49maxis)\n\u001b[1;32m    408\u001b[0m \u001b[39melif\u001b[39;00m _is_polars_df(X):\n\u001b[1;32m    409\u001b[0m     \u001b[39mreturn\u001b[39;00m _polars_indexing(X, indices, indices_dtype, axis\u001b[39m=\u001b[39maxis)\n",
      "File \u001b[0;32m/opt/conda/lib/python3.10/site-packages/sklearn/utils/__init__.py:219\u001b[0m, in \u001b[0;36m_pandas_indexing\u001b[0;34m(X, key, key_dtype, axis)\u001b[0m\n\u001b[1;32m    214\u001b[0m     key \u001b[39m=\u001b[39m np\u001b[39m.\u001b[39masarray(key)\n\u001b[1;32m    216\u001b[0m \u001b[39mif\u001b[39;00m key_dtype \u001b[39m==\u001b[39m \u001b[39m\"\u001b[39m\u001b[39mint\u001b[39m\u001b[39m\"\u001b[39m \u001b[39mand\u001b[39;00m \u001b[39mnot\u001b[39;00m (\u001b[39misinstance\u001b[39m(key, \u001b[39mslice\u001b[39m) \u001b[39mor\u001b[39;00m np\u001b[39m.\u001b[39misscalar(key)):\n\u001b[1;32m    217\u001b[0m     \u001b[39m# using take() instead of iloc[] ensures the return value is a \"proper\"\u001b[39;00m\n\u001b[1;32m    218\u001b[0m     \u001b[39m# copy that will not raise SettingWithCopyWarning\u001b[39;00m\n\u001b[0;32m--> 219\u001b[0m     \u001b[39mreturn\u001b[39;00m X\u001b[39m.\u001b[39;49mtake(key, axis\u001b[39m=\u001b[39;49maxis)\n\u001b[1;32m    220\u001b[0m \u001b[39melse\u001b[39;00m:\n\u001b[1;32m    221\u001b[0m     \u001b[39m# check whether we should index with loc or iloc\u001b[39;00m\n\u001b[1;32m    222\u001b[0m     indexer \u001b[39m=\u001b[39m X\u001b[39m.\u001b[39miloc \u001b[39mif\u001b[39;00m key_dtype \u001b[39m==\u001b[39m \u001b[39m\"\u001b[39m\u001b[39mint\u001b[39m\u001b[39m\"\u001b[39m \u001b[39melse\u001b[39;00m X\u001b[39m.\u001b[39mloc\n",
      "File \u001b[0;32m/opt/conda/lib/python3.10/site-packages/pandas/core/generic.py:4068\u001b[0m, in \u001b[0;36mNDFrame.take\u001b[0;34m(self, indices, axis, **kwargs)\u001b[0m\n\u001b[1;32m   4063\u001b[0m     \u001b[39m# We can get here with a slice via DataFrame.__getitem__\u001b[39;00m\n\u001b[1;32m   4064\u001b[0m     indices \u001b[39m=\u001b[39m np\u001b[39m.\u001b[39marange(\n\u001b[1;32m   4065\u001b[0m         indices\u001b[39m.\u001b[39mstart, indices\u001b[39m.\u001b[39mstop, indices\u001b[39m.\u001b[39mstep, dtype\u001b[39m=\u001b[39mnp\u001b[39m.\u001b[39mintp\n\u001b[1;32m   4066\u001b[0m     )\n\u001b[0;32m-> 4068\u001b[0m new_data \u001b[39m=\u001b[39m \u001b[39mself\u001b[39;49m\u001b[39m.\u001b[39;49m_mgr\u001b[39m.\u001b[39;49mtake(\n\u001b[1;32m   4069\u001b[0m     indices,\n\u001b[1;32m   4070\u001b[0m     axis\u001b[39m=\u001b[39;49m\u001b[39mself\u001b[39;49m\u001b[39m.\u001b[39;49m_get_block_manager_axis(axis),\n\u001b[1;32m   4071\u001b[0m     verify\u001b[39m=\u001b[39;49m\u001b[39mTrue\u001b[39;49;00m,\n\u001b[1;32m   4072\u001b[0m )\n\u001b[1;32m   4073\u001b[0m \u001b[39mreturn\u001b[39;00m \u001b[39mself\u001b[39m\u001b[39m.\u001b[39m_constructor_from_mgr(new_data, axes\u001b[39m=\u001b[39mnew_data\u001b[39m.\u001b[39maxes)\u001b[39m.\u001b[39m__finalize__(\n\u001b[1;32m   4074\u001b[0m     \u001b[39mself\u001b[39m, method\u001b[39m=\u001b[39m\u001b[39m\"\u001b[39m\u001b[39mtake\u001b[39m\u001b[39m\"\u001b[39m\n\u001b[1;32m   4075\u001b[0m )\n",
      "File \u001b[0;32m/opt/conda/lib/python3.10/site-packages/pandas/core/internals/managers.py:877\u001b[0m, in \u001b[0;36mBaseBlockManager.take\u001b[0;34m(self, indexer, axis, verify)\u001b[0m\n\u001b[1;32m    874\u001b[0m indexer \u001b[39m=\u001b[39m maybe_convert_indices(indexer, n, verify\u001b[39m=\u001b[39mverify)\n\u001b[1;32m    876\u001b[0m new_labels \u001b[39m=\u001b[39m \u001b[39mself\u001b[39m\u001b[39m.\u001b[39maxes[axis]\u001b[39m.\u001b[39mtake(indexer)\n\u001b[0;32m--> 877\u001b[0m \u001b[39mreturn\u001b[39;00m \u001b[39mself\u001b[39;49m\u001b[39m.\u001b[39;49mreindex_indexer(\n\u001b[1;32m    878\u001b[0m     new_axis\u001b[39m=\u001b[39;49mnew_labels,\n\u001b[1;32m    879\u001b[0m     indexer\u001b[39m=\u001b[39;49mindexer,\n\u001b[1;32m    880\u001b[0m     axis\u001b[39m=\u001b[39;49maxis,\n\u001b[1;32m    881\u001b[0m     allow_dups\u001b[39m=\u001b[39;49m\u001b[39mTrue\u001b[39;49;00m,\n\u001b[1;32m    882\u001b[0m     copy\u001b[39m=\u001b[39;49m\u001b[39mNone\u001b[39;49;00m,\n\u001b[1;32m    883\u001b[0m )\n",
      "File \u001b[0;32m/opt/conda/lib/python3.10/site-packages/pandas/core/internals/managers.py:670\u001b[0m, in \u001b[0;36mBaseBlockManager.reindex_indexer\u001b[0;34m(self, new_axis, indexer, axis, fill_value, allow_dups, copy, only_slice, use_na_proxy)\u001b[0m\n\u001b[1;32m    663\u001b[0m     new_blocks \u001b[39m=\u001b[39m \u001b[39mself\u001b[39m\u001b[39m.\u001b[39m_slice_take_blocks_ax0(\n\u001b[1;32m    664\u001b[0m         indexer,\n\u001b[1;32m    665\u001b[0m         fill_value\u001b[39m=\u001b[39mfill_value,\n\u001b[1;32m    666\u001b[0m         only_slice\u001b[39m=\u001b[39monly_slice,\n\u001b[1;32m    667\u001b[0m         use_na_proxy\u001b[39m=\u001b[39muse_na_proxy,\n\u001b[1;32m    668\u001b[0m     )\n\u001b[1;32m    669\u001b[0m \u001b[39melse\u001b[39;00m:\n\u001b[0;32m--> 670\u001b[0m     new_blocks \u001b[39m=\u001b[39m [\n\u001b[1;32m    671\u001b[0m         blk\u001b[39m.\u001b[39mtake_nd(\n\u001b[1;32m    672\u001b[0m             indexer,\n\u001b[1;32m    673\u001b[0m             axis\u001b[39m=\u001b[39m\u001b[39m1\u001b[39m,\n\u001b[1;32m    674\u001b[0m             fill_value\u001b[39m=\u001b[39m(\n\u001b[1;32m    675\u001b[0m                 fill_value \u001b[39mif\u001b[39;00m fill_value \u001b[39mis\u001b[39;00m \u001b[39mnot\u001b[39;00m \u001b[39mNone\u001b[39;00m \u001b[39melse\u001b[39;00m blk\u001b[39m.\u001b[39mfill_value\n\u001b[1;32m    676\u001b[0m             ),\n\u001b[1;32m    677\u001b[0m         )\n\u001b[1;32m    678\u001b[0m         \u001b[39mfor\u001b[39;00m blk \u001b[39min\u001b[39;00m \u001b[39mself\u001b[39m\u001b[39m.\u001b[39mblocks\n\u001b[1;32m    679\u001b[0m     ]\n\u001b[1;32m    681\u001b[0m new_axes \u001b[39m=\u001b[39m \u001b[39mlist\u001b[39m(\u001b[39mself\u001b[39m\u001b[39m.\u001b[39maxes)\n\u001b[1;32m    682\u001b[0m new_axes[axis] \u001b[39m=\u001b[39m new_axis\n",
      "File \u001b[0;32m/opt/conda/lib/python3.10/site-packages/pandas/core/internals/managers.py:671\u001b[0m, in \u001b[0;36m<listcomp>\u001b[0;34m(.0)\u001b[0m\n\u001b[1;32m    663\u001b[0m     new_blocks \u001b[39m=\u001b[39m \u001b[39mself\u001b[39m\u001b[39m.\u001b[39m_slice_take_blocks_ax0(\n\u001b[1;32m    664\u001b[0m         indexer,\n\u001b[1;32m    665\u001b[0m         fill_value\u001b[39m=\u001b[39mfill_value,\n\u001b[1;32m    666\u001b[0m         only_slice\u001b[39m=\u001b[39monly_slice,\n\u001b[1;32m    667\u001b[0m         use_na_proxy\u001b[39m=\u001b[39muse_na_proxy,\n\u001b[1;32m    668\u001b[0m     )\n\u001b[1;32m    669\u001b[0m \u001b[39melse\u001b[39;00m:\n\u001b[1;32m    670\u001b[0m     new_blocks \u001b[39m=\u001b[39m [\n\u001b[0;32m--> 671\u001b[0m         blk\u001b[39m.\u001b[39;49mtake_nd(\n\u001b[1;32m    672\u001b[0m             indexer,\n\u001b[1;32m    673\u001b[0m             axis\u001b[39m=\u001b[39;49m\u001b[39m1\u001b[39;49m,\n\u001b[1;32m    674\u001b[0m             fill_value\u001b[39m=\u001b[39;49m(\n\u001b[1;32m    675\u001b[0m                 fill_value \u001b[39mif\u001b[39;49;00m fill_value \u001b[39mis\u001b[39;49;00m \u001b[39mnot\u001b[39;49;00m \u001b[39mNone\u001b[39;49;00m \u001b[39melse\u001b[39;49;00m blk\u001b[39m.\u001b[39;49mfill_value\n\u001b[1;32m    676\u001b[0m             ),\n\u001b[1;32m    677\u001b[0m         )\n\u001b[1;32m    678\u001b[0m         \u001b[39mfor\u001b[39;00m blk \u001b[39min\u001b[39;00m \u001b[39mself\u001b[39m\u001b[39m.\u001b[39mblocks\n\u001b[1;32m    679\u001b[0m     ]\n\u001b[1;32m    681\u001b[0m new_axes \u001b[39m=\u001b[39m \u001b[39mlist\u001b[39m(\u001b[39mself\u001b[39m\u001b[39m.\u001b[39maxes)\n\u001b[1;32m    682\u001b[0m new_axes[axis] \u001b[39m=\u001b[39m new_axis\n",
      "File \u001b[0;32m/opt/conda/lib/python3.10/site-packages/pandas/core/internals/blocks.py:1061\u001b[0m, in \u001b[0;36mBlock.take_nd\u001b[0;34m(self, indexer, axis, new_mgr_locs, fill_value)\u001b[0m\n\u001b[1;32m   1058\u001b[0m     allow_fill \u001b[39m=\u001b[39m \u001b[39mTrue\u001b[39;00m\n\u001b[1;32m   1060\u001b[0m \u001b[39m# Note: algos.take_nd has upcast logic similar to coerce_to_target_dtype\u001b[39;00m\n\u001b[0;32m-> 1061\u001b[0m new_values \u001b[39m=\u001b[39m algos\u001b[39m.\u001b[39;49mtake_nd(\n\u001b[1;32m   1062\u001b[0m     values, indexer, axis\u001b[39m=\u001b[39;49maxis, allow_fill\u001b[39m=\u001b[39;49mallow_fill, fill_value\u001b[39m=\u001b[39;49mfill_value\n\u001b[1;32m   1063\u001b[0m )\n\u001b[1;32m   1065\u001b[0m \u001b[39m# Called from three places in managers, all of which satisfy\u001b[39;00m\n\u001b[1;32m   1066\u001b[0m \u001b[39m#  these assertions\u001b[39;00m\n\u001b[1;32m   1067\u001b[0m \u001b[39mif\u001b[39;00m \u001b[39misinstance\u001b[39m(\u001b[39mself\u001b[39m, ExtensionBlock):\n\u001b[1;32m   1068\u001b[0m     \u001b[39m# NB: in this case, the 'axis' kwarg will be ignored in the\u001b[39;00m\n\u001b[1;32m   1069\u001b[0m     \u001b[39m#  algos.take_nd call above.\u001b[39;00m\n",
      "File \u001b[0;32m/opt/conda/lib/python3.10/site-packages/pandas/core/array_algos/take.py:115\u001b[0m, in \u001b[0;36mtake_nd\u001b[0;34m(arr, indexer, axis, fill_value, allow_fill)\u001b[0m\n\u001b[1;32m    110\u001b[0m         arr \u001b[39m=\u001b[39m cast(\u001b[39m\"\u001b[39m\u001b[39mNDArrayBackedExtensionArray\u001b[39m\u001b[39m\"\u001b[39m, arr)\n\u001b[1;32m    111\u001b[0m         \u001b[39mreturn\u001b[39;00m arr\u001b[39m.\u001b[39mtake(\n\u001b[1;32m    112\u001b[0m             indexer, fill_value\u001b[39m=\u001b[39mfill_value, allow_fill\u001b[39m=\u001b[39mallow_fill, axis\u001b[39m=\u001b[39maxis\n\u001b[1;32m    113\u001b[0m         )\n\u001b[0;32m--> 115\u001b[0m     \u001b[39mreturn\u001b[39;00m arr\u001b[39m.\u001b[39;49mtake(indexer, fill_value\u001b[39m=\u001b[39;49mfill_value, allow_fill\u001b[39m=\u001b[39;49mallow_fill)\n\u001b[1;32m    117\u001b[0m arr \u001b[39m=\u001b[39m np\u001b[39m.\u001b[39masarray(arr)\n\u001b[1;32m    118\u001b[0m \u001b[39mreturn\u001b[39;00m _take_nd_ndarray(arr, indexer, axis, fill_value, allow_fill)\n",
      "File \u001b[0;32m/opt/conda/lib/python3.10/site-packages/pandas/core/arrays/_mixins.py:160\u001b[0m, in \u001b[0;36mNDArrayBackedExtensionArray.take\u001b[0;34m(self, indices, allow_fill, fill_value, axis)\u001b[0m\n\u001b[1;32m    157\u001b[0m \u001b[39mif\u001b[39;00m allow_fill:\n\u001b[1;32m    158\u001b[0m     fill_value \u001b[39m=\u001b[39m \u001b[39mself\u001b[39m\u001b[39m.\u001b[39m_validate_scalar(fill_value)\n\u001b[0;32m--> 160\u001b[0m new_data \u001b[39m=\u001b[39m take(\n\u001b[1;32m    161\u001b[0m     \u001b[39mself\u001b[39;49m\u001b[39m.\u001b[39;49m_ndarray,\n\u001b[1;32m    162\u001b[0m     indices,\n\u001b[1;32m    163\u001b[0m     allow_fill\u001b[39m=\u001b[39;49mallow_fill,\n\u001b[1;32m    164\u001b[0m     fill_value\u001b[39m=\u001b[39;49mfill_value,\n\u001b[1;32m    165\u001b[0m     axis\u001b[39m=\u001b[39;49maxis,\n\u001b[1;32m    166\u001b[0m )\n\u001b[1;32m    167\u001b[0m \u001b[39mreturn\u001b[39;00m \u001b[39mself\u001b[39m\u001b[39m.\u001b[39m_from_backing_data(new_data)\n",
      "File \u001b[0;32m/opt/conda/lib/python3.10/site-packages/pandas/core/algorithms.py:1314\u001b[0m, in \u001b[0;36mtake\u001b[0;34m(arr, indices, axis, allow_fill, fill_value)\u001b[0m\n\u001b[1;32m   1311\u001b[0m \u001b[39mif\u001b[39;00m allow_fill:\n\u001b[1;32m   1312\u001b[0m     \u001b[39m# Pandas style, -1 means NA\u001b[39;00m\n\u001b[1;32m   1313\u001b[0m     validate_indices(indices, arr\u001b[39m.\u001b[39mshape[axis])\n\u001b[0;32m-> 1314\u001b[0m     result \u001b[39m=\u001b[39m take_nd(\n\u001b[1;32m   1315\u001b[0m         arr, indices, axis\u001b[39m=\u001b[39;49maxis, allow_fill\u001b[39m=\u001b[39;49m\u001b[39mTrue\u001b[39;49;00m, fill_value\u001b[39m=\u001b[39;49mfill_value\n\u001b[1;32m   1316\u001b[0m     )\n\u001b[1;32m   1317\u001b[0m \u001b[39melse\u001b[39;00m:\n\u001b[1;32m   1318\u001b[0m     \u001b[39m# NumPy style\u001b[39;00m\n\u001b[1;32m   1319\u001b[0m     result \u001b[39m=\u001b[39m arr\u001b[39m.\u001b[39mtake(indices, axis\u001b[39m=\u001b[39maxis)\n",
      "File \u001b[0;32m/opt/conda/lib/python3.10/site-packages/pandas/core/array_algos/take.py:118\u001b[0m, in \u001b[0;36mtake_nd\u001b[0;34m(arr, indexer, axis, fill_value, allow_fill)\u001b[0m\n\u001b[1;32m    115\u001b[0m     \u001b[39mreturn\u001b[39;00m arr\u001b[39m.\u001b[39mtake(indexer, fill_value\u001b[39m=\u001b[39mfill_value, allow_fill\u001b[39m=\u001b[39mallow_fill)\n\u001b[1;32m    117\u001b[0m arr \u001b[39m=\u001b[39m np\u001b[39m.\u001b[39masarray(arr)\n\u001b[0;32m--> 118\u001b[0m \u001b[39mreturn\u001b[39;00m _take_nd_ndarray(arr, indexer, axis, fill_value, allow_fill)\n",
      "File \u001b[0;32m/opt/conda/lib/python3.10/site-packages/pandas/core/array_algos/take.py:156\u001b[0m, in \u001b[0;36m_take_nd_ndarray\u001b[0;34m(arr, indexer, axis, fill_value, allow_fill)\u001b[0m\n\u001b[1;32m    150\u001b[0m out_shape \u001b[39m=\u001b[39m \u001b[39mtuple\u001b[39m(out_shape_)\n\u001b[1;32m    151\u001b[0m \u001b[39mif\u001b[39;00m arr\u001b[39m.\u001b[39mflags\u001b[39m.\u001b[39mf_contiguous \u001b[39mand\u001b[39;00m axis \u001b[39m==\u001b[39m arr\u001b[39m.\u001b[39mndim \u001b[39m-\u001b[39m \u001b[39m1\u001b[39m:\n\u001b[1;32m    152\u001b[0m     \u001b[39m# minor tweak that can make an order-of-magnitude difference\u001b[39;00m\n\u001b[1;32m    153\u001b[0m     \u001b[39m# for dataframes initialized directly from 2-d ndarrays\u001b[39;00m\n\u001b[1;32m    154\u001b[0m     \u001b[39m# (s.t. df.values is c-contiguous and df._mgr.blocks[0] is its\u001b[39;00m\n\u001b[1;32m    155\u001b[0m     \u001b[39m# f-contiguous transpose)\u001b[39;00m\n\u001b[0;32m--> 156\u001b[0m     out \u001b[39m=\u001b[39m np\u001b[39m.\u001b[39;49mempty(out_shape, dtype\u001b[39m=\u001b[39;49mdtype, order\u001b[39m=\u001b[39;49m\u001b[39m\"\u001b[39;49m\u001b[39mF\u001b[39;49m\u001b[39m\"\u001b[39;49m)\n\u001b[1;32m    157\u001b[0m \u001b[39melse\u001b[39;00m:\n\u001b[1;32m    158\u001b[0m     out \u001b[39m=\u001b[39m np\u001b[39m.\u001b[39mempty(out_shape, dtype\u001b[39m=\u001b[39mdtype)\n",
      "\u001b[0;31mKeyboardInterrupt\u001b[0m: "
     ]
    }
   ],
   "source": [
    "df_ , df_test, y_, y_test = train_test_split(df_data_raw, df_data_raw['true_label'], test_size = 0.05, random_state=1)\n",
    "df_train, df_val, y_train, y_val = train_test_split(df_, df_['true_label'], test_size = 0.1, random_state=1)\n",
    "df_train.reset_index(drop=True, inplace=True)\n",
    "df_val.reset_index(drop=True, inplace=True)\n",
    "df_test.reset_index(drop=True, inplace=True)\n",
    "print(df_train.shape[0], df_val.shape[0], df_test.shape[0])"
   ]
  },
  {
   "cell_type": "code",
   "execution_count": null,
   "metadata": {},
   "outputs": [],
   "source": [
    "text_col = \"description_combined_processed\""
   ]
  },
  {
   "cell_type": "code",
   "execution_count": null,
   "metadata": {},
   "outputs": [
    {
     "name": "stdout",
     "output_type": "stream",
     "text": [
      "57\n"
     ]
    }
   ],
   "source": [
    "df_train['len_sentence'] = df_train[text_col].apply(lambda x: len(x.split(' ')))\n",
    "print(df_train['len_sentence'].max())"
   ]
  },
  {
   "cell_type": "code",
   "execution_count": null,
   "metadata": {},
   "outputs": [],
   "source": [
    "from sentence_transformers import SentenceTransformer, models\n",
    "from sentence_transformers import SentenceTransformer, InputExample\n",
    "from torch.utils.data import DataLoader"
   ]
  },
  {
   "cell_type": "code",
   "execution_count": null,
   "metadata": {},
   "outputs": [
    {
     "name": "stderr",
     "output_type": "stream",
     "text": [
      "/opt/conda/lib/python3.10/site-packages/huggingface_hub/file_download.py:1132: FutureWarning: `resume_download` is deprecated and will be removed in version 1.0.0. Downloads always resume when possible. If you want to force a new download, use `force_download=True`.\n",
      "  warnings.warn(\n"
     ]
    }
   ],
   "source": [
    "\n",
    "word_embedding_model = models.Transformer(\"bert-base-uncased\", max_seq_length=128)\n",
    "pooling_model = models.Pooling(word_embedding_model.get_word_embedding_dimension())\n",
    "\n",
    "model = SentenceTransformer(modules=[word_embedding_model, pooling_model])"
   ]
  },
  {
   "cell_type": "code",
   "execution_count": null,
   "metadata": {},
   "outputs": [
    {
     "data": {
      "text/plain": [
       "count    9.575469e+06\n",
       "mean     8.222131e+00\n",
       "std      3.895720e+00\n",
       "min      1.000000e+00\n",
       "25%      5.000000e+00\n",
       "50%      8.000000e+00\n",
       "75%      1.100000e+01\n",
       "max      5.700000e+01\n",
       "Name: len_sentence, dtype: float64"
      ]
     },
     "execution_count": 20,
     "metadata": {},
     "output_type": "execute_result"
    }
   ],
   "source": [
    "#pd.set_option('display.float_format', lambda x: '%.f' % x)\n",
    "#estimate maximum tokenized length\n",
    "df_train['len_sentence'].describe()"
   ]
  },
  {
   "cell_type": "code",
   "execution_count": null,
   "metadata": {},
   "outputs": [
    {
     "name": "stdout",
     "output_type": "stream",
     "text": [
      "128\n",
      "128\n"
     ]
    }
   ],
   "source": [
    "print(model.max_seq_length)\n",
    "model.max_seq_length = 128\n",
    "print(model.max_seq_length)"
   ]
  },
  {
   "cell_type": "code",
   "execution_count": null,
   "metadata": {},
   "outputs": [
    {
     "data": {
      "text/html": [
       "<div>\n",
       "<style scoped>\n",
       "    .dataframe tbody tr th:only-of-type {\n",
       "        vertical-align: middle;\n",
       "    }\n",
       "\n",
       "    .dataframe tbody tr th {\n",
       "        vertical-align: top;\n",
       "    }\n",
       "\n",
       "    .dataframe thead th {\n",
       "        text-align: right;\n",
       "    }\n",
       "</style>\n",
       "<table border=\"1\" class=\"dataframe\">\n",
       "  <thead>\n",
       "    <tr style=\"text-align: right;\">\n",
       "      <th></th>\n",
       "      <th>transaction_id</th>\n",
       "      <th>sentence</th>\n",
       "      <th>sentence2</th>\n",
       "      <th>description_combined_processed</th>\n",
       "      <th>true_merchant_name_combined</th>\n",
       "      <th>is_duplicate</th>\n",
       "      <th>original_merchant_name_combined</th>\n",
       "      <th>amount</th>\n",
       "      <th>merchant_name_combined</th>\n",
       "      <th>true_label</th>\n",
       "      <th>label</th>\n",
       "      <th>len_sentence</th>\n",
       "    </tr>\n",
       "  </thead>\n",
       "  <tbody>\n",
       "    <tr>\n",
       "      <th>0</th>\n",
       "      <td>9812915596</td>\n",
       "      <td>DUKEENERGY DES:BILL PAY ID: INDN:JESUS RAMIREZ...</td>\n",
       "      <td>DUKEENERGY DES:BILL PAY ID: INDN:JESUS RAMIREZ...</td>\n",
       "      <td>DUKEENERGY DES:BILL PAY ID: INDN:JESUS RAMIREZ...</td>\n",
       "      <td>Duke Energy</td>\n",
       "      <td>0</td>\n",
       "      <td>Duke Energy</td>\n",
       "      <td>-65.4</td>\n",
       "      <td>eBay</td>\n",
       "      <td>0</td>\n",
       "      <td>0.204800</td>\n",
       "      <td>9</td>\n",
       "    </tr>\n",
       "    <tr>\n",
       "      <th>1</th>\n",
       "      <td>9810168106</td>\n",
       "      <td>PURCHASE DD DOORDASH WALGREENS 855-973- CA . C...</td>\n",
       "      <td>PURCHASE DD DOORDASH WALGREENS 855-973- CA . T...</td>\n",
       "      <td>PURCHASE DD DOORDASH WALGREENS 855-973- CA</td>\n",
       "      <td>Walgreens</td>\n",
       "      <td>0</td>\n",
       "      <td>Walgreens</td>\n",
       "      <td>-46.8</td>\n",
       "      <td>Walgreens</td>\n",
       "      <td>1</td>\n",
       "      <td>0.975303</td>\n",
       "      <td>7</td>\n",
       "    </tr>\n",
       "    <tr>\n",
       "      <th>2</th>\n",
       "      <td>9833815955</td>\n",
       "      <td>PUBLIX # PINSON AL. Channel: in store. Amount:...</td>\n",
       "      <td>PUBLIX # PINSON AL. Type: merchant. Channel: i...</td>\n",
       "      <td>PUBLIX # PINSON AL</td>\n",
       "      <td>Publix</td>\n",
       "      <td>0</td>\n",
       "      <td>Publix</td>\n",
       "      <td>-12.7</td>\n",
       "      <td>Publix</td>\n",
       "      <td>1</td>\n",
       "      <td>0.840036</td>\n",
       "      <td>4</td>\n",
       "    </tr>\n",
       "    <tr>\n",
       "      <th>3</th>\n",
       "      <td>9798100046</td>\n",
       "      <td>VONS . Channel: in store. Amount: -10.7</td>\n",
       "      <td>VONS . Type: merchant. Channel: in store. Amou...</td>\n",
       "      <td>VONS</td>\n",
       "      <td>Vons Store</td>\n",
       "      <td>0</td>\n",
       "      <td>Vons Store</td>\n",
       "      <td>-10.7</td>\n",
       "      <td>Vons Store</td>\n",
       "      <td>1</td>\n",
       "      <td>0.644013</td>\n",
       "      <td>2</td>\n",
       "    </tr>\n",
       "    <tr>\n",
       "      <th>4</th>\n",
       "      <td>9818467537</td>\n",
       "      <td>GRID*Payment s4b7psgpm3 getgrid.app CA. Channe...</td>\n",
       "      <td>GRID*Payment s4b7psgpm3 getgrid.app CA. Type: ...</td>\n",
       "      <td>GRID*Payment s4b7psgpm3 getgrid.app CA</td>\n",
       "      <td>Grid</td>\n",
       "      <td>0</td>\n",
       "      <td>Grid</td>\n",
       "      <td>-63.0</td>\n",
       "      <td>Subway</td>\n",
       "      <td>0</td>\n",
       "      <td>0.115184</td>\n",
       "      <td>4</td>\n",
       "    </tr>\n",
       "  </tbody>\n",
       "</table>\n",
       "</div>"
      ],
      "text/plain": [
       "   transaction_id                                           sentence  \\\n",
       "0      9812915596  DUKEENERGY DES:BILL PAY ID: INDN:JESUS RAMIREZ...   \n",
       "1      9810168106  PURCHASE DD DOORDASH WALGREENS 855-973- CA . C...   \n",
       "2      9833815955  PUBLIX # PINSON AL. Channel: in store. Amount:...   \n",
       "3      9798100046            VONS . Channel: in store. Amount: -10.7   \n",
       "4      9818467537  GRID*Payment s4b7psgpm3 getgrid.app CA. Channe...   \n",
       "\n",
       "                                           sentence2  \\\n",
       "0  DUKEENERGY DES:BILL PAY ID: INDN:JESUS RAMIREZ...   \n",
       "1  PURCHASE DD DOORDASH WALGREENS 855-973- CA . T...   \n",
       "2  PUBLIX # PINSON AL. Type: merchant. Channel: i...   \n",
       "3  VONS . Type: merchant. Channel: in store. Amou...   \n",
       "4  GRID*Payment s4b7psgpm3 getgrid.app CA. Type: ...   \n",
       "\n",
       "                      description_combined_processed  \\\n",
       "0  DUKEENERGY DES:BILL PAY ID: INDN:JESUS RAMIREZ...   \n",
       "1        PURCHASE DD DOORDASH WALGREENS 855-973- CA    \n",
       "2                                 PUBLIX # PINSON AL   \n",
       "3                                              VONS    \n",
       "4             GRID*Payment s4b7psgpm3 getgrid.app CA   \n",
       "\n",
       "  true_merchant_name_combined  is_duplicate original_merchant_name_combined  \\\n",
       "0                 Duke Energy             0                     Duke Energy   \n",
       "1                   Walgreens             0                       Walgreens   \n",
       "2                      Publix             0                          Publix   \n",
       "3                  Vons Store             0                      Vons Store   \n",
       "4                        Grid             0                            Grid   \n",
       "\n",
       "   amount merchant_name_combined  true_label     label  len_sentence  \n",
       "0   -65.4                   eBay           0  0.204800             9  \n",
       "1   -46.8              Walgreens           1  0.975303             7  \n",
       "2   -12.7                 Publix           1  0.840036             4  \n",
       "3   -10.7             Vons Store           1  0.644013             2  \n",
       "4   -63.0                 Subway           0  0.115184             4  "
      ]
     },
     "execution_count": 22,
     "metadata": {},
     "output_type": "execute_result"
    }
   ],
   "source": [
    "df_train.head()"
   ]
  },
  {
   "cell_type": "code",
   "execution_count": null,
   "metadata": {},
   "outputs": [
    {
     "name": "stdout",
     "output_type": "stream",
     "text": [
      "PURCHASE DD DOORDASH WALGREENS 855-973- CA \n"
     ]
    }
   ],
   "source": [
    "one_sent = df_train[text_col][0]\n",
    "print(df_train[text_col][1])"
   ]
  },
  {
   "cell_type": "code",
   "execution_count": null,
   "metadata": {},
   "outputs": [],
   "source": [
    "df_train['label'] = df_train['label'].astype('float32')\n",
    "df_train['true_label'] = df_train['true_label'].astype('float32')\n",
    "#train_examples = [InputExample(texts = [df_train.loc[i,'sentence'], df_train.loc[i,'merchant_name_combined']], label=df_train.loc[i,'true_label']  ) for i in range(df_train.shape[0])]"
   ]
  },
  {
   "cell_type": "code",
   "execution_count": null,
   "metadata": {},
   "outputs": [],
   "source": [
    "df_train.reset_index(drop=True, inplace=True)\n",
    "df_test.reset_index(drop=True, inplace=True)\n",
    "df_val.reset_index(drop=True, inplace=True)"
   ]
  },
  {
   "cell_type": "code",
   "execution_count": null,
   "metadata": {},
   "outputs": [],
   "source": [
    "from torch.utils.data import Dataset, DataLoader\n",
    "from sentence_transformers.losses import CoSENTLoss\n"
   ]
  },
  {
   "cell_type": "code",
   "execution_count": null,
   "metadata": {},
   "outputs": [],
   "source": [
    "from datasets import Dataset\n",
    "\n",
    "ds_train = Dataset.from_pandas(df_train[['true_label',text_col,'merchant_name_combined']])\n",
    "ds_val = Dataset.from_pandas(df_val[['true_label',text_col,'merchant_name_combined']])\n",
    "ds_test = Dataset.from_pandas(df_test[['true_label',text_col,'merchant_name_combined']])\n",
    "\n",
    "ds_train = ds_train.rename_columns({\"true_label\": \"score\",text_col:\"sentence1\", \"merchant_name_combined\":\"sentence2\"})\n",
    "ds_val = ds_val.rename_columns({\"true_label\": \"score\",text_col:\"sentence1\", \"merchant_name_combined\":\"sentence2\"})\n",
    "ds_test = ds_test.rename_columns({\"true_label\": \"score\",text_col:\"sentence1\", \"merchant_name_combined\":\"sentence2\"})\n",
    "\n"
   ]
  },
  {
   "cell_type": "code",
   "execution_count": null,
   "metadata": {},
   "outputs": [
    {
     "data": {
      "text/plain": [
       "Dataset({\n",
       "    features: ['score', 'sentence1', 'sentence2'],\n",
       "    num_rows: 559969\n",
       "})"
      ]
     },
     "execution_count": 28,
     "metadata": {},
     "output_type": "execute_result"
    }
   ],
   "source": [
    "ds_test"
   ]
  },
  {
   "cell_type": "code",
   "execution_count": null,
   "metadata": {},
   "outputs": [
    {
     "name": "stdout",
     "output_type": "stream",
     "text": [
      "Directory already exists!\n"
     ]
    }
   ],
   "source": [
    "import os\n",
    "directory = \"/home/sagemaker-user/logs\"\n",
    "\n",
    "# Check if the directory already exists\n",
    "if not os.path.exists(directory):\n",
    "    # Create the directory\n",
    "    os.makedirs(directory)\n",
    "    print(\"Directory created successfully!\")\n",
    "else:\n",
    "    print(\"Directory already exists!\")"
   ]
  },
  {
   "cell_type": "code",
   "execution_count": null,
   "metadata": {},
   "outputs": [],
   "source": []
  },
  {
   "cell_type": "code",
   "execution_count": null,
   "metadata": {},
   "outputs": [],
   "source": []
  },
  {
   "cell_type": "code",
   "execution_count": null,
   "metadata": {},
   "outputs": [
    {
     "data": {
      "text/plain": [
       "{'score': 0,\n",
       " 'sentence1': '# MICROSOFT*XBOX REDMOND WA Card 20 # ',\n",
       " 'sentence2': 'Bank of America ATM'}"
      ]
     },
     "execution_count": 30,
     "metadata": {},
     "output_type": "execute_result"
    }
   ],
   "source": [
    "ds_val[0]"
   ]
  },
  {
   "cell_type": "code",
   "execution_count": null,
   "metadata": {},
   "outputs": [],
   "source": [
    "dev_evaluator = EmbeddingSimilarityEvaluator(\n",
    "    sentences1=df_val[text_col],\n",
    "    sentences2=df_val[\"merchant_name_combined\"],\n",
    "    scores=df_val[\"true_label\"],\n",
    "    main_similarity=SimilarityFunction.COSINE,\n",
    "    name=\"sts-dev\",\n",
    ")"
   ]
  },
  {
   "cell_type": "code",
   "execution_count": null,
   "metadata": {},
   "outputs": [],
   "source": [
    "#dev_evaluator(model)\n"
   ]
  },
  {
   "cell_type": "code",
   "execution_count": null,
   "metadata": {},
   "outputs": [],
   "source": [
    "train_loss = CoSENTLoss(model)"
   ]
  },
  {
   "cell_type": "code",
   "execution_count": null,
   "metadata": {},
   "outputs": [
    {
     "name": "stderr",
     "output_type": "stream",
     "text": [
      "Detected kernel version 4.14.344, which is below the recommended minimum of 5.5.0; this can cause the process to hang. It is recommended to upgrade the kernel to the minimum version or higher.\n"
     ]
    },
    {
     "ename": "TypeError",
     "evalue": "TrainerState.__init__() got an unexpected keyword argument 'stateful_callbacks'",
     "output_type": "error",
     "traceback": [
      "\u001b[0;31m---------------------------------------------------------------------------\u001b[0m",
      "\u001b[0;31mTypeError\u001b[0m                                 Traceback (most recent call last)",
      "\u001b[1;32m/home/sagemaker-user/clean_git/exploration/MERCHANTS/Biencoder_v2_sbert_clean2.ipynb Cell 38\u001b[0m line \u001b[0;36m1\n\u001b[1;32m      <a href='vscode-notebook-cell://yd6plnil3hw8unc.studio.us-east-1.sagemaker.aws/home/sagemaker-user/clean_git/exploration/MERCHANTS/Biencoder_v2_sbert_clean2.ipynb#Y251sdnNjb2RlLXJlbW90ZQ%3D%3D?line=0'>1</a>\u001b[0m \u001b[39m# 7. Create a trainer & train\u001b[39;00m\n\u001b[1;32m      <a href='vscode-notebook-cell://yd6plnil3hw8unc.studio.us-east-1.sagemaker.aws/home/sagemaker-user/clean_git/exploration/MERCHANTS/Biencoder_v2_sbert_clean2.ipynb#Y251sdnNjb2RlLXJlbW90ZQ%3D%3D?line=1'>2</a>\u001b[0m trainer \u001b[39m=\u001b[39m SentenceTransformerTrainer(\n\u001b[1;32m      <a href='vscode-notebook-cell://yd6plnil3hw8unc.studio.us-east-1.sagemaker.aws/home/sagemaker-user/clean_git/exploration/MERCHANTS/Biencoder_v2_sbert_clean2.ipynb#Y251sdnNjb2RlLXJlbW90ZQ%3D%3D?line=2'>3</a>\u001b[0m     model\u001b[39m=\u001b[39mmodel,\n\u001b[1;32m      <a href='vscode-notebook-cell://yd6plnil3hw8unc.studio.us-east-1.sagemaker.aws/home/sagemaker-user/clean_git/exploration/MERCHANTS/Biencoder_v2_sbert_clean2.ipynb#Y251sdnNjb2RlLXJlbW90ZQ%3D%3D?line=3'>4</a>\u001b[0m     args\u001b[39m=\u001b[39margs,\n\u001b[0;32m   (...)\u001b[0m\n\u001b[1;32m      <a href='vscode-notebook-cell://yd6plnil3hw8unc.studio.us-east-1.sagemaker.aws/home/sagemaker-user/clean_git/exploration/MERCHANTS/Biencoder_v2_sbert_clean2.ipynb#Y251sdnNjb2RlLXJlbW90ZQ%3D%3D?line=7'>8</a>\u001b[0m     \u001b[39m#evaluator=dev_evaluator,\u001b[39;00m\n\u001b[1;32m      <a href='vscode-notebook-cell://yd6plnil3hw8unc.studio.us-east-1.sagemaker.aws/home/sagemaker-user/clean_git/exploration/MERCHANTS/Biencoder_v2_sbert_clean2.ipynb#Y251sdnNjb2RlLXJlbW90ZQ%3D%3D?line=8'>9</a>\u001b[0m )\n\u001b[0;32m---> <a href='vscode-notebook-cell://yd6plnil3hw8unc.studio.us-east-1.sagemaker.aws/home/sagemaker-user/clean_git/exploration/MERCHANTS/Biencoder_v2_sbert_clean2.ipynb#Y251sdnNjb2RlLXJlbW90ZQ%3D%3D?line=9'>10</a>\u001b[0m trainer\u001b[39m.\u001b[39;49mtrain(resume_from_checkpoint\u001b[39m=\u001b[39;49m\u001b[39m\"\u001b[39;49m\u001b[39m/home/sagemaker-user/models/model9/checkpoint-1600\u001b[39;49m\u001b[39m\"\u001b[39;49m)\n",
      "File \u001b[0;32m/opt/conda/lib/python3.10/site-packages/transformers/trainer.py:1833\u001b[0m, in \u001b[0;36mTrainer.train\u001b[0;34m(self, resume_from_checkpoint, trial, ignore_keys_for_eval, **kwargs)\u001b[0m\n\u001b[1;32m   1831\u001b[0m     \u001b[39mself\u001b[39m\u001b[39m.\u001b[39m_load_from_checkpoint(resume_from_checkpoint)\n\u001b[1;32m   1832\u001b[0m \u001b[39m# In case of repeating the find_executable_batch_size, set `self._train_batch_size` properly\u001b[39;00m\n\u001b[0;32m-> 1833\u001b[0m state \u001b[39m=\u001b[39m TrainerState\u001b[39m.\u001b[39;49mload_from_json(os\u001b[39m.\u001b[39;49mpath\u001b[39m.\u001b[39;49mjoin(resume_from_checkpoint, TRAINER_STATE_NAME))\n\u001b[1;32m   1834\u001b[0m \u001b[39mif\u001b[39;00m state\u001b[39m.\u001b[39mtrain_batch_size \u001b[39mis\u001b[39;00m \u001b[39mnot\u001b[39;00m \u001b[39mNone\u001b[39;00m:\n\u001b[1;32m   1835\u001b[0m     \u001b[39mself\u001b[39m\u001b[39m.\u001b[39m_train_batch_size \u001b[39m=\u001b[39m state\u001b[39m.\u001b[39mtrain_batch_size\n",
      "File \u001b[0;32m/opt/conda/lib/python3.10/site-packages/transformers/trainer_callback.py:123\u001b[0m, in \u001b[0;36mTrainerState.load_from_json\u001b[0;34m(cls, json_path)\u001b[0m\n\u001b[1;32m    121\u001b[0m \u001b[39mwith\u001b[39;00m \u001b[39mopen\u001b[39m(json_path, \u001b[39m\"\u001b[39m\u001b[39mr\u001b[39m\u001b[39m\"\u001b[39m, encoding\u001b[39m=\u001b[39m\u001b[39m\"\u001b[39m\u001b[39mutf-8\u001b[39m\u001b[39m\"\u001b[39m) \u001b[39mas\u001b[39;00m f:\n\u001b[1;32m    122\u001b[0m     text \u001b[39m=\u001b[39m f\u001b[39m.\u001b[39mread()\n\u001b[0;32m--> 123\u001b[0m \u001b[39mreturn\u001b[39;00m \u001b[39mcls\u001b[39;49m(\u001b[39m*\u001b[39;49m\u001b[39m*\u001b[39;49mjson\u001b[39m.\u001b[39;49mloads(text))\n",
      "\u001b[0;31mTypeError\u001b[0m: TrainerState.__init__() got an unexpected keyword argument 'stateful_callbacks'"
     ]
    }
   ],
   "source": [
    "# 7. Create a trainer & train\n",
    "trainer = SentenceTransformerTrainer(\n",
    "    model=model,\n",
    "    args=args,\n",
    "    train_dataset=ds_train,\n",
    "    eval_dataset=ds_val,\n",
    "    loss=train_loss,\n",
    "    #evaluator=dev_evaluator,\n",
    ")\n",
    "trainer.train(resume_from_checkpoint=\"/home/sagemaker-user/models/model9/checkpoint-5000\")\n"
   ]
  },
  {
   "cell_type": "code",
   "execution_count": null,
   "metadata": {},
   "outputs": [],
   "source": []
  },
  {
   "cell_type": "code",
   "execution_count": null,
   "metadata": {},
   "outputs": [
    {
     "name": "stderr",
     "output_type": "stream",
     "text": [
      "huggingface/tokenizers: The current process just got forked, after parallelism has already been used. Disabling parallelism to avoid deadlocks...\n",
      "To disable this warning, you can either:\n",
      "\t- Avoid using `tokenizers` before the fork if possible\n",
      "\t- Explicitly set the environment variable TOKENIZERS_PARALLELISM=(true | false)\n"
     ]
    },
    {
     "name": "stdout",
     "output_type": "stream",
     "text": [
      "Requirement already satisfied: sentence_transformers in /opt/conda/lib/python3.10/site-packages (3.0.0)\n",
      "Requirement already satisfied: transformers<5.0.0,>=4.34.0 in /opt/conda/lib/python3.10/site-packages (from sentence_transformers) (4.41.2)\n",
      "Requirement already satisfied: tqdm in /opt/conda/lib/python3.10/site-packages (from sentence_transformers) (4.66.4)\n",
      "Requirement already satisfied: torch>=1.11.0 in /opt/conda/lib/python3.10/site-packages (from sentence_transformers) (2.0.0.post200)\n",
      "Requirement already satisfied: numpy in /opt/conda/lib/python3.10/site-packages (from sentence_transformers) (1.26.4)\n",
      "Requirement already satisfied: scikit-learn in /opt/conda/lib/python3.10/site-packages (from sentence_transformers) (1.4.2)\n",
      "Requirement already satisfied: scipy in /opt/conda/lib/python3.10/site-packages (from sentence_transformers) (1.11.4)\n",
      "Requirement already satisfied: huggingface-hub>=0.15.1 in /opt/conda/lib/python3.10/site-packages (from sentence_transformers) (0.23.0)\n",
      "Requirement already satisfied: Pillow in /opt/conda/lib/python3.10/site-packages (from sentence_transformers) (9.5.0)\n",
      "Requirement already satisfied: filelock in /opt/conda/lib/python3.10/site-packages (from huggingface-hub>=0.15.1->sentence_transformers) (3.14.0)\n",
      "Requirement already satisfied: fsspec>=2023.5.0 in /opt/conda/lib/python3.10/site-packages (from huggingface-hub>=0.15.1->sentence_transformers) (2023.6.0)\n",
      "Requirement already satisfied: packaging>=20.9 in /opt/conda/lib/python3.10/site-packages (from huggingface-hub>=0.15.1->sentence_transformers) (23.2)\n",
      "Requirement already satisfied: pyyaml>=5.1 in /opt/conda/lib/python3.10/site-packages (from huggingface-hub>=0.15.1->sentence_transformers) (6.0.1)\n",
      "Requirement already satisfied: requests in /opt/conda/lib/python3.10/site-packages (from huggingface-hub>=0.15.1->sentence_transformers) (2.31.0)\n",
      "Requirement already satisfied: typing-extensions>=3.7.4.3 in /opt/conda/lib/python3.10/site-packages (from huggingface-hub>=0.15.1->sentence_transformers) (4.5.0)\n",
      "Requirement already satisfied: sympy in /opt/conda/lib/python3.10/site-packages (from torch>=1.11.0->sentence_transformers) (1.12)\n",
      "Requirement already satisfied: networkx in /opt/conda/lib/python3.10/site-packages (from torch>=1.11.0->sentence_transformers) (3.3)\n",
      "Requirement already satisfied: jinja2 in /opt/conda/lib/python3.10/site-packages (from torch>=1.11.0->sentence_transformers) (3.1.4)\n",
      "Requirement already satisfied: regex!=2019.12.17 in /opt/conda/lib/python3.10/site-packages (from transformers<5.0.0,>=4.34.0->sentence_transformers) (2024.5.10)\n",
      "Requirement already satisfied: tokenizers<0.20,>=0.19 in /opt/conda/lib/python3.10/site-packages (from transformers<5.0.0,>=4.34.0->sentence_transformers) (0.19.1)\n",
      "Requirement already satisfied: safetensors>=0.4.1 in /opt/conda/lib/python3.10/site-packages (from transformers<5.0.0,>=4.34.0->sentence_transformers) (0.4.3)\n",
      "Requirement already satisfied: joblib>=1.2.0 in /opt/conda/lib/python3.10/site-packages (from scikit-learn->sentence_transformers) (1.4.2)\n",
      "Requirement already satisfied: threadpoolctl>=2.0.0 in /opt/conda/lib/python3.10/site-packages (from scikit-learn->sentence_transformers) (3.5.0)\n",
      "Requirement already satisfied: MarkupSafe>=2.0 in /opt/conda/lib/python3.10/site-packages (from jinja2->torch>=1.11.0->sentence_transformers) (2.1.5)\n",
      "Requirement already satisfied: charset-normalizer<4,>=2 in /opt/conda/lib/python3.10/site-packages (from requests->huggingface-hub>=0.15.1->sentence_transformers) (3.3.2)\n",
      "Requirement already satisfied: idna<4,>=2.5 in /opt/conda/lib/python3.10/site-packages (from requests->huggingface-hub>=0.15.1->sentence_transformers) (3.7)\n",
      "Requirement already satisfied: urllib3<3,>=1.21.1 in /opt/conda/lib/python3.10/site-packages (from requests->huggingface-hub>=0.15.1->sentence_transformers) (1.26.18)\n",
      "Requirement already satisfied: certifi>=2017.4.17 in /opt/conda/lib/python3.10/site-packages (from requests->huggingface-hub>=0.15.1->sentence_transformers) (2024.2.2)\n",
      "Requirement already satisfied: mpmath>=0.19 in /opt/conda/lib/python3.10/site-packages (from sympy->torch>=1.11.0->sentence_transformers) (1.3.0)\n",
      "Note: you may need to restart the kernel to use updated packages.\n"
     ]
    }
   ],
   "source": [
    "# # (Optional) Evaluate the trained model on the test set\n",
    "# test_evaluator = TripletEvaluator(\n",
    "#     anchors=df_test[\"sentence\"],\n",
    "#     positives=df_test[\"true_merchant_name_combined\"],\n",
    "#     negatives=test_dataset[\"true_label\"],\n",
    "#     name=\"pairs-test1\",\n",
    "# )\n",
    "# test_evaluator(model)\n",
    "\n",
    "# 8. Save the trained model\n",
    "model.save_pretrained(\"/home/sagemaker-user/models/model9final\")"
   ]
  },
  {
   "cell_type": "code",
   "execution_count": null,
   "metadata": {},
   "outputs": [
    {
     "name": "stdout",
     "output_type": "stream",
     "text": [
      "1_Pooling\t\t\t   scheduler.pt\n",
      "README.md\t\t\t   sentence_bert_config.json\n",
      "config.json\t\t\t   special_tokens_map.json\n",
      "config_sentence_transformers.json  tokenizer.json\n",
      "model.safetensors\t\t   tokenizer_config.json\n",
      "modules.json\t\t\t   trainer_state.json\n",
      "optimizer.pt\t\t\t   training_args.bin\n",
      "rng_state.pth\t\t\t   vocab.txt\n"
     ]
    },
    {
     "name": "stderr",
     "output_type": "stream",
     "text": [
      "huggingface/tokenizers: The current process just got forked, after parallelism has already been used. Disabling parallelism to avoid deadlocks...\n",
      "To disable this warning, you can either:\n",
      "\t- Avoid using `tokenizers` before the fork if possible\n",
      "\t- Explicitly set the environment variable TOKENIZERS_PARALLELISM=(true | false)\n"
     ]
    }
   ],
   "source": [
    "#!ls ./models/model1/checkpoint-600"
   ]
  },
  {
   "cell_type": "code",
   "execution_count": null,
   "metadata": {},
   "outputs": [
    {
     "name": "stdout",
     "output_type": "stream",
     "text": [
      "Successfully uploaded ./models/model1/checkpoint-600/config_sentence_transformers.json to s3://cleo-data-science/transaction_enrichment/experimental_data/caste/pairs_model/model1-checkpoint600/config_sentence_transformers.json\n",
      "Successfully uploaded ./models/model1/checkpoint-600/config.json to s3://cleo-data-science/transaction_enrichment/experimental_data/caste/pairs_model/model1-checkpoint600/config.json\n",
      "Successfully uploaded ./models/model1/checkpoint-600/model.safetensors to s3://cleo-data-science/transaction_enrichment/experimental_data/caste/pairs_model/model1-checkpoint600/model.safetensors\n",
      "Successfully uploaded ./models/model1/checkpoint-600/tokenizer_config.json to s3://cleo-data-science/transaction_enrichment/experimental_data/caste/pairs_model/model1-checkpoint600/tokenizer_config.json\n",
      "Successfully uploaded ./models/model1/checkpoint-600/special_tokens_map.json to s3://cleo-data-science/transaction_enrichment/experimental_data/caste/pairs_model/model1-checkpoint600/special_tokens_map.json\n",
      "Successfully uploaded ./models/model1/checkpoint-600/vocab.txt to s3://cleo-data-science/transaction_enrichment/experimental_data/caste/pairs_model/model1-checkpoint600/vocab.txt\n",
      "Successfully uploaded ./models/model1/checkpoint-600/tokenizer.json to s3://cleo-data-science/transaction_enrichment/experimental_data/caste/pairs_model/model1-checkpoint600/tokenizer.json\n",
      "Successfully uploaded ./models/model1/checkpoint-600/sentence_bert_config.json to s3://cleo-data-science/transaction_enrichment/experimental_data/caste/pairs_model/model1-checkpoint600/sentence_bert_config.json\n",
      "Successfully uploaded ./models/model1/checkpoint-600/modules.json to s3://cleo-data-science/transaction_enrichment/experimental_data/caste/pairs_model/model1-checkpoint600/modules.json\n",
      "Successfully uploaded ./models/model1/checkpoint-600/README.md to s3://cleo-data-science/transaction_enrichment/experimental_data/caste/pairs_model/model1-checkpoint600/README.md\n",
      "Successfully uploaded ./models/model1/checkpoint-600/training_args.bin to s3://cleo-data-science/transaction_enrichment/experimental_data/caste/pairs_model/model1-checkpoint600/training_args.bin\n",
      "Successfully uploaded ./models/model1/checkpoint-600/optimizer.pt to s3://cleo-data-science/transaction_enrichment/experimental_data/caste/pairs_model/model1-checkpoint600/optimizer.pt\n",
      "Successfully uploaded ./models/model1/checkpoint-600/scheduler.pt to s3://cleo-data-science/transaction_enrichment/experimental_data/caste/pairs_model/model1-checkpoint600/scheduler.pt\n",
      "Successfully uploaded ./models/model1/checkpoint-600/rng_state.pth to s3://cleo-data-science/transaction_enrichment/experimental_data/caste/pairs_model/model1-checkpoint600/rng_state.pth\n",
      "Successfully uploaded ./models/model1/checkpoint-600/trainer_state.json to s3://cleo-data-science/transaction_enrichment/experimental_data/caste/pairs_model/model1-checkpoint600/trainer_state.json\n",
      "Successfully uploaded ./models/model1/checkpoint-600/1_Pooling/config.json to s3://cleo-data-science/transaction_enrichment/experimental_data/caste/pairs_model/model1-checkpoint600/1_Pooling/config.json\n"
     ]
    }
   ],
   "source": [
    "#copy \n",
    "import os\n",
    "import boto3\n",
    "from botocore.exceptions import NoCredentialsError, PartialCredentialsError\n",
    "\n",
    "def upload_directory_to_s3(local_directory, bucket_name, s3_directory):\n",
    "    s3_client = boto3.client('s3')\n",
    "\n",
    "    for root, dirs, files in os.walk(local_directory):\n",
    "        for file in files:\n",
    "            local_path = os.path.join(root, file)\n",
    "            relative_path = os.path.relpath(local_path, local_directory)\n",
    "            s3_path = os.path.join(s3_directory, relative_path)\n",
    "\n",
    "            try:\n",
    "                s3_client.upload_file(local_path, bucket_name, s3_path)\n",
    "                print(f'Successfully uploaded {local_path} to s3://{bucket_name}/{s3_path}')\n",
    "            except FileNotFoundError:\n",
    "                print(f'The file {local_path} was not found')\n",
    "            except NoCredentialsError:\n",
    "                print('Credentials not available')\n",
    "            except PartialCredentialsError:\n",
    "                print('Incomplete credentials provided')\n",
    "\n",
    "# Example usage\n",
    "local_directory = \"/home/sagemaker-user/models/model4\"\"\n",
    "bucket_name = 'cleo-data-science'\n",
    "s3_directory = \"transaction_enrichment/experimental_data/caste/pairs_model/model4\"\n",
    "\n",
    "upload_directory_to_s3(local_directory, bucket_name, s3_directory)\n"
   ]
  },
  {
   "cell_type": "code",
   "execution_count": null,
   "metadata": {},
   "outputs": [],
   "source": [
    "## \n",
    "#model = SentenceTransformer(\"./models/model1/checkpoint-600\")\n"
   ]
  },
  {
   "cell_type": "code",
   "execution_count": null,
   "metadata": {},
   "outputs": [],
   "source": [
    "list_unique_merchants = df_train['merchant_name_combined'].tolist()\n",
    "embeddings_merchants = model.encode(list_unique_merchants)\n",
    "embeddings_merchants.shape"
   ]
  },
  {
   "cell_type": "code",
   "execution_count": null,
   "metadata": {},
   "outputs": [],
   "source": [
    "df_test['pred_merchant'] = None\n",
    "df_test['pred_prob'] = 0.0\n",
    "batch_size = 1000"
   ]
  },
  {
   "cell_type": "code",
   "execution_count": null,
   "metadata": {},
   "outputs": [
    {
     "data": {
      "text/plain": [
       "(5000, 10)"
      ]
     },
     "execution_count": 92,
     "metadata": {},
     "output_type": "execute_result"
    }
   ],
   "source": [
    "df_test.shape"
   ]
  },
  {
   "cell_type": "code",
   "execution_count": null,
   "metadata": {},
   "outputs": [
    {
     "name": "stdout",
     "output_type": "stream",
     "text": [
      "0 1000\n",
      "torch.Size([1000, 85500])\n",
      "1000 2000\n",
      "torch.Size([1000, 85500])\n",
      "2000 3000\n",
      "torch.Size([1000, 85500])\n",
      "3000 4000\n",
      "torch.Size([1000, 85500])\n",
      "4000 5000\n",
      "torch.Size([1000, 85500])\n"
     ]
    }
   ],
   "source": [
    "for istart in np.arange(0, df_test.shape[0]+1, batch_size):\n",
    "    iend = min(df_test.shape[0],istart + batch_size)\n",
    "    if iend> istart:\n",
    "        print(istart, iend)\n",
    "        tx_embeddings = model.encode(df_test['sentence'][istart:iend].tolist())\n",
    "        similarities = model.similarity(tx_embeddings, embeddings_merchants)\n",
    "        print(similarities.shape)\n",
    "        max_vals = torch.max(similarities, axis=1)\n",
    "        max_probs = max_vals[0]\n",
    "        ix_max_merchants = max_vals[1]\n",
    "        predicted_merchant = [list_unique_merchants[i] for i in ix_max_merchants]\n",
    "        df_test.loc[istart:iend-1,'pred_merchant'] =  predicted_merchant\n",
    "        df_test.loc[istart:iend-1,'pred_prob'] =  np.array(max_probs)"
   ]
  },
  {
   "cell_type": "code",
   "execution_count": null,
   "metadata": {},
   "outputs": [
    {
     "name": "stdout",
     "output_type": "stream",
     "text": [
      "0.9052\n"
     ]
    }
   ],
   "source": [
    "ntrue = df_test[df_test['pred_merchant'] == df_test['true_merchant_name_combined']].shape[0]\n",
    "\n",
    "precision = ntrue/df_test.shape[0]\n",
    "print(precision)"
   ]
  },
  {
   "cell_type": "code",
   "execution_count": null,
   "metadata": {},
   "outputs": [],
   "source": [
    "ntrue = df_test[(df_test['pred_merchant'] == df_test['true_merchant_name_combined']) & (df_test['pred_prob']>0.8)].shape[0]\n",
    "\n",
    "accuracy = ntrue/df_test.shape[0]\n",
    "print(accuracy)"
   ]
  },
  {
   "cell_type": "code",
   "execution_count": null,
   "metadata": {},
   "outputs": [],
   "source": [
    "#tp/tp + fp\n",
    "\n"
   ]
  },
  {
   "cell_type": "code",
   "execution_count": null,
   "metadata": {},
   "outputs": [
    {
     "data": {
      "text/html": [
       "<div>\n",
       "<style scoped>\n",
       "    .dataframe tbody tr th:only-of-type {\n",
       "        vertical-align: middle;\n",
       "    }\n",
       "\n",
       "    .dataframe tbody tr th {\n",
       "        vertical-align: top;\n",
       "    }\n",
       "\n",
       "    .dataframe thead th {\n",
       "        text-align: right;\n",
       "    }\n",
       "</style>\n",
       "<table border=\"1\" class=\"dataframe\">\n",
       "  <thead>\n",
       "    <tr style=\"text-align: right;\">\n",
       "      <th></th>\n",
       "      <th>transaction_id</th>\n",
       "      <th>sentence</th>\n",
       "      <th>sentence2</th>\n",
       "      <th>description_combined_processed</th>\n",
       "      <th>true_merchant_name_combined</th>\n",
       "      <th>merchant_name_combined</th>\n",
       "      <th>true_label</th>\n",
       "      <th>label</th>\n",
       "      <th>pred_merchant</th>\n",
       "      <th>pred_prob</th>\n",
       "    </tr>\n",
       "  </thead>\n",
       "  <tbody>\n",
       "    <tr>\n",
       "      <th>0</th>\n",
       "      <td>9796686754</td>\n",
       "      <td>Wal-Mart Super WAL-SAMS SPRINGFIELD MO. Channe...</td>\n",
       "      <td>Wal-Mart Super WAL-SAMS SPRINGFIELD MO. Type: ...</td>\n",
       "      <td>Wal-Mart Super WAL-SAMS SPRINGFIELD MO</td>\n",
       "      <td>Walmart</td>\n",
       "      <td>Smith''s</td>\n",
       "      <td>0</td>\n",
       "      <td>0.310292</td>\n",
       "      <td>Wal Wal-martsuper</td>\n",
       "      <td>0.799137</td>\n",
       "    </tr>\n",
       "    <tr>\n",
       "      <th>1</th>\n",
       "      <td>9799290885</td>\n",
       "      <td>PURCHASE AUTHORIZED ON 05/14 WM SUPERC Wal-Mar...</td>\n",
       "      <td>PURCHASE AUTHORIZED ON 05/14 WM SUPERC Wal-Mar...</td>\n",
       "      <td>PURCHASE AUTHORIZED ON 05/14 WM SUPERC Wal-Mar...</td>\n",
       "      <td>Walmart</td>\n",
       "      <td>Synchrony</td>\n",
       "      <td>0</td>\n",
       "      <td>0.232759</td>\n",
       "      <td>Wal Wal-martsuper</td>\n",
       "      <td>0.775473</td>\n",
       "    </tr>\n",
       "    <tr>\n",
       "      <th>2</th>\n",
       "      <td>9798904474</td>\n",
       "      <td>Walmart.com Bentonville AR XX SIG PURCH 05/13 ...</td>\n",
       "      <td>Walmart.com Bentonville AR XX SIG PURCH 05/13 ...</td>\n",
       "      <td>Walmart.com Bentonville AR XX SIG PURCH 05/13 ...</td>\n",
       "      <td>Walmart</td>\n",
       "      <td>QuikTrip</td>\n",
       "      <td>0</td>\n",
       "      <td>0.075148</td>\n",
       "      <td>Wal Wal-martsuper</td>\n",
       "      <td>0.751793</td>\n",
       "    </tr>\n",
       "    <tr>\n",
       "      <th>3</th>\n",
       "      <td>9801927063</td>\n",
       "      <td>PURCHASE AUTHORIZED ON 05/11 WALMART.COM 800-9...</td>\n",
       "      <td>PURCHASE AUTHORIZED ON 05/11 WALMART.COM 800-9...</td>\n",
       "      <td>PURCHASE AUTHORIZED ON 05/11 WALMART.COM 800-9...</td>\n",
       "      <td>Walmart</td>\n",
       "      <td>Cash App</td>\n",
       "      <td>0</td>\n",
       "      <td>0.078535</td>\n",
       "      <td>Wal Wal-martsuper</td>\n",
       "      <td>0.735269</td>\n",
       "    </tr>\n",
       "    <tr>\n",
       "      <th>4</th>\n",
       "      <td>9799263021</td>\n",
       "      <td>05/13 22:02 WAL-MART # JONESBORO AR CKCD DEBIT...</td>\n",
       "      <td>05/13 22:02 WAL-MART # JONESBORO AR CKCD DEBIT...</td>\n",
       "      <td>05/13 22:02 WAL-MART # JONESBORO AR CKCD DEBIT</td>\n",
       "      <td>Walmart</td>\n",
       "      <td>Marathon Petroleum</td>\n",
       "      <td>0</td>\n",
       "      <td>0.257865</td>\n",
       "      <td>Wal Wal-martsuper</td>\n",
       "      <td>0.751371</td>\n",
       "    </tr>\n",
       "    <tr>\n",
       "      <th>...</th>\n",
       "      <td>...</td>\n",
       "      <td>...</td>\n",
       "      <td>...</td>\n",
       "      <td>...</td>\n",
       "      <td>...</td>\n",
       "      <td>...</td>\n",
       "      <td>...</td>\n",
       "      <td>...</td>\n",
       "      <td>...</td>\n",
       "      <td>...</td>\n",
       "    </tr>\n",
       "    <tr>\n",
       "      <th>469</th>\n",
       "      <td>9807244423</td>\n",
       "      <td>PURCHASE AUTHORIZED ON 05/14 WM SUPERC Wal-Mar...</td>\n",
       "      <td>PURCHASE AUTHORIZED ON 05/14 WM SUPERC Wal-Mar...</td>\n",
       "      <td>PURCHASE AUTHORIZED ON 05/14 WM SUPERC Wal-Mar...</td>\n",
       "      <td>Walmart</td>\n",
       "      <td>Spinstersis</td>\n",
       "      <td>0</td>\n",
       "      <td>0.051089</td>\n",
       "      <td>Wal Wal-martsuper</td>\n",
       "      <td>0.772779</td>\n",
       "    </tr>\n",
       "    <tr>\n",
       "      <th>470</th>\n",
       "      <td>9808452776</td>\n",
       "      <td>Walmart.com 05/14 #XXXXX REFUND Walmart.com Be...</td>\n",
       "      <td>Walmart.com 05/14 #XXXXX REFUND Walmart.com Be...</td>\n",
       "      <td>Walmart.com 05/14 #XXXXX REFUND Walmart.com Be...</td>\n",
       "      <td>Walmart</td>\n",
       "      <td>K Stop Convenience</td>\n",
       "      <td>0</td>\n",
       "      <td>0.018743</td>\n",
       "      <td>Wal Wal-martsuper</td>\n",
       "      <td>0.713919</td>\n",
       "    </tr>\n",
       "    <tr>\n",
       "      <th>471</th>\n",
       "      <td>9798778036</td>\n",
       "      <td>Point of Sale Debit L341 TIME 04:30 PM DATE 05...</td>\n",
       "      <td>Point of Sale Debit L341 TIME 04:30 PM DATE 05...</td>\n",
       "      <td>Point of Sale Debit L341 TIME 04:30 PM DATE 05...</td>\n",
       "      <td>Walmart</td>\n",
       "      <td>Ross Stores</td>\n",
       "      <td>0</td>\n",
       "      <td>0.114881</td>\n",
       "      <td>Wal Wal-martsuper</td>\n",
       "      <td>0.766499</td>\n",
       "    </tr>\n",
       "    <tr>\n",
       "      <th>472</th>\n",
       "      <td>9807593604</td>\n",
       "      <td>CHECKCARD WALMART STA ELENA LA LIBERTAD XXXXX ...</td>\n",
       "      <td>CHECKCARD WALMART STA ELENA LA LIBERTAD XXXXX ...</td>\n",
       "      <td>CHECKCARD WALMART STA ELENA LA LIBERTAD XXXXX ...</td>\n",
       "      <td>Walmart</td>\n",
       "      <td>Lyft</td>\n",
       "      <td>0</td>\n",
       "      <td>0.116438</td>\n",
       "      <td>Wal Wal-martsuper</td>\n",
       "      <td>0.751746</td>\n",
       "    </tr>\n",
       "    <tr>\n",
       "      <th>473</th>\n",
       "      <td>9799287551</td>\n",
       "      <td>WM SUPERCENTER # GLENVILLE NY. Channel: in sto...</td>\n",
       "      <td>WM SUPERCENTER # GLENVILLE NY. Type: merchant....</td>\n",
       "      <td>WM SUPERCENTER # GLENVILLE NY</td>\n",
       "      <td>Walmart</td>\n",
       "      <td>Crenco</td>\n",
       "      <td>0</td>\n",
       "      <td>0.015229</td>\n",
       "      <td>Wal Wal-martsuper</td>\n",
       "      <td>0.674671</td>\n",
       "    </tr>\n",
       "  </tbody>\n",
       "</table>\n",
       "<p>474 rows × 10 columns</p>\n",
       "</div>"
      ],
      "text/plain": [
       "     transaction_id                                           sentence  \\\n",
       "0        9796686754  Wal-Mart Super WAL-SAMS SPRINGFIELD MO. Channe...   \n",
       "1        9799290885  PURCHASE AUTHORIZED ON 05/14 WM SUPERC Wal-Mar...   \n",
       "2        9798904474  Walmart.com Bentonville AR XX SIG PURCH 05/13 ...   \n",
       "3        9801927063  PURCHASE AUTHORIZED ON 05/11 WALMART.COM 800-9...   \n",
       "4        9799263021  05/13 22:02 WAL-MART # JONESBORO AR CKCD DEBIT...   \n",
       "..              ...                                                ...   \n",
       "469      9807244423  PURCHASE AUTHORIZED ON 05/14 WM SUPERC Wal-Mar...   \n",
       "470      9808452776  Walmart.com 05/14 #XXXXX REFUND Walmart.com Be...   \n",
       "471      9798778036  Point of Sale Debit L341 TIME 04:30 PM DATE 05...   \n",
       "472      9807593604  CHECKCARD WALMART STA ELENA LA LIBERTAD XXXXX ...   \n",
       "473      9799287551  WM SUPERCENTER # GLENVILLE NY. Channel: in sto...   \n",
       "\n",
       "                                             sentence2  \\\n",
       "0    Wal-Mart Super WAL-SAMS SPRINGFIELD MO. Type: ...   \n",
       "1    PURCHASE AUTHORIZED ON 05/14 WM SUPERC Wal-Mar...   \n",
       "2    Walmart.com Bentonville AR XX SIG PURCH 05/13 ...   \n",
       "3    PURCHASE AUTHORIZED ON 05/11 WALMART.COM 800-9...   \n",
       "4    05/13 22:02 WAL-MART # JONESBORO AR CKCD DEBIT...   \n",
       "..                                                 ...   \n",
       "469  PURCHASE AUTHORIZED ON 05/14 WM SUPERC Wal-Mar...   \n",
       "470  Walmart.com 05/14 #XXXXX REFUND Walmart.com Be...   \n",
       "471  Point of Sale Debit L341 TIME 04:30 PM DATE 05...   \n",
       "472  CHECKCARD WALMART STA ELENA LA LIBERTAD XXXXX ...   \n",
       "473  WM SUPERCENTER # GLENVILLE NY. Type: merchant....   \n",
       "\n",
       "                        description_combined_processed  \\\n",
       "0               Wal-Mart Super WAL-SAMS SPRINGFIELD MO   \n",
       "1    PURCHASE AUTHORIZED ON 05/14 WM SUPERC Wal-Mar...   \n",
       "2    Walmart.com Bentonville AR XX SIG PURCH 05/13 ...   \n",
       "3    PURCHASE AUTHORIZED ON 05/11 WALMART.COM 800-9...   \n",
       "4      05/13 22:02 WAL-MART # JONESBORO AR CKCD DEBIT    \n",
       "..                                                 ...   \n",
       "469  PURCHASE AUTHORIZED ON 05/14 WM SUPERC Wal-Mar...   \n",
       "470  Walmart.com 05/14 #XXXXX REFUND Walmart.com Be...   \n",
       "471  Point of Sale Debit L341 TIME 04:30 PM DATE 05...   \n",
       "472  CHECKCARD WALMART STA ELENA LA LIBERTAD XXXXX ...   \n",
       "473                      WM SUPERCENTER # GLENVILLE NY   \n",
       "\n",
       "    true_merchant_name_combined merchant_name_combined  true_label     label  \\\n",
       "0                       Walmart               Smith''s           0  0.310292   \n",
       "1                       Walmart              Synchrony           0  0.232759   \n",
       "2                       Walmart               QuikTrip           0  0.075148   \n",
       "3                       Walmart               Cash App           0  0.078535   \n",
       "4                       Walmart     Marathon Petroleum           0  0.257865   \n",
       "..                          ...                    ...         ...       ...   \n",
       "469                     Walmart            Spinstersis           0  0.051089   \n",
       "470                     Walmart     K Stop Convenience           0  0.018743   \n",
       "471                     Walmart            Ross Stores           0  0.114881   \n",
       "472                     Walmart                   Lyft           0  0.116438   \n",
       "473                     Walmart                 Crenco           0  0.015229   \n",
       "\n",
       "         pred_merchant  pred_prob  \n",
       "0    Wal Wal-martsuper   0.799137  \n",
       "1    Wal Wal-martsuper   0.775473  \n",
       "2    Wal Wal-martsuper   0.751793  \n",
       "3    Wal Wal-martsuper   0.735269  \n",
       "4    Wal Wal-martsuper   0.751371  \n",
       "..                 ...        ...  \n",
       "469  Wal Wal-martsuper   0.772779  \n",
       "470  Wal Wal-martsuper   0.713919  \n",
       "471  Wal Wal-martsuper   0.766499  \n",
       "472  Wal Wal-martsuper   0.751746  \n",
       "473  Wal Wal-martsuper   0.674671  \n",
       "\n",
       "[474 rows x 10 columns]"
      ]
     },
     "execution_count": 116,
     "metadata": {},
     "output_type": "execute_result"
    }
   ],
   "source": [
    "df_no_match = df_test[df_test['pred_merchant'] != df_test['true_merchant_name_combined']]\n",
    "df_no_match.reset_index(drop=True, inplace=True)\n",
    "df_no_match"
   ]
  },
  {
   "cell_type": "code",
   "execution_count": null,
   "metadata": {},
   "outputs": [
    {
     "data": {
      "text/html": [
       "<div>\n",
       "<style scoped>\n",
       "    .dataframe tbody tr th:only-of-type {\n",
       "        vertical-align: middle;\n",
       "    }\n",
       "\n",
       "    .dataframe tbody tr th {\n",
       "        vertical-align: top;\n",
       "    }\n",
       "\n",
       "    .dataframe thead th {\n",
       "        text-align: right;\n",
       "    }\n",
       "</style>\n",
       "<table border=\"1\" class=\"dataframe\">\n",
       "  <thead>\n",
       "    <tr style=\"text-align: right;\">\n",
       "      <th></th>\n",
       "      <th>transaction_id</th>\n",
       "      <th>sentence</th>\n",
       "      <th>sentence2</th>\n",
       "      <th>description_combined_processed</th>\n",
       "      <th>true_merchant_name_combined</th>\n",
       "      <th>merchant_name_combined</th>\n",
       "      <th>true_label</th>\n",
       "      <th>label</th>\n",
       "      <th>pred_merchant</th>\n",
       "      <th>pred_prob</th>\n",
       "    </tr>\n",
       "  </thead>\n",
       "  <tbody>\n",
       "    <tr>\n",
       "      <th>0</th>\n",
       "      <td>9796686754</td>\n",
       "      <td>Wal-Mart Super WAL-SAMS SPRINGFIELD MO. Channe...</td>\n",
       "      <td>Wal-Mart Super WAL-SAMS SPRINGFIELD MO. Type: ...</td>\n",
       "      <td>Wal-Mart Super WAL-SAMS SPRINGFIELD MO</td>\n",
       "      <td>Walmart</td>\n",
       "      <td>Smith''s</td>\n",
       "      <td>0</td>\n",
       "      <td>0.310292</td>\n",
       "      <td>Wal Wal-martsuper</td>\n",
       "      <td>0.799137</td>\n",
       "    </tr>\n",
       "    <tr>\n",
       "      <th>13</th>\n",
       "      <td>9799066977</td>\n",
       "      <td>ONLINE TRANSFER FROM MCDONALD J WELLS FARGO CL...</td>\n",
       "      <td>ONLINE TRANSFER FROM MCDONALD J WELLS FARGO CL...</td>\n",
       "      <td>ONLINE TRANSFER FROM MCDONALD J WELLS FARGO CL...</td>\n",
       "      <td>Wells Fargo</td>\n",
       "      <td>Empower</td>\n",
       "      <td>0</td>\n",
       "      <td>0.416453</td>\n",
       "      <td>McDonald''s</td>\n",
       "      <td>0.939226</td>\n",
       "    </tr>\n",
       "    <tr>\n",
       "      <th>18</th>\n",
       "      <td>9813217231</td>\n",
       "      <td>POS PURCHASE POS WM SUPERCENTER GREENVILLE PA....</td>\n",
       "      <td>POS PURCHASE POS WM SUPERCENTER GREENVILLE PA....</td>\n",
       "      <td>POS PURCHASE POS WM SUPERCENTER GREENVILLE PA</td>\n",
       "      <td>Walmart</td>\n",
       "      <td>RaceTrac</td>\n",
       "      <td>0</td>\n",
       "      <td>0.288263</td>\n",
       "      <td>McDonald''s</td>\n",
       "      <td>0.630497</td>\n",
       "    </tr>\n",
       "    <tr>\n",
       "      <th>36</th>\n",
       "      <td>9795670664</td>\n",
       "      <td>POS PURCH : WM SUPERCENTER # GA BAXLEY WM SUPE...</td>\n",
       "      <td>POS PURCH : WM SUPERCENTER # GA BAXLEY WM SUPE...</td>\n",
       "      <td>POS PURCH : WM SUPERCENTER # GA BAXLEY WM SUPE...</td>\n",
       "      <td>Walmart</td>\n",
       "      <td>Synchrony</td>\n",
       "      <td>0</td>\n",
       "      <td>0.000095</td>\n",
       "      <td>U.s. Retailers</td>\n",
       "      <td>0.642287</td>\n",
       "    </tr>\n",
       "    <tr>\n",
       "      <th>269</th>\n",
       "      <td>9800470341</td>\n",
       "      <td>ZELLE TO FEDRA ON 05/14 REF #RP0S842CWR WALMAR...</td>\n",
       "      <td>ZELLE TO FEDRA ON 05/14 REF #RP0S842CWR WALMAR...</td>\n",
       "      <td>ZELLE TO FEDRA ON 05/14 REF #RP0S842CWR WALMART</td>\n",
       "      <td>Walmart</td>\n",
       "      <td>Bank of America</td>\n",
       "      <td>0</td>\n",
       "      <td>0.030782</td>\n",
       "      <td>Zelle</td>\n",
       "      <td>0.705138</td>\n",
       "    </tr>\n",
       "  </tbody>\n",
       "</table>\n",
       "</div>"
      ],
      "text/plain": [
       "     transaction_id                                           sentence  \\\n",
       "0        9796686754  Wal-Mart Super WAL-SAMS SPRINGFIELD MO. Channe...   \n",
       "13       9799066977  ONLINE TRANSFER FROM MCDONALD J WELLS FARGO CL...   \n",
       "18       9813217231  POS PURCHASE POS WM SUPERCENTER GREENVILLE PA....   \n",
       "36       9795670664  POS PURCH : WM SUPERCENTER # GA BAXLEY WM SUPE...   \n",
       "269      9800470341  ZELLE TO FEDRA ON 05/14 REF #RP0S842CWR WALMAR...   \n",
       "\n",
       "                                             sentence2  \\\n",
       "0    Wal-Mart Super WAL-SAMS SPRINGFIELD MO. Type: ...   \n",
       "13   ONLINE TRANSFER FROM MCDONALD J WELLS FARGO CL...   \n",
       "18   POS PURCHASE POS WM SUPERCENTER GREENVILLE PA....   \n",
       "36   POS PURCH : WM SUPERCENTER # GA BAXLEY WM SUPE...   \n",
       "269  ZELLE TO FEDRA ON 05/14 REF #RP0S842CWR WALMAR...   \n",
       "\n",
       "                        description_combined_processed  \\\n",
       "0               Wal-Mart Super WAL-SAMS SPRINGFIELD MO   \n",
       "13   ONLINE TRANSFER FROM MCDONALD J WELLS FARGO CL...   \n",
       "18       POS PURCHASE POS WM SUPERCENTER GREENVILLE PA   \n",
       "36   POS PURCH : WM SUPERCENTER # GA BAXLEY WM SUPE...   \n",
       "269    ZELLE TO FEDRA ON 05/14 REF #RP0S842CWR WALMART   \n",
       "\n",
       "    true_merchant_name_combined merchant_name_combined  true_label     label  \\\n",
       "0                       Walmart               Smith''s           0  0.310292   \n",
       "13                  Wells Fargo                Empower           0  0.416453   \n",
       "18                      Walmart               RaceTrac           0  0.288263   \n",
       "36                      Walmart              Synchrony           0  0.000095   \n",
       "269                     Walmart        Bank of America           0  0.030782   \n",
       "\n",
       "         pred_merchant  pred_prob  \n",
       "0    Wal Wal-martsuper   0.799137  \n",
       "13         McDonald''s   0.939226  \n",
       "18         McDonald''s   0.630497  \n",
       "36      U.s. Retailers   0.642287  \n",
       "269              Zelle   0.705138  "
      ]
     },
     "execution_count": 118,
     "metadata": {},
     "output_type": "execute_result"
    }
   ],
   "source": [
    "df_no_match.drop_duplicates(subset = ['true_merchant_name_combined','pred_merchant'])"
   ]
  },
  {
   "cell_type": "code",
   "execution_count": null,
   "metadata": {},
   "outputs": [
    {
     "data": {
      "text/plain": [
       "'ONLINE TRANSFER FROM MCDONALD J WELLS FARGO CLEAR ACCESS BANKING XXXXXX REF #IB0N78QNRB ON 05/14/24. Channel: None. Amount: 90.0'"
      ]
     },
     "execution_count": 122,
     "metadata": {},
     "output_type": "execute_result"
    }
   ],
   "source": [
    "df_no_match.loc[13,'sentence']"
   ]
  },
  {
   "cell_type": "code",
   "execution_count": null,
   "metadata": {},
   "outputs": [
    {
     "data": {
      "text/plain": [
       "'ZELLE TO FEDRA ON 05/14 REF #RP0S842CWR WALMART. Channel: None. Amount: -98.77'"
      ]
     },
     "execution_count": 120,
     "metadata": {},
     "output_type": "execute_result"
    }
   ],
   "source": [
    "df_no_match.loc[269,'sentence']"
   ]
  },
  {
   "cell_type": "code",
   "execution_count": null,
   "metadata": {},
   "outputs": [],
   "source": [
    "# do a precision-recall curve"
   ]
  },
  {
   "cell_type": "code",
   "execution_count": null,
   "metadata": {},
   "outputs": [
    {
     "data": {
      "text/plain": [
       "(4526, 10)"
      ]
     },
     "execution_count": 108,
     "metadata": {},
     "output_type": "execute_result"
    }
   ],
   "source": []
  },
  {
   "cell_type": "code",
   "execution_count": null,
   "metadata": {},
   "outputs": [],
   "source": []
  },
  {
   "cell_type": "code",
   "execution_count": null,
   "metadata": {},
   "outputs": [
    {
     "data": {
      "text/plain": [
       "true_merchant_name_combined\n",
       "Amazon         12848\n",
       "Cash App       12840\n",
       "Earnin         12825\n",
       "Wells Fargo    12812\n",
       "McDonald''s    12811\n",
       "Zelle          12781\n",
       "Walmart         8583\n",
       "Name: count, dtype: Int64"
      ]
     },
     "execution_count": 80,
     "metadata": {},
     "output_type": "execute_result"
    }
   ],
   "source": [
    "df_train['true_merchant_name_combined'].value_counts()"
   ]
  },
  {
   "cell_type": "code",
   "execution_count": null,
   "metadata": {},
   "outputs": [
    {
     "data": {
      "text/plain": [
       "7"
      ]
     },
     "execution_count": 81,
     "metadata": {},
     "output_type": "execute_result"
    }
   ],
   "source": [
    "df_train['true_merchant_name_combined'].nunique()"
   ]
  },
  {
   "cell_type": "code",
   "execution_count": null,
   "metadata": {},
   "outputs": [
    {
     "data": {
      "text/plain": [
       "true_merchant_name_combined\n",
       "Zelle          796\n",
       "Wells Fargo    757\n",
       "Amazon         756\n",
       "Cash App       746\n",
       "McDonald''s    745\n",
       "Earnin         729\n",
       "Walmart        471\n",
       "Name: count, dtype: Int64"
      ]
     },
     "execution_count": 78,
     "metadata": {},
     "output_type": "execute_result"
    }
   ],
   "source": [
    "df_test['true_merchant_name_combined'].value_counts()"
   ]
  },
  {
   "cell_type": "code",
   "execution_count": null,
   "metadata": {},
   "outputs": [
    {
     "data": {
      "text/plain": [
       "true_merchant_name_combined\n",
       "Earnin         1446\n",
       "McDonald''s    1444\n",
       "Wells Fargo    1431\n",
       "Zelle          1423\n",
       "Cash App       1414\n",
       "Amazon         1396\n",
       "Walmart         946\n",
       "Name: count, dtype: Int64"
      ]
     },
     "execution_count": 79,
     "metadata": {},
     "output_type": "execute_result"
    }
   ],
   "source": [
    "df_val['true_merchant_name_combined'].value_counts()"
   ]
  },
  {
   "cell_type": "code",
   "execution_count": null,
   "metadata": {},
   "outputs": [
    {
     "data": {
      "text/html": [
       "<div>\n",
       "<style scoped>\n",
       "    .dataframe tbody tr th:only-of-type {\n",
       "        vertical-align: middle;\n",
       "    }\n",
       "\n",
       "    .dataframe tbody tr th {\n",
       "        vertical-align: top;\n",
       "    }\n",
       "\n",
       "    .dataframe thead th {\n",
       "        text-align: right;\n",
       "    }\n",
       "</style>\n",
       "<table border=\"1\" class=\"dataframe\">\n",
       "  <thead>\n",
       "    <tr style=\"text-align: right;\">\n",
       "      <th></th>\n",
       "      <th>true_merchant_name_combined</th>\n",
       "      <th>pred_merchant</th>\n",
       "      <th>pred_prob</th>\n",
       "    </tr>\n",
       "  </thead>\n",
       "  <tbody>\n",
       "    <tr>\n",
       "      <th>0</th>\n",
       "      <td>Wells Fargo</td>\n",
       "      <td>Wells Fargo</td>\n",
       "      <td>0.961568</td>\n",
       "    </tr>\n",
       "    <tr>\n",
       "      <th>1</th>\n",
       "      <td>McDonald''s</td>\n",
       "      <td>McDonald''s</td>\n",
       "      <td>0.974988</td>\n",
       "    </tr>\n",
       "    <tr>\n",
       "      <th>2</th>\n",
       "      <td>Cash App</td>\n",
       "      <td>Cash App</td>\n",
       "      <td>0.975234</td>\n",
       "    </tr>\n",
       "    <tr>\n",
       "      <th>3</th>\n",
       "      <td>McDonald''s</td>\n",
       "      <td>McDonald''s</td>\n",
       "      <td>0.980123</td>\n",
       "    </tr>\n",
       "    <tr>\n",
       "      <th>4</th>\n",
       "      <td>Walmart</td>\n",
       "      <td>Wal Wal-martsuper</td>\n",
       "      <td>0.799137</td>\n",
       "    </tr>\n",
       "    <tr>\n",
       "      <th>...</th>\n",
       "      <td>...</td>\n",
       "      <td>...</td>\n",
       "      <td>...</td>\n",
       "    </tr>\n",
       "    <tr>\n",
       "      <th>4995</th>\n",
       "      <td>Wells Fargo</td>\n",
       "      <td>Wells Fargo</td>\n",
       "      <td>0.940395</td>\n",
       "    </tr>\n",
       "    <tr>\n",
       "      <th>4996</th>\n",
       "      <td>Zelle</td>\n",
       "      <td>Zelle</td>\n",
       "      <td>0.979735</td>\n",
       "    </tr>\n",
       "    <tr>\n",
       "      <th>4997</th>\n",
       "      <td>Walmart</td>\n",
       "      <td>Wal Wal-martsuper</td>\n",
       "      <td>0.674671</td>\n",
       "    </tr>\n",
       "    <tr>\n",
       "      <th>4998</th>\n",
       "      <td>Zelle</td>\n",
       "      <td>Zelle</td>\n",
       "      <td>0.980085</td>\n",
       "    </tr>\n",
       "    <tr>\n",
       "      <th>4999</th>\n",
       "      <td>Zelle</td>\n",
       "      <td>Zelle</td>\n",
       "      <td>0.980246</td>\n",
       "    </tr>\n",
       "  </tbody>\n",
       "</table>\n",
       "<p>5000 rows × 3 columns</p>\n",
       "</div>"
      ],
      "text/plain": [
       "     true_merchant_name_combined      pred_merchant  pred_prob\n",
       "0                    Wells Fargo        Wells Fargo   0.961568\n",
       "1                    McDonald''s        McDonald''s   0.974988\n",
       "2                       Cash App           Cash App   0.975234\n",
       "3                    McDonald''s        McDonald''s   0.980123\n",
       "4                        Walmart  Wal Wal-martsuper   0.799137\n",
       "...                          ...                ...        ...\n",
       "4995                 Wells Fargo        Wells Fargo   0.940395\n",
       "4996                       Zelle              Zelle   0.979735\n",
       "4997                     Walmart  Wal Wal-martsuper   0.674671\n",
       "4998                       Zelle              Zelle   0.980085\n",
       "4999                       Zelle              Zelle   0.980246\n",
       "\n",
       "[5000 rows x 3 columns]"
      ]
     },
     "execution_count": 76,
     "metadata": {},
     "output_type": "execute_result"
    }
   ],
   "source": [
    "df_test[['true_merchant_name_combined','pred_merchant','pred_prob']]"
   ]
  },
  {
   "cell_type": "code",
   "execution_count": null,
   "metadata": {},
   "outputs": [
    {
     "data": {
      "image/png": "[encoded data removed]",
      "text/plain": [
       "<Figure size 640x480 with 1 Axes>"
      ]
     },
     "metadata": {},
     "output_type": "display_data"
    }
   ],
   "source": [
    "df_test['pred_prob'].hist();"
   ]
  },
  {
   "cell_type": "code",
   "execution_count": null,
   "metadata": {},
   "outputs": [
    {
     "data": {
      "text/html": [
       "<div>\n",
       "<style scoped>\n",
       "    .dataframe tbody tr th:only-of-type {\n",
       "        vertical-align: middle;\n",
       "    }\n",
       "\n",
       "    .dataframe tbody tr th {\n",
       "        vertical-align: top;\n",
       "    }\n",
       "\n",
       "    .dataframe thead th {\n",
       "        text-align: right;\n",
       "    }\n",
       "</style>\n",
       "<table border=\"1\" class=\"dataframe\">\n",
       "  <thead>\n",
       "    <tr style=\"text-align: right;\">\n",
       "      <th></th>\n",
       "      <th>transaction_id</th>\n",
       "      <th>sentence</th>\n",
       "      <th>sentence2</th>\n",
       "      <th>description_combined_processed</th>\n",
       "      <th>true_merchant_name_combined</th>\n",
       "      <th>merchant_name_combined</th>\n",
       "      <th>true_label</th>\n",
       "      <th>label</th>\n",
       "      <th>pred_merchant</th>\n",
       "      <th>pred_prob</th>\n",
       "    </tr>\n",
       "  </thead>\n",
       "  <tbody>\n",
       "    <tr>\n",
       "      <th>4</th>\n",
       "      <td>9796686754</td>\n",
       "      <td>Wal-Mart Super WAL-SAMS SPRINGFIELD MO. Channe...</td>\n",
       "      <td>Wal-Mart Super WAL-SAMS SPRINGFIELD MO. Type: ...</td>\n",
       "      <td>Wal-Mart Super WAL-SAMS SPRINGFIELD MO</td>\n",
       "      <td>Walmart</td>\n",
       "      <td>Smith''s</td>\n",
       "      <td>0</td>\n",
       "      <td>0.310292</td>\n",
       "      <td>Wal Wal-martsuper</td>\n",
       "      <td>0.799137</td>\n",
       "    </tr>\n",
       "    <tr>\n",
       "      <th>11</th>\n",
       "      <td>9799290885</td>\n",
       "      <td>PURCHASE AUTHORIZED ON 05/14 WM SUPERC Wal-Mar...</td>\n",
       "      <td>PURCHASE AUTHORIZED ON 05/14 WM SUPERC Wal-Mar...</td>\n",
       "      <td>PURCHASE AUTHORIZED ON 05/14 WM SUPERC Wal-Mar...</td>\n",
       "      <td>Walmart</td>\n",
       "      <td>Synchrony</td>\n",
       "      <td>0</td>\n",
       "      <td>0.232759</td>\n",
       "      <td>Wal Wal-martsuper</td>\n",
       "      <td>0.775473</td>\n",
       "    </tr>\n",
       "    <tr>\n",
       "      <th>12</th>\n",
       "      <td>9798904474</td>\n",
       "      <td>Walmart.com Bentonville AR XX SIG PURCH 05/13 ...</td>\n",
       "      <td>Walmart.com Bentonville AR XX SIG PURCH 05/13 ...</td>\n",
       "      <td>Walmart.com Bentonville AR XX SIG PURCH 05/13 ...</td>\n",
       "      <td>Walmart</td>\n",
       "      <td>QuikTrip</td>\n",
       "      <td>0</td>\n",
       "      <td>0.075148</td>\n",
       "      <td>Wal Wal-martsuper</td>\n",
       "      <td>0.751793</td>\n",
       "    </tr>\n",
       "    <tr>\n",
       "      <th>17</th>\n",
       "      <td>9801927063</td>\n",
       "      <td>PURCHASE AUTHORIZED ON 05/11 WALMART.COM 800-9...</td>\n",
       "      <td>PURCHASE AUTHORIZED ON 05/11 WALMART.COM 800-9...</td>\n",
       "      <td>PURCHASE AUTHORIZED ON 05/11 WALMART.COM 800-9...</td>\n",
       "      <td>Walmart</td>\n",
       "      <td>Cash App</td>\n",
       "      <td>0</td>\n",
       "      <td>0.078535</td>\n",
       "      <td>Wal Wal-martsuper</td>\n",
       "      <td>0.735269</td>\n",
       "    </tr>\n",
       "    <tr>\n",
       "      <th>28</th>\n",
       "      <td>9799263021</td>\n",
       "      <td>05/13 22:02 WAL-MART # JONESBORO AR CKCD DEBIT...</td>\n",
       "      <td>05/13 22:02 WAL-MART # JONESBORO AR CKCD DEBIT...</td>\n",
       "      <td>05/13 22:02 WAL-MART # JONESBORO AR CKCD DEBIT</td>\n",
       "      <td>Walmart</td>\n",
       "      <td>Marathon Petroleum</td>\n",
       "      <td>0</td>\n",
       "      <td>0.257865</td>\n",
       "      <td>Wal Wal-martsuper</td>\n",
       "      <td>0.751371</td>\n",
       "    </tr>\n",
       "    <tr>\n",
       "      <th>...</th>\n",
       "      <td>...</td>\n",
       "      <td>...</td>\n",
       "      <td>...</td>\n",
       "      <td>...</td>\n",
       "      <td>...</td>\n",
       "      <td>...</td>\n",
       "      <td>...</td>\n",
       "      <td>...</td>\n",
       "      <td>...</td>\n",
       "      <td>...</td>\n",
       "    </tr>\n",
       "    <tr>\n",
       "      <th>4960</th>\n",
       "      <td>9807244423</td>\n",
       "      <td>PURCHASE AUTHORIZED ON 05/14 WM SUPERC Wal-Mar...</td>\n",
       "      <td>PURCHASE AUTHORIZED ON 05/14 WM SUPERC Wal-Mar...</td>\n",
       "      <td>PURCHASE AUTHORIZED ON 05/14 WM SUPERC Wal-Mar...</td>\n",
       "      <td>Walmart</td>\n",
       "      <td>Spinstersis</td>\n",
       "      <td>0</td>\n",
       "      <td>0.051089</td>\n",
       "      <td>Wal Wal-martsuper</td>\n",
       "      <td>0.772779</td>\n",
       "    </tr>\n",
       "    <tr>\n",
       "      <th>4965</th>\n",
       "      <td>9808452776</td>\n",
       "      <td>Walmart.com 05/14 #XXXXX REFUND Walmart.com Be...</td>\n",
       "      <td>Walmart.com 05/14 #XXXXX REFUND Walmart.com Be...</td>\n",
       "      <td>Walmart.com 05/14 #XXXXX REFUND Walmart.com Be...</td>\n",
       "      <td>Walmart</td>\n",
       "      <td>K Stop Convenience</td>\n",
       "      <td>0</td>\n",
       "      <td>0.018743</td>\n",
       "      <td>Wal Wal-martsuper</td>\n",
       "      <td>0.713919</td>\n",
       "    </tr>\n",
       "    <tr>\n",
       "      <th>4971</th>\n",
       "      <td>9798778036</td>\n",
       "      <td>Point of Sale Debit L341 TIME 04:30 PM DATE 05...</td>\n",
       "      <td>Point of Sale Debit L341 TIME 04:30 PM DATE 05...</td>\n",
       "      <td>Point of Sale Debit L341 TIME 04:30 PM DATE 05...</td>\n",
       "      <td>Walmart</td>\n",
       "      <td>Ross Stores</td>\n",
       "      <td>0</td>\n",
       "      <td>0.114881</td>\n",
       "      <td>Wal Wal-martsuper</td>\n",
       "      <td>0.766499</td>\n",
       "    </tr>\n",
       "    <tr>\n",
       "      <th>4981</th>\n",
       "      <td>9807593604</td>\n",
       "      <td>CHECKCARD WALMART STA ELENA LA LIBERTAD XXXXX ...</td>\n",
       "      <td>CHECKCARD WALMART STA ELENA LA LIBERTAD XXXXX ...</td>\n",
       "      <td>CHECKCARD WALMART STA ELENA LA LIBERTAD XXXXX ...</td>\n",
       "      <td>Walmart</td>\n",
       "      <td>Lyft</td>\n",
       "      <td>0</td>\n",
       "      <td>0.116438</td>\n",
       "      <td>Wal Wal-martsuper</td>\n",
       "      <td>0.751746</td>\n",
       "    </tr>\n",
       "    <tr>\n",
       "      <th>4997</th>\n",
       "      <td>9799287551</td>\n",
       "      <td>WM SUPERCENTER # GLENVILLE NY. Channel: in sto...</td>\n",
       "      <td>WM SUPERCENTER # GLENVILLE NY. Type: merchant....</td>\n",
       "      <td>WM SUPERCENTER # GLENVILLE NY</td>\n",
       "      <td>Walmart</td>\n",
       "      <td>Crenco</td>\n",
       "      <td>0</td>\n",
       "      <td>0.015229</td>\n",
       "      <td>Wal Wal-martsuper</td>\n",
       "      <td>0.674671</td>\n",
       "    </tr>\n",
       "  </tbody>\n",
       "</table>\n",
       "<p>483 rows × 10 columns</p>\n",
       "</div>"
      ],
      "text/plain": [
       "      transaction_id                                           sentence  \\\n",
       "4         9796686754  Wal-Mart Super WAL-SAMS SPRINGFIELD MO. Channe...   \n",
       "11        9799290885  PURCHASE AUTHORIZED ON 05/14 WM SUPERC Wal-Mar...   \n",
       "12        9798904474  Walmart.com Bentonville AR XX SIG PURCH 05/13 ...   \n",
       "17        9801927063  PURCHASE AUTHORIZED ON 05/11 WALMART.COM 800-9...   \n",
       "28        9799263021  05/13 22:02 WAL-MART # JONESBORO AR CKCD DEBIT...   \n",
       "...              ...                                                ...   \n",
       "4960      9807244423  PURCHASE AUTHORIZED ON 05/14 WM SUPERC Wal-Mar...   \n",
       "4965      9808452776  Walmart.com 05/14 #XXXXX REFUND Walmart.com Be...   \n",
       "4971      9798778036  Point of Sale Debit L341 TIME 04:30 PM DATE 05...   \n",
       "4981      9807593604  CHECKCARD WALMART STA ELENA LA LIBERTAD XXXXX ...   \n",
       "4997      9799287551  WM SUPERCENTER # GLENVILLE NY. Channel: in sto...   \n",
       "\n",
       "                                              sentence2  \\\n",
       "4     Wal-Mart Super WAL-SAMS SPRINGFIELD MO. Type: ...   \n",
       "11    PURCHASE AUTHORIZED ON 05/14 WM SUPERC Wal-Mar...   \n",
       "12    Walmart.com Bentonville AR XX SIG PURCH 05/13 ...   \n",
       "17    PURCHASE AUTHORIZED ON 05/11 WALMART.COM 800-9...   \n",
       "28    05/13 22:02 WAL-MART # JONESBORO AR CKCD DEBIT...   \n",
       "...                                                 ...   \n",
       "4960  PURCHASE AUTHORIZED ON 05/14 WM SUPERC Wal-Mar...   \n",
       "4965  Walmart.com 05/14 #XXXXX REFUND Walmart.com Be...   \n",
       "4971  Point of Sale Debit L341 TIME 04:30 PM DATE 05...   \n",
       "4981  CHECKCARD WALMART STA ELENA LA LIBERTAD XXXXX ...   \n",
       "4997  WM SUPERCENTER # GLENVILLE NY. Type: merchant....   \n",
       "\n",
       "                         description_combined_processed  \\\n",
       "4                Wal-Mart Super WAL-SAMS SPRINGFIELD MO   \n",
       "11    PURCHASE AUTHORIZED ON 05/14 WM SUPERC Wal-Mar...   \n",
       "12    Walmart.com Bentonville AR XX SIG PURCH 05/13 ...   \n",
       "17    PURCHASE AUTHORIZED ON 05/11 WALMART.COM 800-9...   \n",
       "28      05/13 22:02 WAL-MART # JONESBORO AR CKCD DEBIT    \n",
       "...                                                 ...   \n",
       "4960  PURCHASE AUTHORIZED ON 05/14 WM SUPERC Wal-Mar...   \n",
       "4965  Walmart.com 05/14 #XXXXX REFUND Walmart.com Be...   \n",
       "4971  Point of Sale Debit L341 TIME 04:30 PM DATE 05...   \n",
       "4981  CHECKCARD WALMART STA ELENA LA LIBERTAD XXXXX ...   \n",
       "4997                      WM SUPERCENTER # GLENVILLE NY   \n",
       "\n",
       "     true_merchant_name_combined merchant_name_combined  true_label     label  \\\n",
       "4                        Walmart               Smith''s           0  0.310292   \n",
       "11                       Walmart              Synchrony           0  0.232759   \n",
       "12                       Walmart               QuikTrip           0  0.075148   \n",
       "17                       Walmart               Cash App           0  0.078535   \n",
       "28                       Walmart     Marathon Petroleum           0  0.257865   \n",
       "...                          ...                    ...         ...       ...   \n",
       "4960                     Walmart            Spinstersis           0  0.051089   \n",
       "4965                     Walmart     K Stop Convenience           0  0.018743   \n",
       "4971                     Walmart            Ross Stores           0  0.114881   \n",
       "4981                     Walmart                   Lyft           0  0.116438   \n",
       "4997                     Walmart                 Crenco           0  0.015229   \n",
       "\n",
       "          pred_merchant  pred_prob  \n",
       "4     Wal Wal-martsuper   0.799137  \n",
       "11    Wal Wal-martsuper   0.775473  \n",
       "12    Wal Wal-martsuper   0.751793  \n",
       "17    Wal Wal-martsuper   0.735269  \n",
       "28    Wal Wal-martsuper   0.751371  \n",
       "...                 ...        ...  \n",
       "4960  Wal Wal-martsuper   0.772779  \n",
       "4965  Wal Wal-martsuper   0.713919  \n",
       "4971  Wal Wal-martsuper   0.766499  \n",
       "4981  Wal Wal-martsuper   0.751746  \n",
       "4997  Wal Wal-martsuper   0.674671  \n",
       "\n",
       "[483 rows x 10 columns]"
      ]
     },
     "execution_count": 89,
     "metadata": {},
     "output_type": "execute_result"
    }
   ],
   "source": [
    "df_test[df_test['pred_prob']<0.85][:500]"
   ]
  },
  {
   "cell_type": "code",
   "execution_count": null,
   "metadata": {},
   "outputs": [
    {
     "data": {
      "text/plain": [
       "(5000, 10)"
      ]
     },
     "execution_count": 51,
     "metadata": {},
     "output_type": "execute_result"
    }
   ],
   "source": [
    "df_test.shape"
   ]
  },
  {
   "cell_type": "code",
   "execution_count": null,
   "metadata": {},
   "outputs": [
    {
     "data": {
      "text/plain": [
       "100    Deposit Debit Ca Earnin CEEEE_B Palo Alto CA D...\n",
       "101    Zelle payment from AMY HAYES for \\\"vanishing b...\n",
       "102    EARNIN CHGFC_B PALO ALTO CA 05/14. Channel: No...\n",
       "103    PURCHASE AUTHORIZED ON 05/13 MCDONALD''S F IRV...\n",
       "104    Debit Card Credit EARNIN CCHGA_B PALO ALTO CA....\n",
       "105    Zelle payment from SUSAN BRODBECK BACsggj269q0...\n",
       "106    POS Payment McDonalds 154-XXX VA # . Channel: ...\n",
       "107    ONLINE TRANSFER FROM HUDSON A WAY2SAVE SAVINGS...\n",
       "108    EARNIN CDHJA_B PALO ALTO CA 05/14. Channel: No...\n",
       "109    Earnin CEGJA_B Palo Alto CA. Channel: None. Am...\n",
       "110    ONLINE TRANSFER FROM BENNETT T WAY2SAVE SAVING...\n",
       "111    Zelle payment from ALEXIS GAUDET BACxe32r3prx....\n",
       "112    PURCHASE AMZN Mktp US*SY1BN Amzn.com/billWA XX...\n",
       "113    CASH APP*ERIC LOLA BAR. Channel: None. Amount:...\n",
       "114    Zelle payment from SHAVONNE MORENO BACpwpbspl0...\n",
       "115    McDonalds 05-12 BROOKSVILLE FL DEBIT CARD PURC...\n",
       "116    CHECKCARD CASH APP*WE DESIG XXXXX CA XXXXX XXX...\n",
       "117    AMZN Mktp US*WN8Q06S Amzn.com/bill WA 05/14. C...\n",
       "118    ONLINE TRANSFER FROM CANNATA-FILERA T WAY2SAVE...\n",
       "119    Point Of Sale Withdrawal MCDONALD''S F597 DAWS...\n",
       "120    ATM/POS Share Deposit Earnin CCEGE_B - Earnin ...\n",
       "121    Debit Purchase -visa Mcdonald''s F212 Hamilton...\n",
       "122    XX DDA CREDIT ADJ Earnin CJAIB_B Palo Alto CA ...\n",
       "123    Debit Card Withdrawal: VISA Debit Sig. WM SUPE...\n",
       "124    CHECKCARD MCDONALD''S M CULVER CITY CA XXXXX X...\n",
       "125    Zelle payment from ELIJAH MUHAMMAD ST PHAR WFC...\n",
       "126    Debit Card Purchase 05/11 10:22a # AMAZON.COM*...\n",
       "127    PURCHASE AUTHORIZED ON 05/13 Amazon Prime*NY07...\n",
       "128    AMAZON.COM SERVI DES:INTERNET ID:XXXXXXXXXX IN...\n",
       "129    ZELLE FROM GEIER TONNIE ON 05/14 REF # PP0S83X...\n",
       "130    POS PURCHASE WAL-MART # WEST MONROE ***** 05/1...\n",
       "131    ONLINE TRANSFER FROM VILLAFUERTE J WAY2SAVE SA...\n",
       "132    Zelle payment from JOSEFINA ESPINAL for \\\"pago...\n",
       "133    Cash App Transfer to Alan Hernande. Channel: N...\n",
       "134    MCDONALD''S F CLERMONT FL 05/13. Channel: in s...\n",
       "135    Withdrawal Debit Card DEBIT CARD/WAL-MART # SO...\n",
       "136    ZELLE TO RODRIGUEZ ROBERT ON 05/13 REF #PP0S82...\n",
       "137    Point Of Sale Deposit Earnin / CGEDJ_B Palo Al...\n",
       "138    POS PURCHASE POS WM SUPERCENTER GREENVILLE PA....\n",
       "139    PURCHASE AMAZON MAR* XXX-XX HTTPSAMAZON.CWA XX...\n",
       "140    POS DEBIT 05/14 7:28 WAL WAL MART SUPER LUBBOC...\n",
       "141    ONLINE TRANSFER TO HOLLEY V WELLS FARGO CLEAR ...\n",
       "142    Payment to CASH APP*APRIL B ROBER. Channel: No...\n",
       "143    PURCHASE AUTHORIZED ON 05/13 Amazon Prime*A87L...\n",
       "144    AMAZON.COM*8L3G SEATTLE /WA US CARD PURCHASE. ...\n",
       "145    Earnin CCDFE_B Palo Alto CA. Channel: None. Am...\n",
       "146    SAVE AS YOU GO TRANSFER DEBIT TO XXXXXXXXXXX ....\n",
       "147    Zelle Transaction H . Channel: None. Amount: 3...\n",
       "148    EARNIN CIJJC_B PALO ALTO CA 05/14. Channel: No...\n",
       "149    SAVE AS YOU GO TRANSFER DEBIT TO XXXXXXXXXXX ....\n",
       "Name: sentence, dtype: string"
      ]
     },
     "execution_count": 53,
     "metadata": {},
     "output_type": "execute_result"
    }
   ],
   "source": [
    "df_test['sentence'][100:150]"
   ]
  },
  {
   "cell_type": "code",
   "execution_count": null,
   "metadata": {},
   "outputs": [
    {
     "data": {
      "text/plain": [
       "array([[-0.00816036,  0.27537555,  0.14324246, ...,  0.0999889 ,\n",
       "        -0.0035936 ,  0.07809736],\n",
       "       [ 0.02443847, -0.07863627,  0.01445072, ...,  0.02271993,\n",
       "         0.03442278,  0.02410999],\n",
       "       [-0.01848849,  0.26305526,  0.12530893, ...,  0.09496655,\n",
       "         0.00565742,  0.07274164],\n",
       "       ...,\n",
       "       [ 0.02032459, -0.06118753,  0.01493401, ..., -0.00625443,\n",
       "         0.10024939,  0.12695931],\n",
       "       [-0.01988285, -0.1525213 ,  0.0045229 , ..., -0.01461221,\n",
       "         0.02463034,  0.0660398 ],\n",
       "       [-0.01051987, -0.06855395,  0.00723861, ..., -0.00558885,\n",
       "         0.0144608 ,  0.05602989]], dtype=float32)"
      ]
     },
     "execution_count": 54,
     "metadata": {},
     "output_type": "execute_result"
    }
   ],
   "source": [
    "model.encode(df_test['sentence'][istart:istart+batch_size].tolist())"
   ]
  },
  {
   "cell_type": "code",
   "execution_count": null,
   "metadata": {},
   "outputs": [
    {
     "data": {
      "text/plain": [
       "(100,)"
      ]
     },
     "execution_count": 47,
     "metadata": {},
     "output_type": "execute_result"
    }
   ],
   "source": [
    "df_test.loc[istart:istart+batch_size-1,'pred_merchant'].shape"
   ]
  },
  {
   "cell_type": "code",
   "execution_count": null,
   "metadata": {},
   "outputs": [
    {
     "data": {
      "text/plain": [
       "(101,)"
      ]
     },
     "execution_count": 46,
     "metadata": {},
     "output_type": "execute_result"
    }
   ],
   "source": [
    "df_test.loc[0:100,'label'].shape"
   ]
  },
  {
   "cell_type": "code",
   "execution_count": null,
   "metadata": {},
   "outputs": [
    {
     "data": {
      "text/plain": [
       "(100, 10)"
      ]
     },
     "execution_count": 44,
     "metadata": {},
     "output_type": "execute_result"
    }
   ],
   "source": [
    "df_test[0:100].shape"
   ]
  },
  {
   "cell_type": "code",
   "execution_count": null,
   "metadata": {},
   "outputs": [
    {
     "data": {
      "text/plain": [
       "100"
      ]
     },
     "execution_count": 42,
     "metadata": {},
     "output_type": "execute_result"
    }
   ],
   "source": [
    "istart+batch_size"
   ]
  },
  {
   "cell_type": "code",
   "execution_count": null,
   "metadata": {},
   "outputs": [
    {
     "data": {
      "text/plain": [
       "100"
      ]
     },
     "execution_count": 38,
     "metadata": {},
     "output_type": "execute_result"
    }
   ],
   "source": [
    "\n",
    "len(predicted_merchant)"
   ]
  },
  {
   "cell_type": "code",
   "execution_count": null,
   "metadata": {},
   "outputs": [],
   "source": [
    "tx_embedding = model.encode(df_test['sentence'][0:2])"
   ]
  },
  {
   "cell_type": "code",
   "execution_count": null,
   "metadata": {},
   "outputs": [
    {
     "data": {
      "text/plain": [
       "(2, 768)"
      ]
     },
     "execution_count": 20,
     "metadata": {},
     "output_type": "execute_result"
    }
   ],
   "source": [
    "tx_embedding.shape"
   ]
  },
  {
   "cell_type": "code",
   "execution_count": null,
   "metadata": {},
   "outputs": [],
   "source": []
  },
  {
   "cell_type": "code",
   "execution_count": null,
   "metadata": {},
   "outputs": [
    {
     "data": {
      "text/plain": [
       "torch.Size([2, 85500])"
      ]
     },
     "execution_count": 22,
     "metadata": {},
     "output_type": "execute_result"
    }
   ],
   "source": []
  },
  {
   "cell_type": "code",
   "execution_count": null,
   "metadata": {},
   "outputs": [
    {
     "data": {
      "text/plain": [
       "torch.return_types.max(\n",
       "values=tensor([0.9616, 0.9750]),\n",
       "indices=tensor([117,  17]))"
      ]
     },
     "execution_count": 23,
     "metadata": {},
     "output_type": "execute_result"
    }
   ],
   "source": []
  },
  {
   "cell_type": "code",
   "execution_count": null,
   "metadata": {},
   "outputs": [],
   "source": []
  },
  {
   "cell_type": "code",
   "execution_count": null,
   "metadata": {},
   "outputs": [
    {
     "data": {
      "text/plain": [
       "tensor([117,  17])"
      ]
     },
     "execution_count": 24,
     "metadata": {},
     "output_type": "execute_result"
    }
   ],
   "source": []
  },
  {
   "cell_type": "code",
   "execution_count": null,
   "metadata": {},
   "outputs": [],
   "source": []
  },
  {
   "cell_type": "code",
   "execution_count": null,
   "metadata": {},
   "outputs": [
    {
     "data": {
      "text/plain": [
       "0         Wells Fargo\n",
       "1         McDonald''s\n",
       "2            Cash App\n",
       "3             Verizon\n",
       "4            Smith''s\n",
       "            ...      \n",
       "4995    Chumba Casino\n",
       "4996            Zelle\n",
       "4997           Crenco\n",
       "4998          Empower\n",
       "4999            Zelle\n",
       "Name: merchant_name_combined, Length: 5000, dtype: string"
      ]
     },
     "execution_count": 59,
     "metadata": {},
     "output_type": "execute_result"
    }
   ],
   "source": [
    "df_test['merchant_name_combined']"
   ]
  },
  {
   "cell_type": "code",
   "execution_count": null,
   "metadata": {},
   "outputs": [
    {
     "ename": "NameError",
     "evalue": "name 'similarities' is not defined",
     "output_type": "error",
     "traceback": [
      "\u001b[0;31m---------------------------------------------------------------------------\u001b[0m",
      "\u001b[0;31mNameError\u001b[0m                                 Traceback (most recent call last)",
      "\u001b[1;32m/home/sagemaker-user/exploration/MERCHANTS/Biencoder_v2_sbert.ipynb Cell 48\u001b[0m line \u001b[0;36m1\n\u001b[0;32m----> <a href='vscode-notebook-cell://yd6plnil3hw8unc.studio.us-east-1.sagemaker.aws/home/sagemaker-user/exploration/MERCHANTS/Biencoder_v2_sbert.ipynb#X65sdnNjb2RlLXJlbW90ZQ%3D%3D?line=0'>1</a>\u001b[0m matched_merchants \u001b[39m=\u001b[39m similarities\u001b[39m.\u001b[39mmax(axis\u001b[39m=\u001b[39m\u001b[39m1\u001b[39m)\n\u001b[1;32m      <a href='vscode-notebook-cell://yd6plnil3hw8unc.studio.us-east-1.sagemaker.aws/home/sagemaker-user/exploration/MERCHANTS/Biencoder_v2_sbert.ipynb#X65sdnNjb2RlLXJlbW90ZQ%3D%3D?line=1'>2</a>\u001b[0m matched_merchants\n",
      "\u001b[0;31mNameError\u001b[0m: name 'similarities' is not defined"
     ]
    }
   ],
   "source": [
    "matched_merchants = similarities.max(axis=1)\n",
    "matched_merchants"
   ]
  },
  {
   "cell_type": "code",
   "execution_count": null,
   "metadata": {},
   "outputs": [
    {
     "data": {
      "text/plain": [
       "tensor([0.9629, 0.9737])"
      ]
     },
     "execution_count": 240,
     "metadata": {},
     "output_type": "execute_result"
    }
   ],
   "source": [
    "similarity_score = matched_merchants[0]\n",
    "similarity_score"
   ]
  },
  {
   "cell_type": "code",
   "execution_count": null,
   "metadata": {},
   "outputs": [
    {
     "ename": "NameError",
     "evalue": "name 'matched_merchants' is not defined",
     "output_type": "error",
     "traceback": [
      "\u001b[0;31m---------------------------------------------------------------------------\u001b[0m",
      "\u001b[0;31mNameError\u001b[0m                                 Traceback (most recent call last)",
      "\u001b[1;32m/home/sagemaker-user/exploration/MERCHANTS/Biencoder_v2_sbert.ipynb Cell 50\u001b[0m line \u001b[0;36m1\n\u001b[0;32m----> <a href='vscode-notebook-cell://yd6plnil3hw8unc.studio.us-east-1.sagemaker.aws/home/sagemaker-user/exploration/MERCHANTS/Biencoder_v2_sbert.ipynb#Y100sdnNjb2RlLXJlbW90ZQ%3D%3D?line=0'>1</a>\u001b[0m matched_merchants\n",
      "\u001b[0;31mNameError\u001b[0m: name 'matched_merchants' is not defined"
     ]
    }
   ],
   "source": [
    "matched_merchants"
   ]
  },
  {
   "cell_type": "markdown",
   "metadata": {},
   "source": [
    "Load model"
   ]
  },
  {
   "cell_type": "code",
   "execution_count": null,
   "metadata": {},
   "outputs": [
    {
     "name": "stdout",
     "output_type": "stream",
     "text": [
      "3.0.0\n"
     ]
    }
   ],
   "source": [
    "print(sentence_transformers.__version__)"
   ]
  },
  {
   "cell_type": "code",
   "execution_count": null,
   "metadata": {},
   "outputs": [],
   "source": [
    "from sentence_transformers import SentenceTransformerModelCardData\n",
    "from datasets import load_dataset\n"
   ]
  },
  {
   "cell_type": "code",
   "execution_count": null,
   "metadata": {},
   "outputs": [
    {
     "name": "stderr",
     "output_type": "stream",
     "text": [
      "No sentence-transformers model found with name microsoft/mpnet-base. Creating a new one with mean pooling.\n",
      "Some weights of MPNetModel were not initialized from the model checkpoint at microsoft/mpnet-base and are newly initialized: ['mpnet.pooler.dense.bias', 'mpnet.pooler.dense.weight']\n",
      "You should probably TRAIN this model on a down-stream task to be able to use it for predictions and inference.\n"
     ]
    },
    {
     "data": {
      "application/vnd.jupyter.widget-view+json": {
       "model_id": "44fc4151b2bb4649a3f733f06a1ca31b",
       "version_major": 2,
       "version_minor": 0
      },
      "text/plain": [
       "Downloading data:   0%|          | 0.00/69.5M [00:00<?, ?B/s]"
      ]
     },
     "metadata": {},
     "output_type": "display_data"
    },
    {
     "data": {
      "application/vnd.jupyter.widget-view+json": {
       "model_id": "d6b1ff8f2b0e400191f659296292ab16",
       "version_major": 2,
       "version_minor": 0
      },
      "text/plain": [
       "Downloading data:   0%|          | 0.00/1.57M [00:00<?, ?B/s]"
      ]
     },
     "metadata": {},
     "output_type": "display_data"
    },
    {
     "data": {
      "application/vnd.jupyter.widget-view+json": {
       "model_id": "adaf006de9cd4f0c9365293f64593dae",
       "version_major": 2,
       "version_minor": 0
      },
      "text/plain": [
       "Downloading data:   0%|          | 0.00/1.61M [00:00<?, ?B/s]"
      ]
     },
     "metadata": {},
     "output_type": "display_data"
    },
    {
     "data": {
      "application/vnd.jupyter.widget-view+json": {
       "model_id": "8a4548ca60d147e2bf4180cc9717277c",
       "version_major": 2,
       "version_minor": 0
      },
      "text/plain": [
       "Generating train split:   0%|          | 0/942069 [00:00<?, ? examples/s]"
      ]
     },
     "metadata": {},
     "output_type": "display_data"
    },
    {
     "data": {
      "application/vnd.jupyter.widget-view+json": {
       "model_id": "6481230ea1e844bca7c04d944de42a2b",
       "version_major": 2,
       "version_minor": 0
      },
      "text/plain": [
       "Generating dev split:   0%|          | 0/19657 [00:00<?, ? examples/s]"
      ]
     },
     "metadata": {},
     "output_type": "display_data"
    },
    {
     "data": {
      "application/vnd.jupyter.widget-view+json": {
       "model_id": "99381b567f484ed58f1bb044b75ece6e",
       "version_major": 2,
       "version_minor": 0
      },
      "text/plain": [
       "Generating test split:   0%|          | 0/19656 [00:00<?, ? examples/s]"
      ]
     },
     "metadata": {},
     "output_type": "display_data"
    }
   ],
   "source": [
    "# 1. Load a model to finetune with 2. (Optional) model card data\n",
    "model = SentenceTransformer(\n",
    "    \"microsoft/mpnet-base\",\n",
    "    model_card_data=SentenceTransformerModelCardData(\n",
    "        language=\"en\",\n",
    "        license=\"apache-2.0\",\n",
    "        model_name=\"MPNet base trained on AllNLI triplets\",\n",
    "    )\n",
    ")\n",
    "\n",
    "# 3. Load a dataset to finetune on\n",
    "dataset = load_dataset(\"sentence-transformers/all-nli\",'pair-score')"
   ]
  },
  {
   "cell_type": "code",
   "execution_count": null,
   "metadata": {},
   "outputs": [
    {
     "data": {
      "text/plain": [
       "DatasetDict({\n",
       "    train: Dataset({\n",
       "        features: ['sentence1', 'sentence2', 'score'],\n",
       "        num_rows: 942069\n",
       "    })\n",
       "    dev: Dataset({\n",
       "        features: ['sentence1', 'sentence2', 'score'],\n",
       "        num_rows: 19657\n",
       "    })\n",
       "    test: Dataset({\n",
       "        features: ['sentence1', 'sentence2', 'score'],\n",
       "        num_rows: 19656\n",
       "    })\n",
       "})"
      ]
     },
     "execution_count": 126,
     "metadata": {},
     "output_type": "execute_result"
    }
   ],
   "source": [
    "dataset"
   ]
  },
  {
   "cell_type": "code",
   "execution_count": null,
   "metadata": {},
   "outputs": [],
   "source": [
    "train_dataset = dataset['train']"
   ]
  },
  {
   "cell_type": "code",
   "execution_count": null,
   "metadata": {},
   "outputs": [
    {
     "data": {
      "text/plain": [
       "{'sentence1': 'A person on a horse jumps over a broken down airplane.',\n",
       " 'sentence2': 'A person is training his horse for a competition.',\n",
       " 'score': 0.5}"
      ]
     },
     "execution_count": 128,
     "metadata": {},
     "output_type": "execute_result"
    }
   ],
   "source": [
    "train_dataset[0]"
   ]
  },
  {
   "cell_type": "code",
   "execution_count": null,
   "metadata": {},
   "outputs": [],
   "source": [
    "#train_dataloader = DataLoader(train_examples, shuffle=True, batch_size = 128)"
   ]
  },
  {
   "cell_type": "code",
   "execution_count": null,
   "metadata": {},
   "outputs": [
    {
     "data": {
      "text/plain": [
       "668"
      ]
     },
     "execution_count": 38,
     "metadata": {},
     "output_type": "execute_result"
    }
   ],
   "source": [
    "len(train_dataloader)"
   ]
  },
  {
   "cell_type": "code",
   "execution_count": null,
   "metadata": {},
   "outputs": [],
   "source": [
    "#train_loss = losses.CosineSimilarityLoss(model)"
   ]
  },
  {
   "cell_type": "code",
   "execution_count": null,
   "metadata": {},
   "outputs": [
    {
     "ename": "NameError",
     "evalue": "name 'train_loss' is not defined",
     "output_type": "error",
     "traceback": [
      "\u001b[0;31m---------------------------------------------------------------------------\u001b[0m",
      "\u001b[0;31mNameError\u001b[0m                                 Traceback (most recent call last)",
      "\u001b[1;32m/home/sagemaker-user/exploration/MERCHANTS/Biencoder_v2_sbert.ipynb Cell 39\u001b[0m line \u001b[0;36m1\n\u001b[0;32m----> <a href='vscode-notebook-cell://yd6plnil3hw8unc.studio.us-east-1.sagemaker.aws/home/sagemaker-user/exploration/MERCHANTS/Biencoder_v2_sbert.ipynb#X34sdnNjb2RlLXJlbW90ZQ%3D%3D?line=0'>1</a>\u001b[0m train_loss\n",
      "\u001b[0;31mNameError\u001b[0m: name 'train_loss' is not defined"
     ]
    }
   ],
   "source": [
    "train_loss"
   ]
  },
  {
   "cell_type": "markdown",
   "metadata": {},
   "source": [
    "## Tune the model"
   ]
  },
  {
   "cell_type": "code",
   "execution_count": null,
   "metadata": {},
   "outputs": [
    {
     "name": "stderr",
     "output_type": "stream",
     "text": [
      "Detected kernel version 4.14.343, which is below the recommended minimum of 5.5.0; this can cause the process to hang. It is recommended to upgrade the kernel to the minimum version or higher.\n"
     ]
    },
    {
     "data": {
      "text/html": [
       "\n",
       "    <div>\n",
       "      \n",
       "      <progress value='668' max='668' style='width:300px; height:20px; vertical-align: middle;'></progress>\n",
       "      [668/668 04:27, Epoch 1/1]\n",
       "    </div>\n",
       "    <table border=\"1\" class=\"dataframe\">\n",
       "  <thead>\n",
       " <tr style=\"text-align: left;\">\n",
       "      <th>Step</th>\n",
       "      <th>Training Loss</th>\n",
       "    </tr>\n",
       "  </thead>\n",
       "  <tbody>\n",
       "    <tr>\n",
       "      <td>500</td>\n",
       "      <td>0.020500</td>\n",
       "    </tr>\n",
       "  </tbody>\n",
       "</table><p>"
      ],
      "text/plain": [
       "<IPython.core.display.HTML object>"
      ]
     },
     "metadata": {},
     "output_type": "display_data"
    }
   ],
   "source": [
    "model.fit(train_objectives = [(train_dataloader, train_loss)], epochs = 1 , warmup_steps = 100)"
   ]
  },
  {
   "cell_type": "code",
   "execution_count": null,
   "metadata": {},
   "outputs": [],
   "source": [
    "# save model"
   ]
  },
  {
   "cell_type": "markdown",
   "metadata": {},
   "source": [
    "## Evaluation"
   ]
  },
  {
   "cell_type": "code",
   "execution_count": null,
   "metadata": {},
   "outputs": [],
   "source": [
    "trx_descriptions = df_val['sentence'].tolist()\n",
    "merchants = df_val['merchant_name_combined'].tolist()\n",
    "trx_embeddings = model.encode(trx_descriptions)\n",
    "merchants_embeddings = model.encode(merchants)"
   ]
  },
  {
   "cell_type": "code",
   "execution_count": null,
   "metadata": {},
   "outputs": [
    {
     "name": "stdout",
     "output_type": "stream",
     "text": [
      "(9500, 768)\n",
      "(9500, 768)\n"
     ]
    }
   ],
   "source": [
    "print(trx_embeddings.shape)\n",
    "print(merchants_embeddings.shape)"
   ]
  },
  {
   "cell_type": "code",
   "execution_count": null,
   "metadata": {},
   "outputs": [],
   "source": [
    "import numpy as np"
   ]
  },
  {
   "cell_type": "code",
   "execution_count": null,
   "metadata": {},
   "outputs": [],
   "source": [
    "## look into numba\n",
    "cosine_similarity(trx_embeddings, merchants_embeddings).shape\n",
    "df_val['cos_similarity']=np.diag(cosine_similarity(trx_embeddings, merchants_embeddings))"
   ]
  },
  {
   "cell_type": "code",
   "execution_count": null,
   "metadata": {},
   "outputs": [
    {
     "data": {
      "text/html": [
       "<div>\n",
       "<style scoped>\n",
       "    .dataframe tbody tr th:only-of-type {\n",
       "        vertical-align: middle;\n",
       "    }\n",
       "\n",
       "    .dataframe tbody tr th {\n",
       "        vertical-align: top;\n",
       "    }\n",
       "\n",
       "    .dataframe thead th {\n",
       "        text-align: right;\n",
       "    }\n",
       "</style>\n",
       "<table border=\"1\" class=\"dataframe\">\n",
       "  <thead>\n",
       "    <tr style=\"text-align: right;\">\n",
       "      <th></th>\n",
       "      <th>transaction_id</th>\n",
       "      <th>sentence</th>\n",
       "      <th>sentence2</th>\n",
       "      <th>description_combined_processed</th>\n",
       "      <th>true_merchant_name_combined</th>\n",
       "      <th>merchant_name_combined</th>\n",
       "      <th>true_label</th>\n",
       "      <th>label</th>\n",
       "      <th>cos_similarity</th>\n",
       "    </tr>\n",
       "  </thead>\n",
       "  <tbody>\n",
       "    <tr>\n",
       "      <th>0</th>\n",
       "      <td>9798760350</td>\n",
       "      <td>Debit Purchase Wal-mart Super Cbrookings Sd 05...</td>\n",
       "      <td>Debit Purchase Wal-mart Super Cbrookings Sd 05...</td>\n",
       "      <td>Debit Purchase Wal-mart Super Cbrookings Sd 05...</td>\n",
       "      <td>Walmart</td>\n",
       "      <td>Exotic S Shop</td>\n",
       "      <td>0</td>\n",
       "      <td>0.328529</td>\n",
       "      <td>0.000262</td>\n",
       "    </tr>\n",
       "    <tr>\n",
       "      <th>1</th>\n",
       "      <td>9806775557</td>\n",
       "      <td>MONEY TRANSFER AUTHORIZED ON 05/13 CASH APP*JE...</td>\n",
       "      <td>MONEY TRANSFER AUTHORIZED ON 05/13 CASH APP*JE...</td>\n",
       "      <td>MONEY TRANSFER AUTHORIZED ON 05/13 CASH APP*JE...</td>\n",
       "      <td>Cash App</td>\n",
       "      <td>Acorns</td>\n",
       "      <td>0</td>\n",
       "      <td>0.265679</td>\n",
       "      <td>-0.010028</td>\n",
       "    </tr>\n",
       "    <tr>\n",
       "      <th>2</th>\n",
       "      <td>9798728894</td>\n",
       "      <td>MONEY TRANSFER AUTHORIZED ON 05/13 FROM Earnin...</td>\n",
       "      <td>MONEY TRANSFER AUTHORIZED ON 05/13 FROM Earnin...</td>\n",
       "      <td>MONEY TRANSFER AUTHORIZED ON 05/13 FROM Earnin...</td>\n",
       "      <td>Earnin</td>\n",
       "      <td>PayPal</td>\n",
       "      <td>0</td>\n",
       "      <td>0.207873</td>\n",
       "      <td>-0.003231</td>\n",
       "    </tr>\n",
       "    <tr>\n",
       "      <th>3</th>\n",
       "      <td>9799291124</td>\n",
       "      <td>MONEY TRANSFER AUTHORIZED ON 05/13 CASH APP*JE...</td>\n",
       "      <td>MONEY TRANSFER AUTHORIZED ON 05/13 CASH APP*JE...</td>\n",
       "      <td>MONEY TRANSFER AUTHORIZED ON 05/13 CASH APP*JE...</td>\n",
       "      <td>Cash App</td>\n",
       "      <td>Wells Fargo</td>\n",
       "      <td>0</td>\n",
       "      <td>0.008904</td>\n",
       "      <td>0.001403</td>\n",
       "    </tr>\n",
       "    <tr>\n",
       "      <th>4</th>\n",
       "      <td>9799976650</td>\n",
       "      <td>Instant Pmt from Earnin RDBFA_B on 05/14 Ref# ...</td>\n",
       "      <td>Instant Pmt from Earnin RDBFA_B on 05/14 Ref# ...</td>\n",
       "      <td>Instant Pmt from Earnin RDBFA_B on 05/14 Ref# ...</td>\n",
       "      <td>Earnin</td>\n",
       "      <td>Venmo</td>\n",
       "      <td>0</td>\n",
       "      <td>0.054398</td>\n",
       "      <td>-0.010100</td>\n",
       "    </tr>\n",
       "    <tr>\n",
       "      <th>...</th>\n",
       "      <td>...</td>\n",
       "      <td>...</td>\n",
       "      <td>...</td>\n",
       "      <td>...</td>\n",
       "      <td>...</td>\n",
       "      <td>...</td>\n",
       "      <td>...</td>\n",
       "      <td>...</td>\n",
       "      <td>...</td>\n",
       "    </tr>\n",
       "    <tr>\n",
       "      <th>9495</th>\n",
       "      <td>9799636891</td>\n",
       "      <td>PURCHASE RETURN AUTHORIZED ON 05/13 AMZN Mktp ...</td>\n",
       "      <td>PURCHASE RETURN AUTHORIZED ON 05/13 AMZN Mktp ...</td>\n",
       "      <td>PURCHASE RETURN AUTHORIZED ON 05/13 AMZN Mktp ...</td>\n",
       "      <td>Amazon</td>\n",
       "      <td>TGI Friday''s</td>\n",
       "      <td>0</td>\n",
       "      <td>0.102636</td>\n",
       "      <td>0.001885</td>\n",
       "    </tr>\n",
       "    <tr>\n",
       "      <th>9496</th>\n",
       "      <td>9799365097</td>\n",
       "      <td>AMZN Mktp US GE69A,2YL3 Amzn com WA,05-13-24,C...</td>\n",
       "      <td>AMZN Mktp US GE69A,2YL3 Amzn com WA,05-13-24,C...</td>\n",
       "      <td>AMZN Mktp US GE69A,2YL3 Amzn com WA,05-13-24,C...</td>\n",
       "      <td>Amazon</td>\n",
       "      <td>Amazon</td>\n",
       "      <td>1</td>\n",
       "      <td>0.840733</td>\n",
       "      <td>0.995985</td>\n",
       "    </tr>\n",
       "    <tr>\n",
       "      <th>9497</th>\n",
       "      <td>9814848095</td>\n",
       "      <td>ONLINE TRANSFER FROM NAME N WELLS FARGO CLEAR ...</td>\n",
       "      <td>ONLINE TRANSFER FROM NAME N WELLS FARGO CLEAR ...</td>\n",
       "      <td>ONLINE TRANSFER FROM NAME N WELLS FARGO CLEAR ...</td>\n",
       "      <td>Wells Fargo</td>\n",
       "      <td>Wells Fargo</td>\n",
       "      <td>1</td>\n",
       "      <td>0.888943</td>\n",
       "      <td>0.988127</td>\n",
       "    </tr>\n",
       "    <tr>\n",
       "      <th>9498</th>\n",
       "      <td>9799827250</td>\n",
       "      <td>MCDONALD''S F ROCKY RIVER OH 05/13. Channel: i...</td>\n",
       "      <td>MCDONALD''S F ROCKY RIVER OH 05/13. Type: merc...</td>\n",
       "      <td>MCDONALD''S F ROCKY RIVER OH 05/13</td>\n",
       "      <td>McDonald''s</td>\n",
       "      <td>Coca-Cola</td>\n",
       "      <td>0</td>\n",
       "      <td>0.085374</td>\n",
       "      <td>-0.001350</td>\n",
       "    </tr>\n",
       "    <tr>\n",
       "      <th>9499</th>\n",
       "      <td>9809070494</td>\n",
       "      <td>ONLINE TRANSFER FROM BELMAN A WELLS FARGO CLEA...</td>\n",
       "      <td>ONLINE TRANSFER FROM BELMAN A WELLS FARGO CLEA...</td>\n",
       "      <td>ONLINE TRANSFER FROM BELMAN A WELLS FARGO CLEA...</td>\n",
       "      <td>Wells Fargo</td>\n",
       "      <td>Albertsons</td>\n",
       "      <td>0</td>\n",
       "      <td>0.344464</td>\n",
       "      <td>-0.001449</td>\n",
       "    </tr>\n",
       "  </tbody>\n",
       "</table>\n",
       "<p>9500 rows × 9 columns</p>\n",
       "</div>"
      ],
      "text/plain": [
       "      transaction_id                                           sentence  \\\n",
       "0         9798760350  Debit Purchase Wal-mart Super Cbrookings Sd 05...   \n",
       "1         9806775557  MONEY TRANSFER AUTHORIZED ON 05/13 CASH APP*JE...   \n",
       "2         9798728894  MONEY TRANSFER AUTHORIZED ON 05/13 FROM Earnin...   \n",
       "3         9799291124  MONEY TRANSFER AUTHORIZED ON 05/13 CASH APP*JE...   \n",
       "4         9799976650  Instant Pmt from Earnin RDBFA_B on 05/14 Ref# ...   \n",
       "...              ...                                                ...   \n",
       "9495      9799636891  PURCHASE RETURN AUTHORIZED ON 05/13 AMZN Mktp ...   \n",
       "9496      9799365097  AMZN Mktp US GE69A,2YL3 Amzn com WA,05-13-24,C...   \n",
       "9497      9814848095  ONLINE TRANSFER FROM NAME N WELLS FARGO CLEAR ...   \n",
       "9498      9799827250  MCDONALD''S F ROCKY RIVER OH 05/13. Channel: i...   \n",
       "9499      9809070494  ONLINE TRANSFER FROM BELMAN A WELLS FARGO CLEA...   \n",
       "\n",
       "                                              sentence2  \\\n",
       "0     Debit Purchase Wal-mart Super Cbrookings Sd 05...   \n",
       "1     MONEY TRANSFER AUTHORIZED ON 05/13 CASH APP*JE...   \n",
       "2     MONEY TRANSFER AUTHORIZED ON 05/13 FROM Earnin...   \n",
       "3     MONEY TRANSFER AUTHORIZED ON 05/13 CASH APP*JE...   \n",
       "4     Instant Pmt from Earnin RDBFA_B on 05/14 Ref# ...   \n",
       "...                                                 ...   \n",
       "9495  PURCHASE RETURN AUTHORIZED ON 05/13 AMZN Mktp ...   \n",
       "9496  AMZN Mktp US GE69A,2YL3 Amzn com WA,05-13-24,C...   \n",
       "9497  ONLINE TRANSFER FROM NAME N WELLS FARGO CLEAR ...   \n",
       "9498  MCDONALD''S F ROCKY RIVER OH 05/13. Type: merc...   \n",
       "9499  ONLINE TRANSFER FROM BELMAN A WELLS FARGO CLEA...   \n",
       "\n",
       "                         description_combined_processed  \\\n",
       "0     Debit Purchase Wal-mart Super Cbrookings Sd 05...   \n",
       "1     MONEY TRANSFER AUTHORIZED ON 05/13 CASH APP*JE...   \n",
       "2     MONEY TRANSFER AUTHORIZED ON 05/13 FROM Earnin...   \n",
       "3     MONEY TRANSFER AUTHORIZED ON 05/13 CASH APP*JE...   \n",
       "4     Instant Pmt from Earnin RDBFA_B on 05/14 Ref# ...   \n",
       "...                                                 ...   \n",
       "9495  PURCHASE RETURN AUTHORIZED ON 05/13 AMZN Mktp ...   \n",
       "9496  AMZN Mktp US GE69A,2YL3 Amzn com WA,05-13-24,C...   \n",
       "9497  ONLINE TRANSFER FROM NAME N WELLS FARGO CLEAR ...   \n",
       "9498                 MCDONALD''S F ROCKY RIVER OH 05/13   \n",
       "9499  ONLINE TRANSFER FROM BELMAN A WELLS FARGO CLEA...   \n",
       "\n",
       "     true_merchant_name_combined merchant_name_combined  true_label     label  \\\n",
       "0                        Walmart          Exotic S Shop           0  0.328529   \n",
       "1                       Cash App                 Acorns           0  0.265679   \n",
       "2                         Earnin                 PayPal           0  0.207873   \n",
       "3                       Cash App            Wells Fargo           0  0.008904   \n",
       "4                         Earnin                  Venmo           0  0.054398   \n",
       "...                          ...                    ...         ...       ...   \n",
       "9495                      Amazon          TGI Friday''s           0  0.102636   \n",
       "9496                      Amazon                 Amazon           1  0.840733   \n",
       "9497                 Wells Fargo            Wells Fargo           1  0.888943   \n",
       "9498                 McDonald''s              Coca-Cola           0  0.085374   \n",
       "9499                 Wells Fargo             Albertsons           0  0.344464   \n",
       "\n",
       "      cos_similarity  \n",
       "0           0.000262  \n",
       "1          -0.010028  \n",
       "2          -0.003231  \n",
       "3           0.001403  \n",
       "4          -0.010100  \n",
       "...              ...  \n",
       "9495        0.001885  \n",
       "9496        0.995985  \n",
       "9497        0.988127  \n",
       "9498       -0.001350  \n",
       "9499       -0.001449  \n",
       "\n",
       "[9500 rows x 9 columns]"
      ]
     },
     "execution_count": 34,
     "metadata": {},
     "output_type": "execute_result"
    }
   ],
   "source": [
    "df_val"
   ]
  },
  {
   "cell_type": "code",
   "execution_count": null,
   "metadata": {},
   "outputs": [
    {
     "ename": "KeyboardInterrupt",
     "evalue": "",
     "output_type": "error",
     "traceback": [
      "\u001b[0;31m---------------------------------------------------------------------------\u001b[0m",
      "\u001b[0;31mKeyboardInterrupt\u001b[0m                         Traceback (most recent call last)",
      "\u001b[1;32m/home/sagemaker-user/exploration/MERCHANTS/Biencoder_v1_sbert.ipynb Cell 36\u001b[0m line \u001b[0;36m1\n\u001b[0;32m----> <a href='vscode-notebook-cell://yd6plnil3hw8unc.studio.us-east-1.sagemaker.aws/home/sagemaker-user/exploration/MERCHANTS/Biencoder_v1_sbert.ipynb#Y100sdnNjb2RlLXJlbW90ZQ%3D%3D?line=0'>1</a>\u001b[0m \u001b[39mwhile\u001b[39;00m \u001b[39mTrue\u001b[39;00m:\n\u001b[1;32m      <a href='vscode-notebook-cell://yd6plnil3hw8unc.studio.us-east-1.sagemaker.aws/home/sagemaker-user/exploration/MERCHANTS/Biencoder_v1_sbert.ipynb#Y100sdnNjb2RlLXJlbW90ZQ%3D%3D?line=1'>2</a>\u001b[0m     \u001b[39mpass\u001b[39;00m\n",
      "\u001b[0;31mKeyboardInterrupt\u001b[0m: "
     ]
    }
   ],
   "source": [
    "while True:\n",
    "    pass"
   ]
  },
  {
   "cell_type": "code",
   "execution_count": null,
   "metadata": {},
   "outputs": [],
   "source": [
    "validate_data[['label', 'true_label','cos_similarity']]"
   ]
  },
  {
   "cell_type": "code",
   "execution_count": null,
   "metadata": {},
   "outputs": [],
   "source": []
  },
  {
   "cell_type": "code",
   "execution_count": null,
   "metadata": {},
   "outputs": [],
   "source": [
    "# reducer = umap.UMAP(n_epochs=400,  n_neighbors=150, min_dist=0.1)\n",
    "# reducer.fit(merchants_embeddings\n",
    "# )\n",
    "# embedding_2d = reducer.transform(merchants_embeddings)\n",
    "# fig = px.scatter(embedding_2d, x=0, y=1,opacity=0.05, height=500, hover_name=names)\n",
    "# fig.show()"
   ]
  }
 ],
 "metadata": {
  "kernelspec": {
   "display_name": "base",
   "language": "python",
   "name": "python3"
  },
  "language_info": {
   "codemirror_mode": {
    "name": "ipython",
    "version": 3
   },
   "file_extension": ".py",
   "mimetype": "text/x-python",
   "name": "python",
   "nbconvert_exporter": "python",
   "pygments_lexer": "ipython3",
   "version": "3.10.14"
  }
 },
 "nbformat": 4,
 "nbformat_minor": 2
}
