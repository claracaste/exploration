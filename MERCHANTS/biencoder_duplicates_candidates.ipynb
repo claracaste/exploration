{
 "cells": [
  {
   "cell_type": "markdown",
   "metadata": {},
   "source": [
    "# DUPLICATES"
   ]
  },
  {
   "cell_type": "markdown",
   "metadata": {},
   "source": [
    "### 1. Run the embedding/transaction model. When the prediction probability is high (ex: p>0.95), the COMMONLY confused merchants are duplicate candidates"
   ]
  },
  {
   "cell_type": "markdown",
   "metadata": {},
   "source": [
    "### 2. Run the duplicate identification model \n",
    "\n",
    "\n",
    "- (Tx, m1) , (Tx, m2) will say if the pair is a duplicate or not. \n",
    "\n",
    "- Also use the average spend for each merchant. \n",
    "\n",
    "- If we reliably have the"
   ]
  },
  {
   "cell_type": "markdown",
   "metadata": {},
   "source": [
    "S"
   ]
  }
 ],
 "metadata": {
  "language_info": {
   "name": "python"
  }
 },
 "nbformat": 4,
 "nbformat_minor": 2
}
