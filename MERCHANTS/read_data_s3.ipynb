{
 "cells": [
  {
   "cell_type": "code",
   "execution_count": 3,
   "metadata": {},
   "outputs": [
    {
     "name": "stdout",
     "output_type": "stream",
     "text": [
      "\u001b[2m2024-05-21 14:14:04\u001b[0m [\u001b[32m\u001b[1mdebug    \u001b[0m] \u001b[1mfetching credentials          \u001b[0m\n",
      "\u001b[2m2024-05-21 14:14:06\u001b[0m [\u001b[32m\u001b[1minfo     \u001b[0m] \u001b[1mCredentials acquired          \u001b[0m\n",
      "\u001b[2m2024-05-21 14:14:06\u001b[0m [\u001b[32m\u001b[1minfo     \u001b[0m] \u001b[1mBuilt connection pool         \u001b[0m\n"
     ]
    }
   ],
   "source": [
    "import pandas as pd\n",
    "from datetime import datetime\n",
    "import boto3\n",
    "from botocore.exceptions import ClientError\n",
    "from io import StringIO\n",
    "from cleodata.utils.secrets import get_secret\n",
    "import s3fs\n",
    "from fastparquet import ParquetFile\n",
    "from cleodata.sources.sync.sync import SyncDataSource\n",
    "boto3.setup_default_session(profile_name='DataScientist-878877078763')\n",
    "redshift_source = SyncDataSource(\"data_exploration\", use_redshift=True, redshift_cluster=\"cleo-production-redshift\", redshift_db=\"cleo\")"
   ]
  },
  {
   "cell_type": "code",
   "execution_count": 4,
   "metadata": {},
   "outputs": [],
   "source": [
    "def read_from_s3(path):\n",
    "    \"\"\"Read parquet files and combine them into a single dataframe\"\"\"\n",
    "    fs = s3fs.core.S3FileSystem()\n",
    "    all_paths_from_s3 = fs.glob(path=f\"{path}*.parquet\")\n",
    "\n",
    "    if len(all_paths_from_s3) > 0:\n",
    "        s3 = s3fs.S3FileSystem()\n",
    "        fp_obj = ParquetFile(\n",
    "            all_paths_from_s3, open_with=s3.open\n",
    "        )  # use s3fs as the filesystem\n",
    "        data = fp_obj.to_pandas()\n",
    "        return data\n",
    "    elif len(all_paths_from_s3)==1:\n",
    "        return pd.read_parquet(all_paths_from_s3[0])\n",
    "    else:\n",
    "        print(f\"Nothing found\")\n",
    "        print(f\"paths from a{all_paths_from_s3}\")\n",
    "    \n",
    "def read_csv_s3(bucket, key):\n",
    "    try:\n",
    "        s3 = boto3.client('s3')\n",
    "        obj = s3.get_object(Bucket=bucket, Key=key)\n",
    "        df = pd.read_csv(obj['Body'])\n",
    "        return df\n",
    "    except ClientError as ex:\n",
    "        if ex.response['Error']['Code'] == 'NoSuchKey':\n",
    "            print(\"Key doesn't match. Please check the key value entered.\")\n"
   ]
  },
  {
   "cell_type": "code",
   "execution_count": 6,
   "metadata": {},
   "outputs": [
    {
     "data": {
      "text/plain": [
       "['cleo-data-science/transaction_enrichment/experimental_data/caste/transactions__240521_12300000_part_00.parquet',\n",
       " 'cleo-data-science/transaction_enrichment/experimental_data/caste/transactions__240521_12300001_part_00.parquet',\n",
       " 'cleo-data-science/transaction_enrichment/experimental_data/caste/transactions__240521_12300002_part_00.parquet',\n",
       " 'cleo-data-science/transaction_enrichment/experimental_data/caste/transactions__240521_12300003_part_00.parquet',\n",
       " 'cleo-data-science/transaction_enrichment/experimental_data/caste/transactions__240521_12300004_part_00.parquet',\n",
       " 'cleo-data-science/transaction_enrichment/experimental_data/caste/transactions__240521_12300005_part_00.parquet',\n",
       " 'cleo-data-science/transaction_enrichment/experimental_data/caste/transactions__240521_12300006_part_00.parquet',\n",
       " 'cleo-data-science/transaction_enrichment/experimental_data/caste/transactions__240521_12300007_part_00.parquet',\n",
       " 'cleo-data-science/transaction_enrichment/experimental_data/caste/transactions__240521_12300008_part_00.parquet',\n",
       " 'cleo-data-science/transaction_enrichment/experimental_data/caste/transactions__240521_12300009_part_00.parquet',\n",
       " 'cleo-data-science/transaction_enrichment/experimental_data/caste/transactions__240521_12300010_part_00.parquet',\n",
       " 'cleo-data-science/transaction_enrichment/experimental_data/caste/transactions__240521_12300011_part_00.parquet',\n",
       " 'cleo-data-science/transaction_enrichment/experimental_data/caste/transactions__240521_12300012_part_00.parquet',\n",
       " 'cleo-data-science/transaction_enrichment/experimental_data/caste/transactions__240521_12300013_part_00.parquet',\n",
       " 'cleo-data-science/transaction_enrichment/experimental_data/caste/transactions__240521_12300014_part_00.parquet',\n",
       " 'cleo-data-science/transaction_enrichment/experimental_data/caste/transactions__240521_12300015_part_00.parquet',\n",
       " 'cleo-data-science/transaction_enrichment/experimental_data/caste/transactions__240521_12300016_part_00.parquet',\n",
       " 'cleo-data-science/transaction_enrichment/experimental_data/caste/transactions__240521_12300017_part_00.parquet',\n",
       " 'cleo-data-science/transaction_enrichment/experimental_data/caste/transactions__240521_12300018_part_00.parquet',\n",
       " 'cleo-data-science/transaction_enrichment/experimental_data/caste/transactions__240521_12300019_part_00.parquet',\n",
       " 'cleo-data-science/transaction_enrichment/experimental_data/caste/transactions__240521_12300020_part_00.parquet',\n",
       " 'cleo-data-science/transaction_enrichment/experimental_data/caste/transactions__240521_12300021_part_00.parquet',\n",
       " 'cleo-data-science/transaction_enrichment/experimental_data/caste/transactions__240521_12300022_part_00.parquet',\n",
       " 'cleo-data-science/transaction_enrichment/experimental_data/caste/transactions__240521_12300023_part_00.parquet']"
      ]
     },
     "execution_count": 6,
     "metadata": {},
     "output_type": "execute_result"
    }
   ],
   "source": [
    "base_path = 's3://cleo-data-science/transaction_enrichment/experimental_data/caste/transactions__240521_1230'\n",
    "fs = s3fs.core.S3FileSystem()\n",
    "all_paths_from_s3 = fs.glob(path=f\"{base_path}*.parquet\")\n",
    "all_paths_from_s3"
   ]
  },
  {
   "cell_type": "code",
   "execution_count": 7,
   "metadata": {},
   "outputs": [
    {
     "ename": "",
     "evalue": "",
     "output_type": "error",
     "traceback": [
      "\u001b[1;31mThe Kernel crashed while executing code in the current cell or a previous cell. \n",
      "\u001b[1;31mPlease review the code in the cell(s) to identify a possible cause of the failure. \n",
      "\u001b[1;31mClick <a href='https://aka.ms/vscodeJupyterKernelCrash'>here</a> for more info. \n",
      "\u001b[1;31mView Jupyter <a href='command:jupyter.viewOutput'>log</a> for further details."
     ]
    }
   ],
   "source": [
    "df_trans = read_from_s3(base_path)"
   ]
  },
  {
   "cell_type": "code",
   "execution_count": null,
   "metadata": {},
   "outputs": [],
   "source": [
    "df_trans.shape"
   ]
  },
  {
   "cell_type": "code",
   "execution_count": null,
   "metadata": {},
   "outputs": [],
   "source": [
    "bucket_name = 'cleo-data-science'\n",
    "folder_name = 'transaction_enrichment/experimental_data/caste/transactions__240521_12300'\n",
    "\n",
    "def list_all_files(bucket_name, folder_name):\n",
    "    s3_client = boto3.client('s3')\n",
    "    response = s3_client.list_objects_v2(Bucket = bucket_name, Prefix = folder_name)\n",
    "    print(response)\n",
    "    if 'Contents' in response:\n",
    "\n",
    "        # for obj in response['Contents']:\n",
    "        #     print(obj['Key'])\n",
    "        all_paths_from_s3   = [obj['Key'] for obj in response['Contents']]\n",
    "        # all_paths_from_s3 = fs.glob(path=f\"{path}*.parquet\")\n",
    "        print(all_paths_from_s3)\n",
    "\n",
    "        return all_paths_from_s3\n",
    "    else:\n",
    "        return None"
   ]
  },
  {
   "cell_type": "code",
   "execution_count": null,
   "metadata": {},
   "outputs": [],
   "source": [
    "import boto3\n",
    "\n",
    "#session = boto3.Session( aws_access_key_id='<your_access_key_id>', aws_secret_access_key='<your_secret_access_key>')\n",
    "\n",
    "boto3.setup_default_session(profile_name='DataScientist-878877078763')\n",
    "\n",
    "session = boto3.Session()\n",
    "s3 = session.resource('s3')\n",
    "\n",
    "\n",
    "\n",
    "my_bucket = s3.Bucket('cleo-data-science/transaction_enrichment')\n",
    "\n",
    "for my_bucket_object in my_bucket.objects.all():\n",
    "    print(my_bucket_object.key)"
   ]
  },
  {
   "cell_type": "code",
   "execution_count": null,
   "metadata": {},
   "outputs": [],
   "source": [
    "print(path)\n",
    "ppn = 'cleo-data-science/transaction_enrichment/experimental_data/caste/'\n",
    "fs = s3fs.core.S3FileSystem()\n",
    "all_paths_from_s3 = fs.glob(path=f\"{path}*\")\n",
    "print(all_paths_from_s3)"
   ]
  },
  {
   "cell_type": "code",
   "execution_count": null,
   "metadata": {},
   "outputs": [],
   "source": [
    "fs = s3fs.core.S3FileSystem()\n",
    "all_paths_from_s3 = fs.glob(path=f\"cleo-data-science/transaction_enrichment/experimental_data/caste/transactions*\")\n",
    "all_paths_from_s3"
   ]
  }
 ],
 "metadata": {
  "kernelspec": {
   "display_name": ".venvdataexp",
   "language": "python",
   "name": "python3"
  },
  "language_info": {
   "codemirror_mode": {
    "name": "ipython",
    "version": 3
   },
   "file_extension": ".py",
   "mimetype": "text/x-python",
   "name": "python",
   "nbconvert_exporter": "python",
   "pygments_lexer": "ipython3",
   "version": "3.12.3"
  }
 },
 "nbformat": 4,
 "nbformat_minor": 2
}
