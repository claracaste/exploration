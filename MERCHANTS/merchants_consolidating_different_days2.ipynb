{
 "cells": [
  {
   "cell_type": "code",
   "execution_count": 1,
   "metadata": {},
   "outputs": [
    {
     "name": "stdout",
     "output_type": "stream",
     "text": [
      "Requirement already satisfied: pyarrow in /opt/conda/lib/python3.10/site-packages (12.0.1)\n",
      "Requirement already satisfied: numpy>=1.16.6 in /opt/conda/lib/python3.10/site-packages (from pyarrow) (1.26.4)\n",
      "Note: you may need to restart the kernel to use updated packages.\n",
      "Collecting fastparquet\n",
      "  Using cached fastparquet-2024.5.0-cp310-cp310-manylinux_2_17_x86_64.manylinux2014_x86_64.whl.metadata (4.1 kB)\n",
      "Requirement already satisfied: pandas>=1.5.0 in /opt/conda/lib/python3.10/site-packages (from fastparquet) (2.1.4)\n",
      "Requirement already satisfied: numpy in /opt/conda/lib/python3.10/site-packages (from fastparquet) (1.26.4)\n",
      "Collecting cramjam>=2.3 (from fastparquet)\n",
      "  Using cached cramjam-2.8.3-cp310-cp310-manylinux_2_17_x86_64.manylinux2014_x86_64.whl.metadata (4.2 kB)\n",
      "Requirement already satisfied: fsspec in /opt/conda/lib/python3.10/site-packages (from fastparquet) (2023.6.0)\n",
      "Requirement already satisfied: packaging in /opt/conda/lib/python3.10/site-packages (from fastparquet) (23.2)\n",
      "Requirement already satisfied: python-dateutil>=2.8.2 in /opt/conda/lib/python3.10/site-packages (from pandas>=1.5.0->fastparquet) (2.9.0)\n",
      "Requirement already satisfied: pytz>=2020.1 in /opt/conda/lib/python3.10/site-packages (from pandas>=1.5.0->fastparquet) (2023.3)\n",
      "Requirement already satisfied: tzdata>=2022.1 in /opt/conda/lib/python3.10/site-packages (from pandas>=1.5.0->fastparquet) (2024.1)\n",
      "Requirement already satisfied: six>=1.5 in /opt/conda/lib/python3.10/site-packages (from python-dateutil>=2.8.2->pandas>=1.5.0->fastparquet) (1.16.0)\n",
      "Using cached fastparquet-2024.5.0-cp310-cp310-manylinux_2_17_x86_64.manylinux2014_x86_64.whl (1.7 MB)\n",
      "Using cached cramjam-2.8.3-cp310-cp310-manylinux_2_17_x86_64.manylinux2014_x86_64.whl (2.0 MB)\n",
      "Installing collected packages: cramjam, fastparquet\n",
      "Successfully installed cramjam-2.8.3 fastparquet-2024.5.0\n",
      "Note: you may need to restart the kernel to use updated packages.\n",
      "Collecting awswrangler\n",
      "  Using cached awswrangler-3.8.0-py3-none-any.whl.metadata (17 kB)\n",
      "Requirement already satisfied: boto3<2.0.0,>=1.20.32 in /opt/conda/lib/python3.10/site-packages (from awswrangler) (1.34.51)\n",
      "Requirement already satisfied: botocore<2.0.0,>=1.23.32 in /opt/conda/lib/python3.10/site-packages (from awswrangler) (1.34.51)\n",
      "Requirement already satisfied: numpy<2.0,>=1.18 in /opt/conda/lib/python3.10/site-packages (from awswrangler) (1.26.4)\n",
      "Requirement already satisfied: packaging<25.0,>=21.1 in /opt/conda/lib/python3.10/site-packages (from awswrangler) (23.2)\n",
      "Requirement already satisfied: pandas<3.0.0,>=1.2.0 in /opt/conda/lib/python3.10/site-packages (from awswrangler) (2.1.4)\n",
      "Requirement already satisfied: pyarrow>=8.0.0 in /opt/conda/lib/python3.10/site-packages (from awswrangler) (12.0.1)\n",
      "Requirement already satisfied: typing-extensions<5.0.0,>=4.4.0 in /opt/conda/lib/python3.10/site-packages (from awswrangler) (4.5.0)\n",
      "Requirement already satisfied: jmespath<2.0.0,>=0.7.1 in /opt/conda/lib/python3.10/site-packages (from boto3<2.0.0,>=1.20.32->awswrangler) (1.0.1)\n",
      "Requirement already satisfied: s3transfer<0.11.0,>=0.10.0 in /opt/conda/lib/python3.10/site-packages (from boto3<2.0.0,>=1.20.32->awswrangler) (0.10.1)\n",
      "Requirement already satisfied: python-dateutil<3.0.0,>=2.1 in /opt/conda/lib/python3.10/site-packages (from botocore<2.0.0,>=1.23.32->awswrangler) (2.9.0)\n",
      "Requirement already satisfied: urllib3<2.1,>=1.25.4 in /opt/conda/lib/python3.10/site-packages (from botocore<2.0.0,>=1.23.32->awswrangler) (1.26.18)\n",
      "Requirement already satisfied: pytz>=2020.1 in /opt/conda/lib/python3.10/site-packages (from pandas<3.0.0,>=1.2.0->awswrangler) (2023.3)\n",
      "Requirement already satisfied: tzdata>=2022.1 in /opt/conda/lib/python3.10/site-packages (from pandas<3.0.0,>=1.2.0->awswrangler) (2024.1)\n",
      "Requirement already satisfied: six>=1.5 in /opt/conda/lib/python3.10/site-packages (from python-dateutil<3.0.0,>=2.1->botocore<2.0.0,>=1.23.32->awswrangler) (1.16.0)\n",
      "Using cached awswrangler-3.8.0-py3-none-any.whl (380 kB)\n",
      "Installing collected packages: awswrangler\n",
      "Successfully installed awswrangler-3.8.0\n",
      "Note: you may need to restart the kernel to use updated packages.\n",
      "Collecting s3fs\n",
      "  Using cached s3fs-2024.6.0-py3-none-any.whl.metadata (1.6 kB)\n",
      "Requirement already satisfied: aiobotocore<3.0.0,>=2.5.4 in /opt/conda/lib/python3.10/site-packages (from s3fs) (2.12.2)\n",
      "Collecting fsspec==2024.6.0.* (from s3fs)\n",
      "  Using cached fsspec-2024.6.0-py3-none-any.whl.metadata (11 kB)\n",
      "Requirement already satisfied: aiohttp!=4.0.0a0,!=4.0.0a1 in /opt/conda/lib/python3.10/site-packages (from s3fs) (3.9.5)\n",
      "Requirement already satisfied: botocore<1.34.52,>=1.34.41 in /opt/conda/lib/python3.10/site-packages (from aiobotocore<3.0.0,>=2.5.4->s3fs) (1.34.51)\n",
      "Requirement already satisfied: wrapt<2.0.0,>=1.10.10 in /opt/conda/lib/python3.10/site-packages (from aiobotocore<3.0.0,>=2.5.4->s3fs) (1.16.0)\n",
      "Requirement already satisfied: aioitertools<1.0.0,>=0.5.1 in /opt/conda/lib/python3.10/site-packages (from aiobotocore<3.0.0,>=2.5.4->s3fs) (0.11.0)\n",
      "Requirement already satisfied: aiosignal>=1.1.2 in /opt/conda/lib/python3.10/site-packages (from aiohttp!=4.0.0a0,!=4.0.0a1->s3fs) (1.3.1)\n",
      "Requirement already satisfied: attrs>=17.3.0 in /opt/conda/lib/python3.10/site-packages (from aiohttp!=4.0.0a0,!=4.0.0a1->s3fs) (23.2.0)\n",
      "Requirement already satisfied: frozenlist>=1.1.1 in /opt/conda/lib/python3.10/site-packages (from aiohttp!=4.0.0a0,!=4.0.0a1->s3fs) (1.4.1)\n",
      "Requirement already satisfied: multidict<7.0,>=4.5 in /opt/conda/lib/python3.10/site-packages (from aiohttp!=4.0.0a0,!=4.0.0a1->s3fs) (6.0.5)\n",
      "Requirement already satisfied: yarl<2.0,>=1.0 in /opt/conda/lib/python3.10/site-packages (from aiohttp!=4.0.0a0,!=4.0.0a1->s3fs) (1.9.4)\n",
      "Requirement already satisfied: async-timeout<5.0,>=4.0 in /opt/conda/lib/python3.10/site-packages (from aiohttp!=4.0.0a0,!=4.0.0a1->s3fs) (4.0.3)\n",
      "Requirement already satisfied: jmespath<2.0.0,>=0.7.1 in /opt/conda/lib/python3.10/site-packages (from botocore<1.34.52,>=1.34.41->aiobotocore<3.0.0,>=2.5.4->s3fs) (1.0.1)\n",
      "Requirement already satisfied: python-dateutil<3.0.0,>=2.1 in /opt/conda/lib/python3.10/site-packages (from botocore<1.34.52,>=1.34.41->aiobotocore<3.0.0,>=2.5.4->s3fs) (2.9.0)\n",
      "Requirement already satisfied: urllib3<2.1,>=1.25.4 in /opt/conda/lib/python3.10/site-packages (from botocore<1.34.52,>=1.34.41->aiobotocore<3.0.0,>=2.5.4->s3fs) (1.26.18)\n",
      "Requirement already satisfied: idna>=2.0 in /opt/conda/lib/python3.10/site-packages (from yarl<2.0,>=1.0->aiohttp!=4.0.0a0,!=4.0.0a1->s3fs) (3.7)\n",
      "Requirement already satisfied: six>=1.5 in /opt/conda/lib/python3.10/site-packages (from python-dateutil<3.0.0,>=2.1->botocore<1.34.52,>=1.34.41->aiobotocore<3.0.0,>=2.5.4->s3fs) (1.16.0)\n",
      "Using cached s3fs-2024.6.0-py3-none-any.whl (29 kB)\n",
      "Using cached fsspec-2024.6.0-py3-none-any.whl (176 kB)\n",
      "Installing collected packages: fsspec, s3fs\n",
      "  Attempting uninstall: fsspec\n",
      "    Found existing installation: fsspec 2023.6.0\n",
      "    Uninstalling fsspec-2023.6.0:\n",
      "      Successfully uninstalled fsspec-2023.6.0\n",
      "\u001b[31mERROR: pip's dependency resolver does not currently take into account all the packages that are installed. This behaviour is the source of the following dependency conflicts.\n",
      "jupyter-ai 2.12.0 requires faiss-cpu, which is not installed.\n",
      "datasets 2.19.1 requires fsspec[http]<=2024.3.1,>=2023.1.0, but you have fsspec 2024.6.0 which is incompatible.\n",
      "jupyter-scheduler 2.5.2 requires fsspec==2023.6.0, but you have fsspec 2024.6.0 which is incompatible.\u001b[0m\u001b[31m\n",
      "\u001b[0mSuccessfully installed fsspec-2023.6.0 s3fs-2024.6.0\n",
      "Note: you may need to restart the kernel to use updated packages.\n"
     ]
    }
   ],
   "source": [
    "%pip install pyarrow\n",
    "%pip install fastparquet\n",
    "%pip install awswrangler\n",
    "%pip install s3fs\n"
   ]
  },
  {
   "cell_type": "code",
   "execution_count": 2,
   "metadata": {},
   "outputs": [],
   "source": [
    "import s3fs\n",
    "import pandas as pd"
   ]
  },
  {
   "cell_type": "code",
   "execution_count": 3,
   "metadata": {},
   "outputs": [],
   "source": [
    "def read_from_s3(path):\n",
    "    \"\"\"Read parquet files and combine them into a single dataframe\"\"\"\n",
    "    fs = s3fs.core.S3FileSystem()\n",
    "    all_paths_from_s3 = fs.glob(path=f\"{path}*.parquet\")\n",
    "\n",
    "    if len(all_paths_from_s3) > 0:\n",
    "        s3 = s3fs.S3FileSystem()\n",
    "        fp_obj = ParquetFile(\n",
    "            all_paths_from_s3, open_with=s3.open\n",
    "        )  # use s3fs as the filesystem\n",
    "        data = fp_obj.to_pandas()\n",
    "        return data\n",
    "    elif len(all_paths_from_s3)==1:\n",
    "        return pd.read_parquet(all_paths_from_s3[0])\n",
    "    else:\n",
    "        print(f\"Nothing found\")\n",
    "        print(f\"paths from a{all_paths_from_s3}\")\n",
    "    \n",
    "def read_csv_s3(bucket, key):\n",
    "    try:\n",
    "        s3 = boto3.client('s3')\n",
    "        obj = s3.get_object(Bucket=bucket, Key=key)\n",
    "        df = pd.read_csv(obj['Body'])\n",
    "        return df\n",
    "    except ClientError as ex:\n",
    "        if ex.response['Error']['Code'] == 'NoSuchKey':\n",
    "            print(\"Key doesn't match. Please check the key value entered.\")\n",
    "\n",
    "def list_s3_flies(base_path):\n",
    "    fs = s3fs.core.S3FileSystem()\n",
    "    all_paths_from_s3 = fs.glob(path=f\"{base_path}*.parquet\")\n",
    "    return all_paths_from_s3\n"
   ]
  },
  {
   "cell_type": "code",
   "execution_count": 16,
   "metadata": {},
   "outputs": [
    {
     "data": {
      "text/plain": [
       "['2024-05-14', '2024-05-15', '2024-05-16']"
      ]
     },
     "execution_count": 16,
     "metadata": {},
     "output_type": "execute_result"
    }
   ],
   "source": [
    "start_date_s = '2024-05-14'\n",
    "end_date_s = '2024-05-16'\n",
    "date_range = pd.date_range(start=start_date_s, end=end_date_s)\n",
    "# Convert the date range to a list of strings\n",
    "date_list = date_range.strftime('%Y-%m-%d').tolist()\n",
    "date_list"
   ]
  },
  {
   "cell_type": "code",
   "execution_count": 19,
   "metadata": {},
   "outputs": [
    {
     "name": "stdout",
     "output_type": "stream",
     "text": [
      "Load s3://cleo-data-science/transaction_enrichment/experimental_data/caste/processed/trans_2024-05-14_2024-05-14\n",
      " Loaded shape (6941468, 10)\n",
      " Loaded shape (4132226, 10)\n",
      "Load s3://cleo-data-science/transaction_enrichment/experimental_data/caste/processed/trans_2024-05-15_2024-05-15\n",
      " Loaded shape (3836546, 10)\n",
      " Loaded shape (2501087, 10)\n",
      "Load s3://cleo-data-science/transaction_enrichment/experimental_data/caste/processed/trans_2024-05-16_2024-05-16\n",
      " Loaded shape (4203874, 9)\n",
      " Loaded shape (2688002, 9)\n"
     ]
    }
   ],
   "source": [
    "max_rows_per_type = 10000\n",
    "df_total = pd.DataFrame()\n",
    "for one_date in date_list:\n",
    "    one_date_s = str(one_date)\n",
    "    path_file =  f\"s3://cleo-data-science/transaction_enrichment/experimental_data/caste/processed/trans_{one_date_s}_{one_date_s}\"\n",
    "    print(f\"Load {path_file}\")\n",
    "    df_trans = pd.read_parquet(path_file, engine='pyarrow')\n",
    "    print(f\" Loaded shape {df_trans.shape}\")\n",
    "    sampled_df = df_trans.groupby('merchant_name_combined').apply(lambda x: x.sample(min(len(x), max_rows_per_type))).reset_index(drop=True)\n",
    "    print(f\" sampled shape {sampled_df.shape}\")\n",
    "    df_total = pd.concat([df_total,sampled_df ], axis=0)\n"
   ]
  },
  {
   "cell_type": "code",
   "execution_count": 21,
   "metadata": {},
   "outputs": [
    {
     "data": {
      "text/plain": [
       "merchant_name_combined\n",
       "QuikTrip              30000\n",
       "Burger King           30000\n",
       "Speedway              30000\n",
       "Chevron               30000\n",
       "Wells Fargo           30000\n",
       "                      ...  \n",
       "Spotify               17337\n",
       "Cash App Transfer     17156\n",
       "365 Retail Markets    16533\n",
       "Credit One Bank       16268\n",
       "Coinbase              16245\n",
       "Name: count, Length: 100, dtype: int64"
      ]
     },
     "execution_count": 21,
     "metadata": {},
     "output_type": "execute_result"
    },
    {
     "ename": "",
     "evalue": "",
     "output_type": "error",
     "traceback": [
      "\u001b[1;31mThe Kernel crashed while executing code in the the current cell or a previous cell. Please review the code in the cell(s) to identify a possible cause of the failure. Click <a href='https://aka.ms/vscodeJupyterKernelCrash'>here</a> for more info. View Jupyter <a href='command:jupyter.viewOutput'>log</a> for further details."
     ]
    }
   ],
   "source": [
    "df_total['merchant_name_combined'].value_counts()[0:100]"
   ]
  },
  {
   "cell_type": "code",
   "execution_count": 12,
   "metadata": {},
   "outputs": [
    {
     "data": {
      "text/html": [
       "<div>\n",
       "<style scoped>\n",
       "    .dataframe tbody tr th:only-of-type {\n",
       "        vertical-align: middle;\n",
       "    }\n",
       "\n",
       "    .dataframe tbody tr th {\n",
       "        vertical-align: top;\n",
       "    }\n",
       "\n",
       "    .dataframe thead th {\n",
       "        text-align: right;\n",
       "    }\n",
       "</style>\n",
       "<table border=\"1\" class=\"dataframe\">\n",
       "  <thead>\n",
       "    <tr style=\"text-align: right;\">\n",
       "      <th></th>\n",
       "      <th>transaction_id</th>\n",
       "      <th>corrected_made_on</th>\n",
       "      <th>amount</th>\n",
       "      <th>description_combined</th>\n",
       "      <th>merchant_name_combined</th>\n",
       "      <th>description_combined_processed</th>\n",
       "      <th>sentence</th>\n",
       "      <th>sentence2</th>\n",
       "      <th>payment_channel</th>\n",
       "      <th>currency_code</th>\n",
       "    </tr>\n",
       "  </thead>\n",
       "  <tbody>\n",
       "    <tr>\n",
       "      <th>0</th>\n",
       "      <td>9857349457</td>\n",
       "      <td>2024-05-15</td>\n",
       "      <td>-372.1</td>\n",
       "      <td>Transfer to Credit Builder</td>\n",
       "      <td>Builder</td>\n",
       "      <td>Transfer to Credit Builder</td>\n",
       "      <td>Transfer to Credit Builder. Channel: None. Amo...</td>\n",
       "      <td>Transfer to Credit Builder. Type: financial_in...</td>\n",
       "      <td>other</td>\n",
       "      <td>USD</td>\n",
       "    </tr>\n",
       "    <tr>\n",
       "      <th>1</th>\n",
       "      <td>9857347115</td>\n",
       "      <td>2024-05-15</td>\n",
       "      <td>-32.9</td>\n",
       "      <td>DD *DOORDASH MCDONALDS</td>\n",
       "      <td>McDonald''s</td>\n",
       "      <td>DD *DOORDASH MCDONALDS</td>\n",
       "      <td>DD *DOORDASH MCDONALDS. Channel: online. Amoun...</td>\n",
       "      <td>DD *DOORDASH MCDONALDS. Type: merchant. Channe...</td>\n",
       "      <td>online</td>\n",
       "      <td>USD</td>\n",
       "    </tr>\n",
       "    <tr>\n",
       "      <th>2</th>\n",
       "      <td>9857383483</td>\n",
       "      <td>2024-05-15</td>\n",
       "      <td>-11.8</td>\n",
       "      <td>CIRCLE K   41641           SURPRISE       AZ</td>\n",
       "      <td>Circle K</td>\n",
       "      <td>CIRCLE K SURPRISE AZ</td>\n",
       "      <td>CIRCLE K SURPRISE AZ. Channel: in store. Amoun...</td>\n",
       "      <td>CIRCLE K SURPRISE AZ. Type: merchant. Channel:...</td>\n",
       "      <td>in store</td>\n",
       "      <td>USD</td>\n",
       "    </tr>\n",
       "    <tr>\n",
       "      <th>3</th>\n",
       "      <td>9857383484</td>\n",
       "      <td>2024-05-15</td>\n",
       "      <td>-131.4</td>\n",
       "      <td>PPD  STATE FARM RO 27 SFPP</td>\n",
       "      <td>State Farm</td>\n",
       "      <td>PPD STATE FARM RO 27 SFPP</td>\n",
       "      <td>PPD STATE FARM RO 27 SFPP. Channel: online. Am...</td>\n",
       "      <td>PPD STATE FARM RO 27 SFPP. Type: merchant. Cha...</td>\n",
       "      <td>online</td>\n",
       "      <td>USD</td>\n",
       "    </tr>\n",
       "    <tr>\n",
       "      <th>4</th>\n",
       "      <td>9857383485</td>\n",
       "      <td>2024-05-15</td>\n",
       "      <td>-144.9</td>\n",
       "      <td>WINCO FOODS  127           SURPRISE       AZ</td>\n",
       "      <td>Winco Foods</td>\n",
       "      <td>WINCO FOODS 127 SURPRISE AZ</td>\n",
       "      <td>WINCO FOODS 127 SURPRISE AZ. Channel: in store...</td>\n",
       "      <td>WINCO FOODS 127 SURPRISE AZ. Type: merchant. C...</td>\n",
       "      <td>in store</td>\n",
       "      <td>USD</td>\n",
       "    </tr>\n",
       "  </tbody>\n",
       "</table>\n",
       "</div>"
      ],
      "text/plain": [
       "   transaction_id corrected_made_on  amount  \\\n",
       "0      9857349457        2024-05-15  -372.1   \n",
       "1      9857347115        2024-05-15   -32.9   \n",
       "2      9857383483        2024-05-15   -11.8   \n",
       "3      9857383484        2024-05-15  -131.4   \n",
       "4      9857383485        2024-05-15  -144.9   \n",
       "\n",
       "                           description_combined merchant_name_combined  \\\n",
       "0                    Transfer to Credit Builder                Builder   \n",
       "1                        DD *DOORDASH MCDONALDS            McDonald''s   \n",
       "2  CIRCLE K   41641           SURPRISE       AZ               Circle K   \n",
       "3                    PPD  STATE FARM RO 27 SFPP             State Farm   \n",
       "4  WINCO FOODS  127           SURPRISE       AZ            Winco Foods   \n",
       "\n",
       "  description_combined_processed  \\\n",
       "0     Transfer to Credit Builder   \n",
       "1         DD *DOORDASH MCDONALDS   \n",
       "2           CIRCLE K SURPRISE AZ   \n",
       "3      PPD STATE FARM RO 27 SFPP   \n",
       "4    WINCO FOODS 127 SURPRISE AZ   \n",
       "\n",
       "                                            sentence  \\\n",
       "0  Transfer to Credit Builder. Channel: None. Amo...   \n",
       "1  DD *DOORDASH MCDONALDS. Channel: online. Amoun...   \n",
       "2  CIRCLE K SURPRISE AZ. Channel: in store. Amoun...   \n",
       "3  PPD STATE FARM RO 27 SFPP. Channel: online. Am...   \n",
       "4  WINCO FOODS 127 SURPRISE AZ. Channel: in store...   \n",
       "\n",
       "                                           sentence2 payment_channel  \\\n",
       "0  Transfer to Credit Builder. Type: financial_in...           other   \n",
       "1  DD *DOORDASH MCDONALDS. Type: merchant. Channe...          online   \n",
       "2  CIRCLE K SURPRISE AZ. Type: merchant. Channel:...        in store   \n",
       "3  PPD STATE FARM RO 27 SFPP. Type: merchant. Cha...          online   \n",
       "4  WINCO FOODS 127 SURPRISE AZ. Type: merchant. C...        in store   \n",
       "\n",
       "  currency_code  \n",
       "0           USD  \n",
       "1           USD  \n",
       "2           USD  \n",
       "3           USD  \n",
       "4           USD  "
      ]
     },
     "execution_count": 12,
     "metadata": {},
     "output_type": "execute_result"
    }
   ],
   "source": [
    "df_trans.head()"
   ]
  },
  {
   "cell_type": "code",
   "execution_count": 13,
   "metadata": {},
   "outputs": [
    {
     "data": {
      "text/plain": [
       "merchant_name_combined\n",
       "Earnin                  181549\n",
       "Cash App                176072\n",
       "Zelle                   102288\n",
       "Amazon                   77719\n",
       "McDonald''s              70846\n",
       "                         ...  \n",
       "Busy Exchange LLC            1\n",
       "Jb''s Country Store          1\n",
       "Eagle''s Tire Shop 1         1\n",
       "Jersey gyros                 1\n",
       "A&t Burgers                  1\n",
       "Name: count, Length: 324466, dtype: int64"
      ]
     },
     "execution_count": 13,
     "metadata": {},
     "output_type": "execute_result"
    }
   ],
   "source": [
    "df_trans['merchant_name_combined'].value_counts()"
   ]
  },
  {
   "cell_type": "code",
   "execution_count": 14,
   "metadata": {},
   "outputs": [],
   "source": [
    "# Define the maximum number of rows per type\n",
    "max_rows_per_type = 10000\n",
    "\n",
    "# Group by the 'type' column and sample no more than 5000 rows per type\n",
    "sampled_df = df_trans.groupby('merchant_name_combined').apply(lambda x: x.sample(min(len(x), max_rows_per_type))).reset_index(drop=True)\n"
   ]
  },
  {
   "cell_type": "code",
   "execution_count": 15,
   "metadata": {},
   "outputs": [
    {
     "data": {
      "text/plain": [
       "(2501087, 10)"
      ]
     },
     "execution_count": 15,
     "metadata": {},
     "output_type": "execute_result"
    }
   ],
   "source": [
    "sampled_df.shape"
   ]
  },
  {
   "cell_type": "code",
   "execution_count": null,
   "metadata": {},
   "outputs": [],
   "source": []
  }
 ],
 "metadata": {
  "kernelspec": {
   "display_name": "base",
   "language": "python",
   "name": "python3"
  },
  "language_info": {
   "codemirror_mode": {
    "name": "ipython",
    "version": 3
   },
   "file_extension": ".py",
   "mimetype": "text/x-python",
   "name": "python",
   "nbconvert_exporter": "python",
   "pygments_lexer": "ipython3",
   "version": "3.10.14"
  }
 },
 "nbformat": 4,
 "nbformat_minor": 2
}
